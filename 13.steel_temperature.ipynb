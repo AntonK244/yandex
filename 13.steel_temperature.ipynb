{
 "cells": [
  {
   "cell_type": "markdown",
   "metadata": {},
   "source": [
    "# Предсказание температуры стали"
   ]
  },
  {
   "cell_type": "markdown",
   "metadata": {},
   "source": [
    "## Введение\n",
    "\n",
    "`Задача проекта`  \n",
    "Cоздать модель для предсказания температуры стали, для того чтобы оптимизировать производственные расходы и  уменьшить потребление электроэнергии на этапе обработки стали. \n",
    "\n",
    "`Краткое описание этапа обработки стали`  \n",
    "Сталь обрабатывают в металлическом ковше вместимостью около 100 тонн. Чтобы ковш выдерживал высокие температуры, изнутри его облицовывают огнеупорным кирпичом. Расплавленную сталь заливают в ковш и подогревают до нужной температуры графитовыми электродами. Они установлены в крышке ковша.  \n",
    "Из сплава выводится сера (десульфурация), добавлением примесей корректируется химический состав и отбираются пробы. Сталь легируют — изменяют её состав — подавая куски сплава из бункера для сыпучих материалов или проволоку через специальный трайб-аппарат (англ. tribe, «масса»).  \n",
    "Перед тем как первый раз ввести легирующие добавки, измеряют температуру стали и производят её химический анализ. Потом температуру на несколько минут повышают, добавляют легирующие материалы и продувают сплав инертным газом. Затем его перемешивают и снова проводят измерения. Такой цикл повторяется до достижения целевого химического состава и оптимальной температуры плавки.  \n",
    "Тогда расплавленная сталь отправляется на доводку металла или поступает в машину непрерывной разливки. Оттуда готовый продукт выходит в виде заготовок-слябов (англ. *slab*, «плита»).  \n",
    "\n",
    "\n",
    "## Описание данных\n",
    "\n",
    "Данные состоят из файлов, полученных из разных источников:\n",
    "\n",
    "- `data_arc.csv` — данные об электродах;\n",
    "- `data_bulk.csv` — данные о подаче сыпучих материалов (объём);\n",
    "- `data_bulk_time.csv` *—* данные о подаче сыпучих материалов (время);\n",
    "- `data_gas.csv` — данные о продувке сплава газом;\n",
    "- `data_temp.csv` — результаты измерения температуры;\n",
    "- `data_wire.csv` — данные о проволочных материалах (объём);\n",
    "- `data_wire_time.csv` — данные о проволочных материалах (время)."
   ]
  },
  {
   "cell_type": "markdown",
   "metadata": {},
   "source": [
    "## Знакомство с данными"
   ]
  },
  {
   "cell_type": "markdown",
   "metadata": {},
   "source": [
    "Импорт необходимых библиотек"
   ]
  },
  {
   "cell_type": "code",
   "execution_count": 1,
   "metadata": {},
   "outputs": [],
   "source": [
    "# !pip install xgboost\n",
    "# !pip install imblearn\n",
    "# !pip install feature_engine"
   ]
  },
  {
   "cell_type": "code",
   "execution_count": 2,
   "metadata": {},
   "outputs": [],
   "source": [
    "import warnings\n",
    "warnings.filterwarnings('ignore')\n",
    "\n",
    "import pandas as pd\n",
    "import numpy as np\n",
    "import matplotlib.pyplot as plt\n",
    "import seaborn as sns\n",
    "import datetime\n",
    "from datetime import datetime\n",
    "\n",
    "\n",
    "from sklearn.pipeline import Pipeline       \n",
    "from imblearn.pipeline import make_pipeline\n",
    "from sklearn.compose import ColumnTransformer\n",
    "\n",
    "from sklearn.model_selection import train_test_split, RandomizedSearchCV, GridSearchCV\n",
    "from sklearn.impute import SimpleImputer\n",
    "from sklearn.preprocessing import MinMaxScaler, MaxAbsScaler\n",
    "from feature_engine.selection import DropCorrelatedFeatures, DropDuplicateFeatures\n",
    "from sklearn.feature_selection import SelectKBest, mutual_info_regression\n",
    "from sklearn.inspection import permutation_importance\n",
    "\n",
    "from sklearn.dummy import DummyRegressor\n",
    "from sklearn.linear_model import Lasso, LinearRegression, Ridge\n",
    "from catboost import CatBoostRegressor\n",
    "from xgboost import XGBRegressor\n",
    "from sklearn.ensemble import RandomForestRegressor\n",
    "\n",
    "from sklearn.metrics import mean_absolute_error\n",
    "\n",
    "# Зададим параметр случайности\n",
    " "
   ]
  },
  {
   "cell_type": "markdown",
   "metadata": {},
   "source": [
    "Загрузим данные"
   ]
  },
  {
   "cell_type": "code",
   "execution_count": 3,
   "metadata": {
    "scrolled": true
   },
   "outputs": [],
   "source": [
    "try:\n",
    "    data_arc = pd.read_csv(r'C:\\Users\\Anton\\Desktop\\YandexDisk\\Practicum\\мое\\Для правок\\15 Финал\\final_steel\\data_arc_new.csv',\n",
    "                          parse_dates=['Начало нагрева дугой', 'Конец нагрева дугой'])\n",
    "    data_bulk = pd.read_csv(r'C:\\Users\\Anton\\Desktop\\YandexDisk\\Practicum\\мое\\Для правок\\15 Финал\\final_steel\\data_bulk_new.csv')\n",
    "    data_bulk_time = pd.read_csv(r'C:\\Users\\Anton\\Desktop\\YandexDisk\\Practicum\\мое\\Для правок\\15 Финал\\final_steel\\data_bulk_time_new.csv',\n",
    "                                parse_dates=['Bulk ' + str(i) for i in range(1, 16)])\n",
    "    data_gas = pd.read_csv(r'C:\\Users\\Anton\\Desktop\\YandexDisk\\Practicum\\мое\\Для правок\\15 Финал\\final_steel\\data_gas_new.csv')\n",
    "    data_temp = pd.read_csv(r'C:\\Users\\Anton\\Desktop\\YandexDisk\\Practicum\\мое\\Для правок\\15 Финал\\final_steel\\data_temp_new.csv',\n",
    "                           parse_dates=['Время замера'])\n",
    "    data_wire = pd.read_csv(r'C:\\Users\\Anton\\Desktop\\YandexDisk\\Practicum\\мое\\Для правок\\15 Финал\\final_steel\\data_wire_new.csv')\n",
    "    data_wire_time = pd.read_csv(r'C:\\Users\\Anton\\Desktop\\YandexDisk\\Practicum\\мое\\Для правок\\15 Финал\\final_steel\\data_wire_time_new.csv',\n",
    "                                parse_dates=['Wire ' + str(i) for i in range(1, 10)])\n",
    "except:\n",
    "    data_arc = pd.read_csv('/datasets/data_arc_new.csv',\n",
    "                          parse_dates=['Начало нагрева дугой', 'Конец нагрева дугой'])\n",
    "    data_bulk = pd.read_csv('/datasets/data_bulk_new.csv')\n",
    "    data_bulk_time = pd.read_csv('/datasets/data_bulk_time_new.csv',\n",
    "                                parse_dates=['Bulk ' + str(i) for i in range(1, 16)])\n",
    "    data_gas = pd.read_csv('/datasets/data_gas_new.csv')\n",
    "    data_temp = pd.read_csv('/datasets/data_temp_new.csv',\n",
    "                           parse_dates=['Время замера'])\n",
    "    data_wire = pd.read_csv('/datasets/data_wire_new.csv')\n",
    "    data_wire_time = pd.read_csv('/datasets//data_wire_time_new.csv',\n",
    "                                parse_dates=['Wire ' + str(i) for i in range(1, 10)])"
   ]
  },
  {
   "cell_type": "markdown",
   "metadata": {},
   "source": [
    "Посмотрим на загруженные данные"
   ]
  },
  {
   "cell_type": "code",
   "execution_count": 4,
   "metadata": {
    "scrolled": true
   },
   "outputs": [
    {
     "data": {
      "text/plain": [
       "'data_arc — данные об электродах'"
      ]
     },
     "metadata": {},
     "output_type": "display_data"
    },
    {
     "data": {
      "text/html": [
       "<div>\n",
       "<style scoped>\n",
       "    .dataframe tbody tr th:only-of-type {\n",
       "        vertical-align: middle;\n",
       "    }\n",
       "\n",
       "    .dataframe tbody tr th {\n",
       "        vertical-align: top;\n",
       "    }\n",
       "\n",
       "    .dataframe thead th {\n",
       "        text-align: right;\n",
       "    }\n",
       "</style>\n",
       "<table border=\"1\" class=\"dataframe\">\n",
       "  <thead>\n",
       "    <tr style=\"text-align: right;\">\n",
       "      <th></th>\n",
       "      <th>key</th>\n",
       "      <th>Начало нагрева дугой</th>\n",
       "      <th>Конец нагрева дугой</th>\n",
       "      <th>Активная мощность</th>\n",
       "      <th>Реактивная мощность</th>\n",
       "    </tr>\n",
       "  </thead>\n",
       "  <tbody>\n",
       "    <tr>\n",
       "      <th>0</th>\n",
       "      <td>1</td>\n",
       "      <td>2019-05-03 11:02:14</td>\n",
       "      <td>2019-05-03 11:06:02</td>\n",
       "      <td>0.305130</td>\n",
       "      <td>0.211253</td>\n",
       "    </tr>\n",
       "    <tr>\n",
       "      <th>1</th>\n",
       "      <td>1</td>\n",
       "      <td>2019-05-03 11:07:28</td>\n",
       "      <td>2019-05-03 11:10:33</td>\n",
       "      <td>0.765658</td>\n",
       "      <td>0.477438</td>\n",
       "    </tr>\n",
       "    <tr>\n",
       "      <th>2</th>\n",
       "      <td>1</td>\n",
       "      <td>2019-05-03 11:11:44</td>\n",
       "      <td>2019-05-03 11:14:36</td>\n",
       "      <td>0.580313</td>\n",
       "      <td>0.430460</td>\n",
       "    </tr>\n",
       "    <tr>\n",
       "      <th>3</th>\n",
       "      <td>1</td>\n",
       "      <td>2019-05-03 11:18:14</td>\n",
       "      <td>2019-05-03 11:24:19</td>\n",
       "      <td>0.518496</td>\n",
       "      <td>0.379979</td>\n",
       "    </tr>\n",
       "    <tr>\n",
       "      <th>4</th>\n",
       "      <td>1</td>\n",
       "      <td>2019-05-03 11:26:09</td>\n",
       "      <td>2019-05-03 11:28:37</td>\n",
       "      <td>0.867133</td>\n",
       "      <td>0.643691</td>\n",
       "    </tr>\n",
       "  </tbody>\n",
       "</table>\n",
       "</div>"
      ],
      "text/plain": [
       "   key Начало нагрева дугой Конец нагрева дугой  Активная мощность  \\\n",
       "0    1  2019-05-03 11:02:14 2019-05-03 11:06:02           0.305130   \n",
       "1    1  2019-05-03 11:07:28 2019-05-03 11:10:33           0.765658   \n",
       "2    1  2019-05-03 11:11:44 2019-05-03 11:14:36           0.580313   \n",
       "3    1  2019-05-03 11:18:14 2019-05-03 11:24:19           0.518496   \n",
       "4    1  2019-05-03 11:26:09 2019-05-03 11:28:37           0.867133   \n",
       "\n",
       "   Реактивная мощность  \n",
       "0             0.211253  \n",
       "1             0.477438  \n",
       "2             0.430460  \n",
       "3             0.379979  \n",
       "4             0.643691  "
      ]
     },
     "metadata": {},
     "output_type": "display_data"
    },
    {
     "data": {
      "text/plain": [
       "'data_bulk — данные о подаче сыпучих материалов (объём)'"
      ]
     },
     "metadata": {},
     "output_type": "display_data"
    },
    {
     "data": {
      "text/html": [
       "<div>\n",
       "<style scoped>\n",
       "    .dataframe tbody tr th:only-of-type {\n",
       "        vertical-align: middle;\n",
       "    }\n",
       "\n",
       "    .dataframe tbody tr th {\n",
       "        vertical-align: top;\n",
       "    }\n",
       "\n",
       "    .dataframe thead th {\n",
       "        text-align: right;\n",
       "    }\n",
       "</style>\n",
       "<table border=\"1\" class=\"dataframe\">\n",
       "  <thead>\n",
       "    <tr style=\"text-align: right;\">\n",
       "      <th></th>\n",
       "      <th>key</th>\n",
       "      <th>Bulk 1</th>\n",
       "      <th>Bulk 2</th>\n",
       "      <th>Bulk 3</th>\n",
       "      <th>Bulk 4</th>\n",
       "      <th>Bulk 5</th>\n",
       "      <th>Bulk 6</th>\n",
       "      <th>Bulk 7</th>\n",
       "      <th>Bulk 8</th>\n",
       "      <th>Bulk 9</th>\n",
       "      <th>Bulk 10</th>\n",
       "      <th>Bulk 11</th>\n",
       "      <th>Bulk 12</th>\n",
       "      <th>Bulk 13</th>\n",
       "      <th>Bulk 14</th>\n",
       "      <th>Bulk 15</th>\n",
       "    </tr>\n",
       "  </thead>\n",
       "  <tbody>\n",
       "    <tr>\n",
       "      <th>0</th>\n",
       "      <td>1</td>\n",
       "      <td>NaN</td>\n",
       "      <td>NaN</td>\n",
       "      <td>NaN</td>\n",
       "      <td>43.0</td>\n",
       "      <td>NaN</td>\n",
       "      <td>NaN</td>\n",
       "      <td>NaN</td>\n",
       "      <td>NaN</td>\n",
       "      <td>NaN</td>\n",
       "      <td>NaN</td>\n",
       "      <td>NaN</td>\n",
       "      <td>206.0</td>\n",
       "      <td>NaN</td>\n",
       "      <td>150.0</td>\n",
       "      <td>154.0</td>\n",
       "    </tr>\n",
       "    <tr>\n",
       "      <th>1</th>\n",
       "      <td>2</td>\n",
       "      <td>NaN</td>\n",
       "      <td>NaN</td>\n",
       "      <td>NaN</td>\n",
       "      <td>73.0</td>\n",
       "      <td>NaN</td>\n",
       "      <td>NaN</td>\n",
       "      <td>NaN</td>\n",
       "      <td>NaN</td>\n",
       "      <td>NaN</td>\n",
       "      <td>NaN</td>\n",
       "      <td>NaN</td>\n",
       "      <td>206.0</td>\n",
       "      <td>NaN</td>\n",
       "      <td>149.0</td>\n",
       "      <td>154.0</td>\n",
       "    </tr>\n",
       "    <tr>\n",
       "      <th>2</th>\n",
       "      <td>3</td>\n",
       "      <td>NaN</td>\n",
       "      <td>NaN</td>\n",
       "      <td>NaN</td>\n",
       "      <td>34.0</td>\n",
       "      <td>NaN</td>\n",
       "      <td>NaN</td>\n",
       "      <td>NaN</td>\n",
       "      <td>NaN</td>\n",
       "      <td>NaN</td>\n",
       "      <td>NaN</td>\n",
       "      <td>NaN</td>\n",
       "      <td>205.0</td>\n",
       "      <td>NaN</td>\n",
       "      <td>152.0</td>\n",
       "      <td>153.0</td>\n",
       "    </tr>\n",
       "    <tr>\n",
       "      <th>3</th>\n",
       "      <td>4</td>\n",
       "      <td>NaN</td>\n",
       "      <td>NaN</td>\n",
       "      <td>NaN</td>\n",
       "      <td>81.0</td>\n",
       "      <td>NaN</td>\n",
       "      <td>NaN</td>\n",
       "      <td>NaN</td>\n",
       "      <td>NaN</td>\n",
       "      <td>NaN</td>\n",
       "      <td>NaN</td>\n",
       "      <td>NaN</td>\n",
       "      <td>207.0</td>\n",
       "      <td>NaN</td>\n",
       "      <td>153.0</td>\n",
       "      <td>154.0</td>\n",
       "    </tr>\n",
       "    <tr>\n",
       "      <th>4</th>\n",
       "      <td>5</td>\n",
       "      <td>NaN</td>\n",
       "      <td>NaN</td>\n",
       "      <td>NaN</td>\n",
       "      <td>78.0</td>\n",
       "      <td>NaN</td>\n",
       "      <td>NaN</td>\n",
       "      <td>NaN</td>\n",
       "      <td>NaN</td>\n",
       "      <td>NaN</td>\n",
       "      <td>NaN</td>\n",
       "      <td>NaN</td>\n",
       "      <td>203.0</td>\n",
       "      <td>NaN</td>\n",
       "      <td>151.0</td>\n",
       "      <td>152.0</td>\n",
       "    </tr>\n",
       "  </tbody>\n",
       "</table>\n",
       "</div>"
      ],
      "text/plain": [
       "   key  Bulk 1  Bulk 2  Bulk 3  Bulk 4  Bulk 5  Bulk 6  Bulk 7  Bulk 8  \\\n",
       "0    1     NaN     NaN     NaN    43.0     NaN     NaN     NaN     NaN   \n",
       "1    2     NaN     NaN     NaN    73.0     NaN     NaN     NaN     NaN   \n",
       "2    3     NaN     NaN     NaN    34.0     NaN     NaN     NaN     NaN   \n",
       "3    4     NaN     NaN     NaN    81.0     NaN     NaN     NaN     NaN   \n",
       "4    5     NaN     NaN     NaN    78.0     NaN     NaN     NaN     NaN   \n",
       "\n",
       "   Bulk 9  Bulk 10  Bulk 11  Bulk 12  Bulk 13  Bulk 14  Bulk 15  \n",
       "0     NaN      NaN      NaN    206.0      NaN    150.0    154.0  \n",
       "1     NaN      NaN      NaN    206.0      NaN    149.0    154.0  \n",
       "2     NaN      NaN      NaN    205.0      NaN    152.0    153.0  \n",
       "3     NaN      NaN      NaN    207.0      NaN    153.0    154.0  \n",
       "4     NaN      NaN      NaN    203.0      NaN    151.0    152.0  "
      ]
     },
     "metadata": {},
     "output_type": "display_data"
    },
    {
     "data": {
      "text/plain": [
       "'data_bulk_time — данные о подаче сыпучих материалов (время)'"
      ]
     },
     "metadata": {},
     "output_type": "display_data"
    },
    {
     "data": {
      "text/html": [
       "<div>\n",
       "<style scoped>\n",
       "    .dataframe tbody tr th:only-of-type {\n",
       "        vertical-align: middle;\n",
       "    }\n",
       "\n",
       "    .dataframe tbody tr th {\n",
       "        vertical-align: top;\n",
       "    }\n",
       "\n",
       "    .dataframe thead th {\n",
       "        text-align: right;\n",
       "    }\n",
       "</style>\n",
       "<table border=\"1\" class=\"dataframe\">\n",
       "  <thead>\n",
       "    <tr style=\"text-align: right;\">\n",
       "      <th></th>\n",
       "      <th>key</th>\n",
       "      <th>Bulk 1</th>\n",
       "      <th>Bulk 2</th>\n",
       "      <th>Bulk 3</th>\n",
       "      <th>Bulk 4</th>\n",
       "      <th>Bulk 5</th>\n",
       "      <th>Bulk 6</th>\n",
       "      <th>Bulk 7</th>\n",
       "      <th>Bulk 8</th>\n",
       "      <th>Bulk 9</th>\n",
       "      <th>Bulk 10</th>\n",
       "      <th>Bulk 11</th>\n",
       "      <th>Bulk 12</th>\n",
       "      <th>Bulk 13</th>\n",
       "      <th>Bulk 14</th>\n",
       "      <th>Bulk 15</th>\n",
       "    </tr>\n",
       "  </thead>\n",
       "  <tbody>\n",
       "    <tr>\n",
       "      <th>0</th>\n",
       "      <td>1</td>\n",
       "      <td>NaT</td>\n",
       "      <td>NaT</td>\n",
       "      <td>NaT</td>\n",
       "      <td>2019-05-03 11:28:48</td>\n",
       "      <td>NaT</td>\n",
       "      <td>NaT</td>\n",
       "      <td>NaT</td>\n",
       "      <td>NaT</td>\n",
       "      <td>NaT</td>\n",
       "      <td>NaT</td>\n",
       "      <td>NaT</td>\n",
       "      <td>2019-05-03 11:24:31</td>\n",
       "      <td>NaT</td>\n",
       "      <td>2019-05-03 11:14:50</td>\n",
       "      <td>2019-05-03 11:10:43</td>\n",
       "    </tr>\n",
       "    <tr>\n",
       "      <th>1</th>\n",
       "      <td>2</td>\n",
       "      <td>NaT</td>\n",
       "      <td>NaT</td>\n",
       "      <td>NaT</td>\n",
       "      <td>2019-05-03 11:36:50</td>\n",
       "      <td>NaT</td>\n",
       "      <td>NaT</td>\n",
       "      <td>NaT</td>\n",
       "      <td>NaT</td>\n",
       "      <td>NaT</td>\n",
       "      <td>NaT</td>\n",
       "      <td>NaT</td>\n",
       "      <td>2019-05-03 11:53:30</td>\n",
       "      <td>NaT</td>\n",
       "      <td>2019-05-03 11:48:37</td>\n",
       "      <td>2019-05-03 11:44:39</td>\n",
       "    </tr>\n",
       "    <tr>\n",
       "      <th>2</th>\n",
       "      <td>3</td>\n",
       "      <td>NaT</td>\n",
       "      <td>NaT</td>\n",
       "      <td>NaT</td>\n",
       "      <td>2019-05-03 12:32:39</td>\n",
       "      <td>NaT</td>\n",
       "      <td>NaT</td>\n",
       "      <td>NaT</td>\n",
       "      <td>NaT</td>\n",
       "      <td>NaT</td>\n",
       "      <td>NaT</td>\n",
       "      <td>NaT</td>\n",
       "      <td>2019-05-03 12:27:13</td>\n",
       "      <td>NaT</td>\n",
       "      <td>2019-05-03 12:21:01</td>\n",
       "      <td>2019-05-03 12:16:16</td>\n",
       "    </tr>\n",
       "    <tr>\n",
       "      <th>3</th>\n",
       "      <td>4</td>\n",
       "      <td>NaT</td>\n",
       "      <td>NaT</td>\n",
       "      <td>NaT</td>\n",
       "      <td>2019-05-03 12:43:22</td>\n",
       "      <td>NaT</td>\n",
       "      <td>NaT</td>\n",
       "      <td>NaT</td>\n",
       "      <td>NaT</td>\n",
       "      <td>NaT</td>\n",
       "      <td>NaT</td>\n",
       "      <td>NaT</td>\n",
       "      <td>2019-05-03 12:58:00</td>\n",
       "      <td>NaT</td>\n",
       "      <td>2019-05-03 12:51:11</td>\n",
       "      <td>2019-05-03 12:46:36</td>\n",
       "    </tr>\n",
       "    <tr>\n",
       "      <th>4</th>\n",
       "      <td>5</td>\n",
       "      <td>NaT</td>\n",
       "      <td>NaT</td>\n",
       "      <td>NaT</td>\n",
       "      <td>2019-05-03 13:30:47</td>\n",
       "      <td>NaT</td>\n",
       "      <td>NaT</td>\n",
       "      <td>NaT</td>\n",
       "      <td>NaT</td>\n",
       "      <td>NaT</td>\n",
       "      <td>NaT</td>\n",
       "      <td>NaT</td>\n",
       "      <td>2019-05-03 13:30:47</td>\n",
       "      <td>NaT</td>\n",
       "      <td>2019-05-03 13:34:12</td>\n",
       "      <td>2019-05-03 13:30:47</td>\n",
       "    </tr>\n",
       "  </tbody>\n",
       "</table>\n",
       "</div>"
      ],
      "text/plain": [
       "   key Bulk 1 Bulk 2 Bulk 3              Bulk 4 Bulk 5 Bulk 6 Bulk 7 Bulk 8  \\\n",
       "0    1    NaT    NaT    NaT 2019-05-03 11:28:48    NaT    NaT    NaT    NaT   \n",
       "1    2    NaT    NaT    NaT 2019-05-03 11:36:50    NaT    NaT    NaT    NaT   \n",
       "2    3    NaT    NaT    NaT 2019-05-03 12:32:39    NaT    NaT    NaT    NaT   \n",
       "3    4    NaT    NaT    NaT 2019-05-03 12:43:22    NaT    NaT    NaT    NaT   \n",
       "4    5    NaT    NaT    NaT 2019-05-03 13:30:47    NaT    NaT    NaT    NaT   \n",
       "\n",
       "  Bulk 9 Bulk 10 Bulk 11             Bulk 12 Bulk 13             Bulk 14  \\\n",
       "0    NaT     NaT     NaT 2019-05-03 11:24:31     NaT 2019-05-03 11:14:50   \n",
       "1    NaT     NaT     NaT 2019-05-03 11:53:30     NaT 2019-05-03 11:48:37   \n",
       "2    NaT     NaT     NaT 2019-05-03 12:27:13     NaT 2019-05-03 12:21:01   \n",
       "3    NaT     NaT     NaT 2019-05-03 12:58:00     NaT 2019-05-03 12:51:11   \n",
       "4    NaT     NaT     NaT 2019-05-03 13:30:47     NaT 2019-05-03 13:34:12   \n",
       "\n",
       "              Bulk 15  \n",
       "0 2019-05-03 11:10:43  \n",
       "1 2019-05-03 11:44:39  \n",
       "2 2019-05-03 12:16:16  \n",
       "3 2019-05-03 12:46:36  \n",
       "4 2019-05-03 13:30:47  "
      ]
     },
     "metadata": {},
     "output_type": "display_data"
    },
    {
     "data": {
      "text/plain": [
       "'data_gas — данные о продувке сплава газом'"
      ]
     },
     "metadata": {},
     "output_type": "display_data"
    },
    {
     "data": {
      "text/html": [
       "<div>\n",
       "<style scoped>\n",
       "    .dataframe tbody tr th:only-of-type {\n",
       "        vertical-align: middle;\n",
       "    }\n",
       "\n",
       "    .dataframe tbody tr th {\n",
       "        vertical-align: top;\n",
       "    }\n",
       "\n",
       "    .dataframe thead th {\n",
       "        text-align: right;\n",
       "    }\n",
       "</style>\n",
       "<table border=\"1\" class=\"dataframe\">\n",
       "  <thead>\n",
       "    <tr style=\"text-align: right;\">\n",
       "      <th></th>\n",
       "      <th>key</th>\n",
       "      <th>Газ 1</th>\n",
       "    </tr>\n",
       "  </thead>\n",
       "  <tbody>\n",
       "    <tr>\n",
       "      <th>0</th>\n",
       "      <td>1</td>\n",
       "      <td>29.749986</td>\n",
       "    </tr>\n",
       "    <tr>\n",
       "      <th>1</th>\n",
       "      <td>2</td>\n",
       "      <td>12.555561</td>\n",
       "    </tr>\n",
       "    <tr>\n",
       "      <th>2</th>\n",
       "      <td>3</td>\n",
       "      <td>28.554793</td>\n",
       "    </tr>\n",
       "    <tr>\n",
       "      <th>3</th>\n",
       "      <td>4</td>\n",
       "      <td>18.841219</td>\n",
       "    </tr>\n",
       "    <tr>\n",
       "      <th>4</th>\n",
       "      <td>5</td>\n",
       "      <td>5.413692</td>\n",
       "    </tr>\n",
       "  </tbody>\n",
       "</table>\n",
       "</div>"
      ],
      "text/plain": [
       "   key      Газ 1\n",
       "0    1  29.749986\n",
       "1    2  12.555561\n",
       "2    3  28.554793\n",
       "3    4  18.841219\n",
       "4    5   5.413692"
      ]
     },
     "metadata": {},
     "output_type": "display_data"
    },
    {
     "data": {
      "text/plain": [
       "'data_temp — результаты измерения температуры'"
      ]
     },
     "metadata": {},
     "output_type": "display_data"
    },
    {
     "data": {
      "text/html": [
       "<div>\n",
       "<style scoped>\n",
       "    .dataframe tbody tr th:only-of-type {\n",
       "        vertical-align: middle;\n",
       "    }\n",
       "\n",
       "    .dataframe tbody tr th {\n",
       "        vertical-align: top;\n",
       "    }\n",
       "\n",
       "    .dataframe thead th {\n",
       "        text-align: right;\n",
       "    }\n",
       "</style>\n",
       "<table border=\"1\" class=\"dataframe\">\n",
       "  <thead>\n",
       "    <tr style=\"text-align: right;\">\n",
       "      <th></th>\n",
       "      <th>key</th>\n",
       "      <th>Время замера</th>\n",
       "      <th>Температура</th>\n",
       "    </tr>\n",
       "  </thead>\n",
       "  <tbody>\n",
       "    <tr>\n",
       "      <th>0</th>\n",
       "      <td>1</td>\n",
       "      <td>2019-05-03 11:02:04</td>\n",
       "      <td>1571.0</td>\n",
       "    </tr>\n",
       "    <tr>\n",
       "      <th>1</th>\n",
       "      <td>1</td>\n",
       "      <td>2019-05-03 11:07:18</td>\n",
       "      <td>1604.0</td>\n",
       "    </tr>\n",
       "    <tr>\n",
       "      <th>2</th>\n",
       "      <td>1</td>\n",
       "      <td>2019-05-03 11:11:34</td>\n",
       "      <td>1618.0</td>\n",
       "    </tr>\n",
       "    <tr>\n",
       "      <th>3</th>\n",
       "      <td>1</td>\n",
       "      <td>2019-05-03 11:18:04</td>\n",
       "      <td>1601.0</td>\n",
       "    </tr>\n",
       "    <tr>\n",
       "      <th>4</th>\n",
       "      <td>1</td>\n",
       "      <td>2019-05-03 11:25:59</td>\n",
       "      <td>1606.0</td>\n",
       "    </tr>\n",
       "  </tbody>\n",
       "</table>\n",
       "</div>"
      ],
      "text/plain": [
       "   key        Время замера  Температура\n",
       "0    1 2019-05-03 11:02:04       1571.0\n",
       "1    1 2019-05-03 11:07:18       1604.0\n",
       "2    1 2019-05-03 11:11:34       1618.0\n",
       "3    1 2019-05-03 11:18:04       1601.0\n",
       "4    1 2019-05-03 11:25:59       1606.0"
      ]
     },
     "metadata": {},
     "output_type": "display_data"
    },
    {
     "data": {
      "text/plain": [
       "'data_wire — данные о проволочных материалах (объём)'"
      ]
     },
     "metadata": {},
     "output_type": "display_data"
    },
    {
     "data": {
      "text/html": [
       "<div>\n",
       "<style scoped>\n",
       "    .dataframe tbody tr th:only-of-type {\n",
       "        vertical-align: middle;\n",
       "    }\n",
       "\n",
       "    .dataframe tbody tr th {\n",
       "        vertical-align: top;\n",
       "    }\n",
       "\n",
       "    .dataframe thead th {\n",
       "        text-align: right;\n",
       "    }\n",
       "</style>\n",
       "<table border=\"1\" class=\"dataframe\">\n",
       "  <thead>\n",
       "    <tr style=\"text-align: right;\">\n",
       "      <th></th>\n",
       "      <th>key</th>\n",
       "      <th>Wire 1</th>\n",
       "      <th>Wire 2</th>\n",
       "      <th>Wire 3</th>\n",
       "      <th>Wire 4</th>\n",
       "      <th>Wire 5</th>\n",
       "      <th>Wire 6</th>\n",
       "      <th>Wire 7</th>\n",
       "      <th>Wire 8</th>\n",
       "      <th>Wire 9</th>\n",
       "    </tr>\n",
       "  </thead>\n",
       "  <tbody>\n",
       "    <tr>\n",
       "      <th>0</th>\n",
       "      <td>1</td>\n",
       "      <td>60.059998</td>\n",
       "      <td>NaN</td>\n",
       "      <td>NaN</td>\n",
       "      <td>NaN</td>\n",
       "      <td>NaN</td>\n",
       "      <td>NaN</td>\n",
       "      <td>NaN</td>\n",
       "      <td>NaN</td>\n",
       "      <td>NaN</td>\n",
       "    </tr>\n",
       "    <tr>\n",
       "      <th>1</th>\n",
       "      <td>2</td>\n",
       "      <td>96.052315</td>\n",
       "      <td>NaN</td>\n",
       "      <td>NaN</td>\n",
       "      <td>NaN</td>\n",
       "      <td>NaN</td>\n",
       "      <td>NaN</td>\n",
       "      <td>NaN</td>\n",
       "      <td>NaN</td>\n",
       "      <td>NaN</td>\n",
       "    </tr>\n",
       "    <tr>\n",
       "      <th>2</th>\n",
       "      <td>3</td>\n",
       "      <td>91.160157</td>\n",
       "      <td>NaN</td>\n",
       "      <td>NaN</td>\n",
       "      <td>NaN</td>\n",
       "      <td>NaN</td>\n",
       "      <td>NaN</td>\n",
       "      <td>NaN</td>\n",
       "      <td>NaN</td>\n",
       "      <td>NaN</td>\n",
       "    </tr>\n",
       "    <tr>\n",
       "      <th>3</th>\n",
       "      <td>4</td>\n",
       "      <td>89.063515</td>\n",
       "      <td>NaN</td>\n",
       "      <td>NaN</td>\n",
       "      <td>NaN</td>\n",
       "      <td>NaN</td>\n",
       "      <td>NaN</td>\n",
       "      <td>NaN</td>\n",
       "      <td>NaN</td>\n",
       "      <td>NaN</td>\n",
       "    </tr>\n",
       "    <tr>\n",
       "      <th>4</th>\n",
       "      <td>5</td>\n",
       "      <td>89.238236</td>\n",
       "      <td>9.11456</td>\n",
       "      <td>NaN</td>\n",
       "      <td>NaN</td>\n",
       "      <td>NaN</td>\n",
       "      <td>NaN</td>\n",
       "      <td>NaN</td>\n",
       "      <td>NaN</td>\n",
       "      <td>NaN</td>\n",
       "    </tr>\n",
       "  </tbody>\n",
       "</table>\n",
       "</div>"
      ],
      "text/plain": [
       "   key     Wire 1   Wire 2  Wire 3  Wire 4  Wire 5  Wire 6  Wire 7  Wire 8  \\\n",
       "0    1  60.059998      NaN     NaN     NaN     NaN     NaN     NaN     NaN   \n",
       "1    2  96.052315      NaN     NaN     NaN     NaN     NaN     NaN     NaN   \n",
       "2    3  91.160157      NaN     NaN     NaN     NaN     NaN     NaN     NaN   \n",
       "3    4  89.063515      NaN     NaN     NaN     NaN     NaN     NaN     NaN   \n",
       "4    5  89.238236  9.11456     NaN     NaN     NaN     NaN     NaN     NaN   \n",
       "\n",
       "   Wire 9  \n",
       "0     NaN  \n",
       "1     NaN  \n",
       "2     NaN  \n",
       "3     NaN  \n",
       "4     NaN  "
      ]
     },
     "metadata": {},
     "output_type": "display_data"
    },
    {
     "data": {
      "text/plain": [
       "'data_wire_time — данные о проволочных материалах (время)'"
      ]
     },
     "metadata": {},
     "output_type": "display_data"
    },
    {
     "data": {
      "text/html": [
       "<div>\n",
       "<style scoped>\n",
       "    .dataframe tbody tr th:only-of-type {\n",
       "        vertical-align: middle;\n",
       "    }\n",
       "\n",
       "    .dataframe tbody tr th {\n",
       "        vertical-align: top;\n",
       "    }\n",
       "\n",
       "    .dataframe thead th {\n",
       "        text-align: right;\n",
       "    }\n",
       "</style>\n",
       "<table border=\"1\" class=\"dataframe\">\n",
       "  <thead>\n",
       "    <tr style=\"text-align: right;\">\n",
       "      <th></th>\n",
       "      <th>key</th>\n",
       "      <th>Wire 1</th>\n",
       "      <th>Wire 2</th>\n",
       "      <th>Wire 3</th>\n",
       "      <th>Wire 4</th>\n",
       "      <th>Wire 5</th>\n",
       "      <th>Wire 6</th>\n",
       "      <th>Wire 7</th>\n",
       "      <th>Wire 8</th>\n",
       "      <th>Wire 9</th>\n",
       "    </tr>\n",
       "  </thead>\n",
       "  <tbody>\n",
       "    <tr>\n",
       "      <th>0</th>\n",
       "      <td>1</td>\n",
       "      <td>2019-05-03 11:06:19</td>\n",
       "      <td>NaT</td>\n",
       "      <td>NaT</td>\n",
       "      <td>NaT</td>\n",
       "      <td>NaT</td>\n",
       "      <td>NaT</td>\n",
       "      <td>NaT</td>\n",
       "      <td>NaT</td>\n",
       "      <td>NaT</td>\n",
       "    </tr>\n",
       "    <tr>\n",
       "      <th>1</th>\n",
       "      <td>2</td>\n",
       "      <td>2019-05-03 11:36:50</td>\n",
       "      <td>NaT</td>\n",
       "      <td>NaT</td>\n",
       "      <td>NaT</td>\n",
       "      <td>NaT</td>\n",
       "      <td>NaT</td>\n",
       "      <td>NaT</td>\n",
       "      <td>NaT</td>\n",
       "      <td>NaT</td>\n",
       "    </tr>\n",
       "    <tr>\n",
       "      <th>2</th>\n",
       "      <td>3</td>\n",
       "      <td>2019-05-03 12:11:46</td>\n",
       "      <td>NaT</td>\n",
       "      <td>NaT</td>\n",
       "      <td>NaT</td>\n",
       "      <td>NaT</td>\n",
       "      <td>NaT</td>\n",
       "      <td>NaT</td>\n",
       "      <td>NaT</td>\n",
       "      <td>NaT</td>\n",
       "    </tr>\n",
       "    <tr>\n",
       "      <th>3</th>\n",
       "      <td>4</td>\n",
       "      <td>2019-05-03 12:43:22</td>\n",
       "      <td>NaT</td>\n",
       "      <td>NaT</td>\n",
       "      <td>NaT</td>\n",
       "      <td>NaT</td>\n",
       "      <td>NaT</td>\n",
       "      <td>NaT</td>\n",
       "      <td>NaT</td>\n",
       "      <td>NaT</td>\n",
       "    </tr>\n",
       "    <tr>\n",
       "      <th>4</th>\n",
       "      <td>5</td>\n",
       "      <td>2019-05-03 13:20:44</td>\n",
       "      <td>2019-05-03 13:15:34</td>\n",
       "      <td>NaT</td>\n",
       "      <td>NaT</td>\n",
       "      <td>NaT</td>\n",
       "      <td>NaT</td>\n",
       "      <td>NaT</td>\n",
       "      <td>NaT</td>\n",
       "      <td>NaT</td>\n",
       "    </tr>\n",
       "  </tbody>\n",
       "</table>\n",
       "</div>"
      ],
      "text/plain": [
       "   key              Wire 1              Wire 2 Wire 3 Wire 4 Wire 5 Wire 6  \\\n",
       "0    1 2019-05-03 11:06:19                 NaT    NaT    NaT    NaT    NaT   \n",
       "1    2 2019-05-03 11:36:50                 NaT    NaT    NaT    NaT    NaT   \n",
       "2    3 2019-05-03 12:11:46                 NaT    NaT    NaT    NaT    NaT   \n",
       "3    4 2019-05-03 12:43:22                 NaT    NaT    NaT    NaT    NaT   \n",
       "4    5 2019-05-03 13:20:44 2019-05-03 13:15:34    NaT    NaT    NaT    NaT   \n",
       "\n",
       "  Wire 7 Wire 8 Wire 9  \n",
       "0    NaT    NaT    NaT  \n",
       "1    NaT    NaT    NaT  \n",
       "2    NaT    NaT    NaT  \n",
       "3    NaT    NaT    NaT  \n",
       "4    NaT    NaT    NaT  "
      ]
     },
     "metadata": {},
     "output_type": "display_data"
    }
   ],
   "source": [
    "display('data_arc — данные об электродах', data_arc.head())\n",
    "display('data_bulk — данные о подаче сыпучих материалов (объём)', data_bulk.head())\n",
    "display('data_bulk_time — данные о подаче сыпучих материалов (время)', data_bulk_time.head())\n",
    "display('data_gas — данные о продувке сплава газом', data_gas.head())\n",
    "display('data_temp — результаты измерения температуры', data_temp.head())\n",
    "display('data_wire — данные о проволочных материалах (объём)', data_wire.head())\n",
    "display('data_wire_time — данные о проволочных материалах (время)', data_wire_time.head())"
   ]
  },
  {
   "cell_type": "markdown",
   "metadata": {},
   "source": [
    "Для более удобного использования напишем функцию перевода названия столбцов к змеиному регистру"
   ]
  },
  {
   "cell_type": "code",
   "execution_count": 5,
   "metadata": {},
   "outputs": [],
   "source": [
    "def snake_case(str):\n",
    "    return ('_'.join(str.split())).lower()"
   ]
  },
  {
   "cell_type": "code",
   "execution_count": 6,
   "metadata": {},
   "outputs": [],
   "source": [
    "data_arc.columns = [snake_case(i) for i in data_arc.columns]\n",
    "data_bulk.columns = [snake_case(i) for i in data_bulk.columns]\n",
    "data_bulk_time.columns = [snake_case(i) for i in data_bulk_time.columns]\n",
    "data_gas.columns = [snake_case(i) for i in data_gas.columns]\n",
    "data_temp.columns = [snake_case(i) for i in data_temp.columns]\n",
    "data_wire.columns = [snake_case(i) for i in data_wire.columns]\n",
    "data_wire_time.columns = [snake_case(i) for i in data_wire_time.columns]"
   ]
  },
  {
   "cell_type": "markdown",
   "metadata": {},
   "source": [
    "Проверим преобразование"
   ]
  },
  {
   "cell_type": "code",
   "execution_count": 7,
   "metadata": {},
   "outputs": [
    {
     "data": {
      "text/plain": [
       "Index(['key', 'время_замера', 'температура'], dtype='object')"
      ]
     },
     "execution_count": 7,
     "metadata": {},
     "output_type": "execute_result"
    }
   ],
   "source": [
    "data_temp.columns"
   ]
  },
  {
   "cell_type": "markdown",
   "metadata": {},
   "source": [
    "### data_arc — данные об электродах"
   ]
  },
  {
   "cell_type": "code",
   "execution_count": 8,
   "metadata": {},
   "outputs": [
    {
     "data": {
      "text/html": [
       "<div>\n",
       "<style scoped>\n",
       "    .dataframe tbody tr th:only-of-type {\n",
       "        vertical-align: middle;\n",
       "    }\n",
       "\n",
       "    .dataframe tbody tr th {\n",
       "        vertical-align: top;\n",
       "    }\n",
       "\n",
       "    .dataframe thead th {\n",
       "        text-align: right;\n",
       "    }\n",
       "</style>\n",
       "<table border=\"1\" class=\"dataframe\">\n",
       "  <thead>\n",
       "    <tr style=\"text-align: right;\">\n",
       "      <th></th>\n",
       "      <th>key</th>\n",
       "      <th>начало_нагрева_дугой</th>\n",
       "      <th>конец_нагрева_дугой</th>\n",
       "      <th>активная_мощность</th>\n",
       "      <th>реактивная_мощность</th>\n",
       "    </tr>\n",
       "  </thead>\n",
       "  <tbody>\n",
       "    <tr>\n",
       "      <th>0</th>\n",
       "      <td>1</td>\n",
       "      <td>2019-05-03 11:02:14</td>\n",
       "      <td>2019-05-03 11:06:02</td>\n",
       "      <td>0.305130</td>\n",
       "      <td>0.211253</td>\n",
       "    </tr>\n",
       "    <tr>\n",
       "      <th>1</th>\n",
       "      <td>1</td>\n",
       "      <td>2019-05-03 11:07:28</td>\n",
       "      <td>2019-05-03 11:10:33</td>\n",
       "      <td>0.765658</td>\n",
       "      <td>0.477438</td>\n",
       "    </tr>\n",
       "    <tr>\n",
       "      <th>2</th>\n",
       "      <td>1</td>\n",
       "      <td>2019-05-03 11:11:44</td>\n",
       "      <td>2019-05-03 11:14:36</td>\n",
       "      <td>0.580313</td>\n",
       "      <td>0.430460</td>\n",
       "    </tr>\n",
       "    <tr>\n",
       "      <th>3</th>\n",
       "      <td>1</td>\n",
       "      <td>2019-05-03 11:18:14</td>\n",
       "      <td>2019-05-03 11:24:19</td>\n",
       "      <td>0.518496</td>\n",
       "      <td>0.379979</td>\n",
       "    </tr>\n",
       "    <tr>\n",
       "      <th>4</th>\n",
       "      <td>1</td>\n",
       "      <td>2019-05-03 11:26:09</td>\n",
       "      <td>2019-05-03 11:28:37</td>\n",
       "      <td>0.867133</td>\n",
       "      <td>0.643691</td>\n",
       "    </tr>\n",
       "  </tbody>\n",
       "</table>\n",
       "</div>"
      ],
      "text/plain": [
       "   key начало_нагрева_дугой конец_нагрева_дугой  активная_мощность  \\\n",
       "0    1  2019-05-03 11:02:14 2019-05-03 11:06:02           0.305130   \n",
       "1    1  2019-05-03 11:07:28 2019-05-03 11:10:33           0.765658   \n",
       "2    1  2019-05-03 11:11:44 2019-05-03 11:14:36           0.580313   \n",
       "3    1  2019-05-03 11:18:14 2019-05-03 11:24:19           0.518496   \n",
       "4    1  2019-05-03 11:26:09 2019-05-03 11:28:37           0.867133   \n",
       "\n",
       "   реактивная_мощность  \n",
       "0             0.211253  \n",
       "1             0.477438  \n",
       "2             0.430460  \n",
       "3             0.379979  \n",
       "4             0.643691  "
      ]
     },
     "execution_count": 8,
     "metadata": {},
     "output_type": "execute_result"
    }
   ],
   "source": [
    "data_arc.head()"
   ]
  },
  {
   "cell_type": "code",
   "execution_count": 9,
   "metadata": {
    "scrolled": true
   },
   "outputs": [
    {
     "name": "stdout",
     "output_type": "stream",
     "text": [
      "<class 'pandas.core.frame.DataFrame'>\n",
      "RangeIndex: 14876 entries, 0 to 14875\n",
      "Data columns (total 5 columns):\n",
      " #   Column                Non-Null Count  Dtype         \n",
      "---  ------                --------------  -----         \n",
      " 0   key                   14876 non-null  int64         \n",
      " 1   начало_нагрева_дугой  14876 non-null  datetime64[ns]\n",
      " 2   конец_нагрева_дугой   14876 non-null  datetime64[ns]\n",
      " 3   активная_мощность     14876 non-null  float64       \n",
      " 4   реактивная_мощность   14876 non-null  float64       \n",
      "dtypes: datetime64[ns](2), float64(2), int64(1)\n",
      "memory usage: 581.2 KB\n"
     ]
    }
   ],
   "source": [
    "data_arc.info()"
   ]
  },
  {
   "cell_type": "code",
   "execution_count": 10,
   "metadata": {},
   "outputs": [
    {
     "data": {
      "text/html": [
       "<div>\n",
       "<style scoped>\n",
       "    .dataframe tbody tr th:only-of-type {\n",
       "        vertical-align: middle;\n",
       "    }\n",
       "\n",
       "    .dataframe tbody tr th {\n",
       "        vertical-align: top;\n",
       "    }\n",
       "\n",
       "    .dataframe thead th {\n",
       "        text-align: right;\n",
       "    }\n",
       "</style>\n",
       "<table border=\"1\" class=\"dataframe\">\n",
       "  <thead>\n",
       "    <tr style=\"text-align: right;\">\n",
       "      <th></th>\n",
       "      <th>key</th>\n",
       "      <th>активная_мощность</th>\n",
       "      <th>реактивная_мощность</th>\n",
       "    </tr>\n",
       "  </thead>\n",
       "  <tbody>\n",
       "    <tr>\n",
       "      <th>count</th>\n",
       "      <td>14876.000000</td>\n",
       "      <td>14876.000000</td>\n",
       "      <td>14876.000000</td>\n",
       "    </tr>\n",
       "    <tr>\n",
       "      <th>mean</th>\n",
       "      <td>1615.220422</td>\n",
       "      <td>0.662752</td>\n",
       "      <td>0.438986</td>\n",
       "    </tr>\n",
       "    <tr>\n",
       "      <th>std</th>\n",
       "      <td>934.571502</td>\n",
       "      <td>0.258885</td>\n",
       "      <td>5.873485</td>\n",
       "    </tr>\n",
       "    <tr>\n",
       "      <th>min</th>\n",
       "      <td>1.000000</td>\n",
       "      <td>0.223120</td>\n",
       "      <td>-715.479924</td>\n",
       "    </tr>\n",
       "    <tr>\n",
       "      <th>25%</th>\n",
       "      <td>806.000000</td>\n",
       "      <td>0.467115</td>\n",
       "      <td>0.337175</td>\n",
       "    </tr>\n",
       "    <tr>\n",
       "      <th>50%</th>\n",
       "      <td>1617.000000</td>\n",
       "      <td>0.599587</td>\n",
       "      <td>0.441639</td>\n",
       "    </tr>\n",
       "    <tr>\n",
       "      <th>75%</th>\n",
       "      <td>2429.000000</td>\n",
       "      <td>0.830070</td>\n",
       "      <td>0.608201</td>\n",
       "    </tr>\n",
       "    <tr>\n",
       "      <th>max</th>\n",
       "      <td>3241.000000</td>\n",
       "      <td>1.463773</td>\n",
       "      <td>1.270284</td>\n",
       "    </tr>\n",
       "  </tbody>\n",
       "</table>\n",
       "</div>"
      ],
      "text/plain": [
       "                key  активная_мощность  реактивная_мощность\n",
       "count  14876.000000       14876.000000         14876.000000\n",
       "mean    1615.220422           0.662752             0.438986\n",
       "std      934.571502           0.258885             5.873485\n",
       "min        1.000000           0.223120          -715.479924\n",
       "25%      806.000000           0.467115             0.337175\n",
       "50%     1617.000000           0.599587             0.441639\n",
       "75%     2429.000000           0.830070             0.608201\n",
       "max     3241.000000           1.463773             1.270284"
      ]
     },
     "execution_count": 10,
     "metadata": {},
     "output_type": "execute_result"
    }
   ],
   "source": [
    "data_arc.describe()"
   ]
  },
  {
   "cell_type": "code",
   "execution_count": 11,
   "metadata": {
    "scrolled": true
   },
   "outputs": [
    {
     "name": "stdout",
     "output_type": "stream",
     "text": [
      "Всего уникальных key-значений (партий):  3214\n"
     ]
    }
   ],
   "source": [
    "print('Всего уникальных key-значений (партий): ', data_arc.key.nunique())"
   ]
  },
  {
   "cell_type": "markdown",
   "metadata": {},
   "source": [
    "Посмотрим на графики распределения"
   ]
  },
  {
   "cell_type": "code",
   "execution_count": 12,
   "metadata": {},
   "outputs": [
    {
     "data": {
      "image/png": "[encoded data removed]",
      "text/plain": [
       "<Figure size 1200x500 with 2 Axes>"
      ]
     },
     "metadata": {},
     "output_type": "display_data"
    }
   ],
   "source": [
    "plt.figure(figsize=(12, 5))\n",
    "plt.subplot(311)\n",
    "data_arc['начало_нагрева_дугой'].hist(bins=500)\n",
    "plt.subplot(312)\n",
    "data_arc['конец_нагрева_дугой'].hist(bins=500);"
   ]
  },
  {
   "cell_type": "markdown",
   "metadata": {},
   "source": [
    "Видно как в первой половине июля тех процесс стоял, возможно это был плановый ремонт какого либо оборудования."
   ]
  },
  {
   "cell_type": "code",
   "execution_count": 13,
   "metadata": {},
   "outputs": [
    {
     "data": {
      "image/png": "[encoded data removed]",
      "text/plain": [
       "<Figure size 500x500 with 6 Axes>"
      ]
     },
     "metadata": {},
     "output_type": "display_data"
    }
   ],
   "source": [
    "sns.pairplot(data_arc.drop('key', axis=1));"
   ]
  },
  {
   "cell_type": "markdown",
   "metadata": {},
   "source": [
    "Видна аномальная реактивная мощность -715 при медиане 0.41."
   ]
  },
  {
   "cell_type": "code",
   "execution_count": 14,
   "metadata": {},
   "outputs": [
    {
     "data": {
      "text/html": [
       "<div>\n",
       "<style scoped>\n",
       "    .dataframe tbody tr th:only-of-type {\n",
       "        vertical-align: middle;\n",
       "    }\n",
       "\n",
       "    .dataframe tbody tr th {\n",
       "        vertical-align: top;\n",
       "    }\n",
       "\n",
       "    .dataframe thead th {\n",
       "        text-align: right;\n",
       "    }\n",
       "</style>\n",
       "<table border=\"1\" class=\"dataframe\">\n",
       "  <thead>\n",
       "    <tr style=\"text-align: right;\">\n",
       "      <th></th>\n",
       "      <th>key</th>\n",
       "      <th>начало_нагрева_дугой</th>\n",
       "      <th>конец_нагрева_дугой</th>\n",
       "      <th>активная_мощность</th>\n",
       "      <th>реактивная_мощность</th>\n",
       "    </tr>\n",
       "  </thead>\n",
       "  <tbody>\n",
       "    <tr>\n",
       "      <th>9780</th>\n",
       "      <td>2116</td>\n",
       "      <td>2019-07-28 02:22:08</td>\n",
       "      <td>2019-07-28 02:23:57</td>\n",
       "      <td>0.705344</td>\n",
       "      <td>-715.479924</td>\n",
       "    </tr>\n",
       "  </tbody>\n",
       "</table>\n",
       "</div>"
      ],
      "text/plain": [
       "       key начало_нагрева_дугой конец_нагрева_дугой  активная_мощность  \\\n",
       "9780  2116  2019-07-28 02:22:08 2019-07-28 02:23:57           0.705344   \n",
       "\n",
       "      реактивная_мощность  \n",
       "9780          -715.479924  "
      ]
     },
     "execution_count": 14,
     "metadata": {},
     "output_type": "execute_result"
    }
   ],
   "source": [
    "data_arc[data_arc['реактивная_мощность'] < 0]"
   ]
  },
  {
   "cell_type": "markdown",
   "metadata": {},
   "source": [
    "Видим одинокий выброс отрицательной реактивной мощности. Такая \"большая\" реактивная мощность при \"небольшой, адекватной\" активной мощности - это явный признак неправильного замера. \n",
    "\n",
    "\n",
    "Значит воспринимаем это как выброс и удалим эту партию."
   ]
  },
  {
   "cell_type": "code",
   "execution_count": 15,
   "metadata": {},
   "outputs": [],
   "source": [
    "data_arc = data_arc[data_arc['key'] != 2116]"
   ]
  },
  {
   "cell_type": "code",
   "execution_count": 16,
   "metadata": {},
   "outputs": [
    {
     "data": {
      "image/png": "[encoded data removed]",
      "text/plain": [
       "<Figure size 500x500 with 6 Axes>"
      ]
     },
     "metadata": {},
     "output_type": "display_data"
    }
   ],
   "source": [
    "sns.pairplot(data_arc.drop('key', axis=1));"
   ]
  },
  {
   "cell_type": "markdown",
   "metadata": {},
   "source": [
    "Реактивная мощность не выполняет полезной нагрузки. Она необходима для создания электромагнитного поля. Поэтому можно попробовать обойтись без нее, тем более модели не любят коррелирующих признаков. Посмотрим на косинус угла нагрузки, расчитанный по формуле $P/(\\sqrt{P^2 + Q^2})$"
   ]
  },
  {
   "cell_type": "code",
   "execution_count": 17,
   "metadata": {},
   "outputs": [
    {
     "data": {
      "image/png": "[encoded data removed]",
      "text/plain": [
       "<Figure size 640x480 with 1 Axes>"
      ]
     },
     "metadata": {},
     "output_type": "display_data"
    }
   ],
   "source": [
    "(data_arc['активная_мощность'] / np.sqrt(data_arc['активная_мощность']**2 + data_arc['реактивная_мощность']**2)).plot();"
   ]
  },
  {
   "cell_type": "markdown",
   "metadata": {},
   "source": [
    "Косинус угла нагрузки - отношение активной мощности к полной (корню суммы квадратов активной и реактивной). На графике он скачет от 0.72 до 0.85. Физически он показывает, какая часть полной мощности идет на совершение полезной работы (в нашем случае – на преобразование в тепло), а какая – на поддержание работоспособности самого устройства. Можно предположить что измерение мощности происходило, не непосредственно на нагревательной установке, а выше по сети (нагрузка неоднородна). Поэтому исключать реактивную составляющую не будем, а добавим в таблицу для модели расчетное значение полной мощности."
   ]
  },
  {
   "cell_type": "code",
   "execution_count": 18,
   "metadata": {},
   "outputs": [],
   "source": [
    "data_arc['полная_мощность'] = np.sqrt(data_arc['активная_мощность']**2 + data_arc['реактивная_мощность']**2)"
   ]
  },
  {
   "cell_type": "markdown",
   "metadata": {},
   "source": [
    "Добавим также признак - время нагрева и общая работа. Они будет коррелировать с мощностью. В дальнейшем будем выбирать нужные нам признаки, в том числе и по корреляции."
   ]
  },
  {
   "cell_type": "code",
   "execution_count": 19,
   "metadata": {},
   "outputs": [],
   "source": [
    "data_arc['общее_время_нагрева'] = (data_arc['конец_нагрева_дугой'] - data_arc['начало_нагрева_дугой']).dt.seconds\n",
    "data_arc['общая_работа'] = data_arc['общее_время_нагрева'] * data_arc['полная_мощность']"
   ]
  },
  {
   "cell_type": "markdown",
   "metadata": {},
   "source": [
    "Посмотрим корреляцию"
   ]
  },
  {
   "cell_type": "code",
   "execution_count": 20,
   "metadata": {},
   "outputs": [
    {
     "data": {
      "text/html": [
       "<div>\n",
       "<style scoped>\n",
       "    .dataframe tbody tr th:only-of-type {\n",
       "        vertical-align: middle;\n",
       "    }\n",
       "\n",
       "    .dataframe tbody tr th {\n",
       "        vertical-align: top;\n",
       "    }\n",
       "\n",
       "    .dataframe thead th {\n",
       "        text-align: right;\n",
       "    }\n",
       "</style>\n",
       "<table border=\"1\" class=\"dataframe\">\n",
       "  <thead>\n",
       "    <tr style=\"text-align: right;\">\n",
       "      <th></th>\n",
       "      <th>активная_мощность</th>\n",
       "      <th>реактивная_мощность</th>\n",
       "      <th>полная_мощность</th>\n",
       "      <th>общее_время_нагрева</th>\n",
       "      <th>общая_работа</th>\n",
       "    </tr>\n",
       "  </thead>\n",
       "  <tbody>\n",
       "    <tr>\n",
       "      <th>активная_мощность</th>\n",
       "      <td>1.000000</td>\n",
       "      <td>0.966382</td>\n",
       "      <td>0.995528</td>\n",
       "      <td>0.010571</td>\n",
       "      <td>0.539122</td>\n",
       "    </tr>\n",
       "    <tr>\n",
       "      <th>реактивная_мощность</th>\n",
       "      <td>0.966382</td>\n",
       "      <td>1.000000</td>\n",
       "      <td>0.986334</td>\n",
       "      <td>0.006659</td>\n",
       "      <td>0.531304</td>\n",
       "    </tr>\n",
       "    <tr>\n",
       "      <th>полная_мощность</th>\n",
       "      <td>0.995528</td>\n",
       "      <td>0.986334</td>\n",
       "      <td>1.000000</td>\n",
       "      <td>0.009192</td>\n",
       "      <td>0.540471</td>\n",
       "    </tr>\n",
       "    <tr>\n",
       "      <th>общее_время_нагрева</th>\n",
       "      <td>0.010571</td>\n",
       "      <td>0.006659</td>\n",
       "      <td>0.009192</td>\n",
       "      <td>1.000000</td>\n",
       "      <td>0.789207</td>\n",
       "    </tr>\n",
       "    <tr>\n",
       "      <th>общая_работа</th>\n",
       "      <td>0.539122</td>\n",
       "      <td>0.531304</td>\n",
       "      <td>0.540471</td>\n",
       "      <td>0.789207</td>\n",
       "      <td>1.000000</td>\n",
       "    </tr>\n",
       "  </tbody>\n",
       "</table>\n",
       "</div>"
      ],
      "text/plain": [
       "                     активная_мощность  реактивная_мощность  полная_мощность  \\\n",
       "активная_мощность             1.000000             0.966382         0.995528   \n",
       "реактивная_мощность           0.966382             1.000000         0.986334   \n",
       "полная_мощность               0.995528             0.986334         1.000000   \n",
       "общее_время_нагрева           0.010571             0.006659         0.009192   \n",
       "общая_работа                  0.539122             0.531304         0.540471   \n",
       "\n",
       "                     общее_время_нагрева  общая_работа  \n",
       "активная_мощность               0.010571      0.539122  \n",
       "реактивная_мощность             0.006659      0.531304  \n",
       "полная_мощность                 0.009192      0.540471  \n",
       "общее_время_нагрева             1.000000      0.789207  \n",
       "общая_работа                    0.789207      1.000000  "
      ]
     },
     "execution_count": 20,
     "metadata": {},
     "output_type": "execute_result"
    }
   ],
   "source": [
    "data_arc.drop('key', axis=1).corr()"
   ]
  },
  {
   "cell_type": "markdown",
   "metadata": {},
   "source": [
    "Удалим данные столбцы с реактивной мощностью и временем окончания нагрева дугой"
   ]
  },
  {
   "cell_type": "code",
   "execution_count": 21,
   "metadata": {},
   "outputs": [],
   "source": [
    "data_arc.drop(['реактивная_мощность', 'конец_нагрева_дугой'], axis=1, inplace=True)"
   ]
  },
  {
   "cell_type": "markdown",
   "metadata": {},
   "source": [
    "Сгруппируем данные по номеру партии, и агрегируем данные"
   ]
  },
  {
   "cell_type": "code",
   "execution_count": 22,
   "metadata": {
    "scrolled": true
   },
   "outputs": [],
   "source": [
    "data_arc = data_arc.pivot_table(index='key', \n",
    "                     values=['начало_нагрева_дугой', 'активная_мощность', 'полная_мощность', 'общее_время_нагрева', 'общая_работа'],\n",
    "                     aggfunc={'начало_нагрева_дугой': 'min', 'активная_мощность': 'sum', 'полная_мощность': 'sum',\n",
    "                             'общее_время_нагрева': 'sum', 'общая_работа': 'sum'}\n",
    "                    )"
   ]
  },
  {
   "cell_type": "markdown",
   "metadata": {},
   "source": [
    "<div class=\"alert alert-success\" style=\"border-color: green; border-radius: 5px\">\n",
    "    <p><u><b>✅ КОММЕНТАРИЙ ТИМЛИДА</b></u></p>супер разобрался с мощностями!!! согласен."
   ]
  },
  {
   "cell_type": "markdown",
   "metadata": {},
   "source": [
    "Итоговая таблица"
   ]
  },
  {
   "cell_type": "code",
   "execution_count": 23,
   "metadata": {
    "scrolled": true
   },
   "outputs": [
    {
     "data": {
      "text/html": [
       "<div>\n",
       "<style scoped>\n",
       "    .dataframe tbody tr th:only-of-type {\n",
       "        vertical-align: middle;\n",
       "    }\n",
       "\n",
       "    .dataframe tbody tr th {\n",
       "        vertical-align: top;\n",
       "    }\n",
       "\n",
       "    .dataframe thead th {\n",
       "        text-align: right;\n",
       "    }\n",
       "</style>\n",
       "<table border=\"1\" class=\"dataframe\">\n",
       "  <thead>\n",
       "    <tr style=\"text-align: right;\">\n",
       "      <th></th>\n",
       "      <th>активная_мощность</th>\n",
       "      <th>начало_нагрева_дугой</th>\n",
       "      <th>общая_работа</th>\n",
       "      <th>общее_время_нагрева</th>\n",
       "      <th>полная_мощность</th>\n",
       "    </tr>\n",
       "    <tr>\n",
       "      <th>key</th>\n",
       "      <th></th>\n",
       "      <th></th>\n",
       "      <th></th>\n",
       "      <th></th>\n",
       "      <th></th>\n",
       "    </tr>\n",
       "  </thead>\n",
       "  <tbody>\n",
       "    <tr>\n",
       "      <th>1</th>\n",
       "      <td>3.036730</td>\n",
       "      <td>2019-05-03 11:02:14</td>\n",
       "      <td>770.282114</td>\n",
       "      <td>1098</td>\n",
       "      <td>3.718736</td>\n",
       "    </tr>\n",
       "    <tr>\n",
       "      <th>2</th>\n",
       "      <td>2.139408</td>\n",
       "      <td>2019-05-03 11:34:14</td>\n",
       "      <td>481.760005</td>\n",
       "      <td>811</td>\n",
       "      <td>2.588349</td>\n",
       "    </tr>\n",
       "    <tr>\n",
       "      <th>3</th>\n",
       "      <td>4.063641</td>\n",
       "      <td>2019-05-03 12:06:54</td>\n",
       "      <td>722.837668</td>\n",
       "      <td>655</td>\n",
       "      <td>5.019223</td>\n",
       "    </tr>\n",
       "    <tr>\n",
       "      <th>4</th>\n",
       "      <td>2.706489</td>\n",
       "      <td>2019-05-03 12:39:37</td>\n",
       "      <td>683.455597</td>\n",
       "      <td>741</td>\n",
       "      <td>3.400038</td>\n",
       "    </tr>\n",
       "    <tr>\n",
       "      <th>5</th>\n",
       "      <td>2.252950</td>\n",
       "      <td>2019-05-03 13:11:13</td>\n",
       "      <td>512.169934</td>\n",
       "      <td>869</td>\n",
       "      <td>2.816980</td>\n",
       "    </tr>\n",
       "  </tbody>\n",
       "</table>\n",
       "</div>"
      ],
      "text/plain": [
       "     активная_мощность начало_нагрева_дугой  общая_работа  \\\n",
       "key                                                         \n",
       "1             3.036730  2019-05-03 11:02:14    770.282114   \n",
       "2             2.139408  2019-05-03 11:34:14    481.760005   \n",
       "3             4.063641  2019-05-03 12:06:54    722.837668   \n",
       "4             2.706489  2019-05-03 12:39:37    683.455597   \n",
       "5             2.252950  2019-05-03 13:11:13    512.169934   \n",
       "\n",
       "     общее_время_нагрева  полная_мощность  \n",
       "key                                        \n",
       "1                   1098         3.718736  \n",
       "2                    811         2.588349  \n",
       "3                    655         5.019223  \n",
       "4                    741         3.400038  \n",
       "5                    869         2.816980  "
      ]
     },
     "execution_count": 23,
     "metadata": {},
     "output_type": "execute_result"
    }
   ],
   "source": [
    "data_arc.head()"
   ]
  },
  {
   "cell_type": "markdown",
   "metadata": {},
   "source": [
    "Теперь наши основные статистики выглядят так"
   ]
  },
  {
   "cell_type": "code",
   "execution_count": 24,
   "metadata": {
    "scrolled": true
   },
   "outputs": [
    {
     "data": {
      "text/html": [
       "<div>\n",
       "<style scoped>\n",
       "    .dataframe tbody tr th:only-of-type {\n",
       "        vertical-align: middle;\n",
       "    }\n",
       "\n",
       "    .dataframe tbody tr th {\n",
       "        vertical-align: top;\n",
       "    }\n",
       "\n",
       "    .dataframe thead th {\n",
       "        text-align: right;\n",
       "    }\n",
       "</style>\n",
       "<table border=\"1\" class=\"dataframe\">\n",
       "  <thead>\n",
       "    <tr style=\"text-align: right;\">\n",
       "      <th></th>\n",
       "      <th>активная_мощность</th>\n",
       "      <th>общая_работа</th>\n",
       "      <th>общее_время_нагрева</th>\n",
       "      <th>полная_мощность</th>\n",
       "    </tr>\n",
       "  </thead>\n",
       "  <tbody>\n",
       "    <tr>\n",
       "      <th>count</th>\n",
       "      <td>3213.000000</td>\n",
       "      <td>3213.000000</td>\n",
       "      <td>3213.000000</td>\n",
       "      <td>3213.000000</td>\n",
       "    </tr>\n",
       "    <tr>\n",
       "      <th>mean</th>\n",
       "      <td>3.067683</td>\n",
       "      <td>655.688884</td>\n",
       "      <td>794.691566</td>\n",
       "      <td>3.811201</td>\n",
       "    </tr>\n",
       "    <tr>\n",
       "      <th>std</th>\n",
       "      <td>1.208719</td>\n",
       "      <td>308.950188</td>\n",
       "      <td>332.439136</td>\n",
       "      <td>1.502848</td>\n",
       "    </tr>\n",
       "    <tr>\n",
       "      <th>min</th>\n",
       "      <td>0.267676</td>\n",
       "      <td>33.430208</td>\n",
       "      <td>57.000000</td>\n",
       "      <td>0.331897</td>\n",
       "    </tr>\n",
       "    <tr>\n",
       "      <th>25%</th>\n",
       "      <td>2.236693</td>\n",
       "      <td>444.864502</td>\n",
       "      <td>571.000000</td>\n",
       "      <td>2.775577</td>\n",
       "    </tr>\n",
       "    <tr>\n",
       "      <th>50%</th>\n",
       "      <td>2.984607</td>\n",
       "      <td>620.111140</td>\n",
       "      <td>770.000000</td>\n",
       "      <td>3.694535</td>\n",
       "    </tr>\n",
       "    <tr>\n",
       "      <th>75%</th>\n",
       "      <td>3.775574</td>\n",
       "      <td>827.784614</td>\n",
       "      <td>983.000000</td>\n",
       "      <td>4.697427</td>\n",
       "    </tr>\n",
       "    <tr>\n",
       "      <th>max</th>\n",
       "      <td>12.375636</td>\n",
       "      <td>4546.405812</td>\n",
       "      <td>4189.000000</td>\n",
       "      <td>15.288271</td>\n",
       "    </tr>\n",
       "  </tbody>\n",
       "</table>\n",
       "</div>"
      ],
      "text/plain": [
       "       активная_мощность  общая_работа  общее_время_нагрева  полная_мощность\n",
       "count        3213.000000   3213.000000          3213.000000      3213.000000\n",
       "mean            3.067683    655.688884           794.691566         3.811201\n",
       "std             1.208719    308.950188           332.439136         1.502848\n",
       "min             0.267676     33.430208            57.000000         0.331897\n",
       "25%             2.236693    444.864502           571.000000         2.775577\n",
       "50%             2.984607    620.111140           770.000000         3.694535\n",
       "75%             3.775574    827.784614           983.000000         4.697427\n",
       "max            12.375636   4546.405812          4189.000000        15.288271"
      ]
     },
     "execution_count": 24,
     "metadata": {},
     "output_type": "execute_result"
    }
   ],
   "source": [
    "data_arc.describe()"
   ]
  },
  {
   "cell_type": "markdown",
   "metadata": {},
   "source": [
    "- data_arc содержит данные о времени нагрева и приложенной к этому мощности.\n",
    "- Удалили партию с неадеватным выбросом в реактивной мощности.\n",
    "- Добавили время нагрева в секундах."
   ]
  },
  {
   "cell_type": "markdown",
   "metadata": {},
   "source": [
    "### data_bulk, data_bulk_time — данные о подаче сыпучих материалов (объём, время)"
   ]
  },
  {
   "cell_type": "code",
   "execution_count": 25,
   "metadata": {},
   "outputs": [
    {
     "data": {
      "text/html": [
       "<div>\n",
       "<style scoped>\n",
       "    .dataframe tbody tr th:only-of-type {\n",
       "        vertical-align: middle;\n",
       "    }\n",
       "\n",
       "    .dataframe tbody tr th {\n",
       "        vertical-align: top;\n",
       "    }\n",
       "\n",
       "    .dataframe thead th {\n",
       "        text-align: right;\n",
       "    }\n",
       "</style>\n",
       "<table border=\"1\" class=\"dataframe\">\n",
       "  <thead>\n",
       "    <tr style=\"text-align: right;\">\n",
       "      <th></th>\n",
       "      <th>key</th>\n",
       "      <th>bulk_1</th>\n",
       "      <th>bulk_2</th>\n",
       "      <th>bulk_3</th>\n",
       "      <th>bulk_4</th>\n",
       "      <th>bulk_5</th>\n",
       "      <th>bulk_6</th>\n",
       "      <th>bulk_7</th>\n",
       "      <th>bulk_8</th>\n",
       "      <th>bulk_9</th>\n",
       "      <th>bulk_10</th>\n",
       "      <th>bulk_11</th>\n",
       "      <th>bulk_12</th>\n",
       "      <th>bulk_13</th>\n",
       "      <th>bulk_14</th>\n",
       "      <th>bulk_15</th>\n",
       "    </tr>\n",
       "  </thead>\n",
       "  <tbody>\n",
       "    <tr>\n",
       "      <th>0</th>\n",
       "      <td>1</td>\n",
       "      <td>NaN</td>\n",
       "      <td>NaN</td>\n",
       "      <td>NaN</td>\n",
       "      <td>43.0</td>\n",
       "      <td>NaN</td>\n",
       "      <td>NaN</td>\n",
       "      <td>NaN</td>\n",
       "      <td>NaN</td>\n",
       "      <td>NaN</td>\n",
       "      <td>NaN</td>\n",
       "      <td>NaN</td>\n",
       "      <td>206.0</td>\n",
       "      <td>NaN</td>\n",
       "      <td>150.0</td>\n",
       "      <td>154.0</td>\n",
       "    </tr>\n",
       "    <tr>\n",
       "      <th>1</th>\n",
       "      <td>2</td>\n",
       "      <td>NaN</td>\n",
       "      <td>NaN</td>\n",
       "      <td>NaN</td>\n",
       "      <td>73.0</td>\n",
       "      <td>NaN</td>\n",
       "      <td>NaN</td>\n",
       "      <td>NaN</td>\n",
       "      <td>NaN</td>\n",
       "      <td>NaN</td>\n",
       "      <td>NaN</td>\n",
       "      <td>NaN</td>\n",
       "      <td>206.0</td>\n",
       "      <td>NaN</td>\n",
       "      <td>149.0</td>\n",
       "      <td>154.0</td>\n",
       "    </tr>\n",
       "    <tr>\n",
       "      <th>2</th>\n",
       "      <td>3</td>\n",
       "      <td>NaN</td>\n",
       "      <td>NaN</td>\n",
       "      <td>NaN</td>\n",
       "      <td>34.0</td>\n",
       "      <td>NaN</td>\n",
       "      <td>NaN</td>\n",
       "      <td>NaN</td>\n",
       "      <td>NaN</td>\n",
       "      <td>NaN</td>\n",
       "      <td>NaN</td>\n",
       "      <td>NaN</td>\n",
       "      <td>205.0</td>\n",
       "      <td>NaN</td>\n",
       "      <td>152.0</td>\n",
       "      <td>153.0</td>\n",
       "    </tr>\n",
       "    <tr>\n",
       "      <th>3</th>\n",
       "      <td>4</td>\n",
       "      <td>NaN</td>\n",
       "      <td>NaN</td>\n",
       "      <td>NaN</td>\n",
       "      <td>81.0</td>\n",
       "      <td>NaN</td>\n",
       "      <td>NaN</td>\n",
       "      <td>NaN</td>\n",
       "      <td>NaN</td>\n",
       "      <td>NaN</td>\n",
       "      <td>NaN</td>\n",
       "      <td>NaN</td>\n",
       "      <td>207.0</td>\n",
       "      <td>NaN</td>\n",
       "      <td>153.0</td>\n",
       "      <td>154.0</td>\n",
       "    </tr>\n",
       "    <tr>\n",
       "      <th>4</th>\n",
       "      <td>5</td>\n",
       "      <td>NaN</td>\n",
       "      <td>NaN</td>\n",
       "      <td>NaN</td>\n",
       "      <td>78.0</td>\n",
       "      <td>NaN</td>\n",
       "      <td>NaN</td>\n",
       "      <td>NaN</td>\n",
       "      <td>NaN</td>\n",
       "      <td>NaN</td>\n",
       "      <td>NaN</td>\n",
       "      <td>NaN</td>\n",
       "      <td>203.0</td>\n",
       "      <td>NaN</td>\n",
       "      <td>151.0</td>\n",
       "      <td>152.0</td>\n",
       "    </tr>\n",
       "  </tbody>\n",
       "</table>\n",
       "</div>"
      ],
      "text/plain": [
       "   key  bulk_1  bulk_2  bulk_3  bulk_4  bulk_5  bulk_6  bulk_7  bulk_8  \\\n",
       "0    1     NaN     NaN     NaN    43.0     NaN     NaN     NaN     NaN   \n",
       "1    2     NaN     NaN     NaN    73.0     NaN     NaN     NaN     NaN   \n",
       "2    3     NaN     NaN     NaN    34.0     NaN     NaN     NaN     NaN   \n",
       "3    4     NaN     NaN     NaN    81.0     NaN     NaN     NaN     NaN   \n",
       "4    5     NaN     NaN     NaN    78.0     NaN     NaN     NaN     NaN   \n",
       "\n",
       "   bulk_9  bulk_10  bulk_11  bulk_12  bulk_13  bulk_14  bulk_15  \n",
       "0     NaN      NaN      NaN    206.0      NaN    150.0    154.0  \n",
       "1     NaN      NaN      NaN    206.0      NaN    149.0    154.0  \n",
       "2     NaN      NaN      NaN    205.0      NaN    152.0    153.0  \n",
       "3     NaN      NaN      NaN    207.0      NaN    153.0    154.0  \n",
       "4     NaN      NaN      NaN    203.0      NaN    151.0    152.0  "
      ]
     },
     "execution_count": 25,
     "metadata": {},
     "output_type": "execute_result"
    }
   ],
   "source": [
    "data_bulk.head()"
   ]
  },
  {
   "cell_type": "code",
   "execution_count": 26,
   "metadata": {},
   "outputs": [
    {
     "data": {
      "text/html": [
       "<div>\n",
       "<style scoped>\n",
       "    .dataframe tbody tr th:only-of-type {\n",
       "        vertical-align: middle;\n",
       "    }\n",
       "\n",
       "    .dataframe tbody tr th {\n",
       "        vertical-align: top;\n",
       "    }\n",
       "\n",
       "    .dataframe thead th {\n",
       "        text-align: right;\n",
       "    }\n",
       "</style>\n",
       "<table border=\"1\" class=\"dataframe\">\n",
       "  <thead>\n",
       "    <tr style=\"text-align: right;\">\n",
       "      <th></th>\n",
       "      <th>key</th>\n",
       "      <th>bulk_1</th>\n",
       "      <th>bulk_2</th>\n",
       "      <th>bulk_3</th>\n",
       "      <th>bulk_4</th>\n",
       "      <th>bulk_5</th>\n",
       "      <th>bulk_6</th>\n",
       "      <th>bulk_7</th>\n",
       "      <th>bulk_8</th>\n",
       "      <th>bulk_9</th>\n",
       "      <th>bulk_10</th>\n",
       "      <th>bulk_11</th>\n",
       "      <th>bulk_12</th>\n",
       "      <th>bulk_13</th>\n",
       "      <th>bulk_14</th>\n",
       "      <th>bulk_15</th>\n",
       "    </tr>\n",
       "  </thead>\n",
       "  <tbody>\n",
       "    <tr>\n",
       "      <th>0</th>\n",
       "      <td>1</td>\n",
       "      <td>NaT</td>\n",
       "      <td>NaT</td>\n",
       "      <td>NaT</td>\n",
       "      <td>2019-05-03 11:28:48</td>\n",
       "      <td>NaT</td>\n",
       "      <td>NaT</td>\n",
       "      <td>NaT</td>\n",
       "      <td>NaT</td>\n",
       "      <td>NaT</td>\n",
       "      <td>NaT</td>\n",
       "      <td>NaT</td>\n",
       "      <td>2019-05-03 11:24:31</td>\n",
       "      <td>NaT</td>\n",
       "      <td>2019-05-03 11:14:50</td>\n",
       "      <td>2019-05-03 11:10:43</td>\n",
       "    </tr>\n",
       "    <tr>\n",
       "      <th>1</th>\n",
       "      <td>2</td>\n",
       "      <td>NaT</td>\n",
       "      <td>NaT</td>\n",
       "      <td>NaT</td>\n",
       "      <td>2019-05-03 11:36:50</td>\n",
       "      <td>NaT</td>\n",
       "      <td>NaT</td>\n",
       "      <td>NaT</td>\n",
       "      <td>NaT</td>\n",
       "      <td>NaT</td>\n",
       "      <td>NaT</td>\n",
       "      <td>NaT</td>\n",
       "      <td>2019-05-03 11:53:30</td>\n",
       "      <td>NaT</td>\n",
       "      <td>2019-05-03 11:48:37</td>\n",
       "      <td>2019-05-03 11:44:39</td>\n",
       "    </tr>\n",
       "    <tr>\n",
       "      <th>2</th>\n",
       "      <td>3</td>\n",
       "      <td>NaT</td>\n",
       "      <td>NaT</td>\n",
       "      <td>NaT</td>\n",
       "      <td>2019-05-03 12:32:39</td>\n",
       "      <td>NaT</td>\n",
       "      <td>NaT</td>\n",
       "      <td>NaT</td>\n",
       "      <td>NaT</td>\n",
       "      <td>NaT</td>\n",
       "      <td>NaT</td>\n",
       "      <td>NaT</td>\n",
       "      <td>2019-05-03 12:27:13</td>\n",
       "      <td>NaT</td>\n",
       "      <td>2019-05-03 12:21:01</td>\n",
       "      <td>2019-05-03 12:16:16</td>\n",
       "    </tr>\n",
       "    <tr>\n",
       "      <th>3</th>\n",
       "      <td>4</td>\n",
       "      <td>NaT</td>\n",
       "      <td>NaT</td>\n",
       "      <td>NaT</td>\n",
       "      <td>2019-05-03 12:43:22</td>\n",
       "      <td>NaT</td>\n",
       "      <td>NaT</td>\n",
       "      <td>NaT</td>\n",
       "      <td>NaT</td>\n",
       "      <td>NaT</td>\n",
       "      <td>NaT</td>\n",
       "      <td>NaT</td>\n",
       "      <td>2019-05-03 12:58:00</td>\n",
       "      <td>NaT</td>\n",
       "      <td>2019-05-03 12:51:11</td>\n",
       "      <td>2019-05-03 12:46:36</td>\n",
       "    </tr>\n",
       "    <tr>\n",
       "      <th>4</th>\n",
       "      <td>5</td>\n",
       "      <td>NaT</td>\n",
       "      <td>NaT</td>\n",
       "      <td>NaT</td>\n",
       "      <td>2019-05-03 13:30:47</td>\n",
       "      <td>NaT</td>\n",
       "      <td>NaT</td>\n",
       "      <td>NaT</td>\n",
       "      <td>NaT</td>\n",
       "      <td>NaT</td>\n",
       "      <td>NaT</td>\n",
       "      <td>NaT</td>\n",
       "      <td>2019-05-03 13:30:47</td>\n",
       "      <td>NaT</td>\n",
       "      <td>2019-05-03 13:34:12</td>\n",
       "      <td>2019-05-03 13:30:47</td>\n",
       "    </tr>\n",
       "  </tbody>\n",
       "</table>\n",
       "</div>"
      ],
      "text/plain": [
       "   key bulk_1 bulk_2 bulk_3              bulk_4 bulk_5 bulk_6 bulk_7 bulk_8  \\\n",
       "0    1    NaT    NaT    NaT 2019-05-03 11:28:48    NaT    NaT    NaT    NaT   \n",
       "1    2    NaT    NaT    NaT 2019-05-03 11:36:50    NaT    NaT    NaT    NaT   \n",
       "2    3    NaT    NaT    NaT 2019-05-03 12:32:39    NaT    NaT    NaT    NaT   \n",
       "3    4    NaT    NaT    NaT 2019-05-03 12:43:22    NaT    NaT    NaT    NaT   \n",
       "4    5    NaT    NaT    NaT 2019-05-03 13:30:47    NaT    NaT    NaT    NaT   \n",
       "\n",
       "  bulk_9 bulk_10 bulk_11             bulk_12 bulk_13             bulk_14  \\\n",
       "0    NaT     NaT     NaT 2019-05-03 11:24:31     NaT 2019-05-03 11:14:50   \n",
       "1    NaT     NaT     NaT 2019-05-03 11:53:30     NaT 2019-05-03 11:48:37   \n",
       "2    NaT     NaT     NaT 2019-05-03 12:27:13     NaT 2019-05-03 12:21:01   \n",
       "3    NaT     NaT     NaT 2019-05-03 12:58:00     NaT 2019-05-03 12:51:11   \n",
       "4    NaT     NaT     NaT 2019-05-03 13:30:47     NaT 2019-05-03 13:34:12   \n",
       "\n",
       "              bulk_15  \n",
       "0 2019-05-03 11:10:43  \n",
       "1 2019-05-03 11:44:39  \n",
       "2 2019-05-03 12:16:16  \n",
       "3 2019-05-03 12:46:36  \n",
       "4 2019-05-03 13:30:47  "
      ]
     },
     "execution_count": 26,
     "metadata": {},
     "output_type": "execute_result"
    }
   ],
   "source": [
    "data_bulk_time.head()"
   ]
  },
  {
   "cell_type": "markdown",
   "metadata": {},
   "source": [
    "Посмотрим на распределение данных"
   ]
  },
  {
   "cell_type": "code",
   "execution_count": 27,
   "metadata": {},
   "outputs": [
    {
     "data": {
      "image/png": "[encoded data removed]",
      "text/plain": [
       "<Figure size 1500x500 with 1 Axes>"
      ]
     },
     "metadata": {},
     "output_type": "display_data"
    }
   ],
   "source": [
    "plt.figure(figsize=(15,5))\n",
    "sns.boxplot(data=data_bulk.drop('key', axis=1));"
   ]
  },
  {
   "cell_type": "code",
   "execution_count": 28,
   "metadata": {},
   "outputs": [
    {
     "data": {
      "image/png": "[encoded data removed]",
      "text/plain": [
       "<Figure size 1200x1200 with 16 Axes>"
      ]
     },
     "metadata": {},
     "output_type": "display_data"
    }
   ],
   "source": [
    "data_bulk.drop('key', axis=1).hist(figsize = (12,12));"
   ]
  },
  {
   "cell_type": "code",
   "execution_count": 29,
   "metadata": {},
   "outputs": [
    {
     "data": {
      "text/html": [
       "<div>\n",
       "<style scoped>\n",
       "    .dataframe tbody tr th:only-of-type {\n",
       "        vertical-align: middle;\n",
       "    }\n",
       "\n",
       "    .dataframe tbody tr th {\n",
       "        vertical-align: top;\n",
       "    }\n",
       "\n",
       "    .dataframe thead th {\n",
       "        text-align: right;\n",
       "    }\n",
       "</style>\n",
       "<table border=\"1\" class=\"dataframe\">\n",
       "  <thead>\n",
       "    <tr style=\"text-align: right;\">\n",
       "      <th></th>\n",
       "      <th>bulk_1</th>\n",
       "      <th>bulk_2</th>\n",
       "      <th>bulk_3</th>\n",
       "      <th>bulk_4</th>\n",
       "      <th>bulk_5</th>\n",
       "      <th>bulk_6</th>\n",
       "      <th>bulk_7</th>\n",
       "      <th>bulk_8</th>\n",
       "      <th>bulk_9</th>\n",
       "      <th>bulk_10</th>\n",
       "      <th>bulk_11</th>\n",
       "      <th>bulk_12</th>\n",
       "      <th>bulk_13</th>\n",
       "      <th>bulk_14</th>\n",
       "      <th>bulk_15</th>\n",
       "    </tr>\n",
       "  </thead>\n",
       "  <tbody>\n",
       "    <tr>\n",
       "      <th>count</th>\n",
       "      <td>252.000000</td>\n",
       "      <td>22.000000</td>\n",
       "      <td>1298.000000</td>\n",
       "      <td>1014.000000</td>\n",
       "      <td>77.000000</td>\n",
       "      <td>576.000000</td>\n",
       "      <td>25.000000</td>\n",
       "      <td>1.0</td>\n",
       "      <td>19.000000</td>\n",
       "      <td>176.000000</td>\n",
       "      <td>177.000000</td>\n",
       "      <td>2450.000000</td>\n",
       "      <td>18.000000</td>\n",
       "      <td>2806.000000</td>\n",
       "      <td>2248.000000</td>\n",
       "    </tr>\n",
       "    <tr>\n",
       "      <th>mean</th>\n",
       "      <td>39.242063</td>\n",
       "      <td>253.045455</td>\n",
       "      <td>113.879045</td>\n",
       "      <td>104.394477</td>\n",
       "      <td>107.025974</td>\n",
       "      <td>118.925347</td>\n",
       "      <td>305.600000</td>\n",
       "      <td>49.0</td>\n",
       "      <td>76.315789</td>\n",
       "      <td>83.284091</td>\n",
       "      <td>76.819209</td>\n",
       "      <td>260.471020</td>\n",
       "      <td>181.111111</td>\n",
       "      <td>170.284747</td>\n",
       "      <td>160.513345</td>\n",
       "    </tr>\n",
       "    <tr>\n",
       "      <th>std</th>\n",
       "      <td>18.277654</td>\n",
       "      <td>21.180578</td>\n",
       "      <td>75.483494</td>\n",
       "      <td>48.184126</td>\n",
       "      <td>81.790646</td>\n",
       "      <td>72.057776</td>\n",
       "      <td>191.022904</td>\n",
       "      <td>NaN</td>\n",
       "      <td>21.720581</td>\n",
       "      <td>26.060347</td>\n",
       "      <td>59.655365</td>\n",
       "      <td>120.649269</td>\n",
       "      <td>46.088009</td>\n",
       "      <td>65.868652</td>\n",
       "      <td>51.765319</td>\n",
       "    </tr>\n",
       "    <tr>\n",
       "      <th>min</th>\n",
       "      <td>10.000000</td>\n",
       "      <td>228.000000</td>\n",
       "      <td>6.000000</td>\n",
       "      <td>12.000000</td>\n",
       "      <td>11.000000</td>\n",
       "      <td>17.000000</td>\n",
       "      <td>47.000000</td>\n",
       "      <td>49.0</td>\n",
       "      <td>63.000000</td>\n",
       "      <td>24.000000</td>\n",
       "      <td>8.000000</td>\n",
       "      <td>53.000000</td>\n",
       "      <td>151.000000</td>\n",
       "      <td>16.000000</td>\n",
       "      <td>1.000000</td>\n",
       "    </tr>\n",
       "    <tr>\n",
       "      <th>25%</th>\n",
       "      <td>27.000000</td>\n",
       "      <td>242.000000</td>\n",
       "      <td>58.000000</td>\n",
       "      <td>72.000000</td>\n",
       "      <td>70.000000</td>\n",
       "      <td>69.750000</td>\n",
       "      <td>155.000000</td>\n",
       "      <td>49.0</td>\n",
       "      <td>66.000000</td>\n",
       "      <td>64.000000</td>\n",
       "      <td>25.000000</td>\n",
       "      <td>204.000000</td>\n",
       "      <td>153.250000</td>\n",
       "      <td>119.000000</td>\n",
       "      <td>105.000000</td>\n",
       "    </tr>\n",
       "    <tr>\n",
       "      <th>50%</th>\n",
       "      <td>31.000000</td>\n",
       "      <td>251.500000</td>\n",
       "      <td>97.500000</td>\n",
       "      <td>102.000000</td>\n",
       "      <td>86.000000</td>\n",
       "      <td>100.000000</td>\n",
       "      <td>298.000000</td>\n",
       "      <td>49.0</td>\n",
       "      <td>68.000000</td>\n",
       "      <td>86.500000</td>\n",
       "      <td>64.000000</td>\n",
       "      <td>208.000000</td>\n",
       "      <td>155.500000</td>\n",
       "      <td>151.000000</td>\n",
       "      <td>160.000000</td>\n",
       "    </tr>\n",
       "    <tr>\n",
       "      <th>75%</th>\n",
       "      <td>46.000000</td>\n",
       "      <td>257.750000</td>\n",
       "      <td>152.000000</td>\n",
       "      <td>133.000000</td>\n",
       "      <td>132.000000</td>\n",
       "      <td>157.000000</td>\n",
       "      <td>406.000000</td>\n",
       "      <td>49.0</td>\n",
       "      <td>70.500000</td>\n",
       "      <td>102.000000</td>\n",
       "      <td>106.000000</td>\n",
       "      <td>316.000000</td>\n",
       "      <td>203.500000</td>\n",
       "      <td>205.750000</td>\n",
       "      <td>205.000000</td>\n",
       "    </tr>\n",
       "    <tr>\n",
       "      <th>max</th>\n",
       "      <td>185.000000</td>\n",
       "      <td>325.000000</td>\n",
       "      <td>454.000000</td>\n",
       "      <td>281.000000</td>\n",
       "      <td>603.000000</td>\n",
       "      <td>503.000000</td>\n",
       "      <td>772.000000</td>\n",
       "      <td>49.0</td>\n",
       "      <td>147.000000</td>\n",
       "      <td>159.000000</td>\n",
       "      <td>313.000000</td>\n",
       "      <td>1849.000000</td>\n",
       "      <td>305.000000</td>\n",
       "      <td>636.000000</td>\n",
       "      <td>405.000000</td>\n",
       "    </tr>\n",
       "  </tbody>\n",
       "</table>\n",
       "</div>"
      ],
      "text/plain": [
       "           bulk_1      bulk_2       bulk_3       bulk_4      bulk_5  \\\n",
       "count  252.000000   22.000000  1298.000000  1014.000000   77.000000   \n",
       "mean    39.242063  253.045455   113.879045   104.394477  107.025974   \n",
       "std     18.277654   21.180578    75.483494    48.184126   81.790646   \n",
       "min     10.000000  228.000000     6.000000    12.000000   11.000000   \n",
       "25%     27.000000  242.000000    58.000000    72.000000   70.000000   \n",
       "50%     31.000000  251.500000    97.500000   102.000000   86.000000   \n",
       "75%     46.000000  257.750000   152.000000   133.000000  132.000000   \n",
       "max    185.000000  325.000000   454.000000   281.000000  603.000000   \n",
       "\n",
       "           bulk_6      bulk_7  bulk_8      bulk_9     bulk_10     bulk_11  \\\n",
       "count  576.000000   25.000000     1.0   19.000000  176.000000  177.000000   \n",
       "mean   118.925347  305.600000    49.0   76.315789   83.284091   76.819209   \n",
       "std     72.057776  191.022904     NaN   21.720581   26.060347   59.655365   \n",
       "min     17.000000   47.000000    49.0   63.000000   24.000000    8.000000   \n",
       "25%     69.750000  155.000000    49.0   66.000000   64.000000   25.000000   \n",
       "50%    100.000000  298.000000    49.0   68.000000   86.500000   64.000000   \n",
       "75%    157.000000  406.000000    49.0   70.500000  102.000000  106.000000   \n",
       "max    503.000000  772.000000    49.0  147.000000  159.000000  313.000000   \n",
       "\n",
       "           bulk_12     bulk_13      bulk_14      bulk_15  \n",
       "count  2450.000000   18.000000  2806.000000  2248.000000  \n",
       "mean    260.471020  181.111111   170.284747   160.513345  \n",
       "std     120.649269   46.088009    65.868652    51.765319  \n",
       "min      53.000000  151.000000    16.000000     1.000000  \n",
       "25%     204.000000  153.250000   119.000000   105.000000  \n",
       "50%     208.000000  155.500000   151.000000   160.000000  \n",
       "75%     316.000000  203.500000   205.750000   205.000000  \n",
       "max    1849.000000  305.000000   636.000000   405.000000  "
      ]
     },
     "execution_count": 29,
     "metadata": {},
     "output_type": "execute_result"
    }
   ],
   "source": [
    "data_bulk.drop('key', axis=1).describe()"
   ]
  },
  {
   "cell_type": "markdown",
   "metadata": {},
   "source": [
    "Посмотрим на корреляцию"
   ]
  },
  {
   "cell_type": "code",
   "execution_count": 30,
   "metadata": {},
   "outputs": [
    {
     "data": {
      "image/png": "[encoded data removed]",
      "text/plain": [
       "<Figure size 640x480 with 2 Axes>"
      ]
     },
     "metadata": {},
     "output_type": "display_data"
    }
   ],
   "source": [
    "sns.heatmap(data_bulk.drop('key', axis=1).corr());\n",
    "# Серый цвет - корреляции нет"
   ]
  },
  {
   "cell_type": "code",
   "execution_count": 31,
   "metadata": {
    "scrolled": true
   },
   "outputs": [
    {
     "name": "stdout",
     "output_type": "stream",
     "text": [
      "<class 'pandas.core.frame.DataFrame'>\n",
      "RangeIndex: 3129 entries, 0 to 3128\n",
      "Data columns (total 16 columns):\n",
      " #   Column   Non-Null Count  Dtype  \n",
      "---  ------   --------------  -----  \n",
      " 0   key      3129 non-null   int64  \n",
      " 1   bulk_1   252 non-null    float64\n",
      " 2   bulk_2   22 non-null     float64\n",
      " 3   bulk_3   1298 non-null   float64\n",
      " 4   bulk_4   1014 non-null   float64\n",
      " 5   bulk_5   77 non-null     float64\n",
      " 6   bulk_6   576 non-null    float64\n",
      " 7   bulk_7   25 non-null     float64\n",
      " 8   bulk_8   1 non-null      float64\n",
      " 9   bulk_9   19 non-null     float64\n",
      " 10  bulk_10  176 non-null    float64\n",
      " 11  bulk_11  177 non-null    float64\n",
      " 12  bulk_12  2450 non-null   float64\n",
      " 13  bulk_13  18 non-null     float64\n",
      " 14  bulk_14  2806 non-null   float64\n",
      " 15  bulk_15  2248 non-null   float64\n",
      "dtypes: float64(15), int64(1)\n",
      "memory usage: 391.2 KB\n"
     ]
    }
   ],
   "source": [
    "data_bulk.info()"
   ]
  },
  {
   "cell_type": "code",
   "execution_count": 32,
   "metadata": {},
   "outputs": [
    {
     "name": "stdout",
     "output_type": "stream",
     "text": [
      "<class 'pandas.core.frame.DataFrame'>\n",
      "RangeIndex: 3129 entries, 0 to 3128\n",
      "Data columns (total 16 columns):\n",
      " #   Column   Non-Null Count  Dtype         \n",
      "---  ------   --------------  -----         \n",
      " 0   key      3129 non-null   int64         \n",
      " 1   bulk_1   252 non-null    datetime64[ns]\n",
      " 2   bulk_2   22 non-null     datetime64[ns]\n",
      " 3   bulk_3   1298 non-null   datetime64[ns]\n",
      " 4   bulk_4   1014 non-null   datetime64[ns]\n",
      " 5   bulk_5   77 non-null     datetime64[ns]\n",
      " 6   bulk_6   576 non-null    datetime64[ns]\n",
      " 7   bulk_7   25 non-null     datetime64[ns]\n",
      " 8   bulk_8   1 non-null      datetime64[ns]\n",
      " 9   bulk_9   19 non-null     datetime64[ns]\n",
      " 10  bulk_10  176 non-null    datetime64[ns]\n",
      " 11  bulk_11  177 non-null    datetime64[ns]\n",
      " 12  bulk_12  2450 non-null   datetime64[ns]\n",
      " 13  bulk_13  18 non-null     datetime64[ns]\n",
      " 14  bulk_14  2806 non-null   datetime64[ns]\n",
      " 15  bulk_15  2248 non-null   datetime64[ns]\n",
      "dtypes: datetime64[ns](15), int64(1)\n",
      "memory usage: 391.2 KB\n"
     ]
    }
   ],
   "source": [
    "data_bulk_time.info()"
   ]
  },
  {
   "cell_type": "markdown",
   "metadata": {},
   "source": [
    "- Размерности таблиц и количество пропусков в таблицах data_bulk_time и data_bulk совпадает. data_bulk - содержит количество сыпучих материалов добавленных для получения необходимых параметров металла, а data_bulk_time - время добавления.\n",
    "- Данные достаточнно неоднородные. Некоторые значения встречаются только 1 раз (bulk_8). Типы данных соответствуют данным\n",
    "- Пропуски говорят о том что конкретный порошок не добавлялся, можно заменить 0.\n",
    "- Матрица получается разреженная и при стандартизации неоходимо проследить , чтобы 0 оставались 0. Т.е. применять MaxAbsScaler или MinMaxScaler (т.к. в данных только положительные значения).\n",
    "- Есть признаки которые сильно коррелируют между собой. (Возможно некоторые из них исключаться в преварительной обработке)\n",
    "- Временным данным пока не вижу применение"
   ]
  },
  {
   "cell_type": "markdown",
   "metadata": {},
   "source": [
    "### data_wire, data_wire_time — данные о проволочных материалах (объём, время)"
   ]
  },
  {
   "cell_type": "code",
   "execution_count": 33,
   "metadata": {
    "scrolled": true
   },
   "outputs": [
    {
     "data": {
      "text/html": [
       "<div>\n",
       "<style scoped>\n",
       "    .dataframe tbody tr th:only-of-type {\n",
       "        vertical-align: middle;\n",
       "    }\n",
       "\n",
       "    .dataframe tbody tr th {\n",
       "        vertical-align: top;\n",
       "    }\n",
       "\n",
       "    .dataframe thead th {\n",
       "        text-align: right;\n",
       "    }\n",
       "</style>\n",
       "<table border=\"1\" class=\"dataframe\">\n",
       "  <thead>\n",
       "    <tr style=\"text-align: right;\">\n",
       "      <th></th>\n",
       "      <th>key</th>\n",
       "      <th>wire_1</th>\n",
       "      <th>wire_2</th>\n",
       "      <th>wire_3</th>\n",
       "      <th>wire_4</th>\n",
       "      <th>wire_5</th>\n",
       "      <th>wire_6</th>\n",
       "      <th>wire_7</th>\n",
       "      <th>wire_8</th>\n",
       "      <th>wire_9</th>\n",
       "    </tr>\n",
       "  </thead>\n",
       "  <tbody>\n",
       "    <tr>\n",
       "      <th>0</th>\n",
       "      <td>1</td>\n",
       "      <td>60.059998</td>\n",
       "      <td>NaN</td>\n",
       "      <td>NaN</td>\n",
       "      <td>NaN</td>\n",
       "      <td>NaN</td>\n",
       "      <td>NaN</td>\n",
       "      <td>NaN</td>\n",
       "      <td>NaN</td>\n",
       "      <td>NaN</td>\n",
       "    </tr>\n",
       "    <tr>\n",
       "      <th>1</th>\n",
       "      <td>2</td>\n",
       "      <td>96.052315</td>\n",
       "      <td>NaN</td>\n",
       "      <td>NaN</td>\n",
       "      <td>NaN</td>\n",
       "      <td>NaN</td>\n",
       "      <td>NaN</td>\n",
       "      <td>NaN</td>\n",
       "      <td>NaN</td>\n",
       "      <td>NaN</td>\n",
       "    </tr>\n",
       "    <tr>\n",
       "      <th>2</th>\n",
       "      <td>3</td>\n",
       "      <td>91.160157</td>\n",
       "      <td>NaN</td>\n",
       "      <td>NaN</td>\n",
       "      <td>NaN</td>\n",
       "      <td>NaN</td>\n",
       "      <td>NaN</td>\n",
       "      <td>NaN</td>\n",
       "      <td>NaN</td>\n",
       "      <td>NaN</td>\n",
       "    </tr>\n",
       "    <tr>\n",
       "      <th>3</th>\n",
       "      <td>4</td>\n",
       "      <td>89.063515</td>\n",
       "      <td>NaN</td>\n",
       "      <td>NaN</td>\n",
       "      <td>NaN</td>\n",
       "      <td>NaN</td>\n",
       "      <td>NaN</td>\n",
       "      <td>NaN</td>\n",
       "      <td>NaN</td>\n",
       "      <td>NaN</td>\n",
       "    </tr>\n",
       "    <tr>\n",
       "      <th>4</th>\n",
       "      <td>5</td>\n",
       "      <td>89.238236</td>\n",
       "      <td>9.11456</td>\n",
       "      <td>NaN</td>\n",
       "      <td>NaN</td>\n",
       "      <td>NaN</td>\n",
       "      <td>NaN</td>\n",
       "      <td>NaN</td>\n",
       "      <td>NaN</td>\n",
       "      <td>NaN</td>\n",
       "    </tr>\n",
       "  </tbody>\n",
       "</table>\n",
       "</div>"
      ],
      "text/plain": [
       "   key     wire_1   wire_2  wire_3  wire_4  wire_5  wire_6  wire_7  wire_8  \\\n",
       "0    1  60.059998      NaN     NaN     NaN     NaN     NaN     NaN     NaN   \n",
       "1    2  96.052315      NaN     NaN     NaN     NaN     NaN     NaN     NaN   \n",
       "2    3  91.160157      NaN     NaN     NaN     NaN     NaN     NaN     NaN   \n",
       "3    4  89.063515      NaN     NaN     NaN     NaN     NaN     NaN     NaN   \n",
       "4    5  89.238236  9.11456     NaN     NaN     NaN     NaN     NaN     NaN   \n",
       "\n",
       "   wire_9  \n",
       "0     NaN  \n",
       "1     NaN  \n",
       "2     NaN  \n",
       "3     NaN  \n",
       "4     NaN  "
      ]
     },
     "execution_count": 33,
     "metadata": {},
     "output_type": "execute_result"
    }
   ],
   "source": [
    "data_wire.head()"
   ]
  },
  {
   "cell_type": "code",
   "execution_count": 34,
   "metadata": {},
   "outputs": [
    {
     "data": {
      "text/html": [
       "<div>\n",
       "<style scoped>\n",
       "    .dataframe tbody tr th:only-of-type {\n",
       "        vertical-align: middle;\n",
       "    }\n",
       "\n",
       "    .dataframe tbody tr th {\n",
       "        vertical-align: top;\n",
       "    }\n",
       "\n",
       "    .dataframe thead th {\n",
       "        text-align: right;\n",
       "    }\n",
       "</style>\n",
       "<table border=\"1\" class=\"dataframe\">\n",
       "  <thead>\n",
       "    <tr style=\"text-align: right;\">\n",
       "      <th></th>\n",
       "      <th>key</th>\n",
       "      <th>wire_1</th>\n",
       "      <th>wire_2</th>\n",
       "      <th>wire_3</th>\n",
       "      <th>wire_4</th>\n",
       "      <th>wire_5</th>\n",
       "      <th>wire_6</th>\n",
       "      <th>wire_7</th>\n",
       "      <th>wire_8</th>\n",
       "      <th>wire_9</th>\n",
       "    </tr>\n",
       "  </thead>\n",
       "  <tbody>\n",
       "    <tr>\n",
       "      <th>0</th>\n",
       "      <td>1</td>\n",
       "      <td>2019-05-03 11:06:19</td>\n",
       "      <td>NaT</td>\n",
       "      <td>NaT</td>\n",
       "      <td>NaT</td>\n",
       "      <td>NaT</td>\n",
       "      <td>NaT</td>\n",
       "      <td>NaT</td>\n",
       "      <td>NaT</td>\n",
       "      <td>NaT</td>\n",
       "    </tr>\n",
       "    <tr>\n",
       "      <th>1</th>\n",
       "      <td>2</td>\n",
       "      <td>2019-05-03 11:36:50</td>\n",
       "      <td>NaT</td>\n",
       "      <td>NaT</td>\n",
       "      <td>NaT</td>\n",
       "      <td>NaT</td>\n",
       "      <td>NaT</td>\n",
       "      <td>NaT</td>\n",
       "      <td>NaT</td>\n",
       "      <td>NaT</td>\n",
       "    </tr>\n",
       "    <tr>\n",
       "      <th>2</th>\n",
       "      <td>3</td>\n",
       "      <td>2019-05-03 12:11:46</td>\n",
       "      <td>NaT</td>\n",
       "      <td>NaT</td>\n",
       "      <td>NaT</td>\n",
       "      <td>NaT</td>\n",
       "      <td>NaT</td>\n",
       "      <td>NaT</td>\n",
       "      <td>NaT</td>\n",
       "      <td>NaT</td>\n",
       "    </tr>\n",
       "    <tr>\n",
       "      <th>3</th>\n",
       "      <td>4</td>\n",
       "      <td>2019-05-03 12:43:22</td>\n",
       "      <td>NaT</td>\n",
       "      <td>NaT</td>\n",
       "      <td>NaT</td>\n",
       "      <td>NaT</td>\n",
       "      <td>NaT</td>\n",
       "      <td>NaT</td>\n",
       "      <td>NaT</td>\n",
       "      <td>NaT</td>\n",
       "    </tr>\n",
       "    <tr>\n",
       "      <th>4</th>\n",
       "      <td>5</td>\n",
       "      <td>2019-05-03 13:20:44</td>\n",
       "      <td>2019-05-03 13:15:34</td>\n",
       "      <td>NaT</td>\n",
       "      <td>NaT</td>\n",
       "      <td>NaT</td>\n",
       "      <td>NaT</td>\n",
       "      <td>NaT</td>\n",
       "      <td>NaT</td>\n",
       "      <td>NaT</td>\n",
       "    </tr>\n",
       "  </tbody>\n",
       "</table>\n",
       "</div>"
      ],
      "text/plain": [
       "   key              wire_1              wire_2 wire_3 wire_4 wire_5 wire_6  \\\n",
       "0    1 2019-05-03 11:06:19                 NaT    NaT    NaT    NaT    NaT   \n",
       "1    2 2019-05-03 11:36:50                 NaT    NaT    NaT    NaT    NaT   \n",
       "2    3 2019-05-03 12:11:46                 NaT    NaT    NaT    NaT    NaT   \n",
       "3    4 2019-05-03 12:43:22                 NaT    NaT    NaT    NaT    NaT   \n",
       "4    5 2019-05-03 13:20:44 2019-05-03 13:15:34    NaT    NaT    NaT    NaT   \n",
       "\n",
       "  wire_7 wire_8 wire_9  \n",
       "0    NaT    NaT    NaT  \n",
       "1    NaT    NaT    NaT  \n",
       "2    NaT    NaT    NaT  \n",
       "3    NaT    NaT    NaT  \n",
       "4    NaT    NaT    NaT  "
      ]
     },
     "execution_count": 34,
     "metadata": {},
     "output_type": "execute_result"
    }
   ],
   "source": [
    "data_wire_time.head()"
   ]
  },
  {
   "cell_type": "code",
   "execution_count": 35,
   "metadata": {},
   "outputs": [
    {
     "name": "stdout",
     "output_type": "stream",
     "text": [
      "<class 'pandas.core.frame.DataFrame'>\n",
      "RangeIndex: 3081 entries, 0 to 3080\n",
      "Data columns (total 10 columns):\n",
      " #   Column  Non-Null Count  Dtype  \n",
      "---  ------  --------------  -----  \n",
      " 0   key     3081 non-null   int64  \n",
      " 1   wire_1  3055 non-null   float64\n",
      " 2   wire_2  1079 non-null   float64\n",
      " 3   wire_3  63 non-null     float64\n",
      " 4   wire_4  14 non-null     float64\n",
      " 5   wire_5  1 non-null      float64\n",
      " 6   wire_6  73 non-null     float64\n",
      " 7   wire_7  11 non-null     float64\n",
      " 8   wire_8  19 non-null     float64\n",
      " 9   wire_9  29 non-null     float64\n",
      "dtypes: float64(9), int64(1)\n",
      "memory usage: 240.8 KB\n"
     ]
    }
   ],
   "source": [
    "data_wire.info()"
   ]
  },
  {
   "cell_type": "code",
   "execution_count": 36,
   "metadata": {},
   "outputs": [
    {
     "name": "stdout",
     "output_type": "stream",
     "text": [
      "<class 'pandas.core.frame.DataFrame'>\n",
      "RangeIndex: 3081 entries, 0 to 3080\n",
      "Data columns (total 10 columns):\n",
      " #   Column  Non-Null Count  Dtype         \n",
      "---  ------  --------------  -----         \n",
      " 0   key     3081 non-null   int64         \n",
      " 1   wire_1  3055 non-null   datetime64[ns]\n",
      " 2   wire_2  1079 non-null   datetime64[ns]\n",
      " 3   wire_3  63 non-null     datetime64[ns]\n",
      " 4   wire_4  14 non-null     datetime64[ns]\n",
      " 5   wire_5  1 non-null      datetime64[ns]\n",
      " 6   wire_6  73 non-null     datetime64[ns]\n",
      " 7   wire_7  11 non-null     datetime64[ns]\n",
      " 8   wire_8  19 non-null     datetime64[ns]\n",
      " 9   wire_9  29 non-null     datetime64[ns]\n",
      "dtypes: datetime64[ns](9), int64(1)\n",
      "memory usage: 240.8 KB\n"
     ]
    }
   ],
   "source": [
    "data_wire_time.info()"
   ]
  },
  {
   "cell_type": "code",
   "execution_count": 37,
   "metadata": {},
   "outputs": [
    {
     "data": {
      "image/png": "[encoded data removed]",
      "text/plain": [
       "<Figure size 1500x500 with 1 Axes>"
      ]
     },
     "metadata": {},
     "output_type": "display_data"
    }
   ],
   "source": [
    "plt.figure(figsize=(15,5))\n",
    "sns.boxplot(data=data_wire.drop('key', axis=1));"
   ]
  },
  {
   "cell_type": "code",
   "execution_count": 38,
   "metadata": {},
   "outputs": [
    {
     "data": {
      "image/png": "[encoded data removed]",
      "text/plain": [
       "<Figure size 1200x1200 with 9 Axes>"
      ]
     },
     "metadata": {},
     "output_type": "display_data"
    }
   ],
   "source": [
    "data_wire.drop('key', axis=1).hist(figsize = (12,12));"
   ]
  },
  {
   "cell_type": "code",
   "execution_count": 39,
   "metadata": {},
   "outputs": [
    {
     "data": {
      "text/html": [
       "<div>\n",
       "<style scoped>\n",
       "    .dataframe tbody tr th:only-of-type {\n",
       "        vertical-align: middle;\n",
       "    }\n",
       "\n",
       "    .dataframe tbody tr th {\n",
       "        vertical-align: top;\n",
       "    }\n",
       "\n",
       "    .dataframe thead th {\n",
       "        text-align: right;\n",
       "    }\n",
       "</style>\n",
       "<table border=\"1\" class=\"dataframe\">\n",
       "  <thead>\n",
       "    <tr style=\"text-align: right;\">\n",
       "      <th></th>\n",
       "      <th>wire_1</th>\n",
       "      <th>wire_2</th>\n",
       "      <th>wire_3</th>\n",
       "      <th>wire_4</th>\n",
       "      <th>wire_5</th>\n",
       "      <th>wire_6</th>\n",
       "      <th>wire_7</th>\n",
       "      <th>wire_8</th>\n",
       "      <th>wire_9</th>\n",
       "    </tr>\n",
       "  </thead>\n",
       "  <tbody>\n",
       "    <tr>\n",
       "      <th>count</th>\n",
       "      <td>3055.000000</td>\n",
       "      <td>1079.000000</td>\n",
       "      <td>63.000000</td>\n",
       "      <td>14.000000</td>\n",
       "      <td>1.000</td>\n",
       "      <td>73.000000</td>\n",
       "      <td>11.000000</td>\n",
       "      <td>19.000000</td>\n",
       "      <td>29.000000</td>\n",
       "    </tr>\n",
       "    <tr>\n",
       "      <th>mean</th>\n",
       "      <td>100.895853</td>\n",
       "      <td>50.577323</td>\n",
       "      <td>189.482681</td>\n",
       "      <td>57.442842</td>\n",
       "      <td>15.132</td>\n",
       "      <td>48.016974</td>\n",
       "      <td>10.039007</td>\n",
       "      <td>53.625193</td>\n",
       "      <td>34.155752</td>\n",
       "    </tr>\n",
       "    <tr>\n",
       "      <th>std</th>\n",
       "      <td>42.012518</td>\n",
       "      <td>39.320216</td>\n",
       "      <td>99.513444</td>\n",
       "      <td>28.824667</td>\n",
       "      <td>NaN</td>\n",
       "      <td>33.919845</td>\n",
       "      <td>8.610584</td>\n",
       "      <td>16.881728</td>\n",
       "      <td>19.931616</td>\n",
       "    </tr>\n",
       "    <tr>\n",
       "      <th>min</th>\n",
       "      <td>1.918800</td>\n",
       "      <td>0.030160</td>\n",
       "      <td>0.144144</td>\n",
       "      <td>24.148801</td>\n",
       "      <td>15.132</td>\n",
       "      <td>0.034320</td>\n",
       "      <td>0.234208</td>\n",
       "      <td>45.076721</td>\n",
       "      <td>4.622800</td>\n",
       "    </tr>\n",
       "    <tr>\n",
       "      <th>25%</th>\n",
       "      <td>72.115684</td>\n",
       "      <td>20.193680</td>\n",
       "      <td>95.135044</td>\n",
       "      <td>40.807002</td>\n",
       "      <td>15.132</td>\n",
       "      <td>25.053600</td>\n",
       "      <td>6.762756</td>\n",
       "      <td>46.094879</td>\n",
       "      <td>22.058401</td>\n",
       "    </tr>\n",
       "    <tr>\n",
       "      <th>50%</th>\n",
       "      <td>100.158234</td>\n",
       "      <td>40.142956</td>\n",
       "      <td>235.194977</td>\n",
       "      <td>45.234282</td>\n",
       "      <td>15.132</td>\n",
       "      <td>42.076324</td>\n",
       "      <td>9.017009</td>\n",
       "      <td>46.279999</td>\n",
       "      <td>30.066399</td>\n",
       "    </tr>\n",
       "    <tr>\n",
       "      <th>75%</th>\n",
       "      <td>126.060483</td>\n",
       "      <td>70.227558</td>\n",
       "      <td>276.252014</td>\n",
       "      <td>76.124619</td>\n",
       "      <td>15.132</td>\n",
       "      <td>64.212723</td>\n",
       "      <td>11.886057</td>\n",
       "      <td>48.089603</td>\n",
       "      <td>43.862003</td>\n",
       "    </tr>\n",
       "    <tr>\n",
       "      <th>max</th>\n",
       "      <td>330.314424</td>\n",
       "      <td>282.780152</td>\n",
       "      <td>385.008668</td>\n",
       "      <td>113.231044</td>\n",
       "      <td>15.132</td>\n",
       "      <td>180.454575</td>\n",
       "      <td>32.847674</td>\n",
       "      <td>102.762401</td>\n",
       "      <td>90.053604</td>\n",
       "    </tr>\n",
       "  </tbody>\n",
       "</table>\n",
       "</div>"
      ],
      "text/plain": [
       "            wire_1       wire_2      wire_3      wire_4  wire_5      wire_6  \\\n",
       "count  3055.000000  1079.000000   63.000000   14.000000   1.000   73.000000   \n",
       "mean    100.895853    50.577323  189.482681   57.442842  15.132   48.016974   \n",
       "std      42.012518    39.320216   99.513444   28.824667     NaN   33.919845   \n",
       "min       1.918800     0.030160    0.144144   24.148801  15.132    0.034320   \n",
       "25%      72.115684    20.193680   95.135044   40.807002  15.132   25.053600   \n",
       "50%     100.158234    40.142956  235.194977   45.234282  15.132   42.076324   \n",
       "75%     126.060483    70.227558  276.252014   76.124619  15.132   64.212723   \n",
       "max     330.314424   282.780152  385.008668  113.231044  15.132  180.454575   \n",
       "\n",
       "          wire_7      wire_8     wire_9  \n",
       "count  11.000000   19.000000  29.000000  \n",
       "mean   10.039007   53.625193  34.155752  \n",
       "std     8.610584   16.881728  19.931616  \n",
       "min     0.234208   45.076721   4.622800  \n",
       "25%     6.762756   46.094879  22.058401  \n",
       "50%     9.017009   46.279999  30.066399  \n",
       "75%    11.886057   48.089603  43.862003  \n",
       "max    32.847674  102.762401  90.053604  "
      ]
     },
     "execution_count": 39,
     "metadata": {},
     "output_type": "execute_result"
    }
   ],
   "source": [
    "data_wire.drop('key', axis=1).describe()"
   ]
  },
  {
   "cell_type": "markdown",
   "metadata": {},
   "source": [
    "Посмотрим на корреляцию"
   ]
  },
  {
   "cell_type": "code",
   "execution_count": 40,
   "metadata": {},
   "outputs": [
    {
     "data": {
      "image/png": "[encoded data removed]",
      "text/plain": [
       "<Figure size 640x480 with 2 Axes>"
      ]
     },
     "metadata": {},
     "output_type": "display_data"
    }
   ],
   "source": [
    "sns.heatmap(data_wire.drop('key', axis=1).corr());\n",
    "# Серый цвет - корреляции нет"
   ]
  },
  {
   "cell_type": "markdown",
   "metadata": {},
   "source": [
    "- Размерности таблиц и количество пропусков в таблицах data_wire_time и data_wire совпадает. data_wire - содержит количество проволочных материалов добавленных для получения необходимых параметров металла, а data_wire_time - время добавления.\n",
    "- Данные достаточнно неоднородные. Некоторые значения встречаются только 1 раз (wire_5). Типы данных соответствуют данным\n",
    "- Пропуски говорят о том что конкретный порошок не добавлялся, можно заменить 0.\n",
    "- Матрица получается разреженная и при стандартизации неоходимо проследить , чтобы 0 оставались 0. Т.е. применять MaxAbsScaler или MinMaxScaler (т.к. в данных только положительные значения).\n",
    "- Временным данным пока не вижу применение"
   ]
  },
  {
   "cell_type": "markdown",
   "metadata": {},
   "source": [
    "### data_gas — данные о продувке сплава газом"
   ]
  },
  {
   "cell_type": "code",
   "execution_count": 41,
   "metadata": {},
   "outputs": [
    {
     "data": {
      "text/html": [
       "<div>\n",
       "<style scoped>\n",
       "    .dataframe tbody tr th:only-of-type {\n",
       "        vertical-align: middle;\n",
       "    }\n",
       "\n",
       "    .dataframe tbody tr th {\n",
       "        vertical-align: top;\n",
       "    }\n",
       "\n",
       "    .dataframe thead th {\n",
       "        text-align: right;\n",
       "    }\n",
       "</style>\n",
       "<table border=\"1\" class=\"dataframe\">\n",
       "  <thead>\n",
       "    <tr style=\"text-align: right;\">\n",
       "      <th></th>\n",
       "      <th>key</th>\n",
       "      <th>газ_1</th>\n",
       "    </tr>\n",
       "  </thead>\n",
       "  <tbody>\n",
       "    <tr>\n",
       "      <th>0</th>\n",
       "      <td>1</td>\n",
       "      <td>29.749986</td>\n",
       "    </tr>\n",
       "    <tr>\n",
       "      <th>1</th>\n",
       "      <td>2</td>\n",
       "      <td>12.555561</td>\n",
       "    </tr>\n",
       "    <tr>\n",
       "      <th>2</th>\n",
       "      <td>3</td>\n",
       "      <td>28.554793</td>\n",
       "    </tr>\n",
       "    <tr>\n",
       "      <th>3</th>\n",
       "      <td>4</td>\n",
       "      <td>18.841219</td>\n",
       "    </tr>\n",
       "    <tr>\n",
       "      <th>4</th>\n",
       "      <td>5</td>\n",
       "      <td>5.413692</td>\n",
       "    </tr>\n",
       "  </tbody>\n",
       "</table>\n",
       "</div>"
      ],
      "text/plain": [
       "   key      газ_1\n",
       "0    1  29.749986\n",
       "1    2  12.555561\n",
       "2    3  28.554793\n",
       "3    4  18.841219\n",
       "4    5   5.413692"
      ]
     },
     "execution_count": 41,
     "metadata": {},
     "output_type": "execute_result"
    }
   ],
   "source": [
    "data_gas.head()"
   ]
  },
  {
   "cell_type": "code",
   "execution_count": 42,
   "metadata": {},
   "outputs": [
    {
     "name": "stdout",
     "output_type": "stream",
     "text": [
      "<class 'pandas.core.frame.DataFrame'>\n",
      "RangeIndex: 3239 entries, 0 to 3238\n",
      "Data columns (total 2 columns):\n",
      " #   Column  Non-Null Count  Dtype  \n",
      "---  ------  --------------  -----  \n",
      " 0   key     3239 non-null   int64  \n",
      " 1   газ_1   3239 non-null   float64\n",
      "dtypes: float64(1), int64(1)\n",
      "memory usage: 50.7 KB\n"
     ]
    }
   ],
   "source": [
    "data_gas.info()"
   ]
  },
  {
   "cell_type": "markdown",
   "metadata": {},
   "source": [
    "Посмотрим на распределение признака"
   ]
  },
  {
   "cell_type": "code",
   "execution_count": 43,
   "metadata": {},
   "outputs": [
    {
     "data": {
      "image/png": "[encoded data removed]",
      "text/plain": [
       "<Figure size 640x480 with 1 Axes>"
      ]
     },
     "metadata": {},
     "output_type": "display_data"
    }
   ],
   "source": [
    "sns.histplot(data_gas['газ_1']);"
   ]
  },
  {
   "cell_type": "code",
   "execution_count": 44,
   "metadata": {},
   "outputs": [
    {
     "data": {
      "image/png": "[encoded data removed]",
      "text/plain": [
       "<Figure size 640x480 with 1 Axes>"
      ]
     },
     "metadata": {},
     "output_type": "display_data"
    }
   ],
   "source": [
    "sns.boxplot(data=data_gas['газ_1']);"
   ]
  },
  {
   "cell_type": "markdown",
   "metadata": {},
   "source": [
    "Посмотрим на значения газа более 50"
   ]
  },
  {
   "cell_type": "code",
   "execution_count": 45,
   "metadata": {},
   "outputs": [],
   "source": [
    "temp = list(data_gas.query('газ_1 > 50')['key'])"
   ]
  },
  {
   "cell_type": "code",
   "execution_count": 46,
   "metadata": {},
   "outputs": [
    {
     "data": {
      "text/html": [
       "<div>\n",
       "<style scoped>\n",
       "    .dataframe tbody tr th:only-of-type {\n",
       "        vertical-align: middle;\n",
       "    }\n",
       "\n",
       "    .dataframe tbody tr th {\n",
       "        vertical-align: top;\n",
       "    }\n",
       "\n",
       "    .dataframe thead th {\n",
       "        text-align: right;\n",
       "    }\n",
       "</style>\n",
       "<table border=\"1\" class=\"dataframe\">\n",
       "  <thead>\n",
       "    <tr style=\"text-align: right;\">\n",
       "      <th></th>\n",
       "      <th>активная_мощность</th>\n",
       "      <th>начало_нагрева_дугой</th>\n",
       "      <th>общая_работа</th>\n",
       "      <th>общее_время_нагрева</th>\n",
       "      <th>полная_мощность</th>\n",
       "    </tr>\n",
       "    <tr>\n",
       "      <th>key</th>\n",
       "      <th></th>\n",
       "      <th></th>\n",
       "      <th></th>\n",
       "      <th></th>\n",
       "      <th></th>\n",
       "    </tr>\n",
       "  </thead>\n",
       "  <tbody>\n",
       "    <tr>\n",
       "      <th>117</th>\n",
       "      <td>4.191196</td>\n",
       "      <td>2019-05-07 21:50:53</td>\n",
       "      <td>619.135781</td>\n",
       "      <td>804</td>\n",
       "      <td>5.102765</td>\n",
       "    </tr>\n",
       "    <tr>\n",
       "      <th>280</th>\n",
       "      <td>4.248512</td>\n",
       "      <td>2019-05-14 11:12:55</td>\n",
       "      <td>1040.907729</td>\n",
       "      <td>1807</td>\n",
       "      <td>5.191116</td>\n",
       "    </tr>\n",
       "    <tr>\n",
       "      <th>322</th>\n",
       "      <td>8.914806</td>\n",
       "      <td>2019-05-15 21:12:28</td>\n",
       "      <td>2026.007227</td>\n",
       "      <td>2658</td>\n",
       "      <td>11.075555</td>\n",
       "    </tr>\n",
       "    <tr>\n",
       "      <th>2110</th>\n",
       "      <td>1.945132</td>\n",
       "      <td>2019-07-27 19:09:20</td>\n",
       "      <td>266.771323</td>\n",
       "      <td>547</td>\n",
       "      <td>2.429767</td>\n",
       "    </tr>\n",
       "    <tr>\n",
       "      <th>2570</th>\n",
       "      <td>5.330177</td>\n",
       "      <td>2019-08-13 10:22:38</td>\n",
       "      <td>788.885544</td>\n",
       "      <td>1104</td>\n",
       "      <td>6.606142</td>\n",
       "    </tr>\n",
       "  </tbody>\n",
       "</table>\n",
       "</div>"
      ],
      "text/plain": [
       "      активная_мощность начало_нагрева_дугой  общая_работа  \\\n",
       "key                                                          \n",
       "117            4.191196  2019-05-07 21:50:53    619.135781   \n",
       "280            4.248512  2019-05-14 11:12:55   1040.907729   \n",
       "322            8.914806  2019-05-15 21:12:28   2026.007227   \n",
       "2110           1.945132  2019-07-27 19:09:20    266.771323   \n",
       "2570           5.330177  2019-08-13 10:22:38    788.885544   \n",
       "\n",
       "      общее_время_нагрева  полная_мощность  \n",
       "key                                         \n",
       "117                   804         5.102765  \n",
       "280                  1807         5.191116  \n",
       "322                  2658        11.075555  \n",
       "2110                  547         2.429767  \n",
       "2570                 1104         6.606142  "
      ]
     },
     "execution_count": 46,
     "metadata": {},
     "output_type": "execute_result"
    }
   ],
   "source": [
    "data_arc.query(\"key in @temp\")"
   ]
  },
  {
   "cell_type": "markdown",
   "metadata": {},
   "source": [
    "- data_gas - содержит информацию о количестве газа, затрачиваемого на перемешивание металла партии\n",
    "- Есть значения кратно превышающее среднее. Видно что большой объем газа сопровождается и значиями мощности более среднего. Считаю что такие данные эти можно оставить, так как, к примеру, при нарушении технологического процесса нужно больше ресурсов для приготовления продукта, и такие данные помогут модели в будущем это учесть."
   ]
  },
  {
   "cell_type": "markdown",
   "metadata": {},
   "source": [
    "### data_temp — результаты измерения температуры"
   ]
  },
  {
   "cell_type": "markdown",
   "metadata": {},
   "source": [
    "Ознакомимся с данными"
   ]
  },
  {
   "cell_type": "code",
   "execution_count": 47,
   "metadata": {
    "scrolled": true
   },
   "outputs": [
    {
     "data": {
      "text/html": [
       "<div>\n",
       "<style scoped>\n",
       "    .dataframe tbody tr th:only-of-type {\n",
       "        vertical-align: middle;\n",
       "    }\n",
       "\n",
       "    .dataframe tbody tr th {\n",
       "        vertical-align: top;\n",
       "    }\n",
       "\n",
       "    .dataframe thead th {\n",
       "        text-align: right;\n",
       "    }\n",
       "</style>\n",
       "<table border=\"1\" class=\"dataframe\">\n",
       "  <thead>\n",
       "    <tr style=\"text-align: right;\">\n",
       "      <th></th>\n",
       "      <th>key</th>\n",
       "      <th>время_замера</th>\n",
       "      <th>температура</th>\n",
       "    </tr>\n",
       "  </thead>\n",
       "  <tbody>\n",
       "    <tr>\n",
       "      <th>0</th>\n",
       "      <td>1</td>\n",
       "      <td>2019-05-03 11:02:04</td>\n",
       "      <td>1571.0</td>\n",
       "    </tr>\n",
       "    <tr>\n",
       "      <th>1</th>\n",
       "      <td>1</td>\n",
       "      <td>2019-05-03 11:07:18</td>\n",
       "      <td>1604.0</td>\n",
       "    </tr>\n",
       "    <tr>\n",
       "      <th>2</th>\n",
       "      <td>1</td>\n",
       "      <td>2019-05-03 11:11:34</td>\n",
       "      <td>1618.0</td>\n",
       "    </tr>\n",
       "    <tr>\n",
       "      <th>3</th>\n",
       "      <td>1</td>\n",
       "      <td>2019-05-03 11:18:04</td>\n",
       "      <td>1601.0</td>\n",
       "    </tr>\n",
       "    <tr>\n",
       "      <th>4</th>\n",
       "      <td>1</td>\n",
       "      <td>2019-05-03 11:25:59</td>\n",
       "      <td>1606.0</td>\n",
       "    </tr>\n",
       "  </tbody>\n",
       "</table>\n",
       "</div>"
      ],
      "text/plain": [
       "   key        время_замера  температура\n",
       "0    1 2019-05-03 11:02:04       1571.0\n",
       "1    1 2019-05-03 11:07:18       1604.0\n",
       "2    1 2019-05-03 11:11:34       1618.0\n",
       "3    1 2019-05-03 11:18:04       1601.0\n",
       "4    1 2019-05-03 11:25:59       1606.0"
      ]
     },
     "execution_count": 47,
     "metadata": {},
     "output_type": "execute_result"
    }
   ],
   "source": [
    "data_temp.head()"
   ]
  },
  {
   "cell_type": "code",
   "execution_count": 48,
   "metadata": {},
   "outputs": [
    {
     "name": "stdout",
     "output_type": "stream",
     "text": [
      "<class 'pandas.core.frame.DataFrame'>\n",
      "RangeIndex: 18092 entries, 0 to 18091\n",
      "Data columns (total 3 columns):\n",
      " #   Column        Non-Null Count  Dtype         \n",
      "---  ------        --------------  -----         \n",
      " 0   key           18092 non-null  int64         \n",
      " 1   время_замера  18092 non-null  datetime64[ns]\n",
      " 2   температура   14665 non-null  float64       \n",
      "dtypes: datetime64[ns](1), float64(1), int64(1)\n",
      "memory usage: 424.2 KB\n"
     ]
    }
   ],
   "source": [
    "data_temp.info()"
   ]
  },
  {
   "cell_type": "markdown",
   "metadata": {},
   "source": [
    "Посмотрим на распределение"
   ]
  },
  {
   "cell_type": "code",
   "execution_count": 49,
   "metadata": {},
   "outputs": [
    {
     "data": {
      "image/png": "[encoded data removed]",
      "text/plain": [
       "<Figure size 640x480 with 1 Axes>"
      ]
     },
     "metadata": {},
     "output_type": "display_data"
    }
   ],
   "source": [
    "sns.histplot(data_temp['температура']);"
   ]
  },
  {
   "cell_type": "code",
   "execution_count": 50,
   "metadata": {},
   "outputs": [
    {
     "data": {
      "image/png": "[encoded data removed]",
      "text/plain": [
       "<Figure size 640x480 with 1 Axes>"
      ]
     },
     "metadata": {},
     "output_type": "display_data"
    }
   ],
   "source": [
    "sns.boxplot(data=data_temp['температура']);"
   ]
  },
  {
   "cell_type": "markdown",
   "metadata": {},
   "source": [
    "Видим выбивающиеся значения, с температурой ниже среднего. Температура - целевой признак. Считаю что нужно удалить данные (для улучшения качества модели в нужном нам диапазоне температур). Природа этих температур не понятна, скорее всего ошибка измерения. Сохраним ключи, по которым в последствии сможем найти их."
   ]
  },
  {
   "cell_type": "code",
   "execution_count": 51,
   "metadata": {},
   "outputs": [],
   "source": [
    "key_1450 = data_temp.query('температура < 1450')['key']"
   ]
  },
  {
   "cell_type": "code",
   "execution_count": 52,
   "metadata": {},
   "outputs": [
    {
     "data": {
      "text/plain": [
       "4883      867\n",
       "6784     1214\n",
       "9050     1619\n",
       "11495    2052\n",
       "14283    2561\n",
       "Name: key, dtype: int64"
      ]
     },
     "execution_count": 52,
     "metadata": {},
     "output_type": "execute_result"
    }
   ],
   "source": [
    "key_1450"
   ]
  },
  {
   "cell_type": "code",
   "execution_count": 53,
   "metadata": {
    "scrolled": true
   },
   "outputs": [
    {
     "data": {
      "text/html": [
       "<div>\n",
       "<style scoped>\n",
       "    .dataframe tbody tr th:only-of-type {\n",
       "        vertical-align: middle;\n",
       "    }\n",
       "\n",
       "    .dataframe tbody tr th {\n",
       "        vertical-align: top;\n",
       "    }\n",
       "\n",
       "    .dataframe thead th {\n",
       "        text-align: right;\n",
       "    }\n",
       "</style>\n",
       "<table border=\"1\" class=\"dataframe\">\n",
       "  <thead>\n",
       "    <tr style=\"text-align: right;\">\n",
       "      <th></th>\n",
       "      <th>key</th>\n",
       "      <th>время_замера</th>\n",
       "      <th>температура</th>\n",
       "    </tr>\n",
       "  </thead>\n",
       "  <tbody>\n",
       "    <tr>\n",
       "      <th>4883</th>\n",
       "      <td>867</td>\n",
       "      <td>2019-06-06 08:03:39</td>\n",
       "      <td>1191.0</td>\n",
       "    </tr>\n",
       "    <tr>\n",
       "      <th>4884</th>\n",
       "      <td>867</td>\n",
       "      <td>2019-06-06 08:18:52</td>\n",
       "      <td>1575.0</td>\n",
       "    </tr>\n",
       "    <tr>\n",
       "      <th>4885</th>\n",
       "      <td>867</td>\n",
       "      <td>2019-06-06 08:22:38</td>\n",
       "      <td>1576.0</td>\n",
       "    </tr>\n",
       "    <tr>\n",
       "      <th>4886</th>\n",
       "      <td>867</td>\n",
       "      <td>2019-06-06 08:25:11</td>\n",
       "      <td>1571.0</td>\n",
       "    </tr>\n",
       "    <tr>\n",
       "      <th>4887</th>\n",
       "      <td>867</td>\n",
       "      <td>2019-06-06 08:29:49</td>\n",
       "      <td>1600.0</td>\n",
       "    </tr>\n",
       "    <tr>\n",
       "      <th>4888</th>\n",
       "      <td>867</td>\n",
       "      <td>2019-06-06 08:36:49</td>\n",
       "      <td>1522.0</td>\n",
       "    </tr>\n",
       "    <tr>\n",
       "      <th>4889</th>\n",
       "      <td>867</td>\n",
       "      <td>2019-06-06 08:43:02</td>\n",
       "      <td>1521.0</td>\n",
       "    </tr>\n",
       "    <tr>\n",
       "      <th>4890</th>\n",
       "      <td>867</td>\n",
       "      <td>2019-06-06 08:48:23</td>\n",
       "      <td>1599.0</td>\n",
       "    </tr>\n",
       "    <tr>\n",
       "      <th>6784</th>\n",
       "      <td>1214</td>\n",
       "      <td>2019-06-18 08:01:03</td>\n",
       "      <td>1208.0</td>\n",
       "    </tr>\n",
       "    <tr>\n",
       "      <th>6785</th>\n",
       "      <td>1214</td>\n",
       "      <td>2019-06-18 08:17:56</td>\n",
       "      <td>1608.0</td>\n",
       "    </tr>\n",
       "    <tr>\n",
       "      <th>6786</th>\n",
       "      <td>1214</td>\n",
       "      <td>2019-06-18 08:31:10</td>\n",
       "      <td>1608.0</td>\n",
       "    </tr>\n",
       "    <tr>\n",
       "      <th>6787</th>\n",
       "      <td>1214</td>\n",
       "      <td>2019-06-18 08:43:56</td>\n",
       "      <td>1591.0</td>\n",
       "    </tr>\n",
       "    <tr>\n",
       "      <th>9050</th>\n",
       "      <td>1619</td>\n",
       "      <td>2019-07-03 02:34:41</td>\n",
       "      <td>1218.0</td>\n",
       "    </tr>\n",
       "    <tr>\n",
       "      <th>9051</th>\n",
       "      <td>1619</td>\n",
       "      <td>2019-07-03 02:39:29</td>\n",
       "      <td>1623.0</td>\n",
       "    </tr>\n",
       "    <tr>\n",
       "      <th>9052</th>\n",
       "      <td>1619</td>\n",
       "      <td>2019-07-03 02:43:59</td>\n",
       "      <td>1590.0</td>\n",
       "    </tr>\n",
       "    <tr>\n",
       "      <th>11495</th>\n",
       "      <td>2052</td>\n",
       "      <td>2019-07-25 08:49:15</td>\n",
       "      <td>1227.0</td>\n",
       "    </tr>\n",
       "    <tr>\n",
       "      <th>11496</th>\n",
       "      <td>2052</td>\n",
       "      <td>2019-07-25 08:54:39</td>\n",
       "      <td>1592.0</td>\n",
       "    </tr>\n",
       "    <tr>\n",
       "      <th>11497</th>\n",
       "      <td>2052</td>\n",
       "      <td>2019-07-25 09:03:59</td>\n",
       "      <td>1590.0</td>\n",
       "    </tr>\n",
       "    <tr>\n",
       "      <th>11498</th>\n",
       "      <td>2052</td>\n",
       "      <td>2019-07-25 09:07:19</td>\n",
       "      <td>1591.0</td>\n",
       "    </tr>\n",
       "    <tr>\n",
       "      <th>11499</th>\n",
       "      <td>2052</td>\n",
       "      <td>2019-07-25 09:20:11</td>\n",
       "      <td>1515.0</td>\n",
       "    </tr>\n",
       "    <tr>\n",
       "      <th>11500</th>\n",
       "      <td>2052</td>\n",
       "      <td>2019-07-25 09:27:03</td>\n",
       "      <td>1592.0</td>\n",
       "    </tr>\n",
       "    <tr>\n",
       "      <th>14283</th>\n",
       "      <td>2561</td>\n",
       "      <td>2019-08-12 18:49:29</td>\n",
       "      <td>1204.0</td>\n",
       "    </tr>\n",
       "    <tr>\n",
       "      <th>14284</th>\n",
       "      <td>2561</td>\n",
       "      <td>2019-08-12 18:59:23</td>\n",
       "      <td>NaN</td>\n",
       "    </tr>\n",
       "    <tr>\n",
       "      <th>14285</th>\n",
       "      <td>2561</td>\n",
       "      <td>2019-08-12 19:06:26</td>\n",
       "      <td>NaN</td>\n",
       "    </tr>\n",
       "    <tr>\n",
       "      <th>14286</th>\n",
       "      <td>2561</td>\n",
       "      <td>2019-08-12 19:11:13</td>\n",
       "      <td>NaN</td>\n",
       "    </tr>\n",
       "    <tr>\n",
       "      <th>14287</th>\n",
       "      <td>2561</td>\n",
       "      <td>2019-08-12 19:17:08</td>\n",
       "      <td>NaN</td>\n",
       "    </tr>\n",
       "    <tr>\n",
       "      <th>14288</th>\n",
       "      <td>2561</td>\n",
       "      <td>2019-08-12 19:21:45</td>\n",
       "      <td>NaN</td>\n",
       "    </tr>\n",
       "  </tbody>\n",
       "</table>\n",
       "</div>"
      ],
      "text/plain": [
       "        key        время_замера  температура\n",
       "4883    867 2019-06-06 08:03:39       1191.0\n",
       "4884    867 2019-06-06 08:18:52       1575.0\n",
       "4885    867 2019-06-06 08:22:38       1576.0\n",
       "4886    867 2019-06-06 08:25:11       1571.0\n",
       "4887    867 2019-06-06 08:29:49       1600.0\n",
       "4888    867 2019-06-06 08:36:49       1522.0\n",
       "4889    867 2019-06-06 08:43:02       1521.0\n",
       "4890    867 2019-06-06 08:48:23       1599.0\n",
       "6784   1214 2019-06-18 08:01:03       1208.0\n",
       "6785   1214 2019-06-18 08:17:56       1608.0\n",
       "6786   1214 2019-06-18 08:31:10       1608.0\n",
       "6787   1214 2019-06-18 08:43:56       1591.0\n",
       "9050   1619 2019-07-03 02:34:41       1218.0\n",
       "9051   1619 2019-07-03 02:39:29       1623.0\n",
       "9052   1619 2019-07-03 02:43:59       1590.0\n",
       "11495  2052 2019-07-25 08:49:15       1227.0\n",
       "11496  2052 2019-07-25 08:54:39       1592.0\n",
       "11497  2052 2019-07-25 09:03:59       1590.0\n",
       "11498  2052 2019-07-25 09:07:19       1591.0\n",
       "11499  2052 2019-07-25 09:20:11       1515.0\n",
       "11500  2052 2019-07-25 09:27:03       1592.0\n",
       "14283  2561 2019-08-12 18:49:29       1204.0\n",
       "14284  2561 2019-08-12 18:59:23          NaN\n",
       "14285  2561 2019-08-12 19:06:26          NaN\n",
       "14286  2561 2019-08-12 19:11:13          NaN\n",
       "14287  2561 2019-08-12 19:17:08          NaN\n",
       "14288  2561 2019-08-12 19:21:45          NaN"
      ]
     },
     "execution_count": 53,
     "metadata": {},
     "output_type": "execute_result"
    }
   ],
   "source": [
    "data_temp.query('key in @key_1450')"
   ]
  },
  {
   "cell_type": "markdown",
   "metadata": {},
   "source": [
    "Да, скорее всего это ошибки замера. 1 температура партий имеет аномально низкое значение. Удалять будем партиями целиком."
   ]
  },
  {
   "cell_type": "code",
   "execution_count": 54,
   "metadata": {},
   "outputs": [],
   "source": [
    "data_temp = data_temp.query('key not in @key_1450')"
   ]
  },
  {
   "cell_type": "markdown",
   "metadata": {},
   "source": [
    "Также посмотрим на пропуски"
   ]
  },
  {
   "cell_type": "code",
   "execution_count": 55,
   "metadata": {
    "scrolled": true
   },
   "outputs": [
    {
     "data": {
      "text/html": [
       "<div>\n",
       "<style scoped>\n",
       "    .dataframe tbody tr th:only-of-type {\n",
       "        vertical-align: middle;\n",
       "    }\n",
       "\n",
       "    .dataframe tbody tr th {\n",
       "        vertical-align: top;\n",
       "    }\n",
       "\n",
       "    .dataframe thead th {\n",
       "        text-align: right;\n",
       "    }\n",
       "</style>\n",
       "<table border=\"1\" class=\"dataframe\">\n",
       "  <thead>\n",
       "    <tr style=\"text-align: right;\">\n",
       "      <th></th>\n",
       "      <th>key</th>\n",
       "      <th>время_замера</th>\n",
       "      <th>температура</th>\n",
       "    </tr>\n",
       "  </thead>\n",
       "  <tbody>\n",
       "    <tr>\n",
       "      <th>13926</th>\n",
       "      <td>2500</td>\n",
       "      <td>2019-08-10 14:04:39</td>\n",
       "      <td>1539.0</td>\n",
       "    </tr>\n",
       "    <tr>\n",
       "      <th>13927</th>\n",
       "      <td>2500</td>\n",
       "      <td>2019-08-10 14:13:11</td>\n",
       "      <td>NaN</td>\n",
       "    </tr>\n",
       "    <tr>\n",
       "      <th>13928</th>\n",
       "      <td>2500</td>\n",
       "      <td>2019-08-10 14:18:12</td>\n",
       "      <td>NaN</td>\n",
       "    </tr>\n",
       "    <tr>\n",
       "      <th>13929</th>\n",
       "      <td>2500</td>\n",
       "      <td>2019-08-10 14:25:53</td>\n",
       "      <td>NaN</td>\n",
       "    </tr>\n",
       "    <tr>\n",
       "      <th>13930</th>\n",
       "      <td>2500</td>\n",
       "      <td>2019-08-10 14:29:39</td>\n",
       "      <td>NaN</td>\n",
       "    </tr>\n",
       "    <tr>\n",
       "      <th>13931</th>\n",
       "      <td>2501</td>\n",
       "      <td>2019-08-10 14:41:14</td>\n",
       "      <td>1587.0</td>\n",
       "    </tr>\n",
       "    <tr>\n",
       "      <th>13932</th>\n",
       "      <td>2501</td>\n",
       "      <td>2019-08-10 14:49:15</td>\n",
       "      <td>NaN</td>\n",
       "    </tr>\n",
       "    <tr>\n",
       "      <th>13933</th>\n",
       "      <td>2501</td>\n",
       "      <td>2019-08-10 15:02:56</td>\n",
       "      <td>NaN</td>\n",
       "    </tr>\n",
       "    <tr>\n",
       "      <th>13934</th>\n",
       "      <td>2501</td>\n",
       "      <td>2019-08-10 15:07:47</td>\n",
       "      <td>NaN</td>\n",
       "    </tr>\n",
       "    <tr>\n",
       "      <th>13935</th>\n",
       "      <td>2501</td>\n",
       "      <td>2019-08-10 15:16:53</td>\n",
       "      <td>NaN</td>\n",
       "    </tr>\n",
       "    <tr>\n",
       "      <th>13936</th>\n",
       "      <td>2501</td>\n",
       "      <td>2019-08-10 15:22:50</td>\n",
       "      <td>NaN</td>\n",
       "    </tr>\n",
       "    <tr>\n",
       "      <th>13937</th>\n",
       "      <td>2501</td>\n",
       "      <td>2019-08-10 15:29:00</td>\n",
       "      <td>NaN</td>\n",
       "    </tr>\n",
       "    <tr>\n",
       "      <th>13938</th>\n",
       "      <td>2502</td>\n",
       "      <td>2019-08-10 15:39:39</td>\n",
       "      <td>1583.0</td>\n",
       "    </tr>\n",
       "    <tr>\n",
       "      <th>13939</th>\n",
       "      <td>2502</td>\n",
       "      <td>2019-08-10 15:47:31</td>\n",
       "      <td>NaN</td>\n",
       "    </tr>\n",
       "    <tr>\n",
       "      <th>13940</th>\n",
       "      <td>2502</td>\n",
       "      <td>2019-08-10 15:53:16</td>\n",
       "      <td>NaN</td>\n",
       "    </tr>\n",
       "    <tr>\n",
       "      <th>13941</th>\n",
       "      <td>2502</td>\n",
       "      <td>2019-08-10 15:59:29</td>\n",
       "      <td>NaN</td>\n",
       "    </tr>\n",
       "    <tr>\n",
       "      <th>13942</th>\n",
       "      <td>2502</td>\n",
       "      <td>2019-08-10 16:04:55</td>\n",
       "      <td>NaN</td>\n",
       "    </tr>\n",
       "    <tr>\n",
       "      <th>13943</th>\n",
       "      <td>2503</td>\n",
       "      <td>2019-08-10 16:27:44</td>\n",
       "      <td>1603.0</td>\n",
       "    </tr>\n",
       "    <tr>\n",
       "      <th>13944</th>\n",
       "      <td>2503</td>\n",
       "      <td>2019-08-10 16:38:49</td>\n",
       "      <td>NaN</td>\n",
       "    </tr>\n",
       "    <tr>\n",
       "      <th>13945</th>\n",
       "      <td>2503</td>\n",
       "      <td>2019-08-10 16:51:14</td>\n",
       "      <td>NaN</td>\n",
       "    </tr>\n",
       "    <tr>\n",
       "      <th>13946</th>\n",
       "      <td>2503</td>\n",
       "      <td>2019-08-10 17:03:21</td>\n",
       "      <td>NaN</td>\n",
       "    </tr>\n",
       "    <tr>\n",
       "      <th>13947</th>\n",
       "      <td>2503</td>\n",
       "      <td>2019-08-10 17:14:24</td>\n",
       "      <td>NaN</td>\n",
       "    </tr>\n",
       "    <tr>\n",
       "      <th>13948</th>\n",
       "      <td>2504</td>\n",
       "      <td>2019-08-10 17:31:43</td>\n",
       "      <td>1583.0</td>\n",
       "    </tr>\n",
       "    <tr>\n",
       "      <th>13949</th>\n",
       "      <td>2504</td>\n",
       "      <td>2019-08-10 17:38:38</td>\n",
       "      <td>NaN</td>\n",
       "    </tr>\n",
       "    <tr>\n",
       "      <th>13950</th>\n",
       "      <td>2504</td>\n",
       "      <td>2019-08-10 17:44:38</td>\n",
       "      <td>NaN</td>\n",
       "    </tr>\n",
       "    <tr>\n",
       "      <th>13951</th>\n",
       "      <td>2504</td>\n",
       "      <td>2019-08-10 17:54:18</td>\n",
       "      <td>NaN</td>\n",
       "    </tr>\n",
       "    <tr>\n",
       "      <th>13952</th>\n",
       "      <td>2504</td>\n",
       "      <td>2019-08-10 17:58:49</td>\n",
       "      <td>NaN</td>\n",
       "    </tr>\n",
       "    <tr>\n",
       "      <th>13953</th>\n",
       "      <td>2504</td>\n",
       "      <td>2019-08-10 18:03:42</td>\n",
       "      <td>NaN</td>\n",
       "    </tr>\n",
       "    <tr>\n",
       "      <th>13954</th>\n",
       "      <td>2505</td>\n",
       "      <td>2019-08-10 18:14:52</td>\n",
       "      <td>1606.0</td>\n",
       "    </tr>\n",
       "    <tr>\n",
       "      <th>13955</th>\n",
       "      <td>2505</td>\n",
       "      <td>2019-08-10 18:21:36</td>\n",
       "      <td>NaN</td>\n",
       "    </tr>\n",
       "  </tbody>\n",
       "</table>\n",
       "</div>"
      ],
      "text/plain": [
       "        key        время_замера  температура\n",
       "13926  2500 2019-08-10 14:04:39       1539.0\n",
       "13927  2500 2019-08-10 14:13:11          NaN\n",
       "13928  2500 2019-08-10 14:18:12          NaN\n",
       "13929  2500 2019-08-10 14:25:53          NaN\n",
       "13930  2500 2019-08-10 14:29:39          NaN\n",
       "13931  2501 2019-08-10 14:41:14       1587.0\n",
       "13932  2501 2019-08-10 14:49:15          NaN\n",
       "13933  2501 2019-08-10 15:02:56          NaN\n",
       "13934  2501 2019-08-10 15:07:47          NaN\n",
       "13935  2501 2019-08-10 15:16:53          NaN\n",
       "13936  2501 2019-08-10 15:22:50          NaN\n",
       "13937  2501 2019-08-10 15:29:00          NaN\n",
       "13938  2502 2019-08-10 15:39:39       1583.0\n",
       "13939  2502 2019-08-10 15:47:31          NaN\n",
       "13940  2502 2019-08-10 15:53:16          NaN\n",
       "13941  2502 2019-08-10 15:59:29          NaN\n",
       "13942  2502 2019-08-10 16:04:55          NaN\n",
       "13943  2503 2019-08-10 16:27:44       1603.0\n",
       "13944  2503 2019-08-10 16:38:49          NaN\n",
       "13945  2503 2019-08-10 16:51:14          NaN\n",
       "13946  2503 2019-08-10 17:03:21          NaN\n",
       "13947  2503 2019-08-10 17:14:24          NaN\n",
       "13948  2504 2019-08-10 17:31:43       1583.0\n",
       "13949  2504 2019-08-10 17:38:38          NaN\n",
       "13950  2504 2019-08-10 17:44:38          NaN\n",
       "13951  2504 2019-08-10 17:54:18          NaN\n",
       "13952  2504 2019-08-10 17:58:49          NaN\n",
       "13953  2504 2019-08-10 18:03:42          NaN\n",
       "13954  2505 2019-08-10 18:14:52       1606.0\n",
       "13955  2505 2019-08-10 18:21:36          NaN"
      ]
     },
     "execution_count": 55,
     "metadata": {},
     "output_type": "execute_result"
    }
   ],
   "source": [
    "temp_key = data_temp[data_temp[\"температура\"].isna()][\"key\"]\n",
    "data_temp.query('key in @temp_key').head(30)"
   ]
  },
  {
   "cell_type": "markdown",
   "metadata": {},
   "source": [
    "Видно, что пропуски в партии обычно присутствуют во вторичных замерах температуры. Тоесть из-за этого мы не сможем вычленить наше целевое значение из этих партий металла. А значит эти данные для нас бесполезны. Удалим эти данные."
   ]
  },
  {
   "cell_type": "code",
   "execution_count": 56,
   "metadata": {},
   "outputs": [],
   "source": [
    "data_temp = data_temp.query('key not in @temp_key')"
   ]
  },
  {
   "cell_type": "markdown",
   "metadata": {},
   "source": [
    "Из таблицы data_temp возьмем первый замер в партии как параметр, а последний как целевое значение. Для этого сгруппируем данные по ключу."
   ]
  },
  {
   "cell_type": "code",
   "execution_count": 57,
   "metadata": {},
   "outputs": [
    {
     "data": {
      "text/html": [
       "<div>\n",
       "<style scoped>\n",
       "    .dataframe tbody tr th:only-of-type {\n",
       "        vertical-align: middle;\n",
       "    }\n",
       "\n",
       "    .dataframe tbody tr th {\n",
       "        vertical-align: top;\n",
       "    }\n",
       "\n",
       "    .dataframe thead th {\n",
       "        text-align: right;\n",
       "    }\n",
       "</style>\n",
       "<table border=\"1\" class=\"dataframe\">\n",
       "  <thead>\n",
       "    <tr style=\"text-align: right;\">\n",
       "      <th></th>\n",
       "      <th>время_финального_замера</th>\n",
       "      <th>время_начального_замера</th>\n",
       "      <th>начальная_температура</th>\n",
       "      <th>финальная_температура</th>\n",
       "    </tr>\n",
       "    <tr>\n",
       "      <th>key</th>\n",
       "      <th></th>\n",
       "      <th></th>\n",
       "      <th></th>\n",
       "      <th></th>\n",
       "    </tr>\n",
       "  </thead>\n",
       "  <tbody>\n",
       "    <tr>\n",
       "      <th>1</th>\n",
       "      <td>2019-05-03 11:30:38</td>\n",
       "      <td>2019-05-03 11:02:04</td>\n",
       "      <td>1571.0</td>\n",
       "      <td>1613.0</td>\n",
       "    </tr>\n",
       "    <tr>\n",
       "      <th>2</th>\n",
       "      <td>2019-05-03 11:55:09</td>\n",
       "      <td>2019-05-03 11:34:04</td>\n",
       "      <td>1581.0</td>\n",
       "      <td>1602.0</td>\n",
       "    </tr>\n",
       "    <tr>\n",
       "      <th>3</th>\n",
       "      <td>2019-05-03 12:35:57</td>\n",
       "      <td>2019-05-03 12:06:44</td>\n",
       "      <td>1596.0</td>\n",
       "      <td>1599.0</td>\n",
       "    </tr>\n",
       "    <tr>\n",
       "      <th>4</th>\n",
       "      <td>2019-05-03 12:59:47</td>\n",
       "      <td>2019-05-03 12:39:27</td>\n",
       "      <td>1601.0</td>\n",
       "      <td>1625.0</td>\n",
       "    </tr>\n",
       "    <tr>\n",
       "      <th>5</th>\n",
       "      <td>2019-05-03 13:36:39</td>\n",
       "      <td>2019-05-03 13:11:03</td>\n",
       "      <td>1576.0</td>\n",
       "      <td>1602.0</td>\n",
       "    </tr>\n",
       "  </tbody>\n",
       "</table>\n",
       "</div>"
      ],
      "text/plain": [
       "    время_финального_замера время_начального_замера  начальная_температура  \\\n",
       "key                                                                          \n",
       "1       2019-05-03 11:30:38     2019-05-03 11:02:04                 1571.0   \n",
       "2       2019-05-03 11:55:09     2019-05-03 11:34:04                 1581.0   \n",
       "3       2019-05-03 12:35:57     2019-05-03 12:06:44                 1596.0   \n",
       "4       2019-05-03 12:59:47     2019-05-03 12:39:27                 1601.0   \n",
       "5       2019-05-03 13:36:39     2019-05-03 13:11:03                 1576.0   \n",
       "\n",
       "     финальная_температура  \n",
       "key                         \n",
       "1                   1613.0  \n",
       "2                   1602.0  \n",
       "3                   1599.0  \n",
       "4                   1625.0  \n",
       "5                   1602.0  "
      ]
     },
     "execution_count": 57,
     "metadata": {},
     "output_type": "execute_result"
    }
   ],
   "source": [
    "# Отсортируем таблицу по времени замера\n",
    "data_temp = data_temp.sort_values('время_замера')\n",
    "\n",
    "# Сгруппируем таблицу, возьмем мин и мах значения времени замера и первый и последний замер температуры\n",
    "data_temp = data_temp.pivot_table(index='key', \n",
    "                     values=['время_замера', 'температура'],\n",
    "                     aggfunc={'время_замера': ['min', 'max'],\n",
    "                              'температура': ['first', 'last']}\n",
    "                    )\n",
    "data_temp.columns = ['время_финального_замера', 'время_начального_замера', 'начальная_температура', 'финальная_температура']\n",
    "\n",
    "data_temp.head()"
   ]
  },
  {
   "cell_type": "markdown",
   "metadata": {},
   "source": [
    "- В данных по температуре нашли и удалили выбросы с температурой < 1450. Считаю что нужно удалить данные (для улучшения качества модели в нужном нам диапазоне температур). Природа этих температур не понятна, скорее всего ошибка измерения.\n",
    "- Удалили пропуски партиями. Пропуски в партии обычно присутствуют во вторичных замерах температуры. Тоесть из-за этого мы не сможем вычленить наше целевое значение из этих партий металла. А значит эти данные для нас бесполезны.\n",
    "- Сгруппировали таблицу для возможности дальнейшего объединения признаков. Из таблицы data_temp взяли первый замер в партии как параметр, а последний как целевое значение."
   ]
  },
  {
   "cell_type": "markdown",
   "metadata": {},
   "source": [
    "## Подготовка данных для модели"
   ]
  },
  {
   "cell_type": "markdown",
   "metadata": {},
   "source": [
    "Объединим данные в одной таблице. Чтобы итоговые данные были цельными, будем использовать метод объединения inner"
   ]
  },
  {
   "cell_type": "code",
   "execution_count": 58,
   "metadata": {
    "scrolled": true
   },
   "outputs": [
    {
     "data": {
      "text/html": [
       "<div>\n",
       "<style scoped>\n",
       "    .dataframe tbody tr th:only-of-type {\n",
       "        vertical-align: middle;\n",
       "    }\n",
       "\n",
       "    .dataframe tbody tr th {\n",
       "        vertical-align: top;\n",
       "    }\n",
       "\n",
       "    .dataframe thead th {\n",
       "        text-align: right;\n",
       "    }\n",
       "</style>\n",
       "<table border=\"1\" class=\"dataframe\">\n",
       "  <thead>\n",
       "    <tr style=\"text-align: right;\">\n",
       "      <th></th>\n",
       "      <th>key</th>\n",
       "      <th>активная_мощность</th>\n",
       "      <th>начало_нагрева_дугой</th>\n",
       "      <th>общая_работа</th>\n",
       "      <th>общее_время_нагрева</th>\n",
       "      <th>полная_мощность</th>\n",
       "      <th>газ_1</th>\n",
       "      <th>bulk_1</th>\n",
       "      <th>bulk_2</th>\n",
       "      <th>bulk_3</th>\n",
       "      <th>...</th>\n",
       "      <th>wire_4</th>\n",
       "      <th>wire_5</th>\n",
       "      <th>wire_6</th>\n",
       "      <th>wire_7</th>\n",
       "      <th>wire_8</th>\n",
       "      <th>wire_9</th>\n",
       "      <th>время_финального_замера</th>\n",
       "      <th>время_начального_замера</th>\n",
       "      <th>начальная_температура</th>\n",
       "      <th>финальная_температура</th>\n",
       "    </tr>\n",
       "  </thead>\n",
       "  <tbody>\n",
       "    <tr>\n",
       "      <th>0</th>\n",
       "      <td>1</td>\n",
       "      <td>3.036730</td>\n",
       "      <td>2019-05-03 11:02:14</td>\n",
       "      <td>770.282114</td>\n",
       "      <td>1098</td>\n",
       "      <td>3.718736</td>\n",
       "      <td>29.749986</td>\n",
       "      <td>NaN</td>\n",
       "      <td>NaN</td>\n",
       "      <td>NaN</td>\n",
       "      <td>...</td>\n",
       "      <td>NaN</td>\n",
       "      <td>NaN</td>\n",
       "      <td>NaN</td>\n",
       "      <td>NaN</td>\n",
       "      <td>NaN</td>\n",
       "      <td>NaN</td>\n",
       "      <td>2019-05-03 11:30:38</td>\n",
       "      <td>2019-05-03 11:02:04</td>\n",
       "      <td>1571.0</td>\n",
       "      <td>1613.0</td>\n",
       "    </tr>\n",
       "    <tr>\n",
       "      <th>1</th>\n",
       "      <td>2</td>\n",
       "      <td>2.139408</td>\n",
       "      <td>2019-05-03 11:34:14</td>\n",
       "      <td>481.760005</td>\n",
       "      <td>811</td>\n",
       "      <td>2.588349</td>\n",
       "      <td>12.555561</td>\n",
       "      <td>NaN</td>\n",
       "      <td>NaN</td>\n",
       "      <td>NaN</td>\n",
       "      <td>...</td>\n",
       "      <td>NaN</td>\n",
       "      <td>NaN</td>\n",
       "      <td>NaN</td>\n",
       "      <td>NaN</td>\n",
       "      <td>NaN</td>\n",
       "      <td>NaN</td>\n",
       "      <td>2019-05-03 11:55:09</td>\n",
       "      <td>2019-05-03 11:34:04</td>\n",
       "      <td>1581.0</td>\n",
       "      <td>1602.0</td>\n",
       "    </tr>\n",
       "    <tr>\n",
       "      <th>2</th>\n",
       "      <td>3</td>\n",
       "      <td>4.063641</td>\n",
       "      <td>2019-05-03 12:06:54</td>\n",
       "      <td>722.837668</td>\n",
       "      <td>655</td>\n",
       "      <td>5.019223</td>\n",
       "      <td>28.554793</td>\n",
       "      <td>NaN</td>\n",
       "      <td>NaN</td>\n",
       "      <td>NaN</td>\n",
       "      <td>...</td>\n",
       "      <td>NaN</td>\n",
       "      <td>NaN</td>\n",
       "      <td>NaN</td>\n",
       "      <td>NaN</td>\n",
       "      <td>NaN</td>\n",
       "      <td>NaN</td>\n",
       "      <td>2019-05-03 12:35:57</td>\n",
       "      <td>2019-05-03 12:06:44</td>\n",
       "      <td>1596.0</td>\n",
       "      <td>1599.0</td>\n",
       "    </tr>\n",
       "    <tr>\n",
       "      <th>3</th>\n",
       "      <td>4</td>\n",
       "      <td>2.706489</td>\n",
       "      <td>2019-05-03 12:39:37</td>\n",
       "      <td>683.455597</td>\n",
       "      <td>741</td>\n",
       "      <td>3.400038</td>\n",
       "      <td>18.841219</td>\n",
       "      <td>NaN</td>\n",
       "      <td>NaN</td>\n",
       "      <td>NaN</td>\n",
       "      <td>...</td>\n",
       "      <td>NaN</td>\n",
       "      <td>NaN</td>\n",
       "      <td>NaN</td>\n",
       "      <td>NaN</td>\n",
       "      <td>NaN</td>\n",
       "      <td>NaN</td>\n",
       "      <td>2019-05-03 12:59:47</td>\n",
       "      <td>2019-05-03 12:39:27</td>\n",
       "      <td>1601.0</td>\n",
       "      <td>1625.0</td>\n",
       "    </tr>\n",
       "    <tr>\n",
       "      <th>4</th>\n",
       "      <td>5</td>\n",
       "      <td>2.252950</td>\n",
       "      <td>2019-05-03 13:11:13</td>\n",
       "      <td>512.169934</td>\n",
       "      <td>869</td>\n",
       "      <td>2.816980</td>\n",
       "      <td>5.413692</td>\n",
       "      <td>NaN</td>\n",
       "      <td>NaN</td>\n",
       "      <td>NaN</td>\n",
       "      <td>...</td>\n",
       "      <td>NaN</td>\n",
       "      <td>NaN</td>\n",
       "      <td>NaN</td>\n",
       "      <td>NaN</td>\n",
       "      <td>NaN</td>\n",
       "      <td>NaN</td>\n",
       "      <td>2019-05-03 13:36:39</td>\n",
       "      <td>2019-05-03 13:11:03</td>\n",
       "      <td>1576.0</td>\n",
       "      <td>1602.0</td>\n",
       "    </tr>\n",
       "  </tbody>\n",
       "</table>\n",
       "<p>5 rows × 35 columns</p>\n",
       "</div>"
      ],
      "text/plain": [
       "   key  активная_мощность начало_нагрева_дугой  общая_работа  \\\n",
       "0    1           3.036730  2019-05-03 11:02:14    770.282114   \n",
       "1    2           2.139408  2019-05-03 11:34:14    481.760005   \n",
       "2    3           4.063641  2019-05-03 12:06:54    722.837668   \n",
       "3    4           2.706489  2019-05-03 12:39:37    683.455597   \n",
       "4    5           2.252950  2019-05-03 13:11:13    512.169934   \n",
       "\n",
       "   общее_время_нагрева  полная_мощность      газ_1  bulk_1  bulk_2  bulk_3  \\\n",
       "0                 1098         3.718736  29.749986     NaN     NaN     NaN   \n",
       "1                  811         2.588349  12.555561     NaN     NaN     NaN   \n",
       "2                  655         5.019223  28.554793     NaN     NaN     NaN   \n",
       "3                  741         3.400038  18.841219     NaN     NaN     NaN   \n",
       "4                  869         2.816980   5.413692     NaN     NaN     NaN   \n",
       "\n",
       "   ...  wire_4  wire_5  wire_6  wire_7  wire_8  wire_9  \\\n",
       "0  ...     NaN     NaN     NaN     NaN     NaN     NaN   \n",
       "1  ...     NaN     NaN     NaN     NaN     NaN     NaN   \n",
       "2  ...     NaN     NaN     NaN     NaN     NaN     NaN   \n",
       "3  ...     NaN     NaN     NaN     NaN     NaN     NaN   \n",
       "4  ...     NaN     NaN     NaN     NaN     NaN     NaN   \n",
       "\n",
       "   время_финального_замера  время_начального_замера  начальная_температура  \\\n",
       "0      2019-05-03 11:30:38      2019-05-03 11:02:04                 1571.0   \n",
       "1      2019-05-03 11:55:09      2019-05-03 11:34:04                 1581.0   \n",
       "2      2019-05-03 12:35:57      2019-05-03 12:06:44                 1596.0   \n",
       "3      2019-05-03 12:59:47      2019-05-03 12:39:27                 1601.0   \n",
       "4      2019-05-03 13:36:39      2019-05-03 13:11:03                 1576.0   \n",
       "\n",
       "   финальная_температура  \n",
       "0                 1613.0  \n",
       "1                 1602.0  \n",
       "2                 1599.0  \n",
       "3                 1625.0  \n",
       "4                 1602.0  \n",
       "\n",
       "[5 rows x 35 columns]"
      ]
     },
     "execution_count": 58,
     "metadata": {},
     "output_type": "execute_result"
    }
   ],
   "source": [
    "final_data = data_arc.merge(data_gas, on='key', how='inner') \\\n",
    "                     .merge(data_bulk, on='key', how='inner') \\\n",
    "                     .merge(data_wire, on='key', how='inner') \\\n",
    "                     .merge(data_temp, on='key', how='inner')\n",
    "final_data.head()"
   ]
  },
  {
   "cell_type": "markdown",
   "metadata": {},
   "source": [
    "Оставим только числовые столбцы и удалим номер партии"
   ]
  },
  {
   "cell_type": "code",
   "execution_count": 59,
   "metadata": {},
   "outputs": [],
   "source": [
    "final_data = final_data[final_data.select_dtypes('number').columns.tolist()]\n",
    "final_data.drop('key', axis=1, inplace=True)"
   ]
  },
  {
   "cell_type": "code",
   "execution_count": 60,
   "metadata": {},
   "outputs": [
    {
     "data": {
      "text/html": [
       "<div>\n",
       "<style scoped>\n",
       "    .dataframe tbody tr th:only-of-type {\n",
       "        vertical-align: middle;\n",
       "    }\n",
       "\n",
       "    .dataframe tbody tr th {\n",
       "        vertical-align: top;\n",
       "    }\n",
       "\n",
       "    .dataframe thead th {\n",
       "        text-align: right;\n",
       "    }\n",
       "</style>\n",
       "<table border=\"1\" class=\"dataframe\">\n",
       "  <thead>\n",
       "    <tr style=\"text-align: right;\">\n",
       "      <th></th>\n",
       "      <th>активная_мощность</th>\n",
       "      <th>общая_работа</th>\n",
       "      <th>общее_время_нагрева</th>\n",
       "      <th>полная_мощность</th>\n",
       "      <th>газ_1</th>\n",
       "      <th>bulk_1</th>\n",
       "      <th>bulk_2</th>\n",
       "      <th>bulk_3</th>\n",
       "      <th>bulk_4</th>\n",
       "      <th>bulk_5</th>\n",
       "      <th>...</th>\n",
       "      <th>wire_2</th>\n",
       "      <th>wire_3</th>\n",
       "      <th>wire_4</th>\n",
       "      <th>wire_5</th>\n",
       "      <th>wire_6</th>\n",
       "      <th>wire_7</th>\n",
       "      <th>wire_8</th>\n",
       "      <th>wire_9</th>\n",
       "      <th>начальная_температура</th>\n",
       "      <th>финальная_температура</th>\n",
       "    </tr>\n",
       "  </thead>\n",
       "  <tbody>\n",
       "    <tr>\n",
       "      <th>0</th>\n",
       "      <td>3.036730</td>\n",
       "      <td>770.282114</td>\n",
       "      <td>1098</td>\n",
       "      <td>3.718736</td>\n",
       "      <td>29.749986</td>\n",
       "      <td>NaN</td>\n",
       "      <td>NaN</td>\n",
       "      <td>NaN</td>\n",
       "      <td>43.0</td>\n",
       "      <td>NaN</td>\n",
       "      <td>...</td>\n",
       "      <td>NaN</td>\n",
       "      <td>NaN</td>\n",
       "      <td>NaN</td>\n",
       "      <td>NaN</td>\n",
       "      <td>NaN</td>\n",
       "      <td>NaN</td>\n",
       "      <td>NaN</td>\n",
       "      <td>NaN</td>\n",
       "      <td>1571.0</td>\n",
       "      <td>1613.0</td>\n",
       "    </tr>\n",
       "    <tr>\n",
       "      <th>1</th>\n",
       "      <td>2.139408</td>\n",
       "      <td>481.760005</td>\n",
       "      <td>811</td>\n",
       "      <td>2.588349</td>\n",
       "      <td>12.555561</td>\n",
       "      <td>NaN</td>\n",
       "      <td>NaN</td>\n",
       "      <td>NaN</td>\n",
       "      <td>73.0</td>\n",
       "      <td>NaN</td>\n",
       "      <td>...</td>\n",
       "      <td>NaN</td>\n",
       "      <td>NaN</td>\n",
       "      <td>NaN</td>\n",
       "      <td>NaN</td>\n",
       "      <td>NaN</td>\n",
       "      <td>NaN</td>\n",
       "      <td>NaN</td>\n",
       "      <td>NaN</td>\n",
       "      <td>1581.0</td>\n",
       "      <td>1602.0</td>\n",
       "    </tr>\n",
       "    <tr>\n",
       "      <th>2</th>\n",
       "      <td>4.063641</td>\n",
       "      <td>722.837668</td>\n",
       "      <td>655</td>\n",
       "      <td>5.019223</td>\n",
       "      <td>28.554793</td>\n",
       "      <td>NaN</td>\n",
       "      <td>NaN</td>\n",
       "      <td>NaN</td>\n",
       "      <td>34.0</td>\n",
       "      <td>NaN</td>\n",
       "      <td>...</td>\n",
       "      <td>NaN</td>\n",
       "      <td>NaN</td>\n",
       "      <td>NaN</td>\n",
       "      <td>NaN</td>\n",
       "      <td>NaN</td>\n",
       "      <td>NaN</td>\n",
       "      <td>NaN</td>\n",
       "      <td>NaN</td>\n",
       "      <td>1596.0</td>\n",
       "      <td>1599.0</td>\n",
       "    </tr>\n",
       "    <tr>\n",
       "      <th>3</th>\n",
       "      <td>2.706489</td>\n",
       "      <td>683.455597</td>\n",
       "      <td>741</td>\n",
       "      <td>3.400038</td>\n",
       "      <td>18.841219</td>\n",
       "      <td>NaN</td>\n",
       "      <td>NaN</td>\n",
       "      <td>NaN</td>\n",
       "      <td>81.0</td>\n",
       "      <td>NaN</td>\n",
       "      <td>...</td>\n",
       "      <td>NaN</td>\n",
       "      <td>NaN</td>\n",
       "      <td>NaN</td>\n",
       "      <td>NaN</td>\n",
       "      <td>NaN</td>\n",
       "      <td>NaN</td>\n",
       "      <td>NaN</td>\n",
       "      <td>NaN</td>\n",
       "      <td>1601.0</td>\n",
       "      <td>1625.0</td>\n",
       "    </tr>\n",
       "    <tr>\n",
       "      <th>4</th>\n",
       "      <td>2.252950</td>\n",
       "      <td>512.169934</td>\n",
       "      <td>869</td>\n",
       "      <td>2.816980</td>\n",
       "      <td>5.413692</td>\n",
       "      <td>NaN</td>\n",
       "      <td>NaN</td>\n",
       "      <td>NaN</td>\n",
       "      <td>78.0</td>\n",
       "      <td>NaN</td>\n",
       "      <td>...</td>\n",
       "      <td>9.11456</td>\n",
       "      <td>NaN</td>\n",
       "      <td>NaN</td>\n",
       "      <td>NaN</td>\n",
       "      <td>NaN</td>\n",
       "      <td>NaN</td>\n",
       "      <td>NaN</td>\n",
       "      <td>NaN</td>\n",
       "      <td>1576.0</td>\n",
       "      <td>1602.0</td>\n",
       "    </tr>\n",
       "  </tbody>\n",
       "</table>\n",
       "<p>5 rows × 31 columns</p>\n",
       "</div>"
      ],
      "text/plain": [
       "   активная_мощность  общая_работа  общее_время_нагрева  полная_мощность  \\\n",
       "0           3.036730    770.282114                 1098         3.718736   \n",
       "1           2.139408    481.760005                  811         2.588349   \n",
       "2           4.063641    722.837668                  655         5.019223   \n",
       "3           2.706489    683.455597                  741         3.400038   \n",
       "4           2.252950    512.169934                  869         2.816980   \n",
       "\n",
       "       газ_1  bulk_1  bulk_2  bulk_3  bulk_4  bulk_5  ...   wire_2  wire_3  \\\n",
       "0  29.749986     NaN     NaN     NaN    43.0     NaN  ...      NaN     NaN   \n",
       "1  12.555561     NaN     NaN     NaN    73.0     NaN  ...      NaN     NaN   \n",
       "2  28.554793     NaN     NaN     NaN    34.0     NaN  ...      NaN     NaN   \n",
       "3  18.841219     NaN     NaN     NaN    81.0     NaN  ...      NaN     NaN   \n",
       "4   5.413692     NaN     NaN     NaN    78.0     NaN  ...  9.11456     NaN   \n",
       "\n",
       "   wire_4  wire_5  wire_6  wire_7  wire_8  wire_9  начальная_температура  \\\n",
       "0     NaN     NaN     NaN     NaN     NaN     NaN                 1571.0   \n",
       "1     NaN     NaN     NaN     NaN     NaN     NaN                 1581.0   \n",
       "2     NaN     NaN     NaN     NaN     NaN     NaN                 1596.0   \n",
       "3     NaN     NaN     NaN     NaN     NaN     NaN                 1601.0   \n",
       "4     NaN     NaN     NaN     NaN     NaN     NaN                 1576.0   \n",
       "\n",
       "   финальная_температура  \n",
       "0                 1613.0  \n",
       "1                 1602.0  \n",
       "2                 1599.0  \n",
       "3                 1625.0  \n",
       "4                 1602.0  \n",
       "\n",
       "[5 rows x 31 columns]"
      ]
     },
     "execution_count": 60,
     "metadata": {},
     "output_type": "execute_result"
    }
   ],
   "source": [
    "final_data.head()"
   ]
  },
  {
   "cell_type": "markdown",
   "metadata": {},
   "source": [
    "Разделим на тестовую и обучающую выбоки"
   ]
  },
  {
   "cell_type": "code",
   "execution_count": 61,
   "metadata": {
    "scrolled": true
   },
   "outputs": [],
   "source": [
    "X = final_data.drop('финальная_температура', axis=1)\n",
    "y = final_data['финальная_температура']"
   ]
  },
  {
   "cell_type": "markdown",
   "metadata": {},
   "source": [
    "Выделим тестовую выборку"
   ]
  },
  {
   "cell_type": "code",
   "execution_count": 62,
   "metadata": {},
   "outputs": [
    {
     "name": "stdout",
     "output_type": "stream",
     "text": [
      "Размер обучающей выборки (1743, 30) (1743,),      \n",
      "тестовой (581, 30) (581,)\n"
     ]
    }
   ],
   "source": [
    "X_train, X_test, y_train, y_test = train_test_split(X, y, test_size=0.25, random_state=random_state)\n",
    "\n",
    "print(f'Размер обучающей выборки {X_train.shape} {y_train.shape}, \\\n",
    "     \\nтестовой {X_test.shape} {y_test.shape}')"
   ]
  },
  {
   "cell_type": "markdown",
   "metadata": {},
   "source": [
    "**План дальнейшей работы**:\n",
    "- Создать пайплайн.Заменим пропуски wire и bulk нулями. \n",
    "- Так как в основном у нас числовые количественные признаки проведем стандартизацию (Матрица получается разреженная и при стандартизации неоходимо проследить , чтобы 0 оставались 0. Т.е. применять MaxAbsScaler или MinMaxScaler (т.к. в данных только положительные значения).\n",
    "- Временные данные пока не вижу куда деть, скорее всего их удалю. Так как на практике не представляю, что время нам будет известно при применении модели.\n",
    "- Проведем проверку на мультиколлинеарность DropCorrelatedFeatures.\n",
    "- Обучим пару моделей\n",
    "- Оценим важность признаков"
   ]
  },
  {
   "cell_type": "markdown",
   "metadata": {},
   "source": [
    "**Вопросы** (Некоторые скорее всего 'риторические')\n",
    "1. На основании каких данных мы будем прогнозировать температуру. Тоесть есть изначально ковш с металлом и начальной температурой, знаем ли мы на данном этапе весь перечень и обьем добавочных материалов для приготовления финального состава? Знаем ли мы время, когда мы будем добавлять эти материалы?\n",
    "2. Где производится измерение мощности, непосредственно на фидере нагревательного элемента? Есть ли влияние на данную мощность других потребителей?\n",
    "3. В данных есть выбросы. Например газ_1 = 80 или температура 1200. Это нарушение тех процесса? Нужно ли учить модель предсказывать такую температуру? (это приведет к потере качества модели)\n",
    "\n",
    "\n",
    "1. Я удалил партии с низкой температурой, добавил новый признак мощность до пайплайна. Правильно ли я сделал, или лучше будет это все включать в пайплайн?"
   ]
  },
  {
   "cell_type": "markdown",
   "metadata": {},
   "source": [
    "## Предобработка и обучение модели (Pipeline)"
   ]
  },
  {
   "cell_type": "markdown",
   "metadata": {},
   "source": [
    "Выделим названия числовых столбцов"
   ]
  },
  {
   "cell_type": "code",
   "execution_count": 63,
   "metadata": {},
   "outputs": [
    {
     "data": {
      "text/plain": [
       "['активная_мощность',\n",
       " 'общая_работа',\n",
       " 'общее_время_нагрева',\n",
       " 'полная_мощность',\n",
       " 'газ_1',\n",
       " 'bulk_1',\n",
       " 'bulk_2',\n",
       " 'bulk_3',\n",
       " 'bulk_4',\n",
       " 'bulk_5',\n",
       " 'bulk_6',\n",
       " 'bulk_7',\n",
       " 'bulk_8',\n",
       " 'bulk_9',\n",
       " 'bulk_10',\n",
       " 'bulk_11',\n",
       " 'bulk_12',\n",
       " 'bulk_13',\n",
       " 'bulk_14',\n",
       " 'bulk_15',\n",
       " 'wire_1',\n",
       " 'wire_2',\n",
       " 'wire_3',\n",
       " 'wire_4',\n",
       " 'wire_5',\n",
       " 'wire_6',\n",
       " 'wire_7',\n",
       " 'wire_8',\n",
       " 'wire_9',\n",
       " 'начальная_температура']"
      ]
     },
     "execution_count": 63,
     "metadata": {},
     "output_type": "execute_result"
    }
   ],
   "source": [
    "num_cols = X_train.select_dtypes('number').columns.tolist()\n",
    "num_cols"
   ]
  },
  {
   "cell_type": "code",
   "execution_count": 64,
   "metadata": {},
   "outputs": [
    {
     "name": "stdout",
     "output_type": "stream",
     "text": [
      "Размеры обучающих признаков (1743, 30)\n"
     ]
    }
   ],
   "source": [
    "print(f'Размеры обучающих признаков {X_train.shape}')"
   ]
  },
  {
   "cell_type": "markdown",
   "metadata": {},
   "source": [
    "Начнем создавать пайплайн"
   ]
  },
  {
   "cell_type": "code",
   "execution_count": 65,
   "metadata": {},
   "outputs": [],
   "source": [
    "# Пайплайн для числовых столбцов\n",
    "num_pipline = Pipeline([('impute', SimpleImputer(strategy='constant', fill_value=0)),\n",
    "                        ('scaler', MinMaxScaler()),\n",
    "                        ('drop_correlations', DropCorrelatedFeatures())])\n",
    "\n",
    "# Применение пайплайна выше к признакам/столбцам\n",
    "columns_pipeline = ColumnTransformer([('num_cols', num_pipline, num_cols)],\n",
    "                                      remainder='drop', n_jobs=-1,\n",
    "                                       verbose_feature_names_out=False\n",
    "                                    )"
   ]
  },
  {
   "cell_type": "markdown",
   "metadata": {},
   "source": [
    "Добавим следущим шагом удаление дубликатов, и выбор наиболее важных k признаков"
   ]
  },
  {
   "cell_type": "code",
   "execution_count": 66,
   "metadata": {},
   "outputs": [],
   "source": [
    "pipeline = make_pipeline(columns_pipeline, \n",
    "                         DropDuplicateFeatures(),\n",
    "                         SelectKBest(score_func=mutual_info_regression))"
   ]
  },
  {
   "cell_type": "markdown",
   "metadata": {},
   "source": [
    "Добавим последним шагом случайную модель"
   ]
  },
  {
   "cell_type": "code",
   "execution_count": 67,
   "metadata": {},
   "outputs": [],
   "source": [
    "pipeline.steps.append(('clf', DummyRegressor()))"
   ]
  },
  {
   "cell_type": "markdown",
   "metadata": {},
   "source": [
    "Изначальный порядок пайплайна выглядит так"
   ]
  },
  {
   "cell_type": "code",
   "execution_count": 68,
   "metadata": {},
   "outputs": [
    {
     "data": {
      "text/html": [
       "<style>#sk-container-id-1 {color: black;background-color: white;}#sk-container-id-1 pre{padding: 0;}#sk-container-id-1 div.sk-toggleable {background-color: white;}#sk-container-id-1 label.sk-toggleable__label {cursor: pointer;display: block;width: 100%;margin-bottom: 0;padding: 0.3em;box-sizing: border-box;text-align: center;}#sk-container-id-1 label.sk-toggleable__label-arrow:before {content: \"▸\";float: left;margin-right: 0.25em;color: #696969;}#sk-container-id-1 label.sk-toggleable__label-arrow:hover:before {color: black;}#sk-container-id-1 div.sk-estimator:hover label.sk-toggleable__label-arrow:before {color: black;}#sk-container-id-1 div.sk-toggleable__content {max-height: 0;max-width: 0;overflow: hidden;text-align: left;background-color: #f0f8ff;}#sk-container-id-1 div.sk-toggleable__content pre {margin: 0.2em;color: black;border-radius: 0.25em;background-color: #f0f8ff;}#sk-container-id-1 input.sk-toggleable__control:checked~div.sk-toggleable__content {max-height: 200px;max-width: 100%;overflow: auto;}#sk-container-id-1 input.sk-toggleable__control:checked~label.sk-toggleable__label-arrow:before {content: \"▾\";}#sk-container-id-1 div.sk-estimator input.sk-toggleable__control:checked~label.sk-toggleable__label {background-color: #d4ebff;}#sk-container-id-1 div.sk-label input.sk-toggleable__control:checked~label.sk-toggleable__label {background-color: #d4ebff;}#sk-container-id-1 input.sk-hidden--visually {border: 0;clip: rect(1px 1px 1px 1px);clip: rect(1px, 1px, 1px, 1px);height: 1px;margin: -1px;overflow: hidden;padding: 0;position: absolute;width: 1px;}#sk-container-id-1 div.sk-estimator {font-family: monospace;background-color: #f0f8ff;border: 1px dotted black;border-radius: 0.25em;box-sizing: border-box;margin-bottom: 0.5em;}#sk-container-id-1 div.sk-estimator:hover {background-color: #d4ebff;}#sk-container-id-1 div.sk-parallel-item::after {content: \"\";width: 100%;border-bottom: 1px solid gray;flex-grow: 1;}#sk-container-id-1 div.sk-label:hover label.sk-toggleable__label {background-color: #d4ebff;}#sk-container-id-1 div.sk-serial::before {content: \"\";position: absolute;border-left: 1px solid gray;box-sizing: border-box;top: 0;bottom: 0;left: 50%;z-index: 0;}#sk-container-id-1 div.sk-serial {display: flex;flex-direction: column;align-items: center;background-color: white;padding-right: 0.2em;padding-left: 0.2em;position: relative;}#sk-container-id-1 div.sk-item {position: relative;z-index: 1;}#sk-container-id-1 div.sk-parallel {display: flex;align-items: stretch;justify-content: center;background-color: white;position: relative;}#sk-container-id-1 div.sk-item::before, #sk-container-id-1 div.sk-parallel-item::before {content: \"\";position: absolute;border-left: 1px solid gray;box-sizing: border-box;top: 0;bottom: 0;left: 50%;z-index: -1;}#sk-container-id-1 div.sk-parallel-item {display: flex;flex-direction: column;z-index: 1;position: relative;background-color: white;}#sk-container-id-1 div.sk-parallel-item:first-child::after {align-self: flex-end;width: 50%;}#sk-container-id-1 div.sk-parallel-item:last-child::after {align-self: flex-start;width: 50%;}#sk-container-id-1 div.sk-parallel-item:only-child::after {width: 0;}#sk-container-id-1 div.sk-dashed-wrapped {border: 1px dashed gray;margin: 0 0.4em 0.5em 0.4em;box-sizing: border-box;padding-bottom: 0.4em;background-color: white;}#sk-container-id-1 div.sk-label label {font-family: monospace;font-weight: bold;display: inline-block;line-height: 1.2em;}#sk-container-id-1 div.sk-label-container {text-align: center;}#sk-container-id-1 div.sk-container {/* jupyter's `normalize.less` sets `[hidden] { display: none; }` but bootstrap.min.css set `[hidden] { display: none !important; }` so we also need the `!important` here to be able to override the default hidden behavior on the sphinx rendered scikit-learn.org. See: https://github.com/scikit-learn/scikit-learn/issues/21755 */display: inline-block !important;position: relative;}#sk-container-id-1 div.sk-text-repr-fallback {display: none;}</style><div id=\"sk-container-id-1\" class=\"sk-top-container\"><div class=\"sk-text-repr-fallback\"><pre>Pipeline(steps=[(&#x27;columntransformer&#x27;,\n",
       "                 ColumnTransformer(n_jobs=-1,\n",
       "                                   transformers=[(&#x27;num_cols&#x27;,\n",
       "                                                  Pipeline(steps=[(&#x27;impute&#x27;,\n",
       "                                                                   SimpleImputer(fill_value=0,\n",
       "                                                                                 strategy=&#x27;constant&#x27;)),\n",
       "                                                                  (&#x27;scaler&#x27;,\n",
       "                                                                   MinMaxScaler()),\n",
       "                                                                  (&#x27;drop_correlations&#x27;,\n",
       "                                                                   DropCorrelatedFeatures())]),\n",
       "                                                  [&#x27;активная_мощность&#x27;,\n",
       "                                                   &#x27;общая_работа&#x27;,\n",
       "                                                   &#x27;общее_время_нагрева&#x27;,\n",
       "                                                   &#x27;полная_мощность&#x27;, &#x27;газ_1&#x27;,\n",
       "                                                   &#x27;bulk_1&#x27;, &#x27;bulk_2&#x27;, &#x27;bulk_3...\n",
       "                                                   &#x27;bulk_12&#x27;, &#x27;bulk_13&#x27;,\n",
       "                                                   &#x27;bulk_14&#x27;, &#x27;bulk_15&#x27;,\n",
       "                                                   &#x27;wire_1&#x27;, &#x27;wire_2&#x27;, &#x27;wire_3&#x27;,\n",
       "                                                   &#x27;wire_4&#x27;, &#x27;wire_5&#x27;, &#x27;wire_6&#x27;,\n",
       "                                                   &#x27;wire_7&#x27;, &#x27;wire_8&#x27;, &#x27;wire_9&#x27;,\n",
       "                                                   &#x27;начальная_температура&#x27;])],\n",
       "                                   verbose_feature_names_out=False)),\n",
       "                (&#x27;dropduplicatefeatures&#x27;, DropDuplicateFeatures()),\n",
       "                (&#x27;selectkbest&#x27;,\n",
       "                 SelectKBest(score_func=&lt;function mutual_info_regression at 0x000001CF22849280&gt;)),\n",
       "                (&#x27;clf&#x27;, DummyRegressor())])</pre><b>In a Jupyter environment, please rerun this cell to show the HTML representation or trust the notebook. <br />On GitHub, the HTML representation is unable to render, please try loading this page with nbviewer.org.</b></div><div class=\"sk-container\" hidden><div class=\"sk-item sk-dashed-wrapped\"><div class=\"sk-label-container\"><div class=\"sk-label sk-toggleable\"><input class=\"sk-toggleable__control sk-hidden--visually\" id=\"sk-estimator-id-1\" type=\"checkbox\" ><label for=\"sk-estimator-id-1\" class=\"sk-toggleable__label sk-toggleable__label-arrow\">Pipeline</label><div class=\"sk-toggleable__content\"><pre>Pipeline(steps=[(&#x27;columntransformer&#x27;,\n",
       "                 ColumnTransformer(n_jobs=-1,\n",
       "                                   transformers=[(&#x27;num_cols&#x27;,\n",
       "                                                  Pipeline(steps=[(&#x27;impute&#x27;,\n",
       "                                                                   SimpleImputer(fill_value=0,\n",
       "                                                                                 strategy=&#x27;constant&#x27;)),\n",
       "                                                                  (&#x27;scaler&#x27;,\n",
       "                                                                   MinMaxScaler()),\n",
       "                                                                  (&#x27;drop_correlations&#x27;,\n",
       "                                                                   DropCorrelatedFeatures())]),\n",
       "                                                  [&#x27;активная_мощность&#x27;,\n",
       "                                                   &#x27;общая_работа&#x27;,\n",
       "                                                   &#x27;общее_время_нагрева&#x27;,\n",
       "                                                   &#x27;полная_мощность&#x27;, &#x27;газ_1&#x27;,\n",
       "                                                   &#x27;bulk_1&#x27;, &#x27;bulk_2&#x27;, &#x27;bulk_3...\n",
       "                                                   &#x27;bulk_12&#x27;, &#x27;bulk_13&#x27;,\n",
       "                                                   &#x27;bulk_14&#x27;, &#x27;bulk_15&#x27;,\n",
       "                                                   &#x27;wire_1&#x27;, &#x27;wire_2&#x27;, &#x27;wire_3&#x27;,\n",
       "                                                   &#x27;wire_4&#x27;, &#x27;wire_5&#x27;, &#x27;wire_6&#x27;,\n",
       "                                                   &#x27;wire_7&#x27;, &#x27;wire_8&#x27;, &#x27;wire_9&#x27;,\n",
       "                                                   &#x27;начальная_температура&#x27;])],\n",
       "                                   verbose_feature_names_out=False)),\n",
       "                (&#x27;dropduplicatefeatures&#x27;, DropDuplicateFeatures()),\n",
       "                (&#x27;selectkbest&#x27;,\n",
       "                 SelectKBest(score_func=&lt;function mutual_info_regression at 0x000001CF22849280&gt;)),\n",
       "                (&#x27;clf&#x27;, DummyRegressor())])</pre></div></div></div><div class=\"sk-serial\"><div class=\"sk-item sk-dashed-wrapped\"><div class=\"sk-label-container\"><div class=\"sk-label sk-toggleable\"><input class=\"sk-toggleable__control sk-hidden--visually\" id=\"sk-estimator-id-2\" type=\"checkbox\" ><label for=\"sk-estimator-id-2\" class=\"sk-toggleable__label sk-toggleable__label-arrow\">columntransformer: ColumnTransformer</label><div class=\"sk-toggleable__content\"><pre>ColumnTransformer(n_jobs=-1,\n",
       "                  transformers=[(&#x27;num_cols&#x27;,\n",
       "                                 Pipeline(steps=[(&#x27;impute&#x27;,\n",
       "                                                  SimpleImputer(fill_value=0,\n",
       "                                                                strategy=&#x27;constant&#x27;)),\n",
       "                                                 (&#x27;scaler&#x27;, MinMaxScaler()),\n",
       "                                                 (&#x27;drop_correlations&#x27;,\n",
       "                                                  DropCorrelatedFeatures())]),\n",
       "                                 [&#x27;активная_мощность&#x27;, &#x27;общая_работа&#x27;,\n",
       "                                  &#x27;общее_время_нагрева&#x27;, &#x27;полная_мощность&#x27;,\n",
       "                                  &#x27;газ_1&#x27;, &#x27;bulk_1&#x27;, &#x27;bulk_2&#x27;, &#x27;bulk_3&#x27;,\n",
       "                                  &#x27;bulk_4&#x27;, &#x27;bulk_5&#x27;, &#x27;bulk_6&#x27;, &#x27;bulk_7&#x27;,\n",
       "                                  &#x27;bulk_8&#x27;, &#x27;bulk_9&#x27;, &#x27;bulk_10&#x27;, &#x27;bulk_11&#x27;,\n",
       "                                  &#x27;bulk_12&#x27;, &#x27;bulk_13&#x27;, &#x27;bulk_14&#x27;, &#x27;bulk_15&#x27;,\n",
       "                                  &#x27;wire_1&#x27;, &#x27;wire_2&#x27;, &#x27;wire_3&#x27;, &#x27;wire_4&#x27;,\n",
       "                                  &#x27;wire_5&#x27;, &#x27;wire_6&#x27;, &#x27;wire_7&#x27;, &#x27;wire_8&#x27;,\n",
       "                                  &#x27;wire_9&#x27;, &#x27;начальная_температура&#x27;])],\n",
       "                  verbose_feature_names_out=False)</pre></div></div></div><div class=\"sk-parallel\"><div class=\"sk-parallel-item\"><div class=\"sk-item\"><div class=\"sk-label-container\"><div class=\"sk-label sk-toggleable\"><input class=\"sk-toggleable__control sk-hidden--visually\" id=\"sk-estimator-id-3\" type=\"checkbox\" ><label for=\"sk-estimator-id-3\" class=\"sk-toggleable__label sk-toggleable__label-arrow\">num_cols</label><div class=\"sk-toggleable__content\"><pre>[&#x27;активная_мощность&#x27;, &#x27;общая_работа&#x27;, &#x27;общее_время_нагрева&#x27;, &#x27;полная_мощность&#x27;, &#x27;газ_1&#x27;, &#x27;bulk_1&#x27;, &#x27;bulk_2&#x27;, &#x27;bulk_3&#x27;, &#x27;bulk_4&#x27;, &#x27;bulk_5&#x27;, &#x27;bulk_6&#x27;, &#x27;bulk_7&#x27;, &#x27;bulk_8&#x27;, &#x27;bulk_9&#x27;, &#x27;bulk_10&#x27;, &#x27;bulk_11&#x27;, &#x27;bulk_12&#x27;, &#x27;bulk_13&#x27;, &#x27;bulk_14&#x27;, &#x27;bulk_15&#x27;, &#x27;wire_1&#x27;, &#x27;wire_2&#x27;, &#x27;wire_3&#x27;, &#x27;wire_4&#x27;, &#x27;wire_5&#x27;, &#x27;wire_6&#x27;, &#x27;wire_7&#x27;, &#x27;wire_8&#x27;, &#x27;wire_9&#x27;, &#x27;начальная_температура&#x27;]</pre></div></div></div><div class=\"sk-serial\"><div class=\"sk-item\"><div class=\"sk-serial\"><div class=\"sk-item\"><div class=\"sk-estimator sk-toggleable\"><input class=\"sk-toggleable__control sk-hidden--visually\" id=\"sk-estimator-id-4\" type=\"checkbox\" ><label for=\"sk-estimator-id-4\" class=\"sk-toggleable__label sk-toggleable__label-arrow\">SimpleImputer</label><div class=\"sk-toggleable__content\"><pre>SimpleImputer(fill_value=0, strategy=&#x27;constant&#x27;)</pre></div></div></div><div class=\"sk-item\"><div class=\"sk-estimator sk-toggleable\"><input class=\"sk-toggleable__control sk-hidden--visually\" id=\"sk-estimator-id-5\" type=\"checkbox\" ><label for=\"sk-estimator-id-5\" class=\"sk-toggleable__label sk-toggleable__label-arrow\">MinMaxScaler</label><div class=\"sk-toggleable__content\"><pre>MinMaxScaler()</pre></div></div></div><div class=\"sk-item\"><div class=\"sk-estimator sk-toggleable\"><input class=\"sk-toggleable__control sk-hidden--visually\" id=\"sk-estimator-id-6\" type=\"checkbox\" ><label for=\"sk-estimator-id-6\" class=\"sk-toggleable__label sk-toggleable__label-arrow\">DropCorrelatedFeatures</label><div class=\"sk-toggleable__content\"><pre>DropCorrelatedFeatures()</pre></div></div></div></div></div></div></div></div></div></div><div class=\"sk-item\"><div class=\"sk-estimator sk-toggleable\"><input class=\"sk-toggleable__control sk-hidden--visually\" id=\"sk-estimator-id-7\" type=\"checkbox\" ><label for=\"sk-estimator-id-7\" class=\"sk-toggleable__label sk-toggleable__label-arrow\">DropDuplicateFeatures</label><div class=\"sk-toggleable__content\"><pre>DropDuplicateFeatures()</pre></div></div></div><div class=\"sk-item\"><div class=\"sk-estimator sk-toggleable\"><input class=\"sk-toggleable__control sk-hidden--visually\" id=\"sk-estimator-id-8\" type=\"checkbox\" ><label for=\"sk-estimator-id-8\" class=\"sk-toggleable__label sk-toggleable__label-arrow\">SelectKBest</label><div class=\"sk-toggleable__content\"><pre>SelectKBest(score_func=&lt;function mutual_info_regression at 0x000001CF22849280&gt;)</pre></div></div></div><div class=\"sk-item\"><div class=\"sk-estimator sk-toggleable\"><input class=\"sk-toggleable__control sk-hidden--visually\" id=\"sk-estimator-id-9\" type=\"checkbox\" ><label for=\"sk-estimator-id-9\" class=\"sk-toggleable__label sk-toggleable__label-arrow\">DummyRegressor</label><div class=\"sk-toggleable__content\"><pre>DummyRegressor()</pre></div></div></div></div></div></div></div>"
      ],
      "text/plain": [
       "Pipeline(steps=[('columntransformer',\n",
       "                 ColumnTransformer(n_jobs=-1,\n",
       "                                   transformers=[('num_cols',\n",
       "                                                  Pipeline(steps=[('impute',\n",
       "                                                                   SimpleImputer(fill_value=0,\n",
       "                                                                                 strategy='constant')),\n",
       "                                                                  ('scaler',\n",
       "                                                                   MinMaxScaler()),\n",
       "                                                                  ('drop_correlations',\n",
       "                                                                   DropCorrelatedFeatures())]),\n",
       "                                                  ['активная_мощность',\n",
       "                                                   'общая_работа',\n",
       "                                                   'общее_время_нагрева',\n",
       "                                                   'полная_мощность', 'газ_1',\n",
       "                                                   'bulk_1', 'bulk_2', 'bulk_3...\n",
       "                                                   'bulk_12', 'bulk_13',\n",
       "                                                   'bulk_14', 'bulk_15',\n",
       "                                                   'wire_1', 'wire_2', 'wire_3',\n",
       "                                                   'wire_4', 'wire_5', 'wire_6',\n",
       "                                                   'wire_7', 'wire_8', 'wire_9',\n",
       "                                                   'начальная_температура'])],\n",
       "                                   verbose_feature_names_out=False)),\n",
       "                ('dropduplicatefeatures', DropDuplicateFeatures()),\n",
       "                ('selectkbest',\n",
       "                 SelectKBest(score_func=<function mutual_info_regression at 0x000001CF22849280>)),\n",
       "                ('clf', DummyRegressor())])"
      ]
     },
     "execution_count": 68,
     "metadata": {},
     "output_type": "execute_result"
    }
   ],
   "source": [
    "pipeline"
   ]
  },
  {
   "cell_type": "markdown",
   "metadata": {},
   "source": [
    "Для нахождения лучшей модели применим метод поиска по сетке(params) наилучших параметров RandomizedSearchCV. Для поиска выберем 3 модели регрессии LogisticRegression, RandomForestRegressor и XGBRegressor, а также словарь параметров для подбора."
   ]
  },
  {
   "cell_type": "code",
   "execution_count": 69,
   "metadata": {},
   "outputs": [],
   "source": [
    "# Список параметров для подбора\n",
    "params = [\n",
    "\n",
    "    {\n",
    "        'clf': [DummyRegressor()]\n",
    "    },    \n",
    "    \n",
    "\n",
    "\n",
    "     {\n",
    "        'clf': [Ridge(random_state=random_state)],\n",
    "        'clf__solver':['svd', 'lsqr'],\n",
    "        'clf__alpha': [1e-2, 1e-1, 1, 10],\n",
    "        'clf__fit_intercept':[True, False],\n",
    "        'selectkbest__k' : np.arange(15, X_train.shape[1], 3),\n",
    "        'columntransformer__num_cols__drop_correlations__threshold': [0.9, 0.95]\n",
    "\n",
    "     },    \n",
    "    \n",
    "    \n",
    "    {\n",
    "        'clf': [RandomForestRegressor(random_state=random_state)],\n",
    "        'clf__n_estimators': [100, 200, 500],\n",
    "        'clf__max_depth': [3, 5, 15],\n",
    "        'clf__max_features': [None, 'sqrt', 5,],\n",
    "        'selectkbest__k' : np.arange(15, X_train.shape[1], 3),\n",
    "        'columntransformer__num_cols__scaler': [None, MaxAbsScaler()],\n",
    "        'columntransformer__num_cols__drop_correlations__threshold': [0.9, 0.95]\n",
    "    },\n",
    "\n",
    "\n",
    "    \n",
    "#   Кэтбуст считает чуть лучше но значительно дольше, поэтому закоментировал. Не знаю с чем связано. По началу считал быстро\n",
    "#     {\n",
    "#         'clf': [CatBoostRegressor(random_state=random_state, verbose=0)],\n",
    "#         'clf__learning_rate': np.arange(0.05, 1, 0.1),\n",
    "#         'clf__max_depth': np.arange(3, 20, 1),\n",
    "#         'clf__n_estimators': np.arange(50, 500, 30),\n",
    "#         'columntransformer__num_cols__scaler': [None, MaxAbsScaler()],\n",
    "#         'columntransformer__num_cols__drop_correlations__threshold': np.arange(0.85, 0.98, 0.03),\n",
    "#         'selectkbest__k' : np.arange(20, X_train.shape[1], 2)\n",
    "#     },\n",
    "    \n",
    "    {\n",
    "        'clf': [XGBRegressor(random_state=random_state, verbose=0)],\n",
    "        'clf__learning_rate': np.arange(0.05, 0.2, 0.1),\n",
    "        'clf__max_depth': np.arange(3, 5, 1),\n",
    "        'clf__n_estimators': np.arange(200, 400, 40),\n",
    "        'columntransformer__num_cols__scaler': [None, MaxAbsScaler()],\n",
    "        'columntransformer__num_cols__drop_correlations__threshold': [0.9, 0.95],\n",
    "        'selectkbest__k' : np.arange(15, X_train.shape[1], 3)\n",
    "    },    \n",
    "\n",
    "]\n",
    "\n",
    "\n",
    "grid = RandomizedSearchCV(pipeline,\n",
    "                    params,\n",
    "                    n_iter=200,\n",
    "                    cv=3,\n",
    "                    verbose=0,\n",
    "                    random_state=random_state,\n",
    "                    scoring='neg_mean_absolute_error',\n",
    "                    n_jobs=-1,\n",
    "#                     error_score='raise'\n",
    "                         )"
   ]
  },
  {
   "cell_type": "markdown",
   "metadata": {},
   "source": [
    "Запустим подбор на обучающей выборке"
   ]
  },
  {
   "cell_type": "code",
   "execution_count": 70,
   "metadata": {},
   "outputs": [
    {
     "name": "stdout",
     "output_type": "stream",
     "text": [
      "[01:29:10] WARNING: C:\\buildkite-agent\\builds\\buildkite-windows-cpu-autoscaling-group-i-07593ffd91cd9da33-1\\xgboost\\xgboost-ci-windows\\src\\learner.cc:767: \n",
      "Parameters: { \"verbose\" } are not used.\n",
      "\n",
      "CPU times: total: 5.81 s\n",
      "Wall time: 3min 28s\n"
     ]
    },
    {
     "data": {
      "text/html": [
       "<style>#sk-container-id-2 {color: black;background-color: white;}#sk-container-id-2 pre{padding: 0;}#sk-container-id-2 div.sk-toggleable {background-color: white;}#sk-container-id-2 label.sk-toggleable__label {cursor: pointer;display: block;width: 100%;margin-bottom: 0;padding: 0.3em;box-sizing: border-box;text-align: center;}#sk-container-id-2 label.sk-toggleable__label-arrow:before {content: \"▸\";float: left;margin-right: 0.25em;color: #696969;}#sk-container-id-2 label.sk-toggleable__label-arrow:hover:before {color: black;}#sk-container-id-2 div.sk-estimator:hover label.sk-toggleable__label-arrow:before {color: black;}#sk-container-id-2 div.sk-toggleable__content {max-height: 0;max-width: 0;overflow: hidden;text-align: left;background-color: #f0f8ff;}#sk-container-id-2 div.sk-toggleable__content pre {margin: 0.2em;color: black;border-radius: 0.25em;background-color: #f0f8ff;}#sk-container-id-2 input.sk-toggleable__control:checked~div.sk-toggleable__content {max-height: 200px;max-width: 100%;overflow: auto;}#sk-container-id-2 input.sk-toggleable__control:checked~label.sk-toggleable__label-arrow:before {content: \"▾\";}#sk-container-id-2 div.sk-estimator input.sk-toggleable__control:checked~label.sk-toggleable__label {background-color: #d4ebff;}#sk-container-id-2 div.sk-label input.sk-toggleable__control:checked~label.sk-toggleable__label {background-color: #d4ebff;}#sk-container-id-2 input.sk-hidden--visually {border: 0;clip: rect(1px 1px 1px 1px);clip: rect(1px, 1px, 1px, 1px);height: 1px;margin: -1px;overflow: hidden;padding: 0;position: absolute;width: 1px;}#sk-container-id-2 div.sk-estimator {font-family: monospace;background-color: #f0f8ff;border: 1px dotted black;border-radius: 0.25em;box-sizing: border-box;margin-bottom: 0.5em;}#sk-container-id-2 div.sk-estimator:hover {background-color: #d4ebff;}#sk-container-id-2 div.sk-parallel-item::after {content: \"\";width: 100%;border-bottom: 1px solid gray;flex-grow: 1;}#sk-container-id-2 div.sk-label:hover label.sk-toggleable__label {background-color: #d4ebff;}#sk-container-id-2 div.sk-serial::before {content: \"\";position: absolute;border-left: 1px solid gray;box-sizing: border-box;top: 0;bottom: 0;left: 50%;z-index: 0;}#sk-container-id-2 div.sk-serial {display: flex;flex-direction: column;align-items: center;background-color: white;padding-right: 0.2em;padding-left: 0.2em;position: relative;}#sk-container-id-2 div.sk-item {position: relative;z-index: 1;}#sk-container-id-2 div.sk-parallel {display: flex;align-items: stretch;justify-content: center;background-color: white;position: relative;}#sk-container-id-2 div.sk-item::before, #sk-container-id-2 div.sk-parallel-item::before {content: \"\";position: absolute;border-left: 1px solid gray;box-sizing: border-box;top: 0;bottom: 0;left: 50%;z-index: -1;}#sk-container-id-2 div.sk-parallel-item {display: flex;flex-direction: column;z-index: 1;position: relative;background-color: white;}#sk-container-id-2 div.sk-parallel-item:first-child::after {align-self: flex-end;width: 50%;}#sk-container-id-2 div.sk-parallel-item:last-child::after {align-self: flex-start;width: 50%;}#sk-container-id-2 div.sk-parallel-item:only-child::after {width: 0;}#sk-container-id-2 div.sk-dashed-wrapped {border: 1px dashed gray;margin: 0 0.4em 0.5em 0.4em;box-sizing: border-box;padding-bottom: 0.4em;background-color: white;}#sk-container-id-2 div.sk-label label {font-family: monospace;font-weight: bold;display: inline-block;line-height: 1.2em;}#sk-container-id-2 div.sk-label-container {text-align: center;}#sk-container-id-2 div.sk-container {/* jupyter's `normalize.less` sets `[hidden] { display: none; }` but bootstrap.min.css set `[hidden] { display: none !important; }` so we also need the `!important` here to be able to override the default hidden behavior on the sphinx rendered scikit-learn.org. See: https://github.com/scikit-learn/scikit-learn/issues/21755 */display: inline-block !important;position: relative;}#sk-container-id-2 div.sk-text-repr-fallback {display: none;}</style><div id=\"sk-container-id-2\" class=\"sk-top-container\"><div class=\"sk-text-repr-fallback\"><pre>RandomizedSearchCV(cv=3,\n",
       "                   estimator=Pipeline(steps=[(&#x27;columntransformer&#x27;,\n",
       "                                              ColumnTransformer(n_jobs=-1,\n",
       "                                                                transformers=[(&#x27;num_cols&#x27;,\n",
       "                                                                               Pipeline(steps=[(&#x27;impute&#x27;,\n",
       "                                                                                                SimpleImputer(fill_value=0,\n",
       "                                                                                                              strategy=&#x27;constant&#x27;)),\n",
       "                                                                                               (&#x27;scaler&#x27;,\n",
       "                                                                                                MinMaxScaler()),\n",
       "                                                                                               (&#x27;drop_correlations&#x27;,\n",
       "                                                                                                DropCorrelatedFeatures())]),\n",
       "                                                                               [&#x27;активная_мощность&#x27;,\n",
       "                                                                                &#x27;общая_работа&#x27;,\n",
       "                                                                                &#x27;общее_время_нагрева&#x27;,\n",
       "                                                                                &#x27;полная_мощность&#x27;...\n",
       "                                                              random_state=240423, ...)],\n",
       "                                         &#x27;clf__learning_rate&#x27;: array([0.05, 0.15]),\n",
       "                                         &#x27;clf__max_depth&#x27;: array([3, 4]),\n",
       "                                         &#x27;clf__n_estimators&#x27;: array([200, 240, 280, 320, 360]),\n",
       "                                         &#x27;columntransformer__num_cols__drop_correlations__threshold&#x27;: [0.9,\n",
       "                                                                                                       0.95],\n",
       "                                         &#x27;columntransformer__num_cols__scaler&#x27;: [None,\n",
       "                                                                                 MaxAbsScaler()],\n",
       "                                         &#x27;selectkbest__k&#x27;: array([15, 18, 21, 24, 27])}],\n",
       "                   random_state=240423, scoring=&#x27;neg_mean_absolute_error&#x27;)</pre><b>In a Jupyter environment, please rerun this cell to show the HTML representation or trust the notebook. <br />On GitHub, the HTML representation is unable to render, please try loading this page with nbviewer.org.</b></div><div class=\"sk-container\" hidden><div class=\"sk-item sk-dashed-wrapped\"><div class=\"sk-label-container\"><div class=\"sk-label sk-toggleable\"><input class=\"sk-toggleable__control sk-hidden--visually\" id=\"sk-estimator-id-10\" type=\"checkbox\" ><label for=\"sk-estimator-id-10\" class=\"sk-toggleable__label sk-toggleable__label-arrow\">RandomizedSearchCV</label><div class=\"sk-toggleable__content\"><pre>RandomizedSearchCV(cv=3,\n",
       "                   estimator=Pipeline(steps=[(&#x27;columntransformer&#x27;,\n",
       "                                              ColumnTransformer(n_jobs=-1,\n",
       "                                                                transformers=[(&#x27;num_cols&#x27;,\n",
       "                                                                               Pipeline(steps=[(&#x27;impute&#x27;,\n",
       "                                                                                                SimpleImputer(fill_value=0,\n",
       "                                                                                                              strategy=&#x27;constant&#x27;)),\n",
       "                                                                                               (&#x27;scaler&#x27;,\n",
       "                                                                                                MinMaxScaler()),\n",
       "                                                                                               (&#x27;drop_correlations&#x27;,\n",
       "                                                                                                DropCorrelatedFeatures())]),\n",
       "                                                                               [&#x27;активная_мощность&#x27;,\n",
       "                                                                                &#x27;общая_работа&#x27;,\n",
       "                                                                                &#x27;общее_время_нагрева&#x27;,\n",
       "                                                                                &#x27;полная_мощность&#x27;...\n",
       "                                                              random_state=240423, ...)],\n",
       "                                         &#x27;clf__learning_rate&#x27;: array([0.05, 0.15]),\n",
       "                                         &#x27;clf__max_depth&#x27;: array([3, 4]),\n",
       "                                         &#x27;clf__n_estimators&#x27;: array([200, 240, 280, 320, 360]),\n",
       "                                         &#x27;columntransformer__num_cols__drop_correlations__threshold&#x27;: [0.9,\n",
       "                                                                                                       0.95],\n",
       "                                         &#x27;columntransformer__num_cols__scaler&#x27;: [None,\n",
       "                                                                                 MaxAbsScaler()],\n",
       "                                         &#x27;selectkbest__k&#x27;: array([15, 18, 21, 24, 27])}],\n",
       "                   random_state=240423, scoring=&#x27;neg_mean_absolute_error&#x27;)</pre></div></div></div><div class=\"sk-parallel\"><div class=\"sk-parallel-item\"><div class=\"sk-item\"><div class=\"sk-label-container\"><div class=\"sk-label sk-toggleable\"><input class=\"sk-toggleable__control sk-hidden--visually\" id=\"sk-estimator-id-11\" type=\"checkbox\" ><label for=\"sk-estimator-id-11\" class=\"sk-toggleable__label sk-toggleable__label-arrow\">estimator: Pipeline</label><div class=\"sk-toggleable__content\"><pre>Pipeline(steps=[(&#x27;columntransformer&#x27;,\n",
       "                 ColumnTransformer(n_jobs=-1,\n",
       "                                   transformers=[(&#x27;num_cols&#x27;,\n",
       "                                                  Pipeline(steps=[(&#x27;impute&#x27;,\n",
       "                                                                   SimpleImputer(fill_value=0,\n",
       "                                                                                 strategy=&#x27;constant&#x27;)),\n",
       "                                                                  (&#x27;scaler&#x27;,\n",
       "                                                                   MinMaxScaler()),\n",
       "                                                                  (&#x27;drop_correlations&#x27;,\n",
       "                                                                   DropCorrelatedFeatures())]),\n",
       "                                                  [&#x27;активная_мощность&#x27;,\n",
       "                                                   &#x27;общая_работа&#x27;,\n",
       "                                                   &#x27;общее_время_нагрева&#x27;,\n",
       "                                                   &#x27;полная_мощность&#x27;, &#x27;газ_1&#x27;,\n",
       "                                                   &#x27;bulk_1&#x27;, &#x27;bulk_2&#x27;, &#x27;bulk_3...\n",
       "                                                   &#x27;bulk_12&#x27;, &#x27;bulk_13&#x27;,\n",
       "                                                   &#x27;bulk_14&#x27;, &#x27;bulk_15&#x27;,\n",
       "                                                   &#x27;wire_1&#x27;, &#x27;wire_2&#x27;, &#x27;wire_3&#x27;,\n",
       "                                                   &#x27;wire_4&#x27;, &#x27;wire_5&#x27;, &#x27;wire_6&#x27;,\n",
       "                                                   &#x27;wire_7&#x27;, &#x27;wire_8&#x27;, &#x27;wire_9&#x27;,\n",
       "                                                   &#x27;начальная_температура&#x27;])],\n",
       "                                   verbose_feature_names_out=False)),\n",
       "                (&#x27;dropduplicatefeatures&#x27;, DropDuplicateFeatures()),\n",
       "                (&#x27;selectkbest&#x27;,\n",
       "                 SelectKBest(score_func=&lt;function mutual_info_regression at 0x000001CF22849280&gt;)),\n",
       "                (&#x27;clf&#x27;, DummyRegressor())])</pre></div></div></div><div class=\"sk-serial\"><div class=\"sk-item\"><div class=\"sk-serial\"><div class=\"sk-item sk-dashed-wrapped\"><div class=\"sk-label-container\"><div class=\"sk-label sk-toggleable\"><input class=\"sk-toggleable__control sk-hidden--visually\" id=\"sk-estimator-id-12\" type=\"checkbox\" ><label for=\"sk-estimator-id-12\" class=\"sk-toggleable__label sk-toggleable__label-arrow\">columntransformer: ColumnTransformer</label><div class=\"sk-toggleable__content\"><pre>ColumnTransformer(n_jobs=-1,\n",
       "                  transformers=[(&#x27;num_cols&#x27;,\n",
       "                                 Pipeline(steps=[(&#x27;impute&#x27;,\n",
       "                                                  SimpleImputer(fill_value=0,\n",
       "                                                                strategy=&#x27;constant&#x27;)),\n",
       "                                                 (&#x27;scaler&#x27;, MinMaxScaler()),\n",
       "                                                 (&#x27;drop_correlations&#x27;,\n",
       "                                                  DropCorrelatedFeatures())]),\n",
       "                                 [&#x27;активная_мощность&#x27;, &#x27;общая_работа&#x27;,\n",
       "                                  &#x27;общее_время_нагрева&#x27;, &#x27;полная_мощность&#x27;,\n",
       "                                  &#x27;газ_1&#x27;, &#x27;bulk_1&#x27;, &#x27;bulk_2&#x27;, &#x27;bulk_3&#x27;,\n",
       "                                  &#x27;bulk_4&#x27;, &#x27;bulk_5&#x27;, &#x27;bulk_6&#x27;, &#x27;bulk_7&#x27;,\n",
       "                                  &#x27;bulk_8&#x27;, &#x27;bulk_9&#x27;, &#x27;bulk_10&#x27;, &#x27;bulk_11&#x27;,\n",
       "                                  &#x27;bulk_12&#x27;, &#x27;bulk_13&#x27;, &#x27;bulk_14&#x27;, &#x27;bulk_15&#x27;,\n",
       "                                  &#x27;wire_1&#x27;, &#x27;wire_2&#x27;, &#x27;wire_3&#x27;, &#x27;wire_4&#x27;,\n",
       "                                  &#x27;wire_5&#x27;, &#x27;wire_6&#x27;, &#x27;wire_7&#x27;, &#x27;wire_8&#x27;,\n",
       "                                  &#x27;wire_9&#x27;, &#x27;начальная_температура&#x27;])],\n",
       "                  verbose_feature_names_out=False)</pre></div></div></div><div class=\"sk-parallel\"><div class=\"sk-parallel-item\"><div class=\"sk-item\"><div class=\"sk-label-container\"><div class=\"sk-label sk-toggleable\"><input class=\"sk-toggleable__control sk-hidden--visually\" id=\"sk-estimator-id-13\" type=\"checkbox\" ><label for=\"sk-estimator-id-13\" class=\"sk-toggleable__label sk-toggleable__label-arrow\">num_cols</label><div class=\"sk-toggleable__content\"><pre>[&#x27;активная_мощность&#x27;, &#x27;общая_работа&#x27;, &#x27;общее_время_нагрева&#x27;, &#x27;полная_мощность&#x27;, &#x27;газ_1&#x27;, &#x27;bulk_1&#x27;, &#x27;bulk_2&#x27;, &#x27;bulk_3&#x27;, &#x27;bulk_4&#x27;, &#x27;bulk_5&#x27;, &#x27;bulk_6&#x27;, &#x27;bulk_7&#x27;, &#x27;bulk_8&#x27;, &#x27;bulk_9&#x27;, &#x27;bulk_10&#x27;, &#x27;bulk_11&#x27;, &#x27;bulk_12&#x27;, &#x27;bulk_13&#x27;, &#x27;bulk_14&#x27;, &#x27;bulk_15&#x27;, &#x27;wire_1&#x27;, &#x27;wire_2&#x27;, &#x27;wire_3&#x27;, &#x27;wire_4&#x27;, &#x27;wire_5&#x27;, &#x27;wire_6&#x27;, &#x27;wire_7&#x27;, &#x27;wire_8&#x27;, &#x27;wire_9&#x27;, &#x27;начальная_температура&#x27;]</pre></div></div></div><div class=\"sk-serial\"><div class=\"sk-item\"><div class=\"sk-serial\"><div class=\"sk-item\"><div class=\"sk-estimator sk-toggleable\"><input class=\"sk-toggleable__control sk-hidden--visually\" id=\"sk-estimator-id-14\" type=\"checkbox\" ><label for=\"sk-estimator-id-14\" class=\"sk-toggleable__label sk-toggleable__label-arrow\">SimpleImputer</label><div class=\"sk-toggleable__content\"><pre>SimpleImputer(fill_value=0, strategy=&#x27;constant&#x27;)</pre></div></div></div><div class=\"sk-item\"><div class=\"sk-estimator sk-toggleable\"><input class=\"sk-toggleable__control sk-hidden--visually\" id=\"sk-estimator-id-15\" type=\"checkbox\" ><label for=\"sk-estimator-id-15\" class=\"sk-toggleable__label sk-toggleable__label-arrow\">MinMaxScaler</label><div class=\"sk-toggleable__content\"><pre>MinMaxScaler()</pre></div></div></div><div class=\"sk-item\"><div class=\"sk-estimator sk-toggleable\"><input class=\"sk-toggleable__control sk-hidden--visually\" id=\"sk-estimator-id-16\" type=\"checkbox\" ><label for=\"sk-estimator-id-16\" class=\"sk-toggleable__label sk-toggleable__label-arrow\">DropCorrelatedFeatures</label><div class=\"sk-toggleable__content\"><pre>DropCorrelatedFeatures()</pre></div></div></div></div></div></div></div></div></div></div><div class=\"sk-item\"><div class=\"sk-estimator sk-toggleable\"><input class=\"sk-toggleable__control sk-hidden--visually\" id=\"sk-estimator-id-17\" type=\"checkbox\" ><label for=\"sk-estimator-id-17\" class=\"sk-toggleable__label sk-toggleable__label-arrow\">DropDuplicateFeatures</label><div class=\"sk-toggleable__content\"><pre>DropDuplicateFeatures()</pre></div></div></div><div class=\"sk-item\"><div class=\"sk-estimator sk-toggleable\"><input class=\"sk-toggleable__control sk-hidden--visually\" id=\"sk-estimator-id-18\" type=\"checkbox\" ><label for=\"sk-estimator-id-18\" class=\"sk-toggleable__label sk-toggleable__label-arrow\">SelectKBest</label><div class=\"sk-toggleable__content\"><pre>SelectKBest(score_func=&lt;function mutual_info_regression at 0x000001CF22849280&gt;)</pre></div></div></div><div class=\"sk-item\"><div class=\"sk-estimator sk-toggleable\"><input class=\"sk-toggleable__control sk-hidden--visually\" id=\"sk-estimator-id-19\" type=\"checkbox\" ><label for=\"sk-estimator-id-19\" class=\"sk-toggleable__label sk-toggleable__label-arrow\">DummyRegressor</label><div class=\"sk-toggleable__content\"><pre>DummyRegressor()</pre></div></div></div></div></div></div></div></div></div></div></div></div>"
      ],
      "text/plain": [
       "RandomizedSearchCV(cv=3,\n",
       "                   estimator=Pipeline(steps=[('columntransformer',\n",
       "                                              ColumnTransformer(n_jobs=-1,\n",
       "                                                                transformers=[('num_cols',\n",
       "                                                                               Pipeline(steps=[('impute',\n",
       "                                                                                                SimpleImputer(fill_value=0,\n",
       "                                                                                                              strategy='constant')),\n",
       "                                                                                               ('scaler',\n",
       "                                                                                                MinMaxScaler()),\n",
       "                                                                                               ('drop_correlations',\n",
       "                                                                                                DropCorrelatedFeatures())]),\n",
       "                                                                               ['активная_мощность',\n",
       "                                                                                'общая_работа',\n",
       "                                                                                'общее_время_нагрева',\n",
       "                                                                                'полная_мощность'...\n",
       "                                                              random_state=240423, ...)],\n",
       "                                         'clf__learning_rate': array([0.05, 0.15]),\n",
       "                                         'clf__max_depth': array([3, 4]),\n",
       "                                         'clf__n_estimators': array([200, 240, 280, 320, 360]),\n",
       "                                         'columntransformer__num_cols__drop_correlations__threshold': [0.9,\n",
       "                                                                                                       0.95],\n",
       "                                         'columntransformer__num_cols__scaler': [None,\n",
       "                                                                                 MaxAbsScaler()],\n",
       "                                         'selectkbest__k': array([15, 18, 21, 24, 27])}],\n",
       "                   random_state=240423, scoring='neg_mean_absolute_error')"
      ]
     },
     "execution_count": 70,
     "metadata": {},
     "output_type": "execute_result"
    }
   ],
   "source": [
    "%%time\n",
    "grid.fit(X_train, y_train)"
   ]
  },
  {
   "cell_type": "markdown",
   "metadata": {},
   "source": [
    "Посмотрим на результаты"
   ]
  },
  {
   "cell_type": "code",
   "execution_count": 71,
   "metadata": {
    "scrolled": true
   },
   "outputs": [
    {
     "data": {
      "text/html": [
       "<div>\n",
       "<style scoped>\n",
       "    .dataframe tbody tr th:only-of-type {\n",
       "        vertical-align: middle;\n",
       "    }\n",
       "\n",
       "    .dataframe tbody tr th {\n",
       "        vertical-align: top;\n",
       "    }\n",
       "\n",
       "    .dataframe thead th {\n",
       "        text-align: right;\n",
       "    }\n",
       "</style>\n",
       "<table border=\"1\" class=\"dataframe\">\n",
       "  <thead>\n",
       "    <tr style=\"text-align: right;\">\n",
       "      <th></th>\n",
       "      <th>Лучшая МАЕ</th>\n",
       "    </tr>\n",
       "    <tr>\n",
       "      <th>param_clf</th>\n",
       "      <th></th>\n",
       "    </tr>\n",
       "  </thead>\n",
       "  <tbody>\n",
       "    <tr>\n",
       "      <th>XGBRegressor</th>\n",
       "      <td>-6.237166</td>\n",
       "    </tr>\n",
       "    <tr>\n",
       "      <th>Ridge</th>\n",
       "      <td>-6.361278</td>\n",
       "    </tr>\n",
       "    <tr>\n",
       "      <th>RandomForestRegressor</th>\n",
       "      <td>-6.439824</td>\n",
       "    </tr>\n",
       "  </tbody>\n",
       "</table>\n",
       "</div>"
      ],
      "text/plain": [
       "                       Лучшая МАЕ\n",
       "param_clf                        \n",
       "XGBRegressor            -6.237166\n",
       "Ridge                   -6.361278\n",
       "RandomForestRegressor   -6.439824"
      ]
     },
     "execution_count": 71,
     "metadata": {},
     "output_type": "execute_result"
    }
   ],
   "source": [
    "cv_results = pd.DataFrame(grid.cv_results_).sort_values('mean_test_score', ascending=False)\n",
    "cv_results = cv_results[['rank_test_score', 'param_clf', 'mean_test_score', 'mean_fit_time', 'params']]\n",
    "#выберем название модели из объекта модели\n",
    "cv_results['param_clf'] = cv_results['param_clf'].apply(lambda x: type(x).__name__)\n",
    "\n",
    "cv_results = cv_results.pivot_table(index='param_clf',\n",
    "                                     values=['mean_test_score'],\n",
    "                                     aggfunc={'mean_test_score': 'max'}\n",
    "                                    )\n",
    "cv_results.columns = ['Лучшая МАЕ']\n",
    "cv_results.sort_values('Лучшая МАЕ', ascending=False)"
   ]
  },
  {
   "cell_type": "markdown",
   "metadata": {},
   "source": [
    "Лучшая **MAE на обучающих** данных"
   ]
  },
  {
   "cell_type": "code",
   "execution_count": 72,
   "metadata": {},
   "outputs": [
    {
     "data": {
      "text/plain": [
       "-6.237166089021263"
      ]
     },
     "execution_count": 72,
     "metadata": {},
     "output_type": "execute_result"
    }
   ],
   "source": [
    "grid.best_score_"
   ]
  },
  {
   "cell_type": "markdown",
   "metadata": {},
   "source": [
    "Параметры лучшей модели"
   ]
  },
  {
   "cell_type": "code",
   "execution_count": 73,
   "metadata": {},
   "outputs": [
    {
     "data": {
      "text/plain": [
       "{'selectkbest__k': 21,\n",
       " 'columntransformer__num_cols__scaler': MaxAbsScaler(),\n",
       " 'columntransformer__num_cols__drop_correlations__threshold': 0.95,\n",
       " 'clf__n_estimators': 200,\n",
       " 'clf__max_depth': 4,\n",
       " 'clf__learning_rate': 0.05,\n",
       " 'clf': XGBRegressor(base_score=None, booster=None, callbacks=None,\n",
       "              colsample_bylevel=None, colsample_bynode=None,\n",
       "              colsample_bytree=None, early_stopping_rounds=None,\n",
       "              enable_categorical=False, eval_metric=None, feature_types=None,\n",
       "              gamma=None, gpu_id=None, grow_policy=None, importance_type=None,\n",
       "              interaction_constraints=None, learning_rate=0.05, max_bin=None,\n",
       "              max_cat_threshold=None, max_cat_to_onehot=None,\n",
       "              max_delta_step=None, max_depth=4, max_leaves=None,\n",
       "              min_child_weight=None, missing=nan, monotone_constraints=None,\n",
       "              n_estimators=200, n_jobs=None, num_parallel_tree=None,\n",
       "              predictor=None, random_state=240423, ...)}"
      ]
     },
     "execution_count": 73,
     "metadata": {},
     "output_type": "execute_result"
    }
   ],
   "source": [
    "grid.best_params_"
   ]
  },
  {
   "cell_type": "markdown",
   "metadata": {},
   "source": [
    "Порядок обработки и обучения"
   ]
  },
  {
   "cell_type": "code",
   "execution_count": 74,
   "metadata": {},
   "outputs": [
    {
     "data": {
      "text/html": [
       "<style>#sk-container-id-3 {color: black;background-color: white;}#sk-container-id-3 pre{padding: 0;}#sk-container-id-3 div.sk-toggleable {background-color: white;}#sk-container-id-3 label.sk-toggleable__label {cursor: pointer;display: block;width: 100%;margin-bottom: 0;padding: 0.3em;box-sizing: border-box;text-align: center;}#sk-container-id-3 label.sk-toggleable__label-arrow:before {content: \"▸\";float: left;margin-right: 0.25em;color: #696969;}#sk-container-id-3 label.sk-toggleable__label-arrow:hover:before {color: black;}#sk-container-id-3 div.sk-estimator:hover label.sk-toggleable__label-arrow:before {color: black;}#sk-container-id-3 div.sk-toggleable__content {max-height: 0;max-width: 0;overflow: hidden;text-align: left;background-color: #f0f8ff;}#sk-container-id-3 div.sk-toggleable__content pre {margin: 0.2em;color: black;border-radius: 0.25em;background-color: #f0f8ff;}#sk-container-id-3 input.sk-toggleable__control:checked~div.sk-toggleable__content {max-height: 200px;max-width: 100%;overflow: auto;}#sk-container-id-3 input.sk-toggleable__control:checked~label.sk-toggleable__label-arrow:before {content: \"▾\";}#sk-container-id-3 div.sk-estimator input.sk-toggleable__control:checked~label.sk-toggleable__label {background-color: #d4ebff;}#sk-container-id-3 div.sk-label input.sk-toggleable__control:checked~label.sk-toggleable__label {background-color: #d4ebff;}#sk-container-id-3 input.sk-hidden--visually {border: 0;clip: rect(1px 1px 1px 1px);clip: rect(1px, 1px, 1px, 1px);height: 1px;margin: -1px;overflow: hidden;padding: 0;position: absolute;width: 1px;}#sk-container-id-3 div.sk-estimator {font-family: monospace;background-color: #f0f8ff;border: 1px dotted black;border-radius: 0.25em;box-sizing: border-box;margin-bottom: 0.5em;}#sk-container-id-3 div.sk-estimator:hover {background-color: #d4ebff;}#sk-container-id-3 div.sk-parallel-item::after {content: \"\";width: 100%;border-bottom: 1px solid gray;flex-grow: 1;}#sk-container-id-3 div.sk-label:hover label.sk-toggleable__label {background-color: #d4ebff;}#sk-container-id-3 div.sk-serial::before {content: \"\";position: absolute;border-left: 1px solid gray;box-sizing: border-box;top: 0;bottom: 0;left: 50%;z-index: 0;}#sk-container-id-3 div.sk-serial {display: flex;flex-direction: column;align-items: center;background-color: white;padding-right: 0.2em;padding-left: 0.2em;position: relative;}#sk-container-id-3 div.sk-item {position: relative;z-index: 1;}#sk-container-id-3 div.sk-parallel {display: flex;align-items: stretch;justify-content: center;background-color: white;position: relative;}#sk-container-id-3 div.sk-item::before, #sk-container-id-3 div.sk-parallel-item::before {content: \"\";position: absolute;border-left: 1px solid gray;box-sizing: border-box;top: 0;bottom: 0;left: 50%;z-index: -1;}#sk-container-id-3 div.sk-parallel-item {display: flex;flex-direction: column;z-index: 1;position: relative;background-color: white;}#sk-container-id-3 div.sk-parallel-item:first-child::after {align-self: flex-end;width: 50%;}#sk-container-id-3 div.sk-parallel-item:last-child::after {align-self: flex-start;width: 50%;}#sk-container-id-3 div.sk-parallel-item:only-child::after {width: 0;}#sk-container-id-3 div.sk-dashed-wrapped {border: 1px dashed gray;margin: 0 0.4em 0.5em 0.4em;box-sizing: border-box;padding-bottom: 0.4em;background-color: white;}#sk-container-id-3 div.sk-label label {font-family: monospace;font-weight: bold;display: inline-block;line-height: 1.2em;}#sk-container-id-3 div.sk-label-container {text-align: center;}#sk-container-id-3 div.sk-container {/* jupyter's `normalize.less` sets `[hidden] { display: none; }` but bootstrap.min.css set `[hidden] { display: none !important; }` so we also need the `!important` here to be able to override the default hidden behavior on the sphinx rendered scikit-learn.org. See: https://github.com/scikit-learn/scikit-learn/issues/21755 */display: inline-block !important;position: relative;}#sk-container-id-3 div.sk-text-repr-fallback {display: none;}</style><div id=\"sk-container-id-3\" class=\"sk-top-container\"><div class=\"sk-text-repr-fallback\"><pre>Pipeline(steps=[(&#x27;columntransformer&#x27;,\n",
       "                 ColumnTransformer(n_jobs=-1,\n",
       "                                   transformers=[(&#x27;num_cols&#x27;,\n",
       "                                                  Pipeline(steps=[(&#x27;impute&#x27;,\n",
       "                                                                   SimpleImputer(fill_value=0,\n",
       "                                                                                 strategy=&#x27;constant&#x27;)),\n",
       "                                                                  (&#x27;scaler&#x27;,\n",
       "                                                                   MaxAbsScaler()),\n",
       "                                                                  (&#x27;drop_correlations&#x27;,\n",
       "                                                                   DropCorrelatedFeatures(threshold=0.95))]),\n",
       "                                                  [&#x27;активная_мощность&#x27;,\n",
       "                                                   &#x27;общая_работа&#x27;,\n",
       "                                                   &#x27;общее_время_нагрева&#x27;,\n",
       "                                                   &#x27;полная_мощность&#x27;, &#x27;газ_1&#x27;,\n",
       "                                                   &#x27;bulk_1&#x27;, &#x27;b...\n",
       "                              feature_types=None, gamma=None, gpu_id=None,\n",
       "                              grow_policy=None, importance_type=None,\n",
       "                              interaction_constraints=None, learning_rate=0.05,\n",
       "                              max_bin=None, max_cat_threshold=None,\n",
       "                              max_cat_to_onehot=None, max_delta_step=None,\n",
       "                              max_depth=4, max_leaves=None,\n",
       "                              min_child_weight=None, missing=nan,\n",
       "                              monotone_constraints=None, n_estimators=200,\n",
       "                              n_jobs=None, num_parallel_tree=None,\n",
       "                              predictor=None, random_state=240423, ...))])</pre><b>In a Jupyter environment, please rerun this cell to show the HTML representation or trust the notebook. <br />On GitHub, the HTML representation is unable to render, please try loading this page with nbviewer.org.</b></div><div class=\"sk-container\" hidden><div class=\"sk-item sk-dashed-wrapped\"><div class=\"sk-label-container\"><div class=\"sk-label sk-toggleable\"><input class=\"sk-toggleable__control sk-hidden--visually\" id=\"sk-estimator-id-20\" type=\"checkbox\" ><label for=\"sk-estimator-id-20\" class=\"sk-toggleable__label sk-toggleable__label-arrow\">Pipeline</label><div class=\"sk-toggleable__content\"><pre>Pipeline(steps=[(&#x27;columntransformer&#x27;,\n",
       "                 ColumnTransformer(n_jobs=-1,\n",
       "                                   transformers=[(&#x27;num_cols&#x27;,\n",
       "                                                  Pipeline(steps=[(&#x27;impute&#x27;,\n",
       "                                                                   SimpleImputer(fill_value=0,\n",
       "                                                                                 strategy=&#x27;constant&#x27;)),\n",
       "                                                                  (&#x27;scaler&#x27;,\n",
       "                                                                   MaxAbsScaler()),\n",
       "                                                                  (&#x27;drop_correlations&#x27;,\n",
       "                                                                   DropCorrelatedFeatures(threshold=0.95))]),\n",
       "                                                  [&#x27;активная_мощность&#x27;,\n",
       "                                                   &#x27;общая_работа&#x27;,\n",
       "                                                   &#x27;общее_время_нагрева&#x27;,\n",
       "                                                   &#x27;полная_мощность&#x27;, &#x27;газ_1&#x27;,\n",
       "                                                   &#x27;bulk_1&#x27;, &#x27;b...\n",
       "                              feature_types=None, gamma=None, gpu_id=None,\n",
       "                              grow_policy=None, importance_type=None,\n",
       "                              interaction_constraints=None, learning_rate=0.05,\n",
       "                              max_bin=None, max_cat_threshold=None,\n",
       "                              max_cat_to_onehot=None, max_delta_step=None,\n",
       "                              max_depth=4, max_leaves=None,\n",
       "                              min_child_weight=None, missing=nan,\n",
       "                              monotone_constraints=None, n_estimators=200,\n",
       "                              n_jobs=None, num_parallel_tree=None,\n",
       "                              predictor=None, random_state=240423, ...))])</pre></div></div></div><div class=\"sk-serial\"><div class=\"sk-item sk-dashed-wrapped\"><div class=\"sk-label-container\"><div class=\"sk-label sk-toggleable\"><input class=\"sk-toggleable__control sk-hidden--visually\" id=\"sk-estimator-id-21\" type=\"checkbox\" ><label for=\"sk-estimator-id-21\" class=\"sk-toggleable__label sk-toggleable__label-arrow\">columntransformer: ColumnTransformer</label><div class=\"sk-toggleable__content\"><pre>ColumnTransformer(n_jobs=-1,\n",
       "                  transformers=[(&#x27;num_cols&#x27;,\n",
       "                                 Pipeline(steps=[(&#x27;impute&#x27;,\n",
       "                                                  SimpleImputer(fill_value=0,\n",
       "                                                                strategy=&#x27;constant&#x27;)),\n",
       "                                                 (&#x27;scaler&#x27;, MaxAbsScaler()),\n",
       "                                                 (&#x27;drop_correlations&#x27;,\n",
       "                                                  DropCorrelatedFeatures(threshold=0.95))]),\n",
       "                                 [&#x27;активная_мощность&#x27;, &#x27;общая_работа&#x27;,\n",
       "                                  &#x27;общее_время_нагрева&#x27;, &#x27;полная_мощность&#x27;,\n",
       "                                  &#x27;газ_1&#x27;, &#x27;bulk_1&#x27;, &#x27;bulk_2&#x27;, &#x27;bulk_3&#x27;,\n",
       "                                  &#x27;bulk_4&#x27;, &#x27;bulk_5&#x27;, &#x27;bulk_6&#x27;, &#x27;bulk_7&#x27;,\n",
       "                                  &#x27;bulk_8&#x27;, &#x27;bulk_9&#x27;, &#x27;bulk_10&#x27;, &#x27;bulk_11&#x27;,\n",
       "                                  &#x27;bulk_12&#x27;, &#x27;bulk_13&#x27;, &#x27;bulk_14&#x27;, &#x27;bulk_15&#x27;,\n",
       "                                  &#x27;wire_1&#x27;, &#x27;wire_2&#x27;, &#x27;wire_3&#x27;, &#x27;wire_4&#x27;,\n",
       "                                  &#x27;wire_5&#x27;, &#x27;wire_6&#x27;, &#x27;wire_7&#x27;, &#x27;wire_8&#x27;,\n",
       "                                  &#x27;wire_9&#x27;, &#x27;начальная_температура&#x27;])],\n",
       "                  verbose_feature_names_out=False)</pre></div></div></div><div class=\"sk-parallel\"><div class=\"sk-parallel-item\"><div class=\"sk-item\"><div class=\"sk-label-container\"><div class=\"sk-label sk-toggleable\"><input class=\"sk-toggleable__control sk-hidden--visually\" id=\"sk-estimator-id-22\" type=\"checkbox\" ><label for=\"sk-estimator-id-22\" class=\"sk-toggleable__label sk-toggleable__label-arrow\">num_cols</label><div class=\"sk-toggleable__content\"><pre>[&#x27;активная_мощность&#x27;, &#x27;общая_работа&#x27;, &#x27;общее_время_нагрева&#x27;, &#x27;полная_мощность&#x27;, &#x27;газ_1&#x27;, &#x27;bulk_1&#x27;, &#x27;bulk_2&#x27;, &#x27;bulk_3&#x27;, &#x27;bulk_4&#x27;, &#x27;bulk_5&#x27;, &#x27;bulk_6&#x27;, &#x27;bulk_7&#x27;, &#x27;bulk_8&#x27;, &#x27;bulk_9&#x27;, &#x27;bulk_10&#x27;, &#x27;bulk_11&#x27;, &#x27;bulk_12&#x27;, &#x27;bulk_13&#x27;, &#x27;bulk_14&#x27;, &#x27;bulk_15&#x27;, &#x27;wire_1&#x27;, &#x27;wire_2&#x27;, &#x27;wire_3&#x27;, &#x27;wire_4&#x27;, &#x27;wire_5&#x27;, &#x27;wire_6&#x27;, &#x27;wire_7&#x27;, &#x27;wire_8&#x27;, &#x27;wire_9&#x27;, &#x27;начальная_температура&#x27;]</pre></div></div></div><div class=\"sk-serial\"><div class=\"sk-item\"><div class=\"sk-serial\"><div class=\"sk-item\"><div class=\"sk-estimator sk-toggleable\"><input class=\"sk-toggleable__control sk-hidden--visually\" id=\"sk-estimator-id-23\" type=\"checkbox\" ><label for=\"sk-estimator-id-23\" class=\"sk-toggleable__label sk-toggleable__label-arrow\">SimpleImputer</label><div class=\"sk-toggleable__content\"><pre>SimpleImputer(fill_value=0, strategy=&#x27;constant&#x27;)</pre></div></div></div><div class=\"sk-item\"><div class=\"sk-estimator sk-toggleable\"><input class=\"sk-toggleable__control sk-hidden--visually\" id=\"sk-estimator-id-24\" type=\"checkbox\" ><label for=\"sk-estimator-id-24\" class=\"sk-toggleable__label sk-toggleable__label-arrow\">MaxAbsScaler</label><div class=\"sk-toggleable__content\"><pre>MaxAbsScaler()</pre></div></div></div><div class=\"sk-item\"><div class=\"sk-estimator sk-toggleable\"><input class=\"sk-toggleable__control sk-hidden--visually\" id=\"sk-estimator-id-25\" type=\"checkbox\" ><label for=\"sk-estimator-id-25\" class=\"sk-toggleable__label sk-toggleable__label-arrow\">DropCorrelatedFeatures</label><div class=\"sk-toggleable__content\"><pre>DropCorrelatedFeatures(threshold=0.95)</pre></div></div></div></div></div></div></div></div></div></div><div class=\"sk-item\"><div class=\"sk-estimator sk-toggleable\"><input class=\"sk-toggleable__control sk-hidden--visually\" id=\"sk-estimator-id-26\" type=\"checkbox\" ><label for=\"sk-estimator-id-26\" class=\"sk-toggleable__label sk-toggleable__label-arrow\">DropDuplicateFeatures</label><div class=\"sk-toggleable__content\"><pre>DropDuplicateFeatures()</pre></div></div></div><div class=\"sk-item\"><div class=\"sk-estimator sk-toggleable\"><input class=\"sk-toggleable__control sk-hidden--visually\" id=\"sk-estimator-id-27\" type=\"checkbox\" ><label for=\"sk-estimator-id-27\" class=\"sk-toggleable__label sk-toggleable__label-arrow\">SelectKBest</label><div class=\"sk-toggleable__content\"><pre>SelectKBest(k=21,\n",
       "            score_func=&lt;function mutual_info_regression at 0x000001CF22849280&gt;)</pre></div></div></div><div class=\"sk-item\"><div class=\"sk-estimator sk-toggleable\"><input class=\"sk-toggleable__control sk-hidden--visually\" id=\"sk-estimator-id-28\" type=\"checkbox\" ><label for=\"sk-estimator-id-28\" class=\"sk-toggleable__label sk-toggleable__label-arrow\">XGBRegressor</label><div class=\"sk-toggleable__content\"><pre>XGBRegressor(base_score=None, booster=None, callbacks=None,\n",
       "             colsample_bylevel=None, colsample_bynode=None,\n",
       "             colsample_bytree=None, early_stopping_rounds=None,\n",
       "             enable_categorical=False, eval_metric=None, feature_types=None,\n",
       "             gamma=None, gpu_id=None, grow_policy=None, importance_type=None,\n",
       "             interaction_constraints=None, learning_rate=0.05, max_bin=None,\n",
       "             max_cat_threshold=None, max_cat_to_onehot=None,\n",
       "             max_delta_step=None, max_depth=4, max_leaves=None,\n",
       "             min_child_weight=None, missing=nan, monotone_constraints=None,\n",
       "             n_estimators=200, n_jobs=None, num_parallel_tree=None,\n",
       "             predictor=None, random_state=240423, ...)</pre></div></div></div></div></div></div></div>"
      ],
      "text/plain": [
       "Pipeline(steps=[('columntransformer',\n",
       "                 ColumnTransformer(n_jobs=-1,\n",
       "                                   transformers=[('num_cols',\n",
       "                                                  Pipeline(steps=[('impute',\n",
       "                                                                   SimpleImputer(fill_value=0,\n",
       "                                                                                 strategy='constant')),\n",
       "                                                                  ('scaler',\n",
       "                                                                   MaxAbsScaler()),\n",
       "                                                                  ('drop_correlations',\n",
       "                                                                   DropCorrelatedFeatures(threshold=0.95))]),\n",
       "                                                  ['активная_мощность',\n",
       "                                                   'общая_работа',\n",
       "                                                   'общее_время_нагрева',\n",
       "                                                   'полная_мощность', 'газ_1',\n",
       "                                                   'bulk_1', 'b...\n",
       "                              feature_types=None, gamma=None, gpu_id=None,\n",
       "                              grow_policy=None, importance_type=None,\n",
       "                              interaction_constraints=None, learning_rate=0.05,\n",
       "                              max_bin=None, max_cat_threshold=None,\n",
       "                              max_cat_to_onehot=None, max_delta_step=None,\n",
       "                              max_depth=4, max_leaves=None,\n",
       "                              min_child_weight=None, missing=nan,\n",
       "                              monotone_constraints=None, n_estimators=200,\n",
       "                              n_jobs=None, num_parallel_tree=None,\n",
       "                              predictor=None, random_state=240423, ...))])"
      ]
     },
     "execution_count": 74,
     "metadata": {},
     "output_type": "execute_result"
    }
   ],
   "source": [
    "grid.best_estimator_"
   ]
  },
  {
   "cell_type": "markdown",
   "metadata": {},
   "source": [
    "### Тестирование лучшей модели"
   ]
  },
  {
   "cell_type": "markdown",
   "metadata": {},
   "source": [
    "Метрика **МАЕ на тестовой** выборке"
   ]
  },
  {
   "cell_type": "code",
   "execution_count": 75,
   "metadata": {
    "scrolled": true
   },
   "outputs": [
    {
     "name": "stdout",
     "output_type": "stream",
     "text": [
      "MAE: 5.880850130432444\n"
     ]
    }
   ],
   "source": [
    "print(f'MAE: {mean_absolute_error(y_test, grid.predict(X_test))}')"
   ]
  },
  {
   "cell_type": "markdown",
   "metadata": {},
   "source": [
    "Список признаков на входе в модель"
   ]
  },
  {
   "cell_type": "code",
   "execution_count": 76,
   "metadata": {},
   "outputs": [
    {
     "data": {
      "text/plain": [
       "array(['активная_мощность', 'общая_работа', 'общее_время_нагрева',\n",
       "       'газ_1', 'bulk_1', 'bulk_2', 'bulk_4', 'bulk_5', 'bulk_6',\n",
       "       'bulk_7', 'bulk_9', 'bulk_10', 'bulk_12', 'bulk_14', 'bulk_15',\n",
       "       'wire_1', 'wire_2', 'wire_3', 'wire_6', 'wire_9',\n",
       "       'начальная_температура'], dtype='<U21')"
      ]
     },
     "execution_count": 76,
     "metadata": {},
     "output_type": "execute_result"
    }
   ],
   "source": [
    "grid.best_estimator_[0].get_feature_names_out()[grid.best_estimator_[-2].get_support()]"
   ]
  },
  {
   "cell_type": "markdown",
   "metadata": {},
   "source": [
    "Построим графики важности признаков на целевую для лучшей модели. Слева у нас будут признаки оставшиеся после предобработки. Справа будут все признаки тестовой выборки + метод перемешивание признаков."
   ]
  },
  {
   "cell_type": "code",
   "execution_count": 77,
   "metadata": {},
   "outputs": [
    {
     "data": {
      "image/png": "[encoded data removed]",
      "text/plain": [
       "<Figure size 1500x1500 with 2 Axes>"
      ]
     },
     "metadata": {},
     "output_type": "display_data"
    }
   ],
   "source": [
    "features = grid.best_estimator_[0].get_feature_names_out()[grid.best_estimator_[-2].get_support()]\n",
    "importances = grid.best_estimator_.named_steps['clf'].feature_importances_\n",
    "sorted_index = np.argsort(importances)\n",
    "pos = np.arange(sorted_index.shape[0])\n",
    "\n",
    "fig = plt.figure(figsize=(15, 15))\n",
    "plt.subplot(1, 2, 1)\n",
    "plt.barh(pos, importances[sorted_index], align=\"center\")\n",
    "plt.yticks(pos, np.array(features)[sorted_index])\n",
    "plt.title(\"Важность признаков\")\n",
    "plt.xlabel('Относительная важность')\n",
    "\n",
    "\n",
    "result = permutation_importance(\n",
    "    grid.best_estimator_, X_test, y_test, n_repeats=10, random_state=7, n_jobs=-1\n",
    ")\n",
    "sorted_index = result.importances_mean.argsort()\n",
    "plt.subplot(1, 2, 2)\n",
    "plt.boxplot(\n",
    "    result.importances[sorted_index].T,\n",
    "    vert=False,\n",
    "    labels=X_test.columns[sorted_index],\n",
    ")\n",
    "plt.title('Разброс важности при перемешивании признков')\n",
    "plt.xlabel('Относительная важность')\n",
    "fig.tight_layout()\n",
    "plt.show()"
   ]
  },
  {
   "cell_type": "markdown",
   "metadata": {},
   "source": [
    "Видно что после при перемешивании признаков важность признаков сортируется немного в другом порядке. Также есть признаки у которых при перемешивании снижается коэффициент."
   ]
  },
  {
   "cell_type": "markdown",
   "metadata": {},
   "source": [
    "## Отчет по работе"
   ]
  },
  {
   "cell_type": "markdown",
   "metadata": {},
   "source": [
    "1. Какие пункты плана были выполнены, а какие — нет (поясните почему)?  \n",
    "   В ходе работы выполнены все этапы.  \n",
    "2. Какие трудности возникли и как вы их преодолели?  \n",
    "   Самый сложный этап - понимание что у меня была старая версия sklearn).\n",
    "3. Какие ключевые шаги в решении задачи выделили?  \n",
    "   Все как в заголовках проекта. \n",
    "   - Анализ данных \n",
    "   - Понимание что хочет заказчик и как нам этого добиться \n",
    "   - Еще раз анализ и построение предобработки \n",
    "   - Подготовка данных для модели\n",
    "   - Нахождение лучшей модели\n",
    "   - Анализ результатов\n",
    "   - Выводы которые мы можем сделать для для заказчика на основании модели и анализа данных  \n",
    "   \n",
    "4. Какая ваша итоговая модель и какое у неё качество?\n",
    "   - XGBRegressor, средняя абсолютная ошибка (MAE) на тестовой выборке 5.86.\n",
    "   \n",
    "`Список признаков` (после DropCorrelatedFeatures и SelectKBest в pipeline). Всего 21 признак:  \n",
    "  - ['активная_мощность', 'общая_работа', 'общее_время_нагрева',\n",
    "       'газ_1', 'bulk_1', 'bulk_2', 'bulk_4', 'bulk_5', 'bulk_6',\n",
    "       'bulk_7', 'bulk_9', 'bulk_10', 'bulk_12', 'bulk_14', 'bulk_15',\n",
    "       'wire_1', 'wire_2', 'wire_3', 'wire_6', 'wire_9',\n",
    "       'начальная_температура']\n",
    "  \n",
    "`Лучшие гиперпараметры` модели (пайплайна):  \n",
    "   - XGBRegressor(base_score=None, booster=None, callbacks=None,\n",
    "                 colsample_bylevel=None, colsample_bynode=None,\n",
    "                 colsample_bytree=None, early_stopping_rounds=None,\n",
    "                 enable_categorical=False, eval_metric=None, feature_types=None,\n",
    "                 gamma=None, gpu_id=None, grow_policy=None, importance_type=None,\n",
    "                 interaction_constraints=None, learning_rate=0.05, max_bin=None,\n",
    "                 max_cat_threshold=None, max_cat_to_onehot=None,\n",
    "                 max_delta_step=None, max_depth=4, max_leaves=None,\n",
    "                 min_child_weight=None, missing=nan, monotone_constraints=None,\n",
    "                 n_estimators=200, n_jobs=None, num_parallel_tree=None,\n",
    "                 predictor=None, random_state=240423, ...)\n"
   ]
  },
  {
   "cell_type": "markdown",
   "metadata": {},
   "source": [
    "## Вывод"
   ]
  },
  {
   "cell_type": "markdown",
   "metadata": {},
   "source": [
    "  1. Анализ данных  \n",
    "    - Были выявлены аномалии в реактивной мощности, температуре, пропуски в данных\n",
    "    - Замечены высококоррелирующие признаки\n",
    "    - Изменены типы данных\n",
    "  2. Предобработка и подготовка данных для модели\n",
    "    - Критичные для прогноза пропуски а также аномалии в данных удалены\n",
    "    - Построен конвеер для последовательной подготовки данных для модели. Так как в данных используются только количественные числовые значения, в него вошли такие методы как замена оставшихся пропусков SimpleImputer, стандартизация данных MaxAbsScaler, удаление высоко коррелирующих признаков DropCorrelatedFeatures, удаление дубликатов DropDuplicateFeatures, а также выбор наилучших k признаков после серии статистических тестов SelectKBest.\n",
    "  3. Нахождение лучшей модели\n",
    "    - В конвеере также реализован метод подбора лучшей модели и ее гиперпараметров.\n",
    "  4. Анализ результатов\n",
    "    - Лучшей моделью стала XGBRegressor\n",
    "    - Cредняя абсолютная ошибка (MAE) 5.88. Это значит что модель на данном этапе и на представленных данных предсказывает со средней ошибкой в 5.9 градусов. Наша модель лучше случайной модели (предсказывающей средним значением). У такой  модели средняя ошибка 8.2 градуса.\n",
    "    - Наиболее важными гиперпараметрами для модели стали 'начальная_температура', 'общее_время_нагрева', 'общая_работа', 'bulk_6'.  \n",
    "      Признаки 'общее_время_нагрева', 'общая_работа' синтетические. В них присутствует параметр времени.\n",
    "    - Для улучшения модели возможно более детальное добавление применение признаков имеющих эффект времени. Также возможно применение дополнительных моделей для прогнозирования исходного состава металла и количества присадок для получения кондиции.\n",
    "    - Данная модель позволит с большей точностью спрогнозировать финальную температуру, и более экономично выстроить тех процесс производства.\n"
   ]
  }
 ],
 "metadata": {
  "ExecuteTimeLog": [
   {
    "duration": 1295,
    "start_time": "2023-04-25T09:33:27.883Z"
   },
   {
    "duration": 271,
    "start_time": "2023-04-25T09:33:29.265Z"
   },
   {
    "duration": 73,
    "start_time": "2023-04-25T09:33:32.798Z"
   },
   {
    "duration": 14828,
    "start_time": "2023-04-25T09:48:19.004Z"
   },
   {
    "duration": 5116,
    "start_time": "2023-04-25T09:48:33.835Z"
   },
   {
    "duration": 277,
    "start_time": "2023-04-25T09:48:38.952Z"
   },
   {
    "duration": 63,
    "start_time": "2023-04-25T09:48:39.232Z"
   },
   {
    "duration": 3,
    "start_time": "2023-04-25T09:49:16.325Z"
   },
   {
    "duration": 5,
    "start_time": "2023-04-25T09:49:16.855Z"
   },
   {
    "duration": 5,
    "start_time": "2023-04-25T09:49:18.082Z"
   },
   {
    "duration": 10,
    "start_time": "2023-04-25T09:49:32.400Z"
   },
   {
    "duration": 12,
    "start_time": "2023-04-25T09:49:32.794Z"
   },
   {
    "duration": 20,
    "start_time": "2023-04-25T09:49:32.974Z"
   },
   {
    "duration": 4,
    "start_time": "2023-04-25T09:49:33.300Z"
   },
   {
    "duration": 1781,
    "start_time": "2023-04-25T09:49:34.877Z"
   },
   {
    "duration": 55838,
    "start_time": "2023-04-25T09:49:36.660Z"
   },
   {
    "duration": 11,
    "start_time": "2023-04-25T09:50:32.500Z"
   },
   {
    "duration": 11,
    "start_time": "2023-04-25T09:50:32.513Z"
   },
   {
    "duration": 5130,
    "start_time": "2023-04-25T09:50:32.526Z"
   },
   {
    "duration": 170,
    "start_time": "2023-04-25T09:50:37.658Z"
   },
   {
    "duration": 5,
    "start_time": "2023-04-25T09:50:37.830Z"
   },
   {
    "duration": 5,
    "start_time": "2023-04-25T09:50:37.837Z"
   },
   {
    "duration": 12,
    "start_time": "2023-04-25T09:50:37.844Z"
   },
   {
    "duration": 6,
    "start_time": "2023-04-25T09:50:37.857Z"
   },
   {
    "duration": 30,
    "start_time": "2023-04-25T09:50:37.864Z"
   },
   {
    "duration": 19,
    "start_time": "2023-04-25T09:50:37.895Z"
   },
   {
    "duration": 13,
    "start_time": "2023-04-25T09:50:37.916Z"
   },
   {
    "duration": 20,
    "start_time": "2023-04-25T09:50:37.930Z"
   },
   {
    "duration": 19,
    "start_time": "2023-04-25T09:50:37.952Z"
   },
   {
    "duration": 329,
    "start_time": "2023-04-25T09:50:37.985Z"
   },
   {
    "duration": 1615,
    "start_time": "2023-04-25T09:50:38.316Z"
   },
   {
    "duration": 3,
    "start_time": "2023-04-25T09:50:39.933Z"
   },
   {
    "duration": 63,
    "start_time": "2023-04-25T09:50:39.937Z"
   },
   {
    "duration": 408,
    "start_time": "2023-04-25T09:50:40.002Z"
   },
   {
    "duration": 11,
    "start_time": "2023-04-25T09:50:40.411Z"
   },
   {
    "duration": 17,
    "start_time": "2023-04-25T09:50:40.424Z"
   },
   {
    "duration": 12,
    "start_time": "2023-04-25T09:50:40.443Z"
   },
   {
    "duration": 34,
    "start_time": "2023-04-25T09:50:40.459Z"
   },
   {
    "duration": 14,
    "start_time": "2023-04-25T09:50:40.495Z"
   },
   {
    "duration": 11,
    "start_time": "2023-04-25T09:50:40.511Z"
   },
   {
    "duration": 5,
    "start_time": "2023-04-25T09:50:40.523Z"
   },
   {
    "duration": 252,
    "start_time": "2023-04-25T09:50:40.529Z"
   },
   {
    "duration": 1175,
    "start_time": "2023-04-25T09:50:40.782Z"
   },
   {
    "duration": 42,
    "start_time": "2023-04-25T09:50:41.959Z"
   },
   {
    "duration": 330,
    "start_time": "2023-04-25T09:50:42.003Z"
   },
   {
    "duration": 7,
    "start_time": "2023-04-25T09:50:42.335Z"
   },
   {
    "duration": 12,
    "start_time": "2023-04-25T09:50:42.343Z"
   },
   {
    "duration": 276,
    "start_time": "2023-04-25T09:50:42.356Z"
   },
   {
    "duration": 98,
    "start_time": "2023-04-25T09:50:42.634Z"
   },
   {
    "duration": 6,
    "start_time": "2023-04-25T09:50:42.734Z"
   },
   {
    "duration": 12,
    "start_time": "2023-04-25T09:50:42.742Z"
   },
   {
    "duration": 8,
    "start_time": "2023-04-25T09:50:42.756Z"
   },
   {
    "duration": 9,
    "start_time": "2023-04-25T09:50:42.786Z"
   },
   {
    "duration": 507,
    "start_time": "2023-04-25T09:50:42.797Z"
   },
   {
    "duration": 234,
    "start_time": "2023-04-25T09:50:43.306Z"
   },
   {
    "duration": 5,
    "start_time": "2023-04-25T09:50:43.542Z"
   },
   {
    "duration": 9,
    "start_time": "2023-04-25T09:50:43.549Z"
   },
   {
    "duration": 78,
    "start_time": "2023-04-25T09:50:43.560Z"
   },
   {
    "duration": 6,
    "start_time": "2023-04-25T09:50:43.640Z"
   },
   {
    "duration": 19,
    "start_time": "2023-04-25T09:50:43.648Z"
   },
   {
    "duration": 6,
    "start_time": "2023-04-25T09:50:43.668Z"
   },
   {
    "duration": 22,
    "start_time": "2023-04-25T09:50:43.676Z"
   },
   {
    "duration": 36,
    "start_time": "2023-04-25T09:50:43.700Z"
   },
   {
    "duration": 6,
    "start_time": "2023-04-25T09:50:43.738Z"
   },
   {
    "duration": 34,
    "start_time": "2023-04-25T09:59:56.451Z"
   },
   {
    "duration": 4409,
    "start_time": "2023-05-02T06:41:28.829Z"
   },
   {
    "duration": 6261,
    "start_time": "2023-05-02T06:41:33.241Z"
   },
   {
    "duration": 0,
    "start_time": "2023-05-02T06:41:39.505Z"
   },
   {
    "duration": 0,
    "start_time": "2023-05-02T06:41:39.506Z"
   },
   {
    "duration": 0,
    "start_time": "2023-05-02T06:41:39.507Z"
   },
   {
    "duration": 0,
    "start_time": "2023-05-02T06:41:39.508Z"
   },
   {
    "duration": 0,
    "start_time": "2023-05-02T06:41:39.509Z"
   },
   {
    "duration": 0,
    "start_time": "2023-05-02T06:41:39.510Z"
   },
   {
    "duration": 0,
    "start_time": "2023-05-02T06:41:39.511Z"
   },
   {
    "duration": 0,
    "start_time": "2023-05-02T06:41:39.512Z"
   },
   {
    "duration": 0,
    "start_time": "2023-05-02T06:41:39.513Z"
   },
   {
    "duration": 0,
    "start_time": "2023-05-02T06:41:39.515Z"
   },
   {
    "duration": 0,
    "start_time": "2023-05-02T06:41:39.534Z"
   },
   {
    "duration": 0,
    "start_time": "2023-05-02T06:41:39.535Z"
   },
   {
    "duration": 0,
    "start_time": "2023-05-02T06:41:39.536Z"
   },
   {
    "duration": 0,
    "start_time": "2023-05-02T06:41:39.537Z"
   },
   {
    "duration": 8,
    "start_time": "2023-05-02T06:41:39.539Z"
   },
   {
    "duration": 8,
    "start_time": "2023-05-02T06:41:39.838Z"
   },
   {
    "duration": 8,
    "start_time": "2023-05-02T06:41:40.161Z"
   },
   {
    "duration": 8,
    "start_time": "2023-05-02T06:41:40.623Z"
   },
   {
    "duration": 8,
    "start_time": "2023-05-02T06:41:41.243Z"
   },
   {
    "duration": 10,
    "start_time": "2023-05-02T06:41:41.607Z"
   },
   {
    "duration": 11,
    "start_time": "2023-05-02T06:41:42.081Z"
   },
   {
    "duration": 77,
    "start_time": "2023-05-02T06:42:14.617Z"
   },
   {
    "duration": 800,
    "start_time": "2023-05-02T06:42:28.393Z"
   },
   {
    "duration": 143,
    "start_time": "2023-05-02T06:42:38.315Z"
   },
   {
    "duration": 9,
    "start_time": "2023-05-02T06:42:39.481Z"
   },
   {
    "duration": 267,
    "start_time": "2023-05-02T06:43:24.716Z"
   },
   {
    "duration": 60,
    "start_time": "2023-05-02T06:43:28.121Z"
   },
   {
    "duration": 3,
    "start_time": "2023-05-02T06:43:29.727Z"
   },
   {
    "duration": 4,
    "start_time": "2023-05-02T06:43:29.952Z"
   },
   {
    "duration": 3,
    "start_time": "2023-05-02T06:43:30.580Z"
   },
   {
    "duration": 9,
    "start_time": "2023-05-02T06:43:31.045Z"
   },
   {
    "duration": 12,
    "start_time": "2023-05-02T06:43:31.215Z"
   },
   {
    "duration": 25,
    "start_time": "2023-05-02T06:43:31.379Z"
   },
   {
    "duration": 4,
    "start_time": "2023-05-02T06:43:31.531Z"
   },
   {
    "duration": 1458,
    "start_time": "2023-05-02T06:43:31.855Z"
   },
   {
    "duration": 75935,
    "start_time": "2023-05-02T06:43:33.314Z"
   },
   {
    "duration": 9,
    "start_time": "2023-05-02T06:44:49.251Z"
   },
   {
    "duration": 17,
    "start_time": "2023-05-02T06:44:49.263Z"
   },
   {
    "duration": 1670,
    "start_time": "2023-05-02T06:44:49.281Z"
   },
   {
    "duration": 393,
    "start_time": "2023-05-02T06:44:50.953Z"
   },
   {
    "duration": 5,
    "start_time": "2023-05-02T06:44:51.348Z"
   },
   {
    "duration": 20,
    "start_time": "2023-05-02T06:44:51.355Z"
   },
   {
    "duration": 18,
    "start_time": "2023-05-02T06:44:51.433Z"
   },
   {
    "duration": 3,
    "start_time": "2023-05-02T06:44:51.454Z"
   },
   {
    "duration": 83,
    "start_time": "2023-05-02T06:44:51.459Z"
   },
   {
    "duration": 11,
    "start_time": "2023-05-02T06:44:51.544Z"
   },
   {
    "duration": 92,
    "start_time": "2023-05-02T06:44:51.556Z"
   },
   {
    "duration": 16,
    "start_time": "2023-05-02T06:44:51.650Z"
   },
   {
    "duration": 77,
    "start_time": "2023-05-02T06:44:51.667Z"
   },
   {
    "duration": 590,
    "start_time": "2023-05-02T06:44:51.745Z"
   },
   {
    "duration": 11409,
    "start_time": "2023-05-02T06:44:52.337Z"
   },
   {
    "duration": 103,
    "start_time": "2023-05-02T06:45:03.748Z"
   },
   {
    "duration": 693,
    "start_time": "2023-05-02T06:45:03.853Z"
   },
   {
    "duration": 13,
    "start_time": "2023-05-02T06:45:04.548Z"
   },
   {
    "duration": 82,
    "start_time": "2023-05-02T06:45:04.562Z"
   },
   {
    "duration": 30,
    "start_time": "2023-05-02T06:45:04.646Z"
   },
   {
    "duration": 66,
    "start_time": "2023-05-02T06:45:04.678Z"
   },
   {
    "duration": 29,
    "start_time": "2023-05-02T06:45:04.747Z"
   },
   {
    "duration": 61,
    "start_time": "2023-05-02T06:45:04.777Z"
   },
   {
    "duration": 411,
    "start_time": "2023-05-02T06:45:04.841Z"
   },
   {
    "duration": 2223,
    "start_time": "2023-05-02T06:45:05.254Z"
   },
   {
    "duration": 30,
    "start_time": "2023-05-02T06:45:07.535Z"
   },
   {
    "duration": 508,
    "start_time": "2023-05-02T06:45:07.567Z"
   },
   {
    "duration": 59,
    "start_time": "2023-05-02T06:45:08.077Z"
   },
   {
    "duration": 18,
    "start_time": "2023-05-02T06:45:08.138Z"
   },
   {
    "duration": 489,
    "start_time": "2023-05-02T06:45:08.158Z"
   },
   {
    "duration": 204,
    "start_time": "2023-05-02T06:45:08.649Z"
   },
   {
    "duration": 5,
    "start_time": "2023-05-02T06:45:08.855Z"
   },
   {
    "duration": 16,
    "start_time": "2023-05-02T06:45:08.862Z"
   },
   {
    "duration": 8,
    "start_time": "2023-05-02T06:45:08.935Z"
   },
   {
    "duration": 11,
    "start_time": "2023-05-02T06:45:08.944Z"
   },
   {
    "duration": 985,
    "start_time": "2023-05-02T06:45:08.956Z"
   },
   {
    "duration": 138,
    "start_time": "2023-05-02T06:45:09.943Z"
   },
   {
    "duration": 52,
    "start_time": "2023-05-02T06:45:10.083Z"
   },
   {
    "duration": 8,
    "start_time": "2023-05-02T06:45:10.137Z"
   },
   {
    "duration": 15,
    "start_time": "2023-05-02T06:45:10.147Z"
   },
   {
    "duration": 5,
    "start_time": "2023-05-02T06:45:10.164Z"
   },
   {
    "duration": 70,
    "start_time": "2023-05-02T06:45:10.170Z"
   },
   {
    "duration": 5,
    "start_time": "2023-05-02T06:45:10.242Z"
   },
   {
    "duration": 296,
    "start_time": "2023-05-02T06:45:10.248Z"
   },
   {
    "duration": 89,
    "start_time": "2023-05-02T06:45:10.546Z"
   },
   {
    "duration": 7,
    "start_time": "2023-05-02T06:45:10.637Z"
   },
   {
    "duration": 28,
    "start_time": "2023-05-02T06:45:10.645Z"
   },
   {
    "duration": 61,
    "start_time": "2023-05-02T06:45:10.674Z"
   },
   {
    "duration": 9,
    "start_time": "2023-05-02T06:45:10.737Z"
   },
   {
    "duration": 7,
    "start_time": "2023-05-02T06:45:10.748Z"
   },
   {
    "duration": 3,
    "start_time": "2023-05-02T06:45:17.725Z"
   },
   {
    "duration": 24,
    "start_time": "2023-05-02T06:45:19.420Z"
   },
   {
    "duration": 11,
    "start_time": "2023-05-02T07:08:57.312Z"
   },
   {
    "duration": 55,
    "start_time": "2023-05-02T16:25:23.022Z"
   },
   {
    "duration": 1675,
    "start_time": "2023-05-02T16:30:48.120Z"
   }
  ],
  "kernelspec": {
   "display_name": "Python 3 (ipykernel)",
   "language": "python",
   "name": "python3"
  },
  "language_info": {
   "codemirror_mode": {
    "name": "ipython",
    "version": 3
   },
   "file_extension": ".py",
   "mimetype": "text/x-python",
   "name": "python",
   "nbconvert_exporter": "python",
   "pygments_lexer": "ipython3",
   "version": "3.11.7"
  },
  "toc": {
   "base_numbering": 1,
   "nav_menu": {},
   "number_sections": true,
   "sideBar": true,
   "skip_h1_title": true,
   "title_cell": "Table of Contents",
   "title_sidebar": "Contents",
   "toc_cell": false,
   "toc_position": {
    "height": "calc(100% - 180px)",
    "left": "10px",
    "top": "150px",
    "width": "366.391px"
   },
   "toc_section_display": true,
   "toc_window_display": true
  }
 },
 "nbformat": 4,
 "nbformat_minor": 4
}
