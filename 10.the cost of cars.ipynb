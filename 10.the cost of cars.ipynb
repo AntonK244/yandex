{
 "cells": [
  {
   "cell_type": "markdown",
   "id": "06c747b9",
   "metadata": {},
   "source": [
    "# Определение стоимости автомобилей"
   ]
  },
  {
   "cell_type": "markdown",
   "id": "1f7cd45f",
   "metadata": {},
   "source": [
    "Сервис по продаже автомобилей с пробегом «Не бит, не крашен» разрабатывает приложение для привлечения новых клиентов. В нём можно быстро узнать рыночную стоимость своего автомобиля. В нашем распоряжении исторические данные: технические характеристики, комплектации и цены автомобилей. Нам нужно построить модель для определения стоимости. \n",
    "\n",
    "Заказчику важны:\n",
    "\n",
    "- качество предсказания;\n",
    "- скорость предсказания;\n",
    "- время обучения.\n"
   ]
  },
  {
   "cell_type": "markdown",
   "id": "7c9dd3db",
   "metadata": {},
   "source": [
    "## Подготовка данных"
   ]
  },
  {
   "cell_type": "markdown",
   "id": "35c3720e",
   "metadata": {},
   "source": [
    "Импортируем необходимые библиотеки"
   ]
  },
  {
   "cell_type": "code",
   "execution_count": 1,
   "id": "98929129",
   "metadata": {},
   "outputs": [],
   "source": [
    "import pandas as pd\n",
    "import numpy as np\n",
    "import seaborn as sns\n",
    "import matplotlib.pyplot as plt\n",
    "\n",
    "from statistics import mode\n",
    "\n",
    "from sklearn.model_selection import train_test_split\n",
    "from sklearn.preprocessing import OneHotEncoder, StandardScaler, OrdinalEncoder\n",
    "from lightgbm import LGBMRegressor\n",
    "from catboost import CatBoostRegressor\n",
    "from sklearn.ensemble import RandomForestRegressor\n",
    "\n",
    "from sklearn.metrics import mean_squared_error\n",
    "\n",
    "from sklearn.model_selection import GridSearchCV\n",
    "\n",
    "\n",
    "import time\n",
    "pd.options.mode.chained_assignment = None"
   ]
  },
  {
   "cell_type": "markdown",
   "id": "00c2ee9a",
   "metadata": {},
   "source": [
    "Загрузим и посмотрим данные"
   ]
  },
  {
   "cell_type": "code",
   "execution_count": 2,
   "id": "3a074090",
   "metadata": {
    "scrolled": true
   },
   "outputs": [
    {
     "data": {
      "text/html": [
       "<div>\n",
       "<style scoped>\n",
       "    .dataframe tbody tr th:only-of-type {\n",
       "        vertical-align: middle;\n",
       "    }\n",
       "\n",
       "    .dataframe tbody tr th {\n",
       "        vertical-align: top;\n",
       "    }\n",
       "\n",
       "    .dataframe thead th {\n",
       "        text-align: right;\n",
       "    }\n",
       "</style>\n",
       "<table border=\"1\" class=\"dataframe\">\n",
       "  <thead>\n",
       "    <tr style=\"text-align: right;\">\n",
       "      <th></th>\n",
       "      <th>DateCrawled</th>\n",
       "      <th>Price</th>\n",
       "      <th>VehicleType</th>\n",
       "      <th>RegistrationYear</th>\n",
       "      <th>Gearbox</th>\n",
       "      <th>Power</th>\n",
       "      <th>Model</th>\n",
       "      <th>Kilometer</th>\n",
       "      <th>RegistrationMonth</th>\n",
       "      <th>FuelType</th>\n",
       "      <th>Brand</th>\n",
       "      <th>Repaired</th>\n",
       "      <th>DateCreated</th>\n",
       "      <th>NumberOfPictures</th>\n",
       "      <th>PostalCode</th>\n",
       "      <th>LastSeen</th>\n",
       "    </tr>\n",
       "  </thead>\n",
       "  <tbody>\n",
       "    <tr>\n",
       "      <th>0</th>\n",
       "      <td>2016-03-24 11:52:17</td>\n",
       "      <td>480</td>\n",
       "      <td>NaN</td>\n",
       "      <td>1993</td>\n",
       "      <td>manual</td>\n",
       "      <td>0</td>\n",
       "      <td>golf</td>\n",
       "      <td>150000</td>\n",
       "      <td>0</td>\n",
       "      <td>petrol</td>\n",
       "      <td>volkswagen</td>\n",
       "      <td>NaN</td>\n",
       "      <td>2016-03-24 00:00:00</td>\n",
       "      <td>0</td>\n",
       "      <td>70435</td>\n",
       "      <td>2016-04-07 03:16:57</td>\n",
       "    </tr>\n",
       "    <tr>\n",
       "      <th>1</th>\n",
       "      <td>2016-03-24 10:58:45</td>\n",
       "      <td>18300</td>\n",
       "      <td>coupe</td>\n",
       "      <td>2011</td>\n",
       "      <td>manual</td>\n",
       "      <td>190</td>\n",
       "      <td>NaN</td>\n",
       "      <td>125000</td>\n",
       "      <td>5</td>\n",
       "      <td>gasoline</td>\n",
       "      <td>audi</td>\n",
       "      <td>yes</td>\n",
       "      <td>2016-03-24 00:00:00</td>\n",
       "      <td>0</td>\n",
       "      <td>66954</td>\n",
       "      <td>2016-04-07 01:46:50</td>\n",
       "    </tr>\n",
       "    <tr>\n",
       "      <th>2</th>\n",
       "      <td>2016-03-14 12:52:21</td>\n",
       "      <td>9800</td>\n",
       "      <td>suv</td>\n",
       "      <td>2004</td>\n",
       "      <td>auto</td>\n",
       "      <td>163</td>\n",
       "      <td>grand</td>\n",
       "      <td>125000</td>\n",
       "      <td>8</td>\n",
       "      <td>gasoline</td>\n",
       "      <td>jeep</td>\n",
       "      <td>NaN</td>\n",
       "      <td>2016-03-14 00:00:00</td>\n",
       "      <td>0</td>\n",
       "      <td>90480</td>\n",
       "      <td>2016-04-05 12:47:46</td>\n",
       "    </tr>\n",
       "    <tr>\n",
       "      <th>3</th>\n",
       "      <td>2016-03-17 16:54:04</td>\n",
       "      <td>1500</td>\n",
       "      <td>small</td>\n",
       "      <td>2001</td>\n",
       "      <td>manual</td>\n",
       "      <td>75</td>\n",
       "      <td>golf</td>\n",
       "      <td>150000</td>\n",
       "      <td>6</td>\n",
       "      <td>petrol</td>\n",
       "      <td>volkswagen</td>\n",
       "      <td>no</td>\n",
       "      <td>2016-03-17 00:00:00</td>\n",
       "      <td>0</td>\n",
       "      <td>91074</td>\n",
       "      <td>2016-03-17 17:40:17</td>\n",
       "    </tr>\n",
       "    <tr>\n",
       "      <th>4</th>\n",
       "      <td>2016-03-31 17:25:20</td>\n",
       "      <td>3600</td>\n",
       "      <td>small</td>\n",
       "      <td>2008</td>\n",
       "      <td>manual</td>\n",
       "      <td>69</td>\n",
       "      <td>fabia</td>\n",
       "      <td>90000</td>\n",
       "      <td>7</td>\n",
       "      <td>gasoline</td>\n",
       "      <td>skoda</td>\n",
       "      <td>no</td>\n",
       "      <td>2016-03-31 00:00:00</td>\n",
       "      <td>0</td>\n",
       "      <td>60437</td>\n",
       "      <td>2016-04-06 10:17:21</td>\n",
       "    </tr>\n",
       "  </tbody>\n",
       "</table>\n",
       "</div>"
      ],
      "text/plain": [
       "           DateCrawled  Price VehicleType  RegistrationYear Gearbox  Power  \\\n",
       "0  2016-03-24 11:52:17    480         NaN              1993  manual      0   \n",
       "1  2016-03-24 10:58:45  18300       coupe              2011  manual    190   \n",
       "2  2016-03-14 12:52:21   9800         suv              2004    auto    163   \n",
       "3  2016-03-17 16:54:04   1500       small              2001  manual     75   \n",
       "4  2016-03-31 17:25:20   3600       small              2008  manual     69   \n",
       "\n",
       "   Model  Kilometer  RegistrationMonth  FuelType       Brand Repaired  \\\n",
       "0   golf     150000                  0    petrol  volkswagen      NaN   \n",
       "1    NaN     125000                  5  gasoline        audi      yes   \n",
       "2  grand     125000                  8  gasoline        jeep      NaN   \n",
       "3   golf     150000                  6    petrol  volkswagen       no   \n",
       "4  fabia      90000                  7  gasoline       skoda       no   \n",
       "\n",
       "           DateCreated  NumberOfPictures  PostalCode             LastSeen  \n",
       "0  2016-03-24 00:00:00                 0       70435  2016-04-07 03:16:57  \n",
       "1  2016-03-24 00:00:00                 0       66954  2016-04-07 01:46:50  \n",
       "2  2016-03-14 00:00:00                 0       90480  2016-04-05 12:47:46  \n",
       "3  2016-03-17 00:00:00                 0       91074  2016-03-17 17:40:17  \n",
       "4  2016-03-31 00:00:00                 0       60437  2016-04-06 10:17:21  "
      ]
     },
     "execution_count": 2,
     "metadata": {},
     "output_type": "execute_result"
    }
   ],
   "source": [
    "df = pd.read_csv('/datasets/autos.csv')\n",
    "df.head()"
   ]
  },
  {
   "cell_type": "code",
   "execution_count": 3,
   "id": "7ea75b13",
   "metadata": {},
   "outputs": [
    {
     "name": "stdout",
     "output_type": "stream",
     "text": [
      "<class 'pandas.core.frame.DataFrame'>\n",
      "RangeIndex: 354369 entries, 0 to 354368\n",
      "Data columns (total 16 columns):\n",
      " #   Column             Non-Null Count   Dtype \n",
      "---  ------             --------------   ----- \n",
      " 0   DateCrawled        354369 non-null  object\n",
      " 1   Price              354369 non-null  int64 \n",
      " 2   VehicleType        316879 non-null  object\n",
      " 3   RegistrationYear   354369 non-null  int64 \n",
      " 4   Gearbox            334536 non-null  object\n",
      " 5   Power              354369 non-null  int64 \n",
      " 6   Model              334664 non-null  object\n",
      " 7   Kilometer          354369 non-null  int64 \n",
      " 8   RegistrationMonth  354369 non-null  int64 \n",
      " 9   FuelType           321474 non-null  object\n",
      " 10  Brand              354369 non-null  object\n",
      " 11  Repaired           283215 non-null  object\n",
      " 12  DateCreated        354369 non-null  object\n",
      " 13  NumberOfPictures   354369 non-null  int64 \n",
      " 14  PostalCode         354369 non-null  int64 \n",
      " 15  LastSeen           354369 non-null  object\n",
      "dtypes: int64(7), object(9)\n",
      "memory usage: 43.3+ MB\n"
     ]
    }
   ],
   "source": [
    "df.info()"
   ]
  },
  {
   "cell_type": "markdown",
   "id": "2505e73d",
   "metadata": {},
   "source": [
    "Наименование признаков согласно документации:\n",
    "\n",
    "- DateCrawled — дата скачивания анкеты из базы\n",
    "- VehicleType — тип автомобильного кузова\n",
    "- RegistrationYear — год регистрации автомобиля\n",
    "- Gearbox — тип коробки передач\n",
    "- Power — мощность (л. с.)\n",
    "- Model — модель автомобиля\n",
    "- Kilometer — пробег (км)\n",
    "- RegistrationMonth — месяц регистрации автомобиля\n",
    "- FuelType — тип топлива\n",
    "- Brand — марка автомобиля\n",
    "- Repaired — была машина в ремонте или нет\n",
    "- DateCreated — дата создания анкеты\n",
    "- NumberOfPictures — количество фотографий автомобиля\n",
    "- PostalCode — почтовый индекс владельца анкеты (пользователя)\n",
    "- LastSeen — дата последней активности пользователя\n",
    "\n",
    "Целевой признак\n",
    "- Price — цена (евро)"
   ]
  },
  {
   "cell_type": "code",
   "execution_count": 4,
   "id": "af025cfd",
   "metadata": {},
   "outputs": [],
   "source": [
    "#pd.plotting.scatter_matrix(df, figsize=(20,20));"
   ]
  },
  {
   "cell_type": "code",
   "execution_count": 5,
   "id": "8297ed68",
   "metadata": {
    "scrolled": true
   },
   "outputs": [
    {
     "data": {
      "text/html": [
       "<div>\n",
       "<style scoped>\n",
       "    .dataframe tbody tr th:only-of-type {\n",
       "        vertical-align: middle;\n",
       "    }\n",
       "\n",
       "    .dataframe tbody tr th {\n",
       "        vertical-align: top;\n",
       "    }\n",
       "\n",
       "    .dataframe thead th {\n",
       "        text-align: right;\n",
       "    }\n",
       "</style>\n",
       "<table border=\"1\" class=\"dataframe\">\n",
       "  <thead>\n",
       "    <tr style=\"text-align: right;\">\n",
       "      <th></th>\n",
       "      <th>Price</th>\n",
       "      <th>RegistrationYear</th>\n",
       "      <th>Power</th>\n",
       "      <th>Kilometer</th>\n",
       "      <th>RegistrationMonth</th>\n",
       "      <th>NumberOfPictures</th>\n",
       "      <th>PostalCode</th>\n",
       "    </tr>\n",
       "  </thead>\n",
       "  <tbody>\n",
       "    <tr>\n",
       "      <th>count</th>\n",
       "      <td>354369.000000</td>\n",
       "      <td>354369.000000</td>\n",
       "      <td>354369.000000</td>\n",
       "      <td>354369.000000</td>\n",
       "      <td>354369.000000</td>\n",
       "      <td>354369.0</td>\n",
       "      <td>354369.000000</td>\n",
       "    </tr>\n",
       "    <tr>\n",
       "      <th>mean</th>\n",
       "      <td>4416.656776</td>\n",
       "      <td>2004.234448</td>\n",
       "      <td>110.094337</td>\n",
       "      <td>128211.172535</td>\n",
       "      <td>5.714645</td>\n",
       "      <td>0.0</td>\n",
       "      <td>50508.689087</td>\n",
       "    </tr>\n",
       "    <tr>\n",
       "      <th>std</th>\n",
       "      <td>4514.158514</td>\n",
       "      <td>90.227958</td>\n",
       "      <td>189.850405</td>\n",
       "      <td>37905.341530</td>\n",
       "      <td>3.726421</td>\n",
       "      <td>0.0</td>\n",
       "      <td>25783.096248</td>\n",
       "    </tr>\n",
       "    <tr>\n",
       "      <th>min</th>\n",
       "      <td>0.000000</td>\n",
       "      <td>1000.000000</td>\n",
       "      <td>0.000000</td>\n",
       "      <td>5000.000000</td>\n",
       "      <td>0.000000</td>\n",
       "      <td>0.0</td>\n",
       "      <td>1067.000000</td>\n",
       "    </tr>\n",
       "    <tr>\n",
       "      <th>25%</th>\n",
       "      <td>1050.000000</td>\n",
       "      <td>1999.000000</td>\n",
       "      <td>69.000000</td>\n",
       "      <td>125000.000000</td>\n",
       "      <td>3.000000</td>\n",
       "      <td>0.0</td>\n",
       "      <td>30165.000000</td>\n",
       "    </tr>\n",
       "    <tr>\n",
       "      <th>50%</th>\n",
       "      <td>2700.000000</td>\n",
       "      <td>2003.000000</td>\n",
       "      <td>105.000000</td>\n",
       "      <td>150000.000000</td>\n",
       "      <td>6.000000</td>\n",
       "      <td>0.0</td>\n",
       "      <td>49413.000000</td>\n",
       "    </tr>\n",
       "    <tr>\n",
       "      <th>75%</th>\n",
       "      <td>6400.000000</td>\n",
       "      <td>2008.000000</td>\n",
       "      <td>143.000000</td>\n",
       "      <td>150000.000000</td>\n",
       "      <td>9.000000</td>\n",
       "      <td>0.0</td>\n",
       "      <td>71083.000000</td>\n",
       "    </tr>\n",
       "    <tr>\n",
       "      <th>max</th>\n",
       "      <td>20000.000000</td>\n",
       "      <td>9999.000000</td>\n",
       "      <td>20000.000000</td>\n",
       "      <td>150000.000000</td>\n",
       "      <td>12.000000</td>\n",
       "      <td>0.0</td>\n",
       "      <td>99998.000000</td>\n",
       "    </tr>\n",
       "  </tbody>\n",
       "</table>\n",
       "</div>"
      ],
      "text/plain": [
       "               Price  RegistrationYear          Power      Kilometer  \\\n",
       "count  354369.000000     354369.000000  354369.000000  354369.000000   \n",
       "mean     4416.656776       2004.234448     110.094337  128211.172535   \n",
       "std      4514.158514         90.227958     189.850405   37905.341530   \n",
       "min         0.000000       1000.000000       0.000000    5000.000000   \n",
       "25%      1050.000000       1999.000000      69.000000  125000.000000   \n",
       "50%      2700.000000       2003.000000     105.000000  150000.000000   \n",
       "75%      6400.000000       2008.000000     143.000000  150000.000000   \n",
       "max     20000.000000       9999.000000   20000.000000  150000.000000   \n",
       "\n",
       "       RegistrationMonth  NumberOfPictures     PostalCode  \n",
       "count      354369.000000          354369.0  354369.000000  \n",
       "mean            5.714645               0.0   50508.689087  \n",
       "std             3.726421               0.0   25783.096248  \n",
       "min             0.000000               0.0    1067.000000  \n",
       "25%             3.000000               0.0   30165.000000  \n",
       "50%             6.000000               0.0   49413.000000  \n",
       "75%             9.000000               0.0   71083.000000  \n",
       "max            12.000000               0.0   99998.000000  "
      ]
     },
     "execution_count": 5,
     "metadata": {},
     "output_type": "execute_result"
    }
   ],
   "source": [
    "df.describe()"
   ]
  },
  {
   "cell_type": "markdown",
   "id": "48cadf32",
   "metadata": {},
   "source": [
    "**Вывод:**\n",
    "\n",
    "- Признак `RegistrationYear` содержит аномальные значения (минимальный год выпуска 1000 год, а максимальный 9999 год).\n",
    "- Признак `Power` имеет неадекватные и аномальные значения (минимальное значение 0 а максимальное 20000).\n",
    "- В признаке `NumberOfPictures` нет данных.\n",
    "- В целевом признаке `Price` есть аномальное значение 0.\n",
    "- Так же в признаке `RegistrationMonth` есть 0 значение (скорее всего часть данных потеряна).\n",
    "- В `VehicleType`, `Gearbox`, `Model`, `FuelType`, `NotRepaired` много пропущенных значений."
   ]
  },
  {
   "cell_type": "markdown",
   "id": "3f66946f",
   "metadata": {},
   "source": [
    "### Названия столбцов"
   ]
  },
  {
   "cell_type": "markdown",
   "id": "d6094012",
   "metadata": {},
   "source": [
    "Приведем наименования столбцов к \"змеиному\" регистру через функцию snake_case"
   ]
  },
  {
   "cell_type": "code",
   "execution_count": 6,
   "id": "c6499366",
   "metadata": {
    "scrolled": true
   },
   "outputs": [
    {
     "data": {
      "text/plain": [
       "Index(['date_crawled', 'price', 'vehicle_type', 'registration_year', 'gearbox',\n",
       "       'power', 'model', 'kilometer', 'registration_month', 'fuel_type',\n",
       "       'brand', 'repaired', 'date_created', 'number_of_pictures',\n",
       "       'postal_code', 'last_seen'],\n",
       "      dtype='object')"
      ]
     },
     "execution_count": 6,
     "metadata": {},
     "output_type": "execute_result"
    }
   ],
   "source": [
    "def snake_case(str):\n",
    "    return ''.join(['_' + i.lower() if i.isupper()\n",
    "               else i for i in str]).lstrip('_')\n",
    "\n",
    "df.columns = [snake_case(i) for i in df.columns]\n",
    "df.columns"
   ]
  },
  {
   "cell_type": "markdown",
   "id": "f70cef6a",
   "metadata": {},
   "source": [
    "### Ненужные значения"
   ]
  },
  {
   "cell_type": "markdown",
   "id": "2510889c",
   "metadata": {},
   "source": [
    "Удалим лишнюю информацию. `number_of_pictures` не содержит данных. `date_crawled`, `date_created`, `last_seen` и `postal_code` также содержат информацию, которую в данном исследовании не будем использовать."
   ]
  },
  {
   "cell_type": "code",
   "execution_count": 7,
   "id": "372fad26",
   "metadata": {
    "scrolled": true
   },
   "outputs": [
    {
     "data": {
      "text/html": [
       "<div>\n",
       "<style scoped>\n",
       "    .dataframe tbody tr th:only-of-type {\n",
       "        vertical-align: middle;\n",
       "    }\n",
       "\n",
       "    .dataframe tbody tr th {\n",
       "        vertical-align: top;\n",
       "    }\n",
       "\n",
       "    .dataframe thead th {\n",
       "        text-align: right;\n",
       "    }\n",
       "</style>\n",
       "<table border=\"1\" class=\"dataframe\">\n",
       "  <thead>\n",
       "    <tr style=\"text-align: right;\">\n",
       "      <th></th>\n",
       "      <th>date_crawled</th>\n",
       "      <th>price</th>\n",
       "      <th>vehicle_type</th>\n",
       "      <th>registration_year</th>\n",
       "      <th>gearbox</th>\n",
       "      <th>power</th>\n",
       "      <th>model</th>\n",
       "      <th>kilometer</th>\n",
       "      <th>registration_month</th>\n",
       "      <th>fuel_type</th>\n",
       "      <th>brand</th>\n",
       "      <th>repaired</th>\n",
       "    </tr>\n",
       "  </thead>\n",
       "  <tbody>\n",
       "    <tr>\n",
       "      <th>0</th>\n",
       "      <td>2016-03-24 11:52:17</td>\n",
       "      <td>480</td>\n",
       "      <td>NaN</td>\n",
       "      <td>1993</td>\n",
       "      <td>manual</td>\n",
       "      <td>0</td>\n",
       "      <td>golf</td>\n",
       "      <td>150000</td>\n",
       "      <td>0</td>\n",
       "      <td>petrol</td>\n",
       "      <td>volkswagen</td>\n",
       "      <td>NaN</td>\n",
       "    </tr>\n",
       "    <tr>\n",
       "      <th>1</th>\n",
       "      <td>2016-03-24 10:58:45</td>\n",
       "      <td>18300</td>\n",
       "      <td>coupe</td>\n",
       "      <td>2011</td>\n",
       "      <td>manual</td>\n",
       "      <td>190</td>\n",
       "      <td>NaN</td>\n",
       "      <td>125000</td>\n",
       "      <td>5</td>\n",
       "      <td>gasoline</td>\n",
       "      <td>audi</td>\n",
       "      <td>yes</td>\n",
       "    </tr>\n",
       "    <tr>\n",
       "      <th>2</th>\n",
       "      <td>2016-03-14 12:52:21</td>\n",
       "      <td>9800</td>\n",
       "      <td>suv</td>\n",
       "      <td>2004</td>\n",
       "      <td>auto</td>\n",
       "      <td>163</td>\n",
       "      <td>grand</td>\n",
       "      <td>125000</td>\n",
       "      <td>8</td>\n",
       "      <td>gasoline</td>\n",
       "      <td>jeep</td>\n",
       "      <td>NaN</td>\n",
       "    </tr>\n",
       "    <tr>\n",
       "      <th>3</th>\n",
       "      <td>2016-03-17 16:54:04</td>\n",
       "      <td>1500</td>\n",
       "      <td>small</td>\n",
       "      <td>2001</td>\n",
       "      <td>manual</td>\n",
       "      <td>75</td>\n",
       "      <td>golf</td>\n",
       "      <td>150000</td>\n",
       "      <td>6</td>\n",
       "      <td>petrol</td>\n",
       "      <td>volkswagen</td>\n",
       "      <td>no</td>\n",
       "    </tr>\n",
       "    <tr>\n",
       "      <th>4</th>\n",
       "      <td>2016-03-31 17:25:20</td>\n",
       "      <td>3600</td>\n",
       "      <td>small</td>\n",
       "      <td>2008</td>\n",
       "      <td>manual</td>\n",
       "      <td>69</td>\n",
       "      <td>fabia</td>\n",
       "      <td>90000</td>\n",
       "      <td>7</td>\n",
       "      <td>gasoline</td>\n",
       "      <td>skoda</td>\n",
       "      <td>no</td>\n",
       "    </tr>\n",
       "  </tbody>\n",
       "</table>\n",
       "</div>"
      ],
      "text/plain": [
       "          date_crawled  price vehicle_type  registration_year gearbox  power  \\\n",
       "0  2016-03-24 11:52:17    480          NaN               1993  manual      0   \n",
       "1  2016-03-24 10:58:45  18300        coupe               2011  manual    190   \n",
       "2  2016-03-14 12:52:21   9800          suv               2004    auto    163   \n",
       "3  2016-03-17 16:54:04   1500        small               2001  manual     75   \n",
       "4  2016-03-31 17:25:20   3600        small               2008  manual     69   \n",
       "\n",
       "   model  kilometer  registration_month fuel_type       brand repaired  \n",
       "0   golf     150000                   0    petrol  volkswagen      NaN  \n",
       "1    NaN     125000                   5  gasoline        audi      yes  \n",
       "2  grand     125000                   8  gasoline        jeep      NaN  \n",
       "3   golf     150000                   6    petrol  volkswagen       no  \n",
       "4  fabia      90000                   7  gasoline       skoda       no  "
      ]
     },
     "execution_count": 7,
     "metadata": {},
     "output_type": "execute_result"
    }
   ],
   "source": [
    "df = df.drop(['postal_code', 'last_seen', 'number_of_pictures', 'date_created'], axis=1)\n",
    "df.head()"
   ]
  },
  {
   "cell_type": "markdown",
   "id": "e820e0f5",
   "metadata": {},
   "source": [
    "### Аномальные значения"
   ]
  },
  {
   "cell_type": "markdown",
   "id": "ad32dc40",
   "metadata": {},
   "source": [
    "Напишем функцию для построения графиков распределения. И посмотрим распределения значений параметров"
   ]
  },
  {
   "cell_type": "code",
   "execution_count": 8,
   "id": "5ae4a10b",
   "metadata": {},
   "outputs": [],
   "source": [
    "def diagrams(data_series):\n",
    "    fig, axs = plt.subplots(1, 2, figsize=(20, 8))\n",
    "    fig.suptitle(f'График распределения {data_series.name}')\n",
    "    axs[0].set(title='Гистограмма')\n",
    "    axs[0].grid()\n",
    "    axs[0].hist(data_series, bins=50);\n",
    "    axs[1].set(title='Диаграмма размаха')\n",
    "    axs[1].grid()\n",
    "    axs[1].boxplot(data_series);"
   ]
  },
  {
   "cell_type": "markdown",
   "id": "17b2b805",
   "metadata": {},
   "source": [
    "#### Цена"
   ]
  },
  {
   "cell_type": "code",
   "execution_count": 9,
   "id": "93f6e9e3",
   "metadata": {},
   "outputs": [
    {
     "data": {
      "image/png": "[encoded data removed]",
      "text/plain": [
       "<Figure size 1440x576 with 2 Axes>"
      ]
     },
     "metadata": {
      "needs_background": "light"
     },
     "output_type": "display_data"
    }
   ],
   "source": [
    "diagrams(df['price'])"
   ]
  },
  {
   "cell_type": "markdown",
   "id": "e980af7b",
   "metadata": {},
   "source": [
    "Удалим данные с авто ценой ниже 100$."
   ]
  },
  {
   "cell_type": "code",
   "execution_count": 10,
   "id": "e67a1a7e",
   "metadata": {},
   "outputs": [],
   "source": [
    "df = df[df['price'] > 100]"
   ]
  },
  {
   "cell_type": "code",
   "execution_count": 11,
   "id": "7798c1ab",
   "metadata": {},
   "outputs": [
    {
     "data": {
      "image/png": "[encoded data removed]",
      "text/plain": [
       "<Figure size 1440x576 with 2 Axes>"
      ]
     },
     "metadata": {
      "needs_background": "light"
     },
     "output_type": "display_data"
    }
   ],
   "source": [
    "diagrams(df['price'])"
   ]
  },
  {
   "cell_type": "markdown",
   "id": "6017c8e4",
   "metadata": {},
   "source": [
    "#### Мощность"
   ]
  },
  {
   "cell_type": "code",
   "execution_count": 12,
   "id": "2ca9ae73",
   "metadata": {},
   "outputs": [
    {
     "data": {
      "image/png": "[encoded data removed]",
      "text/plain": [
       "<Figure size 1440x576 with 2 Axes>"
      ]
     },
     "metadata": {
      "needs_background": "light"
     },
     "output_type": "display_data"
    }
   ],
   "source": [
    "diagrams(df['power'])"
   ]
  },
  {
   "cell_type": "markdown",
   "id": "e1e55f13",
   "metadata": {},
   "source": [
    "Мощность авто также ограничим разумными пределами от 10 до 1000 л.с."
   ]
  },
  {
   "cell_type": "code",
   "execution_count": 13,
   "id": "e942ed5e",
   "metadata": {},
   "outputs": [],
   "source": [
    "df = df[(df['power'] >= 10) & (df['power'] <= 1000)]"
   ]
  },
  {
   "cell_type": "code",
   "execution_count": 14,
   "id": "265267e7",
   "metadata": {},
   "outputs": [
    {
     "data": {
      "image/png": "[encoded data removed]",
      "text/plain": [
       "<Figure size 1440x576 with 2 Axes>"
      ]
     },
     "metadata": {
      "needs_background": "light"
     },
     "output_type": "display_data"
    }
   ],
   "source": [
    "diagrams(df['power'])"
   ]
  },
  {
   "cell_type": "markdown",
   "id": "c09a8491",
   "metadata": {},
   "source": [
    "#### Год регистрации"
   ]
  },
  {
   "cell_type": "code",
   "execution_count": 15,
   "id": "538c5c30",
   "metadata": {},
   "outputs": [
    {
     "data": {
      "image/png": "[encoded data removed]",
      "text/plain": [
       "<Figure size 1440x576 with 2 Axes>"
      ]
     },
     "metadata": {
      "needs_background": "light"
     },
     "output_type": "display_data"
    }
   ],
   "source": [
    "diagrams(df['registration_year'])"
   ]
  },
  {
   "cell_type": "markdown",
   "id": "ffb5d386",
   "metadata": {},
   "source": [
    "Год регистрации автомобиля ограничим разумными датами с 1960 г.в."
   ]
  },
  {
   "cell_type": "code",
   "execution_count": 16,
   "id": "b1c23d89",
   "metadata": {},
   "outputs": [],
   "source": [
    "df = df[(df['registration_year'] > 1960) & (df['registration_year'] < 2023)]"
   ]
  },
  {
   "cell_type": "code",
   "execution_count": 17,
   "id": "656f3121",
   "metadata": {},
   "outputs": [
    {
     "data": {
      "image/png": "[encoded data removed]",
      "text/plain": [
       "<Figure size 1440x576 with 2 Axes>"
      ]
     },
     "metadata": {
      "needs_background": "light"
     },
     "output_type": "display_data"
    }
   ],
   "source": [
    "diagrams(df['registration_year'])"
   ]
  },
  {
   "cell_type": "markdown",
   "id": "5bfbd413",
   "metadata": {},
   "source": [
    "Посмотрим на дату выгрузки объявлений и сравним с годом регистрации"
   ]
  },
  {
   "cell_type": "code",
   "execution_count": 18,
   "id": "3f462e38",
   "metadata": {},
   "outputs": [],
   "source": [
    "df['date_crawled'] = pd.to_datetime(df['date_crawled'], format='%Y-%m-%dT%H:%M:%S')\n",
    "#df['registration_year'] = pd.to_datetime(df['registration_year'], format='%Y')"
   ]
  },
  {
   "cell_type": "code",
   "execution_count": 19,
   "id": "f46ab299",
   "metadata": {},
   "outputs": [
    {
     "data": {
      "text/html": [
       "<div>\n",
       "<style scoped>\n",
       "    .dataframe tbody tr th:only-of-type {\n",
       "        vertical-align: middle;\n",
       "    }\n",
       "\n",
       "    .dataframe tbody tr th {\n",
       "        vertical-align: top;\n",
       "    }\n",
       "\n",
       "    .dataframe thead th {\n",
       "        text-align: right;\n",
       "    }\n",
       "</style>\n",
       "<table border=\"1\" class=\"dataframe\">\n",
       "  <thead>\n",
       "    <tr style=\"text-align: right;\">\n",
       "      <th></th>\n",
       "      <th>date_crawled</th>\n",
       "      <th>price</th>\n",
       "      <th>vehicle_type</th>\n",
       "      <th>registration_year</th>\n",
       "      <th>gearbox</th>\n",
       "      <th>power</th>\n",
       "      <th>model</th>\n",
       "      <th>kilometer</th>\n",
       "      <th>registration_month</th>\n",
       "      <th>fuel_type</th>\n",
       "      <th>brand</th>\n",
       "      <th>repaired</th>\n",
       "    </tr>\n",
       "  </thead>\n",
       "  <tbody>\n",
       "    <tr>\n",
       "      <th>22</th>\n",
       "      <td>2016-03-23 14:52:51</td>\n",
       "      <td>2900</td>\n",
       "      <td>NaN</td>\n",
       "      <td>2018</td>\n",
       "      <td>manual</td>\n",
       "      <td>90</td>\n",
       "      <td>meriva</td>\n",
       "      <td>150000</td>\n",
       "      <td>5</td>\n",
       "      <td>petrol</td>\n",
       "      <td>opel</td>\n",
       "      <td>no</td>\n",
       "    </tr>\n",
       "    <tr>\n",
       "      <th>26</th>\n",
       "      <td>2016-03-10 19:38:18</td>\n",
       "      <td>5555</td>\n",
       "      <td>NaN</td>\n",
       "      <td>2017</td>\n",
       "      <td>manual</td>\n",
       "      <td>125</td>\n",
       "      <td>c4</td>\n",
       "      <td>125000</td>\n",
       "      <td>4</td>\n",
       "      <td>NaN</td>\n",
       "      <td>citroen</td>\n",
       "      <td>no</td>\n",
       "    </tr>\n",
       "    <tr>\n",
       "      <th>48</th>\n",
       "      <td>2016-03-25 14:40:12</td>\n",
       "      <td>7750</td>\n",
       "      <td>NaN</td>\n",
       "      <td>2017</td>\n",
       "      <td>manual</td>\n",
       "      <td>80</td>\n",
       "      <td>golf</td>\n",
       "      <td>100000</td>\n",
       "      <td>1</td>\n",
       "      <td>petrol</td>\n",
       "      <td>volkswagen</td>\n",
       "      <td>NaN</td>\n",
       "    </tr>\n",
       "    <tr>\n",
       "      <th>51</th>\n",
       "      <td>2016-03-07 18:57:08</td>\n",
       "      <td>2000</td>\n",
       "      <td>NaN</td>\n",
       "      <td>2017</td>\n",
       "      <td>manual</td>\n",
       "      <td>90</td>\n",
       "      <td>punto</td>\n",
       "      <td>150000</td>\n",
       "      <td>11</td>\n",
       "      <td>gasoline</td>\n",
       "      <td>fiat</td>\n",
       "      <td>yes</td>\n",
       "    </tr>\n",
       "    <tr>\n",
       "      <th>57</th>\n",
       "      <td>2016-03-10 20:53:19</td>\n",
       "      <td>2399</td>\n",
       "      <td>NaN</td>\n",
       "      <td>2018</td>\n",
       "      <td>manual</td>\n",
       "      <td>64</td>\n",
       "      <td>other</td>\n",
       "      <td>125000</td>\n",
       "      <td>3</td>\n",
       "      <td>NaN</td>\n",
       "      <td>seat</td>\n",
       "      <td>no</td>\n",
       "    </tr>\n",
       "    <tr>\n",
       "      <th>...</th>\n",
       "      <td>...</td>\n",
       "      <td>...</td>\n",
       "      <td>...</td>\n",
       "      <td>...</td>\n",
       "      <td>...</td>\n",
       "      <td>...</td>\n",
       "      <td>...</td>\n",
       "      <td>...</td>\n",
       "      <td>...</td>\n",
       "      <td>...</td>\n",
       "      <td>...</td>\n",
       "      <td>...</td>\n",
       "    </tr>\n",
       "    <tr>\n",
       "      <th>354099</th>\n",
       "      <td>2016-03-17 15:45:46</td>\n",
       "      <td>4900</td>\n",
       "      <td>NaN</td>\n",
       "      <td>2017</td>\n",
       "      <td>manual</td>\n",
       "      <td>69</td>\n",
       "      <td>polo</td>\n",
       "      <td>150000</td>\n",
       "      <td>12</td>\n",
       "      <td>gasoline</td>\n",
       "      <td>volkswagen</td>\n",
       "      <td>NaN</td>\n",
       "    </tr>\n",
       "    <tr>\n",
       "      <th>354112</th>\n",
       "      <td>2016-03-11 15:49:51</td>\n",
       "      <td>3600</td>\n",
       "      <td>NaN</td>\n",
       "      <td>2017</td>\n",
       "      <td>manual</td>\n",
       "      <td>86</td>\n",
       "      <td>transit</td>\n",
       "      <td>150000</td>\n",
       "      <td>5</td>\n",
       "      <td>gasoline</td>\n",
       "      <td>ford</td>\n",
       "      <td>NaN</td>\n",
       "    </tr>\n",
       "    <tr>\n",
       "      <th>354140</th>\n",
       "      <td>2016-03-29 16:47:29</td>\n",
       "      <td>1000</td>\n",
       "      <td>NaN</td>\n",
       "      <td>2017</td>\n",
       "      <td>manual</td>\n",
       "      <td>101</td>\n",
       "      <td>a4</td>\n",
       "      <td>150000</td>\n",
       "      <td>9</td>\n",
       "      <td>NaN</td>\n",
       "      <td>audi</td>\n",
       "      <td>NaN</td>\n",
       "    </tr>\n",
       "    <tr>\n",
       "      <th>354203</th>\n",
       "      <td>2016-03-17 00:56:26</td>\n",
       "      <td>2140</td>\n",
       "      <td>NaN</td>\n",
       "      <td>2018</td>\n",
       "      <td>manual</td>\n",
       "      <td>80</td>\n",
       "      <td>fiesta</td>\n",
       "      <td>150000</td>\n",
       "      <td>6</td>\n",
       "      <td>NaN</td>\n",
       "      <td>ford</td>\n",
       "      <td>no</td>\n",
       "    </tr>\n",
       "    <tr>\n",
       "      <th>354289</th>\n",
       "      <td>2016-03-05 14:55:29</td>\n",
       "      <td>5000</td>\n",
       "      <td>NaN</td>\n",
       "      <td>2017</td>\n",
       "      <td>manual</td>\n",
       "      <td>120</td>\n",
       "      <td>other</td>\n",
       "      <td>150000</td>\n",
       "      <td>7</td>\n",
       "      <td>NaN</td>\n",
       "      <td>citroen</td>\n",
       "      <td>yes</td>\n",
       "    </tr>\n",
       "  </tbody>\n",
       "</table>\n",
       "<p>10219 rows × 12 columns</p>\n",
       "</div>"
      ],
      "text/plain": [
       "              date_crawled  price vehicle_type  registration_year gearbox  \\\n",
       "22     2016-03-23 14:52:51   2900          NaN               2018  manual   \n",
       "26     2016-03-10 19:38:18   5555          NaN               2017  manual   \n",
       "48     2016-03-25 14:40:12   7750          NaN               2017  manual   \n",
       "51     2016-03-07 18:57:08   2000          NaN               2017  manual   \n",
       "57     2016-03-10 20:53:19   2399          NaN               2018  manual   \n",
       "...                    ...    ...          ...                ...     ...   \n",
       "354099 2016-03-17 15:45:46   4900          NaN               2017  manual   \n",
       "354112 2016-03-11 15:49:51   3600          NaN               2017  manual   \n",
       "354140 2016-03-29 16:47:29   1000          NaN               2017  manual   \n",
       "354203 2016-03-17 00:56:26   2140          NaN               2018  manual   \n",
       "354289 2016-03-05 14:55:29   5000          NaN               2017  manual   \n",
       "\n",
       "        power    model  kilometer  registration_month fuel_type       brand  \\\n",
       "22         90   meriva     150000                   5    petrol        opel   \n",
       "26        125       c4     125000                   4       NaN     citroen   \n",
       "48         80     golf     100000                   1    petrol  volkswagen   \n",
       "51         90    punto     150000                  11  gasoline        fiat   \n",
       "57         64    other     125000                   3       NaN        seat   \n",
       "...       ...      ...        ...                 ...       ...         ...   \n",
       "354099     69     polo     150000                  12  gasoline  volkswagen   \n",
       "354112     86  transit     150000                   5  gasoline        ford   \n",
       "354140    101       a4     150000                   9       NaN        audi   \n",
       "354203     80   fiesta     150000                   6       NaN        ford   \n",
       "354289    120    other     150000                   7       NaN     citroen   \n",
       "\n",
       "       repaired  \n",
       "22           no  \n",
       "26           no  \n",
       "48          NaN  \n",
       "51          yes  \n",
       "57           no  \n",
       "...         ...  \n",
       "354099      NaN  \n",
       "354112      NaN  \n",
       "354140      NaN  \n",
       "354203       no  \n",
       "354289      yes  \n",
       "\n",
       "[10219 rows x 12 columns]"
      ]
     },
     "execution_count": 19,
     "metadata": {},
     "output_type": "execute_result"
    }
   ],
   "source": [
    "df[(df['registration_year'] > pd.DatetimeIndex(df['date_crawled']).year)]"
   ]
  },
  {
   "cell_type": "markdown",
   "id": "a971a49e",
   "metadata": {},
   "source": [
    "Авто в базе уже есть, но год регистрации еще не наступил. Думаю удалить эти данные."
   ]
  },
  {
   "cell_type": "code",
   "execution_count": 20,
   "id": "1bea50a0",
   "metadata": {},
   "outputs": [],
   "source": [
    "df = df[df['registration_year'] < pd.DatetimeIndex(df['date_crawled']).year]"
   ]
  },
  {
   "cell_type": "code",
   "execution_count": 21,
   "id": "b6c9e9f1",
   "metadata": {
    "scrolled": true
   },
   "outputs": [],
   "source": [
    "df = df.drop('date_crawled', axis=1)"
   ]
  },
  {
   "cell_type": "markdown",
   "id": "4c44f791",
   "metadata": {},
   "source": [
    "### Пропуски"
   ]
  },
  {
   "cell_type": "markdown",
   "id": "390227b5",
   "metadata": {},
   "source": [
    "Посмотрим на процент количества пропусков"
   ]
  },
  {
   "cell_type": "code",
   "execution_count": 22,
   "id": "a3f8c613",
   "metadata": {
    "scrolled": true
   },
   "outputs": [
    {
     "data": {
      "text/html": [
       "<div>\n",
       "<style scoped>\n",
       "    .dataframe tbody tr th:only-of-type {\n",
       "        vertical-align: middle;\n",
       "    }\n",
       "\n",
       "    .dataframe tbody tr th {\n",
       "        vertical-align: top;\n",
       "    }\n",
       "\n",
       "    .dataframe thead th {\n",
       "        text-align: right;\n",
       "    }\n",
       "</style>\n",
       "<table border=\"1\" class=\"dataframe\">\n",
       "  <thead>\n",
       "    <tr style=\"text-align: right;\">\n",
       "      <th></th>\n",
       "      <th>Количество пропусков</th>\n",
       "      <th>Пропуски %</th>\n",
       "    </tr>\n",
       "  </thead>\n",
       "  <tbody>\n",
       "    <tr>\n",
       "      <th>repaired</th>\n",
       "      <td>39592</td>\n",
       "      <td>13.74</td>\n",
       "    </tr>\n",
       "    <tr>\n",
       "      <th>fuel_type</th>\n",
       "      <td>12634</td>\n",
       "      <td>4.38</td>\n",
       "    </tr>\n",
       "    <tr>\n",
       "      <th>model</th>\n",
       "      <td>10021</td>\n",
       "      <td>3.48</td>\n",
       "    </tr>\n",
       "    <tr>\n",
       "      <th>gearbox</th>\n",
       "      <td>4730</td>\n",
       "      <td>1.64</td>\n",
       "    </tr>\n",
       "    <tr>\n",
       "      <th>vehicle_type</th>\n",
       "      <td>4575</td>\n",
       "      <td>1.59</td>\n",
       "    </tr>\n",
       "  </tbody>\n",
       "</table>\n",
       "</div>"
      ],
      "text/plain": [
       "              Количество пропусков  Пропуски %\n",
       "repaired                     39592       13.74\n",
       "fuel_type                    12634        4.38\n",
       "model                        10021        3.48\n",
       "gearbox                       4730        1.64\n",
       "vehicle_type                  4575        1.59"
      ]
     },
     "metadata": {},
     "output_type": "display_data"
    }
   ],
   "source": [
    "def passage(df):\n",
    "    count=round(df.isna().sum(), 2)\n",
    "    percent=round((df.isna().sum() / df.shape[0]) * 100, 2)\n",
    "    data=pd.concat([count, percent], axis=1)\n",
    "    data.columns = ['Количество пропусков', 'Пропуски %']\n",
    "    display(data[data['Количество пропусков'] != 0].sort_values(by = 'Пропуски %', ascending = False))\n",
    "\n",
    "passage(df)"
   ]
  },
  {
   "cell_type": "markdown",
   "id": "d625a0dc",
   "metadata": {},
   "source": [
    "#### Пропуски (модель)"
   ]
  },
  {
   "cell_type": "markdown",
   "id": "02ca044a",
   "metadata": {},
   "source": [
    "Отфильтруем в начале пропуски в признаках, которые в основном влияют на ценообразование автомобиля. Удалим данные, имеющие пропуски в названии модели."
   ]
  },
  {
   "cell_type": "code",
   "execution_count": 23,
   "id": "161ddb2c",
   "metadata": {},
   "outputs": [],
   "source": [
    "df = df[~df.model.isna()]"
   ]
  },
  {
   "cell_type": "markdown",
   "id": "039ed0f3",
   "metadata": {},
   "source": [
    "Также удалим данные где модель неизвестна, а тип кузова не заполнен. Эти данные считаем мусорными."
   ]
  },
  {
   "cell_type": "code",
   "execution_count": 24,
   "id": "4e5f9627",
   "metadata": {
    "scrolled": true
   },
   "outputs": [
    {
     "data": {
      "text/html": [
       "<div>\n",
       "<style scoped>\n",
       "    .dataframe tbody tr th:only-of-type {\n",
       "        vertical-align: middle;\n",
       "    }\n",
       "\n",
       "    .dataframe tbody tr th {\n",
       "        vertical-align: top;\n",
       "    }\n",
       "\n",
       "    .dataframe thead th {\n",
       "        text-align: right;\n",
       "    }\n",
       "</style>\n",
       "<table border=\"1\" class=\"dataframe\">\n",
       "  <thead>\n",
       "    <tr style=\"text-align: right;\">\n",
       "      <th></th>\n",
       "      <th>price</th>\n",
       "      <th>vehicle_type</th>\n",
       "      <th>registration_year</th>\n",
       "      <th>gearbox</th>\n",
       "      <th>power</th>\n",
       "      <th>model</th>\n",
       "      <th>kilometer</th>\n",
       "      <th>registration_month</th>\n",
       "      <th>fuel_type</th>\n",
       "      <th>brand</th>\n",
       "      <th>repaired</th>\n",
       "    </tr>\n",
       "  </thead>\n",
       "  <tbody>\n",
       "    <tr>\n",
       "      <th>2320</th>\n",
       "      <td>800</td>\n",
       "      <td>NaN</td>\n",
       "      <td>2005</td>\n",
       "      <td>manual</td>\n",
       "      <td>101</td>\n",
       "      <td>other</td>\n",
       "      <td>150000</td>\n",
       "      <td>12</td>\n",
       "      <td>NaN</td>\n",
       "      <td>mazda</td>\n",
       "      <td>NaN</td>\n",
       "    </tr>\n",
       "    <tr>\n",
       "      <th>3238</th>\n",
       "      <td>1300</td>\n",
       "      <td>NaN</td>\n",
       "      <td>1995</td>\n",
       "      <td>manual</td>\n",
       "      <td>163</td>\n",
       "      <td>other</td>\n",
       "      <td>150000</td>\n",
       "      <td>5</td>\n",
       "      <td>petrol</td>\n",
       "      <td>ford</td>\n",
       "      <td>NaN</td>\n",
       "    </tr>\n",
       "    <tr>\n",
       "      <th>3902</th>\n",
       "      <td>900</td>\n",
       "      <td>NaN</td>\n",
       "      <td>1985</td>\n",
       "      <td>manual</td>\n",
       "      <td>41</td>\n",
       "      <td>other</td>\n",
       "      <td>80000</td>\n",
       "      <td>0</td>\n",
       "      <td>NaN</td>\n",
       "      <td>suzuki</td>\n",
       "      <td>yes</td>\n",
       "    </tr>\n",
       "    <tr>\n",
       "      <th>7978</th>\n",
       "      <td>2900</td>\n",
       "      <td>NaN</td>\n",
       "      <td>2005</td>\n",
       "      <td>manual</td>\n",
       "      <td>74</td>\n",
       "      <td>other</td>\n",
       "      <td>125000</td>\n",
       "      <td>3</td>\n",
       "      <td>NaN</td>\n",
       "      <td>citroen</td>\n",
       "      <td>NaN</td>\n",
       "    </tr>\n",
       "    <tr>\n",
       "      <th>8247</th>\n",
       "      <td>500</td>\n",
       "      <td>NaN</td>\n",
       "      <td>1995</td>\n",
       "      <td>manual</td>\n",
       "      <td>133</td>\n",
       "      <td>other</td>\n",
       "      <td>150000</td>\n",
       "      <td>0</td>\n",
       "      <td>petrol</td>\n",
       "      <td>honda</td>\n",
       "      <td>NaN</td>\n",
       "    </tr>\n",
       "  </tbody>\n",
       "</table>\n",
       "</div>"
      ],
      "text/plain": [
       "      price vehicle_type  registration_year gearbox  power  model  kilometer  \\\n",
       "2320    800          NaN               2005  manual    101  other     150000   \n",
       "3238   1300          NaN               1995  manual    163  other     150000   \n",
       "3902    900          NaN               1985  manual     41  other      80000   \n",
       "7978   2900          NaN               2005  manual     74  other     125000   \n",
       "8247    500          NaN               1995  manual    133  other     150000   \n",
       "\n",
       "      registration_month fuel_type    brand repaired  \n",
       "2320                  12       NaN    mazda      NaN  \n",
       "3238                   5    petrol     ford      NaN  \n",
       "3902                   0       NaN   suzuki      yes  \n",
       "7978                   3       NaN  citroen      NaN  \n",
       "8247                   0    petrol    honda      NaN  "
      ]
     },
     "execution_count": 24,
     "metadata": {},
     "output_type": "execute_result"
    }
   ],
   "source": [
    "df[(df.vehicle_type.isna()) & (df.model == 'other')].head()"
   ]
  },
  {
   "cell_type": "code",
   "execution_count": 25,
   "id": "5856e4ae",
   "metadata": {},
   "outputs": [],
   "source": [
    "df = df[~((df.vehicle_type.isna()) & (df.model == 'other'))]"
   ]
  },
  {
   "cell_type": "markdown",
   "id": "f40de40c",
   "metadata": {},
   "source": [
    "#### Пропуски (тип кузова)"
   ]
  },
  {
   "cell_type": "markdown",
   "id": "27f806c7",
   "metadata": {},
   "source": [
    "Для восстановления пропусков в наименовании кузова сгруппируем наши данные, для того чтобы по модели авто видно было наиболее встречающееся наименование кузова (моду)."
   ]
  },
  {
   "cell_type": "code",
   "execution_count": 26,
   "id": "2b420ba6",
   "metadata": {
    "scrolled": true
   },
   "outputs": [
    {
     "data": {
      "text/plain": [
       "model  vehicle_type\n",
       "100    sedan           249\n",
       "       wagon           100\n",
       "       NaN               7\n",
       "       coupe             2\n",
       "       convertible       1\n",
       "145    small            18\n",
       "       sedan            12\n",
       "       NaN               1\n",
       "       coupe             1\n",
       "       other             1\n",
       "147    sedan           345\n",
       "       small            86\n",
       "       coupe            26\n",
       "       NaN              14\n",
       "       other             6\n",
       "Name: vehicle_type, dtype: int64"
      ]
     },
     "execution_count": 26,
     "metadata": {},
     "output_type": "execute_result"
    }
   ],
   "source": [
    "df.groupby('model')['vehicle_type'].value_counts(dropna=False).head(15)"
   ]
  },
  {
   "cell_type": "markdown",
   "id": "6804d781",
   "metadata": {},
   "source": [
    "Не каждый знает тип кузова своей машины, это видно по разнообразию наименований кузова в объявлении. Примем допущение, что наиболее популярный кузов при группировке по моделям - это и есть искомое значение кузова для пропусков. Заменим пропуски применяя функцию mode."
   ]
  },
  {
   "cell_type": "code",
   "execution_count": 27,
   "id": "d67dbc74",
   "metadata": {
    "scrolled": true
   },
   "outputs": [],
   "source": [
    "df['vehicle_type'] = df['vehicle_type'].fillna(df.groupby('model')['vehicle_type'].transform(mode))"
   ]
  },
  {
   "cell_type": "markdown",
   "id": "cd759f63",
   "metadata": {},
   "source": [
    "Проверим результат"
   ]
  },
  {
   "cell_type": "code",
   "execution_count": 28,
   "id": "a6a4c574",
   "metadata": {},
   "outputs": [
    {
     "data": {
      "text/plain": [
       "model  vehicle_type\n",
       "100    sedan           256\n",
       "       wagon           100\n",
       "       coupe             2\n",
       "       convertible       1\n",
       "145    small            19\n",
       "       sedan            12\n",
       "       coupe             1\n",
       "       other             1\n",
       "147    sedan           359\n",
       "       small            86\n",
       "       coupe            26\n",
       "       other             6\n",
       "       wagon             2\n",
       "156    wagon           280\n",
       "       sedan           240\n",
       "Name: vehicle_type, dtype: int64"
      ]
     },
     "execution_count": 28,
     "metadata": {},
     "output_type": "execute_result"
    }
   ],
   "source": [
    "df.groupby('model')['vehicle_type'].value_counts().head(15)"
   ]
  },
  {
   "cell_type": "markdown",
   "id": "3fff4aa8",
   "metadata": {},
   "source": [
    "#### Пропуски (тип коробки передач, тип топлива)"
   ]
  },
  {
   "cell_type": "markdown",
   "id": "bcc51904",
   "metadata": {},
   "source": [
    "Аналогично, как и с пропусками по типу кузова, заменим пропуски типа КПП и типа топлива применяя группировку по модели и мощности двигателя."
   ]
  },
  {
   "cell_type": "code",
   "execution_count": 29,
   "id": "2b561f09",
   "metadata": {},
   "outputs": [],
   "source": [
    "df['gearbox'] = df['gearbox'].fillna(df.groupby(['model', 'power'])['gearbox'].transform(mode))\n",
    "\n",
    "df['fuel_type'] = df['fuel_type'].fillna(df.groupby(['model', 'power'])['fuel_type'].transform(mode))"
   ]
  },
  {
   "cell_type": "markdown",
   "id": "e832ab08",
   "metadata": {},
   "source": [
    "#### Пропуски (наличие ДТП)"
   ]
  },
  {
   "cell_type": "markdown",
   "id": "2ffb60db",
   "metadata": {},
   "source": [
    "Пропуски в `repaired` заменим значением unknown. "
   ]
  },
  {
   "cell_type": "code",
   "execution_count": 30,
   "id": "7f35c281",
   "metadata": {},
   "outputs": [],
   "source": [
    "df['repaired'] = df['repaired'].fillna('unknown')"
   ]
  },
  {
   "cell_type": "markdown",
   "id": "616b1381",
   "metadata": {},
   "source": [
    "#### Пропуски (итог)"
   ]
  },
  {
   "cell_type": "markdown",
   "id": "42e80452",
   "metadata": {},
   "source": [
    "Проверим итог обработки пропусков"
   ]
  },
  {
   "cell_type": "code",
   "execution_count": 31,
   "id": "12ed7684",
   "metadata": {
    "scrolled": true
   },
   "outputs": [
    {
     "data": {
      "text/html": [
       "<div>\n",
       "<style scoped>\n",
       "    .dataframe tbody tr th:only-of-type {\n",
       "        vertical-align: middle;\n",
       "    }\n",
       "\n",
       "    .dataframe tbody tr th {\n",
       "        vertical-align: top;\n",
       "    }\n",
       "\n",
       "    .dataframe thead th {\n",
       "        text-align: right;\n",
       "    }\n",
       "</style>\n",
       "<table border=\"1\" class=\"dataframe\">\n",
       "  <thead>\n",
       "    <tr style=\"text-align: right;\">\n",
       "      <th></th>\n",
       "      <th>Количество пропусков</th>\n",
       "      <th>Пропуски %</th>\n",
       "    </tr>\n",
       "  </thead>\n",
       "  <tbody>\n",
       "    <tr>\n",
       "      <th>fuel_type</th>\n",
       "      <td>398</td>\n",
       "      <td>0.14</td>\n",
       "    </tr>\n",
       "    <tr>\n",
       "      <th>gearbox</th>\n",
       "      <td>125</td>\n",
       "      <td>0.04</td>\n",
       "    </tr>\n",
       "  </tbody>\n",
       "</table>\n",
       "</div>"
      ],
      "text/plain": [
       "           Количество пропусков  Пропуски %\n",
       "fuel_type                   398        0.14\n",
       "gearbox                     125        0.04"
      ]
     },
     "metadata": {},
     "output_type": "display_data"
    }
   ],
   "source": [
    "passage(df)"
   ]
  },
  {
   "cell_type": "markdown",
   "id": "47290f70",
   "metadata": {},
   "source": [
    "Оставшиеся пропусков немного, удалим"
   ]
  },
  {
   "cell_type": "code",
   "execution_count": 32,
   "id": "aa08d735",
   "metadata": {},
   "outputs": [],
   "source": [
    "df = df.dropna()"
   ]
  },
  {
   "cell_type": "markdown",
   "id": "c4b736c1",
   "metadata": {},
   "source": [
    "### Дубликаты"
   ]
  },
  {
   "cell_type": "markdown",
   "id": "6b7aaeba",
   "metadata": {},
   "source": [
    "Дубликаты нам не нужны, удалим"
   ]
  },
  {
   "cell_type": "code",
   "execution_count": 33,
   "id": "c3bb6bc0",
   "metadata": {},
   "outputs": [
    {
     "name": "stdout",
     "output_type": "stream",
     "text": [
      "Явных дубликатов в данных: 23471\n"
     ]
    }
   ],
   "source": [
    "print('Явных дубликатов в данных:', df.duplicated().sum())"
   ]
  },
  {
   "cell_type": "code",
   "execution_count": 34,
   "id": "7d557ea5",
   "metadata": {},
   "outputs": [
    {
     "name": "stdout",
     "output_type": "stream",
     "text": [
      "Явных дубликатов в данных: 0\n"
     ]
    }
   ],
   "source": [
    "df.drop_duplicates(inplace=True)\n",
    "print('Явных дубликатов в данных:', df.duplicated().sum())"
   ]
  },
  {
   "cell_type": "markdown",
   "id": "5d15fce8",
   "metadata": {},
   "source": [
    "### Корреляция"
   ]
  },
  {
   "cell_type": "code",
   "execution_count": 35,
   "id": "3dd70207",
   "metadata": {},
   "outputs": [
    {
     "data": {
      "image/png": "[encoded data removed]",
      "text/plain": [
       "<Figure size 432x288 with 2 Axes>"
      ]
     },
     "metadata": {
      "needs_background": "light"
     },
     "output_type": "display_data"
    }
   ],
   "source": [
    "sns.heatmap(df.corr(), annot=True);"
   ]
  },
  {
   "cell_type": "markdown",
   "id": "0c11c3ac",
   "metadata": {},
   "source": [
    "Сильной зависимости между признаками нет"
   ]
  },
  {
   "cell_type": "markdown",
   "id": "fe92df18",
   "metadata": {
    "scrolled": false
   },
   "source": [
    "### Вывод\n",
    "\n",
    "- Удалены лишние признаки в данных (`date_crawled`, `date_created`, `last_seen`, `postal_code`, `number_of_pictures`).\n",
    "- По возможности в данных восстановленны пропуски.\n",
    "\n",
    "- В  registrationyear, power, price и убрали выбросы из них\n",
    "- Заполнили пропуски в колонке notrepaired а остальные просто удалили\n",
    "\n",
    "\n",
    "\n",
    "\n",
    "- Признак `RegistrationYear` содержит аномальные значения (минимальный год выпуска 1000 год, а максимальный 9999 год).\n",
    "- Признак `Power` имеет неадекватные и аномальные значения (минимальное значение 0 а максимальное 20000).\n",
    "- В признаке `NumberOfPictures` нет данных.\n",
    "- В целевом признаке `Price` есть аномальное значение 0.\n",
    "- Так же в признаке `RegistrationMonth` есть 0 значение (скорее всего часть данных потеряна).\n",
    "- В `VehicleType`, `Gearbox`, `Model`, `FuelType`, `NotRepaired` много пропущенных значений.\n",
    "\n",
    "\n",
    "Удалим лишнюю информацию. `number_of_pictures` не содержит данных. `date_crawled`, `date_created`, `last_seen` и `postal_code` также содержат информацию, которую в данном исследовании не будем использовать.\n",
    "\n",
    "\n",
    "Мощность авто также ограничим разумными пределами от 10 до 1000 л.с."
   ]
  },
  {
   "cell_type": "markdown",
   "id": "9d0b52e8",
   "metadata": {},
   "source": [
    "## Обучение моделей"
   ]
  },
  {
   "cell_type": "markdown",
   "id": "a831604b",
   "metadata": {},
   "source": [
    "### Разделение данных"
   ]
  },
  {
   "cell_type": "markdown",
   "id": "20e10892",
   "metadata": {},
   "source": [
    "Разделим данные на обучающую, валидационную и тестовую выборки"
   ]
  },
  {
   "cell_type": "code",
   "execution_count": 36,
   "id": "c2901a83",
   "metadata": {},
   "outputs": [],
   "source": [
    "x = df.drop('price', axis=1)\n",
    "y = df['price']"
   ]
  },
  {
   "cell_type": "code",
   "execution_count": 37,
   "id": "85ffcbf5",
   "metadata": {
    "scrolled": true
   },
   "outputs": [
    {
     "name": "stdout",
     "output_type": "stream",
     "text": [
      "Размер обучающей выборки (190466, 10) (190466,),      \n",
      "тестовой (63489, 10) (63489,)\n"
     ]
    }
   ],
   "source": [
    "x_train, x_test, y_train, y_test = train_test_split(x, y, test_size=0.25, random_state=1)\n",
    "\n",
    "print(f'Размер обучающей выборки {x_train.shape} {y_train.shape}, \\\n",
    "     \\nтестовой {x_test.shape} {y_test.shape}')"
   ]
  },
  {
   "cell_type": "code",
   "execution_count": 38,
   "id": "82f8097d",
   "metadata": {},
   "outputs": [],
   "source": [
    "del x, y, df"
   ]
  },
  {
   "cell_type": "markdown",
   "id": "69581ecb",
   "metadata": {},
   "source": [
    "### Функция для обучения моделей"
   ]
  },
  {
   "cell_type": "markdown",
   "id": "346dc30c",
   "metadata": {},
   "source": [
    "Создадим таблицу куда будем вносить результаты"
   ]
  },
  {
   "cell_type": "code",
   "execution_count": 39,
   "id": "c20113bf",
   "metadata": {},
   "outputs": [],
   "source": [
    "list_of_results = pd.DataFrame(index=['Время обучения', 'Время предсказания', 'RMSE'])"
   ]
  },
  {
   "cell_type": "markdown",
   "id": "86d34338",
   "metadata": {},
   "source": [
    "Напишем функцию для обучения моделей."
   ]
  },
  {
   "cell_type": "code",
   "execution_count": 40,
   "id": "dcb38e83",
   "metadata": {},
   "outputs": [
    {
     "name": "stdout",
     "output_type": "stream",
     "text": [
      "CPU times: user 3 µs, sys: 0 ns, total: 3 µs\n",
      "Wall time: 6.44 µs\n"
     ]
    }
   ],
   "source": [
    "%%time\n",
    "\n",
    "list = []\n",
    "\n",
    "def learning_model(model, X, Y, grid=None):\n",
    "        \n",
    "    global list_of_results\n",
    "    list = []\n",
    "    name_model = type(model).__name__\n",
    "        \n",
    "    model = GridSearchCV(model, grid, scoring='neg_root_mean_squared_error', cv=3, n_jobs=-1)\n",
    "    \n",
    "    timer = time.time()\n",
    "    model.fit(X, Y)\n",
    "    print('GridSearchCV подбирал параметры %.2f секунд' %(time.time() - timer))\n",
    "       \n",
    "        \n",
    "    # model.best_estimator_.fit(X, Y) Изм1: Лишний fit убрал, записал результаты обучения в results\n",
    "    \n",
    "    results = pd.DataFrame(model.cv_results_)\n",
    "    print('Время обучения модели %.2f секунд' %results.query('mean_test_score.idxmax()')['mean_fit_time'])\n",
    "    list.append(results.query('mean_test_score.idxmax()')['mean_fit_time'])\n",
    "    \n",
    "    # pred = model.best_estimator_.predict(X)\n",
    "    # Добавим в список время предсказания\n",
    "    list.append(results.query('mean_test_score.idxmax()')['mean_score_time'])\n",
    "    print('Модель предсказывает за %.2f секунд' %results.query('mean_test_score.idxmax()')['mean_score_time'])\n",
    "    \n",
    "    # Добавим в список RMSE, умножаем на -1 т.к. GridSearch выдает отрицательное значение\n",
    "    list.append(-1 * model.best_score_)\n",
    "    \n",
    "    print(-1 * model.best_score_)\n",
    "    print(model.best_params_)\n",
    "        \n",
    "    list_of_results[name_model] = list\n",
    "    \n",
    "    return model.best_estimator_"
   ]
  },
  {
   "cell_type": "markdown",
   "id": "cde2ec00",
   "metadata": {},
   "source": [
    "### Кодирование количественных признаков"
   ]
  },
  {
   "cell_type": "markdown",
   "id": "9ad7f599",
   "metadata": {},
   "source": [
    "В начале закодируем `количественные` признаки."
   ]
  },
  {
   "cell_type": "code",
   "execution_count": 41,
   "id": "a67cfed1",
   "metadata": {
    "scrolled": true
   },
   "outputs": [],
   "source": [
    "col = ['registration_year', 'power', 'kilometer']\n",
    "\n",
    "scaler = StandardScaler().fit(x_train[col])\n",
    "x_train.loc[:, col] = pd.DataFrame(scaler.transform(x_train.loc[:, col]), columns=col, index=x_train.index)\n",
    "x_test.loc[:, col] = pd.DataFrame(scaler.transform(x_test.loc[:, col]), columns=col, index=x_test.index)"
   ]
  },
  {
   "cell_type": "code",
   "execution_count": 42,
   "id": "e3668715",
   "metadata": {},
   "outputs": [
    {
     "data": {
      "text/html": [
       "<div>\n",
       "<style scoped>\n",
       "    .dataframe tbody tr th:only-of-type {\n",
       "        vertical-align: middle;\n",
       "    }\n",
       "\n",
       "    .dataframe tbody tr th {\n",
       "        vertical-align: top;\n",
       "    }\n",
       "\n",
       "    .dataframe thead th {\n",
       "        text-align: right;\n",
       "    }\n",
       "</style>\n",
       "<table border=\"1\" class=\"dataframe\">\n",
       "  <thead>\n",
       "    <tr style=\"text-align: right;\">\n",
       "      <th></th>\n",
       "      <th>vehicle_type</th>\n",
       "      <th>registration_year</th>\n",
       "      <th>gearbox</th>\n",
       "      <th>power</th>\n",
       "      <th>model</th>\n",
       "      <th>kilometer</th>\n",
       "      <th>registration_month</th>\n",
       "      <th>fuel_type</th>\n",
       "      <th>brand</th>\n",
       "      <th>repaired</th>\n",
       "    </tr>\n",
       "  </thead>\n",
       "  <tbody>\n",
       "    <tr>\n",
       "      <th>319343</th>\n",
       "      <td>wagon</td>\n",
       "      <td>-0.601052</td>\n",
       "      <td>manual</td>\n",
       "      <td>-0.114380</td>\n",
       "      <td>focus</td>\n",
       "      <td>0.597007</td>\n",
       "      <td>12</td>\n",
       "      <td>petrol</td>\n",
       "      <td>ford</td>\n",
       "      <td>yes</td>\n",
       "    </tr>\n",
       "    <tr>\n",
       "      <th>181527</th>\n",
       "      <td>small</td>\n",
       "      <td>0.384075</td>\n",
       "      <td>manual</td>\n",
       "      <td>-0.854158</td>\n",
       "      <td>a2</td>\n",
       "      <td>0.597007</td>\n",
       "      <td>2</td>\n",
       "      <td>petrol</td>\n",
       "      <td>audi</td>\n",
       "      <td>no</td>\n",
       "    </tr>\n",
       "    <tr>\n",
       "      <th>245791</th>\n",
       "      <td>wagon</td>\n",
       "      <td>0.876639</td>\n",
       "      <td>auto</td>\n",
       "      <td>1.272702</td>\n",
       "      <td>e_klasse</td>\n",
       "      <td>0.597007</td>\n",
       "      <td>0</td>\n",
       "      <td>gasoline</td>\n",
       "      <td>mercedes_benz</td>\n",
       "      <td>unknown</td>\n",
       "    </tr>\n",
       "    <tr>\n",
       "      <th>29451</th>\n",
       "      <td>sedan</td>\n",
       "      <td>-0.436865</td>\n",
       "      <td>manual</td>\n",
       "      <td>-0.095886</td>\n",
       "      <td>vectra</td>\n",
       "      <td>0.597007</td>\n",
       "      <td>6</td>\n",
       "      <td>petrol</td>\n",
       "      <td>opel</td>\n",
       "      <td>no</td>\n",
       "    </tr>\n",
       "    <tr>\n",
       "      <th>7767</th>\n",
       "      <td>coupe</td>\n",
       "      <td>-0.272677</td>\n",
       "      <td>manual</td>\n",
       "      <td>0.070564</td>\n",
       "      <td>astra</td>\n",
       "      <td>0.597007</td>\n",
       "      <td>8</td>\n",
       "      <td>petrol</td>\n",
       "      <td>opel</td>\n",
       "      <td>no</td>\n",
       "    </tr>\n",
       "    <tr>\n",
       "      <th>...</th>\n",
       "      <td>...</td>\n",
       "      <td>...</td>\n",
       "      <td>...</td>\n",
       "      <td>...</td>\n",
       "      <td>...</td>\n",
       "      <td>...</td>\n",
       "      <td>...</td>\n",
       "      <td>...</td>\n",
       "      <td>...</td>\n",
       "      <td>...</td>\n",
       "    </tr>\n",
       "    <tr>\n",
       "      <th>317322</th>\n",
       "      <td>bus</td>\n",
       "      <td>0.876639</td>\n",
       "      <td>manual</td>\n",
       "      <td>-0.299325</td>\n",
       "      <td>meriva</td>\n",
       "      <td>0.597007</td>\n",
       "      <td>5</td>\n",
       "      <td>petrol</td>\n",
       "      <td>opel</td>\n",
       "      <td>unknown</td>\n",
       "    </tr>\n",
       "    <tr>\n",
       "      <th>6764</th>\n",
       "      <td>small</td>\n",
       "      <td>1.861767</td>\n",
       "      <td>auto</td>\n",
       "      <td>-1.168563</td>\n",
       "      <td>other</td>\n",
       "      <td>-2.677485</td>\n",
       "      <td>4</td>\n",
       "      <td>electric</td>\n",
       "      <td>renault</td>\n",
       "      <td>no</td>\n",
       "    </tr>\n",
       "    <tr>\n",
       "      <th>287249</th>\n",
       "      <td>small</td>\n",
       "      <td>0.219887</td>\n",
       "      <td>manual</td>\n",
       "      <td>-1.131574</td>\n",
       "      <td>corsa</td>\n",
       "      <td>-1.040239</td>\n",
       "      <td>10</td>\n",
       "      <td>petrol</td>\n",
       "      <td>opel</td>\n",
       "      <td>yes</td>\n",
       "    </tr>\n",
       "    <tr>\n",
       "      <th>318052</th>\n",
       "      <td>small</td>\n",
       "      <td>1.040827</td>\n",
       "      <td>manual</td>\n",
       "      <td>-0.724697</td>\n",
       "      <td>fiesta</td>\n",
       "      <td>0.597007</td>\n",
       "      <td>5</td>\n",
       "      <td>petrol</td>\n",
       "      <td>ford</td>\n",
       "      <td>yes</td>\n",
       "    </tr>\n",
       "    <tr>\n",
       "      <th>171556</th>\n",
       "      <td>wagon</td>\n",
       "      <td>0.055699</td>\n",
       "      <td>manual</td>\n",
       "      <td>4.120845</td>\n",
       "      <td>other</td>\n",
       "      <td>0.597007</td>\n",
       "      <td>11</td>\n",
       "      <td>petrol</td>\n",
       "      <td>audi</td>\n",
       "      <td>no</td>\n",
       "    </tr>\n",
       "  </tbody>\n",
       "</table>\n",
       "<p>190466 rows × 10 columns</p>\n",
       "</div>"
      ],
      "text/plain": [
       "       vehicle_type  registration_year gearbox     power     model  kilometer  \\\n",
       "319343        wagon          -0.601052  manual -0.114380     focus   0.597007   \n",
       "181527        small           0.384075  manual -0.854158        a2   0.597007   \n",
       "245791        wagon           0.876639    auto  1.272702  e_klasse   0.597007   \n",
       "29451         sedan          -0.436865  manual -0.095886    vectra   0.597007   \n",
       "7767          coupe          -0.272677  manual  0.070564     astra   0.597007   \n",
       "...             ...                ...     ...       ...       ...        ...   \n",
       "317322          bus           0.876639  manual -0.299325    meriva   0.597007   \n",
       "6764          small           1.861767    auto -1.168563     other  -2.677485   \n",
       "287249        small           0.219887  manual -1.131574     corsa  -1.040239   \n",
       "318052        small           1.040827  manual -0.724697    fiesta   0.597007   \n",
       "171556        wagon           0.055699  manual  4.120845     other   0.597007   \n",
       "\n",
       "        registration_month fuel_type          brand repaired  \n",
       "319343                  12    petrol           ford      yes  \n",
       "181527                   2    petrol           audi       no  \n",
       "245791                   0  gasoline  mercedes_benz  unknown  \n",
       "29451                    6    petrol           opel       no  \n",
       "7767                     8    petrol           opel       no  \n",
       "...                    ...       ...            ...      ...  \n",
       "317322                   5    petrol           opel  unknown  \n",
       "6764                     4  electric        renault       no  \n",
       "287249                  10    petrol           opel      yes  \n",
       "318052                   5    petrol           ford      yes  \n",
       "171556                  11    petrol           audi       no  \n",
       "\n",
       "[190466 rows x 10 columns]"
      ]
     },
     "execution_count": 42,
     "metadata": {},
     "output_type": "execute_result"
    }
   ],
   "source": [
    "x_train"
   ]
  },
  {
   "cell_type": "code",
   "execution_count": 43,
   "id": "a4245db7",
   "metadata": {},
   "outputs": [
    {
     "data": {
      "text/html": [
       "<div>\n",
       "<style scoped>\n",
       "    .dataframe tbody tr th:only-of-type {\n",
       "        vertical-align: middle;\n",
       "    }\n",
       "\n",
       "    .dataframe tbody tr th {\n",
       "        vertical-align: top;\n",
       "    }\n",
       "\n",
       "    .dataframe thead th {\n",
       "        text-align: right;\n",
       "    }\n",
       "</style>\n",
       "<table border=\"1\" class=\"dataframe\">\n",
       "  <thead>\n",
       "    <tr style=\"text-align: right;\">\n",
       "      <th></th>\n",
       "      <th>vehicle_type</th>\n",
       "      <th>registration_year</th>\n",
       "      <th>gearbox</th>\n",
       "      <th>power</th>\n",
       "      <th>model</th>\n",
       "      <th>kilometer</th>\n",
       "      <th>registration_month</th>\n",
       "      <th>fuel_type</th>\n",
       "      <th>brand</th>\n",
       "      <th>repaired</th>\n",
       "    </tr>\n",
       "  </thead>\n",
       "  <tbody>\n",
       "    <tr>\n",
       "      <th>319343</th>\n",
       "      <td>wagon</td>\n",
       "      <td>-0.601052</td>\n",
       "      <td>manual</td>\n",
       "      <td>-0.114380</td>\n",
       "      <td>focus</td>\n",
       "      <td>0.597007</td>\n",
       "      <td>12</td>\n",
       "      <td>petrol</td>\n",
       "      <td>ford</td>\n",
       "      <td>yes</td>\n",
       "    </tr>\n",
       "    <tr>\n",
       "      <th>181527</th>\n",
       "      <td>small</td>\n",
       "      <td>0.384075</td>\n",
       "      <td>manual</td>\n",
       "      <td>-0.854158</td>\n",
       "      <td>a2</td>\n",
       "      <td>0.597007</td>\n",
       "      <td>2</td>\n",
       "      <td>petrol</td>\n",
       "      <td>audi</td>\n",
       "      <td>no</td>\n",
       "    </tr>\n",
       "    <tr>\n",
       "      <th>245791</th>\n",
       "      <td>wagon</td>\n",
       "      <td>0.876639</td>\n",
       "      <td>auto</td>\n",
       "      <td>1.272702</td>\n",
       "      <td>e_klasse</td>\n",
       "      <td>0.597007</td>\n",
       "      <td>0</td>\n",
       "      <td>gasoline</td>\n",
       "      <td>mercedes_benz</td>\n",
       "      <td>unknown</td>\n",
       "    </tr>\n",
       "    <tr>\n",
       "      <th>29451</th>\n",
       "      <td>sedan</td>\n",
       "      <td>-0.436865</td>\n",
       "      <td>manual</td>\n",
       "      <td>-0.095886</td>\n",
       "      <td>vectra</td>\n",
       "      <td>0.597007</td>\n",
       "      <td>6</td>\n",
       "      <td>petrol</td>\n",
       "      <td>opel</td>\n",
       "      <td>no</td>\n",
       "    </tr>\n",
       "    <tr>\n",
       "      <th>7767</th>\n",
       "      <td>coupe</td>\n",
       "      <td>-0.272677</td>\n",
       "      <td>manual</td>\n",
       "      <td>0.070564</td>\n",
       "      <td>astra</td>\n",
       "      <td>0.597007</td>\n",
       "      <td>8</td>\n",
       "      <td>petrol</td>\n",
       "      <td>opel</td>\n",
       "      <td>no</td>\n",
       "    </tr>\n",
       "  </tbody>\n",
       "</table>\n",
       "</div>"
      ],
      "text/plain": [
       "       vehicle_type  registration_year gearbox     power     model  kilometer  \\\n",
       "319343        wagon          -0.601052  manual -0.114380     focus   0.597007   \n",
       "181527        small           0.384075  manual -0.854158        a2   0.597007   \n",
       "245791        wagon           0.876639    auto  1.272702  e_klasse   0.597007   \n",
       "29451         sedan          -0.436865  manual -0.095886    vectra   0.597007   \n",
       "7767          coupe          -0.272677  manual  0.070564     astra   0.597007   \n",
       "\n",
       "        registration_month fuel_type          brand repaired  \n",
       "319343                  12    petrol           ford      yes  \n",
       "181527                   2    petrol           audi       no  \n",
       "245791                   0  gasoline  mercedes_benz  unknown  \n",
       "29451                    6    petrol           opel       no  \n",
       "7767                     8    petrol           opel       no  "
      ]
     },
     "execution_count": 43,
     "metadata": {},
     "output_type": "execute_result"
    }
   ],
   "source": [
    "x_train.head()"
   ]
  },
  {
   "cell_type": "code",
   "execution_count": 44,
   "id": "8ed67cf1",
   "metadata": {},
   "outputs": [],
   "source": [
    "# Переменная понадобится для проверки catboost в конце на тестовых данных\n",
    "x_test_cat = x_test.copy()\n",
    "x_train_cat = x_train.copy()"
   ]
  },
  {
   "cell_type": "markdown",
   "id": "592af611",
   "metadata": {},
   "source": [
    "### CatBoost"
   ]
  },
  {
   "cell_type": "markdown",
   "id": "5008c934",
   "metadata": {},
   "source": [
    "Так как CatBoost не требует кодирования `категориальных` признаков, ими займемся позже."
   ]
  },
  {
   "cell_type": "code",
   "execution_count": 45,
   "id": "0a3bff85",
   "metadata": {
    "scrolled": true
   },
   "outputs": [
    {
     "name": "stdout",
     "output_type": "stream",
     "text": [
      "GridSearchCV подбирал параметры 234.44 секунд\n",
      "Время обучения модели 30.19 секунд\n",
      "Модель предсказывает за 0.16 секунд\n",
      "1598.5519720660614\n",
      "{'depth': 7, 'iterations': 200, 'learning_rate': 0.1}\n",
      "CPU times: user 3min 44s, sys: 1.91 s, total: 3min 46s\n",
      "Wall time: 3min 54s\n"
     ]
    }
   ],
   "source": [
    "%%time\n",
    "\n",
    "cat_features = ['gearbox', 'model', 'brand', 'vehicle_type', 'fuel_type', 'repaired']\n",
    "\n",
    "cat_model = CatBoostRegressor(cat_features=cat_features,\n",
    "                              loss_function='RMSE',\n",
    "                              verbose=False,\n",
    "                              random_state=1\n",
    "                             )\n",
    "\n",
    "# Создадим словарь параметров\n",
    "grid = {'learning_rate': [0.1],\n",
    "        'depth': [5, 7],\n",
    "        #'l2_leaf_reg': [1, 5, 9],\n",
    "        'iterations' : [100, 200]\n",
    "       }\n",
    "\n",
    "#Обучим модель и подберем наилучшие параметры в нашем диапазоне\n",
    "cat_model = learning_model(cat_model, x_train_cat, y_train, grid)"
   ]
  },
  {
   "cell_type": "code",
   "execution_count": 46,
   "id": "b6003f98",
   "metadata": {},
   "outputs": [
    {
     "data": {
      "text/html": [
       "<div>\n",
       "<style scoped>\n",
       "    .dataframe tbody tr th:only-of-type {\n",
       "        vertical-align: middle;\n",
       "    }\n",
       "\n",
       "    .dataframe tbody tr th {\n",
       "        vertical-align: top;\n",
       "    }\n",
       "\n",
       "    .dataframe thead th {\n",
       "        text-align: right;\n",
       "    }\n",
       "</style>\n",
       "<table border=\"1\" class=\"dataframe\">\n",
       "  <thead>\n",
       "    <tr style=\"text-align: right;\">\n",
       "      <th></th>\n",
       "      <th>CatBoostRegressor</th>\n",
       "    </tr>\n",
       "  </thead>\n",
       "  <tbody>\n",
       "    <tr>\n",
       "      <th>Время обучения</th>\n",
       "      <td>30.190994</td>\n",
       "    </tr>\n",
       "    <tr>\n",
       "      <th>Время предсказания</th>\n",
       "      <td>0.158550</td>\n",
       "    </tr>\n",
       "    <tr>\n",
       "      <th>RMSE</th>\n",
       "      <td>1598.551972</td>\n",
       "    </tr>\n",
       "  </tbody>\n",
       "</table>\n",
       "</div>"
      ],
      "text/plain": [
       "                    CatBoostRegressor\n",
       "Время обучения              30.190994\n",
       "Время предсказания           0.158550\n",
       "RMSE                      1598.551972"
      ]
     },
     "execution_count": 46,
     "metadata": {},
     "output_type": "execute_result"
    }
   ],
   "source": [
    "list_of_results"
   ]
  },
  {
   "cell_type": "markdown",
   "id": "ec7e66e5",
   "metadata": {},
   "source": [
    "### Кодирование категориальных признаков"
   ]
  },
  {
   "cell_type": "markdown",
   "id": "c63e690b",
   "metadata": {},
   "source": [
    "Посмотрим количество уникальных значений по признакам"
   ]
  },
  {
   "cell_type": "code",
   "execution_count": 47,
   "id": "5f0823ae",
   "metadata": {},
   "outputs": [
    {
     "data": {
      "text/plain": [
       "vehicle_type            8\n",
       "registration_year      55\n",
       "gearbox                 2\n",
       "power                 427\n",
       "model                 247\n",
       "kilometer              13\n",
       "registration_month     13\n",
       "fuel_type               7\n",
       "brand                  39\n",
       "repaired                3\n",
       "dtype: int64"
      ]
     },
     "execution_count": 47,
     "metadata": {},
     "output_type": "execute_result"
    }
   ],
   "source": [
    "x_train.nunique()"
   ]
  },
  {
   "cell_type": "markdown",
   "id": "4f4be253",
   "metadata": {},
   "source": [
    "Некоторые `категориальные` признаки имеют слишком большое количество уникальных значений. Применим порядковое кодирование ~LabelEncoder~ OrdinalEncoder."
   ]
  },
  {
   "cell_type": "code",
   "execution_count": 48,
   "id": "2da48296",
   "metadata": {},
   "outputs": [
    {
     "data": {
      "text/html": [
       "<div>\n",
       "<style scoped>\n",
       "    .dataframe tbody tr th:only-of-type {\n",
       "        vertical-align: middle;\n",
       "    }\n",
       "\n",
       "    .dataframe tbody tr th {\n",
       "        vertical-align: top;\n",
       "    }\n",
       "\n",
       "    .dataframe thead th {\n",
       "        text-align: right;\n",
       "    }\n",
       "</style>\n",
       "<table border=\"1\" class=\"dataframe\">\n",
       "  <thead>\n",
       "    <tr style=\"text-align: right;\">\n",
       "      <th></th>\n",
       "      <th>vehicle_type</th>\n",
       "      <th>registration_year</th>\n",
       "      <th>gearbox</th>\n",
       "      <th>power</th>\n",
       "      <th>model</th>\n",
       "      <th>kilometer</th>\n",
       "      <th>registration_month</th>\n",
       "      <th>fuel_type</th>\n",
       "      <th>brand</th>\n",
       "      <th>repaired</th>\n",
       "    </tr>\n",
       "  </thead>\n",
       "  <tbody>\n",
       "    <tr>\n",
       "      <th>319343</th>\n",
       "      <td>wagon</td>\n",
       "      <td>-0.601052</td>\n",
       "      <td>manual</td>\n",
       "      <td>-0.114380</td>\n",
       "      <td>focus</td>\n",
       "      <td>0.597007</td>\n",
       "      <td>12</td>\n",
       "      <td>petrol</td>\n",
       "      <td>ford</td>\n",
       "      <td>yes</td>\n",
       "    </tr>\n",
       "    <tr>\n",
       "      <th>181527</th>\n",
       "      <td>small</td>\n",
       "      <td>0.384075</td>\n",
       "      <td>manual</td>\n",
       "      <td>-0.854158</td>\n",
       "      <td>a2</td>\n",
       "      <td>0.597007</td>\n",
       "      <td>2</td>\n",
       "      <td>petrol</td>\n",
       "      <td>audi</td>\n",
       "      <td>no</td>\n",
       "    </tr>\n",
       "    <tr>\n",
       "      <th>245791</th>\n",
       "      <td>wagon</td>\n",
       "      <td>0.876639</td>\n",
       "      <td>auto</td>\n",
       "      <td>1.272702</td>\n",
       "      <td>e_klasse</td>\n",
       "      <td>0.597007</td>\n",
       "      <td>0</td>\n",
       "      <td>gasoline</td>\n",
       "      <td>mercedes_benz</td>\n",
       "      <td>unknown</td>\n",
       "    </tr>\n",
       "    <tr>\n",
       "      <th>29451</th>\n",
       "      <td>sedan</td>\n",
       "      <td>-0.436865</td>\n",
       "      <td>manual</td>\n",
       "      <td>-0.095886</td>\n",
       "      <td>vectra</td>\n",
       "      <td>0.597007</td>\n",
       "      <td>6</td>\n",
       "      <td>petrol</td>\n",
       "      <td>opel</td>\n",
       "      <td>no</td>\n",
       "    </tr>\n",
       "    <tr>\n",
       "      <th>7767</th>\n",
       "      <td>coupe</td>\n",
       "      <td>-0.272677</td>\n",
       "      <td>manual</td>\n",
       "      <td>0.070564</td>\n",
       "      <td>astra</td>\n",
       "      <td>0.597007</td>\n",
       "      <td>8</td>\n",
       "      <td>petrol</td>\n",
       "      <td>opel</td>\n",
       "      <td>no</td>\n",
       "    </tr>\n",
       "  </tbody>\n",
       "</table>\n",
       "</div>"
      ],
      "text/plain": [
       "       vehicle_type  registration_year gearbox     power     model  kilometer  \\\n",
       "319343        wagon          -0.601052  manual -0.114380     focus   0.597007   \n",
       "181527        small           0.384075  manual -0.854158        a2   0.597007   \n",
       "245791        wagon           0.876639    auto  1.272702  e_klasse   0.597007   \n",
       "29451         sedan          -0.436865  manual -0.095886    vectra   0.597007   \n",
       "7767          coupe          -0.272677  manual  0.070564     astra   0.597007   \n",
       "\n",
       "        registration_month fuel_type          brand repaired  \n",
       "319343                  12    petrol           ford      yes  \n",
       "181527                   2    petrol           audi       no  \n",
       "245791                   0  gasoline  mercedes_benz  unknown  \n",
       "29451                    6    petrol           opel       no  \n",
       "7767                     8    petrol           opel       no  "
      ]
     },
     "execution_count": 48,
     "metadata": {},
     "output_type": "execute_result"
    }
   ],
   "source": [
    "# Было\n",
    "x_train.head()"
   ]
  },
  {
   "cell_type": "code",
   "execution_count": 49,
   "id": "945dc5a7",
   "metadata": {},
   "outputs": [],
   "source": [
    "#col = ['gearbox', 'model', 'brand']\n",
    "#x_train.loc[:, col] = x_train.loc[:, col].apply(LabelEncoder().fit_transform)\n",
    "#x_test.loc[:, col] = x_test.loc[:, col].apply(LabelEncoder().fit_transform)"
   ]
  },
  {
   "cell_type": "code",
   "execution_count": 50,
   "id": "2118528e",
   "metadata": {
    "scrolled": true
   },
   "outputs": [],
   "source": [
    "col = ['gearbox', 'model', 'brand']\n",
    "\n",
    "encoder = OrdinalEncoder(handle_unknown='use_encoded_value', unknown_value=-1)\n",
    "encoder.fit(x_train[col])\n",
    "\n",
    "x_train[col] = encoder.transform(x_train[col])\n",
    "x_test[col] = encoder.transform(x_test[col])"
   ]
  },
  {
   "cell_type": "code",
   "execution_count": 51,
   "id": "18250b31",
   "metadata": {},
   "outputs": [
    {
     "data": {
      "text/html": [
       "<div>\n",
       "<style scoped>\n",
       "    .dataframe tbody tr th:only-of-type {\n",
       "        vertical-align: middle;\n",
       "    }\n",
       "\n",
       "    .dataframe tbody tr th {\n",
       "        vertical-align: top;\n",
       "    }\n",
       "\n",
       "    .dataframe thead th {\n",
       "        text-align: right;\n",
       "    }\n",
       "</style>\n",
       "<table border=\"1\" class=\"dataframe\">\n",
       "  <thead>\n",
       "    <tr style=\"text-align: right;\">\n",
       "      <th></th>\n",
       "      <th>vehicle_type</th>\n",
       "      <th>registration_year</th>\n",
       "      <th>gearbox</th>\n",
       "      <th>power</th>\n",
       "      <th>model</th>\n",
       "      <th>kilometer</th>\n",
       "      <th>registration_month</th>\n",
       "      <th>fuel_type</th>\n",
       "      <th>brand</th>\n",
       "      <th>repaired</th>\n",
       "    </tr>\n",
       "  </thead>\n",
       "  <tbody>\n",
       "    <tr>\n",
       "      <th>319343</th>\n",
       "      <td>wagon</td>\n",
       "      <td>-0.601052</td>\n",
       "      <td>1.0</td>\n",
       "      <td>-0.114380</td>\n",
       "      <td>103.0</td>\n",
       "      <td>0.597007</td>\n",
       "      <td>12</td>\n",
       "      <td>petrol</td>\n",
       "      <td>10.0</td>\n",
       "      <td>yes</td>\n",
       "    </tr>\n",
       "    <tr>\n",
       "      <th>181527</th>\n",
       "      <td>small</td>\n",
       "      <td>0.384075</td>\n",
       "      <td>1.0</td>\n",
       "      <td>-0.854158</td>\n",
       "      <td>27.0</td>\n",
       "      <td>0.597007</td>\n",
       "      <td>2</td>\n",
       "      <td>petrol</td>\n",
       "      <td>1.0</td>\n",
       "      <td>no</td>\n",
       "    </tr>\n",
       "    <tr>\n",
       "      <th>245791</th>\n",
       "      <td>wagon</td>\n",
       "      <td>0.876639</td>\n",
       "      <td>0.0</td>\n",
       "      <td>1.272702</td>\n",
       "      <td>95.0</td>\n",
       "      <td>0.597007</td>\n",
       "      <td>0</td>\n",
       "      <td>gasoline</td>\n",
       "      <td>20.0</td>\n",
       "      <td>unknown</td>\n",
       "    </tr>\n",
       "    <tr>\n",
       "      <th>29451</th>\n",
       "      <td>sedan</td>\n",
       "      <td>-0.436865</td>\n",
       "      <td>1.0</td>\n",
       "      <td>-0.095886</td>\n",
       "      <td>231.0</td>\n",
       "      <td>0.597007</td>\n",
       "      <td>6</td>\n",
       "      <td>petrol</td>\n",
       "      <td>24.0</td>\n",
       "      <td>no</td>\n",
       "    </tr>\n",
       "    <tr>\n",
       "      <th>7767</th>\n",
       "      <td>coupe</td>\n",
       "      <td>-0.272677</td>\n",
       "      <td>1.0</td>\n",
       "      <td>0.070564</td>\n",
       "      <td>42.0</td>\n",
       "      <td>0.597007</td>\n",
       "      <td>8</td>\n",
       "      <td>petrol</td>\n",
       "      <td>24.0</td>\n",
       "      <td>no</td>\n",
       "    </tr>\n",
       "  </tbody>\n",
       "</table>\n",
       "</div>"
      ],
      "text/plain": [
       "       vehicle_type  registration_year  gearbox     power  model  kilometer  \\\n",
       "319343        wagon          -0.601052      1.0 -0.114380  103.0   0.597007   \n",
       "181527        small           0.384075      1.0 -0.854158   27.0   0.597007   \n",
       "245791        wagon           0.876639      0.0  1.272702   95.0   0.597007   \n",
       "29451         sedan          -0.436865      1.0 -0.095886  231.0   0.597007   \n",
       "7767          coupe          -0.272677      1.0  0.070564   42.0   0.597007   \n",
       "\n",
       "        registration_month fuel_type  brand repaired  \n",
       "319343                  12    petrol   10.0      yes  \n",
       "181527                   2    petrol    1.0       no  \n",
       "245791                   0  gasoline   20.0  unknown  \n",
       "29451                    6    petrol   24.0       no  \n",
       "7767                     8    petrol   24.0       no  "
      ]
     },
     "execution_count": 51,
     "metadata": {},
     "output_type": "execute_result"
    }
   ],
   "source": [
    "x_train.head()"
   ]
  },
  {
   "cell_type": "markdown",
   "id": "80be59f3",
   "metadata": {},
   "source": [
    "Там где уникальных значений не так много, применим горячее кодирование OHE."
   ]
  },
  {
   "cell_type": "code",
   "execution_count": 52,
   "id": "93dbb589",
   "metadata": {},
   "outputs": [],
   "source": [
    "#col = ['vehicle_type', 'fuel_type', 'repaired']\n",
    "#x_train = (x_train\n",
    "#         .join(pd.get_dummies(x_train[col], drop_first=True))\n",
    "#         .drop(col, axis=1)\n",
    "#          )\n",
    "#x_test = (x_test\n",
    "#         .join(pd.get_dummies(x_test[col], drop_first=True))\n",
    "#         .drop(col, axis=1)\n",
    "#          )"
   ]
  },
  {
   "cell_type": "code",
   "execution_count": 53,
   "id": "8eca218f",
   "metadata": {},
   "outputs": [],
   "source": [
    "col = ['vehicle_type', 'fuel_type', 'repaired']\n",
    "\n",
    "encoder = OneHotEncoder()\n",
    "encoder.fit(x_train[col])\n",
    "\n",
    "temp_df = pd.DataFrame(encoder.transform(x_train[col]).toarray(), \n",
    "                       columns=encoder.get_feature_names(), \n",
    "                       index=x_train.index\n",
    "                      )\n",
    "x_train = x_train.join(temp_df).drop(col, axis=1)\n",
    "\n",
    "\n",
    "temp_df = pd.DataFrame(encoder.transform(x_test[col]).toarray(), \n",
    "                       columns=encoder.get_feature_names(), \n",
    "                       index=x_test.index\n",
    "                      )\n",
    "x_test = x_test.join(temp_df).drop(col, axis=1)\n",
    "\n",
    "del temp_df, encoder"
   ]
  },
  {
   "cell_type": "markdown",
   "id": "7f4683f9",
   "metadata": {},
   "source": [
    "Вот что у нас получилось"
   ]
  },
  {
   "cell_type": "code",
   "execution_count": 54,
   "id": "1ea659a3",
   "metadata": {
    "scrolled": true
   },
   "outputs": [
    {
     "data": {
      "text/html": [
       "<div>\n",
       "<style scoped>\n",
       "    .dataframe tbody tr th:only-of-type {\n",
       "        vertical-align: middle;\n",
       "    }\n",
       "\n",
       "    .dataframe tbody tr th {\n",
       "        vertical-align: top;\n",
       "    }\n",
       "\n",
       "    .dataframe thead th {\n",
       "        text-align: right;\n",
       "    }\n",
       "</style>\n",
       "<table border=\"1\" class=\"dataframe\">\n",
       "  <thead>\n",
       "    <tr style=\"text-align: right;\">\n",
       "      <th></th>\n",
       "      <th>registration_year</th>\n",
       "      <th>gearbox</th>\n",
       "      <th>power</th>\n",
       "      <th>model</th>\n",
       "      <th>kilometer</th>\n",
       "      <th>registration_month</th>\n",
       "      <th>brand</th>\n",
       "      <th>x0_bus</th>\n",
       "      <th>x0_convertible</th>\n",
       "      <th>x0_coupe</th>\n",
       "      <th>...</th>\n",
       "      <th>x1_cng</th>\n",
       "      <th>x1_electric</th>\n",
       "      <th>x1_gasoline</th>\n",
       "      <th>x1_hybrid</th>\n",
       "      <th>x1_lpg</th>\n",
       "      <th>x1_other</th>\n",
       "      <th>x1_petrol</th>\n",
       "      <th>x2_no</th>\n",
       "      <th>x2_unknown</th>\n",
       "      <th>x2_yes</th>\n",
       "    </tr>\n",
       "  </thead>\n",
       "  <tbody>\n",
       "    <tr>\n",
       "      <th>319343</th>\n",
       "      <td>-0.601052</td>\n",
       "      <td>1.0</td>\n",
       "      <td>-0.114380</td>\n",
       "      <td>103.0</td>\n",
       "      <td>0.597007</td>\n",
       "      <td>12</td>\n",
       "      <td>10.0</td>\n",
       "      <td>0.0</td>\n",
       "      <td>0.0</td>\n",
       "      <td>0.0</td>\n",
       "      <td>...</td>\n",
       "      <td>0.0</td>\n",
       "      <td>0.0</td>\n",
       "      <td>0.0</td>\n",
       "      <td>0.0</td>\n",
       "      <td>0.0</td>\n",
       "      <td>0.0</td>\n",
       "      <td>1.0</td>\n",
       "      <td>0.0</td>\n",
       "      <td>0.0</td>\n",
       "      <td>1.0</td>\n",
       "    </tr>\n",
       "    <tr>\n",
       "      <th>181527</th>\n",
       "      <td>0.384075</td>\n",
       "      <td>1.0</td>\n",
       "      <td>-0.854158</td>\n",
       "      <td>27.0</td>\n",
       "      <td>0.597007</td>\n",
       "      <td>2</td>\n",
       "      <td>1.0</td>\n",
       "      <td>0.0</td>\n",
       "      <td>0.0</td>\n",
       "      <td>0.0</td>\n",
       "      <td>...</td>\n",
       "      <td>0.0</td>\n",
       "      <td>0.0</td>\n",
       "      <td>0.0</td>\n",
       "      <td>0.0</td>\n",
       "      <td>0.0</td>\n",
       "      <td>0.0</td>\n",
       "      <td>1.0</td>\n",
       "      <td>1.0</td>\n",
       "      <td>0.0</td>\n",
       "      <td>0.0</td>\n",
       "    </tr>\n",
       "    <tr>\n",
       "      <th>245791</th>\n",
       "      <td>0.876639</td>\n",
       "      <td>0.0</td>\n",
       "      <td>1.272702</td>\n",
       "      <td>95.0</td>\n",
       "      <td>0.597007</td>\n",
       "      <td>0</td>\n",
       "      <td>20.0</td>\n",
       "      <td>0.0</td>\n",
       "      <td>0.0</td>\n",
       "      <td>0.0</td>\n",
       "      <td>...</td>\n",
       "      <td>0.0</td>\n",
       "      <td>0.0</td>\n",
       "      <td>1.0</td>\n",
       "      <td>0.0</td>\n",
       "      <td>0.0</td>\n",
       "      <td>0.0</td>\n",
       "      <td>0.0</td>\n",
       "      <td>0.0</td>\n",
       "      <td>1.0</td>\n",
       "      <td>0.0</td>\n",
       "    </tr>\n",
       "    <tr>\n",
       "      <th>29451</th>\n",
       "      <td>-0.436865</td>\n",
       "      <td>1.0</td>\n",
       "      <td>-0.095886</td>\n",
       "      <td>231.0</td>\n",
       "      <td>0.597007</td>\n",
       "      <td>6</td>\n",
       "      <td>24.0</td>\n",
       "      <td>0.0</td>\n",
       "      <td>0.0</td>\n",
       "      <td>0.0</td>\n",
       "      <td>...</td>\n",
       "      <td>0.0</td>\n",
       "      <td>0.0</td>\n",
       "      <td>0.0</td>\n",
       "      <td>0.0</td>\n",
       "      <td>0.0</td>\n",
       "      <td>0.0</td>\n",
       "      <td>1.0</td>\n",
       "      <td>1.0</td>\n",
       "      <td>0.0</td>\n",
       "      <td>0.0</td>\n",
       "    </tr>\n",
       "    <tr>\n",
       "      <th>7767</th>\n",
       "      <td>-0.272677</td>\n",
       "      <td>1.0</td>\n",
       "      <td>0.070564</td>\n",
       "      <td>42.0</td>\n",
       "      <td>0.597007</td>\n",
       "      <td>8</td>\n",
       "      <td>24.0</td>\n",
       "      <td>0.0</td>\n",
       "      <td>0.0</td>\n",
       "      <td>1.0</td>\n",
       "      <td>...</td>\n",
       "      <td>0.0</td>\n",
       "      <td>0.0</td>\n",
       "      <td>0.0</td>\n",
       "      <td>0.0</td>\n",
       "      <td>0.0</td>\n",
       "      <td>0.0</td>\n",
       "      <td>1.0</td>\n",
       "      <td>1.0</td>\n",
       "      <td>0.0</td>\n",
       "      <td>0.0</td>\n",
       "    </tr>\n",
       "  </tbody>\n",
       "</table>\n",
       "<p>5 rows × 25 columns</p>\n",
       "</div>"
      ],
      "text/plain": [
       "        registration_year  gearbox     power  model  kilometer  \\\n",
       "319343          -0.601052      1.0 -0.114380  103.0   0.597007   \n",
       "181527           0.384075      1.0 -0.854158   27.0   0.597007   \n",
       "245791           0.876639      0.0  1.272702   95.0   0.597007   \n",
       "29451           -0.436865      1.0 -0.095886  231.0   0.597007   \n",
       "7767            -0.272677      1.0  0.070564   42.0   0.597007   \n",
       "\n",
       "        registration_month  brand  x0_bus  x0_convertible  x0_coupe  ...  \\\n",
       "319343                  12   10.0     0.0             0.0       0.0  ...   \n",
       "181527                   2    1.0     0.0             0.0       0.0  ...   \n",
       "245791                   0   20.0     0.0             0.0       0.0  ...   \n",
       "29451                    6   24.0     0.0             0.0       0.0  ...   \n",
       "7767                     8   24.0     0.0             0.0       1.0  ...   \n",
       "\n",
       "        x1_cng  x1_electric  x1_gasoline  x1_hybrid  x1_lpg  x1_other  \\\n",
       "319343     0.0          0.0          0.0        0.0     0.0       0.0   \n",
       "181527     0.0          0.0          0.0        0.0     0.0       0.0   \n",
       "245791     0.0          0.0          1.0        0.0     0.0       0.0   \n",
       "29451      0.0          0.0          0.0        0.0     0.0       0.0   \n",
       "7767       0.0          0.0          0.0        0.0     0.0       0.0   \n",
       "\n",
       "        x1_petrol  x2_no  x2_unknown  x2_yes  \n",
       "319343        1.0    0.0         0.0     1.0  \n",
       "181527        1.0    1.0         0.0     0.0  \n",
       "245791        0.0    0.0         1.0     0.0  \n",
       "29451         1.0    1.0         0.0     0.0  \n",
       "7767          1.0    1.0         0.0     0.0  \n",
       "\n",
       "[5 rows x 25 columns]"
      ]
     },
     "execution_count": 54,
     "metadata": {},
     "output_type": "execute_result"
    }
   ],
   "source": [
    "x_train.head()"
   ]
  },
  {
   "cell_type": "markdown",
   "id": "db0a6272",
   "metadata": {},
   "source": [
    "### LGBMRegressor"
   ]
  },
  {
   "cell_type": "code",
   "execution_count": 55,
   "id": "de9918d7",
   "metadata": {},
   "outputs": [
    {
     "name": "stdout",
     "output_type": "stream",
     "text": [
      "GridSearchCV подбирал параметры 2082.88 секунд\n",
      "Время обучения модели 85.79 секунд\n",
      "Модель предсказывает за 1.00 секунд\n",
      "1587.816065296528\n",
      "{'max_depth': 7, 'n_estimators': 200}\n",
      "CPU times: user 33min 46s, sys: 45 s, total: 34min 31s\n",
      "Wall time: 34min 42s\n"
     ]
    }
   ],
   "source": [
    "%%time\n",
    "\n",
    "lgbm_model = LGBMRegressor(random_state=1, n_jobs=-1)\n",
    "\n",
    "# Создадим словарь параметров\n",
    "grid = {\"n_estimators\": [100, 200],\n",
    "        \"max_depth\": [5, 7]\n",
    "        }\n",
    "\n",
    "#Обучим модель и подберем наилучшие параметры в нашем диапазоне\n",
    "lgbm_model = learning_model(lgbm_model, x_train, y_train, grid)"
   ]
  },
  {
   "cell_type": "markdown",
   "id": "e4cecc45",
   "metadata": {},
   "source": [
    "Проверим еще раз LGBM на сырых данных (категориальные признаки не обработаны). Укажем categorical_feature=cat_features"
   ]
  },
  {
   "cell_type": "code",
   "execution_count": 56,
   "id": "f623e399",
   "metadata": {},
   "outputs": [
    {
     "name": "stdout",
     "output_type": "stream",
     "text": [
      "GridSearchCV подбирал параметры 1128.58 секунд\n",
      "Время обучения модели 88.99 секунд\n",
      "Модель предсказывает за 1.35 секунд\n",
      "1541.471846680344\n",
      "{'max_depth': 7, 'n_estimators': 200}\n",
      "CPU times: user 18min 19s, sys: 22.5 s, total: 18min 41s\n",
      "Wall time: 18min 48s\n"
     ]
    }
   ],
   "source": [
    "%%time\n",
    "\n",
    "x_train_cat[cat_features] = x_train_cat[cat_features].astype('category')\n",
    "\n",
    "lgbm_model = LGBMRegressor(random_state=2, n_jobs=-1)\n",
    "\n",
    "\n",
    "#Обучим модель и подберем наилучшие параметры в нашем диапазоне\n",
    "lgbm_model_cat = learning_model(lgbm_model, x_train_cat, y_train, grid)"
   ]
  },
  {
   "cell_type": "code",
   "execution_count": 57,
   "id": "08c56784",
   "metadata": {},
   "outputs": [
    {
     "data": {
      "text/html": [
       "<div>\n",
       "<style scoped>\n",
       "    .dataframe tbody tr th:only-of-type {\n",
       "        vertical-align: middle;\n",
       "    }\n",
       "\n",
       "    .dataframe tbody tr th {\n",
       "        vertical-align: top;\n",
       "    }\n",
       "\n",
       "    .dataframe thead th {\n",
       "        text-align: right;\n",
       "    }\n",
       "</style>\n",
       "<table border=\"1\" class=\"dataframe\">\n",
       "  <thead>\n",
       "    <tr style=\"text-align: right;\">\n",
       "      <th></th>\n",
       "      <th>CatBoostRegressor</th>\n",
       "      <th>LGBMRegressor</th>\n",
       "    </tr>\n",
       "  </thead>\n",
       "  <tbody>\n",
       "    <tr>\n",
       "      <th>Время обучения</th>\n",
       "      <td>30.190994</td>\n",
       "      <td>88.993197</td>\n",
       "    </tr>\n",
       "    <tr>\n",
       "      <th>Время предсказания</th>\n",
       "      <td>0.158550</td>\n",
       "      <td>1.345039</td>\n",
       "    </tr>\n",
       "    <tr>\n",
       "      <th>RMSE</th>\n",
       "      <td>1598.551972</td>\n",
       "      <td>1541.471847</td>\n",
       "    </tr>\n",
       "  </tbody>\n",
       "</table>\n",
       "</div>"
      ],
      "text/plain": [
       "                    CatBoostRegressor  LGBMRegressor\n",
       "Время обучения              30.190994      88.993197\n",
       "Время предсказания           0.158550       1.345039\n",
       "RMSE                      1598.551972    1541.471847"
      ]
     },
     "execution_count": 57,
     "metadata": {},
     "output_type": "execute_result"
    }
   ],
   "source": [
    "list_of_results"
   ]
  },
  {
   "cell_type": "markdown",
   "id": "4446990d",
   "metadata": {},
   "source": [
    "### RandomForestRegressor"
   ]
  },
  {
   "cell_type": "code",
   "execution_count": 58,
   "id": "992e933e",
   "metadata": {},
   "outputs": [
    {
     "name": "stdout",
     "output_type": "stream",
     "text": [
      "GridSearchCV подбирал параметры 362.52 секунд\n",
      "Время обучения модели 20.67 секунд\n",
      "Модель предсказывает за 0.36 секунд\n",
      "2061.7054622827986\n",
      "{'max_depth': 7, 'n_estimators': 100}\n",
      "CPU times: user 6min, sys: 1.35 s, total: 6min 1s\n",
      "Wall time: 6min 2s\n"
     ]
    }
   ],
   "source": [
    "%%time\n",
    "\n",
    "forest_model = RandomForestRegressor(random_state=1, n_jobs=-1)\n",
    "\n",
    "# Создадим словарь параметров\n",
    "grid = {\"n_estimators\": [100, 200],\n",
    "        \"max_depth\": [5, 7]\n",
    "        }\n",
    "\n",
    "#Обучим модель и подберем наилучшие параметры в нашем диапазоне\n",
    "forest_model = learning_model(forest_model, x_train, y_train, grid)"
   ]
  },
  {
   "cell_type": "markdown",
   "id": "ae57cad3",
   "metadata": {},
   "source": [
    "Посмотрим на целевые метрики при обучении моделей"
   ]
  },
  {
   "cell_type": "markdown",
   "id": "e043387b",
   "metadata": {},
   "source": [
    "## Анализ моделей"
   ]
  },
  {
   "cell_type": "markdown",
   "id": "62372436",
   "metadata": {},
   "source": [
    "На обучающей выборке модели показали следующие результаты"
   ]
  },
  {
   "cell_type": "code",
   "execution_count": 59,
   "id": "c7900841",
   "metadata": {},
   "outputs": [
    {
     "data": {
      "text/html": [
       "<div>\n",
       "<style scoped>\n",
       "    .dataframe tbody tr th:only-of-type {\n",
       "        vertical-align: middle;\n",
       "    }\n",
       "\n",
       "    .dataframe tbody tr th {\n",
       "        vertical-align: top;\n",
       "    }\n",
       "\n",
       "    .dataframe thead th {\n",
       "        text-align: right;\n",
       "    }\n",
       "</style>\n",
       "<table border=\"1\" class=\"dataframe\">\n",
       "  <thead>\n",
       "    <tr style=\"text-align: right;\">\n",
       "      <th></th>\n",
       "      <th>CatBoostRegressor</th>\n",
       "      <th>LGBMRegressor</th>\n",
       "      <th>RandomForestRegressor</th>\n",
       "    </tr>\n",
       "  </thead>\n",
       "  <tbody>\n",
       "    <tr>\n",
       "      <th>Время обучения</th>\n",
       "      <td>30.190994</td>\n",
       "      <td>88.993197</td>\n",
       "      <td>20.673425</td>\n",
       "    </tr>\n",
       "    <tr>\n",
       "      <th>Время предсказания</th>\n",
       "      <td>0.158550</td>\n",
       "      <td>1.345039</td>\n",
       "      <td>0.364366</td>\n",
       "    </tr>\n",
       "    <tr>\n",
       "      <th>RMSE</th>\n",
       "      <td>1598.551972</td>\n",
       "      <td>1541.471847</td>\n",
       "      <td>2061.705462</td>\n",
       "    </tr>\n",
       "  </tbody>\n",
       "</table>\n",
       "</div>"
      ],
      "text/plain": [
       "                    CatBoostRegressor  LGBMRegressor  RandomForestRegressor\n",
       "Время обучения              30.190994      88.993197              20.673425\n",
       "Время предсказания           0.158550       1.345039               0.364366\n",
       "RMSE                      1598.551972    1541.471847            2061.705462"
      ]
     },
     "execution_count": 59,
     "metadata": {},
     "output_type": "execute_result"
    }
   ],
   "source": [
    "list_of_results"
   ]
  },
  {
   "cell_type": "markdown",
   "id": "c2b32164",
   "metadata": {},
   "source": [
    "CatBoostRegressor и LGBMRegressor схожи по RMSE, но CatBoostRegressor значительно превосходит по скорости обучения и предсказания. Выберем лучшей моделью (при схожих гиперпараметрах) CatBoostRegressor. Посмотрим на RMSE на тестовой выборке"
   ]
  },
  {
   "cell_type": "code",
   "execution_count": 70,
   "id": "df251987",
   "metadata": {},
   "outputs": [],
   "source": [
    "def test_model(model, X, Y):\n",
    "    \n",
    "    global list_of_results\n",
    "    \n",
    "    pred = model.predict(X)\n",
    "    rmse = mean_squared_error(Y, pred, squared=False)\n",
    "    \n",
    "    list_of_results.loc['RMSE_test', type(model).__name__] = rmse"
   ]
  },
  {
   "cell_type": "code",
   "execution_count": 71,
   "id": "717b11c6",
   "metadata": {},
   "outputs": [],
   "source": [
    "test_model(cat_model, x_test_cat, y_test)"
   ]
  },
  {
   "cell_type": "code",
   "execution_count": 62,
   "id": "38b432f8",
   "metadata": {},
   "outputs": [],
   "source": [
    "#test_model(lgbm_model, x_test, y_test)"
   ]
  },
  {
   "cell_type": "code",
   "execution_count": 63,
   "id": "f5799861",
   "metadata": {},
   "outputs": [],
   "source": [
    "#test_model(forest_model, x_test, y_test)"
   ]
  },
  {
   "cell_type": "code",
   "execution_count": 72,
   "id": "a05b5bb8",
   "metadata": {
    "scrolled": true
   },
   "outputs": [
    {
     "data": {
      "text/html": [
       "<div>\n",
       "<style scoped>\n",
       "    .dataframe tbody tr th:only-of-type {\n",
       "        vertical-align: middle;\n",
       "    }\n",
       "\n",
       "    .dataframe tbody tr th {\n",
       "        vertical-align: top;\n",
       "    }\n",
       "\n",
       "    .dataframe thead th {\n",
       "        text-align: right;\n",
       "    }\n",
       "</style>\n",
       "<table border=\"1\" class=\"dataframe\">\n",
       "  <thead>\n",
       "    <tr style=\"text-align: right;\">\n",
       "      <th></th>\n",
       "      <th>CatBoostRegressor</th>\n",
       "      <th>LGBMRegressor</th>\n",
       "      <th>RandomForestRegressor</th>\n",
       "    </tr>\n",
       "  </thead>\n",
       "  <tbody>\n",
       "    <tr>\n",
       "      <th>Время обучения</th>\n",
       "      <td>30.190994</td>\n",
       "      <td>88.993197</td>\n",
       "      <td>20.673425</td>\n",
       "    </tr>\n",
       "    <tr>\n",
       "      <th>Время предсказания</th>\n",
       "      <td>0.158550</td>\n",
       "      <td>1.345039</td>\n",
       "      <td>0.364366</td>\n",
       "    </tr>\n",
       "    <tr>\n",
       "      <th>RMSE</th>\n",
       "      <td>1598.551972</td>\n",
       "      <td>1541.471847</td>\n",
       "      <td>2061.705462</td>\n",
       "    </tr>\n",
       "    <tr>\n",
       "      <th>RMSE_test</th>\n",
       "      <td>1574.259731</td>\n",
       "      <td>NaN</td>\n",
       "      <td>NaN</td>\n",
       "    </tr>\n",
       "  </tbody>\n",
       "</table>\n",
       "</div>"
      ],
      "text/plain": [
       "                    CatBoostRegressor  LGBMRegressor  RandomForestRegressor\n",
       "Время обучения              30.190994      88.993197              20.673425\n",
       "Время предсказания           0.158550       1.345039               0.364366\n",
       "RMSE                      1598.551972    1541.471847            2061.705462\n",
       "RMSE_test                 1574.259731            NaN                    NaN"
      ]
     },
     "execution_count": 72,
     "metadata": {},
     "output_type": "execute_result"
    }
   ],
   "source": [
    "list_of_results"
   ]
  },
  {
   "cell_type": "markdown",
   "id": "19224d07",
   "metadata": {},
   "source": [
    "Сравним модели по целевым метрикам"
   ]
  },
  {
   "cell_type": "code",
   "execution_count": 73,
   "id": "d3bd9a9a",
   "metadata": {},
   "outputs": [
    {
     "data": {
      "image/png": "[encoded data removed]",
      "text/plain": [
       "<Figure size 1296x360 with 1 Axes>"
      ]
     },
     "metadata": {
      "needs_background": "light"
     },
     "output_type": "display_data"
    }
   ],
   "source": [
    "list_of_results.T['Время обучения'].plot(kind='bar', \n",
    "                                         grid=True, \n",
    "                                         figsize=(18, 5),\n",
    "                                         ylabel='Время, с',\n",
    "                                         title='Время обучения');"
   ]
  },
  {
   "cell_type": "code",
   "execution_count": 74,
   "id": "51c4d99e",
   "metadata": {},
   "outputs": [
    {
     "data": {
      "image/png": "[encoded data removed]",
      "text/plain": [
       "<Figure size 1296x360 with 1 Axes>"
      ]
     },
     "metadata": {
      "needs_background": "light"
     },
     "output_type": "display_data"
    }
   ],
   "source": [
    "list_of_results.T['Время предсказания'].plot(kind='bar',\n",
    "                                             grid=True,\n",
    "                                             figsize=(18, 5),\n",
    "                                             ylabel='Время, с',\n",
    "                                             title='Время предсказания');"
   ]
  },
  {
   "cell_type": "code",
   "execution_count": 75,
   "id": "7ce24bed",
   "metadata": {},
   "outputs": [
    {
     "data": {
      "image/png": "[encoded data removed]",
      "text/plain": [
       "<Figure size 1296x360 with 1 Axes>"
      ]
     },
     "metadata": {
      "needs_background": "light"
     },
     "output_type": "display_data"
    }
   ],
   "source": [
    "list_of_results.T['RMSE'].plot(kind='bar',\n",
    "                               grid=True,\n",
    "                               figsize=(18, 5),\n",
    "                               ylabel='RMSE',\n",
    "                               title='Среднеквадратическая ошибка');"
   ]
  },
  {
   "cell_type": "markdown",
   "id": "7b94b727",
   "metadata": {},
   "source": [
    "Посмотрим на важность признаков"
   ]
  },
  {
   "cell_type": "code",
   "execution_count": 76,
   "id": "146e71b6",
   "metadata": {},
   "outputs": [
    {
     "data": {
      "image/png": "[encoded data removed]",
      "text/plain": [
       "<Figure size 1224x576 with 1 Axes>"
      ]
     },
     "metadata": {
      "needs_background": "light"
     },
     "output_type": "display_data"
    }
   ],
   "source": [
    "pd.DataFrame(cat_model.feature_importances_, x_train_cat.columns).plot(kind='bar', figsize=(17,8));\n",
    "plt.title('Важность признаков');"
   ]
  },
  {
   "cell_type": "markdown",
   "id": "891fb930",
   "metadata": {},
   "source": [
    "## Вывод\n",
    "\n",
    "- Был выполнен анализ и подготовка данных, в ходе которого были обработаны пропущенные значения, удалены данные с аномальными значениями.\n",
    "- Было проведено сравнение моделей градиентного бустинга CatBoost, LightGBM и случайного леса.\n",
    "- Были подобраны наилучшие параметры для моделей.\n",
    "- Градиентный бустинг позволяет улучшить результат метрик по сравнению с более простыми алгоритмами.\n",
    "- CatBoostRegressor - лучшая модель. CatBoostRegressor и LGBMRegressor схожи по RMSE, но CatBoostRegressor значительно превосходит по скорости обучения и предсказания.\n",
    "- CatBoost и LGBM сравнимы по ошибке предсказания, но CatBoost значительно выигрывает в скорости обучения и предсказания.\n",
    "- Самыми важными признаками являются год регистрации, мощность и бренд"
   ]
  }
 ],
 "metadata": {
  "ExecuteTimeLog": [
   {
    "duration": 1353,
    "start_time": "2023-01-20T20:02:24.634Z"
   },
   {
    "duration": 126,
    "start_time": "2023-01-20T20:02:25.989Z"
   },
   {
    "duration": 0,
    "start_time": "2023-01-20T20:02:26.118Z"
   },
   {
    "duration": 0,
    "start_time": "2023-01-20T20:02:26.119Z"
   },
   {
    "duration": 0,
    "start_time": "2023-01-20T20:02:26.121Z"
   },
   {
    "duration": 0,
    "start_time": "2023-01-20T20:02:26.122Z"
   },
   {
    "duration": 0,
    "start_time": "2023-01-20T20:02:26.137Z"
   },
   {
    "duration": 0,
    "start_time": "2023-01-20T20:02:26.138Z"
   },
   {
    "duration": 0,
    "start_time": "2023-01-20T20:02:26.140Z"
   },
   {
    "duration": 0,
    "start_time": "2023-01-20T20:02:26.141Z"
   },
   {
    "duration": 0,
    "start_time": "2023-01-20T20:02:26.142Z"
   },
   {
    "duration": 0,
    "start_time": "2023-01-20T20:02:26.144Z"
   },
   {
    "duration": 0,
    "start_time": "2023-01-20T20:02:26.145Z"
   },
   {
    "duration": 0,
    "start_time": "2023-01-20T20:02:26.147Z"
   },
   {
    "duration": 0,
    "start_time": "2023-01-20T20:02:26.148Z"
   },
   {
    "duration": 0,
    "start_time": "2023-01-20T20:02:26.150Z"
   },
   {
    "duration": 0,
    "start_time": "2023-01-20T20:02:26.152Z"
   },
   {
    "duration": 0,
    "start_time": "2023-01-20T20:02:26.153Z"
   },
   {
    "duration": 0,
    "start_time": "2023-01-20T20:02:26.154Z"
   },
   {
    "duration": 0,
    "start_time": "2023-01-20T20:02:26.156Z"
   },
   {
    "duration": 0,
    "start_time": "2023-01-20T20:02:26.157Z"
   },
   {
    "duration": 0,
    "start_time": "2023-01-20T20:02:26.159Z"
   },
   {
    "duration": 0,
    "start_time": "2023-01-20T20:02:26.160Z"
   },
   {
    "duration": 0,
    "start_time": "2023-01-20T20:02:26.162Z"
   },
   {
    "duration": 0,
    "start_time": "2023-01-20T20:02:26.165Z"
   },
   {
    "duration": 0,
    "start_time": "2023-01-20T20:02:26.165Z"
   },
   {
    "duration": 0,
    "start_time": "2023-01-20T20:02:26.167Z"
   },
   {
    "duration": 0,
    "start_time": "2023-01-20T20:02:26.168Z"
   },
   {
    "duration": 0,
    "start_time": "2023-01-20T20:02:26.169Z"
   },
   {
    "duration": 0,
    "start_time": "2023-01-20T20:02:26.170Z"
   },
   {
    "duration": 0,
    "start_time": "2023-01-20T20:02:26.172Z"
   },
   {
    "duration": 0,
    "start_time": "2023-01-20T20:02:26.173Z"
   },
   {
    "duration": 0,
    "start_time": "2023-01-20T20:02:26.174Z"
   },
   {
    "duration": 0,
    "start_time": "2023-01-20T20:02:26.176Z"
   },
   {
    "duration": 0,
    "start_time": "2023-01-20T20:02:26.177Z"
   },
   {
    "duration": 0,
    "start_time": "2023-01-20T20:02:26.237Z"
   },
   {
    "duration": 0,
    "start_time": "2023-01-20T20:02:26.238Z"
   },
   {
    "duration": 0,
    "start_time": "2023-01-20T20:02:26.240Z"
   },
   {
    "duration": 0,
    "start_time": "2023-01-20T20:02:26.241Z"
   },
   {
    "duration": 0,
    "start_time": "2023-01-20T20:02:26.242Z"
   },
   {
    "duration": 0,
    "start_time": "2023-01-20T20:02:26.243Z"
   },
   {
    "duration": 0,
    "start_time": "2023-01-20T20:02:26.244Z"
   },
   {
    "duration": 0,
    "start_time": "2023-01-20T20:02:26.247Z"
   },
   {
    "duration": 0,
    "start_time": "2023-01-20T20:02:26.248Z"
   },
   {
    "duration": 2900,
    "start_time": "2023-01-20T20:03:21.550Z"
   },
   {
    "duration": 4,
    "start_time": "2023-01-20T20:03:27.831Z"
   },
   {
    "duration": 928,
    "start_time": "2023-01-20T20:03:27.837Z"
   },
   {
    "duration": 126,
    "start_time": "2023-01-20T20:03:28.767Z"
   },
   {
    "duration": 3,
    "start_time": "2023-01-20T20:03:28.895Z"
   },
   {
    "duration": 119,
    "start_time": "2023-01-20T20:03:28.901Z"
   },
   {
    "duration": 6,
    "start_time": "2023-01-20T20:03:29.022Z"
   },
   {
    "duration": 44,
    "start_time": "2023-01-20T20:03:29.030Z"
   },
   {
    "duration": 14,
    "start_time": "2023-01-20T20:03:29.076Z"
   },
   {
    "duration": 201,
    "start_time": "2023-01-20T20:03:29.092Z"
   },
   {
    "duration": 453,
    "start_time": "2023-01-20T20:03:29.295Z"
   },
   {
    "duration": 2,
    "start_time": "2023-01-20T20:03:29.751Z"
   },
   {
    "duration": 91,
    "start_time": "2023-01-20T20:03:29.755Z"
   },
   {
    "duration": 11,
    "start_time": "2023-01-20T20:03:29.848Z"
   },
   {
    "duration": 386,
    "start_time": "2023-01-20T20:03:29.860Z"
   },
   {
    "duration": 33,
    "start_time": "2023-01-20T20:03:30.248Z"
   },
   {
    "duration": 456,
    "start_time": "2023-01-20T20:03:30.283Z"
   },
   {
    "duration": 376,
    "start_time": "2023-01-20T20:03:30.741Z"
   },
   {
    "duration": 31,
    "start_time": "2023-01-20T20:03:31.119Z"
   },
   {
    "duration": 361,
    "start_time": "2023-01-20T20:03:31.152Z"
   },
   {
    "duration": 403,
    "start_time": "2023-01-20T20:03:31.515Z"
   },
   {
    "duration": 27,
    "start_time": "2023-01-20T20:03:31.920Z"
   },
   {
    "duration": 344,
    "start_time": "2023-01-20T20:03:31.948Z"
   },
   {
    "duration": 11,
    "start_time": "2023-01-20T20:03:32.294Z"
   },
   {
    "duration": 146,
    "start_time": "2023-01-20T20:03:32.306Z"
   },
   {
    "duration": 60,
    "start_time": "2023-01-20T20:03:32.453Z"
   },
   {
    "duration": 49,
    "start_time": "2023-01-20T20:03:32.514Z"
   },
   {
    "duration": 29,
    "start_time": "2023-01-20T20:03:32.565Z"
   },
   {
    "duration": 95,
    "start_time": "2023-01-20T20:03:32.595Z"
   },
   {
    "duration": 8,
    "start_time": "2023-01-20T20:03:32.693Z"
   },
   {
    "duration": 26,
    "start_time": "2023-01-20T20:03:32.703Z"
   },
   {
    "duration": 35,
    "start_time": "2023-01-20T20:03:32.731Z"
   },
   {
    "duration": 0,
    "start_time": "2023-01-20T20:03:32.769Z"
   },
   {
    "duration": 0,
    "start_time": "2023-01-20T20:03:32.771Z"
   },
   {
    "duration": 0,
    "start_time": "2023-01-20T20:03:32.772Z"
   },
   {
    "duration": 0,
    "start_time": "2023-01-20T20:03:32.773Z"
   },
   {
    "duration": 0,
    "start_time": "2023-01-20T20:03:32.775Z"
   },
   {
    "duration": 1,
    "start_time": "2023-01-20T20:03:32.776Z"
   },
   {
    "duration": 0,
    "start_time": "2023-01-20T20:03:32.778Z"
   },
   {
    "duration": 0,
    "start_time": "2023-01-20T20:03:32.780Z"
   },
   {
    "duration": 0,
    "start_time": "2023-01-20T20:03:32.781Z"
   },
   {
    "duration": 0,
    "start_time": "2023-01-20T20:03:32.783Z"
   },
   {
    "duration": 0,
    "start_time": "2023-01-20T20:03:32.784Z"
   },
   {
    "duration": 0,
    "start_time": "2023-01-20T20:03:32.785Z"
   },
   {
    "duration": 0,
    "start_time": "2023-01-20T20:03:32.787Z"
   },
   {
    "duration": 5,
    "start_time": "2023-01-20T20:03:53.507Z"
   },
   {
    "duration": 20,
    "start_time": "2023-01-20T20:07:46.613Z"
   },
   {
    "duration": 49,
    "start_time": "2023-01-20T20:09:41.329Z"
   },
   {
    "duration": 129,
    "start_time": "2023-01-20T20:13:48.512Z"
   },
   {
    "duration": 28,
    "start_time": "2023-01-20T20:37:36.721Z"
   },
   {
    "duration": 3,
    "start_time": "2023-01-20T20:52:49.780Z"
   },
   {
    "duration": 5,
    "start_time": "2023-01-20T20:53:22.740Z"
   },
   {
    "duration": 48,
    "start_time": "2023-01-20T20:53:40.621Z"
   },
   {
    "duration": 82,
    "start_time": "2023-01-20T20:55:06.134Z"
   },
   {
    "duration": 778,
    "start_time": "2023-01-20T20:56:09.967Z"
   },
   {
    "duration": 79,
    "start_time": "2023-01-20T20:56:29.807Z"
   },
   {
    "duration": 107,
    "start_time": "2023-01-20T20:56:54.374Z"
   },
   {
    "duration": 84,
    "start_time": "2023-01-20T20:57:05.288Z"
   },
   {
    "duration": 5,
    "start_time": "2023-01-20T20:57:53.368Z"
   },
   {
    "duration": 13,
    "start_time": "2023-01-20T20:57:59.712Z"
   },
   {
    "duration": 2,
    "start_time": "2023-01-20T20:58:43.719Z"
   },
   {
    "duration": 825,
    "start_time": "2023-01-20T20:58:43.723Z"
   },
   {
    "duration": 124,
    "start_time": "2023-01-20T20:58:44.550Z"
   },
   {
    "duration": 2,
    "start_time": "2023-01-20T20:58:44.676Z"
   },
   {
    "duration": 99,
    "start_time": "2023-01-20T20:58:44.680Z"
   },
   {
    "duration": 5,
    "start_time": "2023-01-20T20:58:44.781Z"
   },
   {
    "duration": 23,
    "start_time": "2023-01-20T20:58:44.787Z"
   },
   {
    "duration": 25,
    "start_time": "2023-01-20T20:58:44.812Z"
   },
   {
    "duration": 173,
    "start_time": "2023-01-20T20:58:44.839Z"
   },
   {
    "duration": 368,
    "start_time": "2023-01-20T20:58:45.014Z"
   },
   {
    "duration": 2,
    "start_time": "2023-01-20T20:58:45.386Z"
   },
   {
    "duration": 88,
    "start_time": "2023-01-20T20:58:45.390Z"
   },
   {
    "duration": 4,
    "start_time": "2023-01-20T20:58:45.480Z"
   },
   {
    "duration": 372,
    "start_time": "2023-01-20T20:58:45.486Z"
   },
   {
    "duration": 24,
    "start_time": "2023-01-20T20:58:45.859Z"
   },
   {
    "duration": 363,
    "start_time": "2023-01-20T20:58:45.885Z"
   },
   {
    "duration": 362,
    "start_time": "2023-01-20T20:58:46.249Z"
   },
   {
    "duration": 30,
    "start_time": "2023-01-20T20:58:46.613Z"
   },
   {
    "duration": 332,
    "start_time": "2023-01-20T20:58:46.645Z"
   },
   {
    "duration": 426,
    "start_time": "2023-01-20T20:58:46.979Z"
   },
   {
    "duration": 29,
    "start_time": "2023-01-20T20:58:47.407Z"
   },
   {
    "duration": 351,
    "start_time": "2023-01-20T20:58:47.438Z"
   },
   {
    "duration": 11,
    "start_time": "2023-01-20T20:58:47.791Z"
   },
   {
    "duration": 127,
    "start_time": "2023-01-20T20:58:47.803Z"
   },
   {
    "duration": 57,
    "start_time": "2023-01-20T20:58:47.932Z"
   },
   {
    "duration": 45,
    "start_time": "2023-01-20T20:58:47.991Z"
   },
   {
    "duration": 3,
    "start_time": "2023-01-20T20:58:48.038Z"
   },
   {
    "duration": 31,
    "start_time": "2023-01-20T20:58:48.042Z"
   },
   {
    "duration": 737,
    "start_time": "2023-01-20T20:58:48.076Z"
   },
   {
    "duration": 0,
    "start_time": "2023-01-20T20:58:48.815Z"
   },
   {
    "duration": 0,
    "start_time": "2023-01-20T20:58:48.817Z"
   },
   {
    "duration": 0,
    "start_time": "2023-01-20T20:58:48.818Z"
   },
   {
    "duration": 0,
    "start_time": "2023-01-20T20:58:48.819Z"
   },
   {
    "duration": 0,
    "start_time": "2023-01-20T20:58:48.820Z"
   },
   {
    "duration": 0,
    "start_time": "2023-01-20T20:58:48.821Z"
   },
   {
    "duration": 0,
    "start_time": "2023-01-20T20:58:48.822Z"
   },
   {
    "duration": 0,
    "start_time": "2023-01-20T20:58:48.823Z"
   },
   {
    "duration": 0,
    "start_time": "2023-01-20T20:58:48.824Z"
   },
   {
    "duration": 0,
    "start_time": "2023-01-20T20:58:48.825Z"
   },
   {
    "duration": 0,
    "start_time": "2023-01-20T20:58:48.826Z"
   },
   {
    "duration": 0,
    "start_time": "2023-01-20T20:58:48.826Z"
   },
   {
    "duration": 0,
    "start_time": "2023-01-20T20:58:48.827Z"
   },
   {
    "duration": 0,
    "start_time": "2023-01-20T20:58:48.828Z"
   },
   {
    "duration": 0,
    "start_time": "2023-01-20T20:58:48.830Z"
   },
   {
    "duration": 0,
    "start_time": "2023-01-20T20:58:48.831Z"
   },
   {
    "duration": 95,
    "start_time": "2023-01-20T20:59:11.699Z"
   },
   {
    "duration": 10,
    "start_time": "2023-01-20T20:59:12.300Z"
   },
   {
    "duration": 90,
    "start_time": "2023-01-20T20:59:14.007Z"
   },
   {
    "duration": 37,
    "start_time": "2023-01-20T21:01:18.124Z"
   },
   {
    "duration": 25,
    "start_time": "2023-01-20T21:03:40.833Z"
   },
   {
    "duration": 37,
    "start_time": "2023-01-20T21:04:08.316Z"
   },
   {
    "duration": 40,
    "start_time": "2023-01-20T21:04:22.767Z"
   },
   {
    "duration": 31,
    "start_time": "2023-01-20T21:05:42.765Z"
   },
   {
    "duration": 33,
    "start_time": "2023-01-20T21:05:47.900Z"
   },
   {
    "duration": 46,
    "start_time": "2023-01-20T21:09:32.479Z"
   },
   {
    "duration": 28,
    "start_time": "2023-01-20T21:09:36.657Z"
   },
   {
    "duration": 29,
    "start_time": "2023-01-20T21:11:00.227Z"
   },
   {
    "duration": 55,
    "start_time": "2023-01-20T21:11:01.114Z"
   },
   {
    "duration": 84,
    "start_time": "2023-01-20T21:13:15.247Z"
   },
   {
    "duration": 81,
    "start_time": "2023-01-20T21:13:22.870Z"
   },
   {
    "duration": 16,
    "start_time": "2023-01-20T21:17:41.074Z"
   },
   {
    "duration": 15,
    "start_time": "2023-01-20T21:23:26.236Z"
   },
   {
    "duration": 11,
    "start_time": "2023-01-20T21:23:59.746Z"
   },
   {
    "duration": 36,
    "start_time": "2023-01-20T21:24:10.118Z"
   },
   {
    "duration": 15,
    "start_time": "2023-01-20T21:24:50.102Z"
   },
   {
    "duration": 13,
    "start_time": "2023-01-20T21:25:08.670Z"
   },
   {
    "duration": 13,
    "start_time": "2023-01-20T21:30:09.501Z"
   },
   {
    "duration": 36,
    "start_time": "2023-01-20T21:32:53.908Z"
   },
   {
    "duration": 4,
    "start_time": "2023-01-20T21:34:22.995Z"
   },
   {
    "duration": 4,
    "start_time": "2023-01-20T21:34:32.027Z"
   },
   {
    "duration": 10,
    "start_time": "2023-01-20T21:35:45.357Z"
   },
   {
    "duration": 9,
    "start_time": "2023-01-20T21:35:53.049Z"
   },
   {
    "duration": 1344,
    "start_time": "2023-01-21T18:32:47.810Z"
   },
   {
    "duration": 3289,
    "start_time": "2023-01-21T18:32:49.156Z"
   },
   {
    "duration": 111,
    "start_time": "2023-01-21T18:32:52.446Z"
   },
   {
    "duration": 3,
    "start_time": "2023-01-21T18:32:52.558Z"
   },
   {
    "duration": 108,
    "start_time": "2023-01-21T18:32:52.562Z"
   },
   {
    "duration": 6,
    "start_time": "2023-01-21T18:32:52.672Z"
   },
   {
    "duration": 36,
    "start_time": "2023-01-21T18:32:52.679Z"
   },
   {
    "duration": 12,
    "start_time": "2023-01-21T18:32:52.716Z"
   },
   {
    "duration": 197,
    "start_time": "2023-01-21T18:32:52.730Z"
   },
   {
    "duration": 369,
    "start_time": "2023-01-21T18:32:52.929Z"
   },
   {
    "duration": 2,
    "start_time": "2023-01-21T18:32:53.300Z"
   },
   {
    "duration": 70,
    "start_time": "2023-01-21T18:32:53.304Z"
   },
   {
    "duration": 16,
    "start_time": "2023-01-21T18:32:53.376Z"
   },
   {
    "duration": 374,
    "start_time": "2023-01-21T18:32:53.395Z"
   },
   {
    "duration": 38,
    "start_time": "2023-01-21T18:32:53.771Z"
   },
   {
    "duration": 379,
    "start_time": "2023-01-21T18:32:53.811Z"
   },
   {
    "duration": 364,
    "start_time": "2023-01-21T18:32:54.192Z"
   },
   {
    "duration": 25,
    "start_time": "2023-01-21T18:32:54.558Z"
   },
   {
    "duration": 331,
    "start_time": "2023-01-21T18:32:54.592Z"
   },
   {
    "duration": 406,
    "start_time": "2023-01-21T18:32:54.925Z"
   },
   {
    "duration": 20,
    "start_time": "2023-01-21T18:32:55.332Z"
   },
   {
    "duration": 346,
    "start_time": "2023-01-21T18:32:55.354Z"
   },
   {
    "duration": 14,
    "start_time": "2023-01-21T18:32:55.703Z"
   },
   {
    "duration": 134,
    "start_time": "2023-01-21T18:32:55.719Z"
   },
   {
    "duration": 24,
    "start_time": "2023-01-21T18:32:55.855Z"
   },
   {
    "duration": 42,
    "start_time": "2023-01-21T18:32:55.880Z"
   },
   {
    "duration": 49,
    "start_time": "2023-01-21T18:32:55.924Z"
   },
   {
    "duration": 122,
    "start_time": "2023-01-21T18:32:55.992Z"
   },
   {
    "duration": 0,
    "start_time": "2023-01-21T18:32:56.117Z"
   },
   {
    "duration": 0,
    "start_time": "2023-01-21T18:32:56.118Z"
   },
   {
    "duration": 0,
    "start_time": "2023-01-21T18:32:56.120Z"
   },
   {
    "duration": 0,
    "start_time": "2023-01-21T18:32:56.121Z"
   },
   {
    "duration": 0,
    "start_time": "2023-01-21T18:32:56.122Z"
   },
   {
    "duration": 0,
    "start_time": "2023-01-21T18:32:56.123Z"
   },
   {
    "duration": 0,
    "start_time": "2023-01-21T18:32:56.125Z"
   },
   {
    "duration": 0,
    "start_time": "2023-01-21T18:32:56.126Z"
   },
   {
    "duration": 0,
    "start_time": "2023-01-21T18:32:56.127Z"
   },
   {
    "duration": 0,
    "start_time": "2023-01-21T18:32:56.128Z"
   },
   {
    "duration": 0,
    "start_time": "2023-01-21T18:32:56.130Z"
   },
   {
    "duration": 0,
    "start_time": "2023-01-21T18:32:56.131Z"
   },
   {
    "duration": 0,
    "start_time": "2023-01-21T18:32:56.132Z"
   },
   {
    "duration": 0,
    "start_time": "2023-01-21T18:32:56.133Z"
   },
   {
    "duration": 0,
    "start_time": "2023-01-21T18:32:56.135Z"
   },
   {
    "duration": 0,
    "start_time": "2023-01-21T18:32:56.136Z"
   },
   {
    "duration": 10,
    "start_time": "2023-01-21T18:34:56.004Z"
   },
   {
    "duration": 4,
    "start_time": "2023-01-21T18:35:03.157Z"
   },
   {
    "duration": 817,
    "start_time": "2023-01-21T18:35:03.163Z"
   },
   {
    "duration": 121,
    "start_time": "2023-01-21T18:35:03.982Z"
   },
   {
    "duration": 3,
    "start_time": "2023-01-21T18:35:04.105Z"
   },
   {
    "duration": 94,
    "start_time": "2023-01-21T18:35:04.110Z"
   },
   {
    "duration": 5,
    "start_time": "2023-01-21T18:35:04.206Z"
   },
   {
    "duration": 19,
    "start_time": "2023-01-21T18:35:04.213Z"
   },
   {
    "duration": 13,
    "start_time": "2023-01-21T18:35:04.234Z"
   },
   {
    "duration": 202,
    "start_time": "2023-01-21T18:35:04.249Z"
   },
   {
    "duration": 327,
    "start_time": "2023-01-21T18:35:04.455Z"
   },
   {
    "duration": 7,
    "start_time": "2023-01-21T18:35:04.784Z"
   },
   {
    "duration": 101,
    "start_time": "2023-01-21T18:35:04.794Z"
   },
   {
    "duration": 4,
    "start_time": "2023-01-21T18:35:04.897Z"
   },
   {
    "duration": 404,
    "start_time": "2023-01-21T18:35:04.903Z"
   },
   {
    "duration": 21,
    "start_time": "2023-01-21T18:35:05.310Z"
   },
   {
    "duration": 390,
    "start_time": "2023-01-21T18:35:05.334Z"
   },
   {
    "duration": 460,
    "start_time": "2023-01-21T18:35:05.727Z"
   },
   {
    "duration": 28,
    "start_time": "2023-01-21T18:35:06.193Z"
   },
   {
    "duration": 368,
    "start_time": "2023-01-21T18:35:06.224Z"
   },
   {
    "duration": 470,
    "start_time": "2023-01-21T18:35:06.594Z"
   },
   {
    "duration": 28,
    "start_time": "2023-01-21T18:35:07.066Z"
   },
   {
    "duration": 362,
    "start_time": "2023-01-21T18:35:07.096Z"
   },
   {
    "duration": 15,
    "start_time": "2023-01-21T18:35:07.460Z"
   },
   {
    "duration": 163,
    "start_time": "2023-01-21T18:35:07.477Z"
   },
   {
    "duration": 25,
    "start_time": "2023-01-21T18:35:07.642Z"
   },
   {
    "duration": 44,
    "start_time": "2023-01-21T18:35:07.668Z"
   },
   {
    "duration": 42,
    "start_time": "2023-01-21T18:35:07.714Z"
   },
   {
    "duration": 107,
    "start_time": "2023-01-21T18:35:07.761Z"
   },
   {
    "duration": 4,
    "start_time": "2023-01-21T18:35:07.870Z"
   },
   {
    "duration": 30,
    "start_time": "2023-01-21T18:35:07.876Z"
   },
   {
    "duration": 0,
    "start_time": "2023-01-21T18:35:07.908Z"
   },
   {
    "duration": 0,
    "start_time": "2023-01-21T18:35:07.910Z"
   },
   {
    "duration": 0,
    "start_time": "2023-01-21T18:35:07.911Z"
   },
   {
    "duration": 0,
    "start_time": "2023-01-21T18:35:07.913Z"
   },
   {
    "duration": 0,
    "start_time": "2023-01-21T18:35:07.914Z"
   },
   {
    "duration": 0,
    "start_time": "2023-01-21T18:35:07.916Z"
   },
   {
    "duration": 0,
    "start_time": "2023-01-21T18:35:07.917Z"
   },
   {
    "duration": 0,
    "start_time": "2023-01-21T18:35:07.919Z"
   },
   {
    "duration": 0,
    "start_time": "2023-01-21T18:35:07.920Z"
   },
   {
    "duration": 0,
    "start_time": "2023-01-21T18:35:07.922Z"
   },
   {
    "duration": 0,
    "start_time": "2023-01-21T18:35:07.924Z"
   },
   {
    "duration": 0,
    "start_time": "2023-01-21T18:35:07.925Z"
   },
   {
    "duration": 0,
    "start_time": "2023-01-21T18:35:07.926Z"
   },
   {
    "duration": 0,
    "start_time": "2023-01-21T18:35:07.928Z"
   },
   {
    "duration": 173,
    "start_time": "2023-01-21T18:57:59.251Z"
   },
   {
    "duration": 10,
    "start_time": "2023-01-21T19:55:34.717Z"
   },
   {
    "duration": 144,
    "start_time": "2023-01-21T19:55:45.600Z"
   },
   {
    "duration": 142,
    "start_time": "2023-01-21T19:56:31.921Z"
   },
   {
    "duration": 106,
    "start_time": "2023-01-21T19:58:10.747Z"
   },
   {
    "duration": 21,
    "start_time": "2023-01-21T19:58:44.168Z"
   },
   {
    "duration": 41,
    "start_time": "2023-01-21T19:58:58.805Z"
   },
   {
    "duration": 5,
    "start_time": "2023-01-21T20:00:24.775Z"
   },
   {
    "duration": 14,
    "start_time": "2023-01-21T20:00:55.346Z"
   },
   {
    "duration": 43,
    "start_time": "2023-01-21T20:01:00.509Z"
   },
   {
    "duration": 60,
    "start_time": "2023-01-21T20:01:14.543Z"
   },
   {
    "duration": 9,
    "start_time": "2023-01-21T20:01:31.431Z"
   },
   {
    "duration": 79,
    "start_time": "2023-01-21T20:02:13.157Z"
   },
   {
    "duration": 2,
    "start_time": "2023-01-21T20:02:33.152Z"
   },
   {
    "duration": 70,
    "start_time": "2023-01-21T20:02:37.753Z"
   },
   {
    "duration": 3,
    "start_time": "2023-01-21T20:03:02.337Z"
   },
   {
    "duration": 807,
    "start_time": "2023-01-21T20:03:02.342Z"
   },
   {
    "duration": 119,
    "start_time": "2023-01-21T20:03:03.151Z"
   },
   {
    "duration": 3,
    "start_time": "2023-01-21T20:03:03.271Z"
   },
   {
    "duration": 96,
    "start_time": "2023-01-21T20:03:03.276Z"
   },
   {
    "duration": 16,
    "start_time": "2023-01-21T20:03:03.373Z"
   },
   {
    "duration": 22,
    "start_time": "2023-01-21T20:03:03.391Z"
   },
   {
    "duration": 10,
    "start_time": "2023-01-21T20:03:03.416Z"
   },
   {
    "duration": 178,
    "start_time": "2023-01-21T20:03:03.428Z"
   },
   {
    "duration": 328,
    "start_time": "2023-01-21T20:03:03.608Z"
   },
   {
    "duration": 2,
    "start_time": "2023-01-21T20:03:03.939Z"
   },
   {
    "duration": 77,
    "start_time": "2023-01-21T20:03:03.943Z"
   },
   {
    "duration": 4,
    "start_time": "2023-01-21T20:03:04.021Z"
   },
   {
    "duration": 353,
    "start_time": "2023-01-21T20:03:04.027Z"
   },
   {
    "duration": 30,
    "start_time": "2023-01-21T20:03:04.382Z"
   },
   {
    "duration": 364,
    "start_time": "2023-01-21T20:03:04.414Z"
   },
   {
    "duration": 369,
    "start_time": "2023-01-21T20:03:04.780Z"
   },
   {
    "duration": 21,
    "start_time": "2023-01-21T20:03:05.150Z"
   },
   {
    "duration": 391,
    "start_time": "2023-01-21T20:03:05.173Z"
   },
   {
    "duration": 302,
    "start_time": "2023-01-21T20:03:05.566Z"
   },
   {
    "duration": 38,
    "start_time": "2023-01-21T20:03:05.870Z"
   },
   {
    "duration": 411,
    "start_time": "2023-01-21T20:03:05.910Z"
   },
   {
    "duration": 11,
    "start_time": "2023-01-21T20:03:06.322Z"
   },
   {
    "duration": 129,
    "start_time": "2023-01-21T20:03:06.334Z"
   },
   {
    "duration": 33,
    "start_time": "2023-01-21T20:03:06.465Z"
   },
   {
    "duration": 34,
    "start_time": "2023-01-21T20:03:06.500Z"
   },
   {
    "duration": 61,
    "start_time": "2023-01-21T20:03:06.535Z"
   },
   {
    "duration": 69,
    "start_time": "2023-01-21T20:03:06.597Z"
   },
   {
    "duration": 154,
    "start_time": "2023-01-21T20:03:06.669Z"
   },
   {
    "duration": 76,
    "start_time": "2023-01-21T20:03:06.824Z"
   },
   {
    "duration": 112,
    "start_time": "2023-01-21T20:03:06.902Z"
   },
   {
    "duration": 12,
    "start_time": "2023-01-21T20:03:07.016Z"
   },
   {
    "duration": 18,
    "start_time": "2023-01-21T20:03:07.030Z"
   },
   {
    "duration": 20,
    "start_time": "2023-01-21T20:03:07.049Z"
   },
   {
    "duration": 31,
    "start_time": "2023-01-21T20:03:07.071Z"
   },
   {
    "duration": 24,
    "start_time": "2023-01-21T20:03:07.104Z"
   },
   {
    "duration": 16,
    "start_time": "2023-01-21T20:03:07.130Z"
   },
   {
    "duration": 19,
    "start_time": "2023-01-21T20:03:07.147Z"
   },
   {
    "duration": 60,
    "start_time": "2023-01-21T20:03:07.169Z"
   },
   {
    "duration": 21,
    "start_time": "2023-01-21T20:03:07.231Z"
   },
   {
    "duration": 2,
    "start_time": "2023-01-21T20:03:07.254Z"
   },
   {
    "duration": 9,
    "start_time": "2023-01-21T20:03:07.258Z"
   },
   {
    "duration": 31,
    "start_time": "2023-01-21T20:03:07.269Z"
   },
   {
    "duration": 66,
    "start_time": "2023-01-21T20:20:35.129Z"
   },
   {
    "duration": 3,
    "start_time": "2023-01-21T20:21:16.076Z"
   },
   {
    "duration": 745,
    "start_time": "2023-01-21T20:21:16.082Z"
   },
   {
    "duration": 116,
    "start_time": "2023-01-21T20:21:16.828Z"
   },
   {
    "duration": 2,
    "start_time": "2023-01-21T20:21:16.946Z"
   },
   {
    "duration": 99,
    "start_time": "2023-01-21T20:21:16.950Z"
   },
   {
    "duration": 5,
    "start_time": "2023-01-21T20:21:17.051Z"
   },
   {
    "duration": 18,
    "start_time": "2023-01-21T20:21:17.057Z"
   },
   {
    "duration": 28,
    "start_time": "2023-01-21T20:21:17.077Z"
   },
   {
    "duration": 178,
    "start_time": "2023-01-21T20:21:17.106Z"
   },
   {
    "duration": 312,
    "start_time": "2023-01-21T20:21:17.291Z"
   },
   {
    "duration": 2,
    "start_time": "2023-01-21T20:21:17.606Z"
   },
   {
    "duration": 68,
    "start_time": "2023-01-21T20:21:17.609Z"
   },
   {
    "duration": 13,
    "start_time": "2023-01-21T20:21:17.679Z"
   },
   {
    "duration": 356,
    "start_time": "2023-01-21T20:21:17.694Z"
   },
   {
    "duration": 21,
    "start_time": "2023-01-21T20:21:18.052Z"
   },
   {
    "duration": 367,
    "start_time": "2023-01-21T20:21:18.074Z"
   },
   {
    "duration": 441,
    "start_time": "2023-01-21T20:21:18.443Z"
   },
   {
    "duration": 25,
    "start_time": "2023-01-21T20:21:18.885Z"
   },
   {
    "duration": 338,
    "start_time": "2023-01-21T20:21:18.912Z"
   },
   {
    "duration": 306,
    "start_time": "2023-01-21T20:21:19.252Z"
   },
   {
    "duration": 21,
    "start_time": "2023-01-21T20:21:19.560Z"
   },
   {
    "duration": 330,
    "start_time": "2023-01-21T20:21:19.592Z"
   },
   {
    "duration": 11,
    "start_time": "2023-01-21T20:21:19.924Z"
   },
   {
    "duration": 134,
    "start_time": "2023-01-21T20:21:19.937Z"
   },
   {
    "duration": 26,
    "start_time": "2023-01-21T20:21:20.085Z"
   },
   {
    "duration": 39,
    "start_time": "2023-01-21T20:21:20.113Z"
   },
   {
    "duration": 47,
    "start_time": "2023-01-21T20:21:20.154Z"
   },
   {
    "duration": 68,
    "start_time": "2023-01-21T20:21:20.205Z"
   },
   {
    "duration": 168,
    "start_time": "2023-01-21T20:21:20.275Z"
   },
   {
    "duration": 76,
    "start_time": "2023-01-21T20:21:20.445Z"
   },
   {
    "duration": 117,
    "start_time": "2023-01-21T20:21:20.523Z"
   },
   {
    "duration": 12,
    "start_time": "2023-01-21T20:21:20.642Z"
   },
   {
    "duration": 17,
    "start_time": "2023-01-21T20:21:20.655Z"
   },
   {
    "duration": 32,
    "start_time": "2023-01-21T20:21:20.673Z"
   },
   {
    "duration": 15,
    "start_time": "2023-01-21T20:21:20.706Z"
   },
   {
    "duration": 25,
    "start_time": "2023-01-21T20:21:20.723Z"
   },
   {
    "duration": 16,
    "start_time": "2023-01-21T20:21:20.749Z"
   },
   {
    "duration": 33,
    "start_time": "2023-01-21T20:21:20.766Z"
   },
   {
    "duration": 32,
    "start_time": "2023-01-21T20:21:20.801Z"
   },
   {
    "duration": 17,
    "start_time": "2023-01-21T20:21:20.835Z"
   },
   {
    "duration": 2,
    "start_time": "2023-01-21T20:21:20.853Z"
   },
   {
    "duration": 10,
    "start_time": "2023-01-21T20:21:20.857Z"
   },
   {
    "duration": 32,
    "start_time": "2023-01-21T20:21:20.869Z"
   },
   {
    "duration": 17,
    "start_time": "2023-01-21T20:28:49.287Z"
   },
   {
    "duration": 11,
    "start_time": "2023-01-21T20:29:02.306Z"
   },
   {
    "duration": 75,
    "start_time": "2023-01-21T20:32:08.432Z"
   },
   {
    "duration": 10,
    "start_time": "2023-01-21T20:32:10.724Z"
   },
   {
    "duration": 71,
    "start_time": "2023-01-21T20:32:48.256Z"
   },
   {
    "duration": 3,
    "start_time": "2023-01-21T20:32:59.835Z"
   },
   {
    "duration": 797,
    "start_time": "2023-01-21T20:32:59.840Z"
   },
   {
    "duration": 119,
    "start_time": "2023-01-21T20:33:00.640Z"
   },
   {
    "duration": 14,
    "start_time": "2023-01-21T20:33:00.761Z"
   },
   {
    "duration": 128,
    "start_time": "2023-01-21T20:33:00.777Z"
   },
   {
    "duration": 6,
    "start_time": "2023-01-21T20:33:00.907Z"
   },
   {
    "duration": 44,
    "start_time": "2023-01-21T20:33:00.914Z"
   },
   {
    "duration": 22,
    "start_time": "2023-01-21T20:33:00.960Z"
   },
   {
    "duration": 183,
    "start_time": "2023-01-21T20:33:00.983Z"
   },
   {
    "duration": 356,
    "start_time": "2023-01-21T20:33:01.168Z"
   },
   {
    "duration": 2,
    "start_time": "2023-01-21T20:33:01.527Z"
   },
   {
    "duration": 115,
    "start_time": "2023-01-21T20:33:01.531Z"
   },
   {
    "duration": 58,
    "start_time": "2023-01-21T20:33:01.648Z"
   },
   {
    "duration": 371,
    "start_time": "2023-01-21T20:33:01.708Z"
   },
   {
    "duration": 27,
    "start_time": "2023-01-21T20:33:02.081Z"
   },
   {
    "duration": 471,
    "start_time": "2023-01-21T20:33:02.110Z"
   },
   {
    "duration": 368,
    "start_time": "2023-01-21T20:33:02.583Z"
   },
   {
    "duration": 22,
    "start_time": "2023-01-21T20:33:02.953Z"
   },
   {
    "duration": 332,
    "start_time": "2023-01-21T20:33:02.977Z"
   },
   {
    "duration": 317,
    "start_time": "2023-01-21T20:33:03.311Z"
   },
   {
    "duration": 27,
    "start_time": "2023-01-21T20:33:03.629Z"
   },
   {
    "duration": 369,
    "start_time": "2023-01-21T20:33:03.657Z"
   },
   {
    "duration": 11,
    "start_time": "2023-01-21T20:33:04.028Z"
   },
   {
    "duration": 131,
    "start_time": "2023-01-21T20:33:04.041Z"
   },
   {
    "duration": 32,
    "start_time": "2023-01-21T20:33:04.173Z"
   },
   {
    "duration": 34,
    "start_time": "2023-01-21T20:33:04.206Z"
   },
   {
    "duration": 66,
    "start_time": "2023-01-21T20:33:04.242Z"
   },
   {
    "duration": 69,
    "start_time": "2023-01-21T20:33:04.310Z"
   },
   {
    "duration": 143,
    "start_time": "2023-01-21T20:33:04.399Z"
   },
   {
    "duration": 80,
    "start_time": "2023-01-21T20:33:04.544Z"
   },
   {
    "duration": 121,
    "start_time": "2023-01-21T20:33:04.626Z"
   },
   {
    "duration": 16,
    "start_time": "2023-01-21T20:33:04.749Z"
   },
   {
    "duration": 41,
    "start_time": "2023-01-21T20:33:04.767Z"
   },
   {
    "duration": 22,
    "start_time": "2023-01-21T20:33:04.810Z"
   },
   {
    "duration": 19,
    "start_time": "2023-01-21T20:33:04.833Z"
   },
   {
    "duration": 52,
    "start_time": "2023-01-21T20:33:04.854Z"
   },
   {
    "duration": 16,
    "start_time": "2023-01-21T20:33:04.908Z"
   },
   {
    "duration": 22,
    "start_time": "2023-01-21T20:33:04.926Z"
   },
   {
    "duration": 29,
    "start_time": "2023-01-21T20:33:04.950Z"
   },
   {
    "duration": 26,
    "start_time": "2023-01-21T20:33:04.981Z"
   },
   {
    "duration": 12,
    "start_time": "2023-01-21T20:33:05.009Z"
   },
   {
    "duration": 9,
    "start_time": "2023-01-21T20:33:05.022Z"
   },
   {
    "duration": 16,
    "start_time": "2023-01-21T20:33:05.033Z"
   },
   {
    "duration": 107,
    "start_time": "2023-01-21T20:35:39.546Z"
   },
   {
    "duration": 2,
    "start_time": "2023-01-21T20:37:21.848Z"
   },
   {
    "duration": 18,
    "start_time": "2023-01-21T20:39:28.256Z"
   },
   {
    "duration": 99,
    "start_time": "2023-01-21T20:41:04.741Z"
   },
   {
    "duration": 99,
    "start_time": "2023-01-21T20:41:30.154Z"
   },
   {
    "duration": 86,
    "start_time": "2023-01-21T20:41:37.740Z"
   },
   {
    "duration": 87,
    "start_time": "2023-01-21T20:41:50.852Z"
   },
   {
    "duration": 11,
    "start_time": "2023-01-21T20:46:26.934Z"
   },
   {
    "duration": 10,
    "start_time": "2023-01-21T20:46:51.177Z"
   },
   {
    "duration": 95,
    "start_time": "2023-01-21T20:47:03.630Z"
   },
   {
    "duration": 83,
    "start_time": "2023-01-21T20:47:25.222Z"
   },
   {
    "duration": 1603,
    "start_time": "2023-01-21T20:53:47.725Z"
   },
   {
    "duration": 88,
    "start_time": "2023-01-21T20:53:59.252Z"
   },
   {
    "duration": 1708,
    "start_time": "2023-01-21T20:57:01.938Z"
   },
   {
    "duration": 95,
    "start_time": "2023-01-21T20:57:10.384Z"
   },
   {
    "duration": 3,
    "start_time": "2023-01-21T20:58:53.463Z"
   },
   {
    "duration": 16,
    "start_time": "2023-01-21T21:05:09.429Z"
   },
   {
    "duration": 16,
    "start_time": "2023-01-21T21:05:20.148Z"
   },
   {
    "duration": 115,
    "start_time": "2023-01-21T21:05:41.677Z"
   },
   {
    "duration": 3363,
    "start_time": "2023-01-21T21:05:45.952Z"
   },
   {
    "duration": 113,
    "start_time": "2023-01-21T21:05:49.320Z"
   },
   {
    "duration": 121,
    "start_time": "2023-01-21T21:06:35.648Z"
   },
   {
    "duration": 42,
    "start_time": "2023-01-21T21:07:17.581Z"
   },
   {
    "duration": 68,
    "start_time": "2023-01-21T21:09:15.787Z"
   },
   {
    "duration": 126,
    "start_time": "2023-01-21T21:10:21.336Z"
   },
   {
    "duration": 2,
    "start_time": "2023-01-21T21:13:47.961Z"
   },
   {
    "duration": 116,
    "start_time": "2023-01-21T21:15:41.944Z"
   },
   {
    "duration": 92,
    "start_time": "2023-01-21T21:19:03.857Z"
   },
   {
    "duration": 137,
    "start_time": "2023-01-21T21:19:11.382Z"
   },
   {
    "duration": 88,
    "start_time": "2023-01-21T21:19:38.218Z"
   },
   {
    "duration": 16,
    "start_time": "2023-01-21T21:19:41.874Z"
   },
   {
    "duration": 110,
    "start_time": "2023-01-21T21:19:46.242Z"
   },
   {
    "duration": 140,
    "start_time": "2023-01-21T21:23:19.770Z"
   },
   {
    "duration": 287,
    "start_time": "2023-01-21T21:23:47.488Z"
   },
   {
    "duration": 3,
    "start_time": "2023-01-21T21:24:08.270Z"
   },
   {
    "duration": 840,
    "start_time": "2023-01-21T21:24:08.275Z"
   },
   {
    "duration": 131,
    "start_time": "2023-01-21T21:24:09.121Z"
   },
   {
    "duration": 3,
    "start_time": "2023-01-21T21:24:09.254Z"
   },
   {
    "duration": 121,
    "start_time": "2023-01-21T21:24:09.260Z"
   },
   {
    "duration": 15,
    "start_time": "2023-01-21T21:24:09.382Z"
   },
   {
    "duration": 40,
    "start_time": "2023-01-21T21:24:09.404Z"
   },
   {
    "duration": 10,
    "start_time": "2023-01-21T21:24:09.446Z"
   },
   {
    "duration": 4,
    "start_time": "2023-01-21T21:24:09.458Z"
   },
   {
    "duration": 90,
    "start_time": "2023-01-21T21:24:09.463Z"
   },
   {
    "duration": 4,
    "start_time": "2023-01-21T21:24:09.556Z"
   },
   {
    "duration": 408,
    "start_time": "2023-01-21T21:24:09.562Z"
   },
   {
    "duration": 42,
    "start_time": "2023-01-21T21:24:09.972Z"
   },
   {
    "duration": 394,
    "start_time": "2023-01-21T21:24:10.016Z"
   },
   {
    "duration": 380,
    "start_time": "2023-01-21T21:24:10.419Z"
   },
   {
    "duration": 33,
    "start_time": "2023-01-21T21:24:10.800Z"
   },
   {
    "duration": 412,
    "start_time": "2023-01-21T21:24:10.834Z"
   },
   {
    "duration": 430,
    "start_time": "2023-01-21T21:24:11.248Z"
   },
   {
    "duration": 27,
    "start_time": "2023-01-21T21:24:11.680Z"
   },
   {
    "duration": 364,
    "start_time": "2023-01-21T21:24:11.714Z"
   },
   {
    "duration": 30,
    "start_time": "2023-01-21T21:24:12.079Z"
   },
   {
    "duration": 138,
    "start_time": "2023-01-21T21:24:12.119Z"
   },
   {
    "duration": 37,
    "start_time": "2023-01-21T21:24:12.258Z"
   },
   {
    "duration": 43,
    "start_time": "2023-01-21T21:24:12.306Z"
   },
   {
    "duration": 52,
    "start_time": "2023-01-21T21:24:12.351Z"
   },
   {
    "duration": 79,
    "start_time": "2023-01-21T21:24:12.405Z"
   },
   {
    "duration": 177,
    "start_time": "2023-01-21T21:24:12.485Z"
   },
   {
    "duration": 81,
    "start_time": "2023-01-21T21:24:12.664Z"
   },
   {
    "duration": 3420,
    "start_time": "2023-01-21T21:24:12.748Z"
   },
   {
    "duration": 52,
    "start_time": "2023-01-21T21:24:16.170Z"
   },
   {
    "duration": 25,
    "start_time": "2023-01-21T21:24:16.229Z"
   },
   {
    "duration": 133,
    "start_time": "2023-01-21T21:24:16.256Z"
   },
   {
    "duration": 93,
    "start_time": "2023-01-21T21:24:16.391Z"
   },
   {
    "duration": 146,
    "start_time": "2023-01-21T21:24:16.486Z"
   },
   {
    "duration": 273,
    "start_time": "2023-01-21T21:24:16.634Z"
   },
   {
    "duration": 3,
    "start_time": "2023-01-21T21:24:16.912Z"
   },
   {
    "duration": 17,
    "start_time": "2023-01-21T21:24:16.921Z"
   },
   {
    "duration": 17,
    "start_time": "2023-01-21T21:24:59.018Z"
   },
   {
    "duration": 1357,
    "start_time": "2023-01-24T14:07:35.917Z"
   },
   {
    "duration": 3,
    "start_time": "2023-01-24T14:07:45.321Z"
   },
   {
    "duration": 1171,
    "start_time": "2023-01-24T14:07:45.326Z"
   },
   {
    "duration": 150,
    "start_time": "2023-01-24T14:07:46.499Z"
   },
   {
    "duration": 3,
    "start_time": "2023-01-24T14:07:46.650Z"
   },
   {
    "duration": 104,
    "start_time": "2023-01-24T14:07:46.655Z"
   },
   {
    "duration": 5,
    "start_time": "2023-01-24T14:07:46.760Z"
   },
   {
    "duration": 32,
    "start_time": "2023-01-24T14:07:46.767Z"
   },
   {
    "duration": 15,
    "start_time": "2023-01-24T14:07:46.801Z"
   },
   {
    "duration": 13,
    "start_time": "2023-01-24T14:07:46.818Z"
   },
   {
    "duration": 93,
    "start_time": "2023-01-24T14:07:46.832Z"
   },
   {
    "duration": 4,
    "start_time": "2023-01-24T14:07:46.928Z"
   },
   {
    "duration": 375,
    "start_time": "2023-01-24T14:07:46.939Z"
   },
   {
    "duration": 42,
    "start_time": "2023-01-24T14:07:47.316Z"
   },
   {
    "duration": 357,
    "start_time": "2023-01-24T14:07:47.360Z"
   },
   {
    "duration": 365,
    "start_time": "2023-01-24T14:07:47.718Z"
   },
   {
    "duration": 31,
    "start_time": "2023-01-24T14:07:48.084Z"
   },
   {
    "duration": 347,
    "start_time": "2023-01-24T14:07:48.116Z"
   },
   {
    "duration": 409,
    "start_time": "2023-01-24T14:07:48.465Z"
   },
   {
    "duration": 22,
    "start_time": "2023-01-24T14:07:48.876Z"
   },
   {
    "duration": 444,
    "start_time": "2023-01-24T14:07:48.900Z"
   },
   {
    "duration": 12,
    "start_time": "2023-01-24T14:07:49.346Z"
   },
   {
    "duration": 174,
    "start_time": "2023-01-24T14:07:49.360Z"
   },
   {
    "duration": 30,
    "start_time": "2023-01-24T14:07:49.539Z"
   },
   {
    "duration": 42,
    "start_time": "2023-01-24T14:07:49.571Z"
   },
   {
    "duration": 75,
    "start_time": "2023-01-24T14:07:49.615Z"
   },
   {
    "duration": 88,
    "start_time": "2023-01-24T14:07:49.692Z"
   },
   {
    "duration": 168,
    "start_time": "2023-01-24T14:07:49.782Z"
   },
   {
    "duration": 78,
    "start_time": "2023-01-24T14:07:49.952Z"
   },
   {
    "duration": 3054,
    "start_time": "2023-01-24T14:07:50.042Z"
   },
   {
    "duration": 27,
    "start_time": "2023-01-24T14:07:53.098Z"
   },
   {
    "duration": 19,
    "start_time": "2023-01-24T14:07:53.139Z"
   },
   {
    "duration": 153,
    "start_time": "2023-01-24T14:07:53.160Z"
   },
   {
    "duration": 82,
    "start_time": "2023-01-24T14:07:53.315Z"
   },
   {
    "duration": 137,
    "start_time": "2023-01-24T14:07:53.398Z"
   },
   {
    "duration": 260,
    "start_time": "2023-01-24T14:07:53.539Z"
   },
   {
    "duration": 1582,
    "start_time": "2023-01-25T08:44:04.113Z"
   },
   {
    "duration": 3377,
    "start_time": "2023-01-25T08:44:05.697Z"
   },
   {
    "duration": 162,
    "start_time": "2023-01-25T08:44:09.077Z"
   },
   {
    "duration": 3,
    "start_time": "2023-01-25T08:44:09.240Z"
   },
   {
    "duration": 109,
    "start_time": "2023-01-25T08:44:09.245Z"
   },
   {
    "duration": 84,
    "start_time": "2023-01-25T08:44:09.356Z"
   },
   {
    "duration": 0,
    "start_time": "2023-01-25T08:44:09.442Z"
   },
   {
    "duration": 0,
    "start_time": "2023-01-25T08:44:09.444Z"
   },
   {
    "duration": 0,
    "start_time": "2023-01-25T08:44:09.445Z"
   },
   {
    "duration": 0,
    "start_time": "2023-01-25T08:44:09.446Z"
   },
   {
    "duration": 0,
    "start_time": "2023-01-25T08:44:09.448Z"
   },
   {
    "duration": 0,
    "start_time": "2023-01-25T08:44:09.449Z"
   },
   {
    "duration": 0,
    "start_time": "2023-01-25T08:44:09.450Z"
   },
   {
    "duration": 0,
    "start_time": "2023-01-25T08:44:09.451Z"
   },
   {
    "duration": 0,
    "start_time": "2023-01-25T08:44:09.452Z"
   },
   {
    "duration": 0,
    "start_time": "2023-01-25T08:44:09.453Z"
   },
   {
    "duration": 0,
    "start_time": "2023-01-25T08:44:09.454Z"
   },
   {
    "duration": 0,
    "start_time": "2023-01-25T08:44:09.456Z"
   },
   {
    "duration": 0,
    "start_time": "2023-01-25T08:44:09.457Z"
   },
   {
    "duration": 0,
    "start_time": "2023-01-25T08:44:09.458Z"
   },
   {
    "duration": 0,
    "start_time": "2023-01-25T08:44:09.459Z"
   },
   {
    "duration": 0,
    "start_time": "2023-01-25T08:44:09.460Z"
   },
   {
    "duration": 0,
    "start_time": "2023-01-25T08:44:09.461Z"
   },
   {
    "duration": 0,
    "start_time": "2023-01-25T08:44:09.463Z"
   },
   {
    "duration": 0,
    "start_time": "2023-01-25T08:44:09.464Z"
   },
   {
    "duration": 0,
    "start_time": "2023-01-25T08:44:09.466Z"
   },
   {
    "duration": 0,
    "start_time": "2023-01-25T08:44:09.468Z"
   },
   {
    "duration": 0,
    "start_time": "2023-01-25T08:44:09.470Z"
   },
   {
    "duration": 0,
    "start_time": "2023-01-25T08:44:09.471Z"
   },
   {
    "duration": 0,
    "start_time": "2023-01-25T08:44:09.473Z"
   },
   {
    "duration": 0,
    "start_time": "2023-01-25T08:44:09.474Z"
   },
   {
    "duration": 0,
    "start_time": "2023-01-25T08:44:09.476Z"
   },
   {
    "duration": 0,
    "start_time": "2023-01-25T08:44:09.479Z"
   },
   {
    "duration": 0,
    "start_time": "2023-01-25T08:44:09.479Z"
   },
   {
    "duration": 0,
    "start_time": "2023-01-25T08:44:09.481Z"
   },
   {
    "duration": 0,
    "start_time": "2023-01-25T08:44:09.482Z"
   },
   {
    "duration": 2,
    "start_time": "2023-01-25T08:47:24.890Z"
   },
   {
    "duration": 900,
    "start_time": "2023-01-25T08:47:24.894Z"
   },
   {
    "duration": 139,
    "start_time": "2023-01-25T08:47:25.795Z"
   },
   {
    "duration": 2,
    "start_time": "2023-01-25T08:47:25.936Z"
   },
   {
    "duration": 98,
    "start_time": "2023-01-25T08:47:25.939Z"
   },
   {
    "duration": 79,
    "start_time": "2023-01-25T08:47:26.039Z"
   },
   {
    "duration": 0,
    "start_time": "2023-01-25T08:47:26.121Z"
   },
   {
    "duration": 0,
    "start_time": "2023-01-25T08:47:26.121Z"
   },
   {
    "duration": 0,
    "start_time": "2023-01-25T08:47:26.122Z"
   },
   {
    "duration": 0,
    "start_time": "2023-01-25T08:47:26.124Z"
   },
   {
    "duration": 0,
    "start_time": "2023-01-25T08:47:26.124Z"
   },
   {
    "duration": 0,
    "start_time": "2023-01-25T08:47:26.125Z"
   },
   {
    "duration": 0,
    "start_time": "2023-01-25T08:47:26.126Z"
   },
   {
    "duration": 0,
    "start_time": "2023-01-25T08:47:26.127Z"
   },
   {
    "duration": 0,
    "start_time": "2023-01-25T08:47:26.128Z"
   },
   {
    "duration": 0,
    "start_time": "2023-01-25T08:47:26.129Z"
   },
   {
    "duration": 0,
    "start_time": "2023-01-25T08:47:26.130Z"
   },
   {
    "duration": 0,
    "start_time": "2023-01-25T08:47:26.131Z"
   },
   {
    "duration": 0,
    "start_time": "2023-01-25T08:47:26.131Z"
   },
   {
    "duration": 0,
    "start_time": "2023-01-25T08:47:26.133Z"
   },
   {
    "duration": 0,
    "start_time": "2023-01-25T08:47:26.134Z"
   },
   {
    "duration": 0,
    "start_time": "2023-01-25T08:47:26.134Z"
   },
   {
    "duration": 0,
    "start_time": "2023-01-25T08:47:26.135Z"
   },
   {
    "duration": 0,
    "start_time": "2023-01-25T08:47:26.136Z"
   },
   {
    "duration": 0,
    "start_time": "2023-01-25T08:47:26.137Z"
   },
   {
    "duration": 0,
    "start_time": "2023-01-25T08:47:26.138Z"
   },
   {
    "duration": 0,
    "start_time": "2023-01-25T08:47:26.139Z"
   },
   {
    "duration": 0,
    "start_time": "2023-01-25T08:47:26.140Z"
   },
   {
    "duration": 0,
    "start_time": "2023-01-25T08:47:26.141Z"
   },
   {
    "duration": 0,
    "start_time": "2023-01-25T08:47:26.142Z"
   },
   {
    "duration": 0,
    "start_time": "2023-01-25T08:47:26.144Z"
   },
   {
    "duration": 0,
    "start_time": "2023-01-25T08:47:26.145Z"
   },
   {
    "duration": 0,
    "start_time": "2023-01-25T08:47:26.146Z"
   },
   {
    "duration": 0,
    "start_time": "2023-01-25T08:47:26.147Z"
   },
   {
    "duration": 0,
    "start_time": "2023-01-25T08:47:26.148Z"
   },
   {
    "duration": 0,
    "start_time": "2023-01-25T08:47:26.149Z"
   },
   {
    "duration": 3,
    "start_time": "2023-01-25T08:47:41.602Z"
   },
   {
    "duration": 788,
    "start_time": "2023-01-25T08:47:41.618Z"
   },
   {
    "duration": 144,
    "start_time": "2023-01-25T08:47:42.408Z"
   },
   {
    "duration": 3,
    "start_time": "2023-01-25T08:47:42.553Z"
   },
   {
    "duration": 94,
    "start_time": "2023-01-25T08:47:42.558Z"
   },
   {
    "duration": 87,
    "start_time": "2023-01-25T08:47:42.670Z"
   },
   {
    "duration": 0,
    "start_time": "2023-01-25T08:47:42.760Z"
   },
   {
    "duration": 0,
    "start_time": "2023-01-25T08:47:42.761Z"
   },
   {
    "duration": 0,
    "start_time": "2023-01-25T08:47:42.763Z"
   },
   {
    "duration": 0,
    "start_time": "2023-01-25T08:47:42.764Z"
   },
   {
    "duration": 0,
    "start_time": "2023-01-25T08:47:42.766Z"
   },
   {
    "duration": 0,
    "start_time": "2023-01-25T08:47:42.767Z"
   },
   {
    "duration": 0,
    "start_time": "2023-01-25T08:47:42.768Z"
   },
   {
    "duration": 0,
    "start_time": "2023-01-25T08:47:42.774Z"
   },
   {
    "duration": 0,
    "start_time": "2023-01-25T08:47:42.775Z"
   },
   {
    "duration": 0,
    "start_time": "2023-01-25T08:47:42.776Z"
   },
   {
    "duration": 0,
    "start_time": "2023-01-25T08:47:42.777Z"
   },
   {
    "duration": 0,
    "start_time": "2023-01-25T08:47:42.778Z"
   },
   {
    "duration": 0,
    "start_time": "2023-01-25T08:47:42.779Z"
   },
   {
    "duration": 0,
    "start_time": "2023-01-25T08:47:42.783Z"
   },
   {
    "duration": 0,
    "start_time": "2023-01-25T08:47:42.784Z"
   },
   {
    "duration": 0,
    "start_time": "2023-01-25T08:47:42.784Z"
   },
   {
    "duration": 0,
    "start_time": "2023-01-25T08:47:42.787Z"
   },
   {
    "duration": 0,
    "start_time": "2023-01-25T08:47:42.788Z"
   },
   {
    "duration": 0,
    "start_time": "2023-01-25T08:47:42.789Z"
   },
   {
    "duration": 0,
    "start_time": "2023-01-25T08:47:42.790Z"
   },
   {
    "duration": 0,
    "start_time": "2023-01-25T08:47:42.794Z"
   },
   {
    "duration": 0,
    "start_time": "2023-01-25T08:47:42.796Z"
   },
   {
    "duration": 0,
    "start_time": "2023-01-25T08:47:42.797Z"
   },
   {
    "duration": 0,
    "start_time": "2023-01-25T08:47:42.799Z"
   },
   {
    "duration": 0,
    "start_time": "2023-01-25T08:47:42.800Z"
   },
   {
    "duration": 0,
    "start_time": "2023-01-25T08:47:42.802Z"
   },
   {
    "duration": 1,
    "start_time": "2023-01-25T08:47:42.803Z"
   },
   {
    "duration": 0,
    "start_time": "2023-01-25T08:47:42.805Z"
   },
   {
    "duration": 0,
    "start_time": "2023-01-25T08:47:42.807Z"
   },
   {
    "duration": 0,
    "start_time": "2023-01-25T08:47:42.808Z"
   },
   {
    "duration": 3,
    "start_time": "2023-01-25T08:47:49.637Z"
   },
   {
    "duration": 821,
    "start_time": "2023-01-25T08:47:51.419Z"
   },
   {
    "duration": 3,
    "start_time": "2023-01-25T08:48:07.538Z"
   },
   {
    "duration": 848,
    "start_time": "2023-01-25T08:48:07.546Z"
   },
   {
    "duration": 148,
    "start_time": "2023-01-25T08:48:08.397Z"
   },
   {
    "duration": 2,
    "start_time": "2023-01-25T08:48:08.547Z"
   },
   {
    "duration": 131,
    "start_time": "2023-01-25T08:48:08.551Z"
   },
   {
    "duration": 6,
    "start_time": "2023-01-25T08:48:08.684Z"
   },
   {
    "duration": 21,
    "start_time": "2023-01-25T08:48:08.692Z"
   },
   {
    "duration": 10,
    "start_time": "2023-01-25T08:48:08.715Z"
   },
   {
    "duration": 4,
    "start_time": "2023-01-25T08:48:08.727Z"
   },
   {
    "duration": 113,
    "start_time": "2023-01-25T08:48:08.732Z"
   },
   {
    "duration": 4,
    "start_time": "2023-01-25T08:48:08.847Z"
   },
   {
    "duration": 408,
    "start_time": "2023-01-25T08:48:08.853Z"
   },
   {
    "duration": 28,
    "start_time": "2023-01-25T08:48:09.265Z"
   },
   {
    "duration": 381,
    "start_time": "2023-01-25T08:48:09.295Z"
   },
   {
    "duration": 405,
    "start_time": "2023-01-25T08:48:09.678Z"
   },
   {
    "duration": 31,
    "start_time": "2023-01-25T08:48:10.086Z"
   },
   {
    "duration": 351,
    "start_time": "2023-01-25T08:48:10.119Z"
   },
   {
    "duration": 410,
    "start_time": "2023-01-25T08:48:10.472Z"
   },
   {
    "duration": 21,
    "start_time": "2023-01-25T08:48:10.884Z"
   },
   {
    "duration": 380,
    "start_time": "2023-01-25T08:48:10.907Z"
   },
   {
    "duration": 12,
    "start_time": "2023-01-25T08:48:11.289Z"
   },
   {
    "duration": 209,
    "start_time": "2023-01-25T08:48:11.303Z"
   },
   {
    "duration": 38,
    "start_time": "2023-01-25T08:48:11.515Z"
   },
   {
    "duration": 66,
    "start_time": "2023-01-25T08:48:11.555Z"
   },
   {
    "duration": 67,
    "start_time": "2023-01-25T08:48:11.623Z"
   },
   {
    "duration": 96,
    "start_time": "2023-01-25T08:48:11.692Z"
   },
   {
    "duration": 193,
    "start_time": "2023-01-25T08:48:11.789Z"
   },
   {
    "duration": 78,
    "start_time": "2023-01-25T08:48:11.984Z"
   },
   {
    "duration": 3150,
    "start_time": "2023-01-25T08:48:12.066Z"
   },
   {
    "duration": 27,
    "start_time": "2023-01-25T08:48:15.217Z"
   },
   {
    "duration": 41,
    "start_time": "2023-01-25T08:48:15.246Z"
   },
   {
    "duration": 152,
    "start_time": "2023-01-25T08:48:15.292Z"
   },
   {
    "duration": 111,
    "start_time": "2023-01-25T08:48:15.445Z"
   },
   {
    "duration": 155,
    "start_time": "2023-01-25T08:48:15.558Z"
   },
   {
    "duration": 293,
    "start_time": "2023-01-25T08:48:15.715Z"
   },
   {
    "duration": 270,
    "start_time": "2023-01-25T09:01:09.021Z"
   },
   {
    "duration": 13,
    "start_time": "2023-01-25T09:07:31.812Z"
   },
   {
    "duration": 28,
    "start_time": "2023-01-25T09:08:28.655Z"
   },
   {
    "duration": 62,
    "start_time": "2023-01-25T09:09:40.635Z"
   },
   {
    "duration": 66,
    "start_time": "2023-01-25T09:09:45.597Z"
   },
   {
    "duration": 72,
    "start_time": "2023-01-25T09:11:34.629Z"
   },
   {
    "duration": 58,
    "start_time": "2023-01-25T09:12:21.435Z"
   },
   {
    "duration": 78,
    "start_time": "2023-01-25T09:12:52.845Z"
   },
   {
    "duration": 17,
    "start_time": "2023-01-25T09:13:14.229Z"
   },
   {
    "duration": 3,
    "start_time": "2023-01-25T10:41:34.513Z"
   },
   {
    "duration": 3,
    "start_time": "2023-01-25T10:42:14.987Z"
   },
   {
    "duration": 1606,
    "start_time": "2023-01-25T11:38:54.046Z"
   },
   {
    "duration": 3042,
    "start_time": "2023-01-25T11:38:55.654Z"
   },
   {
    "duration": 119,
    "start_time": "2023-01-25T11:38:58.697Z"
   },
   {
    "duration": 2,
    "start_time": "2023-01-25T11:38:58.818Z"
   },
   {
    "duration": 113,
    "start_time": "2023-01-25T11:38:58.821Z"
   },
   {
    "duration": 5,
    "start_time": "2023-01-25T11:38:58.936Z"
   },
   {
    "duration": 46,
    "start_time": "2023-01-25T11:38:58.942Z"
   },
   {
    "duration": 23,
    "start_time": "2023-01-25T11:38:58.990Z"
   },
   {
    "duration": 26,
    "start_time": "2023-01-25T11:38:59.015Z"
   },
   {
    "duration": 94,
    "start_time": "2023-01-25T11:38:59.043Z"
   },
   {
    "duration": 4,
    "start_time": "2023-01-25T11:38:59.138Z"
   },
   {
    "duration": 362,
    "start_time": "2023-01-25T11:38:59.143Z"
   },
   {
    "duration": 33,
    "start_time": "2023-01-25T11:38:59.506Z"
   },
   {
    "duration": 356,
    "start_time": "2023-01-25T11:38:59.541Z"
   },
   {
    "duration": 357,
    "start_time": "2023-01-25T11:38:59.898Z"
   },
   {
    "duration": 34,
    "start_time": "2023-01-25T11:39:00.256Z"
   },
   {
    "duration": 393,
    "start_time": "2023-01-25T11:39:00.292Z"
   },
   {
    "duration": 329,
    "start_time": "2023-01-25T11:39:00.687Z"
   },
   {
    "duration": 22,
    "start_time": "2023-01-25T11:39:01.018Z"
   },
   {
    "duration": 348,
    "start_time": "2023-01-25T11:39:01.043Z"
   },
   {
    "duration": 11,
    "start_time": "2023-01-25T11:39:01.393Z"
   },
   {
    "duration": 175,
    "start_time": "2023-01-25T11:39:01.406Z"
   },
   {
    "duration": 31,
    "start_time": "2023-01-25T11:39:01.583Z"
   },
   {
    "duration": 45,
    "start_time": "2023-01-25T11:39:01.616Z"
   },
   {
    "duration": 67,
    "start_time": "2023-01-25T11:39:01.663Z"
   },
   {
    "duration": 87,
    "start_time": "2023-01-25T11:39:01.732Z"
   },
   {
    "duration": 151,
    "start_time": "2023-01-25T11:39:01.820Z"
   },
   {
    "duration": 69,
    "start_time": "2023-01-25T11:39:01.974Z"
   },
   {
    "duration": 3005,
    "start_time": "2023-01-25T11:39:02.044Z"
   },
   {
    "duration": 33,
    "start_time": "2023-01-25T11:39:05.051Z"
   },
   {
    "duration": 18,
    "start_time": "2023-01-25T11:39:05.086Z"
   },
   {
    "duration": 135,
    "start_time": "2023-01-25T11:39:05.106Z"
   },
   {
    "duration": 75,
    "start_time": "2023-01-25T11:39:05.243Z"
   },
   {
    "duration": 130,
    "start_time": "2023-01-25T11:39:05.320Z"
   },
   {
    "duration": 254,
    "start_time": "2023-01-25T11:39:05.452Z"
   },
   {
    "duration": 12,
    "start_time": "2023-01-25T11:39:05.708Z"
   },
   {
    "duration": 71,
    "start_time": "2023-01-25T11:39:05.722Z"
   },
   {
    "duration": 103,
    "start_time": "2023-01-25T11:39:05.794Z"
   },
   {
    "duration": 0,
    "start_time": "2023-01-25T11:39:05.899Z"
   },
   {
    "duration": 597,
    "start_time": "2023-01-25T11:39:11.561Z"
   },
   {
    "duration": 5,
    "start_time": "2023-01-25T11:39:16.404Z"
   },
   {
    "duration": 3,
    "start_time": "2023-01-25T11:41:21.461Z"
   },
   {
    "duration": 812,
    "start_time": "2023-01-25T11:41:21.466Z"
   },
   {
    "duration": 110,
    "start_time": "2023-01-25T11:41:22.280Z"
   },
   {
    "duration": 3,
    "start_time": "2023-01-25T11:41:22.391Z"
   },
   {
    "duration": 103,
    "start_time": "2023-01-25T11:41:22.396Z"
   },
   {
    "duration": 6,
    "start_time": "2023-01-25T11:41:22.500Z"
   },
   {
    "duration": 22,
    "start_time": "2023-01-25T11:41:22.507Z"
   },
   {
    "duration": 11,
    "start_time": "2023-01-25T11:41:22.530Z"
   },
   {
    "duration": 7,
    "start_time": "2023-01-25T11:41:22.543Z"
   },
   {
    "duration": 95,
    "start_time": "2023-01-25T11:41:22.551Z"
   },
   {
    "duration": 4,
    "start_time": "2023-01-25T11:41:22.649Z"
   },
   {
    "duration": 385,
    "start_time": "2023-01-25T11:41:22.654Z"
   },
   {
    "duration": 29,
    "start_time": "2023-01-25T11:41:23.041Z"
   },
   {
    "duration": 387,
    "start_time": "2023-01-25T11:41:23.072Z"
   },
   {
    "duration": 365,
    "start_time": "2023-01-25T11:41:23.461Z"
   },
   {
    "duration": 28,
    "start_time": "2023-01-25T11:41:23.827Z"
   },
   {
    "duration": 336,
    "start_time": "2023-01-25T11:41:23.857Z"
   },
   {
    "duration": 321,
    "start_time": "2023-01-25T11:41:24.195Z"
   },
   {
    "duration": 27,
    "start_time": "2023-01-25T11:41:24.518Z"
   },
   {
    "duration": 450,
    "start_time": "2023-01-25T11:41:24.547Z"
   },
   {
    "duration": 12,
    "start_time": "2023-01-25T11:41:24.999Z"
   },
   {
    "duration": 137,
    "start_time": "2023-01-25T11:41:25.013Z"
   },
   {
    "duration": 37,
    "start_time": "2023-01-25T11:41:25.152Z"
   },
   {
    "duration": 37,
    "start_time": "2023-01-25T11:41:25.191Z"
   },
   {
    "duration": 68,
    "start_time": "2023-01-25T11:41:25.230Z"
   },
   {
    "duration": 86,
    "start_time": "2023-01-25T11:41:25.300Z"
   },
   {
    "duration": 164,
    "start_time": "2023-01-25T11:41:25.389Z"
   },
   {
    "duration": 89,
    "start_time": "2023-01-25T11:41:25.554Z"
   },
   {
    "duration": 3300,
    "start_time": "2023-01-25T11:41:25.645Z"
   },
   {
    "duration": 26,
    "start_time": "2023-01-25T11:41:28.947Z"
   },
   {
    "duration": 17,
    "start_time": "2023-01-25T11:41:28.980Z"
   },
   {
    "duration": 126,
    "start_time": "2023-01-25T11:41:28.999Z"
   },
   {
    "duration": 99,
    "start_time": "2023-01-25T11:41:29.127Z"
   },
   {
    "duration": 175,
    "start_time": "2023-01-25T11:41:29.228Z"
   },
   {
    "duration": 303,
    "start_time": "2023-01-25T11:41:29.405Z"
   },
   {
    "duration": 16,
    "start_time": "2023-01-25T11:41:29.710Z"
   },
   {
    "duration": 75,
    "start_time": "2023-01-25T11:41:29.728Z"
   },
   {
    "duration": 92,
    "start_time": "2023-01-25T11:41:29.805Z"
   },
   {
    "duration": 0,
    "start_time": "2023-01-25T11:41:29.899Z"
   },
   {
    "duration": 0,
    "start_time": "2023-01-25T11:41:29.900Z"
   },
   {
    "duration": 19,
    "start_time": "2023-01-25T11:41:52.052Z"
   },
   {
    "duration": 18,
    "start_time": "2023-01-25T11:42:13.189Z"
   },
   {
    "duration": 112,
    "start_time": "2023-01-25T13:37:19.043Z"
   },
   {
    "duration": 18,
    "start_time": "2023-01-25T13:38:45.869Z"
   },
   {
    "duration": 85,
    "start_time": "2023-01-25T13:40:31.319Z"
   },
   {
    "duration": 84,
    "start_time": "2023-01-25T13:40:58.111Z"
   },
   {
    "duration": 70,
    "start_time": "2023-01-25T13:42:41.615Z"
   },
   {
    "duration": 384,
    "start_time": "2023-01-25T13:49:00.069Z"
   },
   {
    "duration": 17,
    "start_time": "2023-01-25T13:49:21.437Z"
   },
   {
    "duration": 83,
    "start_time": "2023-01-25T13:50:11.244Z"
   },
   {
    "duration": 90,
    "start_time": "2023-01-25T13:50:27.379Z"
   },
   {
    "duration": 12,
    "start_time": "2023-01-25T13:50:35.565Z"
   },
   {
    "duration": 10,
    "start_time": "2023-01-25T13:50:43.459Z"
   },
   {
    "duration": 78,
    "start_time": "2023-01-25T13:51:13.545Z"
   },
   {
    "duration": 80,
    "start_time": "2023-01-25T13:51:36.306Z"
   },
   {
    "duration": 379,
    "start_time": "2023-01-25T13:51:43.138Z"
   },
   {
    "duration": 379,
    "start_time": "2023-01-25T13:52:17.743Z"
   },
   {
    "duration": 11,
    "start_time": "2023-01-25T13:52:27.243Z"
   },
   {
    "duration": 409,
    "start_time": "2023-01-25T13:52:46.792Z"
   },
   {
    "duration": 17,
    "start_time": "2023-01-25T13:53:06.397Z"
   },
   {
    "duration": 113,
    "start_time": "2023-01-25T13:54:29.603Z"
   },
   {
    "duration": 110,
    "start_time": "2023-01-25T13:54:48.955Z"
   },
   {
    "duration": 309,
    "start_time": "2023-01-25T14:03:07.905Z"
   },
   {
    "duration": 362,
    "start_time": "2023-01-25T14:03:25.868Z"
   },
   {
    "duration": 22,
    "start_time": "2023-01-25T14:03:42.250Z"
   },
   {
    "duration": 511,
    "start_time": "2023-01-25T14:04:21.927Z"
   },
   {
    "duration": 6,
    "start_time": "2023-01-25T14:04:35.990Z"
   },
   {
    "duration": 835,
    "start_time": "2023-01-25T14:04:35.998Z"
   },
   {
    "duration": 118,
    "start_time": "2023-01-25T14:04:36.835Z"
   },
   {
    "duration": 3,
    "start_time": "2023-01-25T14:04:36.954Z"
   },
   {
    "duration": 112,
    "start_time": "2023-01-25T14:04:36.959Z"
   },
   {
    "duration": 13,
    "start_time": "2023-01-25T14:04:37.083Z"
   },
   {
    "duration": 17,
    "start_time": "2023-01-25T14:04:37.098Z"
   },
   {
    "duration": 12,
    "start_time": "2023-01-25T14:04:37.117Z"
   },
   {
    "duration": 5,
    "start_time": "2023-01-25T14:04:37.131Z"
   },
   {
    "duration": 99,
    "start_time": "2023-01-25T14:04:37.138Z"
   },
   {
    "duration": 4,
    "start_time": "2023-01-25T14:04:37.238Z"
   },
   {
    "duration": 513,
    "start_time": "2023-01-25T14:04:37.244Z"
   },
   {
    "duration": 38,
    "start_time": "2023-01-25T14:04:37.759Z"
   },
   {
    "duration": 410,
    "start_time": "2023-01-25T14:04:37.800Z"
   },
   {
    "duration": 401,
    "start_time": "2023-01-25T14:04:38.212Z"
   },
   {
    "duration": 31,
    "start_time": "2023-01-25T14:04:38.615Z"
   },
   {
    "duration": 367,
    "start_time": "2023-01-25T14:04:38.648Z"
   },
   {
    "duration": 378,
    "start_time": "2023-01-25T14:04:39.017Z"
   },
   {
    "duration": 23,
    "start_time": "2023-01-25T14:04:39.397Z"
   },
   {
    "duration": 476,
    "start_time": "2023-01-25T14:04:39.422Z"
   },
   {
    "duration": 11,
    "start_time": "2023-01-25T14:04:39.901Z"
   },
   {
    "duration": 141,
    "start_time": "2023-01-25T14:04:39.914Z"
   },
   {
    "duration": 46,
    "start_time": "2023-01-25T14:04:40.057Z"
   },
   {
    "duration": 37,
    "start_time": "2023-01-25T14:04:40.104Z"
   },
   {
    "duration": 59,
    "start_time": "2023-01-25T14:04:40.143Z"
   },
   {
    "duration": 87,
    "start_time": "2023-01-25T14:04:40.204Z"
   },
   {
    "duration": 170,
    "start_time": "2023-01-25T14:04:40.297Z"
   },
   {
    "duration": 78,
    "start_time": "2023-01-25T14:04:40.469Z"
   },
   {
    "duration": 3203,
    "start_time": "2023-01-25T14:04:40.549Z"
   },
   {
    "duration": 40,
    "start_time": "2023-01-25T14:04:43.754Z"
   },
   {
    "duration": 17,
    "start_time": "2023-01-25T14:04:43.796Z"
   },
   {
    "duration": 134,
    "start_time": "2023-01-25T14:04:43.815Z"
   },
   {
    "duration": 86,
    "start_time": "2023-01-25T14:04:43.950Z"
   },
   {
    "duration": 155,
    "start_time": "2023-01-25T14:04:44.038Z"
   },
   {
    "duration": 264,
    "start_time": "2023-01-25T14:04:44.195Z"
   },
   {
    "duration": 26,
    "start_time": "2023-01-25T14:04:44.461Z"
   },
   {
    "duration": 57,
    "start_time": "2023-01-25T14:04:44.489Z"
   },
   {
    "duration": 16,
    "start_time": "2023-01-25T14:04:44.548Z"
   },
   {
    "duration": 31,
    "start_time": "2023-01-25T14:04:44.565Z"
   },
   {
    "duration": 0,
    "start_time": "2023-01-25T14:04:44.598Z"
   },
   {
    "duration": 0,
    "start_time": "2023-01-25T14:04:44.599Z"
   },
   {
    "duration": 0,
    "start_time": "2023-01-25T14:04:44.600Z"
   },
   {
    "duration": 504,
    "start_time": "2023-01-25T14:05:23.467Z"
   },
   {
    "duration": 24,
    "start_time": "2023-01-25T14:06:47.548Z"
   },
   {
    "duration": 1495,
    "start_time": "2023-01-25T19:39:28.063Z"
   },
   {
    "duration": 1060,
    "start_time": "2023-01-25T19:39:29.560Z"
   },
   {
    "duration": 127,
    "start_time": "2023-01-25T19:39:30.622Z"
   },
   {
    "duration": 11,
    "start_time": "2023-01-25T19:39:30.751Z"
   },
   {
    "duration": 166,
    "start_time": "2023-01-25T19:39:30.765Z"
   },
   {
    "duration": 5,
    "start_time": "2023-01-25T19:39:30.933Z"
   },
   {
    "duration": 50,
    "start_time": "2023-01-25T19:39:30.941Z"
   },
   {
    "duration": 35,
    "start_time": "2023-01-25T19:39:30.993Z"
   },
   {
    "duration": 16,
    "start_time": "2023-01-25T19:39:31.030Z"
   },
   {
    "duration": 98,
    "start_time": "2023-01-25T19:39:31.048Z"
   },
   {
    "duration": 11,
    "start_time": "2023-01-25T19:39:31.148Z"
   },
   {
    "duration": 369,
    "start_time": "2023-01-25T19:39:31.160Z"
   },
   {
    "duration": 32,
    "start_time": "2023-01-25T19:39:31.531Z"
   },
   {
    "duration": 354,
    "start_time": "2023-01-25T19:39:31.566Z"
   },
   {
    "duration": 366,
    "start_time": "2023-01-25T19:39:31.922Z"
   },
   {
    "duration": 38,
    "start_time": "2023-01-25T19:39:32.291Z"
   },
   {
    "duration": 398,
    "start_time": "2023-01-25T19:39:32.331Z"
   },
   {
    "duration": 332,
    "start_time": "2023-01-25T19:39:32.730Z"
   },
   {
    "duration": 35,
    "start_time": "2023-01-25T19:39:33.064Z"
   },
   {
    "duration": 342,
    "start_time": "2023-01-25T19:39:33.101Z"
   },
   {
    "duration": 11,
    "start_time": "2023-01-25T19:39:33.445Z"
   },
   {
    "duration": 121,
    "start_time": "2023-01-25T19:39:33.457Z"
   },
   {
    "duration": 32,
    "start_time": "2023-01-25T19:39:33.585Z"
   },
   {
    "duration": 33,
    "start_time": "2023-01-25T19:39:33.619Z"
   },
   {
    "duration": 78,
    "start_time": "2023-01-25T19:39:33.654Z"
   },
   {
    "duration": 84,
    "start_time": "2023-01-25T19:39:33.734Z"
   },
   {
    "duration": 153,
    "start_time": "2023-01-25T19:39:33.819Z"
   },
   {
    "duration": 74,
    "start_time": "2023-01-25T19:39:33.974Z"
   },
   {
    "duration": 3018,
    "start_time": "2023-01-25T19:39:34.050Z"
   },
   {
    "duration": 42,
    "start_time": "2023-01-25T19:39:37.070Z"
   },
   {
    "duration": 25,
    "start_time": "2023-01-25T19:39:37.114Z"
   },
   {
    "duration": 134,
    "start_time": "2023-01-25T19:39:37.141Z"
   },
   {
    "duration": 76,
    "start_time": "2023-01-25T19:39:37.276Z"
   },
   {
    "duration": 139,
    "start_time": "2023-01-25T19:39:37.353Z"
   },
   {
    "duration": 243,
    "start_time": "2023-01-25T19:39:37.494Z"
   },
   {
    "duration": 13,
    "start_time": "2023-01-25T19:39:37.739Z"
   },
   {
    "duration": 71,
    "start_time": "2023-01-25T19:39:37.754Z"
   },
   {
    "duration": 14,
    "start_time": "2023-01-25T19:39:37.827Z"
   },
   {
    "duration": 351,
    "start_time": "2023-01-25T19:39:37.843Z"
   },
   {
    "duration": 19,
    "start_time": "2023-01-25T19:39:38.196Z"
   },
   {
    "duration": 20,
    "start_time": "2023-01-25T19:39:38.218Z"
   },
   {
    "duration": 118,
    "start_time": "2023-01-25T19:41:04.188Z"
   },
   {
    "duration": 3,
    "start_time": "2023-01-25T19:41:13.206Z"
   },
   {
    "duration": 4,
    "start_time": "2023-01-25T19:41:17.355Z"
   },
   {
    "duration": 783,
    "start_time": "2023-01-25T19:41:17.361Z"
   },
   {
    "duration": 155,
    "start_time": "2023-01-25T19:41:18.146Z"
   },
   {
    "duration": 5,
    "start_time": "2023-01-25T19:41:18.303Z"
   },
   {
    "duration": 102,
    "start_time": "2023-01-25T19:41:18.310Z"
   },
   {
    "duration": 5,
    "start_time": "2023-01-25T19:41:18.414Z"
   },
   {
    "duration": 25,
    "start_time": "2023-01-25T19:41:18.421Z"
   },
   {
    "duration": 13,
    "start_time": "2023-01-25T19:41:18.447Z"
   },
   {
    "duration": 5,
    "start_time": "2023-01-25T19:41:18.462Z"
   },
   {
    "duration": 89,
    "start_time": "2023-01-25T19:41:18.468Z"
   },
   {
    "duration": 4,
    "start_time": "2023-01-25T19:41:18.560Z"
   },
   {
    "duration": 364,
    "start_time": "2023-01-25T19:41:18.566Z"
   },
   {
    "duration": 29,
    "start_time": "2023-01-25T19:41:18.932Z"
   },
   {
    "duration": 382,
    "start_time": "2023-01-25T19:41:18.963Z"
   },
   {
    "duration": 363,
    "start_time": "2023-01-25T19:41:19.347Z"
   },
   {
    "duration": 30,
    "start_time": "2023-01-25T19:41:19.713Z"
   },
   {
    "duration": 342,
    "start_time": "2023-01-25T19:41:19.746Z"
   },
   {
    "duration": 317,
    "start_time": "2023-01-25T19:41:20.090Z"
   },
   {
    "duration": 24,
    "start_time": "2023-01-25T19:41:20.409Z"
   },
   {
    "duration": 474,
    "start_time": "2023-01-25T19:41:20.434Z"
   },
   {
    "duration": 11,
    "start_time": "2023-01-25T19:41:20.910Z"
   },
   {
    "duration": 138,
    "start_time": "2023-01-25T19:41:20.922Z"
   },
   {
    "duration": 36,
    "start_time": "2023-01-25T19:41:21.062Z"
   },
   {
    "duration": 38,
    "start_time": "2023-01-25T19:41:21.100Z"
   },
   {
    "duration": 58,
    "start_time": "2023-01-25T19:41:21.140Z"
   },
   {
    "duration": 80,
    "start_time": "2023-01-25T19:41:21.200Z"
   },
   {
    "duration": 157,
    "start_time": "2023-01-25T19:41:21.284Z"
   },
   {
    "duration": 97,
    "start_time": "2023-01-25T19:41:21.443Z"
   },
   {
    "duration": 3134,
    "start_time": "2023-01-25T19:41:21.544Z"
   },
   {
    "duration": 30,
    "start_time": "2023-01-25T19:41:24.680Z"
   },
   {
    "duration": 33,
    "start_time": "2023-01-25T19:41:24.712Z"
   },
   {
    "duration": 148,
    "start_time": "2023-01-25T19:41:24.746Z"
   },
   {
    "duration": 74,
    "start_time": "2023-01-25T19:41:24.895Z"
   },
   {
    "duration": 136,
    "start_time": "2023-01-25T19:41:24.972Z"
   },
   {
    "duration": 258,
    "start_time": "2023-01-25T19:41:25.110Z"
   },
   {
    "duration": 16,
    "start_time": "2023-01-25T19:41:25.370Z"
   },
   {
    "duration": 102,
    "start_time": "2023-01-25T19:41:25.387Z"
   },
   {
    "duration": 23,
    "start_time": "2023-01-25T19:41:25.492Z"
   },
   {
    "duration": 14,
    "start_time": "2023-01-25T19:41:25.517Z"
   },
   {
    "duration": 397,
    "start_time": "2023-01-25T19:41:25.533Z"
   },
   {
    "duration": 16,
    "start_time": "2023-01-25T19:41:25.931Z"
   },
   {
    "duration": 37,
    "start_time": "2023-01-25T19:41:25.949Z"
   },
   {
    "duration": 18,
    "start_time": "2023-01-25T19:43:51.003Z"
   },
   {
    "duration": 374,
    "start_time": "2023-01-25T19:44:01.162Z"
   },
   {
    "duration": 4,
    "start_time": "2023-01-25T19:46:10.728Z"
   },
   {
    "duration": 717,
    "start_time": "2023-01-25T19:46:10.734Z"
   },
   {
    "duration": 109,
    "start_time": "2023-01-25T19:46:11.452Z"
   },
   {
    "duration": 2,
    "start_time": "2023-01-25T19:46:11.563Z"
   },
   {
    "duration": 92,
    "start_time": "2023-01-25T19:46:11.567Z"
   },
   {
    "duration": 5,
    "start_time": "2023-01-25T19:46:11.661Z"
   },
   {
    "duration": 27,
    "start_time": "2023-01-25T19:46:11.668Z"
   },
   {
    "duration": 10,
    "start_time": "2023-01-25T19:46:11.697Z"
   },
   {
    "duration": 4,
    "start_time": "2023-01-25T19:46:11.709Z"
   },
   {
    "duration": 78,
    "start_time": "2023-01-25T19:46:11.714Z"
   },
   {
    "duration": 4,
    "start_time": "2023-01-25T19:46:11.794Z"
   },
   {
    "duration": 390,
    "start_time": "2023-01-25T19:46:11.800Z"
   },
   {
    "duration": 29,
    "start_time": "2023-01-25T19:46:12.192Z"
   },
   {
    "duration": 335,
    "start_time": "2023-01-25T19:46:12.222Z"
   },
   {
    "duration": 333,
    "start_time": "2023-01-25T19:46:12.559Z"
   },
   {
    "duration": 29,
    "start_time": "2023-01-25T19:46:12.894Z"
   },
   {
    "duration": 322,
    "start_time": "2023-01-25T19:46:12.925Z"
   },
   {
    "duration": 301,
    "start_time": "2023-01-25T19:46:13.249Z"
   },
   {
    "duration": 21,
    "start_time": "2023-01-25T19:46:13.552Z"
   },
   {
    "duration": 423,
    "start_time": "2023-01-25T19:46:13.575Z"
   },
   {
    "duration": 11,
    "start_time": "2023-01-25T19:46:14.000Z"
   },
   {
    "duration": 121,
    "start_time": "2023-01-25T19:46:14.013Z"
   },
   {
    "duration": 25,
    "start_time": "2023-01-25T19:46:14.136Z"
   },
   {
    "duration": 61,
    "start_time": "2023-01-25T19:46:14.162Z"
   },
   {
    "duration": 47,
    "start_time": "2023-01-25T19:46:14.225Z"
   },
   {
    "duration": 74,
    "start_time": "2023-01-25T19:46:14.273Z"
   },
   {
    "duration": 150,
    "start_time": "2023-01-25T19:46:14.349Z"
   },
   {
    "duration": 65,
    "start_time": "2023-01-25T19:46:14.501Z"
   },
   {
    "duration": 2859,
    "start_time": "2023-01-25T19:46:14.569Z"
   },
   {
    "duration": 26,
    "start_time": "2023-01-25T19:46:17.430Z"
   },
   {
    "duration": 30,
    "start_time": "2023-01-25T19:46:17.458Z"
   },
   {
    "duration": 108,
    "start_time": "2023-01-25T19:46:17.489Z"
   },
   {
    "duration": 69,
    "start_time": "2023-01-25T19:46:17.598Z"
   },
   {
    "duration": 129,
    "start_time": "2023-01-25T19:46:17.669Z"
   },
   {
    "duration": 241,
    "start_time": "2023-01-25T19:46:17.800Z"
   },
   {
    "duration": 14,
    "start_time": "2023-01-25T19:46:18.043Z"
   },
   {
    "duration": 69,
    "start_time": "2023-01-25T19:46:18.058Z"
   },
   {
    "duration": 14,
    "start_time": "2023-01-25T19:46:18.129Z"
   },
   {
    "duration": 332,
    "start_time": "2023-01-25T19:46:18.144Z"
   },
   {
    "duration": 0,
    "start_time": "2023-01-25T19:46:18.477Z"
   },
   {
    "duration": 0,
    "start_time": "2023-01-25T19:46:18.478Z"
   },
   {
    "duration": 0,
    "start_time": "2023-01-25T19:46:18.479Z"
   },
   {
    "duration": 69,
    "start_time": "2023-01-25T19:46:39.648Z"
   },
   {
    "duration": 19,
    "start_time": "2023-01-25T19:50:31.619Z"
   },
   {
    "duration": 14,
    "start_time": "2023-01-25T19:50:42.248Z"
   },
   {
    "duration": 29,
    "start_time": "2023-01-25T19:50:48.914Z"
   },
   {
    "duration": 2,
    "start_time": "2023-01-25T19:51:08.688Z"
   },
   {
    "duration": 14,
    "start_time": "2023-01-25T19:51:12.288Z"
   },
   {
    "duration": 17,
    "start_time": "2023-01-25T19:51:23.960Z"
   },
   {
    "duration": 667,
    "start_time": "2023-01-25T19:51:45.823Z"
   },
   {
    "duration": 12,
    "start_time": "2023-01-25T19:51:57.525Z"
   },
   {
    "duration": 2,
    "start_time": "2023-01-25T19:52:46.317Z"
   },
   {
    "duration": 50,
    "start_time": "2023-01-25T19:52:55.816Z"
   },
   {
    "duration": 71,
    "start_time": "2023-01-25T19:53:15.270Z"
   },
   {
    "duration": 355,
    "start_time": "2023-01-25T19:53:52.336Z"
   },
   {
    "duration": 338,
    "start_time": "2023-01-25T19:54:28.992Z"
   },
   {
    "duration": 22,
    "start_time": "2023-01-25T19:57:54.407Z"
   },
   {
    "duration": 18,
    "start_time": "2023-01-25T19:58:11.026Z"
   },
   {
    "duration": 4,
    "start_time": "2023-01-25T19:58:20.615Z"
   },
   {
    "duration": 724,
    "start_time": "2023-01-25T19:58:20.621Z"
   },
   {
    "duration": 111,
    "start_time": "2023-01-25T19:58:21.348Z"
   },
   {
    "duration": 2,
    "start_time": "2023-01-25T19:58:21.461Z"
   },
   {
    "duration": 98,
    "start_time": "2023-01-25T19:58:21.465Z"
   },
   {
    "duration": 6,
    "start_time": "2023-01-25T19:58:21.565Z"
   },
   {
    "duration": 17,
    "start_time": "2023-01-25T19:58:21.586Z"
   },
   {
    "duration": 15,
    "start_time": "2023-01-25T19:58:21.605Z"
   },
   {
    "duration": 6,
    "start_time": "2023-01-25T19:58:21.622Z"
   },
   {
    "duration": 92,
    "start_time": "2023-01-25T19:58:21.630Z"
   },
   {
    "duration": 4,
    "start_time": "2023-01-25T19:58:21.725Z"
   },
   {
    "duration": 416,
    "start_time": "2023-01-25T19:58:21.730Z"
   },
   {
    "duration": 25,
    "start_time": "2023-01-25T19:58:22.149Z"
   },
   {
    "duration": 384,
    "start_time": "2023-01-25T19:58:22.177Z"
   },
   {
    "duration": 349,
    "start_time": "2023-01-25T19:58:22.563Z"
   },
   {
    "duration": 29,
    "start_time": "2023-01-25T19:58:22.914Z"
   },
   {
    "duration": 325,
    "start_time": "2023-01-25T19:58:22.944Z"
   },
   {
    "duration": 309,
    "start_time": "2023-01-25T19:58:23.271Z"
   },
   {
    "duration": 24,
    "start_time": "2023-01-25T19:58:23.581Z"
   },
   {
    "duration": 324,
    "start_time": "2023-01-25T19:58:23.606Z"
   },
   {
    "duration": 14,
    "start_time": "2023-01-25T19:58:23.932Z"
   },
   {
    "duration": 124,
    "start_time": "2023-01-25T19:58:23.948Z"
   },
   {
    "duration": 28,
    "start_time": "2023-01-25T19:58:24.073Z"
   },
   {
    "duration": 35,
    "start_time": "2023-01-25T19:58:24.102Z"
   },
   {
    "duration": 66,
    "start_time": "2023-01-25T19:58:24.139Z"
   },
   {
    "duration": 80,
    "start_time": "2023-01-25T19:58:24.207Z"
   },
   {
    "duration": 238,
    "start_time": "2023-01-25T19:58:24.288Z"
   },
   {
    "duration": 73,
    "start_time": "2023-01-25T19:58:24.528Z"
   },
   {
    "duration": 2874,
    "start_time": "2023-01-25T19:58:24.603Z"
   },
   {
    "duration": 29,
    "start_time": "2023-01-25T19:58:27.478Z"
   },
   {
    "duration": 21,
    "start_time": "2023-01-25T19:58:27.509Z"
   },
   {
    "duration": 172,
    "start_time": "2023-01-25T19:58:27.532Z"
   },
   {
    "duration": 81,
    "start_time": "2023-01-25T19:58:27.706Z"
   },
   {
    "duration": 119,
    "start_time": "2023-01-25T19:58:27.789Z"
   },
   {
    "duration": 227,
    "start_time": "2023-01-25T19:58:27.910Z"
   },
   {
    "duration": 14,
    "start_time": "2023-01-25T19:58:28.139Z"
   },
   {
    "duration": 71,
    "start_time": "2023-01-25T19:58:28.157Z"
   },
   {
    "duration": 15,
    "start_time": "2023-01-25T19:58:28.230Z"
   },
   {
    "duration": 274,
    "start_time": "2023-01-25T19:58:28.247Z"
   },
   {
    "duration": 276,
    "start_time": "2023-01-25T19:58:28.523Z"
   },
   {
    "duration": 15,
    "start_time": "2023-01-25T19:58:28.800Z"
   },
   {
    "duration": 15,
    "start_time": "2023-01-25T19:58:28.817Z"
   },
   {
    "duration": 19,
    "start_time": "2023-01-25T19:58:50.489Z"
   },
   {
    "duration": 14,
    "start_time": "2023-01-25T19:59:12.826Z"
   },
   {
    "duration": 290,
    "start_time": "2023-01-25T20:04:00.517Z"
   },
   {
    "duration": 3,
    "start_time": "2023-01-25T20:04:15.204Z"
   },
   {
    "duration": 777,
    "start_time": "2023-01-25T20:04:15.209Z"
   },
   {
    "duration": 116,
    "start_time": "2023-01-25T20:04:15.988Z"
   },
   {
    "duration": 4,
    "start_time": "2023-01-25T20:04:16.106Z"
   },
   {
    "duration": 100,
    "start_time": "2023-01-25T20:04:16.127Z"
   },
   {
    "duration": 6,
    "start_time": "2023-01-25T20:04:16.230Z"
   },
   {
    "duration": 43,
    "start_time": "2023-01-25T20:04:16.238Z"
   },
   {
    "duration": 11,
    "start_time": "2023-01-25T20:04:16.283Z"
   },
   {
    "duration": 13,
    "start_time": "2023-01-25T20:04:16.297Z"
   },
   {
    "duration": 74,
    "start_time": "2023-01-25T20:04:16.312Z"
   },
   {
    "duration": 5,
    "start_time": "2023-01-25T20:04:16.390Z"
   },
   {
    "duration": 344,
    "start_time": "2023-01-25T20:04:16.397Z"
   },
   {
    "duration": 30,
    "start_time": "2023-01-25T20:04:16.742Z"
   },
   {
    "duration": 410,
    "start_time": "2023-01-25T20:04:16.773Z"
   },
   {
    "duration": 380,
    "start_time": "2023-01-25T20:04:17.185Z"
   },
   {
    "duration": 44,
    "start_time": "2023-01-25T20:04:17.567Z"
   },
   {
    "duration": 352,
    "start_time": "2023-01-25T20:04:17.613Z"
   },
   {
    "duration": 320,
    "start_time": "2023-01-25T20:04:17.969Z"
   },
   {
    "duration": 28,
    "start_time": "2023-01-25T20:04:18.291Z"
   },
   {
    "duration": 416,
    "start_time": "2023-01-25T20:04:18.321Z"
   },
   {
    "duration": 17,
    "start_time": "2023-01-25T20:04:18.739Z"
   },
   {
    "duration": 151,
    "start_time": "2023-01-25T20:04:18.758Z"
   },
   {
    "duration": 34,
    "start_time": "2023-01-25T20:04:18.911Z"
   },
   {
    "duration": 59,
    "start_time": "2023-01-25T20:04:18.947Z"
   },
   {
    "duration": 81,
    "start_time": "2023-01-25T20:04:19.008Z"
   },
   {
    "duration": 111,
    "start_time": "2023-01-25T20:04:19.092Z"
   },
   {
    "duration": 228,
    "start_time": "2023-01-25T20:04:19.205Z"
   },
   {
    "duration": 83,
    "start_time": "2023-01-25T20:04:19.435Z"
   },
   {
    "duration": 2943,
    "start_time": "2023-01-25T20:04:19.522Z"
   },
   {
    "duration": 31,
    "start_time": "2023-01-25T20:04:22.467Z"
   },
   {
    "duration": 23,
    "start_time": "2023-01-25T20:04:22.500Z"
   },
   {
    "duration": 115,
    "start_time": "2023-01-25T20:04:22.525Z"
   },
   {
    "duration": 75,
    "start_time": "2023-01-25T20:04:22.641Z"
   },
   {
    "duration": 123,
    "start_time": "2023-01-25T20:04:22.717Z"
   },
   {
    "duration": 254,
    "start_time": "2023-01-25T20:04:22.842Z"
   },
   {
    "duration": 14,
    "start_time": "2023-01-25T20:04:23.098Z"
   },
   {
    "duration": 61,
    "start_time": "2023-01-25T20:04:23.114Z"
   },
   {
    "duration": 22,
    "start_time": "2023-01-25T20:04:23.176Z"
   },
   {
    "duration": 373,
    "start_time": "2023-01-25T20:04:23.200Z"
   },
   {
    "duration": 17,
    "start_time": "2023-01-25T20:04:23.575Z"
   },
   {
    "duration": 22,
    "start_time": "2023-01-25T20:04:23.593Z"
   },
   {
    "duration": 0,
    "start_time": "2023-01-25T20:04:23.617Z"
   },
   {
    "duration": 0,
    "start_time": "2023-01-25T20:04:23.618Z"
   },
   {
    "duration": 21,
    "start_time": "2023-01-25T20:08:04.349Z"
   },
   {
    "duration": 17,
    "start_time": "2023-01-25T20:08:40.309Z"
   },
   {
    "duration": 2,
    "start_time": "2023-01-25T20:21:01.275Z"
   },
   {
    "duration": 814,
    "start_time": "2023-01-25T20:21:01.280Z"
   },
   {
    "duration": 102,
    "start_time": "2023-01-25T20:21:02.097Z"
   },
   {
    "duration": 3,
    "start_time": "2023-01-25T20:21:02.202Z"
   },
   {
    "duration": 114,
    "start_time": "2023-01-25T20:21:02.207Z"
   },
   {
    "duration": 5,
    "start_time": "2023-01-25T20:21:02.322Z"
   },
   {
    "duration": 22,
    "start_time": "2023-01-25T20:21:02.329Z"
   },
   {
    "duration": 21,
    "start_time": "2023-01-25T20:21:02.352Z"
   },
   {
    "duration": 5,
    "start_time": "2023-01-25T20:21:02.375Z"
   },
   {
    "duration": 68,
    "start_time": "2023-01-25T20:21:02.385Z"
   },
   {
    "duration": 4,
    "start_time": "2023-01-25T20:21:02.455Z"
   },
   {
    "duration": 372,
    "start_time": "2023-01-25T20:21:02.461Z"
   },
   {
    "duration": 25,
    "start_time": "2023-01-25T20:21:02.835Z"
   },
   {
    "duration": 495,
    "start_time": "2023-01-25T20:21:02.862Z"
   },
   {
    "duration": 346,
    "start_time": "2023-01-25T20:21:03.359Z"
   },
   {
    "duration": 27,
    "start_time": "2023-01-25T20:21:03.706Z"
   },
   {
    "duration": 320,
    "start_time": "2023-01-25T20:21:03.735Z"
   },
   {
    "duration": 335,
    "start_time": "2023-01-25T20:21:04.057Z"
   },
   {
    "duration": 22,
    "start_time": "2023-01-25T20:21:04.395Z"
   },
   {
    "duration": 334,
    "start_time": "2023-01-25T20:21:04.419Z"
   },
   {
    "duration": 11,
    "start_time": "2023-01-25T20:21:04.755Z"
   },
   {
    "duration": 147,
    "start_time": "2023-01-25T20:21:04.768Z"
   },
   {
    "duration": 25,
    "start_time": "2023-01-25T20:21:04.916Z"
   },
   {
    "duration": 49,
    "start_time": "2023-01-25T20:21:04.945Z"
   },
   {
    "duration": 44,
    "start_time": "2023-01-25T20:21:04.995Z"
   },
   {
    "duration": 93,
    "start_time": "2023-01-25T20:21:05.041Z"
   },
   {
    "duration": 165,
    "start_time": "2023-01-25T20:21:05.136Z"
   },
   {
    "duration": 84,
    "start_time": "2023-01-25T20:21:05.303Z"
   },
   {
    "duration": 2987,
    "start_time": "2023-01-25T20:21:05.389Z"
   },
   {
    "duration": 36,
    "start_time": "2023-01-25T20:21:08.377Z"
   },
   {
    "duration": 25,
    "start_time": "2023-01-25T20:21:08.415Z"
   },
   {
    "duration": 150,
    "start_time": "2023-01-25T20:21:08.443Z"
   },
   {
    "duration": 73,
    "start_time": "2023-01-25T20:21:08.594Z"
   },
   {
    "duration": 130,
    "start_time": "2023-01-25T20:21:08.670Z"
   },
   {
    "duration": 253,
    "start_time": "2023-01-25T20:21:08.801Z"
   },
   {
    "duration": 12,
    "start_time": "2023-01-25T20:21:09.056Z"
   },
   {
    "duration": 69,
    "start_time": "2023-01-25T20:21:09.070Z"
   },
   {
    "duration": 15,
    "start_time": "2023-01-25T20:21:09.140Z"
   },
   {
    "duration": 22,
    "start_time": "2023-01-25T20:21:09.157Z"
   },
   {
    "duration": 0,
    "start_time": "2023-01-25T20:21:09.181Z"
   },
   {
    "duration": 0,
    "start_time": "2023-01-25T20:21:09.186Z"
   },
   {
    "duration": 0,
    "start_time": "2023-01-25T20:21:09.187Z"
   },
   {
    "duration": 0,
    "start_time": "2023-01-25T20:21:09.188Z"
   },
   {
    "duration": 0,
    "start_time": "2023-01-25T20:21:09.189Z"
   },
   {
    "duration": 1872,
    "start_time": "2023-01-26T06:15:35.950Z"
   },
   {
    "duration": 3564,
    "start_time": "2023-01-26T06:15:37.825Z"
   },
   {
    "duration": 146,
    "start_time": "2023-01-26T06:15:41.390Z"
   },
   {
    "duration": 2,
    "start_time": "2023-01-26T06:15:41.539Z"
   },
   {
    "duration": 128,
    "start_time": "2023-01-26T06:15:41.543Z"
   },
   {
    "duration": 6,
    "start_time": "2023-01-26T06:15:41.674Z"
   },
   {
    "duration": 43,
    "start_time": "2023-01-26T06:15:41.682Z"
   },
   {
    "duration": 24,
    "start_time": "2023-01-26T06:15:41.727Z"
   },
   {
    "duration": 5,
    "start_time": "2023-01-26T06:15:41.753Z"
   },
   {
    "duration": 100,
    "start_time": "2023-01-26T06:15:41.761Z"
   },
   {
    "duration": 4,
    "start_time": "2023-01-26T06:15:41.863Z"
   },
   {
    "duration": 429,
    "start_time": "2023-01-26T06:15:41.868Z"
   },
   {
    "duration": 39,
    "start_time": "2023-01-26T06:15:42.298Z"
   },
   {
    "duration": 425,
    "start_time": "2023-01-26T06:15:42.338Z"
   },
   {
    "duration": 411,
    "start_time": "2023-01-26T06:15:42.765Z"
   },
   {
    "duration": 44,
    "start_time": "2023-01-26T06:15:43.178Z"
   },
   {
    "duration": 430,
    "start_time": "2023-01-26T06:15:43.224Z"
   },
   {
    "duration": 356,
    "start_time": "2023-01-26T06:15:43.656Z"
   },
   {
    "duration": 25,
    "start_time": "2023-01-26T06:15:44.016Z"
   },
   {
    "duration": 368,
    "start_time": "2023-01-26T06:15:44.043Z"
   },
   {
    "duration": 13,
    "start_time": "2023-01-26T06:15:44.418Z"
   },
   {
    "duration": 155,
    "start_time": "2023-01-26T06:15:44.433Z"
   },
   {
    "duration": 36,
    "start_time": "2023-01-26T06:15:44.595Z"
   },
   {
    "duration": 37,
    "start_time": "2023-01-26T06:15:44.632Z"
   },
   {
    "duration": 68,
    "start_time": "2023-01-26T06:15:44.671Z"
   },
   {
    "duration": 103,
    "start_time": "2023-01-26T06:15:44.741Z"
   },
   {
    "duration": 181,
    "start_time": "2023-01-26T06:15:44.845Z"
   },
   {
    "duration": 95,
    "start_time": "2023-01-26T06:15:45.030Z"
   },
   {
    "duration": 3516,
    "start_time": "2023-01-26T06:15:45.127Z"
   },
   {
    "duration": 25,
    "start_time": "2023-01-26T06:15:48.645Z"
   },
   {
    "duration": 28,
    "start_time": "2023-01-26T06:15:48.672Z"
   },
   {
    "duration": 147,
    "start_time": "2023-01-26T06:15:48.702Z"
   },
   {
    "duration": 97,
    "start_time": "2023-01-26T06:15:48.851Z"
   },
   {
    "duration": 137,
    "start_time": "2023-01-26T06:15:48.950Z"
   },
   {
    "duration": 277,
    "start_time": "2023-01-26T06:15:49.088Z"
   },
   {
    "duration": 28,
    "start_time": "2023-01-26T06:15:49.367Z"
   },
   {
    "duration": 75,
    "start_time": "2023-01-26T06:15:49.401Z"
   },
   {
    "duration": 27,
    "start_time": "2023-01-26T06:15:49.477Z"
   },
   {
    "duration": 561,
    "start_time": "2023-01-26T06:15:49.513Z"
   },
   {
    "duration": 0,
    "start_time": "2023-01-26T06:15:50.076Z"
   },
   {
    "duration": 0,
    "start_time": "2023-01-26T06:15:50.077Z"
   },
   {
    "duration": 0,
    "start_time": "2023-01-26T06:15:50.078Z"
   },
   {
    "duration": 0,
    "start_time": "2023-01-26T06:15:50.079Z"
   },
   {
    "duration": 0,
    "start_time": "2023-01-26T06:15:50.080Z"
   },
   {
    "duration": 358,
    "start_time": "2023-01-26T06:22:25.986Z"
   },
   {
    "duration": 17,
    "start_time": "2023-01-26T08:57:41.673Z"
   },
   {
    "duration": 435,
    "start_time": "2023-01-26T08:59:38.266Z"
   },
   {
    "duration": 11,
    "start_time": "2023-01-26T09:08:25.685Z"
   },
   {
    "duration": 14,
    "start_time": "2023-01-26T09:08:36.313Z"
   },
   {
    "duration": 10,
    "start_time": "2023-01-26T09:08:43.853Z"
   },
   {
    "duration": 25,
    "start_time": "2023-01-26T09:08:48.670Z"
   },
   {
    "duration": 18,
    "start_time": "2023-01-26T09:09:05.071Z"
   },
   {
    "duration": 29,
    "start_time": "2023-01-26T09:09:51.237Z"
   },
   {
    "duration": 15,
    "start_time": "2023-01-26T09:15:34.364Z"
   },
   {
    "duration": 121,
    "start_time": "2023-01-26T09:15:52.128Z"
   },
   {
    "duration": 36,
    "start_time": "2023-01-26T09:15:58.154Z"
   },
   {
    "duration": 22,
    "start_time": "2023-01-26T09:17:07.854Z"
   },
   {
    "duration": 309,
    "start_time": "2023-01-26T09:24:03.916Z"
   },
   {
    "duration": 152,
    "start_time": "2023-01-26T09:24:32.780Z"
   },
   {
    "duration": 142,
    "start_time": "2023-01-26T09:24:35.528Z"
   },
   {
    "duration": 181,
    "start_time": "2023-01-26T09:25:33.568Z"
   },
   {
    "duration": 3,
    "start_time": "2023-01-26T10:45:03.114Z"
   },
   {
    "duration": 17,
    "start_time": "2023-01-26T10:45:34.025Z"
   },
   {
    "duration": 266,
    "start_time": "2023-01-26T10:46:40.840Z"
   },
   {
    "duration": 12,
    "start_time": "2023-01-26T10:46:48.628Z"
   },
   {
    "duration": 4,
    "start_time": "2023-01-26T10:50:50.121Z"
   },
   {
    "duration": 881,
    "start_time": "2023-01-26T10:50:50.126Z"
   },
   {
    "duration": 128,
    "start_time": "2023-01-26T10:50:51.009Z"
   },
   {
    "duration": 8,
    "start_time": "2023-01-26T10:50:51.139Z"
   },
   {
    "duration": 108,
    "start_time": "2023-01-26T10:50:51.149Z"
   },
   {
    "duration": 5,
    "start_time": "2023-01-26T10:50:51.259Z"
   },
   {
    "duration": 42,
    "start_time": "2023-01-26T10:50:51.266Z"
   },
   {
    "duration": 32,
    "start_time": "2023-01-26T10:50:51.310Z"
   },
   {
    "duration": 41,
    "start_time": "2023-01-26T10:50:51.344Z"
   },
   {
    "duration": 117,
    "start_time": "2023-01-26T10:50:51.386Z"
   },
   {
    "duration": 14,
    "start_time": "2023-01-26T10:50:51.511Z"
   },
   {
    "duration": 408,
    "start_time": "2023-01-26T10:50:51.527Z"
   },
   {
    "duration": 20,
    "start_time": "2023-01-26T10:50:51.937Z"
   },
   {
    "duration": 416,
    "start_time": "2023-01-26T10:50:51.959Z"
   },
   {
    "duration": 447,
    "start_time": "2023-01-26T10:50:52.377Z"
   },
   {
    "duration": 29,
    "start_time": "2023-01-26T10:50:52.826Z"
   },
   {
    "duration": 362,
    "start_time": "2023-01-26T10:50:52.857Z"
   },
   {
    "duration": 448,
    "start_time": "2023-01-26T10:50:53.220Z"
   },
   {
    "duration": 39,
    "start_time": "2023-01-26T10:50:53.670Z"
   },
   {
    "duration": 362,
    "start_time": "2023-01-26T10:50:53.711Z"
   },
   {
    "duration": 17,
    "start_time": "2023-01-26T10:50:54.075Z"
   },
   {
    "duration": 150,
    "start_time": "2023-01-26T10:50:54.093Z"
   },
   {
    "duration": 49,
    "start_time": "2023-01-26T10:50:54.245Z"
   },
   {
    "duration": 42,
    "start_time": "2023-01-26T10:50:54.296Z"
   },
   {
    "duration": 72,
    "start_time": "2023-01-26T10:50:54.340Z"
   },
   {
    "duration": 89,
    "start_time": "2023-01-26T10:50:54.414Z"
   },
   {
    "duration": 165,
    "start_time": "2023-01-26T10:50:54.505Z"
   },
   {
    "duration": 83,
    "start_time": "2023-01-26T10:50:54.672Z"
   },
   {
    "duration": 3280,
    "start_time": "2023-01-26T10:50:54.759Z"
   },
   {
    "duration": 26,
    "start_time": "2023-01-26T10:50:58.041Z"
   },
   {
    "duration": 56,
    "start_time": "2023-01-26T10:50:58.069Z"
   },
   {
    "duration": 129,
    "start_time": "2023-01-26T10:50:58.127Z"
   },
   {
    "duration": 84,
    "start_time": "2023-01-26T10:50:58.257Z"
   },
   {
    "duration": 139,
    "start_time": "2023-01-26T10:50:58.344Z"
   },
   {
    "duration": 302,
    "start_time": "2023-01-26T10:50:58.485Z"
   },
   {
    "duration": 477,
    "start_time": "2023-01-26T10:50:58.789Z"
   },
   {
    "duration": 86,
    "start_time": "2023-01-26T10:50:59.268Z"
   },
   {
    "duration": 0,
    "start_time": "2023-01-26T10:50:59.355Z"
   },
   {
    "duration": 0,
    "start_time": "2023-01-26T10:50:59.356Z"
   },
   {
    "duration": 0,
    "start_time": "2023-01-26T10:50:59.357Z"
   },
   {
    "duration": 0,
    "start_time": "2023-01-26T10:50:59.358Z"
   },
   {
    "duration": 0,
    "start_time": "2023-01-26T10:50:59.359Z"
   },
   {
    "duration": 0,
    "start_time": "2023-01-26T10:50:59.360Z"
   },
   {
    "duration": 0,
    "start_time": "2023-01-26T10:50:59.361Z"
   },
   {
    "duration": 0,
    "start_time": "2023-01-26T10:50:59.363Z"
   },
   {
    "duration": 0,
    "start_time": "2023-01-26T10:50:59.365Z"
   },
   {
    "duration": 0,
    "start_time": "2023-01-26T10:50:59.366Z"
   },
   {
    "duration": 0,
    "start_time": "2023-01-26T10:50:59.367Z"
   },
   {
    "duration": 0,
    "start_time": "2023-01-26T10:50:59.368Z"
   },
   {
    "duration": 13,
    "start_time": "2023-01-26T10:51:16.516Z"
   },
   {
    "duration": 9,
    "start_time": "2023-01-26T10:51:21.319Z"
   },
   {
    "duration": 34,
    "start_time": "2023-01-26T10:51:47.383Z"
   },
   {
    "duration": 11,
    "start_time": "2023-01-26T10:55:04.960Z"
   },
   {
    "duration": 3,
    "start_time": "2023-01-26T10:58:15.359Z"
   },
   {
    "duration": 853,
    "start_time": "2023-01-26T10:58:15.364Z"
   },
   {
    "duration": 152,
    "start_time": "2023-01-26T10:58:16.219Z"
   },
   {
    "duration": 2,
    "start_time": "2023-01-26T10:58:16.374Z"
   },
   {
    "duration": 107,
    "start_time": "2023-01-26T10:58:16.379Z"
   },
   {
    "duration": 14,
    "start_time": "2023-01-26T10:58:16.492Z"
   },
   {
    "duration": 35,
    "start_time": "2023-01-26T10:58:16.508Z"
   },
   {
    "duration": 12,
    "start_time": "2023-01-26T10:58:16.545Z"
   },
   {
    "duration": 7,
    "start_time": "2023-01-26T10:58:16.558Z"
   },
   {
    "duration": 100,
    "start_time": "2023-01-26T10:58:16.567Z"
   },
   {
    "duration": 4,
    "start_time": "2023-01-26T10:58:16.669Z"
   },
   {
    "duration": 398,
    "start_time": "2023-01-26T10:58:16.675Z"
   },
   {
    "duration": 32,
    "start_time": "2023-01-26T10:58:17.077Z"
   },
   {
    "duration": 415,
    "start_time": "2023-01-26T10:58:17.110Z"
   },
   {
    "duration": 410,
    "start_time": "2023-01-26T10:58:17.527Z"
   },
   {
    "duration": 26,
    "start_time": "2023-01-26T10:58:17.939Z"
   },
   {
    "duration": 360,
    "start_time": "2023-01-26T10:58:17.967Z"
   },
   {
    "duration": 341,
    "start_time": "2023-01-26T10:58:18.328Z"
   },
   {
    "duration": 39,
    "start_time": "2023-01-26T10:58:18.671Z"
   },
   {
    "duration": 463,
    "start_time": "2023-01-26T10:58:18.712Z"
   },
   {
    "duration": 21,
    "start_time": "2023-01-26T10:58:19.176Z"
   },
   {
    "duration": 156,
    "start_time": "2023-01-26T10:58:19.199Z"
   },
   {
    "duration": 35,
    "start_time": "2023-01-26T10:58:19.357Z"
   },
   {
    "duration": 48,
    "start_time": "2023-01-26T10:58:19.397Z"
   },
   {
    "duration": 55,
    "start_time": "2023-01-26T10:58:19.447Z"
   },
   {
    "duration": 83,
    "start_time": "2023-01-26T10:58:19.503Z"
   },
   {
    "duration": 174,
    "start_time": "2023-01-26T10:58:19.591Z"
   },
   {
    "duration": 99,
    "start_time": "2023-01-26T10:58:19.767Z"
   },
   {
    "duration": 3387,
    "start_time": "2023-01-26T10:58:19.867Z"
   },
   {
    "duration": 42,
    "start_time": "2023-01-26T10:58:23.256Z"
   },
   {
    "duration": 30,
    "start_time": "2023-01-26T10:58:23.303Z"
   },
   {
    "duration": 128,
    "start_time": "2023-01-26T10:58:23.335Z"
   },
   {
    "duration": 93,
    "start_time": "2023-01-26T10:58:23.464Z"
   },
   {
    "duration": 157,
    "start_time": "2023-01-26T10:58:23.559Z"
   },
   {
    "duration": 290,
    "start_time": "2023-01-26T10:58:23.720Z"
   },
   {
    "duration": 466,
    "start_time": "2023-01-26T10:58:24.012Z"
   },
   {
    "duration": 88,
    "start_time": "2023-01-26T10:58:24.483Z"
   },
   {
    "duration": 0,
    "start_time": "2023-01-26T10:58:24.572Z"
   },
   {
    "duration": 0,
    "start_time": "2023-01-26T10:58:24.574Z"
   },
   {
    "duration": 0,
    "start_time": "2023-01-26T10:58:24.575Z"
   },
   {
    "duration": 0,
    "start_time": "2023-01-26T10:58:24.576Z"
   },
   {
    "duration": 0,
    "start_time": "2023-01-26T10:58:24.577Z"
   },
   {
    "duration": 0,
    "start_time": "2023-01-26T10:58:24.578Z"
   },
   {
    "duration": 0,
    "start_time": "2023-01-26T10:58:24.579Z"
   },
   {
    "duration": 0,
    "start_time": "2023-01-26T10:58:24.580Z"
   },
   {
    "duration": 0,
    "start_time": "2023-01-26T10:58:24.581Z"
   },
   {
    "duration": 0,
    "start_time": "2023-01-26T10:58:24.582Z"
   },
   {
    "duration": 0,
    "start_time": "2023-01-26T10:58:24.584Z"
   },
   {
    "duration": 0,
    "start_time": "2023-01-26T10:58:24.585Z"
   },
   {
    "duration": 0,
    "start_time": "2023-01-26T10:58:24.586Z"
   },
   {
    "duration": 168,
    "start_time": "2023-01-26T10:58:45.212Z"
   },
   {
    "duration": 15,
    "start_time": "2023-01-26T10:58:49.777Z"
   },
   {
    "duration": 70,
    "start_time": "2023-01-26T10:58:50.534Z"
   },
   {
    "duration": 164,
    "start_time": "2023-01-26T10:59:19.070Z"
   },
   {
    "duration": 350,
    "start_time": "2023-01-26T10:59:28.033Z"
   },
   {
    "duration": 32,
    "start_time": "2023-01-26T10:59:32.124Z"
   },
   {
    "duration": 20,
    "start_time": "2023-01-26T10:59:38.277Z"
   },
   {
    "duration": 307,
    "start_time": "2023-01-26T11:01:56.287Z"
   },
   {
    "duration": 23,
    "start_time": "2023-01-26T11:01:59.205Z"
   },
   {
    "duration": 4,
    "start_time": "2023-01-26T11:02:40.610Z"
   },
   {
    "duration": 916,
    "start_time": "2023-01-26T11:02:40.616Z"
   },
   {
    "duration": 146,
    "start_time": "2023-01-26T11:02:41.535Z"
   },
   {
    "duration": 9,
    "start_time": "2023-01-26T11:02:41.682Z"
   },
   {
    "duration": 114,
    "start_time": "2023-01-26T11:02:41.698Z"
   },
   {
    "duration": 8,
    "start_time": "2023-01-26T11:02:41.814Z"
   },
   {
    "duration": 22,
    "start_time": "2023-01-26T11:02:41.823Z"
   },
   {
    "duration": 10,
    "start_time": "2023-01-26T11:02:41.847Z"
   },
   {
    "duration": 16,
    "start_time": "2023-01-26T11:02:41.859Z"
   },
   {
    "duration": 95,
    "start_time": "2023-01-26T11:02:41.876Z"
   },
   {
    "duration": 4,
    "start_time": "2023-01-26T11:02:41.973Z"
   },
   {
    "duration": 417,
    "start_time": "2023-01-26T11:02:41.979Z"
   },
   {
    "duration": 26,
    "start_time": "2023-01-26T11:02:42.400Z"
   },
   {
    "duration": 391,
    "start_time": "2023-01-26T11:02:42.429Z"
   },
   {
    "duration": 401,
    "start_time": "2023-01-26T11:02:42.822Z"
   },
   {
    "duration": 36,
    "start_time": "2023-01-26T11:02:43.226Z"
   },
   {
    "duration": 387,
    "start_time": "2023-01-26T11:02:43.264Z"
   },
   {
    "duration": 370,
    "start_time": "2023-01-26T11:02:43.653Z"
   },
   {
    "duration": 29,
    "start_time": "2023-01-26T11:02:44.026Z"
   },
   {
    "duration": 501,
    "start_time": "2023-01-26T11:02:44.057Z"
   },
   {
    "duration": 12,
    "start_time": "2023-01-26T11:02:44.560Z"
   },
   {
    "duration": 160,
    "start_time": "2023-01-26T11:02:44.573Z"
   },
   {
    "duration": 27,
    "start_time": "2023-01-26T11:02:44.735Z"
   },
   {
    "duration": 60,
    "start_time": "2023-01-26T11:02:44.764Z"
   },
   {
    "duration": 46,
    "start_time": "2023-01-26T11:02:44.827Z"
   },
   {
    "duration": 106,
    "start_time": "2023-01-26T11:02:44.874Z"
   },
   {
    "duration": 190,
    "start_time": "2023-01-26T11:02:44.981Z"
   },
   {
    "duration": 97,
    "start_time": "2023-01-26T11:02:45.172Z"
   },
   {
    "duration": 3573,
    "start_time": "2023-01-26T11:02:45.271Z"
   },
   {
    "duration": 25,
    "start_time": "2023-01-26T11:02:48.846Z"
   },
   {
    "duration": 40,
    "start_time": "2023-01-26T11:02:48.872Z"
   },
   {
    "duration": 127,
    "start_time": "2023-01-26T11:02:48.914Z"
   },
   {
    "duration": 72,
    "start_time": "2023-01-26T11:02:49.043Z"
   },
   {
    "duration": 144,
    "start_time": "2023-01-26T11:02:49.116Z"
   },
   {
    "duration": 270,
    "start_time": "2023-01-26T11:02:49.262Z"
   },
   {
    "duration": 556,
    "start_time": "2023-01-26T11:02:49.535Z"
   },
   {
    "duration": 18,
    "start_time": "2023-01-26T11:02:50.096Z"
   },
   {
    "duration": 80,
    "start_time": "2023-01-26T11:02:50.118Z"
   },
   {
    "duration": 228,
    "start_time": "2023-01-26T11:02:50.200Z"
   },
   {
    "duration": 371,
    "start_time": "2023-01-26T11:02:50.431Z"
   },
   {
    "duration": 245,
    "start_time": "2023-01-26T11:02:50.803Z"
   },
   {
    "duration": 18,
    "start_time": "2023-01-26T11:02:51.050Z"
   },
   {
    "duration": 63,
    "start_time": "2023-01-26T11:02:51.069Z"
   },
   {
    "duration": 30,
    "start_time": "2023-01-26T11:02:51.134Z"
   },
   {
    "duration": 0,
    "start_time": "2023-01-26T11:02:51.166Z"
   },
   {
    "duration": 0,
    "start_time": "2023-01-26T11:02:51.167Z"
   },
   {
    "duration": 0,
    "start_time": "2023-01-26T11:02:51.168Z"
   },
   {
    "duration": 12,
    "start_time": "2023-01-26T11:06:31.348Z"
   },
   {
    "duration": 46,
    "start_time": "2023-01-26T11:09:03.472Z"
   },
   {
    "duration": 3,
    "start_time": "2023-01-26T11:10:50.064Z"
   },
   {
    "duration": 882,
    "start_time": "2023-01-26T11:10:50.069Z"
   },
   {
    "duration": 129,
    "start_time": "2023-01-26T11:10:50.953Z"
   },
   {
    "duration": 16,
    "start_time": "2023-01-26T11:10:51.096Z"
   },
   {
    "duration": 117,
    "start_time": "2023-01-26T11:10:51.115Z"
   },
   {
    "duration": 7,
    "start_time": "2023-01-26T11:10:51.234Z"
   },
   {
    "duration": 32,
    "start_time": "2023-01-26T11:10:51.243Z"
   },
   {
    "duration": 11,
    "start_time": "2023-01-26T11:10:51.276Z"
   },
   {
    "duration": 19,
    "start_time": "2023-01-26T11:10:51.300Z"
   },
   {
    "duration": 95,
    "start_time": "2023-01-26T11:10:51.321Z"
   },
   {
    "duration": 24,
    "start_time": "2023-01-26T11:10:51.418Z"
   },
   {
    "duration": 410,
    "start_time": "2023-01-26T11:10:51.444Z"
   },
   {
    "duration": 28,
    "start_time": "2023-01-26T11:10:51.857Z"
   },
   {
    "duration": 379,
    "start_time": "2023-01-26T11:10:51.892Z"
   },
   {
    "duration": 401,
    "start_time": "2023-01-26T11:10:52.272Z"
   },
   {
    "duration": 42,
    "start_time": "2023-01-26T11:10:52.674Z"
   },
   {
    "duration": 358,
    "start_time": "2023-01-26T11:10:52.719Z"
   },
   {
    "duration": 387,
    "start_time": "2023-01-26T11:10:53.079Z"
   },
   {
    "duration": 36,
    "start_time": "2023-01-26T11:10:53.468Z"
   },
   {
    "duration": 537,
    "start_time": "2023-01-26T11:10:53.506Z"
   },
   {
    "duration": 11,
    "start_time": "2023-01-26T11:10:54.045Z"
   },
   {
    "duration": 151,
    "start_time": "2023-01-26T11:10:54.057Z"
   },
   {
    "duration": 28,
    "start_time": "2023-01-26T11:10:54.210Z"
   },
   {
    "duration": 41,
    "start_time": "2023-01-26T11:10:54.240Z"
   },
   {
    "duration": 83,
    "start_time": "2023-01-26T11:10:54.282Z"
   },
   {
    "duration": 117,
    "start_time": "2023-01-26T11:10:54.366Z"
   },
   {
    "duration": 165,
    "start_time": "2023-01-26T11:10:54.484Z"
   },
   {
    "duration": 95,
    "start_time": "2023-01-26T11:10:54.650Z"
   },
   {
    "duration": 3509,
    "start_time": "2023-01-26T11:10:54.746Z"
   },
   {
    "duration": 49,
    "start_time": "2023-01-26T11:10:58.257Z"
   },
   {
    "duration": 19,
    "start_time": "2023-01-26T11:10:58.310Z"
   },
   {
    "duration": 139,
    "start_time": "2023-01-26T11:10:58.332Z"
   },
   {
    "duration": 105,
    "start_time": "2023-01-26T11:10:58.473Z"
   },
   {
    "duration": 168,
    "start_time": "2023-01-26T11:10:58.580Z"
   },
   {
    "duration": 314,
    "start_time": "2023-01-26T11:10:58.750Z"
   },
   {
    "duration": 449,
    "start_time": "2023-01-26T11:10:59.066Z"
   },
   {
    "duration": 15,
    "start_time": "2023-01-26T11:10:59.519Z"
   },
   {
    "duration": 60,
    "start_time": "2023-01-26T11:10:59.536Z"
   },
   {
    "duration": 167,
    "start_time": "2023-01-26T11:10:59.606Z"
   },
   {
    "duration": 38,
    "start_time": "2023-01-26T11:10:59.775Z"
   },
   {
    "duration": 142,
    "start_time": "2023-01-26T11:10:59.815Z"
   },
   {
    "duration": 16,
    "start_time": "2023-01-26T11:10:59.959Z"
   },
   {
    "duration": 43,
    "start_time": "2023-01-26T11:10:59.977Z"
   },
   {
    "duration": 31,
    "start_time": "2023-01-26T11:11:00.024Z"
   },
   {
    "duration": 0,
    "start_time": "2023-01-26T11:11:00.057Z"
   },
   {
    "duration": 0,
    "start_time": "2023-01-26T11:11:00.058Z"
   },
   {
    "duration": 0,
    "start_time": "2023-01-26T11:11:00.059Z"
   },
   {
    "duration": 14,
    "start_time": "2023-01-26T11:11:14.792Z"
   },
   {
    "duration": 811,
    "start_time": "2023-01-26T11:11:14.812Z"
   },
   {
    "duration": 117,
    "start_time": "2023-01-26T11:11:15.626Z"
   },
   {
    "duration": 2,
    "start_time": "2023-01-26T11:11:15.745Z"
   },
   {
    "duration": 177,
    "start_time": "2023-01-26T11:11:15.749Z"
   },
   {
    "duration": 5,
    "start_time": "2023-01-26T11:11:15.928Z"
   },
   {
    "duration": 20,
    "start_time": "2023-01-26T11:11:15.935Z"
   },
   {
    "duration": 11,
    "start_time": "2023-01-26T11:11:15.957Z"
   },
   {
    "duration": 25,
    "start_time": "2023-01-26T11:11:15.992Z"
   },
   {
    "duration": 111,
    "start_time": "2023-01-26T11:11:16.019Z"
   },
   {
    "duration": 7,
    "start_time": "2023-01-26T11:11:16.133Z"
   },
   {
    "duration": 474,
    "start_time": "2023-01-26T11:11:16.142Z"
   },
   {
    "duration": 25,
    "start_time": "2023-01-26T11:11:16.618Z"
   },
   {
    "duration": 395,
    "start_time": "2023-01-26T11:11:16.645Z"
   },
   {
    "duration": 406,
    "start_time": "2023-01-26T11:11:17.041Z"
   },
   {
    "duration": 29,
    "start_time": "2023-01-26T11:11:17.449Z"
   },
   {
    "duration": 426,
    "start_time": "2023-01-26T11:11:17.480Z"
   },
   {
    "duration": 376,
    "start_time": "2023-01-26T11:11:17.908Z"
   },
   {
    "duration": 49,
    "start_time": "2023-01-26T11:11:18.286Z"
   },
   {
    "duration": 500,
    "start_time": "2023-01-26T11:11:18.337Z"
   },
   {
    "duration": 13,
    "start_time": "2023-01-26T11:11:18.839Z"
   },
   {
    "duration": 156,
    "start_time": "2023-01-26T11:11:18.854Z"
   },
   {
    "duration": 25,
    "start_time": "2023-01-26T11:11:19.012Z"
   },
   {
    "duration": 36,
    "start_time": "2023-01-26T11:11:19.038Z"
   },
   {
    "duration": 61,
    "start_time": "2023-01-26T11:11:19.076Z"
   },
   {
    "duration": 88,
    "start_time": "2023-01-26T11:11:19.139Z"
   },
   {
    "duration": 180,
    "start_time": "2023-01-26T11:11:19.229Z"
   },
   {
    "duration": 75,
    "start_time": "2023-01-26T11:11:19.410Z"
   },
   {
    "duration": 3379,
    "start_time": "2023-01-26T11:11:19.486Z"
   },
   {
    "duration": 47,
    "start_time": "2023-01-26T11:11:22.866Z"
   },
   {
    "duration": 17,
    "start_time": "2023-01-26T11:11:22.915Z"
   },
   {
    "duration": 153,
    "start_time": "2023-01-26T11:11:22.934Z"
   },
   {
    "duration": 85,
    "start_time": "2023-01-26T11:11:23.088Z"
   },
   {
    "duration": 192,
    "start_time": "2023-01-26T11:11:23.174Z"
   },
   {
    "duration": 294,
    "start_time": "2023-01-26T11:11:23.369Z"
   },
   {
    "duration": 425,
    "start_time": "2023-01-26T11:11:23.665Z"
   },
   {
    "duration": 18,
    "start_time": "2023-01-26T11:11:24.094Z"
   },
   {
    "duration": 70,
    "start_time": "2023-01-26T11:11:24.114Z"
   },
   {
    "duration": 189,
    "start_time": "2023-01-26T11:11:24.186Z"
   },
   {
    "duration": 32,
    "start_time": "2023-01-26T11:11:24.376Z"
   },
   {
    "duration": 143,
    "start_time": "2023-01-26T11:11:24.414Z"
   },
   {
    "duration": 16,
    "start_time": "2023-01-26T11:11:24.558Z"
   },
   {
    "duration": 49,
    "start_time": "2023-01-26T11:11:24.576Z"
   },
   {
    "duration": 13,
    "start_time": "2023-01-26T11:11:24.627Z"
   },
   {
    "duration": 0,
    "start_time": "2023-01-26T11:11:24.642Z"
   },
   {
    "duration": 0,
    "start_time": "2023-01-26T11:11:24.644Z"
   },
   {
    "duration": 0,
    "start_time": "2023-01-26T11:11:24.645Z"
   },
   {
    "duration": 4,
    "start_time": "2023-01-26T12:07:48.800Z"
   },
   {
    "duration": 27,
    "start_time": "2023-01-26T12:08:35.553Z"
   },
   {
    "duration": 23,
    "start_time": "2023-01-26T12:08:45.619Z"
   },
   {
    "duration": 102,
    "start_time": "2023-01-26T12:12:57.188Z"
   },
   {
    "duration": 90,
    "start_time": "2023-01-26T12:13:34.237Z"
   },
   {
    "duration": 47,
    "start_time": "2023-01-26T12:13:37.418Z"
   },
   {
    "duration": 5,
    "start_time": "2023-01-26T12:34:41.552Z"
   },
   {
    "duration": 25,
    "start_time": "2023-01-26T12:37:55.940Z"
   },
   {
    "duration": 11,
    "start_time": "2023-01-26T12:45:35.645Z"
   },
   {
    "duration": 41,
    "start_time": "2023-01-26T12:45:53.902Z"
   },
   {
    "duration": 39,
    "start_time": "2023-01-26T12:46:26.604Z"
   },
   {
    "duration": 42,
    "start_time": "2023-01-26T12:47:10.223Z"
   },
   {
    "duration": 28,
    "start_time": "2023-01-26T12:47:49.744Z"
   },
   {
    "duration": 59,
    "start_time": "2023-01-26T12:48:38.454Z"
   },
   {
    "duration": 71,
    "start_time": "2023-01-26T12:48:42.990Z"
   },
   {
    "duration": 4,
    "start_time": "2023-01-26T13:08:53.987Z"
   },
   {
    "duration": 1009,
    "start_time": "2023-01-26T13:08:53.994Z"
   },
   {
    "duration": 161,
    "start_time": "2023-01-26T13:08:55.005Z"
   },
   {
    "duration": 9,
    "start_time": "2023-01-26T13:08:55.168Z"
   },
   {
    "duration": 147,
    "start_time": "2023-01-26T13:08:55.179Z"
   },
   {
    "duration": 8,
    "start_time": "2023-01-26T13:08:55.328Z"
   },
   {
    "duration": 59,
    "start_time": "2023-01-26T13:08:55.340Z"
   },
   {
    "duration": 66,
    "start_time": "2023-01-26T13:08:55.401Z"
   },
   {
    "duration": 21,
    "start_time": "2023-01-26T13:08:55.469Z"
   },
   {
    "duration": 173,
    "start_time": "2023-01-26T13:08:55.492Z"
   },
   {
    "duration": 18,
    "start_time": "2023-01-26T13:08:55.668Z"
   },
   {
    "duration": 650,
    "start_time": "2023-01-26T13:08:55.688Z"
   },
   {
    "duration": 58,
    "start_time": "2023-01-26T13:08:56.340Z"
   },
   {
    "duration": 516,
    "start_time": "2023-01-26T13:08:56.401Z"
   },
   {
    "duration": 468,
    "start_time": "2023-01-26T13:08:56.919Z"
   },
   {
    "duration": 49,
    "start_time": "2023-01-26T13:08:57.392Z"
   },
   {
    "duration": 442,
    "start_time": "2023-01-26T13:08:57.448Z"
   },
   {
    "duration": 389,
    "start_time": "2023-01-26T13:08:57.894Z"
   },
   {
    "duration": 40,
    "start_time": "2023-01-26T13:08:58.285Z"
   },
   {
    "duration": 448,
    "start_time": "2023-01-26T13:08:58.331Z"
   },
   {
    "duration": 22,
    "start_time": "2023-01-26T13:08:58.781Z"
   },
   {
    "duration": 209,
    "start_time": "2023-01-26T13:08:58.804Z"
   },
   {
    "duration": 40,
    "start_time": "2023-01-26T13:08:59.015Z"
   },
   {
    "duration": 69,
    "start_time": "2023-01-26T13:08:59.057Z"
   },
   {
    "duration": 92,
    "start_time": "2023-01-26T13:08:59.127Z"
   },
   {
    "duration": 112,
    "start_time": "2023-01-26T13:08:59.222Z"
   },
   {
    "duration": 329,
    "start_time": "2023-01-26T13:08:59.339Z"
   },
   {
    "duration": 120,
    "start_time": "2023-01-26T13:08:59.671Z"
   },
   {
    "duration": 3909,
    "start_time": "2023-01-26T13:08:59.799Z"
   },
   {
    "duration": 54,
    "start_time": "2023-01-26T13:09:03.711Z"
   },
   {
    "duration": 88,
    "start_time": "2023-01-26T13:09:03.767Z"
   },
   {
    "duration": 202,
    "start_time": "2023-01-26T13:09:03.857Z"
   },
   {
    "duration": 109,
    "start_time": "2023-01-26T13:09:04.061Z"
   },
   {
    "duration": 164,
    "start_time": "2023-01-26T13:09:04.172Z"
   },
   {
    "duration": 330,
    "start_time": "2023-01-26T13:09:04.343Z"
   },
   {
    "duration": 452,
    "start_time": "2023-01-26T13:09:04.675Z"
   },
   {
    "duration": 21,
    "start_time": "2023-01-26T13:09:05.132Z"
   },
   {
    "duration": 269,
    "start_time": "2023-01-26T13:09:05.156Z"
   },
   {
    "duration": 205,
    "start_time": "2023-01-26T13:09:05.435Z"
   },
   {
    "duration": 25,
    "start_time": "2023-01-26T13:09:05.643Z"
   },
   {
    "duration": 217,
    "start_time": "2023-01-26T13:09:05.670Z"
   },
   {
    "duration": 108,
    "start_time": "2023-01-26T13:09:05.889Z"
   },
   {
    "duration": 81,
    "start_time": "2023-01-26T13:09:05.998Z"
   },
   {
    "duration": 54,
    "start_time": "2023-01-26T13:09:06.081Z"
   },
   {
    "duration": 41,
    "start_time": "2023-01-26T13:09:06.137Z"
   },
   {
    "duration": 0,
    "start_time": "2023-01-26T13:09:06.180Z"
   },
   {
    "duration": 0,
    "start_time": "2023-01-26T13:09:06.182Z"
   },
   {
    "duration": 45,
    "start_time": "2023-01-26T13:10:15.024Z"
   },
   {
    "duration": 7,
    "start_time": "2023-01-26T13:10:18.128Z"
   },
   {
    "duration": 980,
    "start_time": "2023-01-26T13:10:18.140Z"
   },
   {
    "duration": 155,
    "start_time": "2023-01-26T13:10:19.124Z"
   },
   {
    "duration": 3,
    "start_time": "2023-01-26T13:10:19.281Z"
   },
   {
    "duration": 239,
    "start_time": "2023-01-26T13:10:19.295Z"
   },
   {
    "duration": 6,
    "start_time": "2023-01-26T13:10:19.537Z"
   },
   {
    "duration": 30,
    "start_time": "2023-01-26T13:10:19.552Z"
   },
   {
    "duration": 24,
    "start_time": "2023-01-26T13:10:19.584Z"
   },
   {
    "duration": 63,
    "start_time": "2023-01-26T13:10:19.610Z"
   },
   {
    "duration": 120,
    "start_time": "2023-01-26T13:10:19.675Z"
   },
   {
    "duration": 21,
    "start_time": "2023-01-26T13:10:19.802Z"
   },
   {
    "duration": 614,
    "start_time": "2023-01-26T13:10:19.828Z"
   },
   {
    "duration": 46,
    "start_time": "2023-01-26T13:10:20.444Z"
   },
   {
    "duration": 534,
    "start_time": "2023-01-26T13:10:20.496Z"
   },
   {
    "duration": 452,
    "start_time": "2023-01-26T13:10:21.032Z"
   },
   {
    "duration": 44,
    "start_time": "2023-01-26T13:10:21.486Z"
   },
   {
    "duration": 456,
    "start_time": "2023-01-26T13:10:21.533Z"
   },
   {
    "duration": 421,
    "start_time": "2023-01-26T13:10:22.004Z"
   },
   {
    "duration": 29,
    "start_time": "2023-01-26T13:10:22.427Z"
   },
   {
    "duration": 562,
    "start_time": "2023-01-26T13:10:22.459Z"
   },
   {
    "duration": 32,
    "start_time": "2023-01-26T13:10:23.023Z"
   },
   {
    "duration": 209,
    "start_time": "2023-01-26T13:10:23.056Z"
   },
   {
    "duration": 50,
    "start_time": "2023-01-26T13:10:23.267Z"
   },
   {
    "duration": 110,
    "start_time": "2023-01-26T13:10:23.319Z"
   },
   {
    "duration": 89,
    "start_time": "2023-01-26T13:10:23.431Z"
   },
   {
    "duration": 118,
    "start_time": "2023-01-26T13:10:23.526Z"
   },
   {
    "duration": 213,
    "start_time": "2023-01-26T13:10:23.651Z"
   },
   {
    "duration": 105,
    "start_time": "2023-01-26T13:10:23.866Z"
   },
   {
    "duration": 4050,
    "start_time": "2023-01-26T13:10:23.974Z"
   },
   {
    "duration": 37,
    "start_time": "2023-01-26T13:10:28.025Z"
   },
   {
    "duration": 20,
    "start_time": "2023-01-26T13:10:28.064Z"
   },
   {
    "duration": 187,
    "start_time": "2023-01-26T13:10:28.087Z"
   },
   {
    "duration": 107,
    "start_time": "2023-01-26T13:10:28.276Z"
   },
   {
    "duration": 172,
    "start_time": "2023-01-26T13:10:28.385Z"
   },
   {
    "duration": 315,
    "start_time": "2023-01-26T13:10:28.559Z"
   },
   {
    "duration": 461,
    "start_time": "2023-01-26T13:10:28.876Z"
   },
   {
    "duration": 20,
    "start_time": "2023-01-26T13:10:29.345Z"
   },
   {
    "duration": 82,
    "start_time": "2023-01-26T13:10:29.367Z"
   },
   {
    "duration": 207,
    "start_time": "2023-01-26T13:10:29.456Z"
   },
   {
    "duration": 53,
    "start_time": "2023-01-26T13:10:29.665Z"
   },
   {
    "duration": 249,
    "start_time": "2023-01-26T13:10:29.727Z"
   },
   {
    "duration": 103,
    "start_time": "2023-01-26T13:10:29.978Z"
   },
   {
    "duration": 41,
    "start_time": "2023-01-26T13:10:30.083Z"
   },
   {
    "duration": 91,
    "start_time": "2023-01-26T13:10:30.126Z"
   },
   {
    "duration": 123,
    "start_time": "2023-01-26T13:10:30.219Z"
   },
   {
    "duration": 51,
    "start_time": "2023-01-26T13:10:30.352Z"
   },
   {
    "duration": 60,
    "start_time": "2023-01-26T13:10:30.405Z"
   },
   {
    "duration": 31,
    "start_time": "2023-01-26T13:14:16.132Z"
   },
   {
    "duration": 44,
    "start_time": "2023-01-26T13:22:55.370Z"
   },
   {
    "duration": 19,
    "start_time": "2023-01-26T13:23:15.672Z"
   },
   {
    "duration": 3,
    "start_time": "2023-01-26T13:41:48.664Z"
   },
   {
    "duration": 13,
    "start_time": "2023-01-26T13:42:30.642Z"
   },
   {
    "duration": 5,
    "start_time": "2023-01-26T13:45:17.160Z"
   },
   {
    "duration": 983,
    "start_time": "2023-01-26T13:45:17.167Z"
   },
   {
    "duration": 151,
    "start_time": "2023-01-26T13:45:18.152Z"
   },
   {
    "duration": 53,
    "start_time": "2023-01-26T13:45:18.306Z"
   },
   {
    "duration": 110,
    "start_time": "2023-01-26T13:45:18.361Z"
   },
   {
    "duration": 7,
    "start_time": "2023-01-26T13:45:18.473Z"
   },
   {
    "duration": 26,
    "start_time": "2023-01-26T13:45:18.482Z"
   },
   {
    "duration": 45,
    "start_time": "2023-01-26T13:45:18.514Z"
   },
   {
    "duration": 7,
    "start_time": "2023-01-26T13:45:18.562Z"
   },
   {
    "duration": 109,
    "start_time": "2023-01-26T13:45:18.571Z"
   },
   {
    "duration": 5,
    "start_time": "2023-01-26T13:45:18.682Z"
   },
   {
    "duration": 484,
    "start_time": "2023-01-26T13:45:18.696Z"
   },
   {
    "duration": 65,
    "start_time": "2023-01-26T13:45:19.182Z"
   },
   {
    "duration": 582,
    "start_time": "2023-01-26T13:45:19.261Z"
   },
   {
    "duration": 437,
    "start_time": "2023-01-26T13:45:19.845Z"
   },
   {
    "duration": 36,
    "start_time": "2023-01-26T13:45:20.291Z"
   },
   {
    "duration": 430,
    "start_time": "2023-01-26T13:45:20.328Z"
   },
   {
    "duration": 387,
    "start_time": "2023-01-26T13:45:20.760Z"
   },
   {
    "duration": 27,
    "start_time": "2023-01-26T13:45:21.149Z"
   },
   {
    "duration": 429,
    "start_time": "2023-01-26T13:45:21.178Z"
   },
   {
    "duration": 34,
    "start_time": "2023-01-26T13:45:21.616Z"
   },
   {
    "duration": 205,
    "start_time": "2023-01-26T13:45:21.652Z"
   },
   {
    "duration": 31,
    "start_time": "2023-01-26T13:45:21.859Z"
   },
   {
    "duration": 62,
    "start_time": "2023-01-26T13:45:21.894Z"
   },
   {
    "duration": 75,
    "start_time": "2023-01-26T13:45:21.958Z"
   },
   {
    "duration": 110,
    "start_time": "2023-01-26T13:45:22.037Z"
   },
   {
    "duration": 198,
    "start_time": "2023-01-26T13:45:22.149Z"
   },
   {
    "duration": 86,
    "start_time": "2023-01-26T13:45:22.353Z"
   },
   {
    "duration": 3954,
    "start_time": "2023-01-26T13:45:22.440Z"
   },
   {
    "duration": 37,
    "start_time": "2023-01-26T13:45:26.396Z"
   },
   {
    "duration": 51,
    "start_time": "2023-01-26T13:45:26.434Z"
   },
   {
    "duration": 189,
    "start_time": "2023-01-26T13:45:26.487Z"
   },
   {
    "duration": 110,
    "start_time": "2023-01-26T13:45:26.678Z"
   },
   {
    "duration": 171,
    "start_time": "2023-01-26T13:45:26.790Z"
   },
   {
    "duration": 311,
    "start_time": "2023-01-26T13:45:26.966Z"
   },
   {
    "duration": 414,
    "start_time": "2023-01-26T13:45:27.278Z"
   },
   {
    "duration": 17,
    "start_time": "2023-01-26T13:45:27.694Z"
   },
   {
    "duration": 115,
    "start_time": "2023-01-26T13:45:27.715Z"
   },
   {
    "duration": 174,
    "start_time": "2023-01-26T13:45:27.834Z"
   },
   {
    "duration": 253,
    "start_time": "2023-01-26T13:45:28.009Z"
   },
   {
    "duration": 108,
    "start_time": "2023-01-26T13:45:28.264Z"
   },
   {
    "duration": 73,
    "start_time": "2023-01-26T13:45:28.375Z"
   },
   {
    "duration": 30,
    "start_time": "2023-01-26T13:45:28.450Z"
   },
   {
    "duration": 8,
    "start_time": "2023-01-26T13:52:28.612Z"
   },
   {
    "duration": 1042,
    "start_time": "2023-01-26T13:52:28.621Z"
   },
   {
    "duration": 164,
    "start_time": "2023-01-26T13:52:29.668Z"
   },
   {
    "duration": 31,
    "start_time": "2023-01-26T13:52:29.841Z"
   },
   {
    "duration": 135,
    "start_time": "2023-01-26T13:52:29.874Z"
   },
   {
    "duration": 7,
    "start_time": "2023-01-26T13:52:30.011Z"
   },
   {
    "duration": 82,
    "start_time": "2023-01-26T13:52:30.019Z"
   },
   {
    "duration": 81,
    "start_time": "2023-01-26T13:52:30.103Z"
   },
   {
    "duration": 57,
    "start_time": "2023-01-26T13:52:30.186Z"
   },
   {
    "duration": 189,
    "start_time": "2023-01-26T13:52:30.252Z"
   },
   {
    "duration": 103,
    "start_time": "2023-01-26T13:52:30.443Z"
   },
   {
    "duration": 599,
    "start_time": "2023-01-26T13:52:30.549Z"
   },
   {
    "duration": 33,
    "start_time": "2023-01-26T13:52:31.150Z"
   },
   {
    "duration": 539,
    "start_time": "2023-01-26T13:52:31.185Z"
   },
   {
    "duration": 464,
    "start_time": "2023-01-26T13:52:31.735Z"
   },
   {
    "duration": 45,
    "start_time": "2023-01-26T13:52:32.201Z"
   },
   {
    "duration": 568,
    "start_time": "2023-01-26T13:52:32.251Z"
   },
   {
    "duration": 423,
    "start_time": "2023-01-26T13:52:32.821Z"
   },
   {
    "duration": 27,
    "start_time": "2023-01-26T13:52:33.246Z"
   },
   {
    "duration": 450,
    "start_time": "2023-01-26T13:52:33.275Z"
   },
   {
    "duration": 19,
    "start_time": "2023-01-26T13:52:33.730Z"
   },
   {
    "duration": 174,
    "start_time": "2023-01-26T13:52:33.754Z"
   },
   {
    "duration": 37,
    "start_time": "2023-01-26T13:52:33.930Z"
   },
   {
    "duration": 72,
    "start_time": "2023-01-26T13:52:33.971Z"
   },
   {
    "duration": 94,
    "start_time": "2023-01-26T13:52:34.049Z"
   },
   {
    "duration": 110,
    "start_time": "2023-01-26T13:52:34.150Z"
   },
   {
    "duration": 209,
    "start_time": "2023-01-26T13:52:34.262Z"
   },
   {
    "duration": 93,
    "start_time": "2023-01-26T13:52:34.472Z"
   },
   {
    "duration": 4022,
    "start_time": "2023-01-26T13:52:34.567Z"
   },
   {
    "duration": 40,
    "start_time": "2023-01-26T13:52:38.597Z"
   },
   {
    "duration": 35,
    "start_time": "2023-01-26T13:52:38.639Z"
   },
   {
    "duration": 180,
    "start_time": "2023-01-26T13:52:38.675Z"
   },
   {
    "duration": 109,
    "start_time": "2023-01-26T13:52:38.858Z"
   },
   {
    "duration": 174,
    "start_time": "2023-01-26T13:52:38.969Z"
   },
   {
    "duration": 329,
    "start_time": "2023-01-26T13:52:39.150Z"
   },
   {
    "duration": 417,
    "start_time": "2023-01-26T13:52:39.481Z"
   },
   {
    "duration": 33,
    "start_time": "2023-01-26T13:52:39.901Z"
   },
   {
    "duration": 86,
    "start_time": "2023-01-26T13:52:39.936Z"
   },
   {
    "duration": 215,
    "start_time": "2023-01-26T13:52:40.024Z"
   },
   {
    "duration": 241,
    "start_time": "2023-01-26T13:52:40.248Z"
   },
   {
    "duration": 113,
    "start_time": "2023-01-26T13:52:40.494Z"
   },
   {
    "duration": 62,
    "start_time": "2023-01-26T13:52:40.619Z"
   },
   {
    "duration": 37,
    "start_time": "2023-01-26T13:52:40.683Z"
   },
   {
    "duration": 379782,
    "start_time": "2023-01-26T13:52:40.721Z"
   },
   {
    "duration": 1490,
    "start_time": "2023-01-27T06:25:35.808Z"
   },
   {
    "duration": 3757,
    "start_time": "2023-01-27T06:25:37.300Z"
   },
   {
    "duration": 133,
    "start_time": "2023-01-27T06:25:41.058Z"
   },
   {
    "duration": 2,
    "start_time": "2023-01-27T06:25:41.193Z"
   },
   {
    "duration": 97,
    "start_time": "2023-01-27T06:25:41.196Z"
   },
   {
    "duration": 5,
    "start_time": "2023-01-27T06:25:41.294Z"
   },
   {
    "duration": 26,
    "start_time": "2023-01-27T06:25:41.301Z"
   },
   {
    "duration": 30,
    "start_time": "2023-01-27T06:25:41.329Z"
   },
   {
    "duration": 9,
    "start_time": "2023-01-27T06:25:41.361Z"
   },
   {
    "duration": 106,
    "start_time": "2023-01-27T06:25:41.373Z"
   },
   {
    "duration": 5,
    "start_time": "2023-01-27T06:25:41.481Z"
   },
   {
    "duration": 397,
    "start_time": "2023-01-27T06:25:41.488Z"
   },
   {
    "duration": 31,
    "start_time": "2023-01-27T06:25:41.886Z"
   },
   {
    "duration": 359,
    "start_time": "2023-01-27T06:25:41.919Z"
   },
   {
    "duration": 433,
    "start_time": "2023-01-27T06:25:42.280Z"
   },
   {
    "duration": 40,
    "start_time": "2023-01-27T06:25:42.715Z"
   },
   {
    "duration": 320,
    "start_time": "2023-01-27T06:25:42.757Z"
   },
   {
    "duration": 378,
    "start_time": "2023-01-27T06:25:43.079Z"
   },
   {
    "duration": 35,
    "start_time": "2023-01-27T06:25:43.459Z"
   },
   {
    "duration": 444,
    "start_time": "2023-01-27T06:25:43.496Z"
   },
   {
    "duration": 12,
    "start_time": "2023-01-27T06:25:43.941Z"
   },
   {
    "duration": 158,
    "start_time": "2023-01-27T06:25:43.954Z"
   },
   {
    "duration": 44,
    "start_time": "2023-01-27T06:25:44.113Z"
   },
   {
    "duration": 38,
    "start_time": "2023-01-27T06:25:44.158Z"
   },
   {
    "duration": 74,
    "start_time": "2023-01-27T06:25:44.197Z"
   },
   {
    "duration": 90,
    "start_time": "2023-01-27T06:25:44.272Z"
   },
   {
    "duration": 162,
    "start_time": "2023-01-27T06:25:44.364Z"
   },
   {
    "duration": 77,
    "start_time": "2023-01-27T06:25:44.529Z"
   },
   {
    "duration": 3029,
    "start_time": "2023-01-27T06:25:44.608Z"
   },
   {
    "duration": 43,
    "start_time": "2023-01-27T06:25:47.639Z"
   },
   {
    "duration": 17,
    "start_time": "2023-01-27T06:25:47.684Z"
   },
   {
    "duration": 166,
    "start_time": "2023-01-27T06:25:47.703Z"
   },
   {
    "duration": 110,
    "start_time": "2023-01-27T06:25:47.871Z"
   },
   {
    "duration": 123,
    "start_time": "2023-01-27T06:25:47.983Z"
   },
   {
    "duration": 249,
    "start_time": "2023-01-27T06:25:48.108Z"
   },
   {
    "duration": 387,
    "start_time": "2023-01-27T06:25:48.359Z"
   },
   {
    "duration": 19,
    "start_time": "2023-01-27T06:25:48.748Z"
   },
   {
    "duration": 84,
    "start_time": "2023-01-27T06:25:48.769Z"
   },
   {
    "duration": 174,
    "start_time": "2023-01-27T06:25:48.855Z"
   },
   {
    "duration": 174,
    "start_time": "2023-01-27T06:25:49.031Z"
   },
   {
    "duration": 93,
    "start_time": "2023-01-27T06:25:49.206Z"
   },
   {
    "duration": 68,
    "start_time": "2023-01-27T06:25:49.300Z"
   },
   {
    "duration": 24,
    "start_time": "2023-01-27T06:25:49.369Z"
   },
   {
    "duration": 6567,
    "start_time": "2023-01-27T06:25:49.394Z"
   },
   {
    "duration": 7,
    "start_time": "2023-01-27T06:42:56.317Z"
   },
   {
    "duration": 101,
    "start_time": "2023-01-27T06:43:17.261Z"
   },
   {
    "duration": 3,
    "start_time": "2023-01-27T07:45:19.941Z"
   },
   {
    "duration": 3,
    "start_time": "2023-01-27T09:45:28.624Z"
   },
   {
    "duration": 893,
    "start_time": "2023-01-27T09:45:28.629Z"
   },
   {
    "duration": 134,
    "start_time": "2023-01-27T09:45:29.525Z"
   },
   {
    "duration": 185,
    "start_time": "2023-01-27T09:45:29.660Z"
   },
   {
    "duration": 137,
    "start_time": "2023-01-27T09:45:29.848Z"
   },
   {
    "duration": 6,
    "start_time": "2023-01-27T09:45:29.988Z"
   },
   {
    "duration": 34,
    "start_time": "2023-01-27T09:45:29.997Z"
   },
   {
    "duration": 31,
    "start_time": "2023-01-27T09:45:30.033Z"
   },
   {
    "duration": 8,
    "start_time": "2023-01-27T09:45:30.066Z"
   },
   {
    "duration": 168,
    "start_time": "2023-01-27T09:45:30.076Z"
   },
   {
    "duration": 5,
    "start_time": "2023-01-27T09:45:30.247Z"
   },
   {
    "duration": 438,
    "start_time": "2023-01-27T09:45:30.255Z"
   },
   {
    "duration": 24,
    "start_time": "2023-01-27T09:45:30.695Z"
   },
   {
    "duration": 423,
    "start_time": "2023-01-27T09:45:30.722Z"
   },
   {
    "duration": 427,
    "start_time": "2023-01-27T09:45:31.150Z"
   },
   {
    "duration": 39,
    "start_time": "2023-01-27T09:45:31.579Z"
   },
   {
    "duration": 441,
    "start_time": "2023-01-27T09:45:31.620Z"
   },
   {
    "duration": 350,
    "start_time": "2023-01-27T09:45:32.064Z"
   },
   {
    "duration": 21,
    "start_time": "2023-01-27T09:45:32.416Z"
   },
   {
    "duration": 339,
    "start_time": "2023-01-27T09:45:32.448Z"
   },
   {
    "duration": 11,
    "start_time": "2023-01-27T09:45:32.789Z"
   },
   {
    "duration": 158,
    "start_time": "2023-01-27T09:45:32.801Z"
   },
   {
    "duration": 28,
    "start_time": "2023-01-27T09:45:32.960Z"
   },
   {
    "duration": 84,
    "start_time": "2023-01-27T09:45:32.990Z"
   },
   {
    "duration": 78,
    "start_time": "2023-01-27T09:45:33.076Z"
   },
   {
    "duration": 75,
    "start_time": "2023-01-27T09:45:33.156Z"
   },
   {
    "duration": 167,
    "start_time": "2023-01-27T09:45:33.233Z"
   },
   {
    "duration": 99,
    "start_time": "2023-01-27T09:45:33.402Z"
   },
   {
    "duration": 2987,
    "start_time": "2023-01-27T09:45:33.508Z"
   },
   {
    "duration": 39,
    "start_time": "2023-01-27T09:45:36.497Z"
   },
   {
    "duration": 31,
    "start_time": "2023-01-27T09:45:36.538Z"
   },
   {
    "duration": 168,
    "start_time": "2023-01-27T09:45:36.571Z"
   },
   {
    "duration": 89,
    "start_time": "2023-01-27T09:45:36.741Z"
   },
   {
    "duration": 133,
    "start_time": "2023-01-27T09:45:36.832Z"
   },
   {
    "duration": 258,
    "start_time": "2023-01-27T09:45:36.967Z"
   },
   {
    "duration": 452,
    "start_time": "2023-01-27T09:45:37.227Z"
   },
   {
    "duration": 14,
    "start_time": "2023-01-27T09:45:37.681Z"
   },
   {
    "duration": 67,
    "start_time": "2023-01-27T09:45:37.696Z"
   },
   {
    "duration": 186,
    "start_time": "2023-01-27T09:45:37.765Z"
   },
   {
    "duration": 181,
    "start_time": "2023-01-27T09:45:37.953Z"
   },
   {
    "duration": 85,
    "start_time": "2023-01-27T09:45:38.136Z"
   },
   {
    "duration": 66,
    "start_time": "2023-01-27T09:45:38.223Z"
   },
   {
    "duration": 22,
    "start_time": "2023-01-27T09:45:38.291Z"
   },
   {
    "duration": 7,
    "start_time": "2023-01-27T09:45:38.315Z"
   },
   {
    "duration": 111,
    "start_time": "2023-01-27T09:45:38.324Z"
   },
   {
    "duration": 0,
    "start_time": "2023-01-27T09:45:38.437Z"
   },
   {
    "duration": 0,
    "start_time": "2023-01-27T09:45:38.439Z"
   },
   {
    "duration": 6,
    "start_time": "2023-01-27T10:09:18.888Z"
   },
   {
    "duration": 185,
    "start_time": "2023-01-27T10:09:19.706Z"
   },
   {
    "duration": 5,
    "start_time": "2023-01-27T10:11:20.941Z"
   },
   {
    "duration": 4,
    "start_time": "2023-01-27T10:11:22.826Z"
   },
   {
    "duration": 6,
    "start_time": "2023-01-27T10:11:35.938Z"
   },
   {
    "duration": 165,
    "start_time": "2023-01-27T10:11:36.926Z"
   },
   {
    "duration": 4,
    "start_time": "2023-01-27T10:19:53.417Z"
   },
   {
    "duration": 5,
    "start_time": "2023-01-27T10:20:04.869Z"
   },
   {
    "duration": 178,
    "start_time": "2023-01-27T10:20:06.423Z"
   },
   {
    "duration": 5,
    "start_time": "2023-01-27T10:21:36.821Z"
   },
   {
    "duration": 150,
    "start_time": "2023-01-27T10:21:37.537Z"
   },
   {
    "duration": 4,
    "start_time": "2023-01-27T10:22:41.480Z"
   },
   {
    "duration": 788,
    "start_time": "2023-01-27T10:22:41.485Z"
   },
   {
    "duration": 142,
    "start_time": "2023-01-27T10:22:42.275Z"
   },
   {
    "duration": 3,
    "start_time": "2023-01-27T10:22:42.418Z"
   },
   {
    "duration": 104,
    "start_time": "2023-01-27T10:22:42.422Z"
   },
   {
    "duration": 6,
    "start_time": "2023-01-27T10:22:42.528Z"
   },
   {
    "duration": 42,
    "start_time": "2023-01-27T10:22:42.536Z"
   },
   {
    "duration": 15,
    "start_time": "2023-01-27T10:22:42.580Z"
   },
   {
    "duration": 7,
    "start_time": "2023-01-27T10:22:42.597Z"
   },
   {
    "duration": 103,
    "start_time": "2023-01-27T10:22:42.605Z"
   },
   {
    "duration": 3,
    "start_time": "2023-01-27T10:22:42.711Z"
   },
   {
    "duration": 382,
    "start_time": "2023-01-27T10:22:42.716Z"
   },
   {
    "duration": 19,
    "start_time": "2023-01-27T10:22:43.100Z"
   },
   {
    "duration": 429,
    "start_time": "2023-01-27T10:22:43.121Z"
   },
   {
    "duration": 473,
    "start_time": "2023-01-27T10:22:43.552Z"
   },
   {
    "duration": 46,
    "start_time": "2023-01-27T10:22:44.027Z"
   },
   {
    "duration": 358,
    "start_time": "2023-01-27T10:22:44.075Z"
   },
   {
    "duration": 454,
    "start_time": "2023-01-27T10:22:44.435Z"
   },
   {
    "duration": 20,
    "start_time": "2023-01-27T10:22:44.891Z"
   },
   {
    "duration": 385,
    "start_time": "2023-01-27T10:22:44.913Z"
   },
   {
    "duration": 10,
    "start_time": "2023-01-27T10:22:45.300Z"
   },
   {
    "duration": 188,
    "start_time": "2023-01-27T10:22:45.312Z"
   },
   {
    "duration": 28,
    "start_time": "2023-01-27T10:22:45.502Z"
   },
   {
    "duration": 64,
    "start_time": "2023-01-27T10:22:45.532Z"
   },
   {
    "duration": 65,
    "start_time": "2023-01-27T10:22:45.598Z"
   },
   {
    "duration": 93,
    "start_time": "2023-01-27T10:22:45.665Z"
   },
   {
    "duration": 168,
    "start_time": "2023-01-27T10:22:45.759Z"
   },
   {
    "duration": 87,
    "start_time": "2023-01-27T10:22:45.929Z"
   },
   {
    "duration": 3401,
    "start_time": "2023-01-27T10:22:46.020Z"
   },
   {
    "duration": 44,
    "start_time": "2023-01-27T10:22:49.422Z"
   },
   {
    "duration": 17,
    "start_time": "2023-01-27T10:22:49.469Z"
   },
   {
    "duration": 217,
    "start_time": "2023-01-27T10:22:49.487Z"
   },
   {
    "duration": 108,
    "start_time": "2023-01-27T10:22:49.706Z"
   },
   {
    "duration": 147,
    "start_time": "2023-01-27T10:22:49.816Z"
   },
   {
    "duration": 280,
    "start_time": "2023-01-27T10:22:49.965Z"
   },
   {
    "duration": 492,
    "start_time": "2023-01-27T10:22:50.247Z"
   },
   {
    "duration": 22,
    "start_time": "2023-01-27T10:22:50.741Z"
   },
   {
    "duration": 59,
    "start_time": "2023-01-27T10:22:50.765Z"
   },
   {
    "duration": 207,
    "start_time": "2023-01-27T10:22:50.826Z"
   },
   {
    "duration": 200,
    "start_time": "2023-01-27T10:22:51.035Z"
   },
   {
    "duration": 89,
    "start_time": "2023-01-27T10:22:51.237Z"
   },
   {
    "duration": 69,
    "start_time": "2023-01-27T10:22:51.328Z"
   },
   {
    "duration": 23,
    "start_time": "2023-01-27T10:22:51.399Z"
   },
   {
    "duration": 12,
    "start_time": "2023-01-27T10:22:51.424Z"
   },
   {
    "duration": 3,
    "start_time": "2023-01-27T12:32:18.795Z"
   },
   {
    "duration": 3,
    "start_time": "2023-01-27T12:32:38.487Z"
   },
   {
    "duration": 772,
    "start_time": "2023-01-27T12:32:38.493Z"
   },
   {
    "duration": 131,
    "start_time": "2023-01-27T12:32:39.267Z"
   },
   {
    "duration": 3,
    "start_time": "2023-01-27T12:32:39.399Z"
   },
   {
    "duration": 98,
    "start_time": "2023-01-27T12:32:39.403Z"
   },
   {
    "duration": 8,
    "start_time": "2023-01-27T12:32:39.503Z"
   },
   {
    "duration": 36,
    "start_time": "2023-01-27T12:32:39.513Z"
   },
   {
    "duration": 3,
    "start_time": "2023-01-27T12:32:39.551Z"
   },
   {
    "duration": 355,
    "start_time": "2023-01-27T12:32:39.556Z"
   },
   {
    "duration": 35,
    "start_time": "2023-01-27T12:32:39.913Z"
   },
   {
    "duration": 350,
    "start_time": "2023-01-27T12:32:39.952Z"
   },
   {
    "duration": 355,
    "start_time": "2023-01-27T12:32:40.304Z"
   },
   {
    "duration": 99,
    "start_time": "2023-01-27T12:32:40.660Z"
   },
   {
    "duration": 0,
    "start_time": "2023-01-27T12:32:40.762Z"
   },
   {
    "duration": 0,
    "start_time": "2023-01-27T12:32:40.763Z"
   },
   {
    "duration": 0,
    "start_time": "2023-01-27T12:32:40.764Z"
   },
   {
    "duration": 0,
    "start_time": "2023-01-27T12:32:40.765Z"
   },
   {
    "duration": 0,
    "start_time": "2023-01-27T12:32:40.766Z"
   },
   {
    "duration": 0,
    "start_time": "2023-01-27T12:32:40.767Z"
   },
   {
    "duration": 0,
    "start_time": "2023-01-27T12:32:40.769Z"
   },
   {
    "duration": 0,
    "start_time": "2023-01-27T12:32:40.770Z"
   },
   {
    "duration": 0,
    "start_time": "2023-01-27T12:32:40.772Z"
   },
   {
    "duration": 0,
    "start_time": "2023-01-27T12:32:40.773Z"
   },
   {
    "duration": 0,
    "start_time": "2023-01-27T12:32:40.774Z"
   },
   {
    "duration": 0,
    "start_time": "2023-01-27T12:32:40.774Z"
   },
   {
    "duration": 0,
    "start_time": "2023-01-27T12:32:40.775Z"
   },
   {
    "duration": 0,
    "start_time": "2023-01-27T12:32:40.776Z"
   },
   {
    "duration": 0,
    "start_time": "2023-01-27T12:32:40.777Z"
   },
   {
    "duration": 0,
    "start_time": "2023-01-27T12:32:40.778Z"
   },
   {
    "duration": 0,
    "start_time": "2023-01-27T12:32:40.779Z"
   },
   {
    "duration": 0,
    "start_time": "2023-01-27T12:32:40.781Z"
   },
   {
    "duration": 0,
    "start_time": "2023-01-27T12:32:40.782Z"
   },
   {
    "duration": 0,
    "start_time": "2023-01-27T12:32:40.783Z"
   },
   {
    "duration": 0,
    "start_time": "2023-01-27T12:32:40.784Z"
   },
   {
    "duration": 0,
    "start_time": "2023-01-27T12:32:40.786Z"
   },
   {
    "duration": 0,
    "start_time": "2023-01-27T12:32:40.787Z"
   },
   {
    "duration": 0,
    "start_time": "2023-01-27T12:32:40.788Z"
   },
   {
    "duration": 0,
    "start_time": "2023-01-27T12:32:40.789Z"
   },
   {
    "duration": 0,
    "start_time": "2023-01-27T12:32:40.791Z"
   },
   {
    "duration": 0,
    "start_time": "2023-01-27T12:32:40.792Z"
   },
   {
    "duration": 0,
    "start_time": "2023-01-27T12:32:40.794Z"
   },
   {
    "duration": 0,
    "start_time": "2023-01-27T12:32:40.795Z"
   },
   {
    "duration": 5,
    "start_time": "2023-01-27T12:32:48.855Z"
   },
   {
    "duration": 742,
    "start_time": "2023-01-27T12:32:48.894Z"
   },
   {
    "duration": 130,
    "start_time": "2023-01-27T12:32:49.639Z"
   },
   {
    "duration": 4,
    "start_time": "2023-01-27T12:32:49.772Z"
   },
   {
    "duration": 92,
    "start_time": "2023-01-27T12:32:49.777Z"
   },
   {
    "duration": 4,
    "start_time": "2023-01-27T12:32:49.872Z"
   },
   {
    "duration": 39,
    "start_time": "2023-01-27T12:32:49.878Z"
   },
   {
    "duration": 4,
    "start_time": "2023-01-27T12:32:49.918Z"
   },
   {
    "duration": 348,
    "start_time": "2023-01-27T12:32:49.924Z"
   },
   {
    "duration": 20,
    "start_time": "2023-01-27T12:32:50.273Z"
   },
   {
    "duration": 448,
    "start_time": "2023-01-27T12:32:50.295Z"
   },
   {
    "duration": 351,
    "start_time": "2023-01-27T12:32:50.746Z"
   },
   {
    "duration": 75,
    "start_time": "2023-01-27T12:32:51.098Z"
   },
   {
    "duration": 0,
    "start_time": "2023-01-27T12:32:51.175Z"
   },
   {
    "duration": 0,
    "start_time": "2023-01-27T12:32:51.176Z"
   },
   {
    "duration": 0,
    "start_time": "2023-01-27T12:32:51.177Z"
   },
   {
    "duration": 0,
    "start_time": "2023-01-27T12:32:51.178Z"
   },
   {
    "duration": 0,
    "start_time": "2023-01-27T12:32:51.179Z"
   },
   {
    "duration": 0,
    "start_time": "2023-01-27T12:32:51.180Z"
   },
   {
    "duration": 0,
    "start_time": "2023-01-27T12:32:51.181Z"
   },
   {
    "duration": 0,
    "start_time": "2023-01-27T12:32:51.182Z"
   },
   {
    "duration": 0,
    "start_time": "2023-01-27T12:32:51.183Z"
   },
   {
    "duration": 0,
    "start_time": "2023-01-27T12:32:51.184Z"
   },
   {
    "duration": 0,
    "start_time": "2023-01-27T12:32:51.185Z"
   },
   {
    "duration": 0,
    "start_time": "2023-01-27T12:32:51.186Z"
   },
   {
    "duration": 0,
    "start_time": "2023-01-27T12:32:51.187Z"
   },
   {
    "duration": 0,
    "start_time": "2023-01-27T12:32:51.189Z"
   },
   {
    "duration": 0,
    "start_time": "2023-01-27T12:32:51.190Z"
   },
   {
    "duration": 0,
    "start_time": "2023-01-27T12:32:51.191Z"
   },
   {
    "duration": 0,
    "start_time": "2023-01-27T12:32:51.192Z"
   },
   {
    "duration": 0,
    "start_time": "2023-01-27T12:32:51.193Z"
   },
   {
    "duration": 0,
    "start_time": "2023-01-27T12:32:51.194Z"
   },
   {
    "duration": 0,
    "start_time": "2023-01-27T12:32:51.194Z"
   },
   {
    "duration": 0,
    "start_time": "2023-01-27T12:32:51.195Z"
   },
   {
    "duration": 0,
    "start_time": "2023-01-27T12:32:51.196Z"
   },
   {
    "duration": 0,
    "start_time": "2023-01-27T12:32:51.197Z"
   },
   {
    "duration": 0,
    "start_time": "2023-01-27T12:32:51.199Z"
   },
   {
    "duration": 0,
    "start_time": "2023-01-27T12:32:51.199Z"
   },
   {
    "duration": 0,
    "start_time": "2023-01-27T12:32:51.201Z"
   },
   {
    "duration": 0,
    "start_time": "2023-01-27T12:32:51.201Z"
   },
   {
    "duration": 1,
    "start_time": "2023-01-27T12:32:51.202Z"
   },
   {
    "duration": 0,
    "start_time": "2023-01-27T12:32:51.203Z"
   },
   {
    "duration": 4,
    "start_time": "2023-01-27T12:33:18.952Z"
   },
   {
    "duration": 765,
    "start_time": "2023-01-27T12:33:18.959Z"
   },
   {
    "duration": 133,
    "start_time": "2023-01-27T12:33:19.725Z"
   },
   {
    "duration": 2,
    "start_time": "2023-01-27T12:33:19.859Z"
   },
   {
    "duration": 94,
    "start_time": "2023-01-27T12:33:19.863Z"
   },
   {
    "duration": 5,
    "start_time": "2023-01-27T12:33:19.959Z"
   },
   {
    "duration": 28,
    "start_time": "2023-01-27T12:33:19.966Z"
   },
   {
    "duration": 5,
    "start_time": "2023-01-27T12:33:19.996Z"
   },
   {
    "duration": 366,
    "start_time": "2023-01-27T12:33:20.002Z"
   },
   {
    "duration": 19,
    "start_time": "2023-01-27T12:33:20.370Z"
   },
   {
    "duration": 342,
    "start_time": "2023-01-27T12:33:20.391Z"
   },
   {
    "duration": 340,
    "start_time": "2023-01-27T12:33:20.735Z"
   },
   {
    "duration": 28,
    "start_time": "2023-01-27T12:33:21.077Z"
   },
   {
    "duration": 310,
    "start_time": "2023-01-27T12:33:21.107Z"
   },
   {
    "duration": 400,
    "start_time": "2023-01-27T12:33:21.418Z"
   },
   {
    "duration": 29,
    "start_time": "2023-01-27T12:33:21.820Z"
   },
   {
    "duration": 346,
    "start_time": "2023-01-27T12:33:21.851Z"
   },
   {
    "duration": 153,
    "start_time": "2023-01-27T12:33:22.198Z"
   },
   {
    "duration": 30,
    "start_time": "2023-01-27T12:33:22.352Z"
   },
   {
    "duration": 37,
    "start_time": "2023-01-27T12:33:22.383Z"
   },
   {
    "duration": 59,
    "start_time": "2023-01-27T12:33:22.421Z"
   },
   {
    "duration": 82,
    "start_time": "2023-01-27T12:33:22.482Z"
   },
   {
    "duration": 157,
    "start_time": "2023-01-27T12:33:22.566Z"
   },
   {
    "duration": 77,
    "start_time": "2023-01-27T12:33:22.725Z"
   },
   {
    "duration": 2934,
    "start_time": "2023-01-27T12:33:22.803Z"
   },
   {
    "duration": 27,
    "start_time": "2023-01-27T12:33:25.739Z"
   },
   {
    "duration": 33,
    "start_time": "2023-01-27T12:33:25.767Z"
   },
   {
    "duration": 157,
    "start_time": "2023-01-27T12:33:25.801Z"
   },
   {
    "duration": 89,
    "start_time": "2023-01-27T12:33:25.961Z"
   },
   {
    "duration": 174,
    "start_time": "2023-01-27T12:33:26.052Z"
   },
   {
    "duration": 301,
    "start_time": "2023-01-27T12:33:26.228Z"
   },
   {
    "duration": 382,
    "start_time": "2023-01-27T12:33:26.531Z"
   },
   {
    "duration": 15,
    "start_time": "2023-01-27T12:33:26.915Z"
   },
   {
    "duration": 64,
    "start_time": "2023-01-27T12:33:26.931Z"
   },
   {
    "duration": 172,
    "start_time": "2023-01-27T12:33:26.997Z"
   },
   {
    "duration": 182,
    "start_time": "2023-01-27T12:33:27.171Z"
   },
   {
    "duration": 76,
    "start_time": "2023-01-27T12:33:27.354Z"
   },
   {
    "duration": 62,
    "start_time": "2023-01-27T12:33:27.432Z"
   },
   {
    "duration": 20,
    "start_time": "2023-01-27T12:33:27.497Z"
   },
   {
    "duration": 5,
    "start_time": "2023-01-27T12:33:27.519Z"
   },
   {
    "duration": 400332,
    "start_time": "2023-01-27T12:33:27.525Z"
   },
   {
    "duration": 8,
    "start_time": "2023-01-27T12:40:07.858Z"
   },
   {
    "duration": 29,
    "start_time": "2023-01-27T12:42:26.764Z"
   },
   {
    "duration": 4,
    "start_time": "2023-01-27T12:45:45.154Z"
   },
   {
    "duration": 193738,
    "start_time": "2023-01-27T12:45:46.721Z"
   },
   {
    "duration": 66,
    "start_time": "2023-01-27T12:50:16.561Z"
   },
   {
    "duration": 5,
    "start_time": "2023-01-27T12:53:24.054Z"
   },
   {
    "duration": 0,
    "start_time": "2023-01-27T13:09:45.871Z"
   },
   {
    "duration": 0,
    "start_time": "2023-01-27T13:09:45.872Z"
   },
   {
    "duration": 0,
    "start_time": "2023-01-27T13:09:45.873Z"
   },
   {
    "duration": 0,
    "start_time": "2023-01-27T13:09:45.874Z"
   },
   {
    "duration": 0,
    "start_time": "2023-01-27T13:09:45.875Z"
   },
   {
    "duration": 0,
    "start_time": "2023-01-27T13:09:45.876Z"
   },
   {
    "duration": 0,
    "start_time": "2023-01-27T13:09:45.877Z"
   },
   {
    "duration": 0,
    "start_time": "2023-01-27T13:09:45.878Z"
   },
   {
    "duration": 0,
    "start_time": "2023-01-27T13:09:45.879Z"
   },
   {
    "duration": 0,
    "start_time": "2023-01-27T13:09:45.880Z"
   },
   {
    "duration": 0,
    "start_time": "2023-01-27T13:09:45.949Z"
   },
   {
    "duration": 0,
    "start_time": "2023-01-27T13:09:45.950Z"
   },
   {
    "duration": 0,
    "start_time": "2023-01-27T13:09:45.951Z"
   },
   {
    "duration": 0,
    "start_time": "2023-01-27T13:09:45.952Z"
   },
   {
    "duration": 0,
    "start_time": "2023-01-27T13:09:45.953Z"
   },
   {
    "duration": 0,
    "start_time": "2023-01-27T13:09:45.954Z"
   },
   {
    "duration": 0,
    "start_time": "2023-01-27T13:09:45.954Z"
   },
   {
    "duration": 0,
    "start_time": "2023-01-27T13:09:45.955Z"
   },
   {
    "duration": 0,
    "start_time": "2023-01-27T13:09:45.956Z"
   },
   {
    "duration": 0,
    "start_time": "2023-01-27T13:09:45.957Z"
   },
   {
    "duration": 0,
    "start_time": "2023-01-27T13:09:45.958Z"
   },
   {
    "duration": 0,
    "start_time": "2023-01-27T13:09:45.959Z"
   },
   {
    "duration": 0,
    "start_time": "2023-01-27T13:09:45.960Z"
   },
   {
    "duration": 0,
    "start_time": "2023-01-27T13:09:45.961Z"
   },
   {
    "duration": 0,
    "start_time": "2023-01-27T13:09:45.962Z"
   },
   {
    "duration": 0,
    "start_time": "2023-01-27T13:09:45.963Z"
   },
   {
    "duration": 0,
    "start_time": "2023-01-27T13:09:45.964Z"
   },
   {
    "duration": 0,
    "start_time": "2023-01-27T13:09:45.965Z"
   },
   {
    "duration": 0,
    "start_time": "2023-01-27T13:09:45.965Z"
   },
   {
    "duration": 0,
    "start_time": "2023-01-27T13:09:45.966Z"
   },
   {
    "duration": 0,
    "start_time": "2023-01-27T13:09:45.967Z"
   },
   {
    "duration": 0,
    "start_time": "2023-01-27T13:09:45.968Z"
   },
   {
    "duration": 0,
    "start_time": "2023-01-27T13:09:45.969Z"
   },
   {
    "duration": 0,
    "start_time": "2023-01-27T13:09:45.970Z"
   },
   {
    "duration": 0,
    "start_time": "2023-01-27T13:09:45.971Z"
   },
   {
    "duration": 0,
    "start_time": "2023-01-27T13:09:45.972Z"
   },
   {
    "duration": 0,
    "start_time": "2023-01-27T13:09:45.973Z"
   },
   {
    "duration": 0,
    "start_time": "2023-01-27T13:09:45.974Z"
   },
   {
    "duration": 0,
    "start_time": "2023-01-27T13:09:45.975Z"
   },
   {
    "duration": 0,
    "start_time": "2023-01-27T13:09:45.976Z"
   },
   {
    "duration": 1,
    "start_time": "2023-01-27T13:09:45.977Z"
   },
   {
    "duration": 0,
    "start_time": "2023-01-27T13:09:45.979Z"
   },
   {
    "duration": 4,
    "start_time": "2023-01-27T13:11:11.236Z"
   },
   {
    "duration": 4,
    "start_time": "2023-01-27T13:11:19.946Z"
   },
   {
    "duration": 703,
    "start_time": "2023-01-27T13:11:19.952Z"
   },
   {
    "duration": 127,
    "start_time": "2023-01-27T13:11:20.656Z"
   },
   {
    "duration": 2,
    "start_time": "2023-01-27T13:11:20.785Z"
   },
   {
    "duration": 95,
    "start_time": "2023-01-27T13:11:20.789Z"
   },
   {
    "duration": 5,
    "start_time": "2023-01-27T13:11:20.886Z"
   },
   {
    "duration": 25,
    "start_time": "2023-01-27T13:11:20.893Z"
   },
   {
    "duration": 3,
    "start_time": "2023-01-27T13:11:20.920Z"
   },
   {
    "duration": 362,
    "start_time": "2023-01-27T13:11:20.924Z"
   },
   {
    "duration": 18,
    "start_time": "2023-01-27T13:11:21.288Z"
   },
   {
    "duration": 342,
    "start_time": "2023-01-27T13:11:21.308Z"
   },
   {
    "duration": 341,
    "start_time": "2023-01-27T13:11:21.652Z"
   },
   {
    "duration": 21,
    "start_time": "2023-01-27T13:11:21.995Z"
   },
   {
    "duration": 295,
    "start_time": "2023-01-27T13:11:22.019Z"
   },
   {
    "duration": 306,
    "start_time": "2023-01-27T13:11:22.316Z"
   },
   {
    "duration": 29,
    "start_time": "2023-01-27T13:11:22.624Z"
   },
   {
    "duration": 433,
    "start_time": "2023-01-27T13:11:22.655Z"
   },
   {
    "duration": 145,
    "start_time": "2023-01-27T13:11:23.089Z"
   },
   {
    "duration": 38,
    "start_time": "2023-01-27T13:11:23.236Z"
   },
   {
    "duration": 36,
    "start_time": "2023-01-27T13:11:23.276Z"
   },
   {
    "duration": 63,
    "start_time": "2023-01-27T13:11:23.313Z"
   },
   {
    "duration": 89,
    "start_time": "2023-01-27T13:11:23.378Z"
   },
   {
    "duration": 152,
    "start_time": "2023-01-27T13:11:23.469Z"
   },
   {
    "duration": 76,
    "start_time": "2023-01-27T13:11:23.622Z"
   },
   {
    "duration": 2826,
    "start_time": "2023-01-27T13:11:23.699Z"
   },
   {
    "duration": 37,
    "start_time": "2023-01-27T13:11:26.527Z"
   },
   {
    "duration": 24,
    "start_time": "2023-01-27T13:11:26.566Z"
   },
   {
    "duration": 153,
    "start_time": "2023-01-27T13:11:26.592Z"
   },
   {
    "duration": 82,
    "start_time": "2023-01-27T13:11:26.748Z"
   },
   {
    "duration": 135,
    "start_time": "2023-01-27T13:11:26.832Z"
   },
   {
    "duration": 255,
    "start_time": "2023-01-27T13:11:26.969Z"
   },
   {
    "duration": 385,
    "start_time": "2023-01-27T13:11:27.226Z"
   },
   {
    "duration": 14,
    "start_time": "2023-01-27T13:11:27.612Z"
   },
   {
    "duration": 62,
    "start_time": "2023-01-27T13:11:27.628Z"
   },
   {
    "duration": 168,
    "start_time": "2023-01-27T13:11:27.692Z"
   },
   {
    "duration": 186,
    "start_time": "2023-01-27T13:11:27.862Z"
   },
   {
    "duration": 77,
    "start_time": "2023-01-27T13:11:28.051Z"
   },
   {
    "duration": 62,
    "start_time": "2023-01-27T13:11:28.130Z"
   },
   {
    "duration": 21,
    "start_time": "2023-01-27T13:11:28.194Z"
   },
   {
    "duration": 5,
    "start_time": "2023-01-27T13:11:28.217Z"
   },
   {
    "duration": 418438,
    "start_time": "2023-01-27T13:11:28.225Z"
   },
   {
    "duration": 10,
    "start_time": "2023-01-27T13:18:26.665Z"
   },
   {
    "duration": 0,
    "start_time": "2023-01-27T13:18:26.677Z"
   },
   {
    "duration": 429,
    "start_time": "2023-01-27T13:18:41.220Z"
   },
   {
    "duration": 76,
    "start_time": "2023-01-27T13:18:41.832Z"
   },
   {
    "duration": 395,
    "start_time": "2023-01-27T13:18:46.348Z"
   },
   {
    "duration": 4,
    "start_time": "2023-01-27T13:21:37.794Z"
   },
   {
    "duration": 533976,
    "start_time": "2023-01-27T13:21:39.991Z"
   },
   {
    "duration": 55,
    "start_time": "2023-01-27T13:36:02.576Z"
   },
   {
    "duration": 63,
    "start_time": "2023-01-27T13:36:19.971Z"
   },
   {
    "duration": 1550,
    "start_time": "2023-01-27T17:32:49.052Z"
   },
   {
    "duration": 2906,
    "start_time": "2023-01-27T17:32:50.604Z"
   },
   {
    "duration": 135,
    "start_time": "2023-01-27T17:32:53.511Z"
   },
   {
    "duration": 2,
    "start_time": "2023-01-27T17:32:53.647Z"
   },
   {
    "duration": 93,
    "start_time": "2023-01-27T17:32:53.651Z"
   },
   {
    "duration": 6,
    "start_time": "2023-01-27T17:32:53.746Z"
   },
   {
    "duration": 38,
    "start_time": "2023-01-27T17:32:53.753Z"
   },
   {
    "duration": 5,
    "start_time": "2023-01-27T17:32:53.793Z"
   },
   {
    "duration": 380,
    "start_time": "2023-01-27T17:32:53.800Z"
   },
   {
    "duration": 34,
    "start_time": "2023-01-27T17:32:54.181Z"
   },
   {
    "duration": 341,
    "start_time": "2023-01-27T17:32:54.217Z"
   },
   {
    "duration": 405,
    "start_time": "2023-01-27T17:32:54.559Z"
   },
   {
    "duration": 31,
    "start_time": "2023-01-27T17:32:54.965Z"
   },
   {
    "duration": 322,
    "start_time": "2023-01-27T17:32:54.998Z"
   },
   {
    "duration": 325,
    "start_time": "2023-01-27T17:32:55.321Z"
   },
   {
    "duration": 25,
    "start_time": "2023-01-27T17:32:55.648Z"
   },
   {
    "duration": 328,
    "start_time": "2023-01-27T17:32:55.675Z"
   },
   {
    "duration": 156,
    "start_time": "2023-01-27T17:32:56.005Z"
   },
   {
    "duration": 28,
    "start_time": "2023-01-27T17:32:56.163Z"
   },
   {
    "duration": 41,
    "start_time": "2023-01-27T17:32:56.193Z"
   },
   {
    "duration": 51,
    "start_time": "2023-01-27T17:32:56.248Z"
   },
   {
    "duration": 109,
    "start_time": "2023-01-27T17:32:56.301Z"
   },
   {
    "duration": 161,
    "start_time": "2023-01-27T17:32:56.412Z"
   },
   {
    "duration": 75,
    "start_time": "2023-01-27T17:32:56.575Z"
   },
   {
    "duration": 2844,
    "start_time": "2023-01-27T17:32:56.651Z"
   },
   {
    "duration": 19,
    "start_time": "2023-01-27T17:32:59.497Z"
   },
   {
    "duration": 140,
    "start_time": "2023-01-27T17:32:59.519Z"
   },
   {
    "duration": 89,
    "start_time": "2023-01-27T17:32:59.660Z"
   },
   {
    "duration": 121,
    "start_time": "2023-01-27T17:32:59.750Z"
   },
   {
    "duration": 240,
    "start_time": "2023-01-27T17:32:59.873Z"
   },
   {
    "duration": 434,
    "start_time": "2023-01-27T17:33:00.115Z"
   },
   {
    "duration": 13,
    "start_time": "2023-01-27T17:33:00.550Z"
   },
   {
    "duration": 74,
    "start_time": "2023-01-27T17:33:00.565Z"
   },
   {
    "duration": 166,
    "start_time": "2023-01-27T17:33:00.640Z"
   },
   {
    "duration": 182,
    "start_time": "2023-01-27T17:33:00.809Z"
   },
   {
    "duration": 93,
    "start_time": "2023-01-27T17:33:00.992Z"
   },
   {
    "duration": 64,
    "start_time": "2023-01-27T17:33:01.086Z"
   },
   {
    "duration": 21,
    "start_time": "2023-01-27T17:33:01.151Z"
   },
   {
    "duration": 28,
    "start_time": "2023-01-27T17:33:01.173Z"
   },
   {
    "duration": 500556,
    "start_time": "2023-01-27T17:33:01.203Z"
   },
   {
    "duration": 1415,
    "start_time": "2023-01-27T18:13:36.262Z"
   },
   {
    "duration": 822,
    "start_time": "2023-01-27T18:13:37.679Z"
   },
   {
    "duration": 131,
    "start_time": "2023-01-27T18:13:38.503Z"
   },
   {
    "duration": 15,
    "start_time": "2023-01-27T18:13:38.635Z"
   },
   {
    "duration": 141,
    "start_time": "2023-01-27T18:13:38.652Z"
   },
   {
    "duration": 5,
    "start_time": "2023-01-27T18:13:38.795Z"
   },
   {
    "duration": 33,
    "start_time": "2023-01-27T18:13:38.802Z"
   },
   {
    "duration": 17,
    "start_time": "2023-01-27T18:13:38.836Z"
   },
   {
    "duration": 386,
    "start_time": "2023-01-27T18:13:38.855Z"
   },
   {
    "duration": 38,
    "start_time": "2023-01-27T18:13:39.242Z"
   },
   {
    "duration": 378,
    "start_time": "2023-01-27T18:13:39.281Z"
   },
   {
    "duration": 433,
    "start_time": "2023-01-27T18:13:39.662Z"
   },
   {
    "duration": 31,
    "start_time": "2023-01-27T18:13:40.097Z"
   },
   {
    "duration": 333,
    "start_time": "2023-01-27T18:13:40.131Z"
   },
   {
    "duration": 296,
    "start_time": "2023-01-27T18:13:40.466Z"
   },
   {
    "duration": 34,
    "start_time": "2023-01-27T18:13:40.764Z"
   },
   {
    "duration": 344,
    "start_time": "2023-01-27T18:13:40.799Z"
   },
   {
    "duration": 158,
    "start_time": "2023-01-27T18:13:41.148Z"
   },
   {
    "duration": 53,
    "start_time": "2023-01-27T18:13:41.307Z"
   },
   {
    "duration": 37,
    "start_time": "2023-01-27T18:13:41.362Z"
   },
   {
    "duration": 60,
    "start_time": "2023-01-27T18:13:41.402Z"
   },
   {
    "duration": 78,
    "start_time": "2023-01-27T18:13:41.464Z"
   },
   {
    "duration": 203,
    "start_time": "2023-01-27T18:13:41.544Z"
   },
   {
    "duration": 82,
    "start_time": "2023-01-27T18:13:41.752Z"
   },
   {
    "duration": 2988,
    "start_time": "2023-01-27T18:13:41.835Z"
   },
   {
    "duration": 16,
    "start_time": "2023-01-27T18:13:44.825Z"
   },
   {
    "duration": 157,
    "start_time": "2023-01-27T18:13:44.842Z"
   },
   {
    "duration": 98,
    "start_time": "2023-01-27T18:13:45.001Z"
   },
   {
    "duration": 135,
    "start_time": "2023-01-27T18:13:45.101Z"
   },
   {
    "duration": 290,
    "start_time": "2023-01-27T18:13:45.238Z"
   },
   {
    "duration": 383,
    "start_time": "2023-01-27T18:13:45.530Z"
   },
   {
    "duration": 13,
    "start_time": "2023-01-27T18:13:45.914Z"
   },
   {
    "duration": 72,
    "start_time": "2023-01-27T18:13:45.928Z"
   },
   {
    "duration": 206,
    "start_time": "2023-01-27T18:13:46.001Z"
   },
   {
    "duration": 182,
    "start_time": "2023-01-27T18:13:46.208Z"
   },
   {
    "duration": 98,
    "start_time": "2023-01-27T18:13:46.392Z"
   },
   {
    "duration": 69,
    "start_time": "2023-01-27T18:13:46.491Z"
   },
   {
    "duration": 27,
    "start_time": "2023-01-27T18:13:46.571Z"
   },
   {
    "duration": 6,
    "start_time": "2023-01-27T18:13:46.600Z"
   },
   {
    "duration": 1542,
    "start_time": "2023-01-27T19:48:25.784Z"
   },
   {
    "duration": 1068,
    "start_time": "2023-01-27T19:48:27.328Z"
   },
   {
    "duration": 170,
    "start_time": "2023-01-27T19:48:28.398Z"
   },
   {
    "duration": 5,
    "start_time": "2023-01-27T19:48:28.571Z"
   },
   {
    "duration": 130,
    "start_time": "2023-01-27T19:48:28.579Z"
   },
   {
    "duration": 5,
    "start_time": "2023-01-27T19:48:28.711Z"
   },
   {
    "duration": 58,
    "start_time": "2023-01-27T19:48:28.718Z"
   },
   {
    "duration": 12,
    "start_time": "2023-01-27T19:48:28.778Z"
   },
   {
    "duration": 415,
    "start_time": "2023-01-27T19:48:28.791Z"
   },
   {
    "duration": 48,
    "start_time": "2023-01-27T19:48:29.209Z"
   },
   {
    "duration": 392,
    "start_time": "2023-01-27T19:48:29.266Z"
   },
   {
    "duration": 586,
    "start_time": "2023-01-27T19:48:29.660Z"
   },
   {
    "duration": 38,
    "start_time": "2023-01-27T19:48:30.248Z"
   },
   {
    "duration": 462,
    "start_time": "2023-01-27T19:48:30.291Z"
   },
   {
    "duration": 453,
    "start_time": "2023-01-27T19:48:30.758Z"
   },
   {
    "duration": 26,
    "start_time": "2023-01-27T19:48:31.216Z"
   },
   {
    "duration": 441,
    "start_time": "2023-01-27T19:48:31.252Z"
   },
   {
    "duration": 208,
    "start_time": "2023-01-27T19:48:31.695Z"
   },
   {
    "duration": 59,
    "start_time": "2023-01-27T19:48:31.905Z"
   },
   {
    "duration": 44,
    "start_time": "2023-01-27T19:48:31.968Z"
   },
   {
    "duration": 59,
    "start_time": "2023-01-27T19:48:32.013Z"
   },
   {
    "duration": 84,
    "start_time": "2023-01-27T19:48:32.073Z"
   },
   {
    "duration": 192,
    "start_time": "2023-01-27T19:48:32.160Z"
   },
   {
    "duration": 85,
    "start_time": "2023-01-27T19:48:32.360Z"
   },
   {
    "duration": 3656,
    "start_time": "2023-01-27T19:48:32.447Z"
   },
   {
    "duration": 29,
    "start_time": "2023-01-27T19:48:36.105Z"
   },
   {
    "duration": 202,
    "start_time": "2023-01-27T19:48:36.136Z"
   },
   {
    "duration": 125,
    "start_time": "2023-01-27T19:48:36.339Z"
   },
   {
    "duration": 219,
    "start_time": "2023-01-27T19:48:36.468Z"
   },
   {
    "duration": 294,
    "start_time": "2023-01-27T19:48:36.691Z"
   },
   {
    "duration": 458,
    "start_time": "2023-01-27T19:48:36.987Z"
   },
   {
    "duration": 16,
    "start_time": "2023-01-27T19:48:37.448Z"
   },
   {
    "duration": 72,
    "start_time": "2023-01-27T19:48:37.472Z"
   },
   {
    "duration": 80,
    "start_time": "2023-01-27T19:48:37.545Z"
   },
   {
    "duration": 0,
    "start_time": "2023-01-27T19:48:37.627Z"
   },
   {
    "duration": 0,
    "start_time": "2023-01-27T19:48:37.629Z"
   },
   {
    "duration": 0,
    "start_time": "2023-01-27T19:48:37.631Z"
   },
   {
    "duration": 0,
    "start_time": "2023-01-27T19:48:37.632Z"
   },
   {
    "duration": 1,
    "start_time": "2023-01-27T19:48:37.633Z"
   },
   {
    "duration": 0,
    "start_time": "2023-01-27T19:48:37.635Z"
   },
   {
    "duration": 0,
    "start_time": "2023-01-27T19:48:37.636Z"
   },
   {
    "duration": 0,
    "start_time": "2023-01-27T19:48:37.639Z"
   },
   {
    "duration": 0,
    "start_time": "2023-01-27T19:48:37.640Z"
   },
   {
    "duration": 6,
    "start_time": "2023-01-27T19:48:59.574Z"
   },
   {
    "duration": 1110,
    "start_time": "2023-01-27T19:48:59.582Z"
   },
   {
    "duration": 241,
    "start_time": "2023-01-27T19:49:00.694Z"
   },
   {
    "duration": 14,
    "start_time": "2023-01-27T19:49:00.940Z"
   },
   {
    "duration": 147,
    "start_time": "2023-01-27T19:49:00.959Z"
   },
   {
    "duration": 7,
    "start_time": "2023-01-27T19:49:01.108Z"
   },
   {
    "duration": 87,
    "start_time": "2023-01-27T19:49:01.117Z"
   },
   {
    "duration": 5,
    "start_time": "2023-01-27T19:49:01.206Z"
   },
   {
    "duration": 571,
    "start_time": "2023-01-27T19:49:01.213Z"
   },
   {
    "duration": 30,
    "start_time": "2023-01-27T19:49:01.786Z"
   },
   {
    "duration": 485,
    "start_time": "2023-01-27T19:49:01.818Z"
   },
   {
    "duration": 434,
    "start_time": "2023-01-27T19:49:02.304Z"
   },
   {
    "duration": 45,
    "start_time": "2023-01-27T19:49:02.741Z"
   },
   {
    "duration": 546,
    "start_time": "2023-01-27T19:49:02.788Z"
   },
   {
    "duration": 443,
    "start_time": "2023-01-27T19:49:03.336Z"
   },
   {
    "duration": 30,
    "start_time": "2023-01-27T19:49:03.784Z"
   },
   {
    "duration": 485,
    "start_time": "2023-01-27T19:49:03.819Z"
   },
   {
    "duration": 201,
    "start_time": "2023-01-27T19:49:04.306Z"
   },
   {
    "duration": 42,
    "start_time": "2023-01-27T19:49:04.508Z"
   },
   {
    "duration": 49,
    "start_time": "2023-01-27T19:49:04.553Z"
   },
   {
    "duration": 74,
    "start_time": "2023-01-27T19:49:04.604Z"
   },
   {
    "duration": 96,
    "start_time": "2023-01-27T19:49:04.683Z"
   },
   {
    "duration": 166,
    "start_time": "2023-01-27T19:49:04.782Z"
   },
   {
    "duration": 86,
    "start_time": "2023-01-27T19:49:04.950Z"
   },
   {
    "duration": 3369,
    "start_time": "2023-01-27T19:49:05.038Z"
   },
   {
    "duration": 18,
    "start_time": "2023-01-27T19:49:08.409Z"
   },
   {
    "duration": 175,
    "start_time": "2023-01-27T19:49:08.429Z"
   },
   {
    "duration": 101,
    "start_time": "2023-01-27T19:49:08.606Z"
   },
   {
    "duration": 144,
    "start_time": "2023-01-27T19:49:08.709Z"
   },
   {
    "duration": 369,
    "start_time": "2023-01-27T19:49:08.855Z"
   },
   {
    "duration": 416,
    "start_time": "2023-01-27T19:49:09.227Z"
   },
   {
    "duration": 25,
    "start_time": "2023-01-27T19:49:09.646Z"
   },
   {
    "duration": 82,
    "start_time": "2023-01-27T19:49:09.673Z"
   },
   {
    "duration": 10,
    "start_time": "2023-01-27T19:49:09.759Z"
   },
   {
    "duration": 48,
    "start_time": "2023-01-27T19:49:09.770Z"
   },
   {
    "duration": 16,
    "start_time": "2023-01-27T19:49:09.820Z"
   },
   {
    "duration": 1500,
    "start_time": "2023-01-27T20:01:56.819Z"
   },
   {
    "duration": 891,
    "start_time": "2023-01-27T20:01:58.321Z"
   },
   {
    "duration": 185,
    "start_time": "2023-01-27T20:01:59.214Z"
   },
   {
    "duration": 3,
    "start_time": "2023-01-27T20:01:59.401Z"
   },
   {
    "duration": 117,
    "start_time": "2023-01-27T20:01:59.406Z"
   },
   {
    "duration": 8,
    "start_time": "2023-01-27T20:01:59.525Z"
   },
   {
    "duration": 58,
    "start_time": "2023-01-27T20:01:59.535Z"
   },
   {
    "duration": 6,
    "start_time": "2023-01-27T20:01:59.594Z"
   },
   {
    "duration": 405,
    "start_time": "2023-01-27T20:01:59.602Z"
   },
   {
    "duration": 48,
    "start_time": "2023-01-27T20:02:00.010Z"
   },
   {
    "duration": 369,
    "start_time": "2023-01-27T20:02:00.060Z"
   },
   {
    "duration": 491,
    "start_time": "2023-01-27T20:02:00.430Z"
   },
   {
    "duration": 45,
    "start_time": "2023-01-27T20:02:00.923Z"
   },
   {
    "duration": 333,
    "start_time": "2023-01-27T20:02:00.970Z"
   },
   {
    "duration": 336,
    "start_time": "2023-01-27T20:02:01.304Z"
   },
   {
    "duration": 31,
    "start_time": "2023-01-27T20:02:01.642Z"
   },
   {
    "duration": 348,
    "start_time": "2023-01-27T20:02:01.675Z"
   },
   {
    "duration": 165,
    "start_time": "2023-01-27T20:02:02.025Z"
   },
   {
    "duration": 31,
    "start_time": "2023-01-27T20:02:02.192Z"
   },
   {
    "duration": 72,
    "start_time": "2023-01-27T20:02:02.225Z"
   },
   {
    "duration": 67,
    "start_time": "2023-01-27T20:02:02.300Z"
   },
   {
    "duration": 75,
    "start_time": "2023-01-27T20:02:02.369Z"
   },
   {
    "duration": 182,
    "start_time": "2023-01-27T20:02:02.446Z"
   },
   {
    "duration": 83,
    "start_time": "2023-01-27T20:02:02.630Z"
   },
   {
    "duration": 3165,
    "start_time": "2023-01-27T20:02:02.715Z"
   },
   {
    "duration": 28,
    "start_time": "2023-01-27T20:02:05.883Z"
   },
   {
    "duration": 198,
    "start_time": "2023-01-27T20:02:05.912Z"
   },
   {
    "duration": 120,
    "start_time": "2023-01-27T20:02:06.113Z"
   },
   {
    "duration": 170,
    "start_time": "2023-01-27T20:02:06.235Z"
   },
   {
    "duration": 298,
    "start_time": "2023-01-27T20:02:06.407Z"
   },
   {
    "duration": 416,
    "start_time": "2023-01-27T20:02:06.706Z"
   },
   {
    "duration": 13,
    "start_time": "2023-01-27T20:02:07.124Z"
   },
   {
    "duration": 67,
    "start_time": "2023-01-27T20:02:07.139Z"
   },
   {
    "duration": 6,
    "start_time": "2023-01-27T20:02:07.208Z"
   },
   {
    "duration": 57,
    "start_time": "2023-01-27T20:02:07.216Z"
   },
   {
    "duration": 11,
    "start_time": "2023-01-27T20:02:07.275Z"
   },
   {
    "duration": 1548,
    "start_time": "2023-01-27T20:03:20.866Z"
   },
   {
    "duration": 857,
    "start_time": "2023-01-27T20:03:22.416Z"
   },
   {
    "duration": 156,
    "start_time": "2023-01-27T20:03:23.276Z"
   },
   {
    "duration": 17,
    "start_time": "2023-01-27T20:03:23.435Z"
   },
   {
    "duration": 158,
    "start_time": "2023-01-27T20:03:23.454Z"
   },
   {
    "duration": 6,
    "start_time": "2023-01-27T20:03:23.614Z"
   },
   {
    "duration": 113,
    "start_time": "2023-01-27T20:03:23.622Z"
   },
   {
    "duration": 69,
    "start_time": "2023-01-27T20:03:23.737Z"
   },
   {
    "duration": 480,
    "start_time": "2023-01-27T20:03:23.808Z"
   },
   {
    "duration": 38,
    "start_time": "2023-01-27T20:03:24.289Z"
   },
   {
    "duration": 432,
    "start_time": "2023-01-27T20:03:24.329Z"
   },
   {
    "duration": 472,
    "start_time": "2023-01-27T20:03:24.762Z"
   },
   {
    "duration": 41,
    "start_time": "2023-01-27T20:03:25.237Z"
   },
   {
    "duration": 420,
    "start_time": "2023-01-27T20:03:25.284Z"
   },
   {
    "duration": 385,
    "start_time": "2023-01-27T20:03:25.706Z"
   },
   {
    "duration": 33,
    "start_time": "2023-01-27T20:03:26.093Z"
   },
   {
    "duration": 501,
    "start_time": "2023-01-27T20:03:26.129Z"
   },
   {
    "duration": 202,
    "start_time": "2023-01-27T20:03:26.632Z"
   },
   {
    "duration": 51,
    "start_time": "2023-01-27T20:03:26.836Z"
   },
   {
    "duration": 92,
    "start_time": "2023-01-27T20:03:26.889Z"
   },
   {
    "duration": 107,
    "start_time": "2023-01-27T20:03:26.983Z"
   },
   {
    "duration": 106,
    "start_time": "2023-01-27T20:03:27.092Z"
   },
   {
    "duration": 187,
    "start_time": "2023-01-27T20:03:27.200Z"
   },
   {
    "duration": 97,
    "start_time": "2023-01-27T20:03:27.389Z"
   },
   {
    "duration": 3402,
    "start_time": "2023-01-27T20:03:27.488Z"
   },
   {
    "duration": 19,
    "start_time": "2023-01-27T20:03:30.891Z"
   },
   {
    "duration": 287,
    "start_time": "2023-01-27T20:03:30.912Z"
   },
   {
    "duration": 106,
    "start_time": "2023-01-27T20:03:31.200Z"
   },
   {
    "duration": 164,
    "start_time": "2023-01-27T20:03:31.308Z"
   },
   {
    "duration": 269,
    "start_time": "2023-01-27T20:03:31.476Z"
   },
   {
    "duration": 475,
    "start_time": "2023-01-27T20:03:31.747Z"
   },
   {
    "duration": 14,
    "start_time": "2023-01-27T20:03:32.224Z"
   },
   {
    "duration": 114,
    "start_time": "2023-01-27T20:03:32.240Z"
   },
   {
    "duration": 8,
    "start_time": "2023-01-27T20:03:32.362Z"
   },
   {
    "duration": 63,
    "start_time": "2023-01-27T20:03:32.372Z"
   },
   {
    "duration": 20,
    "start_time": "2023-01-27T20:03:32.437Z"
   },
   {
    "duration": 1456,
    "start_time": "2023-01-27T20:22:37.333Z"
   },
   {
    "duration": 870,
    "start_time": "2023-01-27T20:22:38.791Z"
   },
   {
    "duration": 140,
    "start_time": "2023-01-27T20:22:39.664Z"
   },
   {
    "duration": 2,
    "start_time": "2023-01-27T20:22:39.806Z"
   },
   {
    "duration": 151,
    "start_time": "2023-01-27T20:22:39.810Z"
   },
   {
    "duration": 6,
    "start_time": "2023-01-27T20:22:39.965Z"
   },
   {
    "duration": 42,
    "start_time": "2023-01-27T20:22:39.972Z"
   },
   {
    "duration": 4,
    "start_time": "2023-01-27T20:22:40.017Z"
   },
   {
    "duration": 383,
    "start_time": "2023-01-27T20:22:40.023Z"
   },
   {
    "duration": 33,
    "start_time": "2023-01-27T20:22:40.408Z"
   },
   {
    "duration": 354,
    "start_time": "2023-01-27T20:22:40.450Z"
   },
   {
    "duration": 436,
    "start_time": "2023-01-27T20:22:40.806Z"
   },
   {
    "duration": 37,
    "start_time": "2023-01-27T20:22:41.244Z"
   },
   {
    "duration": 334,
    "start_time": "2023-01-27T20:22:41.285Z"
   },
   {
    "duration": 325,
    "start_time": "2023-01-27T20:22:41.621Z"
   },
   {
    "duration": 34,
    "start_time": "2023-01-27T20:22:41.948Z"
   },
   {
    "duration": 340,
    "start_time": "2023-01-27T20:22:41.983Z"
   },
   {
    "duration": 166,
    "start_time": "2023-01-27T20:22:42.325Z"
   },
   {
    "duration": 37,
    "start_time": "2023-01-27T20:22:42.493Z"
   },
   {
    "duration": 61,
    "start_time": "2023-01-27T20:22:42.532Z"
   },
   {
    "duration": 60,
    "start_time": "2023-01-27T20:22:42.594Z"
   },
   {
    "duration": 83,
    "start_time": "2023-01-27T20:22:42.655Z"
   },
   {
    "duration": 183,
    "start_time": "2023-01-27T20:22:42.740Z"
   },
   {
    "duration": 83,
    "start_time": "2023-01-27T20:22:42.925Z"
   },
   {
    "duration": 3266,
    "start_time": "2023-01-27T20:22:43.009Z"
   },
   {
    "duration": 26,
    "start_time": "2023-01-27T20:22:46.277Z"
   },
   {
    "duration": 238,
    "start_time": "2023-01-27T20:22:46.304Z"
   },
   {
    "duration": 121,
    "start_time": "2023-01-27T20:22:46.544Z"
   },
   {
    "duration": 126,
    "start_time": "2023-01-27T20:22:46.667Z"
   },
   {
    "duration": 296,
    "start_time": "2023-01-27T20:22:46.795Z"
   },
   {
    "duration": 420,
    "start_time": "2023-01-27T20:22:47.093Z"
   },
   {
    "duration": 13,
    "start_time": "2023-01-27T20:22:47.514Z"
   },
   {
    "duration": 79,
    "start_time": "2023-01-27T20:22:47.529Z"
   },
   {
    "duration": 5,
    "start_time": "2023-01-27T20:22:47.611Z"
   },
   {
    "duration": 48,
    "start_time": "2023-01-27T20:22:47.617Z"
   },
   {
    "duration": 11,
    "start_time": "2023-01-27T20:22:47.668Z"
   },
   {
    "duration": 1395551,
    "start_time": "2023-01-27T20:22:47.681Z"
   },
   {
    "duration": 210,
    "start_time": "2023-01-27T20:46:03.234Z"
   },
   {
    "duration": 220,
    "start_time": "2023-01-27T20:46:03.446Z"
   },
   {
    "duration": 107,
    "start_time": "2023-01-27T20:46:03.668Z"
   },
   {
    "duration": 32,
    "start_time": "2023-01-27T20:46:03.782Z"
   },
   {
    "duration": 1465,
    "start_time": "2023-01-27T20:51:32.317Z"
   },
   {
    "duration": 824,
    "start_time": "2023-01-27T20:51:33.785Z"
   },
   {
    "duration": 148,
    "start_time": "2023-01-27T20:51:34.611Z"
   },
   {
    "duration": 4,
    "start_time": "2023-01-27T20:51:34.760Z"
   },
   {
    "duration": 99,
    "start_time": "2023-01-27T20:51:34.767Z"
   },
   {
    "duration": 5,
    "start_time": "2023-01-27T20:51:34.868Z"
   },
   {
    "duration": 38,
    "start_time": "2023-01-27T20:51:34.874Z"
   },
   {
    "duration": 4,
    "start_time": "2023-01-27T20:51:34.914Z"
   },
   {
    "duration": 403,
    "start_time": "2023-01-27T20:51:34.920Z"
   },
   {
    "duration": 42,
    "start_time": "2023-01-27T20:51:35.325Z"
   },
   {
    "duration": 408,
    "start_time": "2023-01-27T20:51:35.369Z"
   },
   {
    "duration": 472,
    "start_time": "2023-01-27T20:51:35.781Z"
   },
   {
    "duration": 36,
    "start_time": "2023-01-27T20:51:36.255Z"
   },
   {
    "duration": 338,
    "start_time": "2023-01-27T20:51:36.295Z"
   },
   {
    "duration": 303,
    "start_time": "2023-01-27T20:51:36.634Z"
   },
   {
    "duration": 33,
    "start_time": "2023-01-27T20:51:36.939Z"
   },
   {
    "duration": 331,
    "start_time": "2023-01-27T20:51:36.974Z"
   },
   {
    "duration": 175,
    "start_time": "2023-01-27T20:51:37.306Z"
   },
   {
    "duration": 29,
    "start_time": "2023-01-27T20:51:37.482Z"
   },
   {
    "duration": 52,
    "start_time": "2023-01-27T20:51:37.513Z"
   },
   {
    "duration": 46,
    "start_time": "2023-01-27T20:51:37.567Z"
   },
   {
    "duration": 95,
    "start_time": "2023-01-27T20:51:37.615Z"
   },
   {
    "duration": 166,
    "start_time": "2023-01-27T20:51:37.712Z"
   },
   {
    "duration": 84,
    "start_time": "2023-01-27T20:51:37.879Z"
   },
   {
    "duration": 3369,
    "start_time": "2023-01-27T20:51:37.965Z"
   },
   {
    "duration": 23,
    "start_time": "2023-01-27T20:51:41.336Z"
   },
   {
    "duration": 171,
    "start_time": "2023-01-27T20:51:41.364Z"
   },
   {
    "duration": 118,
    "start_time": "2023-01-27T20:51:41.537Z"
   },
   {
    "duration": 162,
    "start_time": "2023-01-27T20:51:41.657Z"
   },
   {
    "duration": 280,
    "start_time": "2023-01-27T20:51:41.821Z"
   },
   {
    "duration": 402,
    "start_time": "2023-01-27T20:51:42.102Z"
   },
   {
    "duration": 13,
    "start_time": "2023-01-27T20:51:42.506Z"
   },
   {
    "duration": 80,
    "start_time": "2023-01-27T20:51:42.520Z"
   },
   {
    "duration": 42,
    "start_time": "2023-01-27T20:51:42.602Z"
   },
   {
    "duration": 0,
    "start_time": "2023-01-27T20:51:42.646Z"
   },
   {
    "duration": 0,
    "start_time": "2023-01-27T20:51:42.647Z"
   },
   {
    "duration": 0,
    "start_time": "2023-01-27T20:51:42.651Z"
   },
   {
    "duration": 0,
    "start_time": "2023-01-27T20:51:42.652Z"
   },
   {
    "duration": 0,
    "start_time": "2023-01-27T20:51:42.652Z"
   },
   {
    "duration": 0,
    "start_time": "2023-01-27T20:51:42.653Z"
   },
   {
    "duration": 0,
    "start_time": "2023-01-27T20:51:42.654Z"
   },
   {
    "duration": 0,
    "start_time": "2023-01-27T20:51:42.655Z"
   },
   {
    "duration": 0,
    "start_time": "2023-01-27T20:51:42.656Z"
   },
   {
    "duration": 4,
    "start_time": "2023-01-27T20:52:13.667Z"
   },
   {
    "duration": 851,
    "start_time": "2023-01-27T20:52:13.673Z"
   },
   {
    "duration": 144,
    "start_time": "2023-01-27T20:52:14.526Z"
   },
   {
    "duration": 3,
    "start_time": "2023-01-27T20:52:14.671Z"
   },
   {
    "duration": 99,
    "start_time": "2023-01-27T20:52:14.676Z"
   },
   {
    "duration": 5,
    "start_time": "2023-01-27T20:52:14.776Z"
   },
   {
    "duration": 28,
    "start_time": "2023-01-27T20:52:14.783Z"
   },
   {
    "duration": 4,
    "start_time": "2023-01-27T20:52:14.813Z"
   },
   {
    "duration": 374,
    "start_time": "2023-01-27T20:52:14.819Z"
   },
   {
    "duration": 20,
    "start_time": "2023-01-27T20:52:15.195Z"
   },
   {
    "duration": 399,
    "start_time": "2023-01-27T20:52:15.217Z"
   },
   {
    "duration": 452,
    "start_time": "2023-01-27T20:52:15.617Z"
   },
   {
    "duration": 29,
    "start_time": "2023-01-27T20:52:16.072Z"
   },
   {
    "duration": 406,
    "start_time": "2023-01-27T20:52:16.103Z"
   },
   {
    "duration": 326,
    "start_time": "2023-01-27T20:52:16.512Z"
   },
   {
    "duration": 30,
    "start_time": "2023-01-27T20:52:16.840Z"
   },
   {
    "duration": 362,
    "start_time": "2023-01-27T20:52:16.871Z"
   },
   {
    "duration": 192,
    "start_time": "2023-01-27T20:52:17.235Z"
   },
   {
    "duration": 47,
    "start_time": "2023-01-27T20:52:17.429Z"
   },
   {
    "duration": 38,
    "start_time": "2023-01-27T20:52:17.479Z"
   },
   {
    "duration": 55,
    "start_time": "2023-01-27T20:52:17.519Z"
   },
   {
    "duration": 93,
    "start_time": "2023-01-27T20:52:17.576Z"
   },
   {
    "duration": 168,
    "start_time": "2023-01-27T20:52:17.671Z"
   },
   {
    "duration": 87,
    "start_time": "2023-01-27T20:52:17.840Z"
   },
   {
    "duration": 3048,
    "start_time": "2023-01-27T20:52:17.929Z"
   },
   {
    "duration": 19,
    "start_time": "2023-01-27T20:52:20.979Z"
   },
   {
    "duration": 162,
    "start_time": "2023-01-27T20:52:21.000Z"
   },
   {
    "duration": 88,
    "start_time": "2023-01-27T20:52:21.164Z"
   },
   {
    "duration": 134,
    "start_time": "2023-01-27T20:52:21.254Z"
   },
   {
    "duration": 274,
    "start_time": "2023-01-27T20:52:21.390Z"
   },
   {
    "duration": 358,
    "start_time": "2023-01-27T20:52:21.666Z"
   },
   {
    "duration": 22,
    "start_time": "2023-01-27T20:52:22.026Z"
   },
   {
    "duration": 57,
    "start_time": "2023-01-27T20:52:22.054Z"
   },
   {
    "duration": 6,
    "start_time": "2023-01-27T20:52:22.113Z"
   },
   {
    "duration": 45,
    "start_time": "2023-01-27T20:52:22.121Z"
   },
   {
    "duration": 13,
    "start_time": "2023-01-27T20:52:22.167Z"
   },
   {
    "duration": 6,
    "start_time": "2023-01-27T20:52:22.183Z"
   },
   {
    "duration": 192,
    "start_time": "2023-01-27T20:52:22.190Z"
   },
   {
    "duration": 185,
    "start_time": "2023-01-27T20:52:22.383Z"
   },
   {
    "duration": 94,
    "start_time": "2023-01-27T20:52:22.570Z"
   },
   {
    "duration": 21,
    "start_time": "2023-01-27T20:52:22.665Z"
   },
   {
    "duration": 3,
    "start_time": "2023-01-27T20:52:22.688Z"
   },
   {
    "duration": 631,
    "start_time": "2023-01-27T20:52:22.693Z"
   },
   {
    "duration": 4,
    "start_time": "2023-01-27T21:04:26.184Z"
   },
   {
    "duration": 909,
    "start_time": "2023-01-27T21:04:26.191Z"
   },
   {
    "duration": 155,
    "start_time": "2023-01-27T21:04:27.103Z"
   },
   {
    "duration": 7,
    "start_time": "2023-01-27T21:04:27.260Z"
   },
   {
    "duration": 93,
    "start_time": "2023-01-27T21:04:27.270Z"
   },
   {
    "duration": 5,
    "start_time": "2023-01-27T21:04:27.365Z"
   },
   {
    "duration": 31,
    "start_time": "2023-01-27T21:04:27.372Z"
   },
   {
    "duration": 6,
    "start_time": "2023-01-27T21:04:27.405Z"
   },
   {
    "duration": 409,
    "start_time": "2023-01-27T21:04:27.414Z"
   },
   {
    "duration": 35,
    "start_time": "2023-01-27T21:04:27.824Z"
   },
   {
    "duration": 407,
    "start_time": "2023-01-27T21:04:27.862Z"
   },
   {
    "duration": 373,
    "start_time": "2023-01-27T21:04:28.270Z"
   },
   {
    "duration": 33,
    "start_time": "2023-01-27T21:04:28.649Z"
   },
   {
    "duration": 410,
    "start_time": "2023-01-27T21:04:28.684Z"
   },
   {
    "duration": 340,
    "start_time": "2023-01-27T21:04:29.096Z"
   },
   {
    "duration": 28,
    "start_time": "2023-01-27T21:04:29.438Z"
   },
   {
    "duration": 345,
    "start_time": "2023-01-27T21:04:29.468Z"
   },
   {
    "duration": 168,
    "start_time": "2023-01-27T21:04:29.816Z"
   },
   {
    "duration": 33,
    "start_time": "2023-01-27T21:04:29.986Z"
   },
   {
    "duration": 56,
    "start_time": "2023-01-27T21:04:30.021Z"
   },
   {
    "duration": 48,
    "start_time": "2023-01-27T21:04:30.079Z"
   },
   {
    "duration": 97,
    "start_time": "2023-01-27T21:04:30.129Z"
   },
   {
    "duration": 198,
    "start_time": "2023-01-27T21:04:30.228Z"
   },
   {
    "duration": 80,
    "start_time": "2023-01-27T21:04:30.427Z"
   },
   {
    "duration": 3294,
    "start_time": "2023-01-27T21:04:30.509Z"
   },
   {
    "duration": 29,
    "start_time": "2023-01-27T21:04:33.806Z"
   },
   {
    "duration": 146,
    "start_time": "2023-01-27T21:04:33.837Z"
   },
   {
    "duration": 87,
    "start_time": "2023-01-27T21:04:33.985Z"
   },
   {
    "duration": 146,
    "start_time": "2023-01-27T21:04:34.075Z"
   },
   {
    "duration": 315,
    "start_time": "2023-01-27T21:04:34.223Z"
   },
   {
    "duration": 426,
    "start_time": "2023-01-27T21:04:34.545Z"
   },
   {
    "duration": 21,
    "start_time": "2023-01-27T21:04:34.976Z"
   },
   {
    "duration": 89,
    "start_time": "2023-01-27T21:04:34.999Z"
   },
   {
    "duration": 8,
    "start_time": "2023-01-27T21:04:35.090Z"
   },
   {
    "duration": 53,
    "start_time": "2023-01-27T21:04:35.099Z"
   },
   {
    "duration": 27,
    "start_time": "2023-01-27T21:04:35.154Z"
   },
   {
    "duration": 7,
    "start_time": "2023-01-27T21:04:35.184Z"
   },
   {
    "duration": 174,
    "start_time": "2023-01-27T21:04:35.192Z"
   },
   {
    "duration": 204,
    "start_time": "2023-01-27T21:04:35.368Z"
   },
   {
    "duration": 89,
    "start_time": "2023-01-27T21:04:35.573Z"
   },
   {
    "duration": 36,
    "start_time": "2023-01-27T21:04:35.663Z"
   },
   {
    "duration": 6,
    "start_time": "2023-01-27T21:04:35.705Z"
   },
   {
    "duration": 552,
    "start_time": "2023-01-27T21:04:35.713Z"
   },
   {
    "duration": 5,
    "start_time": "2023-01-27T21:05:11.391Z"
   },
   {
    "duration": 925,
    "start_time": "2023-01-27T21:05:11.398Z"
   },
   {
    "duration": 149,
    "start_time": "2023-01-27T21:05:12.325Z"
   },
   {
    "duration": 3,
    "start_time": "2023-01-27T21:05:12.477Z"
   },
   {
    "duration": 123,
    "start_time": "2023-01-27T21:05:12.482Z"
   },
   {
    "duration": 8,
    "start_time": "2023-01-27T21:05:12.608Z"
   },
   {
    "duration": 52,
    "start_time": "2023-01-27T21:05:12.618Z"
   },
   {
    "duration": 5,
    "start_time": "2023-01-27T21:05:12.672Z"
   },
   {
    "duration": 563,
    "start_time": "2023-01-27T21:05:12.680Z"
   },
   {
    "duration": 39,
    "start_time": "2023-01-27T21:05:13.245Z"
   },
   {
    "duration": 503,
    "start_time": "2023-01-27T21:05:13.286Z"
   },
   {
    "duration": 389,
    "start_time": "2023-01-27T21:05:13.792Z"
   },
   {
    "duration": 27,
    "start_time": "2023-01-27T21:05:14.183Z"
   },
   {
    "duration": 395,
    "start_time": "2023-01-27T21:05:14.211Z"
   },
   {
    "duration": 358,
    "start_time": "2023-01-27T21:05:14.609Z"
   },
   {
    "duration": 28,
    "start_time": "2023-01-27T21:05:14.970Z"
   },
   {
    "duration": 697,
    "start_time": "2023-01-27T21:05:15.000Z"
   },
   {
    "duration": 303,
    "start_time": "2023-01-27T21:05:15.700Z"
   },
   {
    "duration": 61,
    "start_time": "2023-01-27T21:05:16.006Z"
   },
   {
    "duration": 79,
    "start_time": "2023-01-27T21:05:16.069Z"
   },
   {
    "duration": 79,
    "start_time": "2023-01-27T21:05:16.150Z"
   },
   {
    "duration": 135,
    "start_time": "2023-01-27T21:05:16.232Z"
   },
   {
    "duration": 276,
    "start_time": "2023-01-27T21:05:16.370Z"
   },
   {
    "duration": 129,
    "start_time": "2023-01-27T21:05:16.651Z"
   },
   {
    "duration": 4005,
    "start_time": "2023-01-27T21:05:16.783Z"
   },
   {
    "duration": 30,
    "start_time": "2023-01-27T21:05:20.790Z"
   },
   {
    "duration": 179,
    "start_time": "2023-01-27T21:05:20.826Z"
   },
   {
    "duration": 95,
    "start_time": "2023-01-27T21:05:21.007Z"
   },
   {
    "duration": 146,
    "start_time": "2023-01-27T21:05:21.103Z"
   },
   {
    "duration": 408,
    "start_time": "2023-01-27T21:05:21.251Z"
   },
   {
    "duration": 480,
    "start_time": "2023-01-27T21:05:21.662Z"
   },
   {
    "duration": 21,
    "start_time": "2023-01-27T21:05:22.143Z"
   },
   {
    "duration": 101,
    "start_time": "2023-01-27T21:05:22.166Z"
   },
   {
    "duration": 7,
    "start_time": "2023-01-27T21:05:22.270Z"
   },
   {
    "duration": 51,
    "start_time": "2023-01-27T21:05:22.279Z"
   },
   {
    "duration": 30,
    "start_time": "2023-01-27T21:05:22.333Z"
   },
   {
    "duration": 59,
    "start_time": "2023-01-27T21:05:22.366Z"
   },
   {
    "duration": 302,
    "start_time": "2023-01-27T21:05:22.426Z"
   },
   {
    "duration": 264,
    "start_time": "2023-01-27T21:05:22.730Z"
   },
   {
    "duration": 20,
    "start_time": "2023-01-27T21:05:22.996Z"
   },
   {
    "duration": 113,
    "start_time": "2023-01-27T21:05:23.018Z"
   },
   {
    "duration": 37,
    "start_time": "2023-01-27T21:05:23.133Z"
   },
   {
    "duration": 19,
    "start_time": "2023-01-27T21:05:23.172Z"
   },
   {
    "duration": 543,
    "start_time": "2023-01-27T21:05:23.193Z"
   },
   {
    "duration": 5,
    "start_time": "2023-01-27T21:07:07.389Z"
   },
   {
    "duration": 1152,
    "start_time": "2023-01-27T21:07:07.396Z"
   },
   {
    "duration": 254,
    "start_time": "2023-01-27T21:07:08.551Z"
   },
   {
    "duration": 4,
    "start_time": "2023-01-27T21:07:08.808Z"
   },
   {
    "duration": 129,
    "start_time": "2023-01-27T21:07:08.814Z"
   },
   {
    "duration": 7,
    "start_time": "2023-01-27T21:07:08.948Z"
   },
   {
    "duration": 34,
    "start_time": "2023-01-27T21:07:08.957Z"
   },
   {
    "duration": 5,
    "start_time": "2023-01-27T21:07:08.993Z"
   },
   {
    "duration": 511,
    "start_time": "2023-01-27T21:07:09.000Z"
   },
   {
    "duration": 37,
    "start_time": "2023-01-27T21:07:09.513Z"
   },
   {
    "duration": 375,
    "start_time": "2023-01-27T21:07:09.552Z"
   },
   {
    "duration": 419,
    "start_time": "2023-01-27T21:07:09.932Z"
   },
   {
    "duration": 36,
    "start_time": "2023-01-27T21:07:10.359Z"
   },
   {
    "duration": 453,
    "start_time": "2023-01-27T21:07:10.397Z"
   },
   {
    "duration": 481,
    "start_time": "2023-01-27T21:07:10.853Z"
   },
   {
    "duration": 31,
    "start_time": "2023-01-27T21:07:11.336Z"
   },
   {
    "duration": 394,
    "start_time": "2023-01-27T21:07:11.370Z"
   },
   {
    "duration": 158,
    "start_time": "2023-01-27T21:07:11.766Z"
   },
   {
    "duration": 42,
    "start_time": "2023-01-27T21:07:11.926Z"
   },
   {
    "duration": 56,
    "start_time": "2023-01-27T21:07:11.971Z"
   },
   {
    "duration": 79,
    "start_time": "2023-01-27T21:07:12.029Z"
   },
   {
    "duration": 89,
    "start_time": "2023-01-27T21:07:12.109Z"
   },
   {
    "duration": 285,
    "start_time": "2023-01-27T21:07:12.200Z"
   },
   {
    "duration": 80,
    "start_time": "2023-01-27T21:07:12.487Z"
   },
   {
    "duration": 3796,
    "start_time": "2023-01-27T21:07:12.569Z"
   },
   {
    "duration": 29,
    "start_time": "2023-01-27T21:07:16.368Z"
   },
   {
    "duration": 278,
    "start_time": "2023-01-27T21:07:16.399Z"
   },
   {
    "duration": 150,
    "start_time": "2023-01-27T21:07:16.679Z"
   },
   {
    "duration": 205,
    "start_time": "2023-01-27T21:07:16.831Z"
   },
   {
    "duration": 412,
    "start_time": "2023-01-27T21:07:17.039Z"
   },
   {
    "duration": 487,
    "start_time": "2023-01-27T21:07:17.454Z"
   },
   {
    "duration": 18,
    "start_time": "2023-01-27T21:07:17.943Z"
   },
   {
    "duration": 102,
    "start_time": "2023-01-27T21:07:17.962Z"
   },
   {
    "duration": 6,
    "start_time": "2023-01-27T21:07:18.066Z"
   },
   {
    "duration": 45,
    "start_time": "2023-01-27T21:07:18.074Z"
   },
   {
    "duration": 28,
    "start_time": "2023-01-27T21:07:18.121Z"
   },
   {
    "duration": 5,
    "start_time": "2023-01-27T21:07:18.155Z"
   },
   {
    "duration": 289,
    "start_time": "2023-01-27T21:07:18.162Z"
   },
   {
    "duration": 197,
    "start_time": "2023-01-27T21:07:18.454Z"
   },
   {
    "duration": 13,
    "start_time": "2023-01-27T21:07:18.653Z"
   },
   {
    "duration": 113,
    "start_time": "2023-01-27T21:07:18.668Z"
   },
   {
    "duration": 34,
    "start_time": "2023-01-27T21:07:18.784Z"
   },
   {
    "duration": 39,
    "start_time": "2023-01-27T21:07:18.820Z"
   },
   {
    "duration": 9,
    "start_time": "2023-01-27T21:07:18.862Z"
   },
   {
    "duration": 669,
    "start_time": "2023-01-27T21:07:18.873Z"
   },
   {
    "duration": 6,
    "start_time": "2023-01-27T21:08:15.268Z"
   },
   {
    "duration": 1036,
    "start_time": "2023-01-27T21:08:15.276Z"
   },
   {
    "duration": 250,
    "start_time": "2023-01-27T21:08:16.315Z"
   },
   {
    "duration": 3,
    "start_time": "2023-01-27T21:08:16.568Z"
   },
   {
    "duration": 208,
    "start_time": "2023-01-27T21:08:16.573Z"
   },
   {
    "duration": 7,
    "start_time": "2023-01-27T21:08:16.783Z"
   },
   {
    "duration": 46,
    "start_time": "2023-01-27T21:08:16.793Z"
   },
   {
    "duration": 5,
    "start_time": "2023-01-27T21:08:16.841Z"
   },
   {
    "duration": 442,
    "start_time": "2023-01-27T21:08:16.849Z"
   },
   {
    "duration": 32,
    "start_time": "2023-01-27T21:08:17.293Z"
   },
   {
    "duration": 630,
    "start_time": "2023-01-27T21:08:17.328Z"
   },
   {
    "duration": 463,
    "start_time": "2023-01-27T21:08:17.960Z"
   },
   {
    "duration": 45,
    "start_time": "2023-01-27T21:08:18.425Z"
   },
   {
    "duration": 440,
    "start_time": "2023-01-27T21:08:18.472Z"
   },
   {
    "duration": 446,
    "start_time": "2023-01-27T21:08:18.915Z"
   },
   {
    "duration": 38,
    "start_time": "2023-01-27T21:08:19.363Z"
   },
   {
    "duration": 630,
    "start_time": "2023-01-27T21:08:19.403Z"
   },
   {
    "duration": 300,
    "start_time": "2023-01-27T21:08:20.036Z"
   },
   {
    "duration": 52,
    "start_time": "2023-01-27T21:08:20.338Z"
   },
   {
    "duration": 74,
    "start_time": "2023-01-27T21:08:20.392Z"
   },
   {
    "duration": 80,
    "start_time": "2023-01-27T21:08:20.469Z"
   },
   {
    "duration": 98,
    "start_time": "2023-01-27T21:08:20.551Z"
   },
   {
    "duration": 159,
    "start_time": "2023-01-27T21:08:20.651Z"
   },
   {
    "duration": 84,
    "start_time": "2023-01-27T21:08:20.815Z"
   },
   {
    "duration": 3182,
    "start_time": "2023-01-27T21:08:20.901Z"
   },
   {
    "duration": 17,
    "start_time": "2023-01-27T21:08:24.085Z"
   },
   {
    "duration": 149,
    "start_time": "2023-01-27T21:08:24.104Z"
   },
   {
    "duration": 156,
    "start_time": "2023-01-27T21:08:24.256Z"
   },
   {
    "duration": 218,
    "start_time": "2023-01-27T21:08:24.415Z"
   },
   {
    "duration": 434,
    "start_time": "2023-01-27T21:08:24.636Z"
   },
   {
    "duration": 513,
    "start_time": "2023-01-27T21:08:25.072Z"
   },
   {
    "duration": 18,
    "start_time": "2023-01-27T21:08:25.587Z"
   },
   {
    "duration": 89,
    "start_time": "2023-01-27T21:08:25.607Z"
   },
   {
    "duration": 6,
    "start_time": "2023-01-27T21:08:25.697Z"
   },
   {
    "duration": 49,
    "start_time": "2023-01-27T21:08:25.705Z"
   },
   {
    "duration": 17,
    "start_time": "2023-01-27T21:08:25.756Z"
   },
   {
    "duration": 21,
    "start_time": "2023-01-27T21:08:25.775Z"
   },
   {
    "duration": 226,
    "start_time": "2023-01-27T21:08:25.798Z"
   },
   {
    "duration": 332,
    "start_time": "2023-01-27T21:08:26.027Z"
   },
   {
    "duration": 16,
    "start_time": "2023-01-27T21:08:26.361Z"
   },
   {
    "duration": 169,
    "start_time": "2023-01-27T21:08:26.380Z"
   },
   {
    "duration": 30,
    "start_time": "2023-01-27T21:08:26.551Z"
   },
   {
    "duration": 45,
    "start_time": "2023-01-27T21:08:26.583Z"
   },
   {
    "duration": 17,
    "start_time": "2023-01-27T21:08:26.630Z"
   },
   {
    "duration": 542,
    "start_time": "2023-01-27T21:08:26.649Z"
   },
   {
    "duration": 1665,
    "start_time": "2023-01-28T09:29:04.421Z"
   },
   {
    "duration": 1187,
    "start_time": "2023-01-28T09:29:06.088Z"
   },
   {
    "duration": 122,
    "start_time": "2023-01-28T09:29:07.277Z"
   },
   {
    "duration": 8,
    "start_time": "2023-01-28T09:29:07.400Z"
   },
   {
    "duration": 112,
    "start_time": "2023-01-28T09:29:07.410Z"
   },
   {
    "duration": 5,
    "start_time": "2023-01-28T09:29:07.524Z"
   },
   {
    "duration": 38,
    "start_time": "2023-01-28T09:29:07.531Z"
   },
   {
    "duration": 6,
    "start_time": "2023-01-28T09:29:07.571Z"
   },
   {
    "duration": 405,
    "start_time": "2023-01-28T09:29:07.579Z"
   },
   {
    "duration": 41,
    "start_time": "2023-01-28T09:29:07.986Z"
   },
   {
    "duration": 394,
    "start_time": "2023-01-28T09:29:08.029Z"
   },
   {
    "duration": 497,
    "start_time": "2023-01-28T09:29:08.425Z"
   },
   {
    "duration": 34,
    "start_time": "2023-01-28T09:29:08.924Z"
   },
   {
    "duration": 356,
    "start_time": "2023-01-28T09:29:08.962Z"
   },
   {
    "duration": 342,
    "start_time": "2023-01-28T09:29:09.320Z"
   },
   {
    "duration": 31,
    "start_time": "2023-01-28T09:29:09.663Z"
   },
   {
    "duration": 376,
    "start_time": "2023-01-28T09:29:09.702Z"
   },
   {
    "duration": 146,
    "start_time": "2023-01-28T09:29:10.081Z"
   },
   {
    "duration": 36,
    "start_time": "2023-01-28T09:29:10.229Z"
   },
   {
    "duration": 52,
    "start_time": "2023-01-28T09:29:10.267Z"
   },
   {
    "duration": 44,
    "start_time": "2023-01-28T09:29:10.321Z"
   },
   {
    "duration": 98,
    "start_time": "2023-01-28T09:29:10.366Z"
   },
   {
    "duration": 183,
    "start_time": "2023-01-28T09:29:10.466Z"
   },
   {
    "duration": 82,
    "start_time": "2023-01-28T09:29:10.650Z"
   },
   {
    "duration": 3217,
    "start_time": "2023-01-28T09:29:10.734Z"
   },
   {
    "duration": 16,
    "start_time": "2023-01-28T09:29:13.953Z"
   },
   {
    "duration": 137,
    "start_time": "2023-01-28T09:29:13.971Z"
   },
   {
    "duration": 94,
    "start_time": "2023-01-28T09:29:14.110Z"
   },
   {
    "duration": 144,
    "start_time": "2023-01-28T09:29:14.206Z"
   },
   {
    "duration": 281,
    "start_time": "2023-01-28T09:29:14.352Z"
   },
   {
    "duration": 455,
    "start_time": "2023-01-28T09:29:14.634Z"
   },
   {
    "duration": 20,
    "start_time": "2023-01-28T09:29:15.090Z"
   },
   {
    "duration": 59,
    "start_time": "2023-01-28T09:29:15.113Z"
   },
   {
    "duration": 5,
    "start_time": "2023-01-28T09:29:15.174Z"
   },
   {
    "duration": 59,
    "start_time": "2023-01-28T09:29:15.181Z"
   },
   {
    "duration": 12,
    "start_time": "2023-01-28T09:29:15.242Z"
   },
   {
    "duration": 20,
    "start_time": "2023-01-28T09:29:15.256Z"
   },
   {
    "duration": 194,
    "start_time": "2023-01-28T09:29:15.277Z"
   },
   {
    "duration": 210,
    "start_time": "2023-01-28T09:29:15.473Z"
   },
   {
    "duration": 10,
    "start_time": "2023-01-28T09:29:15.685Z"
   },
   {
    "duration": 188,
    "start_time": "2023-01-28T09:29:15.707Z"
   },
   {
    "duration": 19,
    "start_time": "2023-01-28T09:29:15.897Z"
   },
   {
    "duration": 33,
    "start_time": "2023-01-28T09:29:15.918Z"
   },
   {
    "duration": 16,
    "start_time": "2023-01-28T09:29:15.953Z"
   },
   {
    "duration": 1546,
    "start_time": "2023-01-28T10:24:31.771Z"
   },
   {
    "duration": 824,
    "start_time": "2023-01-28T10:24:33.319Z"
   },
   {
    "duration": 215,
    "start_time": "2023-01-28T10:24:34.145Z"
   },
   {
    "duration": 3,
    "start_time": "2023-01-28T10:24:34.363Z"
   },
   {
    "duration": 136,
    "start_time": "2023-01-28T10:24:34.368Z"
   },
   {
    "duration": 6,
    "start_time": "2023-01-28T10:24:34.507Z"
   },
   {
    "duration": 71,
    "start_time": "2023-01-28T10:24:34.515Z"
   },
   {
    "duration": 67,
    "start_time": "2023-01-28T10:24:34.588Z"
   },
   {
    "duration": 410,
    "start_time": "2023-01-28T10:24:34.657Z"
   },
   {
    "duration": 38,
    "start_time": "2023-01-28T10:24:35.069Z"
   },
   {
    "duration": 386,
    "start_time": "2023-01-28T10:24:35.108Z"
   },
   {
    "duration": 457,
    "start_time": "2023-01-28T10:24:35.496Z"
   },
   {
    "duration": 36,
    "start_time": "2023-01-28T10:24:35.956Z"
   },
   {
    "duration": 335,
    "start_time": "2023-01-28T10:24:36.007Z"
   },
   {
    "duration": 331,
    "start_time": "2023-01-28T10:24:36.343Z"
   },
   {
    "duration": 31,
    "start_time": "2023-01-28T10:24:36.676Z"
   },
   {
    "duration": 342,
    "start_time": "2023-01-28T10:24:36.709Z"
   },
   {
    "duration": 131,
    "start_time": "2023-01-28T10:24:37.053Z"
   },
   {
    "duration": 48,
    "start_time": "2023-01-28T10:24:37.186Z"
   },
   {
    "duration": 95,
    "start_time": "2023-01-28T10:24:37.237Z"
   },
   {
    "duration": 66,
    "start_time": "2023-01-28T10:24:37.333Z"
   },
   {
    "duration": 98,
    "start_time": "2023-01-28T10:24:37.401Z"
   },
   {
    "duration": 164,
    "start_time": "2023-01-28T10:24:37.500Z"
   },
   {
    "duration": 87,
    "start_time": "2023-01-28T10:24:37.666Z"
   },
   {
    "duration": 3148,
    "start_time": "2023-01-28T10:24:37.755Z"
   },
   {
    "duration": 17,
    "start_time": "2023-01-28T10:24:40.905Z"
   },
   {
    "duration": 128,
    "start_time": "2023-01-28T10:24:40.924Z"
   },
   {
    "duration": 73,
    "start_time": "2023-01-28T10:24:41.054Z"
   },
   {
    "duration": 134,
    "start_time": "2023-01-28T10:24:41.129Z"
   },
   {
    "duration": 309,
    "start_time": "2023-01-28T10:24:41.266Z"
   },
   {
    "duration": 399,
    "start_time": "2023-01-28T10:24:41.577Z"
   },
   {
    "duration": 13,
    "start_time": "2023-01-28T10:24:41.977Z"
   },
   {
    "duration": 66,
    "start_time": "2023-01-28T10:24:41.992Z"
   },
   {
    "duration": 8,
    "start_time": "2023-01-28T10:24:42.060Z"
   },
   {
    "duration": 29,
    "start_time": "2023-01-28T10:24:42.070Z"
   },
   {
    "duration": 53,
    "start_time": "2023-01-28T10:24:42.101Z"
   },
   {
    "duration": 13,
    "start_time": "2023-01-28T10:24:42.156Z"
   },
   {
    "duration": 17,
    "start_time": "2023-01-28T10:24:42.170Z"
   },
   {
    "duration": 141,
    "start_time": "2023-01-28T10:24:42.189Z"
   },
   {
    "duration": 0,
    "start_time": "2023-01-28T10:24:42.332Z"
   },
   {
    "duration": 0,
    "start_time": "2023-01-28T10:24:42.333Z"
   },
   {
    "duration": 0,
    "start_time": "2023-01-28T10:24:42.334Z"
   },
   {
    "duration": 0,
    "start_time": "2023-01-28T10:24:42.335Z"
   },
   {
    "duration": 0,
    "start_time": "2023-01-28T10:24:42.337Z"
   },
   {
    "duration": 0,
    "start_time": "2023-01-28T10:24:42.339Z"
   },
   {
    "duration": 0,
    "start_time": "2023-01-28T10:24:42.340Z"
   },
   {
    "duration": 5,
    "start_time": "2023-01-28T10:26:38.073Z"
   },
   {
    "duration": 782,
    "start_time": "2023-01-28T10:26:38.079Z"
   },
   {
    "duration": 122,
    "start_time": "2023-01-28T10:26:38.863Z"
   },
   {
    "duration": 3,
    "start_time": "2023-01-28T10:26:38.986Z"
   },
   {
    "duration": 102,
    "start_time": "2023-01-28T10:26:39.002Z"
   },
   {
    "duration": 6,
    "start_time": "2023-01-28T10:26:39.107Z"
   },
   {
    "duration": 28,
    "start_time": "2023-01-28T10:26:39.115Z"
   },
   {
    "duration": 5,
    "start_time": "2023-01-28T10:26:39.145Z"
   },
   {
    "duration": 431,
    "start_time": "2023-01-28T10:26:39.152Z"
   },
   {
    "duration": 28,
    "start_time": "2023-01-28T10:26:39.585Z"
   },
   {
    "duration": 377,
    "start_time": "2023-01-28T10:26:39.616Z"
   },
   {
    "duration": 470,
    "start_time": "2023-01-28T10:26:39.995Z"
   },
   {
    "duration": 42,
    "start_time": "2023-01-28T10:26:40.467Z"
   },
   {
    "duration": 351,
    "start_time": "2023-01-28T10:26:40.512Z"
   },
   {
    "duration": 334,
    "start_time": "2023-01-28T10:26:40.865Z"
   },
   {
    "duration": 23,
    "start_time": "2023-01-28T10:26:41.201Z"
   },
   {
    "duration": 381,
    "start_time": "2023-01-28T10:26:41.226Z"
   },
   {
    "duration": 126,
    "start_time": "2023-01-28T10:26:41.609Z"
   },
   {
    "duration": 30,
    "start_time": "2023-01-28T10:26:41.737Z"
   },
   {
    "duration": 52,
    "start_time": "2023-01-28T10:26:41.769Z"
   },
   {
    "duration": 45,
    "start_time": "2023-01-28T10:26:41.823Z"
   },
   {
    "duration": 97,
    "start_time": "2023-01-28T10:26:41.870Z"
   },
   {
    "duration": 166,
    "start_time": "2023-01-28T10:26:41.969Z"
   },
   {
    "duration": 84,
    "start_time": "2023-01-28T10:26:42.137Z"
   },
   {
    "duration": 3397,
    "start_time": "2023-01-28T10:26:42.223Z"
   },
   {
    "duration": 17,
    "start_time": "2023-01-28T10:26:45.621Z"
   },
   {
    "duration": 124,
    "start_time": "2023-01-28T10:26:45.640Z"
   },
   {
    "duration": 80,
    "start_time": "2023-01-28T10:26:45.766Z"
   },
   {
    "duration": 129,
    "start_time": "2023-01-28T10:26:45.850Z"
   },
   {
    "duration": 249,
    "start_time": "2023-01-28T10:26:45.981Z"
   },
   {
    "duration": 446,
    "start_time": "2023-01-28T10:26:46.232Z"
   },
   {
    "duration": 12,
    "start_time": "2023-01-28T10:26:46.680Z"
   },
   {
    "duration": 59,
    "start_time": "2023-01-28T10:26:46.703Z"
   },
   {
    "duration": 7,
    "start_time": "2023-01-28T10:26:46.764Z"
   },
   {
    "duration": 26,
    "start_time": "2023-01-28T10:26:46.773Z"
   },
   {
    "duration": 57,
    "start_time": "2023-01-28T10:26:46.801Z"
   },
   {
    "duration": 15,
    "start_time": "2023-01-28T10:26:46.860Z"
   },
   {
    "duration": 22,
    "start_time": "2023-01-28T10:26:46.877Z"
   },
   {
    "duration": 188,
    "start_time": "2023-01-28T10:26:46.901Z"
   },
   {
    "duration": 212,
    "start_time": "2023-01-28T10:26:47.091Z"
   },
   {
    "duration": 12,
    "start_time": "2023-01-28T10:26:47.304Z"
   },
   {
    "duration": 167,
    "start_time": "2023-01-28T10:26:47.318Z"
   },
   {
    "duration": 27,
    "start_time": "2023-01-28T10:26:47.486Z"
   },
   {
    "duration": 30,
    "start_time": "2023-01-28T10:26:47.515Z"
   },
   {
    "duration": 40,
    "start_time": "2023-01-28T10:26:47.547Z"
   },
   {
    "duration": 750559,
    "start_time": "2023-01-28T10:26:47.589Z"
   },
   {
    "duration": 732819,
    "start_time": "2023-01-28T10:47:21.594Z"
   },
   {
    "duration": 5,
    "start_time": "2023-01-28T11:16:53.053Z"
   },
   {
    "duration": 770,
    "start_time": "2023-01-28T11:16:53.060Z"
   },
   {
    "duration": 115,
    "start_time": "2023-01-28T11:16:53.831Z"
   },
   {
    "duration": 3,
    "start_time": "2023-01-28T11:16:53.947Z"
   },
   {
    "duration": 127,
    "start_time": "2023-01-28T11:16:53.952Z"
   },
   {
    "duration": 7,
    "start_time": "2023-01-28T11:16:54.081Z"
   },
   {
    "duration": 51,
    "start_time": "2023-01-28T11:16:54.090Z"
   },
   {
    "duration": 22,
    "start_time": "2023-01-28T11:16:54.145Z"
   },
   {
    "duration": 403,
    "start_time": "2023-01-28T11:16:54.169Z"
   },
   {
    "duration": 35,
    "start_time": "2023-01-28T11:16:54.574Z"
   },
   {
    "duration": 381,
    "start_time": "2023-01-28T11:16:54.612Z"
   },
   {
    "duration": 475,
    "start_time": "2023-01-28T11:16:54.995Z"
   },
   {
    "duration": 36,
    "start_time": "2023-01-28T11:16:55.472Z"
   },
   {
    "duration": 336,
    "start_time": "2023-01-28T11:16:55.510Z"
   },
   {
    "duration": 327,
    "start_time": "2023-01-28T11:16:55.847Z"
   },
   {
    "duration": 30,
    "start_time": "2023-01-28T11:16:56.176Z"
   },
   {
    "duration": 357,
    "start_time": "2023-01-28T11:16:56.208Z"
   },
   {
    "duration": 120,
    "start_time": "2023-01-28T11:16:56.566Z"
   },
   {
    "duration": 35,
    "start_time": "2023-01-28T11:16:56.687Z"
   },
   {
    "duration": 38,
    "start_time": "2023-01-28T11:16:56.724Z"
   },
   {
    "duration": 58,
    "start_time": "2023-01-28T11:16:56.763Z"
   },
   {
    "duration": 90,
    "start_time": "2023-01-28T11:16:56.823Z"
   },
   {
    "duration": 159,
    "start_time": "2023-01-28T11:16:56.915Z"
   },
   {
    "duration": 81,
    "start_time": "2023-01-28T11:16:57.076Z"
   },
   {
    "duration": 3194,
    "start_time": "2023-01-28T11:16:57.159Z"
   },
   {
    "duration": 17,
    "start_time": "2023-01-28T11:17:00.355Z"
   },
   {
    "duration": 130,
    "start_time": "2023-01-28T11:17:00.373Z"
   },
   {
    "duration": 78,
    "start_time": "2023-01-28T11:17:00.505Z"
   },
   {
    "duration": 152,
    "start_time": "2023-01-28T11:17:00.587Z"
   },
   {
    "duration": 272,
    "start_time": "2023-01-28T11:17:00.742Z"
   },
   {
    "duration": 448,
    "start_time": "2023-01-28T11:17:01.017Z"
   },
   {
    "duration": 15,
    "start_time": "2023-01-28T11:17:01.467Z"
   },
   {
    "duration": 74,
    "start_time": "2023-01-28T11:17:01.484Z"
   },
   {
    "duration": 7,
    "start_time": "2023-01-28T11:17:01.559Z"
   },
   {
    "duration": 24,
    "start_time": "2023-01-28T11:17:01.569Z"
   },
   {
    "duration": 56,
    "start_time": "2023-01-28T11:17:01.595Z"
   },
   {
    "duration": 13,
    "start_time": "2023-01-28T11:17:01.653Z"
   },
   {
    "duration": 14,
    "start_time": "2023-01-28T11:17:01.668Z"
   },
   {
    "duration": 170,
    "start_time": "2023-01-28T11:17:01.684Z"
   },
   {
    "duration": 177,
    "start_time": "2023-01-28T11:17:01.856Z"
   },
   {
    "duration": 12,
    "start_time": "2023-01-28T11:17:02.035Z"
   },
   {
    "duration": 160,
    "start_time": "2023-01-28T11:17:02.049Z"
   },
   {
    "duration": 34,
    "start_time": "2023-01-28T11:17:02.211Z"
   },
   {
    "duration": 45,
    "start_time": "2023-01-28T11:17:02.247Z"
   },
   {
    "duration": 15,
    "start_time": "2023-01-28T11:17:02.293Z"
   },
   {
    "duration": 938332,
    "start_time": "2023-01-28T11:17:02.309Z"
   },
   {
    "duration": 0,
    "start_time": "2023-01-28T11:32:40.656Z"
   },
   {
    "duration": 10,
    "start_time": "2023-01-28T11:36:44.620Z"
   },
   {
    "duration": 4,
    "start_time": "2023-01-28T11:36:56.235Z"
   },
   {
    "duration": 11,
    "start_time": "2023-01-28T11:37:06.063Z"
   },
   {
    "duration": 10,
    "start_time": "2023-01-28T11:37:15.091Z"
   },
   {
    "duration": 7,
    "start_time": "2023-01-28T11:38:54.915Z"
   },
   {
    "duration": 4,
    "start_time": "2023-01-28T11:39:07.613Z"
   },
   {
    "duration": 62,
    "start_time": "2023-01-28T11:39:18.418Z"
   },
   {
    "duration": 42,
    "start_time": "2023-01-28T11:39:24.640Z"
   },
   {
    "duration": 4,
    "start_time": "2023-01-28T11:39:29.268Z"
   },
   {
    "duration": 9,
    "start_time": "2023-01-28T11:40:19.376Z"
   },
   {
    "duration": 44,
    "start_time": "2023-01-28T11:40:28.081Z"
   },
   {
    "duration": 5,
    "start_time": "2023-01-28T11:41:04.088Z"
   },
   {
    "duration": 3,
    "start_time": "2023-01-28T11:54:39.020Z"
   },
   {
    "duration": 733,
    "start_time": "2023-01-28T11:55:06.803Z"
   },
   {
    "duration": 5,
    "start_time": "2023-01-28T11:55:30.960Z"
   },
   {
    "duration": 6,
    "start_time": "2023-01-28T11:55:36.572Z"
   },
   {
    "duration": 689,
    "start_time": "2023-01-28T11:57:28.175Z"
   },
   {
    "duration": 689,
    "start_time": "2023-01-28T11:58:08.816Z"
   },
   {
    "duration": 680,
    "start_time": "2023-01-28T11:58:22.678Z"
   },
   {
    "duration": 4,
    "start_time": "2023-01-28T11:59:10.860Z"
   },
   {
    "duration": 6,
    "start_time": "2023-01-28T11:59:14.053Z"
   },
   {
    "duration": 4,
    "start_time": "2023-01-28T12:00:20.071Z"
   },
   {
    "duration": 4,
    "start_time": "2023-01-28T12:01:09.286Z"
   },
   {
    "duration": 4,
    "start_time": "2023-01-28T12:12:10.763Z"
   },
   {
    "duration": 871,
    "start_time": "2023-01-28T12:12:10.769Z"
   },
   {
    "duration": 131,
    "start_time": "2023-01-28T12:12:11.641Z"
   },
   {
    "duration": 9,
    "start_time": "2023-01-28T12:12:11.773Z"
   },
   {
    "duration": 145,
    "start_time": "2023-01-28T12:12:11.784Z"
   },
   {
    "duration": 5,
    "start_time": "2023-01-28T12:12:11.931Z"
   },
   {
    "duration": 55,
    "start_time": "2023-01-28T12:12:11.938Z"
   },
   {
    "duration": 73,
    "start_time": "2023-01-28T12:12:11.994Z"
   },
   {
    "duration": 418,
    "start_time": "2023-01-28T12:12:12.069Z"
   },
   {
    "duration": 32,
    "start_time": "2023-01-28T12:12:12.489Z"
   },
   {
    "duration": 410,
    "start_time": "2023-01-28T12:12:12.528Z"
   },
   {
    "duration": 507,
    "start_time": "2023-01-28T12:12:12.940Z"
   },
   {
    "duration": 33,
    "start_time": "2023-01-28T12:12:13.448Z"
   },
   {
    "duration": 416,
    "start_time": "2023-01-28T12:12:13.483Z"
   },
   {
    "duration": 435,
    "start_time": "2023-01-28T12:12:13.903Z"
   },
   {
    "duration": 25,
    "start_time": "2023-01-28T12:12:14.340Z"
   },
   {
    "duration": 385,
    "start_time": "2023-01-28T12:12:14.370Z"
   },
   {
    "duration": 162,
    "start_time": "2023-01-28T12:12:14.757Z"
   },
   {
    "duration": 31,
    "start_time": "2023-01-28T12:12:14.926Z"
   },
   {
    "duration": 36,
    "start_time": "2023-01-28T12:12:14.959Z"
   },
   {
    "duration": 58,
    "start_time": "2023-01-28T12:12:14.997Z"
   },
   {
    "duration": 99,
    "start_time": "2023-01-28T12:12:15.057Z"
   },
   {
    "duration": 185,
    "start_time": "2023-01-28T12:12:15.157Z"
   },
   {
    "duration": 89,
    "start_time": "2023-01-28T12:12:15.344Z"
   },
   {
    "duration": 3389,
    "start_time": "2023-01-28T12:12:15.434Z"
   },
   {
    "duration": 21,
    "start_time": "2023-01-28T12:12:18.825Z"
   },
   {
    "duration": 127,
    "start_time": "2023-01-28T12:12:18.848Z"
   },
   {
    "duration": 95,
    "start_time": "2023-01-28T12:12:18.977Z"
   },
   {
    "duration": 156,
    "start_time": "2023-01-28T12:12:19.075Z"
   },
   {
    "duration": 291,
    "start_time": "2023-01-28T12:12:19.233Z"
   },
   {
    "duration": 406,
    "start_time": "2023-01-28T12:12:19.534Z"
   },
   {
    "duration": 13,
    "start_time": "2023-01-28T12:12:19.942Z"
   },
   {
    "duration": 90,
    "start_time": "2023-01-28T12:12:19.957Z"
   },
   {
    "duration": 7,
    "start_time": "2023-01-28T12:12:20.049Z"
   },
   {
    "duration": 14,
    "start_time": "2023-01-28T12:12:20.058Z"
   },
   {
    "duration": 10,
    "start_time": "2023-01-28T12:12:20.074Z"
   },
   {
    "duration": 48,
    "start_time": "2023-01-28T12:12:20.085Z"
   },
   {
    "duration": 12,
    "start_time": "2023-01-28T12:12:20.135Z"
   },
   {
    "duration": 6,
    "start_time": "2023-01-28T12:12:20.149Z"
   },
   {
    "duration": 138,
    "start_time": "2023-01-28T12:12:20.156Z"
   },
   {
    "duration": 203,
    "start_time": "2023-01-28T12:12:20.296Z"
   },
   {
    "duration": 24,
    "start_time": "2023-01-28T12:12:20.501Z"
   },
   {
    "duration": 143,
    "start_time": "2023-01-28T12:12:20.529Z"
   },
   {
    "duration": 19,
    "start_time": "2023-01-28T12:12:20.674Z"
   },
   {
    "duration": 42,
    "start_time": "2023-01-28T12:12:20.703Z"
   },
   {
    "duration": 5,
    "start_time": "2023-01-28T12:12:20.746Z"
   },
   {
    "duration": 667791,
    "start_time": "2023-01-28T12:12:20.752Z"
   },
   {
    "duration": 7,
    "start_time": "2023-01-28T12:24:13.331Z"
   },
   {
    "duration": 4,
    "start_time": "2023-01-28T12:29:15.492Z"
   },
   {
    "duration": 850,
    "start_time": "2023-01-28T12:29:15.498Z"
   },
   {
    "duration": 122,
    "start_time": "2023-01-28T12:29:16.350Z"
   },
   {
    "duration": 3,
    "start_time": "2023-01-28T12:29:16.473Z"
   },
   {
    "duration": 109,
    "start_time": "2023-01-28T12:29:16.478Z"
   },
   {
    "duration": 6,
    "start_time": "2023-01-28T12:29:16.588Z"
   },
   {
    "duration": 46,
    "start_time": "2023-01-28T12:29:16.609Z"
   },
   {
    "duration": 5,
    "start_time": "2023-01-28T12:29:16.657Z"
   },
   {
    "duration": 383,
    "start_time": "2023-01-28T12:29:16.663Z"
   },
   {
    "duration": 30,
    "start_time": "2023-01-28T12:29:17.047Z"
   },
   {
    "duration": 446,
    "start_time": "2023-01-28T12:29:17.080Z"
   },
   {
    "duration": 409,
    "start_time": "2023-01-28T12:29:17.529Z"
   },
   {
    "duration": 30,
    "start_time": "2023-01-28T12:29:17.940Z"
   },
   {
    "duration": 468,
    "start_time": "2023-01-28T12:29:17.973Z"
   },
   {
    "duration": 345,
    "start_time": "2023-01-28T12:29:18.443Z"
   },
   {
    "duration": 37,
    "start_time": "2023-01-28T12:29:18.790Z"
   },
   {
    "duration": 366,
    "start_time": "2023-01-28T12:29:18.833Z"
   },
   {
    "duration": 150,
    "start_time": "2023-01-28T12:29:19.203Z"
   },
   {
    "duration": 29,
    "start_time": "2023-01-28T12:29:19.354Z"
   },
   {
    "duration": 60,
    "start_time": "2023-01-28T12:29:19.385Z"
   },
   {
    "duration": 45,
    "start_time": "2023-01-28T12:29:19.447Z"
   },
   {
    "duration": 83,
    "start_time": "2023-01-28T12:29:19.503Z"
   },
   {
    "duration": 172,
    "start_time": "2023-01-28T12:29:19.588Z"
   },
   {
    "duration": 81,
    "start_time": "2023-01-28T12:29:19.762Z"
   },
   {
    "duration": 2528,
    "start_time": "2023-01-28T12:29:19.844Z"
   },
   {
    "duration": 0,
    "start_time": "2023-01-28T12:29:22.374Z"
   },
   {
    "duration": 0,
    "start_time": "2023-01-28T12:29:22.375Z"
   },
   {
    "duration": 0,
    "start_time": "2023-01-28T12:29:22.376Z"
   },
   {
    "duration": 0,
    "start_time": "2023-01-28T12:29:22.377Z"
   },
   {
    "duration": 0,
    "start_time": "2023-01-28T12:29:22.377Z"
   },
   {
    "duration": 0,
    "start_time": "2023-01-28T12:29:22.378Z"
   },
   {
    "duration": 0,
    "start_time": "2023-01-28T12:29:22.385Z"
   },
   {
    "duration": 0,
    "start_time": "2023-01-28T12:29:22.386Z"
   },
   {
    "duration": 0,
    "start_time": "2023-01-28T12:29:22.387Z"
   },
   {
    "duration": 0,
    "start_time": "2023-01-28T12:29:22.389Z"
   },
   {
    "duration": 0,
    "start_time": "2023-01-28T12:29:22.407Z"
   },
   {
    "duration": 0,
    "start_time": "2023-01-28T12:29:22.408Z"
   },
   {
    "duration": 0,
    "start_time": "2023-01-28T12:29:22.409Z"
   },
   {
    "duration": 0,
    "start_time": "2023-01-28T12:29:22.409Z"
   },
   {
    "duration": 0,
    "start_time": "2023-01-28T12:29:22.410Z"
   },
   {
    "duration": 0,
    "start_time": "2023-01-28T12:29:22.422Z"
   },
   {
    "duration": 0,
    "start_time": "2023-01-28T12:29:22.423Z"
   },
   {
    "duration": 0,
    "start_time": "2023-01-28T12:29:22.427Z"
   },
   {
    "duration": 0,
    "start_time": "2023-01-28T12:29:22.428Z"
   },
   {
    "duration": 0,
    "start_time": "2023-01-28T12:29:22.429Z"
   },
   {
    "duration": 0,
    "start_time": "2023-01-28T12:29:22.431Z"
   },
   {
    "duration": 0,
    "start_time": "2023-01-28T12:29:22.432Z"
   },
   {
    "duration": 0,
    "start_time": "2023-01-28T12:29:22.435Z"
   },
   {
    "duration": 1495,
    "start_time": "2023-01-28T12:29:37.389Z"
   },
   {
    "duration": 891,
    "start_time": "2023-01-28T12:29:38.886Z"
   },
   {
    "duration": 134,
    "start_time": "2023-01-28T12:29:39.779Z"
   },
   {
    "duration": 11,
    "start_time": "2023-01-28T12:29:39.919Z"
   },
   {
    "duration": 105,
    "start_time": "2023-01-28T12:29:39.932Z"
   },
   {
    "duration": 6,
    "start_time": "2023-01-28T12:29:40.039Z"
   },
   {
    "duration": 33,
    "start_time": "2023-01-28T12:29:40.047Z"
   },
   {
    "duration": 26,
    "start_time": "2023-01-28T12:29:40.082Z"
   },
   {
    "duration": 408,
    "start_time": "2023-01-28T12:29:40.115Z"
   },
   {
    "duration": 34,
    "start_time": "2023-01-28T12:29:40.527Z"
   },
   {
    "duration": 410,
    "start_time": "2023-01-28T12:29:40.562Z"
   },
   {
    "duration": 521,
    "start_time": "2023-01-28T12:29:40.973Z"
   },
   {
    "duration": 38,
    "start_time": "2023-01-28T12:29:41.513Z"
   },
   {
    "duration": 384,
    "start_time": "2023-01-28T12:29:41.558Z"
   },
   {
    "duration": 370,
    "start_time": "2023-01-28T12:29:41.946Z"
   },
   {
    "duration": 29,
    "start_time": "2023-01-28T12:29:42.318Z"
   },
   {
    "duration": 389,
    "start_time": "2023-01-28T12:29:42.350Z"
   },
   {
    "duration": 139,
    "start_time": "2023-01-28T12:29:42.741Z"
   },
   {
    "duration": 44,
    "start_time": "2023-01-28T12:29:42.882Z"
   },
   {
    "duration": 44,
    "start_time": "2023-01-28T12:29:42.928Z"
   },
   {
    "duration": 70,
    "start_time": "2023-01-28T12:29:42.974Z"
   },
   {
    "duration": 87,
    "start_time": "2023-01-28T12:29:43.064Z"
   },
   {
    "duration": 203,
    "start_time": "2023-01-28T12:29:43.153Z"
   },
   {
    "duration": 91,
    "start_time": "2023-01-28T12:29:43.358Z"
   },
   {
    "duration": 3465,
    "start_time": "2023-01-28T12:29:43.451Z"
   },
   {
    "duration": 22,
    "start_time": "2023-01-28T12:29:46.919Z"
   },
   {
    "duration": 139,
    "start_time": "2023-01-28T12:29:46.942Z"
   },
   {
    "duration": 89,
    "start_time": "2023-01-28T12:29:47.082Z"
   },
   {
    "duration": 165,
    "start_time": "2023-01-28T12:29:47.173Z"
   },
   {
    "duration": 277,
    "start_time": "2023-01-28T12:29:47.340Z"
   },
   {
    "duration": 391,
    "start_time": "2023-01-28T12:29:47.619Z"
   },
   {
    "duration": 15,
    "start_time": "2023-01-28T12:29:48.017Z"
   },
   {
    "duration": 66,
    "start_time": "2023-01-28T12:29:48.034Z"
   },
   {
    "duration": 8,
    "start_time": "2023-01-28T12:29:48.102Z"
   },
   {
    "duration": 30,
    "start_time": "2023-01-28T12:29:48.118Z"
   },
   {
    "duration": 20,
    "start_time": "2023-01-28T12:29:48.150Z"
   },
   {
    "duration": 55,
    "start_time": "2023-01-28T12:29:48.172Z"
   },
   {
    "duration": 15,
    "start_time": "2023-01-28T12:29:48.232Z"
   },
   {
    "duration": 21,
    "start_time": "2023-01-28T12:29:48.249Z"
   },
   {
    "duration": 173,
    "start_time": "2023-01-28T12:29:48.272Z"
   },
   {
    "duration": 194,
    "start_time": "2023-01-28T12:29:48.448Z"
   },
   {
    "duration": 11,
    "start_time": "2023-01-28T12:29:48.644Z"
   },
   {
    "duration": 161,
    "start_time": "2023-01-28T12:29:48.656Z"
   },
   {
    "duration": 20,
    "start_time": "2023-01-28T12:29:48.819Z"
   },
   {
    "duration": 24,
    "start_time": "2023-01-28T12:29:48.841Z"
   },
   {
    "duration": 28,
    "start_time": "2023-01-28T12:29:48.867Z"
   },
   {
    "duration": 145499,
    "start_time": "2023-01-28T12:29:48.896Z"
   },
   {
    "duration": 11,
    "start_time": "2023-01-28T12:32:14.397Z"
   },
   {
    "duration": 5,
    "start_time": "2023-01-28T12:34:02.054Z"
   },
   {
    "duration": 887,
    "start_time": "2023-01-28T12:34:02.061Z"
   },
   {
    "duration": 137,
    "start_time": "2023-01-28T12:34:02.951Z"
   },
   {
    "duration": 3,
    "start_time": "2023-01-28T12:34:03.089Z"
   },
   {
    "duration": 104,
    "start_time": "2023-01-28T12:34:03.107Z"
   },
   {
    "duration": 14,
    "start_time": "2023-01-28T12:34:03.219Z"
   },
   {
    "duration": 33,
    "start_time": "2023-01-28T12:34:03.237Z"
   },
   {
    "duration": 4,
    "start_time": "2023-01-28T12:34:03.272Z"
   },
   {
    "duration": 402,
    "start_time": "2023-01-28T12:34:03.278Z"
   },
   {
    "duration": 49,
    "start_time": "2023-01-28T12:34:03.682Z"
   },
   {
    "duration": 417,
    "start_time": "2023-01-28T12:34:03.734Z"
   },
   {
    "duration": 604,
    "start_time": "2023-01-28T12:34:04.153Z"
   },
   {
    "duration": 31,
    "start_time": "2023-01-28T12:34:04.759Z"
   },
   {
    "duration": 427,
    "start_time": "2023-01-28T12:34:04.792Z"
   },
   {
    "duration": 359,
    "start_time": "2023-01-28T12:34:05.227Z"
   },
   {
    "duration": 42,
    "start_time": "2023-01-28T12:34:05.588Z"
   },
   {
    "duration": 365,
    "start_time": "2023-01-28T12:34:05.632Z"
   },
   {
    "duration": 151,
    "start_time": "2023-01-28T12:34:05.998Z"
   },
   {
    "duration": 31,
    "start_time": "2023-01-28T12:34:06.151Z"
   },
   {
    "duration": 56,
    "start_time": "2023-01-28T12:34:06.184Z"
   },
   {
    "duration": 49,
    "start_time": "2023-01-28T12:34:06.241Z"
   },
   {
    "duration": 97,
    "start_time": "2023-01-28T12:34:06.291Z"
   },
   {
    "duration": 169,
    "start_time": "2023-01-28T12:34:06.390Z"
   },
   {
    "duration": 95,
    "start_time": "2023-01-28T12:34:06.562Z"
   },
   {
    "duration": 3570,
    "start_time": "2023-01-28T12:34:06.660Z"
   },
   {
    "duration": 16,
    "start_time": "2023-01-28T12:34:10.233Z"
   },
   {
    "duration": 132,
    "start_time": "2023-01-28T12:34:10.251Z"
   },
   {
    "duration": 86,
    "start_time": "2023-01-28T12:34:10.385Z"
   },
   {
    "duration": 147,
    "start_time": "2023-01-28T12:34:10.475Z"
   },
   {
    "duration": 276,
    "start_time": "2023-01-28T12:34:10.623Z"
   },
   {
    "duration": 385,
    "start_time": "2023-01-28T12:34:10.903Z"
   },
   {
    "duration": 34,
    "start_time": "2023-01-28T12:34:11.290Z"
   },
   {
    "duration": 72,
    "start_time": "2023-01-28T12:34:11.326Z"
   },
   {
    "duration": 10,
    "start_time": "2023-01-28T12:34:11.399Z"
   },
   {
    "duration": 23,
    "start_time": "2023-01-28T12:34:11.416Z"
   },
   {
    "duration": 12,
    "start_time": "2023-01-28T12:34:11.441Z"
   },
   {
    "duration": 38,
    "start_time": "2023-01-28T12:34:11.455Z"
   },
   {
    "duration": 19,
    "start_time": "2023-01-28T12:34:11.495Z"
   },
   {
    "duration": 1610486,
    "start_time": "2023-01-28T12:34:11.516Z"
   },
   {
    "duration": 138,
    "start_time": "2023-01-28T13:01:02.003Z"
   },
   {
    "duration": 209,
    "start_time": "2023-01-28T13:01:02.142Z"
   },
   {
    "duration": 11,
    "start_time": "2023-01-28T13:01:02.353Z"
   },
   {
    "duration": 177,
    "start_time": "2023-01-28T13:01:02.366Z"
   },
   {
    "duration": 18,
    "start_time": "2023-01-28T13:01:02.545Z"
   },
   {
    "duration": 52,
    "start_time": "2023-01-28T13:01:02.564Z"
   },
   {
    "duration": 1609,
    "start_time": "2023-01-28T13:34:03.560Z"
   },
   {
    "duration": 973,
    "start_time": "2023-01-28T13:34:05.171Z"
   },
   {
    "duration": 125,
    "start_time": "2023-01-28T13:34:06.146Z"
   },
   {
    "duration": 3,
    "start_time": "2023-01-28T13:34:06.273Z"
   },
   {
    "duration": 156,
    "start_time": "2023-01-28T13:34:06.277Z"
   },
   {
    "duration": 9,
    "start_time": "2023-01-28T13:34:06.436Z"
   },
   {
    "duration": 36,
    "start_time": "2023-01-28T13:34:06.447Z"
   },
   {
    "duration": 8,
    "start_time": "2023-01-28T13:34:06.485Z"
   },
   {
    "duration": 447,
    "start_time": "2023-01-28T13:34:06.494Z"
   },
   {
    "duration": 33,
    "start_time": "2023-01-28T13:34:06.944Z"
   },
   {
    "duration": 464,
    "start_time": "2023-01-28T13:34:06.979Z"
   },
   {
    "duration": 494,
    "start_time": "2023-01-28T13:34:07.445Z"
   },
   {
    "duration": 31,
    "start_time": "2023-01-28T13:34:07.941Z"
   },
   {
    "duration": 372,
    "start_time": "2023-01-28T13:34:07.974Z"
   },
   {
    "duration": 363,
    "start_time": "2023-01-28T13:34:08.348Z"
   },
   {
    "duration": 36,
    "start_time": "2023-01-28T13:34:08.712Z"
   },
   {
    "duration": 393,
    "start_time": "2023-01-28T13:34:08.749Z"
   },
   {
    "duration": 173,
    "start_time": "2023-01-28T13:34:09.144Z"
   },
   {
    "duration": 36,
    "start_time": "2023-01-28T13:34:09.319Z"
   },
   {
    "duration": 57,
    "start_time": "2023-01-28T13:34:09.357Z"
   },
   {
    "duration": 52,
    "start_time": "2023-01-28T13:34:09.420Z"
   },
   {
    "duration": 90,
    "start_time": "2023-01-28T13:34:09.474Z"
   },
   {
    "duration": 187,
    "start_time": "2023-01-28T13:34:09.566Z"
   },
   {
    "duration": 90,
    "start_time": "2023-01-28T13:34:09.755Z"
   },
   {
    "duration": 3586,
    "start_time": "2023-01-28T13:34:09.847Z"
   },
   {
    "duration": 24,
    "start_time": "2023-01-28T13:34:13.436Z"
   },
   {
    "duration": 143,
    "start_time": "2023-01-28T13:34:13.462Z"
   },
   {
    "duration": 115,
    "start_time": "2023-01-28T13:34:13.610Z"
   },
   {
    "duration": 154,
    "start_time": "2023-01-28T13:34:13.735Z"
   },
   {
    "duration": 310,
    "start_time": "2023-01-28T13:34:13.891Z"
   },
   {
    "duration": 475,
    "start_time": "2023-01-28T13:34:14.203Z"
   },
   {
    "duration": 17,
    "start_time": "2023-01-28T13:34:14.681Z"
   },
   {
    "duration": 72,
    "start_time": "2023-01-28T13:34:14.707Z"
   },
   {
    "duration": 7,
    "start_time": "2023-01-28T13:34:14.781Z"
   },
   {
    "duration": 54,
    "start_time": "2023-01-28T13:34:14.791Z"
   },
   {
    "duration": 35,
    "start_time": "2023-01-28T13:34:14.847Z"
   },
   {
    "duration": 95,
    "start_time": "2023-01-28T13:34:14.884Z"
   },
   {
    "duration": 12,
    "start_time": "2023-01-28T13:34:14.981Z"
   },
   {
    "duration": 1661403,
    "start_time": "2023-01-28T13:34:14.995Z"
   },
   {
    "duration": 17,
    "start_time": "2023-01-28T14:01:56.404Z"
   },
   {
    "duration": 143,
    "start_time": "2023-01-28T14:01:56.424Z"
   },
   {
    "duration": 196,
    "start_time": "2023-01-28T14:01:56.568Z"
   },
   {
    "duration": 11,
    "start_time": "2023-01-28T14:01:56.766Z"
   },
   {
    "duration": 159,
    "start_time": "2023-01-28T14:01:56.779Z"
   },
   {
    "duration": 17,
    "start_time": "2023-01-28T14:01:56.941Z"
   },
   {
    "duration": 21,
    "start_time": "2023-01-28T14:01:56.959Z"
   },
   {
    "duration": 39,
    "start_time": "2023-01-28T14:01:56.982Z"
   },
   {
    "duration": 1639,
    "start_time": "2023-01-28T14:29:57.692Z"
   },
   {
    "duration": 965,
    "start_time": "2023-01-28T14:29:59.333Z"
   },
   {
    "duration": 131,
    "start_time": "2023-01-28T14:30:00.299Z"
   },
   {
    "duration": 14,
    "start_time": "2023-01-28T14:30:00.432Z"
   },
   {
    "duration": 118,
    "start_time": "2023-01-28T14:30:00.448Z"
   },
   {
    "duration": 8,
    "start_time": "2023-01-28T14:30:00.568Z"
   },
   {
    "duration": 80,
    "start_time": "2023-01-28T14:30:00.577Z"
   },
   {
    "duration": 28,
    "start_time": "2023-01-28T14:30:00.659Z"
   },
   {
    "duration": 468,
    "start_time": "2023-01-28T14:30:00.689Z"
   },
   {
    "duration": 53,
    "start_time": "2023-01-28T14:30:01.160Z"
   },
   {
    "duration": 438,
    "start_time": "2023-01-28T14:30:01.215Z"
   },
   {
    "duration": 530,
    "start_time": "2023-01-28T14:30:01.654Z"
   },
   {
    "duration": 42,
    "start_time": "2023-01-28T14:30:02.186Z"
   },
   {
    "duration": 457,
    "start_time": "2023-01-28T14:30:02.230Z"
   },
   {
    "duration": 510,
    "start_time": "2023-01-28T14:30:02.689Z"
   },
   {
    "duration": 41,
    "start_time": "2023-01-28T14:30:03.207Z"
   },
   {
    "duration": 389,
    "start_time": "2023-01-28T14:30:03.250Z"
   },
   {
    "duration": 132,
    "start_time": "2023-01-28T14:30:03.641Z"
   },
   {
    "duration": 49,
    "start_time": "2023-01-28T14:30:03.775Z"
   },
   {
    "duration": 39,
    "start_time": "2023-01-28T14:30:03.827Z"
   },
   {
    "duration": 65,
    "start_time": "2023-01-28T14:30:03.869Z"
   },
   {
    "duration": 95,
    "start_time": "2023-01-28T14:30:03.937Z"
   },
   {
    "duration": 228,
    "start_time": "2023-01-28T14:30:04.034Z"
   },
   {
    "duration": 132,
    "start_time": "2023-01-28T14:30:04.267Z"
   },
   {
    "duration": 3445,
    "start_time": "2023-01-28T14:30:04.401Z"
   },
   {
    "duration": 16,
    "start_time": "2023-01-28T14:30:07.848Z"
   },
   {
    "duration": 151,
    "start_time": "2023-01-28T14:30:07.866Z"
   },
   {
    "duration": 79,
    "start_time": "2023-01-28T14:30:08.026Z"
   },
   {
    "duration": 142,
    "start_time": "2023-01-28T14:30:08.106Z"
   },
   {
    "duration": 280,
    "start_time": "2023-01-28T14:30:08.249Z"
   },
   {
    "duration": 403,
    "start_time": "2023-01-28T14:30:08.531Z"
   },
   {
    "duration": 14,
    "start_time": "2023-01-28T14:30:08.936Z"
   },
   {
    "duration": 82,
    "start_time": "2023-01-28T14:30:08.952Z"
   },
   {
    "duration": 8,
    "start_time": "2023-01-28T14:30:09.036Z"
   },
   {
    "duration": 22,
    "start_time": "2023-01-28T14:30:09.046Z"
   },
   {
    "duration": 32,
    "start_time": "2023-01-28T14:30:09.070Z"
   },
   {
    "duration": 85,
    "start_time": "2023-01-28T14:30:09.107Z"
   },
   {
    "duration": 17,
    "start_time": "2023-01-28T14:30:09.193Z"
   },
   {
    "duration": 1598,
    "start_time": "2023-01-28T14:31:00.396Z"
   },
   {
    "duration": 955,
    "start_time": "2023-01-28T14:31:01.996Z"
   },
   {
    "duration": 157,
    "start_time": "2023-01-28T14:31:02.953Z"
   },
   {
    "duration": 8,
    "start_time": "2023-01-28T14:31:03.111Z"
   },
   {
    "duration": 138,
    "start_time": "2023-01-28T14:31:03.123Z"
   },
   {
    "duration": 6,
    "start_time": "2023-01-28T14:31:03.264Z"
   },
   {
    "duration": 60,
    "start_time": "2023-01-28T14:31:03.272Z"
   },
   {
    "duration": 4,
    "start_time": "2023-01-28T14:31:03.334Z"
   },
   {
    "duration": 439,
    "start_time": "2023-01-28T14:31:03.340Z"
   },
   {
    "duration": 54,
    "start_time": "2023-01-28T14:31:03.781Z"
   },
   {
    "duration": 487,
    "start_time": "2023-01-28T14:31:03.837Z"
   },
   {
    "duration": 557,
    "start_time": "2023-01-28T14:31:04.326Z"
   },
   {
    "duration": 45,
    "start_time": "2023-01-28T14:31:04.886Z"
   },
   {
    "duration": 357,
    "start_time": "2023-01-28T14:31:04.935Z"
   },
   {
    "duration": 374,
    "start_time": "2023-01-28T14:31:05.294Z"
   },
   {
    "duration": 37,
    "start_time": "2023-01-28T14:31:05.670Z"
   },
   {
    "duration": 382,
    "start_time": "2023-01-28T14:31:05.711Z"
   },
   {
    "duration": 165,
    "start_time": "2023-01-28T14:31:06.095Z"
   },
   {
    "duration": 47,
    "start_time": "2023-01-28T14:31:06.262Z"
   },
   {
    "duration": 45,
    "start_time": "2023-01-28T14:31:06.315Z"
   },
   {
    "duration": 60,
    "start_time": "2023-01-28T14:31:06.362Z"
   },
   {
    "duration": 93,
    "start_time": "2023-01-28T14:31:06.424Z"
   },
   {
    "duration": 162,
    "start_time": "2023-01-28T14:31:06.520Z"
   },
   {
    "duration": 81,
    "start_time": "2023-01-28T14:31:06.684Z"
   },
   {
    "duration": 3323,
    "start_time": "2023-01-28T14:31:06.767Z"
   },
   {
    "duration": 23,
    "start_time": "2023-01-28T14:31:10.092Z"
   },
   {
    "duration": 137,
    "start_time": "2023-01-28T14:31:10.117Z"
   },
   {
    "duration": 104,
    "start_time": "2023-01-28T14:31:10.257Z"
   },
   {
    "duration": 154,
    "start_time": "2023-01-28T14:31:10.363Z"
   },
   {
    "duration": 280,
    "start_time": "2023-01-28T14:31:10.526Z"
   },
   {
    "duration": 383,
    "start_time": "2023-01-28T14:31:10.808Z"
   },
   {
    "duration": 27,
    "start_time": "2023-01-28T14:31:11.193Z"
   },
   {
    "duration": 66,
    "start_time": "2023-01-28T14:31:11.227Z"
   },
   {
    "duration": 20,
    "start_time": "2023-01-28T14:31:11.295Z"
   },
   {
    "duration": 10,
    "start_time": "2023-01-28T14:31:11.319Z"
   },
   {
    "duration": 14,
    "start_time": "2023-01-28T14:31:11.331Z"
   },
   {
    "duration": 37,
    "start_time": "2023-01-28T14:31:11.347Z"
   },
   {
    "duration": 26,
    "start_time": "2023-01-28T14:31:11.386Z"
   },
   {
    "duration": 1200955,
    "start_time": "2023-01-28T14:31:11.413Z"
   },
   {
    "duration": 6,
    "start_time": "2023-01-28T14:51:12.370Z"
   },
   {
    "duration": 185,
    "start_time": "2023-01-28T14:51:12.380Z"
   },
   {
    "duration": 190,
    "start_time": "2023-01-28T14:51:12.567Z"
   },
   {
    "duration": 10,
    "start_time": "2023-01-28T14:51:12.759Z"
   },
   {
    "duration": 175,
    "start_time": "2023-01-28T14:51:12.771Z"
   },
   {
    "duration": 21,
    "start_time": "2023-01-28T14:51:12.948Z"
   },
   {
    "duration": 84,
    "start_time": "2023-01-28T14:51:12.971Z"
   },
   {
    "duration": 1676,
    "start_time": "2023-01-28T15:25:10.462Z"
   },
   {
    "duration": 913,
    "start_time": "2023-01-28T15:25:12.141Z"
   },
   {
    "duration": 214,
    "start_time": "2023-01-28T15:25:13.056Z"
   },
   {
    "duration": 3,
    "start_time": "2023-01-28T15:25:13.273Z"
   },
   {
    "duration": 150,
    "start_time": "2023-01-28T15:25:13.281Z"
   },
   {
    "duration": 8,
    "start_time": "2023-01-28T15:25:13.435Z"
   },
   {
    "duration": 38,
    "start_time": "2023-01-28T15:25:13.445Z"
   },
   {
    "duration": 20,
    "start_time": "2023-01-28T15:25:13.485Z"
   },
   {
    "duration": 494,
    "start_time": "2023-01-28T15:25:13.507Z"
   },
   {
    "duration": 44,
    "start_time": "2023-01-28T15:25:14.008Z"
   },
   {
    "duration": 528,
    "start_time": "2023-01-28T15:25:14.054Z"
   },
   {
    "duration": 507,
    "start_time": "2023-01-28T15:25:14.585Z"
   },
   {
    "duration": 64,
    "start_time": "2023-01-28T15:25:15.095Z"
   },
   {
    "duration": 401,
    "start_time": "2023-01-28T15:25:15.166Z"
   },
   {
    "duration": 486,
    "start_time": "2023-01-28T15:25:15.570Z"
   },
   {
    "duration": 54,
    "start_time": "2023-01-28T15:25:16.059Z"
   },
   {
    "duration": 375,
    "start_time": "2023-01-28T15:25:16.115Z"
   },
   {
    "duration": 149,
    "start_time": "2023-01-28T15:25:16.493Z"
   },
   {
    "duration": 39,
    "start_time": "2023-01-28T15:25:16.645Z"
   },
   {
    "duration": 56,
    "start_time": "2023-01-28T15:25:16.686Z"
   },
   {
    "duration": 50,
    "start_time": "2023-01-28T15:25:16.743Z"
   },
   {
    "duration": 82,
    "start_time": "2023-01-28T15:25:16.805Z"
   },
   {
    "duration": 181,
    "start_time": "2023-01-28T15:25:16.889Z"
   },
   {
    "duration": 81,
    "start_time": "2023-01-28T15:25:17.071Z"
   },
   {
    "duration": 3354,
    "start_time": "2023-01-28T15:25:17.154Z"
   },
   {
    "duration": 19,
    "start_time": "2023-01-28T15:25:20.511Z"
   },
   {
    "duration": 126,
    "start_time": "2023-01-28T15:25:20.532Z"
   },
   {
    "duration": 91,
    "start_time": "2023-01-28T15:25:20.660Z"
   },
   {
    "duration": 142,
    "start_time": "2023-01-28T15:25:20.753Z"
   },
   {
    "duration": 288,
    "start_time": "2023-01-28T15:25:20.896Z"
   },
   {
    "duration": 415,
    "start_time": "2023-01-28T15:25:21.185Z"
   },
   {
    "duration": 18,
    "start_time": "2023-01-28T15:25:21.606Z"
   },
   {
    "duration": 61,
    "start_time": "2023-01-28T15:25:21.626Z"
   },
   {
    "duration": 22,
    "start_time": "2023-01-28T15:25:21.689Z"
   },
   {
    "duration": 10,
    "start_time": "2023-01-28T15:25:21.716Z"
   },
   {
    "duration": 9,
    "start_time": "2023-01-28T15:25:21.728Z"
   },
   {
    "duration": 44,
    "start_time": "2023-01-28T15:25:21.739Z"
   },
   {
    "duration": 12,
    "start_time": "2023-01-28T15:25:21.785Z"
   },
   {
    "duration": 1452,
    "start_time": "2023-01-28T15:42:49.294Z"
   },
   {
    "duration": 869,
    "start_time": "2023-01-28T15:42:50.748Z"
   },
   {
    "duration": 109,
    "start_time": "2023-01-28T15:42:51.618Z"
   },
   {
    "duration": 3,
    "start_time": "2023-01-28T15:42:51.730Z"
   },
   {
    "duration": 111,
    "start_time": "2023-01-28T15:42:51.734Z"
   },
   {
    "duration": 6,
    "start_time": "2023-01-28T15:42:51.846Z"
   },
   {
    "duration": 37,
    "start_time": "2023-01-28T15:42:51.854Z"
   },
   {
    "duration": 6,
    "start_time": "2023-01-28T15:42:51.905Z"
   },
   {
    "duration": 393,
    "start_time": "2023-01-28T15:42:51.913Z"
   },
   {
    "duration": 33,
    "start_time": "2023-01-28T15:42:52.314Z"
   },
   {
    "duration": 374,
    "start_time": "2023-01-28T15:42:52.349Z"
   },
   {
    "duration": 496,
    "start_time": "2023-01-28T15:42:52.724Z"
   },
   {
    "duration": 33,
    "start_time": "2023-01-28T15:42:53.221Z"
   },
   {
    "duration": 340,
    "start_time": "2023-01-28T15:42:53.256Z"
   },
   {
    "duration": 333,
    "start_time": "2023-01-28T15:42:53.603Z"
   },
   {
    "duration": 28,
    "start_time": "2023-01-28T15:42:53.937Z"
   },
   {
    "duration": 455,
    "start_time": "2023-01-28T15:42:53.967Z"
   },
   {
    "duration": 152,
    "start_time": "2023-01-28T15:42:54.424Z"
   },
   {
    "duration": 35,
    "start_time": "2023-01-28T15:42:54.577Z"
   },
   {
    "duration": 39,
    "start_time": "2023-01-28T15:42:54.613Z"
   },
   {
    "duration": 64,
    "start_time": "2023-01-28T15:42:54.654Z"
   },
   {
    "duration": 98,
    "start_time": "2023-01-28T15:42:54.720Z"
   },
   {
    "duration": 163,
    "start_time": "2023-01-28T15:42:54.819Z"
   },
   {
    "duration": 89,
    "start_time": "2023-01-28T15:42:54.984Z"
   },
   {
    "duration": 3210,
    "start_time": "2023-01-28T15:42:55.075Z"
   },
   {
    "duration": 26,
    "start_time": "2023-01-28T15:42:58.287Z"
   },
   {
    "duration": 128,
    "start_time": "2023-01-28T15:42:58.317Z"
   },
   {
    "duration": 92,
    "start_time": "2023-01-28T15:42:58.449Z"
   },
   {
    "duration": 131,
    "start_time": "2023-01-28T15:42:58.543Z"
   },
   {
    "duration": 263,
    "start_time": "2023-01-28T15:42:58.675Z"
   },
   {
    "duration": 417,
    "start_time": "2023-01-28T15:42:58.939Z"
   },
   {
    "duration": 13,
    "start_time": "2023-01-28T15:42:59.358Z"
   },
   {
    "duration": 81,
    "start_time": "2023-01-28T15:42:59.373Z"
   },
   {
    "duration": 7,
    "start_time": "2023-01-28T15:42:59.456Z"
   },
   {
    "duration": 7,
    "start_time": "2023-01-28T15:42:59.465Z"
   },
   {
    "duration": 8,
    "start_time": "2023-01-28T15:42:59.474Z"
   },
   {
    "duration": 49,
    "start_time": "2023-01-28T15:42:59.490Z"
   },
   {
    "duration": 38,
    "start_time": "2023-01-28T15:42:59.541Z"
   },
   {
    "duration": 1468,
    "start_time": "2023-01-28T15:48:53.352Z"
   },
   {
    "duration": 907,
    "start_time": "2023-01-28T15:48:54.822Z"
   },
   {
    "duration": 130,
    "start_time": "2023-01-28T15:48:55.730Z"
   },
   {
    "duration": 3,
    "start_time": "2023-01-28T15:48:55.862Z"
   },
   {
    "duration": 116,
    "start_time": "2023-01-28T15:48:55.867Z"
   },
   {
    "duration": 6,
    "start_time": "2023-01-28T15:48:55.985Z"
   },
   {
    "duration": 51,
    "start_time": "2023-01-28T15:48:56.003Z"
   },
   {
    "duration": 4,
    "start_time": "2023-01-28T15:48:56.056Z"
   },
   {
    "duration": 399,
    "start_time": "2023-01-28T15:48:56.062Z"
   },
   {
    "duration": 40,
    "start_time": "2023-01-28T15:48:56.463Z"
   },
   {
    "duration": 382,
    "start_time": "2023-01-28T15:48:56.508Z"
   },
   {
    "duration": 512,
    "start_time": "2023-01-28T15:48:56.891Z"
   },
   {
    "duration": 35,
    "start_time": "2023-01-28T15:48:57.405Z"
   },
   {
    "duration": 335,
    "start_time": "2023-01-28T15:48:57.443Z"
   },
   {
    "duration": 342,
    "start_time": "2023-01-28T15:48:57.780Z"
   },
   {
    "duration": 27,
    "start_time": "2023-01-28T15:48:58.124Z"
   },
   {
    "duration": 393,
    "start_time": "2023-01-28T15:48:58.153Z"
   },
   {
    "duration": 138,
    "start_time": "2023-01-28T15:48:58.548Z"
   },
   {
    "duration": 37,
    "start_time": "2023-01-28T15:48:58.687Z"
   },
   {
    "duration": 36,
    "start_time": "2023-01-28T15:48:58.726Z"
   },
   {
    "duration": 67,
    "start_time": "2023-01-28T15:48:58.764Z"
   },
   {
    "duration": 87,
    "start_time": "2023-01-28T15:48:58.833Z"
   },
   {
    "duration": 164,
    "start_time": "2023-01-28T15:48:58.921Z"
   },
   {
    "duration": 87,
    "start_time": "2023-01-28T15:48:59.086Z"
   },
   {
    "duration": 3308,
    "start_time": "2023-01-28T15:48:59.174Z"
   },
   {
    "duration": 21,
    "start_time": "2023-01-28T15:49:02.485Z"
   },
   {
    "duration": 139,
    "start_time": "2023-01-28T15:49:02.512Z"
   },
   {
    "duration": 72,
    "start_time": "2023-01-28T15:49:02.653Z"
   },
   {
    "duration": 135,
    "start_time": "2023-01-28T15:49:02.727Z"
   },
   {
    "duration": 268,
    "start_time": "2023-01-28T15:49:02.864Z"
   },
   {
    "duration": 415,
    "start_time": "2023-01-28T15:49:03.134Z"
   },
   {
    "duration": 13,
    "start_time": "2023-01-28T15:49:03.551Z"
   },
   {
    "duration": 79,
    "start_time": "2023-01-28T15:49:03.566Z"
   },
   {
    "duration": 8,
    "start_time": "2023-01-28T15:49:03.646Z"
   },
   {
    "duration": 7,
    "start_time": "2023-01-28T15:49:03.656Z"
   },
   {
    "duration": 8,
    "start_time": "2023-01-28T15:49:03.664Z"
   },
   {
    "duration": 55,
    "start_time": "2023-01-28T15:49:03.673Z"
   },
   {
    "duration": 13,
    "start_time": "2023-01-28T15:49:03.730Z"
   },
   {
    "duration": 189329,
    "start_time": "2023-01-28T15:49:03.745Z"
   },
   {
    "duration": 7,
    "start_time": "2023-01-28T15:52:13.075Z"
   },
   {
    "duration": 161,
    "start_time": "2023-01-28T15:52:13.086Z"
   },
   {
    "duration": 200,
    "start_time": "2023-01-28T15:52:13.248Z"
   },
   {
    "duration": 13,
    "start_time": "2023-01-28T15:52:13.450Z"
   },
   {
    "duration": 172,
    "start_time": "2023-01-28T15:52:13.464Z"
   },
   {
    "duration": 19,
    "start_time": "2023-01-28T15:52:13.638Z"
   },
   {
    "duration": 30,
    "start_time": "2023-01-28T15:52:13.659Z"
   },
   {
    "duration": 1729347,
    "start_time": "2023-01-28T15:52:13.691Z"
   },
   {
    "duration": 8,
    "start_time": "2023-01-28T16:21:03.040Z"
   },
   {
    "duration": 283182,
    "start_time": "2023-01-28T16:21:03.049Z"
   },
   {
    "duration": 6,
    "start_time": "2023-01-28T16:25:46.233Z"
   },
   {
    "duration": 14,
    "start_time": "2023-01-28T16:25:46.241Z"
   },
   {
    "duration": 1599,
    "start_time": "2023-01-28T16:25:46.257Z"
   },
   {
    "duration": 0,
    "start_time": "2023-01-28T16:25:47.858Z"
   },
   {
    "duration": 0,
    "start_time": "2023-01-28T16:25:47.859Z"
   },
   {
    "duration": 0,
    "start_time": "2023-01-28T16:25:47.861Z"
   },
   {
    "duration": 1380,
    "start_time": "2023-01-28T16:29:17.866Z"
   },
   {
    "duration": 822,
    "start_time": "2023-01-28T16:29:19.249Z"
   },
   {
    "duration": 127,
    "start_time": "2023-01-28T16:29:20.072Z"
   },
   {
    "duration": 5,
    "start_time": "2023-01-28T16:29:20.202Z"
   },
   {
    "duration": 116,
    "start_time": "2023-01-28T16:29:20.209Z"
   },
   {
    "duration": 6,
    "start_time": "2023-01-28T16:29:20.327Z"
   },
   {
    "duration": 55,
    "start_time": "2023-01-28T16:29:20.334Z"
   },
   {
    "duration": 26,
    "start_time": "2023-01-28T16:29:20.390Z"
   },
   {
    "duration": 402,
    "start_time": "2023-01-28T16:29:20.418Z"
   },
   {
    "duration": 50,
    "start_time": "2023-01-28T16:29:20.822Z"
   },
   {
    "duration": 374,
    "start_time": "2023-01-28T16:29:20.874Z"
   },
   {
    "duration": 461,
    "start_time": "2023-01-28T16:29:21.250Z"
   },
   {
    "duration": 33,
    "start_time": "2023-01-28T16:29:21.712Z"
   },
   {
    "duration": 346,
    "start_time": "2023-01-28T16:29:21.749Z"
   },
   {
    "duration": 351,
    "start_time": "2023-01-28T16:29:22.097Z"
   },
   {
    "duration": 26,
    "start_time": "2023-01-28T16:29:22.450Z"
   },
   {
    "duration": 363,
    "start_time": "2023-01-28T16:29:22.478Z"
   },
   {
    "duration": 144,
    "start_time": "2023-01-28T16:29:22.843Z"
   },
   {
    "duration": 54,
    "start_time": "2023-01-28T16:29:22.989Z"
   },
   {
    "duration": 111,
    "start_time": "2023-01-28T16:29:23.045Z"
   },
   {
    "duration": 59,
    "start_time": "2023-01-28T16:29:23.159Z"
   },
   {
    "duration": 98,
    "start_time": "2023-01-28T16:29:23.220Z"
   },
   {
    "duration": 160,
    "start_time": "2023-01-28T16:29:23.320Z"
   },
   {
    "duration": 87,
    "start_time": "2023-01-28T16:29:23.482Z"
   },
   {
    "duration": 3278,
    "start_time": "2023-01-28T16:29:23.571Z"
   },
   {
    "duration": 16,
    "start_time": "2023-01-28T16:29:26.851Z"
   },
   {
    "duration": 126,
    "start_time": "2023-01-28T16:29:26.868Z"
   },
   {
    "duration": 93,
    "start_time": "2023-01-28T16:29:26.995Z"
   },
   {
    "duration": 137,
    "start_time": "2023-01-28T16:29:27.089Z"
   },
   {
    "duration": 290,
    "start_time": "2023-01-28T16:29:27.228Z"
   },
   {
    "duration": 392,
    "start_time": "2023-01-28T16:29:27.519Z"
   },
   {
    "duration": 13,
    "start_time": "2023-01-28T16:29:27.917Z"
   },
   {
    "duration": 67,
    "start_time": "2023-01-28T16:29:27.932Z"
   },
   {
    "duration": 17,
    "start_time": "2023-01-28T16:29:28.001Z"
   },
   {
    "duration": 32,
    "start_time": "2023-01-28T16:29:28.020Z"
   },
   {
    "duration": 22,
    "start_time": "2023-01-28T16:29:28.054Z"
   },
   {
    "duration": 73,
    "start_time": "2023-01-28T16:29:28.078Z"
   },
   {
    "duration": 12,
    "start_time": "2023-01-28T16:29:28.152Z"
   },
   {
    "duration": 187013,
    "start_time": "2023-01-28T16:29:28.165Z"
   },
   {
    "duration": 7,
    "start_time": "2023-01-28T16:32:35.180Z"
   },
   {
    "duration": 144,
    "start_time": "2023-01-28T16:32:35.203Z"
   },
   {
    "duration": 193,
    "start_time": "2023-01-28T16:32:35.348Z"
   },
   {
    "duration": 11,
    "start_time": "2023-01-28T16:32:35.542Z"
   },
   {
    "duration": 156,
    "start_time": "2023-01-28T16:32:35.554Z"
   },
   {
    "duration": 17,
    "start_time": "2023-01-28T16:32:35.713Z"
   },
   {
    "duration": 17,
    "start_time": "2023-01-28T16:32:35.732Z"
   },
   {
    "duration": 1243870,
    "start_time": "2023-01-28T16:32:35.750Z"
   },
   {
    "duration": 7,
    "start_time": "2023-01-28T16:53:19.622Z"
   },
   {
    "duration": 263580,
    "start_time": "2023-01-28T16:53:19.631Z"
   },
   {
    "duration": 11,
    "start_time": "2023-01-28T16:57:43.213Z"
   },
   {
    "duration": 10,
    "start_time": "2023-01-28T16:57:43.226Z"
   },
   {
    "duration": 1436,
    "start_time": "2023-01-28T16:57:43.237Z"
   },
   {
    "duration": 0,
    "start_time": "2023-01-28T16:57:44.675Z"
   },
   {
    "duration": 0,
    "start_time": "2023-01-28T16:57:44.677Z"
   },
   {
    "duration": 0,
    "start_time": "2023-01-28T16:57:44.678Z"
   },
   {
    "duration": 9,
    "start_time": "2023-01-28T17:04:54.454Z"
   },
   {
    "duration": 1456,
    "start_time": "2023-01-28T17:05:04.131Z"
   },
   {
    "duration": 3,
    "start_time": "2023-01-28T17:05:38.129Z"
   },
   {
    "duration": 1491,
    "start_time": "2023-01-28T17:05:58.848Z"
   },
   {
    "duration": 5,
    "start_time": "2023-01-28T17:06:18.200Z"
   },
   {
    "duration": 4,
    "start_time": "2023-01-28T17:07:04.795Z"
   },
   {
    "duration": 1656,
    "start_time": "2023-01-28T17:08:22.225Z"
   },
   {
    "duration": 3,
    "start_time": "2023-01-28T17:12:00.527Z"
   },
   {
    "duration": 28,
    "start_time": "2023-01-28T17:12:06.457Z"
   },
   {
    "duration": 3,
    "start_time": "2023-01-28T17:14:28.478Z"
   },
   {
    "duration": 5,
    "start_time": "2023-01-28T17:16:44.236Z"
   },
   {
    "duration": 885,
    "start_time": "2023-01-28T17:16:44.244Z"
   },
   {
    "duration": 122,
    "start_time": "2023-01-28T17:16:45.137Z"
   },
   {
    "duration": 9,
    "start_time": "2023-01-28T17:16:45.261Z"
   },
   {
    "duration": 101,
    "start_time": "2023-01-28T17:16:45.273Z"
   },
   {
    "duration": 5,
    "start_time": "2023-01-28T17:16:45.376Z"
   },
   {
    "duration": 44,
    "start_time": "2023-01-28T17:16:45.383Z"
   },
   {
    "duration": 18,
    "start_time": "2023-01-28T17:16:45.430Z"
   },
   {
    "duration": 402,
    "start_time": "2023-01-28T17:16:45.450Z"
   },
   {
    "duration": 26,
    "start_time": "2023-01-28T17:16:45.854Z"
   },
   {
    "duration": 397,
    "start_time": "2023-01-28T17:16:45.881Z"
   },
   {
    "duration": 493,
    "start_time": "2023-01-28T17:16:46.280Z"
   },
   {
    "duration": 46,
    "start_time": "2023-01-28T17:16:46.774Z"
   },
   {
    "duration": 339,
    "start_time": "2023-01-28T17:16:46.827Z"
   },
   {
    "duration": 369,
    "start_time": "2023-01-28T17:16:47.168Z"
   },
   {
    "duration": 22,
    "start_time": "2023-01-28T17:16:47.539Z"
   },
   {
    "duration": 382,
    "start_time": "2023-01-28T17:16:47.563Z"
   },
   {
    "duration": 147,
    "start_time": "2023-01-28T17:16:47.947Z"
   },
   {
    "duration": 37,
    "start_time": "2023-01-28T17:16:48.105Z"
   },
   {
    "duration": 43,
    "start_time": "2023-01-28T17:16:48.144Z"
   },
   {
    "duration": 64,
    "start_time": "2023-01-28T17:16:48.189Z"
   },
   {
    "duration": 80,
    "start_time": "2023-01-28T17:16:48.255Z"
   },
   {
    "duration": 184,
    "start_time": "2023-01-28T17:16:48.337Z"
   },
   {
    "duration": 70,
    "start_time": "2023-01-28T17:16:48.523Z"
   },
   {
    "duration": 3349,
    "start_time": "2023-01-28T17:16:48.594Z"
   },
   {
    "duration": 17,
    "start_time": "2023-01-28T17:16:51.944Z"
   },
   {
    "duration": 132,
    "start_time": "2023-01-28T17:16:51.963Z"
   },
   {
    "duration": 96,
    "start_time": "2023-01-28T17:16:52.097Z"
   },
   {
    "duration": 151,
    "start_time": "2023-01-28T17:16:52.203Z"
   },
   {
    "duration": 267,
    "start_time": "2023-01-28T17:16:52.356Z"
   },
   {
    "duration": 446,
    "start_time": "2023-01-28T17:16:52.630Z"
   },
   {
    "duration": 12,
    "start_time": "2023-01-28T17:16:53.078Z"
   },
   {
    "duration": 80,
    "start_time": "2023-01-28T17:16:53.092Z"
   },
   {
    "duration": 7,
    "start_time": "2023-01-28T17:16:53.174Z"
   },
   {
    "duration": 36,
    "start_time": "2023-01-28T17:16:53.183Z"
   },
   {
    "duration": 23,
    "start_time": "2023-01-28T17:16:53.221Z"
   },
   {
    "duration": 42,
    "start_time": "2023-01-28T17:16:53.246Z"
   },
   {
    "duration": 30,
    "start_time": "2023-01-28T17:16:53.290Z"
   },
   {
    "duration": 18,
    "start_time": "2023-01-28T17:16:53.328Z"
   },
   {
    "duration": 106,
    "start_time": "2023-01-28T17:17:08.759Z"
   },
   {
    "duration": 22,
    "start_time": "2023-01-28T17:17:34.019Z"
   },
   {
    "duration": 191,
    "start_time": "2023-01-28T17:17:57.800Z"
   },
   {
    "duration": 159,
    "start_time": "2023-01-28T17:18:05.683Z"
   },
   {
    "duration": 486,
    "start_time": "2023-01-28T17:18:15.748Z"
   },
   {
    "duration": 457,
    "start_time": "2023-01-28T17:18:17.689Z"
   },
   {
    "duration": 14,
    "start_time": "2023-01-28T17:18:19.101Z"
   },
   {
    "duration": 157,
    "start_time": "2023-01-28T17:19:26.659Z"
   },
   {
    "duration": 8,
    "start_time": "2023-01-28T17:19:28.650Z"
   },
   {
    "duration": 10,
    "start_time": "2023-01-28T17:20:12.952Z"
   },
   {
    "duration": 110,
    "start_time": "2023-01-28T17:20:19.498Z"
   },
   {
    "duration": 124,
    "start_time": "2023-01-28T17:20:38.101Z"
   },
   {
    "duration": 1560,
    "start_time": "2023-01-28T17:21:10.937Z"
   },
   {
    "duration": 966,
    "start_time": "2023-01-28T17:21:12.499Z"
   },
   {
    "duration": 150,
    "start_time": "2023-01-28T17:21:13.467Z"
   },
   {
    "duration": 15,
    "start_time": "2023-01-28T17:21:13.618Z"
   },
   {
    "duration": 136,
    "start_time": "2023-01-28T17:21:13.641Z"
   },
   {
    "duration": 6,
    "start_time": "2023-01-28T17:21:13.779Z"
   },
   {
    "duration": 51,
    "start_time": "2023-01-28T17:21:13.786Z"
   },
   {
    "duration": 6,
    "start_time": "2023-01-28T17:21:13.839Z"
   },
   {
    "duration": 505,
    "start_time": "2023-01-28T17:21:13.846Z"
   },
   {
    "duration": 37,
    "start_time": "2023-01-28T17:21:14.353Z"
   },
   {
    "duration": 427,
    "start_time": "2023-01-28T17:21:14.392Z"
   },
   {
    "duration": 511,
    "start_time": "2023-01-28T17:21:14.820Z"
   },
   {
    "duration": 33,
    "start_time": "2023-01-28T17:21:15.333Z"
   },
   {
    "duration": 405,
    "start_time": "2023-01-28T17:21:15.370Z"
   },
   {
    "duration": 341,
    "start_time": "2023-01-28T17:21:15.777Z"
   },
   {
    "duration": 28,
    "start_time": "2023-01-28T17:21:16.120Z"
   },
   {
    "duration": 399,
    "start_time": "2023-01-28T17:21:16.150Z"
   },
   {
    "duration": 138,
    "start_time": "2023-01-28T17:21:16.551Z"
   },
   {
    "duration": 41,
    "start_time": "2023-01-28T17:21:16.691Z"
   },
   {
    "duration": 42,
    "start_time": "2023-01-28T17:21:16.734Z"
   },
   {
    "duration": 49,
    "start_time": "2023-01-28T17:21:16.777Z"
   },
   {
    "duration": 86,
    "start_time": "2023-01-28T17:21:16.831Z"
   },
   {
    "duration": 169,
    "start_time": "2023-01-28T17:21:16.922Z"
   },
   {
    "duration": 85,
    "start_time": "2023-01-28T17:21:17.093Z"
   },
   {
    "duration": 3316,
    "start_time": "2023-01-28T17:21:17.180Z"
   },
   {
    "duration": 31,
    "start_time": "2023-01-28T17:21:20.498Z"
   },
   {
    "duration": 142,
    "start_time": "2023-01-28T17:21:20.536Z"
   },
   {
    "duration": 112,
    "start_time": "2023-01-28T17:21:20.680Z"
   },
   {
    "duration": 154,
    "start_time": "2023-01-28T17:21:20.794Z"
   },
   {
    "duration": 291,
    "start_time": "2023-01-28T17:21:20.950Z"
   },
   {
    "duration": 405,
    "start_time": "2023-01-28T17:21:21.243Z"
   },
   {
    "duration": 14,
    "start_time": "2023-01-28T17:21:21.651Z"
   },
   {
    "duration": 82,
    "start_time": "2023-01-28T17:21:21.666Z"
   },
   {
    "duration": 8,
    "start_time": "2023-01-28T17:21:21.750Z"
   },
   {
    "duration": 8,
    "start_time": "2023-01-28T17:21:21.759Z"
   },
   {
    "duration": 11,
    "start_time": "2023-01-28T17:21:21.768Z"
   },
   {
    "duration": 51,
    "start_time": "2023-01-28T17:21:21.781Z"
   },
   {
    "duration": 13,
    "start_time": "2023-01-28T17:21:21.838Z"
   },
   {
    "duration": 7,
    "start_time": "2023-01-28T17:21:21.853Z"
   },
   {
    "duration": 198966,
    "start_time": "2023-01-28T17:21:21.862Z"
   },
   {
    "duration": 10,
    "start_time": "2023-01-28T17:24:40.842Z"
   },
   {
    "duration": 142,
    "start_time": "2023-01-28T17:24:40.854Z"
   },
   {
    "duration": 227,
    "start_time": "2023-01-28T17:24:40.998Z"
   },
   {
    "duration": 29,
    "start_time": "2023-01-28T17:24:41.227Z"
   },
   {
    "duration": 156,
    "start_time": "2023-01-28T17:24:41.258Z"
   },
   {
    "duration": 20,
    "start_time": "2023-01-28T17:24:41.416Z"
   },
   {
    "duration": 17,
    "start_time": "2023-01-28T17:24:41.449Z"
   },
   {
    "duration": 2783905,
    "start_time": "2023-01-28T17:24:41.468Z"
   },
   {
    "duration": 42,
    "start_time": "2023-01-28T18:11:05.374Z"
   },
   {
    "duration": 291129,
    "start_time": "2023-01-28T18:11:05.417Z"
   },
   {
    "duration": 9,
    "start_time": "2023-01-28T18:15:56.548Z"
   },
   {
    "duration": 8,
    "start_time": "2023-01-28T18:15:56.558Z"
   },
   {
    "duration": 113,
    "start_time": "2023-01-28T18:15:56.568Z"
   },
   {
    "duration": 461,
    "start_time": "2023-01-28T18:15:56.683Z"
   },
   {
    "duration": 211,
    "start_time": "2023-01-28T18:15:57.148Z"
   },
   {
    "duration": 7,
    "start_time": "2023-01-28T18:15:57.361Z"
   },
   {
    "duration": 282,
    "start_time": "2023-01-28T18:15:57.370Z"
   },
   {
    "duration": 156,
    "start_time": "2023-01-28T18:18:49.334Z"
   },
   {
    "duration": 965,
    "start_time": "2023-01-28T18:19:18.932Z"
   },
   {
    "duration": 985,
    "start_time": "2023-01-28T18:19:33.654Z"
   },
   {
    "duration": 178,
    "start_time": "2023-01-28T18:19:46.978Z"
   },
   {
    "duration": 10,
    "start_time": "2023-01-28T18:20:47.046Z"
   },
   {
    "duration": 12,
    "start_time": "2023-01-28T18:20:56.540Z"
   },
   {
    "duration": 13,
    "start_time": "2023-01-28T18:21:15.487Z"
   },
   {
    "duration": 106,
    "start_time": "2023-01-28T18:21:44.947Z"
   },
   {
    "duration": 9,
    "start_time": "2023-01-28T18:21:51.387Z"
   },
   {
    "duration": 234,
    "start_time": "2023-01-28T18:22:13.164Z"
   },
   {
    "duration": 240,
    "start_time": "2023-01-28T18:22:47.130Z"
   },
   {
    "duration": 148,
    "start_time": "2023-01-28T18:32:10.631Z"
   },
   {
    "duration": 138,
    "start_time": "2023-01-28T18:32:25.249Z"
   },
   {
    "duration": 21,
    "start_time": "2023-01-28T18:32:39.973Z"
   },
   {
    "duration": 17,
    "start_time": "2023-01-28T18:32:44.079Z"
   },
   {
    "duration": 0,
    "start_time": "2023-01-28T18:35:12.094Z"
   },
   {
    "duration": 298,
    "start_time": "2023-01-28T18:35:20.686Z"
   },
   {
    "duration": 77,
    "start_time": "2023-01-28T18:35:41.799Z"
   },
   {
    "duration": 238,
    "start_time": "2023-01-28T18:35:48.428Z"
   },
   {
    "duration": 223,
    "start_time": "2023-01-28T18:37:34.351Z"
   },
   {
    "duration": 929,
    "start_time": "2023-01-28T18:37:50.224Z"
   },
   {
    "duration": 172,
    "start_time": "2023-01-28T18:37:59.198Z"
   },
   {
    "duration": 172,
    "start_time": "2023-01-28T18:38:12.277Z"
   },
   {
    "duration": 121,
    "start_time": "2023-01-28T18:38:29.861Z"
   },
   {
    "duration": 10,
    "start_time": "2023-01-28T18:38:39.458Z"
   },
   {
    "duration": 105,
    "start_time": "2023-01-28T18:39:00.802Z"
   },
   {
    "duration": 166,
    "start_time": "2023-01-28T18:39:57.321Z"
   },
   {
    "duration": 169,
    "start_time": "2023-01-28T18:43:16.760Z"
   },
   {
    "duration": 181,
    "start_time": "2023-01-28T18:43:42.553Z"
   },
   {
    "duration": 155,
    "start_time": "2023-01-28T18:44:18.003Z"
   },
   {
    "duration": 143,
    "start_time": "2023-01-28T18:45:46.237Z"
   },
   {
    "duration": 1574,
    "start_time": "2023-01-28T18:49:40.019Z"
   },
   {
    "duration": 859,
    "start_time": "2023-01-28T18:49:41.595Z"
   },
   {
    "duration": 126,
    "start_time": "2023-01-28T18:49:42.456Z"
   },
   {
    "duration": 2,
    "start_time": "2023-01-28T18:49:42.584Z"
   },
   {
    "duration": 110,
    "start_time": "2023-01-28T18:49:42.588Z"
   },
   {
    "duration": 17,
    "start_time": "2023-01-28T18:49:42.702Z"
   },
   {
    "duration": 34,
    "start_time": "2023-01-28T18:49:42.721Z"
   },
   {
    "duration": 5,
    "start_time": "2023-01-28T18:49:42.757Z"
   },
   {
    "duration": 424,
    "start_time": "2023-01-28T18:49:42.764Z"
   },
   {
    "duration": 46,
    "start_time": "2023-01-28T18:49:43.190Z"
   },
   {
    "duration": 415,
    "start_time": "2023-01-28T18:49:43.238Z"
   },
   {
    "duration": 487,
    "start_time": "2023-01-28T18:49:43.655Z"
   },
   {
    "duration": 38,
    "start_time": "2023-01-28T18:49:44.144Z"
   },
   {
    "duration": 381,
    "start_time": "2023-01-28T18:49:44.187Z"
   },
   {
    "duration": 336,
    "start_time": "2023-01-28T18:49:44.570Z"
   },
   {
    "duration": 29,
    "start_time": "2023-01-28T18:49:44.916Z"
   },
   {
    "duration": 369,
    "start_time": "2023-01-28T18:49:44.947Z"
   },
   {
    "duration": 127,
    "start_time": "2023-01-28T18:49:45.318Z"
   },
   {
    "duration": 28,
    "start_time": "2023-01-28T18:49:45.447Z"
   },
   {
    "duration": 53,
    "start_time": "2023-01-28T18:49:45.477Z"
   },
   {
    "duration": 40,
    "start_time": "2023-01-28T18:49:45.532Z"
   },
   {
    "duration": 89,
    "start_time": "2023-01-28T18:49:45.574Z"
   },
   {
    "duration": 174,
    "start_time": "2023-01-28T18:49:45.665Z"
   },
   {
    "duration": 89,
    "start_time": "2023-01-28T18:49:45.841Z"
   },
   {
    "duration": 3064,
    "start_time": "2023-01-28T18:49:45.931Z"
   },
   {
    "duration": 25,
    "start_time": "2023-01-28T18:49:48.997Z"
   },
   {
    "duration": 126,
    "start_time": "2023-01-28T18:49:49.024Z"
   },
   {
    "duration": 78,
    "start_time": "2023-01-28T18:49:49.152Z"
   },
   {
    "duration": 137,
    "start_time": "2023-01-28T18:49:49.232Z"
   },
   {
    "duration": 254,
    "start_time": "2023-01-28T18:49:49.370Z"
   },
   {
    "duration": 369,
    "start_time": "2023-01-28T18:49:49.626Z"
   },
   {
    "duration": 23,
    "start_time": "2023-01-28T18:49:49.997Z"
   },
   {
    "duration": 62,
    "start_time": "2023-01-28T18:49:50.022Z"
   },
   {
    "duration": 8,
    "start_time": "2023-01-28T18:49:50.086Z"
   },
   {
    "duration": 6,
    "start_time": "2023-01-28T18:49:50.104Z"
   },
   {
    "duration": 16,
    "start_time": "2023-01-28T18:49:50.116Z"
   },
   {
    "duration": 38,
    "start_time": "2023-01-28T18:49:50.134Z"
   },
   {
    "duration": 12,
    "start_time": "2023-01-28T18:49:50.173Z"
   },
   {
    "duration": 7,
    "start_time": "2023-01-28T18:49:50.186Z"
   },
   {
    "duration": 1427,
    "start_time": "2023-01-28T18:51:26.242Z"
   },
   {
    "duration": 847,
    "start_time": "2023-01-28T18:51:27.671Z"
   },
   {
    "duration": 117,
    "start_time": "2023-01-28T18:51:28.520Z"
   },
   {
    "duration": 3,
    "start_time": "2023-01-28T18:51:28.639Z"
   },
   {
    "duration": 101,
    "start_time": "2023-01-28T18:51:28.645Z"
   },
   {
    "duration": 5,
    "start_time": "2023-01-28T18:51:28.748Z"
   },
   {
    "duration": 37,
    "start_time": "2023-01-28T18:51:28.754Z"
   },
   {
    "duration": 16,
    "start_time": "2023-01-28T18:51:28.792Z"
   },
   {
    "duration": 377,
    "start_time": "2023-01-28T18:51:28.810Z"
   },
   {
    "duration": 44,
    "start_time": "2023-01-28T18:51:29.188Z"
   },
   {
    "duration": 396,
    "start_time": "2023-01-28T18:51:29.234Z"
   },
   {
    "duration": 451,
    "start_time": "2023-01-28T18:51:29.632Z"
   },
   {
    "duration": 43,
    "start_time": "2023-01-28T18:51:30.085Z"
   },
   {
    "duration": 345,
    "start_time": "2023-01-28T18:51:30.133Z"
   },
   {
    "duration": 339,
    "start_time": "2023-01-28T18:51:30.479Z"
   },
   {
    "duration": 27,
    "start_time": "2023-01-28T18:51:30.819Z"
   },
   {
    "duration": 352,
    "start_time": "2023-01-28T18:51:30.847Z"
   },
   {
    "duration": 142,
    "start_time": "2023-01-28T18:51:31.203Z"
   },
   {
    "duration": 29,
    "start_time": "2023-01-28T18:51:31.347Z"
   },
   {
    "duration": 49,
    "start_time": "2023-01-28T18:51:31.378Z"
   },
   {
    "duration": 65,
    "start_time": "2023-01-28T18:51:31.429Z"
   },
   {
    "duration": 94,
    "start_time": "2023-01-28T18:51:31.496Z"
   },
   {
    "duration": 148,
    "start_time": "2023-01-28T18:51:31.592Z"
   },
   {
    "duration": 82,
    "start_time": "2023-01-28T18:51:31.742Z"
   },
   {
    "duration": 3172,
    "start_time": "2023-01-28T18:51:31.826Z"
   },
   {
    "duration": 20,
    "start_time": "2023-01-28T18:51:35.011Z"
   },
   {
    "duration": 130,
    "start_time": "2023-01-28T18:51:35.033Z"
   },
   {
    "duration": 84,
    "start_time": "2023-01-28T18:51:35.165Z"
   },
   {
    "duration": 140,
    "start_time": "2023-01-28T18:51:35.251Z"
   },
   {
    "duration": 280,
    "start_time": "2023-01-28T18:51:35.393Z"
   },
   {
    "duration": 394,
    "start_time": "2023-01-28T18:51:35.675Z"
   },
   {
    "duration": 13,
    "start_time": "2023-01-28T18:51:36.071Z"
   },
   {
    "duration": 74,
    "start_time": "2023-01-28T18:51:36.086Z"
   },
   {
    "duration": 8,
    "start_time": "2023-01-28T18:51:36.162Z"
   },
   {
    "duration": 9,
    "start_time": "2023-01-28T18:51:36.171Z"
   },
   {
    "duration": 33,
    "start_time": "2023-01-28T18:51:36.182Z"
   },
   {
    "duration": 36,
    "start_time": "2023-01-28T18:51:36.217Z"
   },
   {
    "duration": 12,
    "start_time": "2023-01-28T18:51:36.255Z"
   },
   {
    "duration": 10,
    "start_time": "2023-01-28T18:51:36.269Z"
   },
   {
    "duration": 278891,
    "start_time": "2023-01-28T18:51:36.281Z"
   },
   {
    "duration": 7,
    "start_time": "2023-01-28T18:56:15.176Z"
   },
   {
    "duration": 153,
    "start_time": "2023-01-28T18:56:15.186Z"
   },
   {
    "duration": 199,
    "start_time": "2023-01-28T18:56:15.340Z"
   },
   {
    "duration": 11,
    "start_time": "2023-01-28T18:56:15.541Z"
   },
   {
    "duration": 167,
    "start_time": "2023-01-28T18:56:15.554Z"
   },
   {
    "duration": 17,
    "start_time": "2023-01-28T18:56:15.722Z"
   },
   {
    "duration": 16,
    "start_time": "2023-01-28T18:56:15.741Z"
   },
   {
    "duration": 1054269,
    "start_time": "2023-01-28T18:56:15.759Z"
   },
   {
    "duration": 8,
    "start_time": "2023-01-28T19:13:50.030Z"
   },
   {
    "duration": 517204,
    "start_time": "2023-01-28T19:13:50.039Z"
   },
   {
    "duration": 10,
    "start_time": "2023-01-28T19:22:27.245Z"
   },
   {
    "duration": 14,
    "start_time": "2023-01-28T19:22:27.256Z"
   },
   {
    "duration": 113,
    "start_time": "2023-01-28T19:22:27.272Z"
   },
   {
    "duration": 652,
    "start_time": "2023-01-28T19:22:27.387Z"
   },
   {
    "duration": 523,
    "start_time": "2023-01-28T19:22:28.108Z"
   },
   {
    "duration": 8,
    "start_time": "2023-01-28T19:22:28.633Z"
   },
   {
    "duration": 191,
    "start_time": "2023-01-28T19:22:28.643Z"
   },
   {
    "duration": 182,
    "start_time": "2023-01-28T19:22:28.835Z"
   },
   {
    "duration": 158,
    "start_time": "2023-01-28T19:22:29.021Z"
   },
   {
    "duration": 186,
    "start_time": "2023-01-28T19:26:08.254Z"
   },
   {
    "duration": 170,
    "start_time": "2023-01-28T19:26:33.785Z"
   },
   {
    "duration": 186,
    "start_time": "2023-01-28T19:27:08.142Z"
   },
   {
    "duration": 1604,
    "start_time": "2023-01-31T08:45:15.642Z"
   },
   {
    "duration": 1055,
    "start_time": "2023-01-31T08:45:17.249Z"
   },
   {
    "duration": 109,
    "start_time": "2023-01-31T08:45:18.306Z"
   },
   {
    "duration": 3,
    "start_time": "2023-01-31T08:45:18.417Z"
   },
   {
    "duration": 110,
    "start_time": "2023-01-31T08:45:18.422Z"
   },
   {
    "duration": 5,
    "start_time": "2023-01-31T08:45:18.534Z"
   },
   {
    "duration": 31,
    "start_time": "2023-01-31T08:45:18.540Z"
   },
   {
    "duration": 7,
    "start_time": "2023-01-31T08:45:18.573Z"
   },
   {
    "duration": 377,
    "start_time": "2023-01-31T08:45:18.581Z"
   },
   {
    "duration": 30,
    "start_time": "2023-01-31T08:45:18.961Z"
   },
   {
    "duration": 366,
    "start_time": "2023-01-31T08:45:18.993Z"
   },
   {
    "duration": 451,
    "start_time": "2023-01-31T08:45:19.360Z"
   },
   {
    "duration": 31,
    "start_time": "2023-01-31T08:45:19.813Z"
   },
   {
    "duration": 319,
    "start_time": "2023-01-31T08:45:19.846Z"
   },
   {
    "duration": 315,
    "start_time": "2023-01-31T08:45:20.167Z"
   },
   {
    "duration": 37,
    "start_time": "2023-01-31T08:45:20.484Z"
   },
   {
    "duration": 343,
    "start_time": "2023-01-31T08:45:20.523Z"
   },
   {
    "duration": 120,
    "start_time": "2023-01-31T08:45:20.867Z"
   },
   {
    "duration": 41,
    "start_time": "2023-01-31T08:45:20.988Z"
   },
   {
    "duration": 31,
    "start_time": "2023-01-31T08:45:21.030Z"
   },
   {
    "duration": 59,
    "start_time": "2023-01-31T08:45:21.062Z"
   },
   {
    "duration": 83,
    "start_time": "2023-01-31T08:45:21.122Z"
   },
   {
    "duration": 166,
    "start_time": "2023-01-31T08:45:21.207Z"
   },
   {
    "duration": 75,
    "start_time": "2023-01-31T08:45:21.375Z"
   },
   {
    "duration": 3210,
    "start_time": "2023-01-31T08:45:21.451Z"
   },
   {
    "duration": 18,
    "start_time": "2023-01-31T08:45:24.662Z"
   },
   {
    "duration": 122,
    "start_time": "2023-01-31T08:45:24.681Z"
   },
   {
    "duration": 67,
    "start_time": "2023-01-31T08:45:24.806Z"
   },
   {
    "duration": 131,
    "start_time": "2023-01-31T08:45:24.875Z"
   },
   {
    "duration": 248,
    "start_time": "2023-01-31T08:45:25.008Z"
   },
   {
    "duration": 437,
    "start_time": "2023-01-31T08:45:25.258Z"
   },
   {
    "duration": 16,
    "start_time": "2023-01-31T08:45:25.696Z"
   },
   {
    "duration": 94,
    "start_time": "2023-01-31T08:45:25.713Z"
   },
   {
    "duration": 47,
    "start_time": "2023-01-31T08:46:45.358Z"
   },
   {
    "duration": 85,
    "start_time": "2023-01-31T08:46:50.756Z"
   },
   {
    "duration": 80,
    "start_time": "2023-01-31T08:48:16.871Z"
   },
   {
    "duration": 80,
    "start_time": "2023-01-31T08:48:52.673Z"
   },
   {
    "duration": 78,
    "start_time": "2023-01-31T08:48:57.537Z"
   },
   {
    "duration": 84,
    "start_time": "2023-01-31T08:49:09.441Z"
   },
   {
    "duration": 80,
    "start_time": "2023-01-31T08:49:18.943Z"
   },
   {
    "duration": 4,
    "start_time": "2023-01-31T10:48:31.731Z"
   },
   {
    "duration": 821,
    "start_time": "2023-01-31T10:48:31.740Z"
   },
   {
    "duration": 107,
    "start_time": "2023-01-31T10:48:32.563Z"
   },
   {
    "duration": 2,
    "start_time": "2023-01-31T10:48:32.672Z"
   },
   {
    "duration": 113,
    "start_time": "2023-01-31T10:48:32.676Z"
   },
   {
    "duration": 13,
    "start_time": "2023-01-31T10:48:32.791Z"
   },
   {
    "duration": 40,
    "start_time": "2023-01-31T10:48:32.805Z"
   },
   {
    "duration": 14,
    "start_time": "2023-01-31T10:48:32.847Z"
   },
   {
    "duration": 398,
    "start_time": "2023-01-31T10:48:32.863Z"
   },
   {
    "duration": 29,
    "start_time": "2023-01-31T10:48:33.262Z"
   },
   {
    "duration": 365,
    "start_time": "2023-01-31T10:48:33.304Z"
   },
   {
    "duration": 467,
    "start_time": "2023-01-31T10:48:33.671Z"
   },
   {
    "duration": 29,
    "start_time": "2023-01-31T10:48:34.139Z"
   },
   {
    "duration": 384,
    "start_time": "2023-01-31T10:48:34.170Z"
   },
   {
    "duration": 325,
    "start_time": "2023-01-31T10:48:34.556Z"
   },
   {
    "duration": 28,
    "start_time": "2023-01-31T10:48:34.883Z"
   },
   {
    "duration": 343,
    "start_time": "2023-01-31T10:48:34.913Z"
   },
   {
    "duration": 122,
    "start_time": "2023-01-31T10:48:35.258Z"
   },
   {
    "duration": 34,
    "start_time": "2023-01-31T10:48:35.382Z"
   },
   {
    "duration": 33,
    "start_time": "2023-01-31T10:48:35.418Z"
   },
   {
    "duration": 53,
    "start_time": "2023-01-31T10:48:35.453Z"
   },
   {
    "duration": 84,
    "start_time": "2023-01-31T10:48:35.507Z"
   },
   {
    "duration": 160,
    "start_time": "2023-01-31T10:48:35.593Z"
   },
   {
    "duration": 78,
    "start_time": "2023-01-31T10:48:35.755Z"
   },
   {
    "duration": 3056,
    "start_time": "2023-01-31T10:48:35.835Z"
   },
   {
    "duration": 19,
    "start_time": "2023-01-31T10:48:38.893Z"
   },
   {
    "duration": 114,
    "start_time": "2023-01-31T10:48:38.914Z"
   },
   {
    "duration": 81,
    "start_time": "2023-01-31T10:48:39.029Z"
   },
   {
    "duration": 126,
    "start_time": "2023-01-31T10:48:39.113Z"
   },
   {
    "duration": 257,
    "start_time": "2023-01-31T10:48:39.240Z"
   },
   {
    "duration": 384,
    "start_time": "2023-01-31T10:48:39.499Z"
   },
   {
    "duration": 23,
    "start_time": "2023-01-31T10:48:39.885Z"
   },
   {
    "duration": 94,
    "start_time": "2023-01-31T10:48:39.909Z"
   },
   {
    "duration": 9,
    "start_time": "2023-01-31T10:48:40.005Z"
   },
   {
    "duration": 56,
    "start_time": "2023-01-31T10:48:40.015Z"
   },
   {
    "duration": 26,
    "start_time": "2023-01-31T10:48:40.073Z"
   },
   {
    "duration": 59,
    "start_time": "2023-01-31T10:48:40.101Z"
   },
   {
    "duration": 36,
    "start_time": "2023-01-31T10:48:40.162Z"
   },
   {
    "duration": 53,
    "start_time": "2023-01-31T10:49:00.106Z"
   },
   {
    "duration": 47,
    "start_time": "2023-01-31T10:49:16.092Z"
   },
   {
    "duration": 112,
    "start_time": "2023-01-31T10:49:33.826Z"
   },
   {
    "duration": 35975,
    "start_time": "2023-01-31T10:49:55.801Z"
   },
   {
    "duration": 4,
    "start_time": "2023-01-31T14:08:25.324Z"
   },
   {
    "duration": 7,
    "start_time": "2023-01-31T14:08:47.431Z"
   },
   {
    "duration": 18,
    "start_time": "2023-01-31T14:09:06.440Z"
   },
   {
    "duration": 5,
    "start_time": "2023-01-31T14:22:38.850Z"
   },
   {
    "duration": 21968,
    "start_time": "2023-01-31T14:23:18.204Z"
   },
   {
    "duration": 36509,
    "start_time": "2023-01-31T14:24:08.108Z"
   },
   {
    "duration": 36705,
    "start_time": "2023-01-31T14:24:54.401Z"
   },
   {
    "duration": 18,
    "start_time": "2023-01-31T14:27:21.099Z"
   },
   {
    "duration": 7,
    "start_time": "2023-01-31T14:45:21.659Z"
   },
   {
    "duration": 36432,
    "start_time": "2023-01-31T14:45:29.506Z"
   },
   {
    "duration": 16,
    "start_time": "2023-01-31T14:46:05.940Z"
   },
   {
    "duration": 1590,
    "start_time": "2023-02-01T07:31:33.498Z"
   },
   {
    "duration": 2955,
    "start_time": "2023-02-01T07:31:35.092Z"
   },
   {
    "duration": 141,
    "start_time": "2023-02-01T07:31:38.049Z"
   },
   {
    "duration": 12,
    "start_time": "2023-02-01T07:31:38.192Z"
   },
   {
    "duration": 91,
    "start_time": "2023-02-01T07:31:38.206Z"
   },
   {
    "duration": 5,
    "start_time": "2023-02-01T07:31:38.298Z"
   },
   {
    "duration": 44,
    "start_time": "2023-02-01T07:31:38.305Z"
   },
   {
    "duration": 6,
    "start_time": "2023-02-01T07:31:38.351Z"
   },
   {
    "duration": 349,
    "start_time": "2023-02-01T07:31:38.359Z"
   },
   {
    "duration": 40,
    "start_time": "2023-02-01T07:31:38.710Z"
   },
   {
    "duration": 331,
    "start_time": "2023-02-01T07:31:38.752Z"
   },
   {
    "duration": 408,
    "start_time": "2023-02-01T07:31:39.085Z"
   },
   {
    "duration": 27,
    "start_time": "2023-02-01T07:31:39.495Z"
   },
   {
    "duration": 301,
    "start_time": "2023-02-01T07:31:39.524Z"
   },
   {
    "duration": 319,
    "start_time": "2023-02-01T07:31:39.826Z"
   },
   {
    "duration": 24,
    "start_time": "2023-02-01T07:31:40.147Z"
   },
   {
    "duration": 325,
    "start_time": "2023-02-01T07:31:40.173Z"
   },
   {
    "duration": 146,
    "start_time": "2023-02-01T07:31:40.499Z"
   },
   {
    "duration": 33,
    "start_time": "2023-02-01T07:31:40.646Z"
   },
   {
    "duration": 70,
    "start_time": "2023-02-01T07:31:40.681Z"
   },
   {
    "duration": 47,
    "start_time": "2023-02-01T07:31:40.753Z"
   },
   {
    "duration": 105,
    "start_time": "2023-02-01T07:31:40.803Z"
   },
   {
    "duration": 150,
    "start_time": "2023-02-01T07:31:40.910Z"
   },
   {
    "duration": 71,
    "start_time": "2023-02-01T07:31:41.062Z"
   },
   {
    "duration": 2975,
    "start_time": "2023-02-01T07:31:41.143Z"
   },
   {
    "duration": 24,
    "start_time": "2023-02-01T07:31:44.120Z"
   },
   {
    "duration": 145,
    "start_time": "2023-02-01T07:31:44.145Z"
   },
   {
    "duration": 82,
    "start_time": "2023-02-01T07:31:44.293Z"
   },
   {
    "duration": 131,
    "start_time": "2023-02-01T07:31:44.376Z"
   },
   {
    "duration": 262,
    "start_time": "2023-02-01T07:31:44.509Z"
   },
   {
    "duration": 452,
    "start_time": "2023-02-01T07:31:44.772Z"
   },
   {
    "duration": 19,
    "start_time": "2023-02-01T07:31:45.225Z"
   },
   {
    "duration": 83,
    "start_time": "2023-02-01T07:31:45.246Z"
   },
   {
    "duration": 15,
    "start_time": "2023-02-01T07:31:45.331Z"
   },
   {
    "duration": 10,
    "start_time": "2023-02-01T07:31:45.347Z"
   },
   {
    "duration": 18,
    "start_time": "2023-02-01T07:31:45.359Z"
   },
   {
    "duration": 36,
    "start_time": "2023-02-01T07:31:45.379Z"
   },
   {
    "duration": 12,
    "start_time": "2023-02-01T07:31:45.416Z"
   },
   {
    "duration": 7,
    "start_time": "2023-02-01T07:31:45.429Z"
   },
   {
    "duration": 36252,
    "start_time": "2023-02-01T07:31:45.438Z"
   },
   {
    "duration": 18,
    "start_time": "2023-02-01T07:32:21.692Z"
   },
   {
    "duration": 4,
    "start_time": "2023-02-01T07:37:05.788Z"
   },
   {
    "duration": 35802,
    "start_time": "2023-02-01T07:37:42.026Z"
   },
   {
    "duration": 21,
    "start_time": "2023-02-01T07:38:17.830Z"
   },
   {
    "duration": 12,
    "start_time": "2023-02-01T07:38:17.853Z"
   },
   {
    "duration": 5,
    "start_time": "2023-02-01T08:02:35.147Z"
   },
   {
    "duration": 108,
    "start_time": "2023-02-01T08:06:36.003Z"
   },
   {
    "duration": 6,
    "start_time": "2023-02-01T08:17:08.176Z"
   },
   {
    "duration": 16,
    "start_time": "2023-02-01T08:17:21.624Z"
   },
   {
    "duration": 5,
    "start_time": "2023-02-01T08:17:56.716Z"
   },
   {
    "duration": 6,
    "start_time": "2023-02-01T08:22:57.260Z"
   },
   {
    "duration": 1274,
    "start_time": "2023-02-01T08:23:15.379Z"
   },
   {
    "duration": 19,
    "start_time": "2023-02-01T08:24:05.318Z"
   },
   {
    "duration": 5,
    "start_time": "2023-02-01T08:24:16.089Z"
   },
   {
    "duration": 18,
    "start_time": "2023-02-01T08:24:34.130Z"
   },
   {
    "duration": 76,
    "start_time": "2023-02-01T08:25:41.588Z"
   },
   {
    "duration": 21,
    "start_time": "2023-02-01T08:25:45.917Z"
   },
   {
    "duration": 12,
    "start_time": "2023-02-01T08:27:59.331Z"
   },
   {
    "duration": 9,
    "start_time": "2023-02-01T08:28:08.779Z"
   },
   {
    "duration": 9,
    "start_time": "2023-02-01T08:28:18.158Z"
   },
   {
    "duration": 8,
    "start_time": "2023-02-01T08:30:36.805Z"
   },
   {
    "duration": 8,
    "start_time": "2023-02-01T08:30:43.085Z"
   },
   {
    "duration": 6,
    "start_time": "2023-02-01T08:30:52.892Z"
   },
   {
    "duration": 9,
    "start_time": "2023-02-01T08:32:19.684Z"
   },
   {
    "duration": 4,
    "start_time": "2023-02-01T08:32:25.236Z"
   },
   {
    "duration": 8,
    "start_time": "2023-02-01T08:33:01.541Z"
   },
   {
    "duration": 8,
    "start_time": "2023-02-01T08:33:05.655Z"
   },
   {
    "duration": 14,
    "start_time": "2023-02-01T08:33:23.359Z"
   },
   {
    "duration": 15,
    "start_time": "2023-02-01T08:34:30.565Z"
   },
   {
    "duration": 130,
    "start_time": "2023-02-01T08:35:01.720Z"
   },
   {
    "duration": 15,
    "start_time": "2023-02-01T08:35:10.942Z"
   },
   {
    "duration": 27,
    "start_time": "2023-02-01T08:37:09.118Z"
   },
   {
    "duration": 25,
    "start_time": "2023-02-01T08:37:12.097Z"
   },
   {
    "duration": 6,
    "start_time": "2023-02-01T08:40:50.099Z"
   },
   {
    "duration": 6,
    "start_time": "2023-02-01T08:42:01.241Z"
   },
   {
    "duration": 16,
    "start_time": "2023-02-01T08:43:58.016Z"
   },
   {
    "duration": 6,
    "start_time": "2023-02-01T08:52:25.640Z"
   },
   {
    "duration": 6,
    "start_time": "2023-02-01T08:52:38.415Z"
   },
   {
    "duration": 141,
    "start_time": "2023-02-01T09:01:21.798Z"
   },
   {
    "duration": 5,
    "start_time": "2023-02-01T09:02:44.734Z"
   },
   {
    "duration": 864,
    "start_time": "2023-02-01T09:02:44.744Z"
   },
   {
    "duration": 136,
    "start_time": "2023-02-01T09:02:45.610Z"
   },
   {
    "duration": 2,
    "start_time": "2023-02-01T09:02:45.747Z"
   },
   {
    "duration": 101,
    "start_time": "2023-02-01T09:02:45.751Z"
   },
   {
    "duration": 5,
    "start_time": "2023-02-01T09:02:45.854Z"
   },
   {
    "duration": 28,
    "start_time": "2023-02-01T09:02:45.860Z"
   },
   {
    "duration": 4,
    "start_time": "2023-02-01T09:02:45.890Z"
   },
   {
    "duration": 357,
    "start_time": "2023-02-01T09:02:45.895Z"
   },
   {
    "duration": 27,
    "start_time": "2023-02-01T09:02:46.254Z"
   },
   {
    "duration": 368,
    "start_time": "2023-02-01T09:02:46.283Z"
   },
   {
    "duration": 440,
    "start_time": "2023-02-01T09:02:46.653Z"
   },
   {
    "duration": 27,
    "start_time": "2023-02-01T09:02:47.095Z"
   },
   {
    "duration": 345,
    "start_time": "2023-02-01T09:02:47.124Z"
   },
   {
    "duration": 317,
    "start_time": "2023-02-01T09:02:47.471Z"
   },
   {
    "duration": 20,
    "start_time": "2023-02-01T09:02:47.790Z"
   },
   {
    "duration": 319,
    "start_time": "2023-02-01T09:02:47.812Z"
   },
   {
    "duration": 152,
    "start_time": "2023-02-01T09:02:48.133Z"
   },
   {
    "duration": 28,
    "start_time": "2023-02-01T09:02:48.286Z"
   },
   {
    "duration": 64,
    "start_time": "2023-02-01T09:02:48.316Z"
   },
   {
    "duration": 74,
    "start_time": "2023-02-01T09:02:48.382Z"
   },
   {
    "duration": 82,
    "start_time": "2023-02-01T09:02:48.457Z"
   },
   {
    "duration": 149,
    "start_time": "2023-02-01T09:02:48.541Z"
   },
   {
    "duration": 75,
    "start_time": "2023-02-01T09:02:48.692Z"
   },
   {
    "duration": 2861,
    "start_time": "2023-02-01T09:02:48.769Z"
   },
   {
    "duration": 17,
    "start_time": "2023-02-01T09:02:51.631Z"
   },
   {
    "duration": 174,
    "start_time": "2023-02-01T09:02:51.649Z"
   },
   {
    "duration": 81,
    "start_time": "2023-02-01T09:02:51.825Z"
   },
   {
    "duration": 135,
    "start_time": "2023-02-01T09:02:51.909Z"
   },
   {
    "duration": 250,
    "start_time": "2023-02-01T09:02:52.045Z"
   },
   {
    "duration": 427,
    "start_time": "2023-02-01T09:02:52.297Z"
   },
   {
    "duration": 20,
    "start_time": "2023-02-01T09:02:52.726Z"
   },
   {
    "duration": 49,
    "start_time": "2023-02-01T09:02:52.748Z"
   },
   {
    "duration": 6,
    "start_time": "2023-02-01T09:02:52.799Z"
   },
   {
    "duration": 9,
    "start_time": "2023-02-01T09:02:52.807Z"
   },
   {
    "duration": 61,
    "start_time": "2023-02-01T09:02:52.818Z"
   },
   {
    "duration": 0,
    "start_time": "2023-02-01T09:02:52.881Z"
   },
   {
    "duration": 0,
    "start_time": "2023-02-01T09:02:52.882Z"
   },
   {
    "duration": 0,
    "start_time": "2023-02-01T09:02:52.884Z"
   },
   {
    "duration": 0,
    "start_time": "2023-02-01T09:02:52.885Z"
   },
   {
    "duration": 0,
    "start_time": "2023-02-01T09:02:52.886Z"
   },
   {
    "duration": 49,
    "start_time": "2023-02-01T09:04:37.933Z"
   },
   {
    "duration": 48,
    "start_time": "2023-02-01T09:08:45.081Z"
   },
   {
    "duration": 5,
    "start_time": "2023-02-01T09:09:22.606Z"
   },
   {
    "duration": 6,
    "start_time": "2023-02-01T09:09:28.666Z"
   },
   {
    "duration": 29,
    "start_time": "2023-02-01T09:09:32.937Z"
   },
   {
    "duration": 14,
    "start_time": "2023-02-01T09:09:35.919Z"
   },
   {
    "duration": 4,
    "start_time": "2023-02-01T09:09:41.131Z"
   },
   {
    "duration": 73594,
    "start_time": "2023-02-01T09:09:43.968Z"
   },
   {
    "duration": 6,
    "start_time": "2023-02-01T09:10:57.564Z"
   },
   {
    "duration": 118,
    "start_time": "2023-02-01T09:12:39.352Z"
   },
   {
    "duration": 4,
    "start_time": "2023-02-01T09:14:05.477Z"
   },
   {
    "duration": 202,
    "start_time": "2023-02-01T09:22:23.608Z"
   },
   {
    "duration": 19,
    "start_time": "2023-02-01T09:22:35.841Z"
   },
   {
    "duration": 4,
    "start_time": "2023-02-01T09:22:53.861Z"
   },
   {
    "duration": 777,
    "start_time": "2023-02-01T09:22:53.868Z"
   },
   {
    "duration": 160,
    "start_time": "2023-02-01T09:22:54.648Z"
   },
   {
    "duration": 3,
    "start_time": "2023-02-01T09:22:54.809Z"
   },
   {
    "duration": 105,
    "start_time": "2023-02-01T09:22:54.815Z"
   },
   {
    "duration": 5,
    "start_time": "2023-02-01T09:22:54.921Z"
   },
   {
    "duration": 34,
    "start_time": "2023-02-01T09:22:54.928Z"
   },
   {
    "duration": 3,
    "start_time": "2023-02-01T09:22:54.964Z"
   },
   {
    "duration": 361,
    "start_time": "2023-02-01T09:22:54.968Z"
   },
   {
    "duration": 36,
    "start_time": "2023-02-01T09:22:55.331Z"
   },
   {
    "duration": 376,
    "start_time": "2023-02-01T09:22:55.370Z"
   },
   {
    "duration": 378,
    "start_time": "2023-02-01T09:22:55.748Z"
   },
   {
    "duration": 33,
    "start_time": "2023-02-01T09:22:56.127Z"
   },
   {
    "duration": 387,
    "start_time": "2023-02-01T09:22:56.162Z"
   },
   {
    "duration": 296,
    "start_time": "2023-02-01T09:22:56.551Z"
   },
   {
    "duration": 22,
    "start_time": "2023-02-01T09:22:56.848Z"
   },
   {
    "duration": 353,
    "start_time": "2023-02-01T09:22:56.872Z"
   },
   {
    "duration": 170,
    "start_time": "2023-02-01T09:22:57.227Z"
   },
   {
    "duration": 29,
    "start_time": "2023-02-01T09:22:57.399Z"
   },
   {
    "duration": 44,
    "start_time": "2023-02-01T09:22:57.429Z"
   },
   {
    "duration": 45,
    "start_time": "2023-02-01T09:22:57.475Z"
   },
   {
    "duration": 101,
    "start_time": "2023-02-01T09:22:57.523Z"
   },
   {
    "duration": 169,
    "start_time": "2023-02-01T09:22:57.625Z"
   },
   {
    "duration": 85,
    "start_time": "2023-02-01T09:22:57.796Z"
   },
   {
    "duration": 2907,
    "start_time": "2023-02-01T09:22:57.882Z"
   },
   {
    "duration": 17,
    "start_time": "2023-02-01T09:23:00.790Z"
   },
   {
    "duration": 166,
    "start_time": "2023-02-01T09:23:00.809Z"
   },
   {
    "duration": 85,
    "start_time": "2023-02-01T09:23:00.976Z"
   },
   {
    "duration": 124,
    "start_time": "2023-02-01T09:23:01.064Z"
   },
   {
    "duration": 246,
    "start_time": "2023-02-01T09:23:01.190Z"
   },
   {
    "duration": 377,
    "start_time": "2023-02-01T09:23:01.438Z"
   },
   {
    "duration": 12,
    "start_time": "2023-02-01T09:23:01.816Z"
   },
   {
    "duration": 64,
    "start_time": "2023-02-01T09:23:01.830Z"
   },
   {
    "duration": 8,
    "start_time": "2023-02-01T09:23:01.895Z"
   },
   {
    "duration": 43,
    "start_time": "2023-02-01T09:23:01.905Z"
   },
   {
    "duration": 30,
    "start_time": "2023-02-01T09:23:01.949Z"
   },
   {
    "duration": 42,
    "start_time": "2023-02-01T09:23:01.981Z"
   },
   {
    "duration": 11,
    "start_time": "2023-02-01T09:23:02.026Z"
   },
   {
    "duration": 7,
    "start_time": "2023-02-01T09:23:02.039Z"
   },
   {
    "duration": 50,
    "start_time": "2023-02-01T09:23:02.048Z"
   },
   {
    "duration": 17,
    "start_time": "2023-02-01T09:23:02.099Z"
   },
   {
    "duration": 138,
    "start_time": "2023-02-01T09:23:02.118Z"
   },
   {
    "duration": 4,
    "start_time": "2023-02-01T09:23:28.111Z"
   },
   {
    "duration": 719,
    "start_time": "2023-02-01T09:23:28.117Z"
   },
   {
    "duration": 124,
    "start_time": "2023-02-01T09:23:28.837Z"
   },
   {
    "duration": 4,
    "start_time": "2023-02-01T09:23:28.963Z"
   },
   {
    "duration": 92,
    "start_time": "2023-02-01T09:23:28.969Z"
   },
   {
    "duration": 5,
    "start_time": "2023-02-01T09:23:29.062Z"
   },
   {
    "duration": 49,
    "start_time": "2023-02-01T09:23:29.069Z"
   },
   {
    "duration": 4,
    "start_time": "2023-02-01T09:23:29.120Z"
   },
   {
    "duration": 361,
    "start_time": "2023-02-01T09:23:29.125Z"
   },
   {
    "duration": 28,
    "start_time": "2023-02-01T09:23:29.488Z"
   },
   {
    "duration": 339,
    "start_time": "2023-02-01T09:23:29.519Z"
   },
   {
    "duration": 330,
    "start_time": "2023-02-01T09:23:29.860Z"
   },
   {
    "duration": 29,
    "start_time": "2023-02-01T09:23:30.191Z"
   },
   {
    "duration": 295,
    "start_time": "2023-02-01T09:23:30.222Z"
   },
   {
    "duration": 299,
    "start_time": "2023-02-01T09:23:30.518Z"
   },
   {
    "duration": 27,
    "start_time": "2023-02-01T09:23:30.818Z"
   },
   {
    "duration": 402,
    "start_time": "2023-02-01T09:23:30.847Z"
   },
   {
    "duration": 137,
    "start_time": "2023-02-01T09:23:31.251Z"
   },
   {
    "duration": 27,
    "start_time": "2023-02-01T09:23:31.390Z"
   },
   {
    "duration": 46,
    "start_time": "2023-02-01T09:23:31.419Z"
   },
   {
    "duration": 40,
    "start_time": "2023-02-01T09:23:31.466Z"
   },
   {
    "duration": 96,
    "start_time": "2023-02-01T09:23:31.508Z"
   },
   {
    "duration": 159,
    "start_time": "2023-02-01T09:23:31.605Z"
   },
   {
    "duration": 78,
    "start_time": "2023-02-01T09:23:31.766Z"
   },
   {
    "duration": 2668,
    "start_time": "2023-02-01T09:23:31.845Z"
   },
   {
    "duration": 16,
    "start_time": "2023-02-01T09:23:34.514Z"
   },
   {
    "duration": 133,
    "start_time": "2023-02-01T09:23:34.532Z"
   },
   {
    "duration": 98,
    "start_time": "2023-02-01T09:23:34.666Z"
   },
   {
    "duration": 144,
    "start_time": "2023-02-01T09:23:34.767Z"
   },
   {
    "duration": 255,
    "start_time": "2023-02-01T09:23:34.913Z"
   },
   {
    "duration": 357,
    "start_time": "2023-02-01T09:23:35.170Z"
   },
   {
    "duration": 15,
    "start_time": "2023-02-01T09:23:35.529Z"
   },
   {
    "duration": 62,
    "start_time": "2023-02-01T09:23:35.545Z"
   },
   {
    "duration": 7,
    "start_time": "2023-02-01T09:23:35.609Z"
   },
   {
    "duration": 22,
    "start_time": "2023-02-01T09:23:35.618Z"
   },
   {
    "duration": 11,
    "start_time": "2023-02-01T09:23:35.642Z"
   },
   {
    "duration": 37,
    "start_time": "2023-02-01T09:23:35.655Z"
   },
   {
    "duration": 12,
    "start_time": "2023-02-01T09:23:35.694Z"
   },
   {
    "duration": 7,
    "start_time": "2023-02-01T09:23:35.707Z"
   },
   {
    "duration": 26,
    "start_time": "2023-02-01T09:23:35.716Z"
   },
   {
    "duration": 9,
    "start_time": "2023-02-01T09:23:35.743Z"
   },
   {
    "duration": 125,
    "start_time": "2023-02-01T09:23:35.753Z"
   },
   {
    "duration": 172,
    "start_time": "2023-02-01T09:25:01.276Z"
   },
   {
    "duration": 174,
    "start_time": "2023-02-01T09:25:12.360Z"
   },
   {
    "duration": 178,
    "start_time": "2023-02-01T09:25:19.454Z"
   },
   {
    "duration": 217,
    "start_time": "2023-02-01T09:26:17.144Z"
   },
   {
    "duration": 175,
    "start_time": "2023-02-01T09:26:22.913Z"
   },
   {
    "duration": 8,
    "start_time": "2023-02-01T09:26:46.507Z"
   },
   {
    "duration": 203,
    "start_time": "2023-02-01T09:27:14.938Z"
   },
   {
    "duration": 11,
    "start_time": "2023-02-01T09:27:22.094Z"
   },
   {
    "duration": 40,
    "start_time": "2023-02-01T09:30:25.042Z"
   },
   {
    "duration": 394,
    "start_time": "2023-02-01T09:43:55.141Z"
   },
   {
    "duration": 38,
    "start_time": "2023-02-01T09:44:01.240Z"
   },
   {
    "duration": 12,
    "start_time": "2023-02-01T09:44:06.492Z"
   },
   {
    "duration": 11,
    "start_time": "2023-02-01T09:44:21.420Z"
   },
   {
    "duration": 7,
    "start_time": "2023-02-01T09:44:27.517Z"
   },
   {
    "duration": 13,
    "start_time": "2023-02-01T09:44:47.251Z"
   },
   {
    "duration": 4,
    "start_time": "2023-02-01T09:46:04.307Z"
   },
   {
    "duration": 829,
    "start_time": "2023-02-01T09:46:04.315Z"
   },
   {
    "duration": 129,
    "start_time": "2023-02-01T09:46:05.146Z"
   },
   {
    "duration": 14,
    "start_time": "2023-02-01T09:46:05.276Z"
   },
   {
    "duration": 122,
    "start_time": "2023-02-01T09:46:05.292Z"
   },
   {
    "duration": 5,
    "start_time": "2023-02-01T09:46:05.416Z"
   },
   {
    "duration": 50,
    "start_time": "2023-02-01T09:46:05.423Z"
   },
   {
    "duration": 14,
    "start_time": "2023-02-01T09:46:05.475Z"
   },
   {
    "duration": 468,
    "start_time": "2023-02-01T09:46:05.491Z"
   },
   {
    "duration": 25,
    "start_time": "2023-02-01T09:46:05.961Z"
   },
   {
    "duration": 357,
    "start_time": "2023-02-01T09:46:05.988Z"
   },
   {
    "duration": 341,
    "start_time": "2023-02-01T09:46:06.347Z"
   },
   {
    "duration": 30,
    "start_time": "2023-02-01T09:46:06.690Z"
   },
   {
    "duration": 312,
    "start_time": "2023-02-01T09:46:06.722Z"
   },
   {
    "duration": 327,
    "start_time": "2023-02-01T09:46:07.035Z"
   },
   {
    "duration": 22,
    "start_time": "2023-02-01T09:46:07.363Z"
   },
   {
    "duration": 346,
    "start_time": "2023-02-01T09:46:07.386Z"
   },
   {
    "duration": 149,
    "start_time": "2023-02-01T09:46:07.733Z"
   },
   {
    "duration": 30,
    "start_time": "2023-02-01T09:46:07.884Z"
   },
   {
    "duration": 48,
    "start_time": "2023-02-01T09:46:07.915Z"
   },
   {
    "duration": 46,
    "start_time": "2023-02-01T09:46:07.965Z"
   },
   {
    "duration": 86,
    "start_time": "2023-02-01T09:46:08.013Z"
   },
   {
    "duration": 253,
    "start_time": "2023-02-01T09:46:08.101Z"
   },
   {
    "duration": 72,
    "start_time": "2023-02-01T09:46:08.355Z"
   },
   {
    "duration": 2772,
    "start_time": "2023-02-01T09:46:08.428Z"
   },
   {
    "duration": 16,
    "start_time": "2023-02-01T09:46:11.201Z"
   },
   {
    "duration": 135,
    "start_time": "2023-02-01T09:46:11.219Z"
   },
   {
    "duration": 93,
    "start_time": "2023-02-01T09:46:11.356Z"
   },
   {
    "duration": 125,
    "start_time": "2023-02-01T09:46:11.453Z"
   },
   {
    "duration": 285,
    "start_time": "2023-02-01T09:46:11.580Z"
   },
   {
    "duration": 349,
    "start_time": "2023-02-01T09:46:11.866Z"
   },
   {
    "duration": 12,
    "start_time": "2023-02-01T09:46:12.217Z"
   },
   {
    "duration": 21,
    "start_time": "2023-02-01T09:46:12.230Z"
   },
   {
    "duration": 0,
    "start_time": "2023-02-01T09:46:12.252Z"
   },
   {
    "duration": 0,
    "start_time": "2023-02-01T09:46:12.254Z"
   },
   {
    "duration": 0,
    "start_time": "2023-02-01T09:46:12.255Z"
   },
   {
    "duration": 0,
    "start_time": "2023-02-01T09:46:12.255Z"
   },
   {
    "duration": 0,
    "start_time": "2023-02-01T09:46:12.256Z"
   },
   {
    "duration": 0,
    "start_time": "2023-02-01T09:46:12.257Z"
   },
   {
    "duration": 0,
    "start_time": "2023-02-01T09:46:12.258Z"
   },
   {
    "duration": 0,
    "start_time": "2023-02-01T09:46:12.259Z"
   },
   {
    "duration": 0,
    "start_time": "2023-02-01T09:46:12.260Z"
   },
   {
    "duration": 0,
    "start_time": "2023-02-01T09:46:12.261Z"
   },
   {
    "duration": 0,
    "start_time": "2023-02-01T09:46:12.262Z"
   },
   {
    "duration": 0,
    "start_time": "2023-02-01T09:46:12.263Z"
   },
   {
    "duration": 0,
    "start_time": "2023-02-01T09:46:12.264Z"
   },
   {
    "duration": 4,
    "start_time": "2023-02-01T09:46:42.625Z"
   },
   {
    "duration": 788,
    "start_time": "2023-02-01T09:46:42.632Z"
   },
   {
    "duration": 138,
    "start_time": "2023-02-01T09:46:43.423Z"
   },
   {
    "duration": 2,
    "start_time": "2023-02-01T09:46:43.563Z"
   },
   {
    "duration": 169,
    "start_time": "2023-02-01T09:46:43.567Z"
   },
   {
    "duration": 9,
    "start_time": "2023-02-01T09:46:43.737Z"
   },
   {
    "duration": 26,
    "start_time": "2023-02-01T09:46:43.747Z"
   },
   {
    "duration": 4,
    "start_time": "2023-02-01T09:46:43.774Z"
   },
   {
    "duration": 335,
    "start_time": "2023-02-01T09:46:43.780Z"
   },
   {
    "duration": 27,
    "start_time": "2023-02-01T09:46:44.117Z"
   },
   {
    "duration": 317,
    "start_time": "2023-02-01T09:46:44.147Z"
   },
   {
    "duration": 349,
    "start_time": "2023-02-01T09:46:44.465Z"
   },
   {
    "duration": 38,
    "start_time": "2023-02-01T09:46:44.816Z"
   },
   {
    "duration": 342,
    "start_time": "2023-02-01T09:46:44.856Z"
   },
   {
    "duration": 306,
    "start_time": "2023-02-01T09:46:45.200Z"
   },
   {
    "duration": 26,
    "start_time": "2023-02-01T09:46:45.507Z"
   },
   {
    "duration": 413,
    "start_time": "2023-02-01T09:46:45.544Z"
   },
   {
    "duration": 139,
    "start_time": "2023-02-01T09:46:45.959Z"
   },
   {
    "duration": 29,
    "start_time": "2023-02-01T09:46:46.100Z"
   },
   {
    "duration": 44,
    "start_time": "2023-02-01T09:46:46.131Z"
   },
   {
    "duration": 43,
    "start_time": "2023-02-01T09:46:46.177Z"
   },
   {
    "duration": 91,
    "start_time": "2023-02-01T09:46:46.221Z"
   },
   {
    "duration": 153,
    "start_time": "2023-02-01T09:46:46.314Z"
   },
   {
    "duration": 88,
    "start_time": "2023-02-01T09:46:46.469Z"
   },
   {
    "duration": 2739,
    "start_time": "2023-02-01T09:46:46.558Z"
   },
   {
    "duration": 17,
    "start_time": "2023-02-01T09:46:49.298Z"
   },
   {
    "duration": 149,
    "start_time": "2023-02-01T09:46:49.316Z"
   },
   {
    "duration": 106,
    "start_time": "2023-02-01T09:46:49.467Z"
   },
   {
    "duration": 135,
    "start_time": "2023-02-01T09:46:49.578Z"
   },
   {
    "duration": 255,
    "start_time": "2023-02-01T09:46:49.715Z"
   },
   {
    "duration": 372,
    "start_time": "2023-02-01T09:46:49.972Z"
   },
   {
    "duration": 14,
    "start_time": "2023-02-01T09:46:50.345Z"
   },
   {
    "duration": 50,
    "start_time": "2023-02-01T09:46:50.361Z"
   },
   {
    "duration": 7,
    "start_time": "2023-02-01T09:46:50.413Z"
   },
   {
    "duration": 28,
    "start_time": "2023-02-01T09:46:50.421Z"
   },
   {
    "duration": 22,
    "start_time": "2023-02-01T09:46:50.450Z"
   },
   {
    "duration": 37,
    "start_time": "2023-02-01T09:46:50.473Z"
   },
   {
    "duration": 11,
    "start_time": "2023-02-01T09:46:50.512Z"
   },
   {
    "duration": 14,
    "start_time": "2023-02-01T09:46:50.525Z"
   },
   {
    "duration": 7,
    "start_time": "2023-02-01T09:46:50.541Z"
   },
   {
    "duration": 11,
    "start_time": "2023-02-01T09:46:50.550Z"
   },
   {
    "duration": 142,
    "start_time": "2023-02-01T09:46:50.563Z"
   },
   {
    "duration": 2,
    "start_time": "2023-02-01T09:46:50.707Z"
   },
   {
    "duration": 20,
    "start_time": "2023-02-01T09:46:50.711Z"
   },
   {
    "duration": 254,
    "start_time": "2023-02-01T09:46:50.733Z"
   },
   {
    "duration": 12,
    "start_time": "2023-02-01T09:46:50.989Z"
   },
   {
    "duration": 13,
    "start_time": "2023-02-01T09:46:51.002Z"
   },
   {
    "duration": 21,
    "start_time": "2023-02-01T09:50:14.953Z"
   },
   {
    "duration": 12,
    "start_time": "2023-02-01T09:50:21.800Z"
   },
   {
    "duration": 96,
    "start_time": "2023-02-01T09:50:44.936Z"
   },
   {
    "duration": 9,
    "start_time": "2023-02-01T09:50:56.624Z"
   },
   {
    "duration": 13,
    "start_time": "2023-02-01T09:51:02.046Z"
   },
   {
    "duration": 15,
    "start_time": "2023-02-01T09:53:02.228Z"
   },
   {
    "duration": 12,
    "start_time": "2023-02-01T10:15:29.028Z"
   },
   {
    "duration": 3,
    "start_time": "2023-02-01T10:15:31.673Z"
   },
   {
    "duration": 13,
    "start_time": "2023-02-01T10:15:32.782Z"
   },
   {
    "duration": 2,
    "start_time": "2023-02-01T10:15:48.951Z"
   },
   {
    "duration": 13,
    "start_time": "2023-02-01T10:15:49.524Z"
   },
   {
    "duration": 168,
    "start_time": "2023-02-01T10:16:00.783Z"
   },
   {
    "duration": 156,
    "start_time": "2023-02-01T10:21:08.119Z"
   },
   {
    "duration": 210,
    "start_time": "2023-02-01T10:23:39.546Z"
   },
   {
    "duration": 218,
    "start_time": "2023-02-01T10:40:55.779Z"
   },
   {
    "duration": 6,
    "start_time": "2023-02-01T10:55:40.455Z"
   },
   {
    "duration": 798,
    "start_time": "2023-02-01T10:55:40.463Z"
   },
   {
    "duration": 142,
    "start_time": "2023-02-01T10:55:41.264Z"
   },
   {
    "duration": 15,
    "start_time": "2023-02-01T10:55:41.407Z"
   },
   {
    "duration": 125,
    "start_time": "2023-02-01T10:55:41.425Z"
   },
   {
    "duration": 7,
    "start_time": "2023-02-01T10:55:41.551Z"
   },
   {
    "duration": 54,
    "start_time": "2023-02-01T10:55:41.559Z"
   },
   {
    "duration": 8,
    "start_time": "2023-02-01T10:55:41.615Z"
   },
   {
    "duration": 455,
    "start_time": "2023-02-01T10:55:41.625Z"
   },
   {
    "duration": 31,
    "start_time": "2023-02-01T10:55:42.082Z"
   },
   {
    "duration": 405,
    "start_time": "2023-02-01T10:55:42.117Z"
   },
   {
    "duration": 350,
    "start_time": "2023-02-01T10:55:42.527Z"
   },
   {
    "duration": 33,
    "start_time": "2023-02-01T10:55:42.879Z"
   },
   {
    "duration": 332,
    "start_time": "2023-02-01T10:55:42.914Z"
   },
   {
    "duration": 369,
    "start_time": "2023-02-01T10:55:43.247Z"
   },
   {
    "duration": 41,
    "start_time": "2023-02-01T10:55:43.618Z"
   },
   {
    "duration": 466,
    "start_time": "2023-02-01T10:55:43.662Z"
   },
   {
    "duration": 185,
    "start_time": "2023-02-01T10:55:44.130Z"
   },
   {
    "duration": 42,
    "start_time": "2023-02-01T10:55:44.317Z"
   },
   {
    "duration": 57,
    "start_time": "2023-02-01T10:55:44.361Z"
   },
   {
    "duration": 55,
    "start_time": "2023-02-01T10:55:44.420Z"
   },
   {
    "duration": 104,
    "start_time": "2023-02-01T10:55:44.477Z"
   },
   {
    "duration": 434,
    "start_time": "2023-02-01T10:55:44.583Z"
   },
   {
    "duration": 104,
    "start_time": "2023-02-01T10:55:45.019Z"
   },
   {
    "duration": 3080,
    "start_time": "2023-02-01T10:55:45.126Z"
   },
   {
    "duration": 18,
    "start_time": "2023-02-01T10:55:48.208Z"
   },
   {
    "duration": 190,
    "start_time": "2023-02-01T10:55:48.228Z"
   },
   {
    "duration": 94,
    "start_time": "2023-02-01T10:55:48.420Z"
   },
   {
    "duration": 159,
    "start_time": "2023-02-01T10:55:48.518Z"
   },
   {
    "duration": 295,
    "start_time": "2023-02-01T10:55:48.679Z"
   },
   {
    "duration": 391,
    "start_time": "2023-02-01T10:55:48.976Z"
   },
   {
    "duration": 16,
    "start_time": "2023-02-01T10:55:49.369Z"
   },
   {
    "duration": 74,
    "start_time": "2023-02-01T10:55:49.387Z"
   },
   {
    "duration": 7,
    "start_time": "2023-02-01T10:55:49.464Z"
   },
   {
    "duration": 23,
    "start_time": "2023-02-01T10:55:49.472Z"
   },
   {
    "duration": 12,
    "start_time": "2023-02-01T10:55:49.499Z"
   },
   {
    "duration": 47,
    "start_time": "2023-02-01T10:55:49.513Z"
   },
   {
    "duration": 22,
    "start_time": "2023-02-01T10:55:49.562Z"
   },
   {
    "duration": 25,
    "start_time": "2023-02-01T10:55:49.587Z"
   },
   {
    "duration": 26,
    "start_time": "2023-02-01T10:55:49.615Z"
   },
   {
    "duration": 12,
    "start_time": "2023-02-01T10:55:49.643Z"
   },
   {
    "duration": 127,
    "start_time": "2023-02-01T10:55:49.657Z"
   },
   {
    "duration": 12,
    "start_time": "2023-02-01T10:55:49.786Z"
   },
   {
    "duration": 16,
    "start_time": "2023-02-01T10:55:49.800Z"
   },
   {
    "duration": 26,
    "start_time": "2023-02-01T10:55:49.818Z"
   },
   {
    "duration": 323,
    "start_time": "2023-02-01T10:55:49.847Z"
   },
   {
    "duration": 13,
    "start_time": "2023-02-01T10:55:50.171Z"
   },
   {
    "duration": 4,
    "start_time": "2023-02-01T10:57:16.212Z"
   },
   {
    "duration": 813,
    "start_time": "2023-02-01T10:57:16.221Z"
   },
   {
    "duration": 128,
    "start_time": "2023-02-01T10:57:17.036Z"
   },
   {
    "duration": 2,
    "start_time": "2023-02-01T10:57:17.166Z"
   },
   {
    "duration": 178,
    "start_time": "2023-02-01T10:57:17.170Z"
   },
   {
    "duration": 6,
    "start_time": "2023-02-01T10:57:17.351Z"
   },
   {
    "duration": 37,
    "start_time": "2023-02-01T10:57:17.358Z"
   },
   {
    "duration": 4,
    "start_time": "2023-02-01T10:57:17.397Z"
   },
   {
    "duration": 386,
    "start_time": "2023-02-01T10:57:17.403Z"
   },
   {
    "duration": 27,
    "start_time": "2023-02-01T10:57:17.791Z"
   },
   {
    "duration": 373,
    "start_time": "2023-02-01T10:57:17.821Z"
   },
   {
    "duration": 358,
    "start_time": "2023-02-01T10:57:18.196Z"
   },
   {
    "duration": 31,
    "start_time": "2023-02-01T10:57:18.555Z"
   },
   {
    "duration": 303,
    "start_time": "2023-02-01T10:57:18.588Z"
   },
   {
    "duration": 326,
    "start_time": "2023-02-01T10:57:18.892Z"
   },
   {
    "duration": 35,
    "start_time": "2023-02-01T10:57:19.220Z"
   },
   {
    "duration": 437,
    "start_time": "2023-02-01T10:57:19.257Z"
   },
   {
    "duration": 150,
    "start_time": "2023-02-01T10:57:19.695Z"
   },
   {
    "duration": 43,
    "start_time": "2023-02-01T10:57:19.846Z"
   },
   {
    "duration": 54,
    "start_time": "2023-02-01T10:57:19.891Z"
   },
   {
    "duration": 49,
    "start_time": "2023-02-01T10:57:19.946Z"
   },
   {
    "duration": 89,
    "start_time": "2023-02-01T10:57:19.997Z"
   },
   {
    "duration": 149,
    "start_time": "2023-02-01T10:57:20.087Z"
   },
   {
    "duration": 80,
    "start_time": "2023-02-01T10:57:20.238Z"
   },
   {
    "duration": 2873,
    "start_time": "2023-02-01T10:57:20.319Z"
   },
   {
    "duration": 17,
    "start_time": "2023-02-01T10:57:23.194Z"
   },
   {
    "duration": 174,
    "start_time": "2023-02-01T10:57:23.213Z"
   },
   {
    "duration": 90,
    "start_time": "2023-02-01T10:57:23.389Z"
   },
   {
    "duration": 141,
    "start_time": "2023-02-01T10:57:23.482Z"
   },
   {
    "duration": 277,
    "start_time": "2023-02-01T10:57:23.624Z"
   },
   {
    "duration": 406,
    "start_time": "2023-02-01T10:57:23.903Z"
   },
   {
    "duration": 14,
    "start_time": "2023-02-01T10:57:24.310Z"
   },
   {
    "duration": 66,
    "start_time": "2023-02-01T10:57:24.325Z"
   },
   {
    "duration": 8,
    "start_time": "2023-02-01T10:57:24.393Z"
   },
   {
    "duration": 10,
    "start_time": "2023-02-01T10:57:24.402Z"
   },
   {
    "duration": 12,
    "start_time": "2023-02-01T10:57:24.414Z"
   },
   {
    "duration": 39,
    "start_time": "2023-02-01T10:57:24.428Z"
   },
   {
    "duration": 12,
    "start_time": "2023-02-01T10:57:24.469Z"
   },
   {
    "duration": 17,
    "start_time": "2023-02-01T10:57:24.482Z"
   },
   {
    "duration": 8,
    "start_time": "2023-02-01T10:57:24.500Z"
   },
   {
    "duration": 9,
    "start_time": "2023-02-01T10:57:24.509Z"
   },
   {
    "duration": 143,
    "start_time": "2023-02-01T10:57:24.520Z"
   },
   {
    "duration": 14,
    "start_time": "2023-02-01T10:57:24.665Z"
   },
   {
    "duration": 10,
    "start_time": "2023-02-01T10:57:24.680Z"
   },
   {
    "duration": 6,
    "start_time": "2023-02-01T10:57:24.691Z"
   },
   {
    "duration": 41,
    "start_time": "2023-02-01T10:57:24.698Z"
   },
   {
    "duration": 381,
    "start_time": "2023-02-01T10:57:24.742Z"
   },
   {
    "duration": 13,
    "start_time": "2023-02-01T10:59:11.980Z"
   },
   {
    "duration": 199,
    "start_time": "2023-02-01T11:31:45.084Z"
   },
   {
    "duration": 192,
    "start_time": "2023-02-01T11:31:55.899Z"
   },
   {
    "duration": 211,
    "start_time": "2023-02-01T11:32:39.599Z"
   },
   {
    "duration": 203,
    "start_time": "2023-02-01T11:36:54.935Z"
   },
   {
    "duration": 237,
    "start_time": "2023-02-01T11:37:05.908Z"
   },
   {
    "duration": 19,
    "start_time": "2023-02-01T11:38:52.411Z"
   },
   {
    "duration": 142,
    "start_time": "2023-02-01T11:39:28.935Z"
   },
   {
    "duration": 154,
    "start_time": "2023-02-01T11:39:41.296Z"
   },
   {
    "duration": 9,
    "start_time": "2023-02-01T11:40:48.636Z"
   },
   {
    "duration": 140,
    "start_time": "2023-02-01T11:41:13.316Z"
   },
   {
    "duration": 276,
    "start_time": "2023-02-01T11:43:39.727Z"
   },
   {
    "duration": 15,
    "start_time": "2023-02-01T11:44:51.669Z"
   },
   {
    "duration": 4,
    "start_time": "2023-02-01T11:44:56.070Z"
   },
   {
    "duration": 13,
    "start_time": "2023-02-01T11:45:06.724Z"
   },
   {
    "duration": 13,
    "start_time": "2023-02-01T11:46:07.735Z"
   },
   {
    "duration": 4,
    "start_time": "2023-02-01T11:47:54.312Z"
   },
   {
    "duration": 759,
    "start_time": "2023-02-01T11:47:54.318Z"
   },
   {
    "duration": 131,
    "start_time": "2023-02-01T11:47:55.078Z"
   },
   {
    "duration": 2,
    "start_time": "2023-02-01T11:47:55.211Z"
   },
   {
    "duration": 92,
    "start_time": "2023-02-01T11:47:55.214Z"
   },
   {
    "duration": 5,
    "start_time": "2023-02-01T11:47:55.308Z"
   },
   {
    "duration": 38,
    "start_time": "2023-02-01T11:47:55.314Z"
   },
   {
    "duration": 3,
    "start_time": "2023-02-01T11:47:55.354Z"
   },
   {
    "duration": 420,
    "start_time": "2023-02-01T11:47:55.358Z"
   },
   {
    "duration": 24,
    "start_time": "2023-02-01T11:47:55.781Z"
   },
   {
    "duration": 345,
    "start_time": "2023-02-01T11:47:55.806Z"
   },
   {
    "duration": 339,
    "start_time": "2023-02-01T11:47:56.153Z"
   },
   {
    "duration": 28,
    "start_time": "2023-02-01T11:47:56.494Z"
   },
   {
    "duration": 321,
    "start_time": "2023-02-01T11:47:56.523Z"
   },
   {
    "duration": 292,
    "start_time": "2023-02-01T11:47:56.845Z"
   },
   {
    "duration": 20,
    "start_time": "2023-02-01T11:47:57.143Z"
   },
   {
    "duration": 368,
    "start_time": "2023-02-01T11:47:57.165Z"
   },
   {
    "duration": 152,
    "start_time": "2023-02-01T11:47:57.535Z"
   },
   {
    "duration": 31,
    "start_time": "2023-02-01T11:47:57.689Z"
   },
   {
    "duration": 47,
    "start_time": "2023-02-01T11:47:57.722Z"
   },
   {
    "duration": 43,
    "start_time": "2023-02-01T11:47:57.771Z"
   },
   {
    "duration": 94,
    "start_time": "2023-02-01T11:47:57.816Z"
   },
   {
    "duration": 281,
    "start_time": "2023-02-01T11:47:57.912Z"
   },
   {
    "duration": 81,
    "start_time": "2023-02-01T11:47:58.195Z"
   },
   {
    "duration": 2959,
    "start_time": "2023-02-01T11:47:58.278Z"
   },
   {
    "duration": 19,
    "start_time": "2023-02-01T11:48:01.239Z"
   },
   {
    "duration": 147,
    "start_time": "2023-02-01T11:48:01.260Z"
   },
   {
    "duration": 83,
    "start_time": "2023-02-01T11:48:01.411Z"
   },
   {
    "duration": 129,
    "start_time": "2023-02-01T11:48:01.496Z"
   },
   {
    "duration": 247,
    "start_time": "2023-02-01T11:48:01.626Z"
   },
   {
    "duration": 352,
    "start_time": "2023-02-01T11:48:01.874Z"
   },
   {
    "duration": 16,
    "start_time": "2023-02-01T11:48:02.228Z"
   },
   {
    "duration": 49,
    "start_time": "2023-02-01T11:48:02.245Z"
   },
   {
    "duration": 7,
    "start_time": "2023-02-01T11:48:02.295Z"
   },
   {
    "duration": 10,
    "start_time": "2023-02-01T11:48:02.303Z"
   },
   {
    "duration": 21,
    "start_time": "2023-02-01T11:48:02.315Z"
   },
   {
    "duration": 43,
    "start_time": "2023-02-01T11:48:02.343Z"
   },
   {
    "duration": 13,
    "start_time": "2023-02-01T11:48:02.387Z"
   },
   {
    "duration": 33,
    "start_time": "2023-02-01T11:48:02.402Z"
   },
   {
    "duration": 20,
    "start_time": "2023-02-01T11:48:02.436Z"
   },
   {
    "duration": 10,
    "start_time": "2023-02-01T11:48:02.459Z"
   },
   {
    "duration": 136,
    "start_time": "2023-02-01T11:48:02.470Z"
   },
   {
    "duration": 11,
    "start_time": "2023-02-01T11:48:02.607Z"
   },
   {
    "duration": 29,
    "start_time": "2023-02-01T11:48:02.620Z"
   },
   {
    "duration": 331,
    "start_time": "2023-02-01T11:48:02.650Z"
   },
   {
    "duration": 11,
    "start_time": "2023-02-01T11:48:02.982Z"
   },
   {
    "duration": 40,
    "start_time": "2023-02-01T11:48:02.995Z"
   },
   {
    "duration": 357,
    "start_time": "2023-02-01T11:48:03.037Z"
   },
   {
    "duration": 21,
    "start_time": "2023-02-01T11:48:03.395Z"
   },
   {
    "duration": 1619,
    "start_time": "2023-02-01T12:17:26.605Z"
   },
   {
    "duration": 921,
    "start_time": "2023-02-01T12:17:28.226Z"
   },
   {
    "duration": 170,
    "start_time": "2023-02-01T12:17:29.148Z"
   },
   {
    "duration": 3,
    "start_time": "2023-02-01T12:17:29.320Z"
   },
   {
    "duration": 126,
    "start_time": "2023-02-01T12:17:29.324Z"
   },
   {
    "duration": 17,
    "start_time": "2023-02-01T12:17:29.452Z"
   },
   {
    "duration": 64,
    "start_time": "2023-02-01T12:17:29.472Z"
   },
   {
    "duration": 13,
    "start_time": "2023-02-01T12:17:29.540Z"
   },
   {
    "duration": 424,
    "start_time": "2023-02-01T12:17:29.560Z"
   },
   {
    "duration": 58,
    "start_time": "2023-02-01T12:17:29.987Z"
   },
   {
    "duration": 418,
    "start_time": "2023-02-01T12:17:30.048Z"
   },
   {
    "duration": 496,
    "start_time": "2023-02-01T12:17:30.469Z"
   },
   {
    "duration": 31,
    "start_time": "2023-02-01T12:17:30.966Z"
   },
   {
    "duration": 356,
    "start_time": "2023-02-01T12:17:30.999Z"
   },
   {
    "duration": 366,
    "start_time": "2023-02-01T12:17:31.357Z"
   },
   {
    "duration": 50,
    "start_time": "2023-02-01T12:17:31.725Z"
   },
   {
    "duration": 354,
    "start_time": "2023-02-01T12:17:31.777Z"
   },
   {
    "duration": 185,
    "start_time": "2023-02-01T12:17:32.133Z"
   },
   {
    "duration": 46,
    "start_time": "2023-02-01T12:17:32.319Z"
   },
   {
    "duration": 37,
    "start_time": "2023-02-01T12:17:32.367Z"
   },
   {
    "duration": 65,
    "start_time": "2023-02-01T12:17:32.406Z"
   },
   {
    "duration": 90,
    "start_time": "2023-02-01T12:17:32.473Z"
   },
   {
    "duration": 180,
    "start_time": "2023-02-01T12:17:32.565Z"
   },
   {
    "duration": 89,
    "start_time": "2023-02-01T12:17:32.748Z"
   },
   {
    "duration": 3500,
    "start_time": "2023-02-01T12:17:32.838Z"
   },
   {
    "duration": 27,
    "start_time": "2023-02-01T12:17:36.339Z"
   },
   {
    "duration": 180,
    "start_time": "2023-02-01T12:17:36.367Z"
   },
   {
    "duration": 94,
    "start_time": "2023-02-01T12:17:36.551Z"
   },
   {
    "duration": 155,
    "start_time": "2023-02-01T12:17:36.647Z"
   },
   {
    "duration": 285,
    "start_time": "2023-02-01T12:17:36.804Z"
   },
   {
    "duration": 430,
    "start_time": "2023-02-01T12:17:37.090Z"
   },
   {
    "duration": 34,
    "start_time": "2023-02-01T12:17:37.523Z"
   },
   {
    "duration": 62,
    "start_time": "2023-02-01T12:17:37.561Z"
   },
   {
    "duration": 11,
    "start_time": "2023-02-01T12:17:37.625Z"
   },
   {
    "duration": 26,
    "start_time": "2023-02-01T12:17:37.645Z"
   },
   {
    "duration": 18,
    "start_time": "2023-02-01T12:17:37.673Z"
   },
   {
    "duration": 35,
    "start_time": "2023-02-01T12:17:37.693Z"
   },
   {
    "duration": 12,
    "start_time": "2023-02-01T12:17:37.730Z"
   },
   {
    "duration": 28,
    "start_time": "2023-02-01T12:17:37.746Z"
   },
   {
    "duration": 87644,
    "start_time": "2023-02-01T12:17:37.776Z"
   },
   {
    "duration": 7,
    "start_time": "2023-02-01T12:19:05.423Z"
   },
   {
    "duration": 178,
    "start_time": "2023-02-01T12:19:05.432Z"
   },
   {
    "duration": 15,
    "start_time": "2023-02-01T12:19:05.611Z"
   },
   {
    "duration": 10,
    "start_time": "2023-02-01T12:19:05.628Z"
   },
   {
    "duration": 370,
    "start_time": "2023-02-01T12:19:05.648Z"
   },
   {
    "duration": 13,
    "start_time": "2023-02-01T12:19:06.020Z"
   },
   {
    "duration": 57,
    "start_time": "2023-02-01T12:19:06.035Z"
   },
   {
    "duration": 420,
    "start_time": "2023-02-01T12:19:06.093Z"
   },
   {
    "duration": 30,
    "start_time": "2023-02-01T12:19:06.515Z"
   },
   {
    "duration": 1493,
    "start_time": "2023-02-01T12:54:46.510Z"
   },
   {
    "duration": 869,
    "start_time": "2023-02-01T12:54:48.005Z"
   },
   {
    "duration": 139,
    "start_time": "2023-02-01T12:54:48.876Z"
   },
   {
    "duration": 15,
    "start_time": "2023-02-01T12:54:49.016Z"
   },
   {
    "duration": 148,
    "start_time": "2023-02-01T12:54:49.033Z"
   },
   {
    "duration": 6,
    "start_time": "2023-02-01T12:54:49.182Z"
   },
   {
    "duration": 89,
    "start_time": "2023-02-01T12:54:49.189Z"
   },
   {
    "duration": 38,
    "start_time": "2023-02-01T12:54:49.280Z"
   },
   {
    "duration": 431,
    "start_time": "2023-02-01T12:54:49.320Z"
   },
   {
    "duration": 40,
    "start_time": "2023-02-01T12:54:49.755Z"
   },
   {
    "duration": 378,
    "start_time": "2023-02-01T12:54:49.797Z"
   },
   {
    "duration": 436,
    "start_time": "2023-02-01T12:54:50.177Z"
   },
   {
    "duration": 52,
    "start_time": "2023-02-01T12:54:50.615Z"
   },
   {
    "duration": 319,
    "start_time": "2023-02-01T12:54:50.673Z"
   },
   {
    "duration": 324,
    "start_time": "2023-02-01T12:54:50.994Z"
   },
   {
    "duration": 41,
    "start_time": "2023-02-01T12:54:51.321Z"
   },
   {
    "duration": 349,
    "start_time": "2023-02-01T12:54:51.365Z"
   },
   {
    "duration": 1735,
    "start_time": "2023-02-01T13:42:59.278Z"
   },
   {
    "duration": 3490,
    "start_time": "2023-02-01T13:43:01.015Z"
   },
   {
    "duration": 120,
    "start_time": "2023-02-01T13:43:04.506Z"
   },
   {
    "duration": 17,
    "start_time": "2023-02-01T13:43:04.628Z"
   },
   {
    "duration": 136,
    "start_time": "2023-02-01T13:43:04.647Z"
   },
   {
    "duration": 10,
    "start_time": "2023-02-01T13:43:04.785Z"
   },
   {
    "duration": 37,
    "start_time": "2023-02-01T13:43:04.797Z"
   },
   {
    "duration": 9,
    "start_time": "2023-02-01T13:43:04.836Z"
   },
   {
    "duration": 403,
    "start_time": "2023-02-01T13:43:04.847Z"
   },
   {
    "duration": 47,
    "start_time": "2023-02-01T13:43:05.253Z"
   },
   {
    "duration": 386,
    "start_time": "2023-02-01T13:43:05.302Z"
   },
   {
    "duration": 543,
    "start_time": "2023-02-01T13:43:05.691Z"
   },
   {
    "duration": 41,
    "start_time": "2023-02-01T13:43:06.236Z"
   },
   {
    "duration": 366,
    "start_time": "2023-02-01T13:43:06.279Z"
   },
   {
    "duration": 340,
    "start_time": "2023-02-01T13:43:06.646Z"
   },
   {
    "duration": 33,
    "start_time": "2023-02-01T13:43:06.992Z"
   },
   {
    "duration": 77,
    "start_time": "2023-02-01T13:43:46.078Z"
   },
   {
    "duration": 21,
    "start_time": "2023-02-01T13:43:53.143Z"
   },
   {
    "duration": 293,
    "start_time": "2023-02-01T13:44:48.610Z"
   },
   {
    "duration": 223,
    "start_time": "2023-02-01T13:45:06.470Z"
   },
   {
    "duration": 48,
    "start_time": "2023-02-01T13:49:30.812Z"
   },
   {
    "duration": 1585,
    "start_time": "2023-02-01T13:49:37.782Z"
   },
   {
    "duration": 2945,
    "start_time": "2023-02-01T13:49:39.369Z"
   },
   {
    "duration": 117,
    "start_time": "2023-02-01T13:49:42.316Z"
   },
   {
    "duration": 2,
    "start_time": "2023-02-01T13:49:42.435Z"
   },
   {
    "duration": 112,
    "start_time": "2023-02-01T13:49:42.439Z"
   },
   {
    "duration": 6,
    "start_time": "2023-02-01T13:49:42.552Z"
   },
   {
    "duration": 50,
    "start_time": "2023-02-01T13:49:42.559Z"
   },
   {
    "duration": 6,
    "start_time": "2023-02-01T13:49:42.612Z"
   },
   {
    "duration": 399,
    "start_time": "2023-02-01T13:49:42.620Z"
   },
   {
    "duration": 36,
    "start_time": "2023-02-01T13:49:43.021Z"
   },
   {
    "duration": 407,
    "start_time": "2023-02-01T13:49:43.059Z"
   },
   {
    "duration": 479,
    "start_time": "2023-02-01T13:49:43.468Z"
   },
   {
    "duration": 32,
    "start_time": "2023-02-01T13:49:43.949Z"
   },
   {
    "duration": 323,
    "start_time": "2023-02-01T13:49:43.992Z"
   },
   {
    "duration": 329,
    "start_time": "2023-02-01T13:49:44.317Z"
   },
   {
    "duration": 29,
    "start_time": "2023-02-01T13:49:44.647Z"
   },
   {
    "duration": 63,
    "start_time": "2023-02-01T13:49:44.678Z"
   },
   {
    "duration": 1506,
    "start_time": "2023-02-01T13:51:45.261Z"
   },
   {
    "duration": 807,
    "start_time": "2023-02-01T13:51:46.769Z"
   },
   {
    "duration": 121,
    "start_time": "2023-02-01T13:51:47.578Z"
   },
   {
    "duration": 2,
    "start_time": "2023-02-01T13:51:47.701Z"
   },
   {
    "duration": 107,
    "start_time": "2023-02-01T13:51:47.705Z"
   },
   {
    "duration": 6,
    "start_time": "2023-02-01T13:51:47.813Z"
   },
   {
    "duration": 38,
    "start_time": "2023-02-01T13:51:47.821Z"
   },
   {
    "duration": 4,
    "start_time": "2023-02-01T13:51:47.860Z"
   },
   {
    "duration": 413,
    "start_time": "2023-02-01T13:51:47.865Z"
   },
   {
    "duration": 41,
    "start_time": "2023-02-01T13:51:48.280Z"
   },
   {
    "duration": 373,
    "start_time": "2023-02-01T13:51:48.322Z"
   },
   {
    "duration": 485,
    "start_time": "2023-02-01T13:51:48.696Z"
   },
   {
    "duration": 43,
    "start_time": "2023-02-01T13:51:49.183Z"
   },
   {
    "duration": 359,
    "start_time": "2023-02-01T13:51:49.228Z"
   },
   {
    "duration": 330,
    "start_time": "2023-02-01T13:51:49.591Z"
   },
   {
    "duration": 30,
    "start_time": "2023-02-01T13:51:49.922Z"
   },
   {
    "duration": 73,
    "start_time": "2023-02-01T13:51:49.954Z"
   },
   {
    "duration": 675,
    "start_time": "2023-02-01T14:06:49.490Z"
   },
   {
    "duration": 218,
    "start_time": "2023-02-01T14:09:09.227Z"
   },
   {
    "duration": 192,
    "start_time": "2023-02-01T14:09:30.069Z"
   },
   {
    "duration": 384,
    "start_time": "2023-02-01T14:11:10.601Z"
   },
   {
    "duration": 21,
    "start_time": "2023-02-01T14:12:53.381Z"
   },
   {
    "duration": 11,
    "start_time": "2023-02-01T14:14:01.204Z"
   },
   {
    "duration": 31,
    "start_time": "2023-02-01T14:14:28.966Z"
   },
   {
    "duration": 291,
    "start_time": "2023-02-01T14:16:09.562Z"
   },
   {
    "duration": 280,
    "start_time": "2023-02-01T14:16:14.377Z"
   },
   {
    "duration": 240,
    "start_time": "2023-02-01T14:17:17.254Z"
   },
   {
    "duration": 249,
    "start_time": "2023-02-01T14:18:19.120Z"
   },
   {
    "duration": 248,
    "start_time": "2023-02-01T14:19:27.625Z"
   },
   {
    "duration": 256,
    "start_time": "2023-02-01T14:20:28.262Z"
   },
   {
    "duration": 595,
    "start_time": "2023-02-01T14:23:27.678Z"
   },
   {
    "duration": 452,
    "start_time": "2023-02-01T14:23:40.125Z"
   },
   {
    "duration": 30,
    "start_time": "2023-02-01T14:24:13.479Z"
   },
   {
    "duration": 79,
    "start_time": "2023-02-01T14:27:24.996Z"
   },
   {
    "duration": 17,
    "start_time": "2023-02-01T14:27:39.596Z"
   },
   {
    "duration": 21,
    "start_time": "2023-02-01T14:28:13.935Z"
   },
   {
    "duration": 24,
    "start_time": "2023-02-01T14:28:36.366Z"
   },
   {
    "duration": 253,
    "start_time": "2023-02-01T14:28:41.372Z"
   },
   {
    "duration": 6,
    "start_time": "2023-02-01T14:32:16.223Z"
   },
   {
    "duration": 843,
    "start_time": "2023-02-01T14:32:16.237Z"
   },
   {
    "duration": 112,
    "start_time": "2023-02-01T14:32:17.082Z"
   },
   {
    "duration": 3,
    "start_time": "2023-02-01T14:32:17.195Z"
   },
   {
    "duration": 102,
    "start_time": "2023-02-01T14:32:17.200Z"
   },
   {
    "duration": 5,
    "start_time": "2023-02-01T14:32:17.304Z"
   },
   {
    "duration": 49,
    "start_time": "2023-02-01T14:32:17.310Z"
   },
   {
    "duration": 4,
    "start_time": "2023-02-01T14:32:17.360Z"
   },
   {
    "duration": 355,
    "start_time": "2023-02-01T14:32:17.366Z"
   },
   {
    "duration": 28,
    "start_time": "2023-02-01T14:32:17.723Z"
   },
   {
    "duration": 469,
    "start_time": "2023-02-01T14:32:17.754Z"
   },
   {
    "duration": 358,
    "start_time": "2023-02-01T14:32:18.225Z"
   },
   {
    "duration": 43,
    "start_time": "2023-02-01T14:32:18.585Z"
   },
   {
    "duration": 319,
    "start_time": "2023-02-01T14:32:18.629Z"
   },
   {
    "duration": 325,
    "start_time": "2023-02-01T14:32:18.950Z"
   },
   {
    "duration": 2,
    "start_time": "2023-02-01T14:32:19.278Z"
   },
   {
    "duration": 33,
    "start_time": "2023-02-01T14:32:39.767Z"
   },
   {
    "duration": 47,
    "start_time": "2023-02-01T14:37:37.904Z"
   },
   {
    "duration": 1490,
    "start_time": "2023-02-01T14:37:44.898Z"
   },
   {
    "duration": 2984,
    "start_time": "2023-02-01T14:37:46.391Z"
   },
   {
    "duration": 116,
    "start_time": "2023-02-01T14:37:49.376Z"
   },
   {
    "duration": 3,
    "start_time": "2023-02-01T14:37:49.493Z"
   },
   {
    "duration": 101,
    "start_time": "2023-02-01T14:37:49.497Z"
   },
   {
    "duration": 6,
    "start_time": "2023-02-01T14:37:49.599Z"
   },
   {
    "duration": 45,
    "start_time": "2023-02-01T14:37:49.607Z"
   },
   {
    "duration": 4,
    "start_time": "2023-02-01T14:37:49.655Z"
   },
   {
    "duration": 403,
    "start_time": "2023-02-01T14:37:49.661Z"
   },
   {
    "duration": 53,
    "start_time": "2023-02-01T14:37:50.067Z"
   },
   {
    "duration": 373,
    "start_time": "2023-02-01T14:37:50.122Z"
   },
   {
    "duration": 456,
    "start_time": "2023-02-01T14:37:50.497Z"
   },
   {
    "duration": 52,
    "start_time": "2023-02-01T14:37:50.955Z"
   },
   {
    "duration": 346,
    "start_time": "2023-02-01T14:37:51.009Z"
   },
   {
    "duration": 336,
    "start_time": "2023-02-01T14:37:51.357Z"
   },
   {
    "duration": 41,
    "start_time": "2023-02-01T14:38:20.271Z"
   },
   {
    "duration": 65,
    "start_time": "2023-02-01T14:38:24.568Z"
   },
   {
    "duration": 328,
    "start_time": "2023-02-01T14:40:44.798Z"
   },
   {
    "duration": 90,
    "start_time": "2023-02-01T14:42:05.395Z"
   },
   {
    "duration": 75,
    "start_time": "2023-02-01T14:42:25.794Z"
   },
   {
    "duration": 12,
    "start_time": "2023-02-01T14:42:38.477Z"
   },
   {
    "duration": 35,
    "start_time": "2023-02-01T14:42:51.579Z"
   },
   {
    "duration": 320,
    "start_time": "2023-02-01T14:45:46.094Z"
   },
   {
    "duration": 5,
    "start_time": "2023-02-01T14:53:28.907Z"
   },
   {
    "duration": 872,
    "start_time": "2023-02-01T14:53:28.914Z"
   },
   {
    "duration": 115,
    "start_time": "2023-02-01T14:53:29.791Z"
   },
   {
    "duration": 3,
    "start_time": "2023-02-01T14:53:29.908Z"
   },
   {
    "duration": 107,
    "start_time": "2023-02-01T14:53:29.913Z"
   },
   {
    "duration": 6,
    "start_time": "2023-02-01T14:53:30.021Z"
   },
   {
    "duration": 69,
    "start_time": "2023-02-01T14:53:30.029Z"
   },
   {
    "duration": 4,
    "start_time": "2023-02-01T14:53:30.100Z"
   },
   {
    "duration": 494,
    "start_time": "2023-02-01T14:53:30.106Z"
   },
   {
    "duration": 29,
    "start_time": "2023-02-01T14:53:30.602Z"
   },
   {
    "duration": 407,
    "start_time": "2023-02-01T14:53:30.634Z"
   },
   {
    "duration": 380,
    "start_time": "2023-02-01T14:53:31.043Z"
   },
   {
    "duration": 38,
    "start_time": "2023-02-01T14:53:31.425Z"
   },
   {
    "duration": 374,
    "start_time": "2023-02-01T14:53:31.465Z"
   },
   {
    "duration": 341,
    "start_time": "2023-02-01T14:53:31.841Z"
   },
   {
    "duration": 38,
    "start_time": "2023-02-01T14:53:32.184Z"
   },
   {
    "duration": 82,
    "start_time": "2023-02-01T14:53:32.224Z"
   },
   {
    "duration": 29,
    "start_time": "2023-02-01T14:53:32.309Z"
   },
   {
    "duration": 5124,
    "start_time": "2023-02-01T14:53:32.340Z"
   },
   {
    "duration": 0,
    "start_time": "2023-02-01T14:53:37.466Z"
   },
   {
    "duration": 29,
    "start_time": "2023-02-01T14:54:30.530Z"
   },
   {
    "duration": 492,
    "start_time": "2023-02-01T14:54:32.350Z"
   },
   {
    "duration": 4,
    "start_time": "2023-02-01T14:55:17.425Z"
   },
   {
    "duration": 793,
    "start_time": "2023-02-01T14:55:17.433Z"
   },
   {
    "duration": 113,
    "start_time": "2023-02-01T14:55:18.228Z"
   },
   {
    "duration": 3,
    "start_time": "2023-02-01T14:55:18.343Z"
   },
   {
    "duration": 101,
    "start_time": "2023-02-01T14:55:18.348Z"
   },
   {
    "duration": 5,
    "start_time": "2023-02-01T14:55:18.451Z"
   },
   {
    "duration": 49,
    "start_time": "2023-02-01T14:55:18.458Z"
   },
   {
    "duration": 5,
    "start_time": "2023-02-01T14:55:18.509Z"
   },
   {
    "duration": 368,
    "start_time": "2023-02-01T14:55:18.516Z"
   },
   {
    "duration": 31,
    "start_time": "2023-02-01T14:55:18.886Z"
   },
   {
    "duration": 376,
    "start_time": "2023-02-01T14:55:18.920Z"
   },
   {
    "duration": 375,
    "start_time": "2023-02-01T14:55:19.298Z"
   },
   {
    "duration": 44,
    "start_time": "2023-02-01T14:55:19.674Z"
   },
   {
    "duration": 340,
    "start_time": "2023-02-01T14:55:19.720Z"
   },
   {
    "duration": 322,
    "start_time": "2023-02-01T14:55:20.062Z"
   },
   {
    "duration": 38,
    "start_time": "2023-02-01T14:55:20.391Z"
   },
   {
    "duration": 351,
    "start_time": "2023-02-01T14:55:20.431Z"
   },
   {
    "duration": 82,
    "start_time": "2023-02-01T14:55:20.783Z"
   },
   {
    "duration": 43,
    "start_time": "2023-02-01T14:55:20.867Z"
   },
   {
    "duration": 24,
    "start_time": "2023-02-01T14:55:20.912Z"
   },
   {
    "duration": 1806,
    "start_time": "2023-02-01T17:28:16.854Z"
   },
   {
    "duration": 1347,
    "start_time": "2023-02-01T17:28:18.662Z"
   },
   {
    "duration": 146,
    "start_time": "2023-02-01T17:28:20.011Z"
   },
   {
    "duration": 25,
    "start_time": "2023-02-01T17:28:20.159Z"
   },
   {
    "duration": 183,
    "start_time": "2023-02-01T17:28:20.186Z"
   },
   {
    "duration": 5,
    "start_time": "2023-02-01T17:28:20.371Z"
   },
   {
    "duration": 97,
    "start_time": "2023-02-01T17:28:20.378Z"
   },
   {
    "duration": 43,
    "start_time": "2023-02-01T17:28:20.477Z"
   },
   {
    "duration": 433,
    "start_time": "2023-02-01T17:28:20.522Z"
   },
   {
    "duration": 40,
    "start_time": "2023-02-01T17:28:20.957Z"
   },
   {
    "duration": 404,
    "start_time": "2023-02-01T17:28:20.999Z"
   },
   {
    "duration": 476,
    "start_time": "2023-02-01T17:28:21.405Z"
   },
   {
    "duration": 42,
    "start_time": "2023-02-01T17:28:21.883Z"
   },
   {
    "duration": 353,
    "start_time": "2023-02-01T17:28:21.940Z"
   },
   {
    "duration": 343,
    "start_time": "2023-02-01T17:28:22.294Z"
   },
   {
    "duration": 41,
    "start_time": "2023-02-01T17:28:22.647Z"
   },
   {
    "duration": 371,
    "start_time": "2023-02-01T17:28:22.690Z"
   },
   {
    "duration": 89,
    "start_time": "2023-02-01T17:28:23.063Z"
   },
   {
    "duration": 29,
    "start_time": "2023-02-01T17:28:23.154Z"
   },
   {
    "duration": 25,
    "start_time": "2023-02-01T17:28:23.184Z"
   },
   {
    "duration": 195,
    "start_time": "2023-02-01T17:28:23.211Z"
   },
   {
    "duration": 45,
    "start_time": "2023-02-01T17:28:23.408Z"
   },
   {
    "duration": 41,
    "start_time": "2023-02-01T17:28:23.455Z"
   },
   {
    "duration": 65,
    "start_time": "2023-02-01T17:28:23.497Z"
   },
   {
    "duration": 92,
    "start_time": "2023-02-01T17:28:23.564Z"
   },
   {
    "duration": 172,
    "start_time": "2023-02-01T17:28:23.658Z"
   },
   {
    "duration": 83,
    "start_time": "2023-02-01T17:28:23.832Z"
   },
   {
    "duration": 3220,
    "start_time": "2023-02-01T17:28:23.916Z"
   },
   {
    "duration": 24,
    "start_time": "2023-02-01T17:28:27.143Z"
   },
   {
    "duration": 215,
    "start_time": "2023-02-01T17:28:27.168Z"
   },
   {
    "duration": 134,
    "start_time": "2023-02-01T17:28:27.385Z"
   },
   {
    "duration": 206,
    "start_time": "2023-02-01T17:28:27.521Z"
   },
   {
    "duration": 428,
    "start_time": "2023-02-01T17:28:27.729Z"
   },
   {
    "duration": 448,
    "start_time": "2023-02-01T17:28:28.159Z"
   },
   {
    "duration": 18,
    "start_time": "2023-02-01T17:28:28.609Z"
   },
   {
    "duration": 117,
    "start_time": "2023-02-01T17:28:28.630Z"
   },
   {
    "duration": 9,
    "start_time": "2023-02-01T17:28:28.754Z"
   },
   {
    "duration": 19,
    "start_time": "2023-02-01T17:28:28.765Z"
   },
   {
    "duration": 38,
    "start_time": "2023-02-01T17:28:28.786Z"
   },
   {
    "duration": 294,
    "start_time": "2023-02-01T17:28:28.827Z"
   },
   {
    "duration": 0,
    "start_time": "2023-02-01T17:28:29.124Z"
   },
   {
    "duration": 0,
    "start_time": "2023-02-01T17:28:29.125Z"
   },
   {
    "duration": 0,
    "start_time": "2023-02-01T17:28:29.127Z"
   },
   {
    "duration": 0,
    "start_time": "2023-02-01T17:28:29.128Z"
   },
   {
    "duration": 0,
    "start_time": "2023-02-01T17:28:29.130Z"
   },
   {
    "duration": 0,
    "start_time": "2023-02-01T17:28:29.132Z"
   },
   {
    "duration": 0,
    "start_time": "2023-02-01T17:28:29.133Z"
   },
   {
    "duration": 0,
    "start_time": "2023-02-01T17:28:29.135Z"
   },
   {
    "duration": 0,
    "start_time": "2023-02-01T17:28:29.136Z"
   },
   {
    "duration": 0,
    "start_time": "2023-02-01T17:28:29.138Z"
   },
   {
    "duration": 0,
    "start_time": "2023-02-01T17:28:29.142Z"
   },
   {
    "duration": 0,
    "start_time": "2023-02-01T17:28:29.143Z"
   },
   {
    "duration": 3,
    "start_time": "2023-02-01T17:29:40.507Z"
   },
   {
    "duration": 913,
    "start_time": "2023-02-01T17:29:40.512Z"
   },
   {
    "duration": 156,
    "start_time": "2023-02-01T17:29:41.427Z"
   },
   {
    "duration": 18,
    "start_time": "2023-02-01T17:29:41.585Z"
   },
   {
    "duration": 115,
    "start_time": "2023-02-01T17:29:41.605Z"
   },
   {
    "duration": 6,
    "start_time": "2023-02-01T17:29:41.722Z"
   },
   {
    "duration": 66,
    "start_time": "2023-02-01T17:29:41.740Z"
   },
   {
    "duration": 5,
    "start_time": "2023-02-01T17:29:41.807Z"
   },
   {
    "duration": 441,
    "start_time": "2023-02-01T17:29:41.815Z"
   },
   {
    "duration": 35,
    "start_time": "2023-02-01T17:29:42.260Z"
   },
   {
    "duration": 374,
    "start_time": "2023-02-01T17:29:42.297Z"
   },
   {
    "duration": 390,
    "start_time": "2023-02-01T17:29:42.673Z"
   },
   {
    "duration": 41,
    "start_time": "2023-02-01T17:29:43.064Z"
   },
   {
    "duration": 382,
    "start_time": "2023-02-01T17:29:43.107Z"
   },
   {
    "duration": 467,
    "start_time": "2023-02-01T17:29:43.491Z"
   },
   {
    "duration": 32,
    "start_time": "2023-02-01T17:29:43.960Z"
   },
   {
    "duration": 383,
    "start_time": "2023-02-01T17:29:43.994Z"
   },
   {
    "duration": 83,
    "start_time": "2023-02-01T17:29:44.379Z"
   },
   {
    "duration": 41,
    "start_time": "2023-02-01T17:29:44.464Z"
   },
   {
    "duration": 28,
    "start_time": "2023-02-01T17:29:44.507Z"
   },
   {
    "duration": 206,
    "start_time": "2023-02-01T17:29:44.537Z"
   },
   {
    "duration": 38,
    "start_time": "2023-02-01T17:29:44.747Z"
   },
   {
    "duration": 54,
    "start_time": "2023-02-01T17:29:44.787Z"
   },
   {
    "duration": 47,
    "start_time": "2023-02-01T17:29:44.854Z"
   },
   {
    "duration": 95,
    "start_time": "2023-02-01T17:29:44.903Z"
   },
   {
    "duration": 177,
    "start_time": "2023-02-01T17:29:45.000Z"
   },
   {
    "duration": 86,
    "start_time": "2023-02-01T17:29:45.179Z"
   },
   {
    "duration": 3180,
    "start_time": "2023-02-01T17:29:45.267Z"
   },
   {
    "duration": 19,
    "start_time": "2023-02-01T17:29:48.453Z"
   },
   {
    "duration": 252,
    "start_time": "2023-02-01T17:29:48.474Z"
   },
   {
    "duration": 124,
    "start_time": "2023-02-01T17:29:48.728Z"
   },
   {
    "duration": 224,
    "start_time": "2023-02-01T17:29:48.854Z"
   },
   {
    "duration": 478,
    "start_time": "2023-02-01T17:29:49.080Z"
   },
   {
    "duration": 431,
    "start_time": "2023-02-01T17:29:49.560Z"
   },
   {
    "duration": 16,
    "start_time": "2023-02-01T17:29:49.994Z"
   },
   {
    "duration": 115,
    "start_time": "2023-02-01T17:29:50.012Z"
   },
   {
    "duration": 8,
    "start_time": "2023-02-01T17:29:50.129Z"
   },
   {
    "duration": 53,
    "start_time": "2023-02-01T17:29:50.139Z"
   },
   {
    "duration": 75,
    "start_time": "2023-02-01T17:29:50.195Z"
   },
   {
    "duration": 109,
    "start_time": "2023-02-01T17:29:50.272Z"
   },
   {
    "duration": 0,
    "start_time": "2023-02-01T17:29:50.383Z"
   },
   {
    "duration": 0,
    "start_time": "2023-02-01T17:29:50.384Z"
   },
   {
    "duration": 0,
    "start_time": "2023-02-01T17:29:50.385Z"
   },
   {
    "duration": 0,
    "start_time": "2023-02-01T17:29:50.386Z"
   },
   {
    "duration": 7,
    "start_time": "2023-02-01T17:31:19.950Z"
   },
   {
    "duration": 9,
    "start_time": "2023-02-01T17:35:36.786Z"
   },
   {
    "duration": 10,
    "start_time": "2023-02-01T17:36:47.591Z"
   },
   {
    "duration": 5,
    "start_time": "2023-02-01T17:38:43.457Z"
   },
   {
    "duration": 899,
    "start_time": "2023-02-01T17:38:43.464Z"
   },
   {
    "duration": 143,
    "start_time": "2023-02-01T17:38:44.365Z"
   },
   {
    "duration": 3,
    "start_time": "2023-02-01T17:38:44.510Z"
   },
   {
    "duration": 107,
    "start_time": "2023-02-01T17:38:44.515Z"
   },
   {
    "duration": 6,
    "start_time": "2023-02-01T17:38:44.624Z"
   },
   {
    "duration": 42,
    "start_time": "2023-02-01T17:38:44.653Z"
   },
   {
    "duration": 4,
    "start_time": "2023-02-01T17:38:44.696Z"
   },
   {
    "duration": 372,
    "start_time": "2023-02-01T17:38:44.702Z"
   },
   {
    "duration": 27,
    "start_time": "2023-02-01T17:38:45.076Z"
   },
   {
    "duration": 399,
    "start_time": "2023-02-01T17:38:45.106Z"
   },
   {
    "duration": 384,
    "start_time": "2023-02-01T17:38:45.507Z"
   },
   {
    "duration": 59,
    "start_time": "2023-02-01T17:38:45.893Z"
   },
   {
    "duration": 330,
    "start_time": "2023-02-01T17:38:45.954Z"
   },
   {
    "duration": 356,
    "start_time": "2023-02-01T17:38:46.286Z"
   },
   {
    "duration": 30,
    "start_time": "2023-02-01T17:38:46.656Z"
   },
   {
    "duration": 475,
    "start_time": "2023-02-01T17:38:46.688Z"
   },
   {
    "duration": 95,
    "start_time": "2023-02-01T17:38:47.165Z"
   },
   {
    "duration": 28,
    "start_time": "2023-02-01T17:38:47.262Z"
   },
   {
    "duration": 22,
    "start_time": "2023-02-01T17:38:47.291Z"
   },
   {
    "duration": 40,
    "start_time": "2023-02-01T17:38:47.315Z"
   },
   {
    "duration": 160,
    "start_time": "2023-02-01T17:38:47.357Z"
   },
   {
    "duration": 38,
    "start_time": "2023-02-01T17:38:47.520Z"
   },
   {
    "duration": 38,
    "start_time": "2023-02-01T17:38:47.560Z"
   },
   {
    "duration": 74,
    "start_time": "2023-02-01T17:38:47.601Z"
   },
   {
    "duration": 84,
    "start_time": "2023-02-01T17:38:47.677Z"
   },
   {
    "duration": 173,
    "start_time": "2023-02-01T17:38:47.763Z"
   },
   {
    "duration": 87,
    "start_time": "2023-02-01T17:38:47.939Z"
   },
   {
    "duration": 3327,
    "start_time": "2023-02-01T17:38:48.041Z"
   },
   {
    "duration": 19,
    "start_time": "2023-02-01T17:38:51.370Z"
   },
   {
    "duration": 192,
    "start_time": "2023-02-01T17:38:51.391Z"
   },
   {
    "duration": 98,
    "start_time": "2023-02-01T17:38:51.584Z"
   },
   {
    "duration": 150,
    "start_time": "2023-02-01T17:38:51.684Z"
   },
   {
    "duration": 277,
    "start_time": "2023-02-01T17:38:51.836Z"
   },
   {
    "duration": 378,
    "start_time": "2023-02-01T17:38:52.115Z"
   },
   {
    "duration": 14,
    "start_time": "2023-02-01T17:38:52.494Z"
   },
   {
    "duration": 75,
    "start_time": "2023-02-01T17:38:52.510Z"
   },
   {
    "duration": 7,
    "start_time": "2023-02-01T17:38:52.587Z"
   },
   {
    "duration": 23,
    "start_time": "2023-02-01T17:38:52.596Z"
   },
   {
    "duration": 42,
    "start_time": "2023-02-01T17:38:52.621Z"
   },
   {
    "duration": 98,
    "start_time": "2023-02-01T17:38:52.664Z"
   },
   {
    "duration": 0,
    "start_time": "2023-02-01T17:38:52.763Z"
   },
   {
    "duration": 0,
    "start_time": "2023-02-01T17:38:52.765Z"
   },
   {
    "duration": 0,
    "start_time": "2023-02-01T17:38:52.765Z"
   },
   {
    "duration": 17,
    "start_time": "2023-02-01T17:39:22.590Z"
   },
   {
    "duration": 5,
    "start_time": "2023-02-01T17:41:37.512Z"
   },
   {
    "duration": 892,
    "start_time": "2023-02-01T17:41:37.519Z"
   },
   {
    "duration": 149,
    "start_time": "2023-02-01T17:41:38.413Z"
   },
   {
    "duration": 5,
    "start_time": "2023-02-01T17:41:38.564Z"
   },
   {
    "duration": 111,
    "start_time": "2023-02-01T17:41:38.571Z"
   },
   {
    "duration": 5,
    "start_time": "2023-02-01T17:41:38.684Z"
   },
   {
    "duration": 56,
    "start_time": "2023-02-01T17:41:38.692Z"
   },
   {
    "duration": 7,
    "start_time": "2023-02-01T17:41:38.749Z"
   },
   {
    "duration": 565,
    "start_time": "2023-02-01T17:41:38.759Z"
   },
   {
    "duration": 44,
    "start_time": "2023-02-01T17:41:39.328Z"
   },
   {
    "duration": 407,
    "start_time": "2023-02-01T17:41:39.374Z"
   },
   {
    "duration": 403,
    "start_time": "2023-02-01T17:41:39.783Z"
   },
   {
    "duration": 34,
    "start_time": "2023-02-01T17:41:40.188Z"
   },
   {
    "duration": 383,
    "start_time": "2023-02-01T17:41:40.224Z"
   },
   {
    "duration": 371,
    "start_time": "2023-02-01T17:41:40.609Z"
   },
   {
    "duration": 31,
    "start_time": "2023-02-01T17:41:40.982Z"
   },
   {
    "duration": 437,
    "start_time": "2023-02-01T17:41:41.014Z"
   },
   {
    "duration": 68,
    "start_time": "2023-02-01T17:41:41.453Z"
   },
   {
    "duration": 51,
    "start_time": "2023-02-01T17:41:41.523Z"
   },
   {
    "duration": 0,
    "start_time": "2023-02-01T17:41:41.576Z"
   },
   {
    "duration": 3,
    "start_time": "2023-02-01T17:42:53.466Z"
   },
   {
    "duration": 57,
    "start_time": "2023-02-01T17:43:05.012Z"
   },
   {
    "duration": 48,
    "start_time": "2023-02-01T17:43:25.364Z"
   },
   {
    "duration": 48,
    "start_time": "2023-02-01T17:44:07.962Z"
   },
   {
    "duration": 23,
    "start_time": "2023-02-01T17:44:09.324Z"
   },
   {
    "duration": 4,
    "start_time": "2023-02-01T17:44:18.695Z"
   },
   {
    "duration": 5,
    "start_time": "2023-02-01T17:44:37.588Z"
   },
   {
    "duration": 920,
    "start_time": "2023-02-01T17:44:37.595Z"
   },
   {
    "duration": 159,
    "start_time": "2023-02-01T17:44:38.517Z"
   },
   {
    "duration": 3,
    "start_time": "2023-02-01T17:44:38.678Z"
   },
   {
    "duration": 238,
    "start_time": "2023-02-01T17:44:38.683Z"
   },
   {
    "duration": 8,
    "start_time": "2023-02-01T17:44:38.923Z"
   },
   {
    "duration": 58,
    "start_time": "2023-02-01T17:44:38.933Z"
   },
   {
    "duration": 5,
    "start_time": "2023-02-01T17:44:38.993Z"
   },
   {
    "duration": 467,
    "start_time": "2023-02-01T17:44:39.000Z"
   },
   {
    "duration": 25,
    "start_time": "2023-02-01T17:44:39.469Z"
   },
   {
    "duration": 395,
    "start_time": "2023-02-01T17:44:39.496Z"
   },
   {
    "duration": 401,
    "start_time": "2023-02-01T17:44:39.893Z"
   },
   {
    "duration": 44,
    "start_time": "2023-02-01T17:44:40.297Z"
   },
   {
    "duration": 350,
    "start_time": "2023-02-01T17:44:40.350Z"
   },
   {
    "duration": 359,
    "start_time": "2023-02-01T17:44:40.702Z"
   },
   {
    "duration": 30,
    "start_time": "2023-02-01T17:44:41.063Z"
   },
   {
    "duration": 498,
    "start_time": "2023-02-01T17:44:41.095Z"
   },
   {
    "duration": 81,
    "start_time": "2023-02-01T17:44:41.595Z"
   },
   {
    "duration": 46,
    "start_time": "2023-02-01T17:44:41.679Z"
   },
   {
    "duration": 45,
    "start_time": "2023-02-01T17:44:41.745Z"
   },
   {
    "duration": 16,
    "start_time": "2023-02-01T17:44:41.792Z"
   },
   {
    "duration": 174,
    "start_time": "2023-02-01T17:44:41.810Z"
   },
   {
    "duration": 30,
    "start_time": "2023-02-01T17:44:41.985Z"
   },
   {
    "duration": 56,
    "start_time": "2023-02-01T17:44:42.017Z"
   },
   {
    "duration": 41,
    "start_time": "2023-02-01T17:44:42.075Z"
   },
   {
    "duration": 95,
    "start_time": "2023-02-01T17:44:42.118Z"
   },
   {
    "duration": 191,
    "start_time": "2023-02-01T17:44:42.215Z"
   },
   {
    "duration": 93,
    "start_time": "2023-02-01T17:44:42.408Z"
   },
   {
    "duration": 3216,
    "start_time": "2023-02-01T17:44:42.503Z"
   },
   {
    "duration": 32,
    "start_time": "2023-02-01T17:44:45.721Z"
   },
   {
    "duration": 172,
    "start_time": "2023-02-01T17:44:45.757Z"
   },
   {
    "duration": 98,
    "start_time": "2023-02-01T17:44:45.930Z"
   },
   {
    "duration": 156,
    "start_time": "2023-02-01T17:44:46.030Z"
   },
   {
    "duration": 270,
    "start_time": "2023-02-01T17:44:46.188Z"
   },
   {
    "duration": 409,
    "start_time": "2023-02-01T17:44:46.460Z"
   },
   {
    "duration": 13,
    "start_time": "2023-02-01T17:44:46.871Z"
   },
   {
    "duration": 76,
    "start_time": "2023-02-01T17:44:46.886Z"
   },
   {
    "duration": 8,
    "start_time": "2023-02-01T17:44:46.964Z"
   },
   {
    "duration": 17,
    "start_time": "2023-02-01T17:44:46.974Z"
   },
   {
    "duration": 34,
    "start_time": "2023-02-01T17:44:46.993Z"
   },
   {
    "duration": 37,
    "start_time": "2023-02-01T17:44:47.032Z"
   },
   {
    "duration": 20,
    "start_time": "2023-02-01T17:44:47.071Z"
   },
   {
    "duration": 14,
    "start_time": "2023-02-01T17:44:47.093Z"
   },
   {
    "duration": 44,
    "start_time": "2023-02-01T17:44:47.108Z"
   },
   {
    "duration": 79957,
    "start_time": "2023-02-01T17:44:47.155Z"
   },
   {
    "duration": 7,
    "start_time": "2023-02-01T17:46:07.114Z"
   },
   {
    "duration": 5,
    "start_time": "2023-02-01T17:46:52.496Z"
   },
   {
    "duration": 9,
    "start_time": "2023-02-01T17:49:26.619Z"
   },
   {
    "duration": 7,
    "start_time": "2023-02-01T17:49:41.310Z"
   },
   {
    "duration": 9,
    "start_time": "2023-02-01T17:49:48.263Z"
   },
   {
    "duration": 198,
    "start_time": "2023-02-01T17:50:10.028Z"
   },
   {
    "duration": 298,
    "start_time": "2023-02-01T17:51:32.130Z"
   },
   {
    "duration": 210,
    "start_time": "2023-02-01T17:53:26.250Z"
   },
   {
    "duration": 219,
    "start_time": "2023-02-01T17:56:26.034Z"
   },
   {
    "duration": 240,
    "start_time": "2023-02-01T17:56:30.792Z"
   },
   {
    "duration": 218,
    "start_time": "2023-02-01T17:56:34.712Z"
   },
   {
    "duration": 293,
    "start_time": "2023-02-01T17:56:39.406Z"
   },
   {
    "duration": 1410,
    "start_time": "2023-02-01T17:57:29.000Z"
   },
   {
    "duration": 332,
    "start_time": "2023-02-01T17:58:05.054Z"
   },
   {
    "duration": 330,
    "start_time": "2023-02-01T17:58:20.264Z"
   },
   {
    "duration": 265,
    "start_time": "2023-02-01T17:58:28.864Z"
   },
   {
    "duration": 239,
    "start_time": "2023-02-01T17:58:43.227Z"
   },
   {
    "duration": 1665,
    "start_time": "2023-02-01T18:02:25.338Z"
   },
   {
    "duration": 972,
    "start_time": "2023-02-01T18:02:27.005Z"
   },
   {
    "duration": 163,
    "start_time": "2023-02-01T18:02:27.979Z"
   },
   {
    "duration": 4,
    "start_time": "2023-02-01T18:02:28.145Z"
   },
   {
    "duration": 121,
    "start_time": "2023-02-01T18:02:28.151Z"
   },
   {
    "duration": 7,
    "start_time": "2023-02-01T18:02:28.274Z"
   },
   {
    "duration": 41,
    "start_time": "2023-02-01T18:02:28.283Z"
   },
   {
    "duration": 14,
    "start_time": "2023-02-01T18:02:28.326Z"
   },
   {
    "duration": 429,
    "start_time": "2023-02-01T18:02:28.345Z"
   },
   {
    "duration": 40,
    "start_time": "2023-02-01T18:02:28.776Z"
   },
   {
    "duration": 493,
    "start_time": "2023-02-01T18:02:28.818Z"
   },
   {
    "duration": 500,
    "start_time": "2023-02-01T18:02:29.313Z"
   },
   {
    "duration": 51,
    "start_time": "2023-02-01T18:02:29.815Z"
   },
   {
    "duration": 350,
    "start_time": "2023-02-01T18:02:29.868Z"
   },
   {
    "duration": 363,
    "start_time": "2023-02-01T18:02:30.220Z"
   },
   {
    "duration": 33,
    "start_time": "2023-02-01T18:02:30.585Z"
   },
   {
    "duration": 390,
    "start_time": "2023-02-01T18:02:30.620Z"
   },
   {
    "duration": 81,
    "start_time": "2023-02-01T18:02:31.012Z"
   },
   {
    "duration": 66,
    "start_time": "2023-02-01T18:02:31.095Z"
   },
   {
    "duration": 52,
    "start_time": "2023-02-01T18:02:31.163Z"
   },
   {
    "duration": 32,
    "start_time": "2023-02-01T18:02:31.217Z"
   },
   {
    "duration": 160,
    "start_time": "2023-02-01T18:02:31.254Z"
   },
   {
    "duration": 44,
    "start_time": "2023-02-01T18:02:31.416Z"
   },
   {
    "duration": 41,
    "start_time": "2023-02-01T18:02:31.461Z"
   },
   {
    "duration": 62,
    "start_time": "2023-02-01T18:02:31.504Z"
   },
   {
    "duration": 88,
    "start_time": "2023-02-01T18:02:31.568Z"
   },
   {
    "duration": 175,
    "start_time": "2023-02-01T18:02:31.658Z"
   },
   {
    "duration": 82,
    "start_time": "2023-02-01T18:02:31.841Z"
   },
   {
    "duration": 3160,
    "start_time": "2023-02-01T18:02:31.924Z"
   },
   {
    "duration": 18,
    "start_time": "2023-02-01T18:02:35.086Z"
   },
   {
    "duration": 169,
    "start_time": "2023-02-01T18:02:35.106Z"
   },
   {
    "duration": 90,
    "start_time": "2023-02-01T18:02:35.277Z"
   },
   {
    "duration": 146,
    "start_time": "2023-02-01T18:02:35.369Z"
   },
   {
    "duration": 282,
    "start_time": "2023-02-01T18:02:35.518Z"
   },
   {
    "duration": 485,
    "start_time": "2023-02-01T18:02:35.802Z"
   },
   {
    "duration": 14,
    "start_time": "2023-02-01T18:02:36.290Z"
   },
   {
    "duration": 86,
    "start_time": "2023-02-01T18:02:36.306Z"
   },
   {
    "duration": 7,
    "start_time": "2023-02-01T18:02:36.394Z"
   },
   {
    "duration": 28,
    "start_time": "2023-02-01T18:02:36.402Z"
   },
   {
    "duration": 33,
    "start_time": "2023-02-01T18:02:36.432Z"
   },
   {
    "duration": 64,
    "start_time": "2023-02-01T18:02:36.466Z"
   },
   {
    "duration": 29,
    "start_time": "2023-02-01T18:02:36.532Z"
   },
   {
    "duration": 40,
    "start_time": "2023-02-01T18:02:36.563Z"
   },
   {
    "duration": 31,
    "start_time": "2023-02-01T18:02:36.606Z"
   },
   {
    "duration": 237261,
    "start_time": "2023-02-01T18:02:36.647Z"
   },
   {
    "duration": 6,
    "start_time": "2023-02-01T18:06:33.910Z"
   },
   {
    "duration": 162,
    "start_time": "2023-02-01T18:06:33.918Z"
   },
   {
    "duration": 12,
    "start_time": "2023-02-01T18:06:34.082Z"
   },
   {
    "duration": 12,
    "start_time": "2023-02-01T18:06:34.096Z"
   },
   {
    "duration": 416,
    "start_time": "2023-02-01T18:06:34.110Z"
   },
   {
    "duration": 0,
    "start_time": "2023-02-01T18:06:34.528Z"
   },
   {
    "duration": 0,
    "start_time": "2023-02-01T18:06:34.529Z"
   },
   {
    "duration": 0,
    "start_time": "2023-02-01T18:06:34.530Z"
   },
   {
    "duration": 0,
    "start_time": "2023-02-01T18:06:34.539Z"
   },
   {
    "duration": 0,
    "start_time": "2023-02-01T18:06:34.540Z"
   },
   {
    "duration": 0,
    "start_time": "2023-02-01T18:06:34.540Z"
   },
   {
    "duration": 0,
    "start_time": "2023-02-01T18:06:34.551Z"
   },
   {
    "duration": 0,
    "start_time": "2023-02-01T18:06:34.551Z"
   },
   {
    "duration": 0,
    "start_time": "2023-02-01T18:06:34.552Z"
   },
   {
    "duration": 0,
    "start_time": "2023-02-01T18:06:34.554Z"
   },
   {
    "duration": 0,
    "start_time": "2023-02-01T18:06:34.555Z"
   },
   {
    "duration": 0,
    "start_time": "2023-02-01T18:06:34.556Z"
   },
   {
    "duration": 0,
    "start_time": "2023-02-01T18:06:34.558Z"
   },
   {
    "duration": 0,
    "start_time": "2023-02-01T18:06:34.559Z"
   },
   {
    "duration": 0,
    "start_time": "2023-02-01T18:06:34.560Z"
   },
   {
    "duration": 0,
    "start_time": "2023-02-01T18:06:34.562Z"
   },
   {
    "duration": 0,
    "start_time": "2023-02-01T18:06:34.563Z"
   },
   {
    "duration": 0,
    "start_time": "2023-02-01T18:06:34.565Z"
   },
   {
    "duration": 10,
    "start_time": "2023-02-01T18:11:38.514Z"
   },
   {
    "duration": 37,
    "start_time": "2023-02-01T18:13:06.136Z"
   },
   {
    "duration": 50,
    "start_time": "2023-02-01T18:13:18.405Z"
   },
   {
    "duration": 18,
    "start_time": "2023-02-01T18:13:26.002Z"
   },
   {
    "duration": 15,
    "start_time": "2023-02-01T18:13:38.621Z"
   },
   {
    "duration": 14,
    "start_time": "2023-02-01T18:16:33.286Z"
   },
   {
    "duration": 296,
    "start_time": "2023-02-01T18:16:43.020Z"
   },
   {
    "duration": 16,
    "start_time": "2023-02-01T18:16:48.521Z"
   },
   {
    "duration": 1557,
    "start_time": "2023-02-01T18:19:01.441Z"
   },
   {
    "duration": 944,
    "start_time": "2023-02-01T18:19:03.000Z"
   },
   {
    "duration": 145,
    "start_time": "2023-02-01T18:19:03.949Z"
   },
   {
    "duration": 3,
    "start_time": "2023-02-01T18:19:04.096Z"
   },
   {
    "duration": 116,
    "start_time": "2023-02-01T18:19:04.101Z"
   },
   {
    "duration": 5,
    "start_time": "2023-02-01T18:19:04.219Z"
   },
   {
    "duration": 51,
    "start_time": "2023-02-01T18:19:04.225Z"
   },
   {
    "duration": 3,
    "start_time": "2023-02-01T18:19:04.278Z"
   },
   {
    "duration": 399,
    "start_time": "2023-02-01T18:19:04.283Z"
   },
   {
    "duration": 40,
    "start_time": "2023-02-01T18:19:04.684Z"
   },
   {
    "duration": 386,
    "start_time": "2023-02-01T18:19:04.726Z"
   },
   {
    "duration": 482,
    "start_time": "2023-02-01T18:19:05.114Z"
   },
   {
    "duration": 54,
    "start_time": "2023-02-01T18:19:05.598Z"
   },
   {
    "duration": 354,
    "start_time": "2023-02-01T18:19:05.657Z"
   },
   {
    "duration": 366,
    "start_time": "2023-02-01T18:19:06.012Z"
   },
   {
    "duration": 35,
    "start_time": "2023-02-01T18:19:06.380Z"
   },
   {
    "duration": 412,
    "start_time": "2023-02-01T18:19:06.417Z"
   },
   {
    "duration": 75,
    "start_time": "2023-02-01T18:19:06.831Z"
   },
   {
    "duration": 65,
    "start_time": "2023-02-01T18:19:06.908Z"
   },
   {
    "duration": 48,
    "start_time": "2023-02-01T18:19:06.975Z"
   },
   {
    "duration": 31,
    "start_time": "2023-02-01T18:19:07.025Z"
   },
   {
    "duration": 168,
    "start_time": "2023-02-01T18:19:07.058Z"
   },
   {
    "duration": 47,
    "start_time": "2023-02-01T18:19:07.228Z"
   },
   {
    "duration": 38,
    "start_time": "2023-02-01T18:19:07.277Z"
   },
   {
    "duration": 58,
    "start_time": "2023-02-01T18:19:07.317Z"
   },
   {
    "duration": 92,
    "start_time": "2023-02-01T18:19:07.377Z"
   },
   {
    "duration": 182,
    "start_time": "2023-02-01T18:19:07.472Z"
   },
   {
    "duration": 86,
    "start_time": "2023-02-01T18:19:07.656Z"
   },
   {
    "duration": 3348,
    "start_time": "2023-02-01T18:19:07.748Z"
   },
   {
    "duration": 18,
    "start_time": "2023-02-01T18:19:11.098Z"
   },
   {
    "duration": 169,
    "start_time": "2023-02-01T18:19:11.118Z"
   },
   {
    "duration": 101,
    "start_time": "2023-02-01T18:19:11.288Z"
   },
   {
    "duration": 154,
    "start_time": "2023-02-01T18:19:11.391Z"
   },
   {
    "duration": 267,
    "start_time": "2023-02-01T18:19:11.547Z"
   },
   {
    "duration": 412,
    "start_time": "2023-02-01T18:19:11.816Z"
   },
   {
    "duration": 16,
    "start_time": "2023-02-01T18:19:12.230Z"
   },
   {
    "duration": 64,
    "start_time": "2023-02-01T18:19:12.255Z"
   },
   {
    "duration": 7,
    "start_time": "2023-02-01T18:19:12.321Z"
   },
   {
    "duration": 25,
    "start_time": "2023-02-01T18:19:12.329Z"
   },
   {
    "duration": 12,
    "start_time": "2023-02-01T18:19:12.356Z"
   },
   {
    "duration": 33,
    "start_time": "2023-02-01T18:19:12.373Z"
   },
   {
    "duration": 44,
    "start_time": "2023-02-01T18:19:12.408Z"
   },
   {
    "duration": 17,
    "start_time": "2023-02-01T18:19:12.454Z"
   },
   {
    "duration": 23,
    "start_time": "2023-02-01T18:19:12.473Z"
   },
   {
    "duration": 233752,
    "start_time": "2023-02-01T18:19:12.498Z"
   },
   {
    "duration": 7,
    "start_time": "2023-02-01T18:23:06.252Z"
   },
   {
    "duration": 147,
    "start_time": "2023-02-01T18:23:06.261Z"
   },
   {
    "duration": 12,
    "start_time": "2023-02-01T18:23:06.410Z"
   },
   {
    "duration": 19,
    "start_time": "2023-02-01T18:23:06.424Z"
   },
   {
    "duration": 409,
    "start_time": "2023-02-01T18:23:06.445Z"
   },
   {
    "duration": 15,
    "start_time": "2023-02-01T18:23:06.860Z"
   },
   {
    "duration": 11,
    "start_time": "2023-02-01T18:23:06.877Z"
   },
   {
    "duration": 414,
    "start_time": "2023-02-01T18:23:06.890Z"
   },
   {
    "duration": 48,
    "start_time": "2023-02-01T18:23:07.306Z"
   },
   {
    "duration": 913096,
    "start_time": "2023-02-01T18:23:07.358Z"
   },
   {
    "duration": 501,
    "start_time": "2023-02-01T18:38:20.455Z"
   },
   {
    "duration": 8,
    "start_time": "2023-02-01T18:38:20.958Z"
   },
   {
    "duration": 362986,
    "start_time": "2023-02-01T18:38:20.967Z"
   },
   {
    "duration": 8,
    "start_time": "2023-02-01T18:44:23.955Z"
   },
   {
    "duration": 9,
    "start_time": "2023-02-01T18:44:23.964Z"
   },
   {
    "duration": 188,
    "start_time": "2023-02-01T18:44:23.974Z"
   },
   {
    "duration": 3,
    "start_time": "2023-02-01T18:44:24.164Z"
   },
   {
    "duration": 6,
    "start_time": "2023-02-01T18:44:24.169Z"
   },
   {
    "duration": 11,
    "start_time": "2023-02-01T18:44:24.177Z"
   },
   {
    "duration": 173,
    "start_time": "2023-02-01T18:44:24.189Z"
   },
   {
    "duration": 158,
    "start_time": "2023-02-01T18:44:24.364Z"
   },
   {
    "duration": 182,
    "start_time": "2023-02-01T18:44:24.524Z"
   },
   {
    "duration": 245,
    "start_time": "2023-02-01T18:44:24.708Z"
   },
   {
    "duration": 24,
    "start_time": "2023-02-01T18:55:26.391Z"
   },
   {
    "duration": 62,
    "start_time": "2023-02-01T18:55:53.636Z"
   },
   {
    "duration": 20,
    "start_time": "2023-02-01T18:58:40.387Z"
   },
   {
    "duration": 67,
    "start_time": "2023-02-01T18:59:40.206Z"
   },
   {
    "duration": 59,
    "start_time": "2023-02-01T18:59:45.408Z"
   },
   {
    "duration": 14,
    "start_time": "2023-02-01T19:22:48.762Z"
   },
   {
    "duration": 4,
    "start_time": "2023-02-01T19:23:21.691Z"
   },
   {
    "duration": 935,
    "start_time": "2023-02-01T19:23:21.698Z"
   },
   {
    "duration": 154,
    "start_time": "2023-02-01T19:23:22.635Z"
   },
   {
    "duration": 2,
    "start_time": "2023-02-01T19:23:22.791Z"
   },
   {
    "duration": 113,
    "start_time": "2023-02-01T19:23:22.795Z"
   },
   {
    "duration": 5,
    "start_time": "2023-02-01T19:23:22.910Z"
   },
   {
    "duration": 51,
    "start_time": "2023-02-01T19:23:22.916Z"
   },
   {
    "duration": 27,
    "start_time": "2023-02-01T19:23:22.969Z"
   },
   {
    "duration": 430,
    "start_time": "2023-02-01T19:23:22.998Z"
   },
   {
    "duration": 41,
    "start_time": "2023-02-01T19:23:23.430Z"
   },
   {
    "duration": 501,
    "start_time": "2023-02-01T19:23:23.474Z"
   },
   {
    "duration": 401,
    "start_time": "2023-02-01T19:23:23.977Z"
   },
   {
    "duration": 43,
    "start_time": "2023-02-01T19:23:24.381Z"
   },
   {
    "duration": 362,
    "start_time": "2023-02-01T19:23:24.426Z"
   },
   {
    "duration": 349,
    "start_time": "2023-02-01T19:23:24.790Z"
   },
   {
    "duration": 37,
    "start_time": "2023-02-01T19:23:25.142Z"
   },
   {
    "duration": 381,
    "start_time": "2023-02-01T19:23:25.181Z"
   },
   {
    "duration": 80,
    "start_time": "2023-02-01T19:23:25.564Z"
   },
   {
    "duration": 71,
    "start_time": "2023-02-01T19:23:25.648Z"
   },
   {
    "duration": 51,
    "start_time": "2023-02-01T19:23:25.721Z"
   },
   {
    "duration": 26,
    "start_time": "2023-02-01T19:23:25.774Z"
   },
   {
    "duration": 168,
    "start_time": "2023-02-01T19:23:25.802Z"
   },
   {
    "duration": 31,
    "start_time": "2023-02-01T19:23:25.972Z"
   },
   {
    "duration": 59,
    "start_time": "2023-02-01T19:23:26.005Z"
   },
   {
    "duration": 65,
    "start_time": "2023-02-01T19:23:26.066Z"
   },
   {
    "duration": 92,
    "start_time": "2023-02-01T19:23:26.134Z"
   },
   {
    "duration": 178,
    "start_time": "2023-02-01T19:23:26.228Z"
   },
   {
    "duration": 91,
    "start_time": "2023-02-01T19:23:26.408Z"
   },
   {
    "duration": 3406,
    "start_time": "2023-02-01T19:23:26.504Z"
   },
   {
    "duration": 18,
    "start_time": "2023-02-01T19:23:29.912Z"
   },
   {
    "duration": 168,
    "start_time": "2023-02-01T19:23:29.931Z"
   },
   {
    "duration": 96,
    "start_time": "2023-02-01T19:23:30.101Z"
   },
   {
    "duration": 190,
    "start_time": "2023-02-01T19:23:30.200Z"
   },
   {
    "duration": 282,
    "start_time": "2023-02-01T19:23:30.392Z"
   },
   {
    "duration": 448,
    "start_time": "2023-02-01T19:23:30.676Z"
   },
   {
    "duration": 24,
    "start_time": "2023-02-01T19:23:31.126Z"
   },
   {
    "duration": 106,
    "start_time": "2023-02-01T19:23:31.154Z"
   },
   {
    "duration": 7,
    "start_time": "2023-02-01T19:23:31.263Z"
   },
   {
    "duration": 45,
    "start_time": "2023-02-01T19:23:31.271Z"
   },
   {
    "duration": 27,
    "start_time": "2023-02-01T19:23:31.318Z"
   },
   {
    "duration": 70,
    "start_time": "2023-02-01T19:23:31.347Z"
   },
   {
    "duration": 23,
    "start_time": "2023-02-01T19:23:31.419Z"
   },
   {
    "duration": 41,
    "start_time": "2023-02-01T19:23:31.444Z"
   },
   {
    "duration": 3,
    "start_time": "2023-02-01T19:24:03.964Z"
   },
   {
    "duration": 10,
    "start_time": "2023-02-01T19:24:07.811Z"
   },
   {
    "duration": 104,
    "start_time": "2023-02-01T19:24:49.495Z"
   },
   {
    "duration": 97,
    "start_time": "2023-02-01T19:25:29.650Z"
   },
   {
    "duration": 25,
    "start_time": "2023-02-01T19:25:48.325Z"
   },
   {
    "duration": 1458,
    "start_time": "2023-02-01T19:27:39.600Z"
   },
   {
    "duration": 906,
    "start_time": "2023-02-01T19:27:41.060Z"
   },
   {
    "duration": 157,
    "start_time": "2023-02-01T19:27:41.968Z"
   },
   {
    "duration": 3,
    "start_time": "2023-02-01T19:27:42.127Z"
   },
   {
    "duration": 168,
    "start_time": "2023-02-01T19:27:42.139Z"
   },
   {
    "duration": 6,
    "start_time": "2023-02-01T19:27:42.309Z"
   },
   {
    "duration": 73,
    "start_time": "2023-02-01T19:27:42.317Z"
   },
   {
    "duration": 8,
    "start_time": "2023-02-01T19:27:42.392Z"
   },
   {
    "duration": 432,
    "start_time": "2023-02-01T19:27:42.402Z"
   },
   {
    "duration": 42,
    "start_time": "2023-02-01T19:27:42.840Z"
   },
   {
    "duration": 401,
    "start_time": "2023-02-01T19:27:42.884Z"
   },
   {
    "duration": 535,
    "start_time": "2023-02-01T19:27:43.288Z"
   },
   {
    "duration": 53,
    "start_time": "2023-02-01T19:27:43.824Z"
   },
   {
    "duration": 364,
    "start_time": "2023-02-01T19:27:43.878Z"
   },
   {
    "duration": 358,
    "start_time": "2023-02-01T19:27:44.244Z"
   },
   {
    "duration": 51,
    "start_time": "2023-02-01T19:27:44.604Z"
   },
   {
    "duration": 394,
    "start_time": "2023-02-01T19:27:44.658Z"
   },
   {
    "duration": 62,
    "start_time": "2023-02-01T19:27:45.056Z"
   },
   {
    "duration": 58,
    "start_time": "2023-02-01T19:27:45.120Z"
   },
   {
    "duration": 60,
    "start_time": "2023-02-01T19:27:45.180Z"
   },
   {
    "duration": 17,
    "start_time": "2023-02-01T19:27:45.248Z"
   },
   {
    "duration": 221,
    "start_time": "2023-02-01T19:27:45.267Z"
   },
   {
    "duration": 32,
    "start_time": "2023-02-01T19:27:45.490Z"
   },
   {
    "duration": 63,
    "start_time": "2023-02-01T19:27:45.525Z"
   },
   {
    "duration": 61,
    "start_time": "2023-02-01T19:27:45.590Z"
   },
   {
    "duration": 76,
    "start_time": "2023-02-01T19:27:45.653Z"
   },
   {
    "duration": 172,
    "start_time": "2023-02-01T19:27:45.731Z"
   },
   {
    "duration": 95,
    "start_time": "2023-02-01T19:27:45.907Z"
   },
   {
    "duration": 3393,
    "start_time": "2023-02-01T19:27:46.003Z"
   },
   {
    "duration": 22,
    "start_time": "2023-02-01T19:27:49.398Z"
   },
   {
    "duration": 192,
    "start_time": "2023-02-01T19:27:49.423Z"
   },
   {
    "duration": 109,
    "start_time": "2023-02-01T19:27:49.618Z"
   },
   {
    "duration": 156,
    "start_time": "2023-02-01T19:27:49.729Z"
   },
   {
    "duration": 291,
    "start_time": "2023-02-01T19:27:49.887Z"
   },
   {
    "duration": 436,
    "start_time": "2023-02-01T19:27:50.181Z"
   },
   {
    "duration": 36,
    "start_time": "2023-02-01T19:27:50.619Z"
   },
   {
    "duration": 59,
    "start_time": "2023-02-01T19:27:50.657Z"
   },
   {
    "duration": 8,
    "start_time": "2023-02-01T19:27:50.718Z"
   },
   {
    "duration": 38,
    "start_time": "2023-02-01T19:27:50.728Z"
   },
   {
    "duration": 18,
    "start_time": "2023-02-01T19:27:50.768Z"
   },
   {
    "duration": 45,
    "start_time": "2023-02-01T19:27:50.788Z"
   },
   {
    "duration": 25,
    "start_time": "2023-02-01T19:27:50.835Z"
   },
   {
    "duration": 45,
    "start_time": "2023-02-01T19:27:50.863Z"
   },
   {
    "duration": 72,
    "start_time": "2023-02-01T19:27:50.909Z"
   },
   {
    "duration": 239049,
    "start_time": "2023-02-01T19:27:50.983Z"
   },
   {
    "duration": 18,
    "start_time": "2023-02-01T19:31:50.034Z"
   },
   {
    "duration": 148,
    "start_time": "2023-02-01T19:31:50.057Z"
   },
   {
    "duration": 14,
    "start_time": "2023-02-01T19:31:50.207Z"
   },
   {
    "duration": 18,
    "start_time": "2023-02-01T19:31:50.224Z"
   },
   {
    "duration": 407,
    "start_time": "2023-02-01T19:31:50.247Z"
   },
   {
    "duration": 13,
    "start_time": "2023-02-01T19:31:50.657Z"
   },
   {
    "duration": 8,
    "start_time": "2023-02-01T19:31:50.672Z"
   },
   {
    "duration": 423,
    "start_time": "2023-02-01T19:31:50.682Z"
   },
   {
    "duration": 42,
    "start_time": "2023-02-01T19:31:51.107Z"
   },
   {
    "duration": 1340499,
    "start_time": "2023-02-01T19:31:51.157Z"
   },
   {
    "duration": 910095,
    "start_time": "2023-02-01T19:54:11.658Z"
   },
   {
    "duration": 9,
    "start_time": "2023-02-01T20:09:21.755Z"
   },
   {
    "duration": 365620,
    "start_time": "2023-02-01T20:09:21.765Z"
   },
   {
    "duration": 7,
    "start_time": "2023-02-01T20:15:27.387Z"
   },
   {
    "duration": 11,
    "start_time": "2023-02-01T20:15:27.396Z"
   },
   {
    "duration": 197,
    "start_time": "2023-02-01T20:15:27.409Z"
   },
   {
    "duration": 3,
    "start_time": "2023-02-01T20:15:27.608Z"
   },
   {
    "duration": 12,
    "start_time": "2023-02-01T20:15:27.613Z"
   },
   {
    "duration": 31,
    "start_time": "2023-02-01T20:15:27.627Z"
   },
   {
    "duration": 193,
    "start_time": "2023-02-01T20:15:27.661Z"
   },
   {
    "duration": 173,
    "start_time": "2023-02-01T20:15:27.857Z"
   },
   {
    "duration": 188,
    "start_time": "2023-02-01T20:15:28.040Z"
   },
   {
    "duration": 238,
    "start_time": "2023-02-01T20:15:28.231Z"
   },
   {
    "duration": 25,
    "start_time": "2023-02-01T20:15:28.471Z"
   },
   {
    "duration": 1449,
    "start_time": "2023-02-01T20:15:52.446Z"
   },
   {
    "duration": 890,
    "start_time": "2023-02-01T20:15:53.897Z"
   },
   {
    "duration": 154,
    "start_time": "2023-02-01T20:15:54.789Z"
   },
   {
    "duration": 5,
    "start_time": "2023-02-01T20:15:54.948Z"
   },
   {
    "duration": 101,
    "start_time": "2023-02-01T20:15:54.955Z"
   },
   {
    "duration": 6,
    "start_time": "2023-02-01T20:15:55.058Z"
   },
   {
    "duration": 53,
    "start_time": "2023-02-01T20:15:55.065Z"
   },
   {
    "duration": 8,
    "start_time": "2023-02-01T20:15:55.119Z"
   },
   {
    "duration": 400,
    "start_time": "2023-02-01T20:15:55.128Z"
   },
   {
    "duration": 49,
    "start_time": "2023-02-01T20:15:55.531Z"
   },
   {
    "duration": 392,
    "start_time": "2023-02-01T20:15:55.582Z"
   },
   {
    "duration": 491,
    "start_time": "2023-02-01T20:15:55.975Z"
   },
   {
    "duration": 47,
    "start_time": "2023-02-01T20:15:56.468Z"
   },
   {
    "duration": 365,
    "start_time": "2023-02-01T20:15:56.516Z"
   },
   {
    "duration": 352,
    "start_time": "2023-02-01T20:15:56.883Z"
   },
   {
    "duration": 39,
    "start_time": "2023-02-01T20:15:57.236Z"
   },
   {
    "duration": 380,
    "start_time": "2023-02-01T20:15:57.277Z"
   },
   {
    "duration": 62,
    "start_time": "2023-02-01T20:15:57.660Z"
   },
   {
    "duration": 61,
    "start_time": "2023-02-01T20:15:57.724Z"
   },
   {
    "duration": 70,
    "start_time": "2023-02-01T20:15:57.787Z"
   },
   {
    "duration": 18,
    "start_time": "2023-02-01T20:15:57.860Z"
   },
   {
    "duration": 172,
    "start_time": "2023-02-01T20:15:57.880Z"
   },
   {
    "duration": 30,
    "start_time": "2023-02-01T20:15:58.054Z"
   },
   {
    "duration": 40,
    "start_time": "2023-02-01T20:15:58.086Z"
   },
   {
    "duration": 55,
    "start_time": "2023-02-01T20:15:58.145Z"
   },
   {
    "duration": 94,
    "start_time": "2023-02-01T20:15:58.202Z"
   },
   {
    "duration": 170,
    "start_time": "2023-02-01T20:15:58.297Z"
   },
   {
    "duration": 85,
    "start_time": "2023-02-01T20:15:58.471Z"
   },
   {
    "duration": 3267,
    "start_time": "2023-02-01T20:15:58.559Z"
   },
   {
    "duration": 30,
    "start_time": "2023-02-01T20:16:01.828Z"
   },
   {
    "duration": 156,
    "start_time": "2023-02-01T20:16:01.860Z"
   },
   {
    "duration": 96,
    "start_time": "2023-02-01T20:16:02.018Z"
   },
   {
    "duration": 153,
    "start_time": "2023-02-01T20:16:02.116Z"
   },
   {
    "duration": 280,
    "start_time": "2023-02-01T20:16:02.271Z"
   },
   {
    "duration": 409,
    "start_time": "2023-02-01T20:16:02.556Z"
   },
   {
    "duration": 14,
    "start_time": "2023-02-01T20:16:02.967Z"
   },
   {
    "duration": 80,
    "start_time": "2023-02-01T20:16:02.983Z"
   },
   {
    "duration": 7,
    "start_time": "2023-02-01T20:16:03.065Z"
   },
   {
    "duration": 18,
    "start_time": "2023-02-01T20:16:03.073Z"
   },
   {
    "duration": 15,
    "start_time": "2023-02-01T20:16:03.093Z"
   },
   {
    "duration": 43,
    "start_time": "2023-02-01T20:16:03.109Z"
   },
   {
    "duration": 22,
    "start_time": "2023-02-01T20:16:03.153Z"
   },
   {
    "duration": 17,
    "start_time": "2023-02-01T20:16:03.176Z"
   },
   {
    "duration": 16,
    "start_time": "2023-02-01T20:16:03.194Z"
   },
   {
    "duration": 234451,
    "start_time": "2023-02-01T20:16:03.212Z"
   },
   {
    "duration": 7,
    "start_time": "2023-02-01T20:19:57.665Z"
   },
   {
    "duration": 174,
    "start_time": "2023-02-01T20:19:57.673Z"
   },
   {
    "duration": 13,
    "start_time": "2023-02-01T20:19:57.849Z"
   },
   {
    "duration": 53,
    "start_time": "2023-02-01T20:19:57.864Z"
   },
   {
    "duration": 418,
    "start_time": "2023-02-01T20:19:57.918Z"
   },
   {
    "duration": 18,
    "start_time": "2023-02-01T20:19:58.342Z"
   },
   {
    "duration": 42,
    "start_time": "2023-02-01T20:19:58.362Z"
   },
   {
    "duration": 436,
    "start_time": "2023-02-01T20:19:58.405Z"
   },
   {
    "duration": 32,
    "start_time": "2023-02-01T20:19:58.843Z"
   },
   {
    "duration": 2084280,
    "start_time": "2023-02-01T20:19:58.877Z"
   },
   {
    "duration": 1128783,
    "start_time": "2023-02-01T20:54:43.158Z"
   },
   {
    "duration": 9,
    "start_time": "2023-02-01T21:13:31.949Z"
   },
   {
    "duration": 362538,
    "start_time": "2023-02-01T21:13:31.960Z"
   },
   {
    "duration": 8,
    "start_time": "2023-02-01T21:19:34.500Z"
   },
   {
    "duration": 6,
    "start_time": "2023-02-01T21:19:34.510Z"
   },
   {
    "duration": 187,
    "start_time": "2023-02-01T21:19:34.518Z"
   },
   {
    "duration": 2,
    "start_time": "2023-02-01T21:19:34.707Z"
   },
   {
    "duration": 148,
    "start_time": "2023-02-01T21:19:34.711Z"
   },
   {
    "duration": 22,
    "start_time": "2023-02-01T21:19:34.861Z"
   },
   {
    "duration": 161,
    "start_time": "2023-02-01T21:19:34.885Z"
   },
   {
    "duration": 174,
    "start_time": "2023-02-01T21:19:35.049Z"
   },
   {
    "duration": 179,
    "start_time": "2023-02-01T21:19:35.225Z"
   },
   {
    "duration": 250,
    "start_time": "2023-02-01T21:19:35.406Z"
   },
   {
    "duration": 22,
    "start_time": "2023-02-01T21:19:35.658Z"
   },
   {
    "duration": 8,
    "start_time": "2023-02-01T21:20:15.209Z"
   },
   {
    "duration": 186,
    "start_time": "2023-02-01T21:20:18.315Z"
   },
   {
    "duration": 10,
    "start_time": "2023-02-01T21:20:59.818Z"
   },
   {
    "duration": 164,
    "start_time": "2023-02-01T21:25:58.157Z"
   },
   {
    "duration": 165,
    "start_time": "2023-02-01T21:26:07.260Z"
   },
   {
    "duration": 179,
    "start_time": "2023-02-01T21:26:12.034Z"
   },
   {
    "duration": 220,
    "start_time": "2023-02-01T21:26:27.192Z"
   }
  ],
  "kernelspec": {
   "display_name": "Python 3 (ipykernel)",
   "language": "python",
   "name": "python3"
  },
  "language_info": {
   "codemirror_mode": {
    "name": "ipython",
    "version": 3
   },
   "file_extension": ".py",
   "mimetype": "text/x-python",
   "name": "python",
   "nbconvert_exporter": "python",
   "pygments_lexer": "ipython3",
   "version": "3.11.7"
  },
  "toc": {
   "base_numbering": 1,
   "nav_menu": {},
   "number_sections": true,
   "sideBar": true,
   "skip_h1_title": true,
   "title_cell": "Table of Contents",
   "title_sidebar": "Contents",
   "toc_cell": false,
   "toc_position": {},
   "toc_section_display": true,
   "toc_window_display": false
  }
 },
 "nbformat": 4,
 "nbformat_minor": 5
}
