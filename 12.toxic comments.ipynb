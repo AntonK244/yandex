{
 "cells": [
  {
   "cell_type": "markdown",
   "id": "243b4040",
   "metadata": {},
   "source": [
    "<h1>Содержание<span class=\"tocSkip\"></span></h1>\n",
    "<div class=\"toc\"><ul class=\"toc-item\"><li><span><a href=\"#Подготовка\" data-toc-modified-id=\"Подготовка-1\"><span class=\"toc-item-num\">1&nbsp;&nbsp;</span>Подготовка</a></span></li><li><span><a href=\"#Обучение\" data-toc-modified-id=\"Обучение-2\"><span class=\"toc-item-num\">2&nbsp;&nbsp;</span>Обучение</a></span></li><li><span><a href=\"#Выводы\" data-toc-modified-id=\"Выводы-3\"><span class=\"toc-item-num\">3&nbsp;&nbsp;</span>Выводы</a></span></li><li><span><a href=\"#Чек-лист-проверки\" data-toc-modified-id=\"Чек-лист-проверки-4\"><span class=\"toc-item-num\">4&nbsp;&nbsp;</span>Чек-лист проверки</a></span></li></ul></div>"
   ]
  },
  {
   "cell_type": "markdown",
   "id": "52a2b498",
   "metadata": {},
   "source": [
    "# Проект для «Викишоп»"
   ]
  },
  {
   "cell_type": "markdown",
   "id": "91e23720",
   "metadata": {},
   "source": [
    "Интернет-магазин «Викишоп» запускает новый сервис. Теперь пользователи могут редактировать и дополнять описания товаров, как в вики-сообществах. То есть клиенты предлагают свои правки и комментируют изменения других. Магазину нужен инструмент, который будет искать токсичные комментарии и отправлять их на модерацию. \n",
    "\n",
    "Обучим модель классифицировать комментарии на позитивные и негативные. В нашем распоряжении набор данных с разметкой о токсичности правок.\n",
    "\n",
    "Построим модель со значением метрики качества *F1* не меньше 0.75. \n",
    "\n",
    "**Инструкция по выполнению проекта**\n",
    "\n",
    "1. Загрузим и подготовим данные.\n",
    "2. Обучим разные модели. \n",
    "3. Сделаем выводы.\n",
    "\n",
    "\n",
    "**Описание данных**\n",
    "\n",
    "Данные находятся в файле `toxic_comments.csv`. Столбец *text* в нём содержит текст комментария, а *toxic* — целевой признак."
   ]
  },
  {
   "cell_type": "markdown",
   "id": "9c903639",
   "metadata": {},
   "source": [
    "## Подготовка"
   ]
  },
  {
   "cell_type": "markdown",
   "id": "b6bc41c4",
   "metadata": {},
   "source": [
    "Импортируем необходимые библиотеки"
   ]
  },
  {
   "cell_type": "code",
   "execution_count": 1,
   "id": "2828aff6",
   "metadata": {},
   "outputs": [],
   "source": [
    "#!pip install torch\n",
    "#!pip install transformers\n",
    "#!pip install catboost\n",
    "#!pip install lightgbm\n",
    "# Install spaCy (run in terminal/prompt)\n",
    "#import sys\n",
    "#!{sys.executable} -m pip install spacy\n",
    "# Download spaCy's  'en' Model\n",
    "#!{sys.executable} -m spacy download en"
   ]
  },
  {
   "cell_type": "code",
   "execution_count": 2,
   "id": "a69f7f5e",
   "metadata": {
    "scrolled": true
   },
   "outputs": [
    {
     "name": "stderr",
     "output_type": "stream",
     "text": [
      "[nltk_data] Downloading package stopwords to\n",
      "[nltk_data]     C:\\Users\\Anton\\AppData\\Roaming\\nltk_data...\n",
      "[nltk_data]   Package stopwords is already up-to-date!\n"
     ]
    }
   ],
   "source": [
    "import pandas as pd\n",
    "import numpy as np\n",
    "\n",
    "import matplotlib.pyplot as plt\n",
    "import seaborn as sns\n",
    "\n",
    "\n",
    "from sklearn.model_selection import train_test_split\n",
    "\n",
    "from sklearn.feature_extraction.text import CountVectorizer, TfidfVectorizer\n",
    "\n",
    "import nltk\n",
    "nltk.download('stopwords')\n",
    "from nltk.corpus import stopwords as nltk_stopwords\n",
    "\n",
    "#from nltk.stem import WordNetLemmatizer\n",
    "#from nltk.corpus import wordnet\n",
    "#from nltk.tokenize import word_tokenize\n",
    "#from nltk.corpus import stopwords as nltk_stopwords\n",
    "#nltk.download('wordnet')\n",
    "#nltk.download('punkt')\n",
    "#nltk.download('omw-1.4')\n",
    "\n",
    "import spacy\n",
    "\n",
    "from catboost import CatBoostClassifier\n",
    "from lightgbm import LGBMClassifier\n",
    "from sklearn.linear_model import LogisticRegression\n",
    "\n",
    "\n",
    "from sklearn.model_selection import GridSearchCV\n",
    "\n",
    "from sklearn.metrics import f1_score\n",
    "\n",
    "import re\n",
    "\n",
    "import time"
   ]
  },
  {
   "cell_type": "code",
   "execution_count": 3,
   "id": "a232ed14",
   "metadata": {
    "scrolled": true
   },
   "outputs": [
    {
     "data": {
      "text/html": [
       "<div>\n",
       "<style scoped>\n",
       "    .dataframe tbody tr th:only-of-type {\n",
       "        vertical-align: middle;\n",
       "    }\n",
       "\n",
       "    .dataframe tbody tr th {\n",
       "        vertical-align: top;\n",
       "    }\n",
       "\n",
       "    .dataframe thead th {\n",
       "        text-align: right;\n",
       "    }\n",
       "</style>\n",
       "<table border=\"1\" class=\"dataframe\">\n",
       "  <thead>\n",
       "    <tr style=\"text-align: right;\">\n",
       "      <th></th>\n",
       "      <th>Unnamed: 0</th>\n",
       "      <th>text</th>\n",
       "      <th>toxic</th>\n",
       "    </tr>\n",
       "  </thead>\n",
       "  <tbody>\n",
       "    <tr>\n",
       "      <th>0</th>\n",
       "      <td>0</td>\n",
       "      <td>Explanation\\nWhy the edits made under my usern...</td>\n",
       "      <td>0</td>\n",
       "    </tr>\n",
       "    <tr>\n",
       "      <th>1</th>\n",
       "      <td>1</td>\n",
       "      <td>D'aww! He matches this background colour I'm s...</td>\n",
       "      <td>0</td>\n",
       "    </tr>\n",
       "    <tr>\n",
       "      <th>2</th>\n",
       "      <td>2</td>\n",
       "      <td>Hey man, I'm really not trying to edit war. It...</td>\n",
       "      <td>0</td>\n",
       "    </tr>\n",
       "    <tr>\n",
       "      <th>3</th>\n",
       "      <td>3</td>\n",
       "      <td>\"\\nMore\\nI can't make any real suggestions on ...</td>\n",
       "      <td>0</td>\n",
       "    </tr>\n",
       "    <tr>\n",
       "      <th>4</th>\n",
       "      <td>4</td>\n",
       "      <td>You, sir, are my hero. Any chance you remember...</td>\n",
       "      <td>0</td>\n",
       "    </tr>\n",
       "    <tr>\n",
       "      <th>...</th>\n",
       "      <td>...</td>\n",
       "      <td>...</td>\n",
       "      <td>...</td>\n",
       "    </tr>\n",
       "    <tr>\n",
       "      <th>159287</th>\n",
       "      <td>159446</td>\n",
       "      <td>\":::::And for the second time of asking, when ...</td>\n",
       "      <td>0</td>\n",
       "    </tr>\n",
       "    <tr>\n",
       "      <th>159288</th>\n",
       "      <td>159447</td>\n",
       "      <td>You should be ashamed of yourself \\n\\nThat is ...</td>\n",
       "      <td>0</td>\n",
       "    </tr>\n",
       "    <tr>\n",
       "      <th>159289</th>\n",
       "      <td>159448</td>\n",
       "      <td>Spitzer \\n\\nUmm, theres no actual article for ...</td>\n",
       "      <td>0</td>\n",
       "    </tr>\n",
       "    <tr>\n",
       "      <th>159290</th>\n",
       "      <td>159449</td>\n",
       "      <td>And it looks like it was actually you who put ...</td>\n",
       "      <td>0</td>\n",
       "    </tr>\n",
       "    <tr>\n",
       "      <th>159291</th>\n",
       "      <td>159450</td>\n",
       "      <td>\"\\nAnd ... I really don't think you understand...</td>\n",
       "      <td>0</td>\n",
       "    </tr>\n",
       "  </tbody>\n",
       "</table>\n",
       "<p>159292 rows × 3 columns</p>\n",
       "</div>"
      ],
      "text/plain": [
       "        Unnamed: 0                                               text  toxic\n",
       "0                0  Explanation\\nWhy the edits made under my usern...      0\n",
       "1                1  D'aww! He matches this background colour I'm s...      0\n",
       "2                2  Hey man, I'm really not trying to edit war. It...      0\n",
       "3                3  \"\\nMore\\nI can't make any real suggestions on ...      0\n",
       "4                4  You, sir, are my hero. Any chance you remember...      0\n",
       "...            ...                                                ...    ...\n",
       "159287      159446  \":::::And for the second time of asking, when ...      0\n",
       "159288      159447  You should be ashamed of yourself \\n\\nThat is ...      0\n",
       "159289      159448  Spitzer \\n\\nUmm, theres no actual article for ...      0\n",
       "159290      159449  And it looks like it was actually you who put ...      0\n",
       "159291      159450  \"\\nAnd ... I really don't think you understand...      0\n",
       "\n",
       "[159292 rows x 3 columns]"
      ]
     },
     "execution_count": 3,
     "metadata": {},
     "output_type": "execute_result"
    }
   ],
   "source": [
    "try:\n",
    "    comments = pd.read_csv(r'C:\\Users\\Anton\\Desktop\\YandexDisk\\Practicum\\мое\\12 Текст\\toxic_comments.csv')\n",
    "except:\n",
    "    comments = pd.read_csv(r'C:\\Users\\AdminLoc\\Desktop\\!YA\\TEXT\\toxic_comments.csv')\n",
    "\n",
    "comments"
   ]
  },
  {
   "cell_type": "code",
   "execution_count": 4,
   "id": "5de608b2",
   "metadata": {},
   "outputs": [],
   "source": [
    "#comments = comments.sample(5000)"
   ]
  },
  {
   "cell_type": "code",
   "execution_count": 5,
   "id": "566ff767",
   "metadata": {
    "scrolled": true
   },
   "outputs": [
    {
     "name": "stdout",
     "output_type": "stream",
     "text": [
      "Количество дубликатов: 0\n"
     ]
    }
   ],
   "source": [
    "print('Количество дубликатов:', comments.duplicated().sum())"
   ]
  },
  {
   "cell_type": "code",
   "execution_count": 6,
   "id": "789b5aed",
   "metadata": {},
   "outputs": [
    {
     "data": {
      "image/png": "[encoded data removed]",
      "text/plain": [
       "<Figure size 640x480 with 1 Axes>"
      ]
     },
     "metadata": {},
     "output_type": "display_data"
    }
   ],
   "source": [
    "comments.toxic.hist();"
   ]
  },
  {
   "cell_type": "markdown",
   "id": "c96652d7",
   "metadata": {},
   "source": [
    "Токсичных комментариев в разы меньше. Учтем это при обучении."
   ]
  },
  {
   "cell_type": "markdown",
   "id": "a329aa93",
   "metadata": {},
   "source": [
    "### Очистка"
   ]
  },
  {
   "cell_type": "markdown",
   "id": "71036c13",
   "metadata": {},
   "source": [
    "Очистим от лишних символов и приведем все к нижнему регистру"
   ]
  },
  {
   "cell_type": "code",
   "execution_count": 7,
   "id": "ff189ad6",
   "metadata": {},
   "outputs": [],
   "source": [
    "def clear_text(text):\n",
    "    text = re.sub(r'[^a-zA-Z0-9]', ' ', text)\n",
    "    text = text.lower()\n",
    "    text = ' '.join(text.split())\n",
    "    return text"
   ]
  },
  {
   "cell_type": "code",
   "execution_count": 8,
   "id": "622eb71b",
   "metadata": {},
   "outputs": [],
   "source": [
    "comments['text'] = comments['text'].apply(clear_text)"
   ]
  },
  {
   "cell_type": "code",
   "execution_count": 9,
   "id": "8d4beecd",
   "metadata": {},
   "outputs": [
    {
     "data": {
      "text/html": [
       "<div>\n",
       "<style scoped>\n",
       "    .dataframe tbody tr th:only-of-type {\n",
       "        vertical-align: middle;\n",
       "    }\n",
       "\n",
       "    .dataframe tbody tr th {\n",
       "        vertical-align: top;\n",
       "    }\n",
       "\n",
       "    .dataframe thead th {\n",
       "        text-align: right;\n",
       "    }\n",
       "</style>\n",
       "<table border=\"1\" class=\"dataframe\">\n",
       "  <thead>\n",
       "    <tr style=\"text-align: right;\">\n",
       "      <th></th>\n",
       "      <th>Unnamed: 0</th>\n",
       "      <th>text</th>\n",
       "      <th>toxic</th>\n",
       "    </tr>\n",
       "  </thead>\n",
       "  <tbody>\n",
       "    <tr>\n",
       "      <th>0</th>\n",
       "      <td>0</td>\n",
       "      <td>explanation why the edits made under my userna...</td>\n",
       "      <td>0</td>\n",
       "    </tr>\n",
       "    <tr>\n",
       "      <th>1</th>\n",
       "      <td>1</td>\n",
       "      <td>d aww he matches this background colour i m se...</td>\n",
       "      <td>0</td>\n",
       "    </tr>\n",
       "    <tr>\n",
       "      <th>2</th>\n",
       "      <td>2</td>\n",
       "      <td>hey man i m really not trying to edit war it s...</td>\n",
       "      <td>0</td>\n",
       "    </tr>\n",
       "    <tr>\n",
       "      <th>3</th>\n",
       "      <td>3</td>\n",
       "      <td>more i can t make any real suggestions on impr...</td>\n",
       "      <td>0</td>\n",
       "    </tr>\n",
       "    <tr>\n",
       "      <th>4</th>\n",
       "      <td>4</td>\n",
       "      <td>you sir are my hero any chance you remember wh...</td>\n",
       "      <td>0</td>\n",
       "    </tr>\n",
       "    <tr>\n",
       "      <th>...</th>\n",
       "      <td>...</td>\n",
       "      <td>...</td>\n",
       "      <td>...</td>\n",
       "    </tr>\n",
       "    <tr>\n",
       "      <th>159287</th>\n",
       "      <td>159446</td>\n",
       "      <td>and for the second time of asking when your vi...</td>\n",
       "      <td>0</td>\n",
       "    </tr>\n",
       "    <tr>\n",
       "      <th>159288</th>\n",
       "      <td>159447</td>\n",
       "      <td>you should be ashamed of yourself that is a ho...</td>\n",
       "      <td>0</td>\n",
       "    </tr>\n",
       "    <tr>\n",
       "      <th>159289</th>\n",
       "      <td>159448</td>\n",
       "      <td>spitzer umm theres no actual article for prost...</td>\n",
       "      <td>0</td>\n",
       "    </tr>\n",
       "    <tr>\n",
       "      <th>159290</th>\n",
       "      <td>159449</td>\n",
       "      <td>and it looks like it was actually you who put ...</td>\n",
       "      <td>0</td>\n",
       "    </tr>\n",
       "    <tr>\n",
       "      <th>159291</th>\n",
       "      <td>159450</td>\n",
       "      <td>and i really don t think you understand i came...</td>\n",
       "      <td>0</td>\n",
       "    </tr>\n",
       "  </tbody>\n",
       "</table>\n",
       "<p>159292 rows × 3 columns</p>\n",
       "</div>"
      ],
      "text/plain": [
       "        Unnamed: 0                                               text  toxic\n",
       "0                0  explanation why the edits made under my userna...      0\n",
       "1                1  d aww he matches this background colour i m se...      0\n",
       "2                2  hey man i m really not trying to edit war it s...      0\n",
       "3                3  more i can t make any real suggestions on impr...      0\n",
       "4                4  you sir are my hero any chance you remember wh...      0\n",
       "...            ...                                                ...    ...\n",
       "159287      159446  and for the second time of asking when your vi...      0\n",
       "159288      159447  you should be ashamed of yourself that is a ho...      0\n",
       "159289      159448  spitzer umm theres no actual article for prost...      0\n",
       "159290      159449  and it looks like it was actually you who put ...      0\n",
       "159291      159450  and i really don t think you understand i came...      0\n",
       "\n",
       "[159292 rows x 3 columns]"
      ]
     },
     "execution_count": 9,
     "metadata": {},
     "output_type": "execute_result"
    }
   ],
   "source": [
    "comments"
   ]
  },
  {
   "cell_type": "markdown",
   "id": "32858778",
   "metadata": {},
   "source": [
    "### Лемматизация"
   ]
  },
  {
   "cell_type": "markdown",
   "id": "42ac415c",
   "metadata": {},
   "source": [
    "Проведем лемматизацию текста, применим современную библиотеку spacy"
   ]
  },
  {
   "cell_type": "code",
   "execution_count": 10,
   "id": "574bb071",
   "metadata": {},
   "outputs": [],
   "source": [
    "nlp = spacy.load(\"en_core_web_sm\", disable=['parser', 'ner'])\n",
    "def lemmatize(text):\n",
    "    doc = nlp(text)\n",
    "    return \" \".join([token.lemma_ for token in doc])"
   ]
  },
  {
   "cell_type": "code",
   "execution_count": 11,
   "id": "b82635a9",
   "metadata": {},
   "outputs": [],
   "source": [
    "#lemmatizer = WordNetLemmatizer()\n",
    "#def lemmatize(text):\n",
    "#    tokens = word_tokenize(text)\n",
    "#    lemmatized_output = ' '.join([lemmatizer.lemmatize(w) for w in tokens])\n",
    "#    return lemmatized_output\n",
    "\n",
    "#def get_wordnet_pos(word):\n",
    "#    \"\"\"функция возвращает словарь, где возвращается значение часть речи (pos_tag)\"\"\"\n",
    "#    tag = nltk.pos_tag([word])[0][1][0].upper()\n",
    "#    tag_dict = {\"J\": wordnet.ADJ,\n",
    "#                \"N\": wordnet.NOUN,\n",
    "#                \"V\": wordnet.VERB,\n",
    "#                \"R\": wordnet.ADV}\n",
    "# \n",
    "#    return tag_dict.get(tag, wordnet.NOUN)"
   ]
  },
  {
   "cell_type": "code",
   "execution_count": 12,
   "id": "6fba1702",
   "metadata": {
    "scrolled": true
   },
   "outputs": [],
   "source": [
    "comments['text'] = comments['text'].apply(lemmatize)"
   ]
  },
  {
   "cell_type": "code",
   "execution_count": 13,
   "id": "f4d6b3d7",
   "metadata": {},
   "outputs": [
    {
     "data": {
      "text/html": [
       "<div>\n",
       "<style scoped>\n",
       "    .dataframe tbody tr th:only-of-type {\n",
       "        vertical-align: middle;\n",
       "    }\n",
       "\n",
       "    .dataframe tbody tr th {\n",
       "        vertical-align: top;\n",
       "    }\n",
       "\n",
       "    .dataframe thead th {\n",
       "        text-align: right;\n",
       "    }\n",
       "</style>\n",
       "<table border=\"1\" class=\"dataframe\">\n",
       "  <thead>\n",
       "    <tr style=\"text-align: right;\">\n",
       "      <th></th>\n",
       "      <th>Unnamed: 0</th>\n",
       "      <th>text</th>\n",
       "      <th>toxic</th>\n",
       "    </tr>\n",
       "  </thead>\n",
       "  <tbody>\n",
       "    <tr>\n",
       "      <th>0</th>\n",
       "      <td>0</td>\n",
       "      <td>explanation why the edit make under my usernam...</td>\n",
       "      <td>0</td>\n",
       "    </tr>\n",
       "    <tr>\n",
       "      <th>1</th>\n",
       "      <td>1</td>\n",
       "      <td>d aww he match this background colour I m seem...</td>\n",
       "      <td>0</td>\n",
       "    </tr>\n",
       "    <tr>\n",
       "      <th>2</th>\n",
       "      <td>2</td>\n",
       "      <td>hey man I m really not try to edit war it s ju...</td>\n",
       "      <td>0</td>\n",
       "    </tr>\n",
       "    <tr>\n",
       "      <th>3</th>\n",
       "      <td>3</td>\n",
       "      <td>more I can t make any real suggestion on impro...</td>\n",
       "      <td>0</td>\n",
       "    </tr>\n",
       "    <tr>\n",
       "      <th>4</th>\n",
       "      <td>4</td>\n",
       "      <td>you sir be my hero any chance you remember wha...</td>\n",
       "      <td>0</td>\n",
       "    </tr>\n",
       "    <tr>\n",
       "      <th>...</th>\n",
       "      <td>...</td>\n",
       "      <td>...</td>\n",
       "      <td>...</td>\n",
       "    </tr>\n",
       "    <tr>\n",
       "      <th>159287</th>\n",
       "      <td>159446</td>\n",
       "      <td>and for the second time of ask when your view ...</td>\n",
       "      <td>0</td>\n",
       "    </tr>\n",
       "    <tr>\n",
       "      <th>159288</th>\n",
       "      <td>159447</td>\n",
       "      <td>you should be ashamed of yourself that be a ho...</td>\n",
       "      <td>0</td>\n",
       "    </tr>\n",
       "    <tr>\n",
       "      <th>159289</th>\n",
       "      <td>159448</td>\n",
       "      <td>spitzer umm there s no actual article for pros...</td>\n",
       "      <td>0</td>\n",
       "    </tr>\n",
       "    <tr>\n",
       "      <th>159290</th>\n",
       "      <td>159449</td>\n",
       "      <td>and it look like it be actually you who put on...</td>\n",
       "      <td>0</td>\n",
       "    </tr>\n",
       "    <tr>\n",
       "      <th>159291</th>\n",
       "      <td>159450</td>\n",
       "      <td>and I really don t think you understand I come...</td>\n",
       "      <td>0</td>\n",
       "    </tr>\n",
       "  </tbody>\n",
       "</table>\n",
       "<p>159292 rows × 3 columns</p>\n",
       "</div>"
      ],
      "text/plain": [
       "        Unnamed: 0                                               text  toxic\n",
       "0                0  explanation why the edit make under my usernam...      0\n",
       "1                1  d aww he match this background colour I m seem...      0\n",
       "2                2  hey man I m really not try to edit war it s ju...      0\n",
       "3                3  more I can t make any real suggestion on impro...      0\n",
       "4                4  you sir be my hero any chance you remember wha...      0\n",
       "...            ...                                                ...    ...\n",
       "159287      159446  and for the second time of ask when your view ...      0\n",
       "159288      159447  you should be ashamed of yourself that be a ho...      0\n",
       "159289      159448  spitzer umm there s no actual article for pros...      0\n",
       "159290      159449  and it look like it be actually you who put on...      0\n",
       "159291      159450  and I really don t think you understand I come...      0\n",
       "\n",
       "[159292 rows x 3 columns]"
      ]
     },
     "execution_count": 13,
     "metadata": {},
     "output_type": "execute_result"
    }
   ],
   "source": [
    "comments"
   ]
  },
  {
   "cell_type": "markdown",
   "id": "5e13bd64",
   "metadata": {},
   "source": [
    "### Разделение"
   ]
  },
  {
   "cell_type": "markdown",
   "id": "014659b0",
   "metadata": {},
   "source": [
    "Разделим данные на целевой признак и данные"
   ]
  },
  {
   "cell_type": "code",
   "execution_count": 14,
   "id": "9313e515",
   "metadata": {},
   "outputs": [
    {
     "name": "stdout",
     "output_type": "stream",
     "text": [
      "Размер обучающей выборки (119469,) (119469,),      \n",
      "тестовой (39823,) (39823,)\n"
     ]
    }
   ],
   "source": [
    "comments_train, comments_test, target_train, target_test = train_test_split(\n",
    "    comments['text'], \n",
    "    comments['toxic'].values, \n",
    "    test_size=0.25, \n",
    "    random_state=1,\n",
    "    stratify=comments['toxic']\n",
    ")\n",
    "\n",
    "print(f'Размер обучающей выборки {comments_train.shape} {target_train.shape}, \\\n",
    "     \\nтестовой {comments_test.shape} {target_test.shape}')"
   ]
  },
  {
   "cell_type": "code",
   "execution_count": 15,
   "id": "a89b1650",
   "metadata": {},
   "outputs": [],
   "source": [
    "del comments"
   ]
  },
  {
   "cell_type": "markdown",
   "id": "2cfaa7d8",
   "metadata": {},
   "source": [
    "### TF-IDF"
   ]
  },
  {
   "cell_type": "code",
   "execution_count": 16,
   "id": "80142199",
   "metadata": {},
   "outputs": [],
   "source": [
    "stopwords = set(nltk_stopwords.words('english'))"
   ]
  },
  {
   "cell_type": "code",
   "execution_count": 17,
   "id": "ced081f4",
   "metadata": {},
   "outputs": [
    {
     "name": "stdout",
     "output_type": "stream",
     "text": [
      "Размер матрицы: (119469, 137834)\n",
      "Размер матрицы: (39823, 137834)\n"
     ]
    }
   ],
   "source": [
    "count_tf_idf = TfidfVectorizer(stop_words=stopwords)\n",
    "tf_idf_train = count_tf_idf.fit_transform(comments_train) \n",
    "tf_idf_test = count_tf_idf.transform(comments_test) \n",
    "\n",
    "print(\"Размер матрицы:\", tf_idf_train.shape)\n",
    "print(\"Размер матрицы:\", tf_idf_test.shape)"
   ]
  },
  {
   "cell_type": "code",
   "execution_count": 18,
   "id": "37f12c67",
   "metadata": {},
   "outputs": [],
   "source": [
    "del comments_train, comments_test"
   ]
  },
  {
   "cell_type": "markdown",
   "id": "1f75fe6f",
   "metadata": {},
   "source": [
    "## Обучение"
   ]
  },
  {
   "cell_type": "markdown",
   "id": "45e0d64d",
   "metadata": {},
   "source": [
    "Воспользуемся моделями логистической регрессии и градиентного бустинга.\n",
    "Для подбора параметров моделей будем использовать GridSearchCV."
   ]
  },
  {
   "cell_type": "markdown",
   "id": "bbe0d055",
   "metadata": {},
   "source": [
    "### Функция для обучения моделей"
   ]
  },
  {
   "cell_type": "markdown",
   "id": "ba3ad900",
   "metadata": {},
   "source": [
    "Напишем функцию для обучения моделей"
   ]
  },
  {
   "cell_type": "code",
   "execution_count": 19,
   "id": "be158ec6",
   "metadata": {},
   "outputs": [],
   "source": [
    "list_of_results = pd.DataFrame(index=['Время обучения', 'Время предсказания', 'f1'])\n",
    "\n",
    "def learning_model(model, X, Y, grid_param=None):\n",
    "        \n",
    "    list = []\n",
    "    name_model = type(model).__name__\n",
    "    \n",
    "    model = GridSearchCV(model, grid_param, scoring='f1', cv=5, n_jobs=-1)\n",
    "    \n",
    "    timer = time.time()\n",
    "    model.fit(X, Y)\n",
    "    print('GridSearchCV подбирал параметры %.2f секунд' %(time.time() - timer))\n",
    "    \n",
    "    results = pd.DataFrame(model.cv_results_)\n",
    "    \n",
    "    # Добавим в список время обучения\n",
    "    list.append(results.query('mean_test_score.idxmax()')['mean_fit_time'])\n",
    "    print('Время обучения модели %.2f секунд' %results.query('mean_test_score.idxmax()')['mean_fit_time'])\n",
    "    \n",
    "    # Добавим в список время предсказания\n",
    "    list.append(results.query('mean_test_score.idxmax()')['mean_score_time'])\n",
    "    print('Модель предсказывает за %.2f секунд' %results.query('mean_test_score.idxmax()')['mean_score_time'])\n",
    "    \n",
    "    # Добавим в список F1\n",
    "    list.append(model.best_score_)\n",
    "    \n",
    "    print('Наилучшая F1', model.best_score_)\n",
    "    print('Лучшие параметры', model.best_params_)\n",
    "        \n",
    "    list_of_results[name_model] = list\n",
    "    \n",
    "    return model.best_estimator_"
   ]
  },
  {
   "cell_type": "markdown",
   "id": "777aa5ad",
   "metadata": {},
   "source": [
    "### LGBMClassifier"
   ]
  },
  {
   "cell_type": "code",
   "execution_count": 20,
   "id": "8c176b0f",
   "metadata": {},
   "outputs": [
    {
     "name": "stdout",
     "output_type": "stream",
     "text": [
      "GridSearchCV подбирал параметры 108.48 секунд\n",
      "Время обучения модели 87.26 секунд\n",
      "Модель предсказывает за 0.50 секунд\n",
      "Наилучшая F1 0.7550202743610598\n",
      "Лучшие параметры {'max_depth': 10, 'n_estimators': 200}\n",
      "Wall time: 1min 48s\n"
     ]
    }
   ],
   "source": [
    "%%time\n",
    "\n",
    "lgbm_model = LGBMClassifier(random_state=1, \n",
    "                            class_weight='balanced', \n",
    "                            n_jobs=-1)\n",
    "\n",
    "# Создадим словарь параметров\n",
    "grid = {\"n_estimators\": [100, 200],\n",
    "        \"max_depth\": [5, 10]\n",
    "        }\n",
    "\n",
    "#Обучим модель и подберем наилучшие параметры в нашем диапазоне\n",
    "lgbm_model = learning_model(lgbm_model, tf_idf_train, target_train, grid)"
   ]
  },
  {
   "cell_type": "markdown",
   "id": "6403e800",
   "metadata": {},
   "source": [
    "### LogisticRegression"
   ]
  },
  {
   "cell_type": "code",
   "execution_count": 21,
   "id": "c3ec7402",
   "metadata": {},
   "outputs": [
    {
     "name": "stderr",
     "output_type": "stream",
     "text": [
      "C:\\Users\\Anton\\anaconda3\\lib\\site-packages\\sklearn\\linear_model\\_logistic.py:1523: UserWarning: 'n_jobs' > 1 does not have any effect when 'solver' is set to 'liblinear'. Got 'n_jobs' = 20.\n",
      "  warnings.warn(\n"
     ]
    },
    {
     "name": "stdout",
     "output_type": "stream",
     "text": [
      "GridSearchCV подбирал параметры 23.85 секунд\n",
      "Время обучения модели 9.91 секунд\n",
      "Модель предсказывает за 0.02 секунд\n",
      "Наилучшая F1 0.7666820774281004\n",
      "Лучшие параметры {'C': 5, 'solver': 'liblinear'}\n",
      "Wall time: 23.9 s\n"
     ]
    }
   ],
   "source": [
    "%%time\n",
    "\n",
    "\n",
    "log_model = LogisticRegression(random_state=1,  \n",
    "                               class_weight='balanced', \n",
    "                               n_jobs = -1)\n",
    "\n",
    "# Создадим словарь параметров\n",
    "grid = {'solver': ['newton-cg', 'lbfgs', 'liblinear'],\n",
    "        'C': [5, 10],\n",
    "        }\n",
    "\n",
    "#Обучим модель и подберем наилучшие параметры в нашем диапазоне\n",
    "log_model = learning_model(log_model, tf_idf_train, target_train, grid)"
   ]
  },
  {
   "cell_type": "code",
   "execution_count": 22,
   "id": "8fe54625",
   "metadata": {},
   "outputs": [
    {
     "data": {
      "text/html": [
       "<div>\n",
       "<style scoped>\n",
       "    .dataframe tbody tr th:only-of-type {\n",
       "        vertical-align: middle;\n",
       "    }\n",
       "\n",
       "    .dataframe tbody tr th {\n",
       "        vertical-align: top;\n",
       "    }\n",
       "\n",
       "    .dataframe thead th {\n",
       "        text-align: right;\n",
       "    }\n",
       "</style>\n",
       "<table border=\"1\" class=\"dataframe\">\n",
       "  <thead>\n",
       "    <tr style=\"text-align: right;\">\n",
       "      <th></th>\n",
       "      <th>LGBMClassifier</th>\n",
       "      <th>LogisticRegression</th>\n",
       "    </tr>\n",
       "  </thead>\n",
       "  <tbody>\n",
       "    <tr>\n",
       "      <th>Время обучения</th>\n",
       "      <td>87.257904</td>\n",
       "      <td>9.905889</td>\n",
       "    </tr>\n",
       "    <tr>\n",
       "      <th>Время предсказания</th>\n",
       "      <td>0.501955</td>\n",
       "      <td>0.021886</td>\n",
       "    </tr>\n",
       "    <tr>\n",
       "      <th>f1</th>\n",
       "      <td>0.755020</td>\n",
       "      <td>0.766682</td>\n",
       "    </tr>\n",
       "  </tbody>\n",
       "</table>\n",
       "</div>"
      ],
      "text/plain": [
       "                    LGBMClassifier  LogisticRegression\n",
       "Время обучения           87.257904            9.905889\n",
       "Время предсказания        0.501955            0.021886\n",
       "f1                        0.755020            0.766682"
      ]
     },
     "execution_count": 22,
     "metadata": {},
     "output_type": "execute_result"
    }
   ],
   "source": [
    "list_of_results"
   ]
  },
  {
   "cell_type": "markdown",
   "id": "e9cc5965",
   "metadata": {},
   "source": [
    "Лучшей моделью показала себя модель LogisticRegression, с `f1 = 0.766`."
   ]
  },
  {
   "cell_type": "markdown",
   "id": "9a9c28e2",
   "metadata": {},
   "source": [
    "## Выводы"
   ]
  },
  {
   "cell_type": "markdown",
   "id": "ccaa92d0",
   "metadata": {},
   "source": [
    "Протестируем лучшую модель на тестовой выборке"
   ]
  },
  {
   "cell_type": "code",
   "execution_count": 23,
   "id": "e1e70bda",
   "metadata": {},
   "outputs": [],
   "source": [
    "pred = log_model.predict(tf_idf_test)"
   ]
  },
  {
   "cell_type": "code",
   "execution_count": 24,
   "id": "56fa3996",
   "metadata": {},
   "outputs": [
    {
     "data": {
      "text/plain": [
       "0.7672443085287123"
      ]
     },
     "execution_count": 24,
     "metadata": {},
     "output_type": "execute_result"
    }
   ],
   "source": [
    "f1_score(target_test, pred)"
   ]
  },
  {
   "cell_type": "markdown",
   "id": "59ec215e",
   "metadata": {},
   "source": [
    "В проекте было выполнено обучение моделей классификации, для выявления токсичных комментариев.\n",
    "Мы подготовили текст к векторизации, убрав из него все символы с помощью регулярных выражений.\n",
    "Далее провели TF-IDF векторизацию (частота слова в тексте и его необычность во всём корпусе).\n",
    "Мы использовали модели логистической регрессии и градиентного бустинга.\n",
    "Лучшая модель - LogisticRegression, с `f1 = 0.767`. "
   ]
  },
  {
   "cell_type": "markdown",
   "id": "cc908a12",
   "metadata": {},
   "source": [
    "## Чек-лист проверки"
   ]
  },
  {
   "cell_type": "markdown",
   "id": "d17dc705",
   "metadata": {},
   "source": [
    "- [x]  Jupyter Notebook открыт\n",
    "- [x]  Весь код выполняется без ошибок\n",
    "- [x]  Ячейки с кодом расположены в порядке исполнения\n",
    "- [x]  Данные загружены и подготовлены\n",
    "- [x]  Модели обучены\n",
    "- [x]  Значение метрики *F1* не меньше 0.75\n",
    "- [x]  Выводы написаны"
   ]
  }
 ],
 "metadata": {
  "kernelspec": {
   "display_name": "Python 3 (ipykernel)",
   "language": "python",
   "name": "python3"
  },
  "language_info": {
   "codemirror_mode": {
    "name": "ipython",
    "version": 3
   },
   "file_extension": ".py",
   "mimetype": "text/x-python",
   "name": "python",
   "nbconvert_exporter": "python",
   "pygments_lexer": "ipython3",
   "version": "3.11.7"
  },
  "toc": {
   "base_numbering": 1,
   "nav_menu": {},
   "number_sections": true,
   "sideBar": true,
   "skip_h1_title": true,
   "title_cell": "Table of Contents",
   "title_sidebar": "Contents",
   "toc_cell": false,
   "toc_position": {},
   "toc_section_display": true,
   "toc_window_display": false
  }
 },
 "nbformat": 4,
 "nbformat_minor": 5
}
