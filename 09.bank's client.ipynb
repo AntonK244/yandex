{
 "cells": [
  {
   "cell_type": "markdown",
   "metadata": {
    "toc": true
   },
   "source": [
    "<h1>Содержание<span class=\"tocSkip\"></span></h1>\n",
    "<div class=\"toc\"><ul class=\"toc-item\"><li><span><a href=\"#Подготовка-данных\" data-toc-modified-id=\"Подготовка-данных-1\"><span class=\"toc-item-num\">1&nbsp;&nbsp;</span>Подготовка данных</a></span><ul class=\"toc-item\"><li><span><a href=\"#Изучение-основных-параметров-данных\" data-toc-modified-id=\"Изучение-основных-параметров-данных-1.1\"><span class=\"toc-item-num\">1.1&nbsp;&nbsp;</span>Изучение основных параметров данных</a></span></li><li><span><a href=\"#Предобработка\" data-toc-modified-id=\"Предобработка-1.2\"><span class=\"toc-item-num\">1.2&nbsp;&nbsp;</span>Предобработка</a></span></li></ul></li><li><span><a href=\"#Исследование-задачи\" data-toc-modified-id=\"Исследование-задачи-2\"><span class=\"toc-item-num\">2&nbsp;&nbsp;</span>Исследование задачи</a></span><ul class=\"toc-item\"><li><span><a href=\"#Разделение-данных\" data-toc-modified-id=\"Разделение-данных-2.1\"><span class=\"toc-item-num\">2.1&nbsp;&nbsp;</span>Разделение данных</a></span></li><li><span><a href=\"#Проверка-на-баланс-классов\" data-toc-modified-id=\"Проверка-на-баланс-классов-2.2\"><span class=\"toc-item-num\">2.2&nbsp;&nbsp;</span>Проверка на баланс классов</a></span></li><li><span><a href=\"#Добавим-необходимые-функции\" data-toc-modified-id=\"Добавим-необходимые-функции-2.3\"><span class=\"toc-item-num\">2.3&nbsp;&nbsp;</span>Добавим необходимые функции</a></span></li><li><span><a href=\"#Обучим-модели-классификации\" data-toc-modified-id=\"Обучим-модели-классификации-2.4\"><span class=\"toc-item-num\">2.4&nbsp;&nbsp;</span>Обучим модели классификации</a></span></li></ul></li><li><span><a href=\"#Борьба-с-дисбалансом\" data-toc-modified-id=\"Борьба-с-дисбалансом-3\"><span class=\"toc-item-num\">3&nbsp;&nbsp;</span>Борьба с дисбалансом</a></span><ul class=\"toc-item\"><li><span><a href=\"#Взешивание-классов\" data-toc-modified-id=\"Взешивание-классов-3.1\"><span class=\"toc-item-num\">3.1&nbsp;&nbsp;</span>Взешивание классов</a></span></li><li><span><a href=\"#Увеличение-выборки\" data-toc-modified-id=\"Увеличение-выборки-3.2\"><span class=\"toc-item-num\">3.2&nbsp;&nbsp;</span>Увеличение выборки</a></span></li><li><span><a href=\"#Уменьшение-выборки\" data-toc-modified-id=\"Уменьшение-выборки-3.3\"><span class=\"toc-item-num\">3.3&nbsp;&nbsp;</span>Уменьшение выборки</a></span></li><li><span><a href=\"#Комбинированный-метод\" data-toc-modified-id=\"Комбинированный-метод-3.4\"><span class=\"toc-item-num\">3.4&nbsp;&nbsp;</span>Комбинированный метод</a></span></li></ul></li><li><span><a href=\"#Тестирование-модели\" data-toc-modified-id=\"Тестирование-модели-4\"><span class=\"toc-item-num\">4&nbsp;&nbsp;</span>Тестирование модели</a></span></li></ul></div>"
   ]
  },
  {
   "cell_type": "markdown",
   "metadata": {},
   "source": [
    "# Отток клиентов"
   ]
  },
  {
   "cell_type": "markdown",
   "metadata": {},
   "source": [
    "Из «Бета-Банка» стали уходить клиенты. Каждый месяц. Немного, но заметно. Банковские маркетологи посчитали: сохранять текущих клиентов дешевле, чем привлекать новых.\n",
    "\n",
    "Нам предоставлены исторические данные о поведении клиентов и расторжении договоров с банком и поставлена задача на основании этих данных создать модель прогноза, уйдёт клиент из банка в ближайшее время или нет. \n",
    "\n",
    "Представленные данные имеют следущие признаки:\n",
    "- RowNumber — индекс строки в данных\n",
    "- CustomerId — уникальный идентификатор клиента\n",
    "- Surname — фамилия\n",
    "- CreditScore — кредитный рейтинг\n",
    "- Geography — страна проживания\n",
    "- Gender — пол\n",
    "- Age — возраст\n",
    "- Tenure — сколько лет человек является клиентом банка\n",
    "- Balance — баланс на счёте\n",
    "- NumOfProducts — количество продуктов банка, используемых клиентом\n",
    "- HasCrCard — наличие кредитной карты\n",
    "- IsActiveMember — активность клиента\n",
    "- EstimatedSalary — предполагаемая зарплата\n",
    "- Целевой признак\n",
    "- Exited — факт ухода клиента\n",
    "\n",
    "Построим различные модели классификации, подберем для них параметры, обеспечивающие наилучшее качество моделей. И выберем из моделей наилучшую с предельно большим значением F1-меры. Дополнительно будем измерять AUC-ROC, сравнивать её значение с F1-мерой."
   ]
  },
  {
   "cell_type": "markdown",
   "metadata": {},
   "source": [
    "## Подготовка данных"
   ]
  },
  {
   "cell_type": "markdown",
   "metadata": {},
   "source": [
    "### Изучение основных параметров данных"
   ]
  },
  {
   "cell_type": "code",
   "execution_count": 1,
   "metadata": {},
   "outputs": [],
   "source": [
    "# Импортируем необходимые библиотеки\n",
    "import pandas as pd\n",
    "import numpy as np\n",
    "import matplotlib.pyplot as plt\n",
    "import random\n",
    "\n",
    "from sklearn.ensemble import RandomForestClassifier\n",
    "from sklearn.linear_model import LogisticRegression\n",
    "from sklearn.tree import DecisionTreeClassifier\n",
    "\n",
    "from sklearn.model_selection import train_test_split\n",
    "from sklearn.metrics import f1_score, roc_auc_score, roc_curve, precision_recall_curve\n",
    "\n",
    "from sklearn.preprocessing import StandardScaler\n",
    "\n",
    "from sklearn.utils import shuffle\n",
    "\n",
    "pd.options.mode.chained_assignment = None"
   ]
  },
  {
   "cell_type": "markdown",
   "metadata": {},
   "source": [
    "Прочитаем исходный файл"
   ]
  },
  {
   "cell_type": "code",
   "execution_count": 2,
   "metadata": {
    "scrolled": true
   },
   "outputs": [
    {
     "data": {
      "text/html": [
       "<div>\n",
       "<style scoped>\n",
       "    .dataframe tbody tr th:only-of-type {\n",
       "        vertical-align: middle;\n",
       "    }\n",
       "\n",
       "    .dataframe tbody tr th {\n",
       "        vertical-align: top;\n",
       "    }\n",
       "\n",
       "    .dataframe thead th {\n",
       "        text-align: right;\n",
       "    }\n",
       "</style>\n",
       "<table border=\"1\" class=\"dataframe\">\n",
       "  <thead>\n",
       "    <tr style=\"text-align: right;\">\n",
       "      <th></th>\n",
       "      <th>RowNumber</th>\n",
       "      <th>CustomerId</th>\n",
       "      <th>Surname</th>\n",
       "      <th>CreditScore</th>\n",
       "      <th>Geography</th>\n",
       "      <th>Gender</th>\n",
       "      <th>Age</th>\n",
       "      <th>Tenure</th>\n",
       "      <th>Balance</th>\n",
       "      <th>NumOfProducts</th>\n",
       "      <th>HasCrCard</th>\n",
       "      <th>IsActiveMember</th>\n",
       "      <th>EstimatedSalary</th>\n",
       "      <th>Exited</th>\n",
       "    </tr>\n",
       "  </thead>\n",
       "  <tbody>\n",
       "    <tr>\n",
       "      <th>0</th>\n",
       "      <td>1</td>\n",
       "      <td>15634602</td>\n",
       "      <td>Hargrave</td>\n",
       "      <td>619</td>\n",
       "      <td>France</td>\n",
       "      <td>Female</td>\n",
       "      <td>42</td>\n",
       "      <td>2.0</td>\n",
       "      <td>0.00</td>\n",
       "      <td>1</td>\n",
       "      <td>1</td>\n",
       "      <td>1</td>\n",
       "      <td>101348.88</td>\n",
       "      <td>1</td>\n",
       "    </tr>\n",
       "    <tr>\n",
       "      <th>1</th>\n",
       "      <td>2</td>\n",
       "      <td>15647311</td>\n",
       "      <td>Hill</td>\n",
       "      <td>608</td>\n",
       "      <td>Spain</td>\n",
       "      <td>Female</td>\n",
       "      <td>41</td>\n",
       "      <td>1.0</td>\n",
       "      <td>83807.86</td>\n",
       "      <td>1</td>\n",
       "      <td>0</td>\n",
       "      <td>1</td>\n",
       "      <td>112542.58</td>\n",
       "      <td>0</td>\n",
       "    </tr>\n",
       "    <tr>\n",
       "      <th>2</th>\n",
       "      <td>3</td>\n",
       "      <td>15619304</td>\n",
       "      <td>Onio</td>\n",
       "      <td>502</td>\n",
       "      <td>France</td>\n",
       "      <td>Female</td>\n",
       "      <td>42</td>\n",
       "      <td>8.0</td>\n",
       "      <td>159660.80</td>\n",
       "      <td>3</td>\n",
       "      <td>1</td>\n",
       "      <td>0</td>\n",
       "      <td>113931.57</td>\n",
       "      <td>1</td>\n",
       "    </tr>\n",
       "    <tr>\n",
       "      <th>3</th>\n",
       "      <td>4</td>\n",
       "      <td>15701354</td>\n",
       "      <td>Boni</td>\n",
       "      <td>699</td>\n",
       "      <td>France</td>\n",
       "      <td>Female</td>\n",
       "      <td>39</td>\n",
       "      <td>1.0</td>\n",
       "      <td>0.00</td>\n",
       "      <td>2</td>\n",
       "      <td>0</td>\n",
       "      <td>0</td>\n",
       "      <td>93826.63</td>\n",
       "      <td>0</td>\n",
       "    </tr>\n",
       "    <tr>\n",
       "      <th>4</th>\n",
       "      <td>5</td>\n",
       "      <td>15737888</td>\n",
       "      <td>Mitchell</td>\n",
       "      <td>850</td>\n",
       "      <td>Spain</td>\n",
       "      <td>Female</td>\n",
       "      <td>43</td>\n",
       "      <td>2.0</td>\n",
       "      <td>125510.82</td>\n",
       "      <td>1</td>\n",
       "      <td>1</td>\n",
       "      <td>1</td>\n",
       "      <td>79084.10</td>\n",
       "      <td>0</td>\n",
       "    </tr>\n",
       "  </tbody>\n",
       "</table>\n",
       "</div>"
      ],
      "text/plain": [
       "   RowNumber  CustomerId   Surname  CreditScore Geography  Gender  Age  \\\n",
       "0          1    15634602  Hargrave          619    France  Female   42   \n",
       "1          2    15647311      Hill          608     Spain  Female   41   \n",
       "2          3    15619304      Onio          502    France  Female   42   \n",
       "3          4    15701354      Boni          699    France  Female   39   \n",
       "4          5    15737888  Mitchell          850     Spain  Female   43   \n",
       "\n",
       "   Tenure    Balance  NumOfProducts  HasCrCard  IsActiveMember  \\\n",
       "0     2.0       0.00              1          1               1   \n",
       "1     1.0   83807.86              1          0               1   \n",
       "2     8.0  159660.80              3          1               0   \n",
       "3     1.0       0.00              2          0               0   \n",
       "4     2.0  125510.82              1          1               1   \n",
       "\n",
       "   EstimatedSalary  Exited  \n",
       "0        101348.88       1  \n",
       "1        112542.58       0  \n",
       "2        113931.57       1  \n",
       "3         93826.63       0  \n",
       "4         79084.10       0  "
      ]
     },
     "execution_count": 2,
     "metadata": {},
     "output_type": "execute_result"
    }
   ],
   "source": [
    "df = pd.read_csv('/datasets/Churn.csv')\n",
    "df.head()"
   ]
  },
  {
   "cell_type": "markdown",
   "metadata": {},
   "source": [
    "Посмотрим тип данных и наличие пропусков"
   ]
  },
  {
   "cell_type": "code",
   "execution_count": 3,
   "metadata": {},
   "outputs": [
    {
     "name": "stdout",
     "output_type": "stream",
     "text": [
      "<class 'pandas.core.frame.DataFrame'>\n",
      "RangeIndex: 10000 entries, 0 to 9999\n",
      "Data columns (total 14 columns):\n",
      " #   Column           Non-Null Count  Dtype  \n",
      "---  ------           --------------  -----  \n",
      " 0   RowNumber        10000 non-null  int64  \n",
      " 1   CustomerId       10000 non-null  int64  \n",
      " 2   Surname          10000 non-null  object \n",
      " 3   CreditScore      10000 non-null  int64  \n",
      " 4   Geography        10000 non-null  object \n",
      " 5   Gender           10000 non-null  object \n",
      " 6   Age              10000 non-null  int64  \n",
      " 7   Tenure           9091 non-null   float64\n",
      " 8   Balance          10000 non-null  float64\n",
      " 9   NumOfProducts    10000 non-null  int64  \n",
      " 10  HasCrCard        10000 non-null  int64  \n",
      " 11  IsActiveMember   10000 non-null  int64  \n",
      " 12  EstimatedSalary  10000 non-null  float64\n",
      " 13  Exited           10000 non-null  int64  \n",
      "dtypes: float64(3), int64(8), object(3)\n",
      "memory usage: 1.1+ MB\n"
     ]
    }
   ],
   "source": [
    "df.info()"
   ]
  },
  {
   "cell_type": "markdown",
   "metadata": {},
   "source": [
    "В нашем файле 10000 записей о клиентах банка с параметрами:\n",
    "- RowNumber — индекс строки в данных\n",
    "- CustomerId — уникальный идентификатор клиента\n",
    "- Surname — фамилия\n",
    "- CreditScore — кредитный рейтинг\n",
    "- Geography — страна проживания\n",
    "- Gender — пол\n",
    "- Age — возраст\n",
    "- Tenure — сколько лет человек является клиентом банка\n",
    "- Balance — баланс на счёте\n",
    "- NumOfProducts — количество продуктов банка, используемых клиентом\n",
    "- HasCrCard — наличие кредитной карты\n",
    "- IsActiveMember — активность клиента\n",
    "- EstimatedSalary — предполагаемая зарплата\n",
    "- Целевой признак\n",
    "- Exited — факт ухода клиента"
   ]
  },
  {
   "cell_type": "markdown",
   "metadata": {},
   "source": [
    "Посмотрим корреляцию наших данных"
   ]
  },
  {
   "cell_type": "code",
   "execution_count": 4,
   "metadata": {},
   "outputs": [
    {
     "data": {
      "text/html": [
       "<div>\n",
       "<style scoped>\n",
       "    .dataframe tbody tr th:only-of-type {\n",
       "        vertical-align: middle;\n",
       "    }\n",
       "\n",
       "    .dataframe tbody tr th {\n",
       "        vertical-align: top;\n",
       "    }\n",
       "\n",
       "    .dataframe thead th {\n",
       "        text-align: right;\n",
       "    }\n",
       "</style>\n",
       "<table border=\"1\" class=\"dataframe\">\n",
       "  <thead>\n",
       "    <tr style=\"text-align: right;\">\n",
       "      <th></th>\n",
       "      <th>RowNumber</th>\n",
       "      <th>CustomerId</th>\n",
       "      <th>CreditScore</th>\n",
       "      <th>Age</th>\n",
       "      <th>Tenure</th>\n",
       "      <th>Balance</th>\n",
       "      <th>NumOfProducts</th>\n",
       "      <th>HasCrCard</th>\n",
       "      <th>IsActiveMember</th>\n",
       "      <th>EstimatedSalary</th>\n",
       "      <th>Exited</th>\n",
       "    </tr>\n",
       "  </thead>\n",
       "  <tbody>\n",
       "    <tr>\n",
       "      <th>RowNumber</th>\n",
       "      <td>1.000000</td>\n",
       "      <td>0.004202</td>\n",
       "      <td>0.005840</td>\n",
       "      <td>0.000783</td>\n",
       "      <td>-0.007322</td>\n",
       "      <td>-0.009067</td>\n",
       "      <td>0.007246</td>\n",
       "      <td>0.000599</td>\n",
       "      <td>0.012044</td>\n",
       "      <td>-0.005988</td>\n",
       "      <td>-0.016571</td>\n",
       "    </tr>\n",
       "    <tr>\n",
       "      <th>CustomerId</th>\n",
       "      <td>0.004202</td>\n",
       "      <td>1.000000</td>\n",
       "      <td>0.005308</td>\n",
       "      <td>0.009497</td>\n",
       "      <td>-0.021418</td>\n",
       "      <td>-0.012419</td>\n",
       "      <td>0.016972</td>\n",
       "      <td>-0.014025</td>\n",
       "      <td>0.001665</td>\n",
       "      <td>0.015271</td>\n",
       "      <td>-0.006248</td>\n",
       "    </tr>\n",
       "    <tr>\n",
       "      <th>CreditScore</th>\n",
       "      <td>0.005840</td>\n",
       "      <td>0.005308</td>\n",
       "      <td>1.000000</td>\n",
       "      <td>-0.003965</td>\n",
       "      <td>-0.000062</td>\n",
       "      <td>0.006268</td>\n",
       "      <td>0.012238</td>\n",
       "      <td>-0.005458</td>\n",
       "      <td>0.025651</td>\n",
       "      <td>-0.001384</td>\n",
       "      <td>-0.027094</td>\n",
       "    </tr>\n",
       "    <tr>\n",
       "      <th>Age</th>\n",
       "      <td>0.000783</td>\n",
       "      <td>0.009497</td>\n",
       "      <td>-0.003965</td>\n",
       "      <td>1.000000</td>\n",
       "      <td>-0.013134</td>\n",
       "      <td>0.028308</td>\n",
       "      <td>-0.030680</td>\n",
       "      <td>-0.011721</td>\n",
       "      <td>0.085472</td>\n",
       "      <td>-0.007201</td>\n",
       "      <td>0.285323</td>\n",
       "    </tr>\n",
       "    <tr>\n",
       "      <th>Tenure</th>\n",
       "      <td>-0.007322</td>\n",
       "      <td>-0.021418</td>\n",
       "      <td>-0.000062</td>\n",
       "      <td>-0.013134</td>\n",
       "      <td>1.000000</td>\n",
       "      <td>-0.007911</td>\n",
       "      <td>0.011979</td>\n",
       "      <td>0.027232</td>\n",
       "      <td>-0.032178</td>\n",
       "      <td>0.010520</td>\n",
       "      <td>-0.016761</td>\n",
       "    </tr>\n",
       "    <tr>\n",
       "      <th>Balance</th>\n",
       "      <td>-0.009067</td>\n",
       "      <td>-0.012419</td>\n",
       "      <td>0.006268</td>\n",
       "      <td>0.028308</td>\n",
       "      <td>-0.007911</td>\n",
       "      <td>1.000000</td>\n",
       "      <td>-0.304180</td>\n",
       "      <td>-0.014858</td>\n",
       "      <td>-0.010084</td>\n",
       "      <td>0.012797</td>\n",
       "      <td>0.118533</td>\n",
       "    </tr>\n",
       "    <tr>\n",
       "      <th>NumOfProducts</th>\n",
       "      <td>0.007246</td>\n",
       "      <td>0.016972</td>\n",
       "      <td>0.012238</td>\n",
       "      <td>-0.030680</td>\n",
       "      <td>0.011979</td>\n",
       "      <td>-0.304180</td>\n",
       "      <td>1.000000</td>\n",
       "      <td>0.003183</td>\n",
       "      <td>0.009612</td>\n",
       "      <td>0.014204</td>\n",
       "      <td>-0.047820</td>\n",
       "    </tr>\n",
       "    <tr>\n",
       "      <th>HasCrCard</th>\n",
       "      <td>0.000599</td>\n",
       "      <td>-0.014025</td>\n",
       "      <td>-0.005458</td>\n",
       "      <td>-0.011721</td>\n",
       "      <td>0.027232</td>\n",
       "      <td>-0.014858</td>\n",
       "      <td>0.003183</td>\n",
       "      <td>1.000000</td>\n",
       "      <td>-0.011866</td>\n",
       "      <td>-0.009933</td>\n",
       "      <td>-0.007138</td>\n",
       "    </tr>\n",
       "    <tr>\n",
       "      <th>IsActiveMember</th>\n",
       "      <td>0.012044</td>\n",
       "      <td>0.001665</td>\n",
       "      <td>0.025651</td>\n",
       "      <td>0.085472</td>\n",
       "      <td>-0.032178</td>\n",
       "      <td>-0.010084</td>\n",
       "      <td>0.009612</td>\n",
       "      <td>-0.011866</td>\n",
       "      <td>1.000000</td>\n",
       "      <td>-0.011421</td>\n",
       "      <td>-0.156128</td>\n",
       "    </tr>\n",
       "    <tr>\n",
       "      <th>EstimatedSalary</th>\n",
       "      <td>-0.005988</td>\n",
       "      <td>0.015271</td>\n",
       "      <td>-0.001384</td>\n",
       "      <td>-0.007201</td>\n",
       "      <td>0.010520</td>\n",
       "      <td>0.012797</td>\n",
       "      <td>0.014204</td>\n",
       "      <td>-0.009933</td>\n",
       "      <td>-0.011421</td>\n",
       "      <td>1.000000</td>\n",
       "      <td>0.012097</td>\n",
       "    </tr>\n",
       "    <tr>\n",
       "      <th>Exited</th>\n",
       "      <td>-0.016571</td>\n",
       "      <td>-0.006248</td>\n",
       "      <td>-0.027094</td>\n",
       "      <td>0.285323</td>\n",
       "      <td>-0.016761</td>\n",
       "      <td>0.118533</td>\n",
       "      <td>-0.047820</td>\n",
       "      <td>-0.007138</td>\n",
       "      <td>-0.156128</td>\n",
       "      <td>0.012097</td>\n",
       "      <td>1.000000</td>\n",
       "    </tr>\n",
       "  </tbody>\n",
       "</table>\n",
       "</div>"
      ],
      "text/plain": [
       "                 RowNumber  CustomerId  CreditScore       Age    Tenure  \\\n",
       "RowNumber         1.000000    0.004202     0.005840  0.000783 -0.007322   \n",
       "CustomerId        0.004202    1.000000     0.005308  0.009497 -0.021418   \n",
       "CreditScore       0.005840    0.005308     1.000000 -0.003965 -0.000062   \n",
       "Age               0.000783    0.009497    -0.003965  1.000000 -0.013134   \n",
       "Tenure           -0.007322   -0.021418    -0.000062 -0.013134  1.000000   \n",
       "Balance          -0.009067   -0.012419     0.006268  0.028308 -0.007911   \n",
       "NumOfProducts     0.007246    0.016972     0.012238 -0.030680  0.011979   \n",
       "HasCrCard         0.000599   -0.014025    -0.005458 -0.011721  0.027232   \n",
       "IsActiveMember    0.012044    0.001665     0.025651  0.085472 -0.032178   \n",
       "EstimatedSalary  -0.005988    0.015271    -0.001384 -0.007201  0.010520   \n",
       "Exited           -0.016571   -0.006248    -0.027094  0.285323 -0.016761   \n",
       "\n",
       "                  Balance  NumOfProducts  HasCrCard  IsActiveMember  \\\n",
       "RowNumber       -0.009067       0.007246   0.000599        0.012044   \n",
       "CustomerId      -0.012419       0.016972  -0.014025        0.001665   \n",
       "CreditScore      0.006268       0.012238  -0.005458        0.025651   \n",
       "Age              0.028308      -0.030680  -0.011721        0.085472   \n",
       "Tenure          -0.007911       0.011979   0.027232       -0.032178   \n",
       "Balance          1.000000      -0.304180  -0.014858       -0.010084   \n",
       "NumOfProducts   -0.304180       1.000000   0.003183        0.009612   \n",
       "HasCrCard       -0.014858       0.003183   1.000000       -0.011866   \n",
       "IsActiveMember  -0.010084       0.009612  -0.011866        1.000000   \n",
       "EstimatedSalary  0.012797       0.014204  -0.009933       -0.011421   \n",
       "Exited           0.118533      -0.047820  -0.007138       -0.156128   \n",
       "\n",
       "                 EstimatedSalary    Exited  \n",
       "RowNumber              -0.005988 -0.016571  \n",
       "CustomerId              0.015271 -0.006248  \n",
       "CreditScore            -0.001384 -0.027094  \n",
       "Age                    -0.007201  0.285323  \n",
       "Tenure                  0.010520 -0.016761  \n",
       "Balance                 0.012797  0.118533  \n",
       "NumOfProducts           0.014204 -0.047820  \n",
       "HasCrCard              -0.009933 -0.007138  \n",
       "IsActiveMember         -0.011421 -0.156128  \n",
       "EstimatedSalary         1.000000  0.012097  \n",
       "Exited                  0.012097  1.000000  "
      ]
     },
     "execution_count": 4,
     "metadata": {},
     "output_type": "execute_result"
    }
   ],
   "source": [
    "df.corr()"
   ]
  },
  {
   "cell_type": "markdown",
   "metadata": {},
   "source": [
    "Проверим наличие явных дубликатов"
   ]
  },
  {
   "cell_type": "code",
   "execution_count": 5,
   "metadata": {
    "scrolled": true
   },
   "outputs": [
    {
     "name": "stdout",
     "output_type": "stream",
     "text": [
      "Явных дубликатов в данных: 0\n"
     ]
    }
   ],
   "source": [
    "print('Явных дубликатов в данных:', df.duplicated().sum())"
   ]
  },
  {
   "cell_type": "markdown",
   "metadata": {},
   "source": [
    "**Вывод:**\n",
    "- Есть пропуски в данных `tenure`\n",
    "- Ненужные для дальнейшего агнализа данные `row_number, customer_id, surname`\n",
    "- Необходимо преобразовать дискретные переменные `Geography и Gender` в удобные численные значения\n",
    "- Приведем наименования столбцов к \"змеиному\" регистру"
   ]
  },
  {
   "cell_type": "markdown",
   "metadata": {},
   "source": [
    "### Предобработка"
   ]
  },
  {
   "cell_type": "markdown",
   "metadata": {},
   "source": [
    "Приведем наименования столбцов к \"змеиному\" регистру через функцию snake_case"
   ]
  },
  {
   "cell_type": "code",
   "execution_count": 6,
   "metadata": {
    "scrolled": true
   },
   "outputs": [
    {
     "data": {
      "text/plain": [
       "Index(['row_number', 'customer_id', 'surname', 'credit_score', 'geography',\n",
       "       'gender', 'age', 'tenure', 'balance', 'num_of_products', 'has_cr_card',\n",
       "       'is_active_member', 'estimated_salary', 'exited'],\n",
       "      dtype='object')"
      ]
     },
     "execution_count": 6,
     "metadata": {},
     "output_type": "execute_result"
    }
   ],
   "source": [
    "def snake_case(str):\n",
    "    return ''.join(['_' + i.lower() if i.isupper()\n",
    "               else i for i in str]).lstrip('_')\n",
    "\n",
    "df.columns = [snake_case(i) for i in df.columns]\n",
    "df.columns"
   ]
  },
  {
   "cell_type": "markdown",
   "metadata": {},
   "source": [
    "Посмотрим на пропуски в `tenure` и подумаем чем их заменить"
   ]
  },
  {
   "cell_type": "code",
   "execution_count": 7,
   "metadata": {},
   "outputs": [
    {
     "name": "stdout",
     "output_type": "stream",
     "text": [
      "Уникальные значения tenure: [ 2.  1.  8.  7.  4.  6.  3. 10.  5.  9.  0. nan]\n"
     ]
    }
   ],
   "source": [
    "print('Уникальные значения tenure:', df.tenure.unique())"
   ]
  },
  {
   "cell_type": "code",
   "execution_count": 8,
   "metadata": {
    "scrolled": true
   },
   "outputs": [
    {
     "data": {
      "image/png": "[encoded data removed]",
      "text/plain": [
       "<Figure size 432x288 with 1 Axes>"
      ]
     },
     "metadata": {
      "needs_background": "light"
     },
     "output_type": "display_data"
    }
   ],
   "source": [
    "df.tenure.hist();"
   ]
  },
  {
   "cell_type": "markdown",
   "metadata": {},
   "source": [
    "Видно что распределение `tenure` (сколько лет человек является клиентом банка) близко к равномерному и корреляция с другими параметрами минимальна. Возможности предположить, что пропуски это 0 у нас нет, так как 0 уже встречаются в наших данных. Заменим пропуски случайными числами от 0 до 10."
   ]
  },
  {
   "cell_type": "code",
   "execution_count": 9,
   "metadata": {},
   "outputs": [],
   "source": [
    "df.loc[df['tenure'].isna(), 'tenure'] = np.random.randint(0, 10, size=df.tenure.isna().sum())"
   ]
  },
  {
   "cell_type": "markdown",
   "metadata": {},
   "source": [
    "Приведем все количественные значения с плавающей точкой к целочисленным значениям."
   ]
  },
  {
   "cell_type": "code",
   "execution_count": 10,
   "metadata": {},
   "outputs": [],
   "source": [
    "tag = ['estimated_salary', 'balance', 'tenure']\n",
    "df[tag] = df[tag].astype('int')"
   ]
  },
  {
   "cell_type": "markdown",
   "metadata": {},
   "source": [
    "Проверим что пропусков больше нет"
   ]
  },
  {
   "cell_type": "code",
   "execution_count": 11,
   "metadata": {
    "scrolled": true
   },
   "outputs": [
    {
     "data": {
      "text/plain": [
       "0"
      ]
     },
     "execution_count": 11,
     "metadata": {},
     "output_type": "execute_result"
    }
   ],
   "source": [
    "df.tenure.isna().sum()"
   ]
  },
  {
   "cell_type": "markdown",
   "metadata": {},
   "source": [
    "Проверим тип данных"
   ]
  },
  {
   "cell_type": "code",
   "execution_count": 12,
   "metadata": {
    "scrolled": true
   },
   "outputs": [
    {
     "data": {
      "text/plain": [
       "row_number           int64\n",
       "customer_id          int64\n",
       "surname             object\n",
       "credit_score         int64\n",
       "geography           object\n",
       "gender              object\n",
       "age                  int64\n",
       "tenure               int64\n",
       "balance              int64\n",
       "num_of_products      int64\n",
       "has_cr_card          int64\n",
       "is_active_member     int64\n",
       "estimated_salary     int64\n",
       "exited               int64\n",
       "dtype: object"
      ]
     },
     "execution_count": 12,
     "metadata": {},
     "output_type": "execute_result"
    }
   ],
   "source": [
    "df.dtypes"
   ]
  },
  {
   "cell_type": "markdown",
   "metadata": {},
   "source": [
    "Проверим получившееся распределение `tenure`"
   ]
  },
  {
   "cell_type": "code",
   "execution_count": 13,
   "metadata": {},
   "outputs": [
    {
     "data": {
      "image/png": "[encoded data removed]",
      "text/plain": [
       "<Figure size 432x288 with 1 Axes>"
      ]
     },
     "metadata": {
      "needs_background": "light"
     },
     "output_type": "display_data"
    }
   ],
   "source": [
    "df.tenure.hist();"
   ]
  },
  {
   "cell_type": "markdown",
   "metadata": {},
   "source": [
    "Убедимся что количество уникальных идентификаторов клиента совпадает с количеством объектов данных (10000)."
   ]
  },
  {
   "cell_type": "code",
   "execution_count": 14,
   "metadata": {},
   "outputs": [
    {
     "name": "stdout",
     "output_type": "stream",
     "text": [
      "Количество уникальных идентификаторов клиента: 10000\n"
     ]
    }
   ],
   "source": [
    "print('Количество уникальных идентификаторов клиента:', df.customer_id.value_counts().sum())"
   ]
  },
  {
   "cell_type": "markdown",
   "metadata": {},
   "source": [
    "Так как для дальнейшего анализа нам не требуестя знание индекса строки в данных, уникального идентификатора клиента, фамилии (зависимости ухода клиента от этих данных нет), то удалим параметры `row_number, customer_id, surname`."
   ]
  },
  {
   "cell_type": "code",
   "execution_count": 15,
   "metadata": {},
   "outputs": [],
   "source": [
    "df.drop(['row_number', 'customer_id', 'surname'], axis=1, inplace=True)"
   ]
  },
  {
   "cell_type": "code",
   "execution_count": 16,
   "metadata": {
    "scrolled": true
   },
   "outputs": [
    {
     "name": "stdout",
     "output_type": "stream",
     "text": [
      "Уникальные значения gender: ['Female' 'Male']\n"
     ]
    }
   ],
   "source": [
    "print('Уникальные значения gender:', df.gender.unique())"
   ]
  },
  {
   "cell_type": "code",
   "execution_count": 17,
   "metadata": {},
   "outputs": [
    {
     "name": "stdout",
     "output_type": "stream",
     "text": [
      "Уникальные значения geography: ['France' 'Spain' 'Germany']\n"
     ]
    }
   ],
   "source": [
    "print('Уникальные значения geography:',df.geography.unique())"
   ]
  },
  {
   "cell_type": "markdown",
   "metadata": {},
   "source": [
    "Посмотрим матрицу рассеяния"
   ]
  },
  {
   "cell_type": "code",
   "execution_count": 18,
   "metadata": {},
   "outputs": [
    {
     "data": {
      "image/png": "[encoded data removed]",
      "text/plain": [
       "<Figure size 1224x1224 with 81 Axes>"
      ]
     },
     "metadata": {
      "needs_background": "light"
     },
     "output_type": "display_data"
    }
   ],
   "source": [
    "pd.plotting.scatter_matrix(df, figsize=(17, 17));"
   ]
  },
  {
   "cell_type": "markdown",
   "metadata": {},
   "source": [
    "Явной корреляции и мультиколлениарности между параметрами не видно. Посмотрим на `balance`."
   ]
  },
  {
   "cell_type": "code",
   "execution_count": 19,
   "metadata": {
    "scrolled": true
   },
   "outputs": [
    {
     "data": {
      "image/png": "[encoded data removed]",
      "text/plain": [
       "<Figure size 432x288 with 1 Axes>"
      ]
     },
     "metadata": {
      "needs_background": "light"
     },
     "output_type": "display_data"
    }
   ],
   "source": [
    "df.balance.hist();"
   ]
  },
  {
   "cell_type": "markdown",
   "metadata": {},
   "source": [
    "Видно что баланс на счёте у многих клиентов равен 0. Возможно они пользуются для расчетов другим банком.  \n",
    "\n",
    "Посмотрим распределение `estimated_salary` предполагаемой заработной платы."
   ]
  },
  {
   "cell_type": "code",
   "execution_count": 20,
   "metadata": {
    "scrolled": true
   },
   "outputs": [
    {
     "data": {
      "image/png": "[encoded data removed]",
      "text/plain": [
       "<Figure size 432x288 with 1 Axes>"
      ]
     },
     "metadata": {
      "needs_background": "light"
     },
     "output_type": "display_data"
    }
   ],
   "source": [
    "df.estimated_salary.hist();"
   ]
  },
  {
   "cell_type": "markdown",
   "metadata": {},
   "source": [
    "Странное распределение. Так равномерно зарплаты не видел чтобы распределялись. И корреляция с другими параметрами минимальна. Скорее всего от этого параметра и результат будет мало зависеть. Надо задать вопрос, это точно зарплаты?... Или выгрузка данных производилсась равномерно по этому признаку?...\n",
    "\n",
    "Преобразуем оставшиеся строковые дискретные переменные в удобные численные значения. У нас остались 2 нечисленные категориальные  переменные:\n",
    "- Geography — страна проживания\n",
    "- Gender — пол    \n",
    "\n",
    "Так как нет значимости между разными значениями данных переменных, тоесть у них нет никакой иерархии, то применим технику OneHotEncoding."
   ]
  },
  {
   "cell_type": "code",
   "execution_count": 21,
   "metadata": {
    "scrolled": true
   },
   "outputs": [],
   "source": [
    "df = pd.get_dummies(df, drop_first=True)"
   ]
  },
  {
   "cell_type": "markdown",
   "metadata": {},
   "source": [
    "Посмотрим на получившийся датафрейм"
   ]
  },
  {
   "cell_type": "code",
   "execution_count": 22,
   "metadata": {},
   "outputs": [
    {
     "data": {
      "text/html": [
       "<div>\n",
       "<style scoped>\n",
       "    .dataframe tbody tr th:only-of-type {\n",
       "        vertical-align: middle;\n",
       "    }\n",
       "\n",
       "    .dataframe tbody tr th {\n",
       "        vertical-align: top;\n",
       "    }\n",
       "\n",
       "    .dataframe thead th {\n",
       "        text-align: right;\n",
       "    }\n",
       "</style>\n",
       "<table border=\"1\" class=\"dataframe\">\n",
       "  <thead>\n",
       "    <tr style=\"text-align: right;\">\n",
       "      <th></th>\n",
       "      <th>credit_score</th>\n",
       "      <th>age</th>\n",
       "      <th>tenure</th>\n",
       "      <th>balance</th>\n",
       "      <th>num_of_products</th>\n",
       "      <th>has_cr_card</th>\n",
       "      <th>is_active_member</th>\n",
       "      <th>estimated_salary</th>\n",
       "      <th>exited</th>\n",
       "      <th>geography_Germany</th>\n",
       "      <th>geography_Spain</th>\n",
       "      <th>gender_Male</th>\n",
       "    </tr>\n",
       "  </thead>\n",
       "  <tbody>\n",
       "    <tr>\n",
       "      <th>0</th>\n",
       "      <td>619</td>\n",
       "      <td>42</td>\n",
       "      <td>2</td>\n",
       "      <td>0</td>\n",
       "      <td>1</td>\n",
       "      <td>1</td>\n",
       "      <td>1</td>\n",
       "      <td>101348</td>\n",
       "      <td>1</td>\n",
       "      <td>0</td>\n",
       "      <td>0</td>\n",
       "      <td>0</td>\n",
       "    </tr>\n",
       "    <tr>\n",
       "      <th>1</th>\n",
       "      <td>608</td>\n",
       "      <td>41</td>\n",
       "      <td>1</td>\n",
       "      <td>83807</td>\n",
       "      <td>1</td>\n",
       "      <td>0</td>\n",
       "      <td>1</td>\n",
       "      <td>112542</td>\n",
       "      <td>0</td>\n",
       "      <td>0</td>\n",
       "      <td>1</td>\n",
       "      <td>0</td>\n",
       "    </tr>\n",
       "    <tr>\n",
       "      <th>2</th>\n",
       "      <td>502</td>\n",
       "      <td>42</td>\n",
       "      <td>8</td>\n",
       "      <td>159660</td>\n",
       "      <td>3</td>\n",
       "      <td>1</td>\n",
       "      <td>0</td>\n",
       "      <td>113931</td>\n",
       "      <td>1</td>\n",
       "      <td>0</td>\n",
       "      <td>0</td>\n",
       "      <td>0</td>\n",
       "    </tr>\n",
       "    <tr>\n",
       "      <th>3</th>\n",
       "      <td>699</td>\n",
       "      <td>39</td>\n",
       "      <td>1</td>\n",
       "      <td>0</td>\n",
       "      <td>2</td>\n",
       "      <td>0</td>\n",
       "      <td>0</td>\n",
       "      <td>93826</td>\n",
       "      <td>0</td>\n",
       "      <td>0</td>\n",
       "      <td>0</td>\n",
       "      <td>0</td>\n",
       "    </tr>\n",
       "    <tr>\n",
       "      <th>4</th>\n",
       "      <td>850</td>\n",
       "      <td>43</td>\n",
       "      <td>2</td>\n",
       "      <td>125510</td>\n",
       "      <td>1</td>\n",
       "      <td>1</td>\n",
       "      <td>1</td>\n",
       "      <td>79084</td>\n",
       "      <td>0</td>\n",
       "      <td>0</td>\n",
       "      <td>1</td>\n",
       "      <td>0</td>\n",
       "    </tr>\n",
       "  </tbody>\n",
       "</table>\n",
       "</div>"
      ],
      "text/plain": [
       "   credit_score  age  tenure  balance  num_of_products  has_cr_card  \\\n",
       "0           619   42       2        0                1            1   \n",
       "1           608   41       1    83807                1            0   \n",
       "2           502   42       8   159660                3            1   \n",
       "3           699   39       1        0                2            0   \n",
       "4           850   43       2   125510                1            1   \n",
       "\n",
       "   is_active_member  estimated_salary  exited  geography_Germany  \\\n",
       "0                 1            101348       1                  0   \n",
       "1                 1            112542       0                  0   \n",
       "2                 0            113931       1                  0   \n",
       "3                 0             93826       0                  0   \n",
       "4                 1             79084       0                  0   \n",
       "\n",
       "   geography_Spain  gender_Male  \n",
       "0                0            0  \n",
       "1                1            0  \n",
       "2                0            0  \n",
       "3                0            0  \n",
       "4                1            0  "
      ]
     },
     "execution_count": 22,
     "metadata": {},
     "output_type": "execute_result"
    }
   ],
   "source": [
    "df.head()"
   ]
  },
  {
   "cell_type": "markdown",
   "metadata": {},
   "source": [
    "**Вывод:** Проведена предварительная обработка данных.\n",
    "- Заменены пропуски в `tenure` (сколько лет человек является клиентом банка) случайными числами в диапазоне распределения параметра. Природа пропусков непонятна. Необходимо уточнить почему они могли появится.\n",
    "- Также необходимо уточнить, почему `estimated_salary` (предполагаемая заработная плата) имеет равномерное распределение. Возможно сдесь ошибка и это не предполагаемая заработная плата. Возможно также что выгрузка данных производилась равномерно по данному параметру.\n",
    "- Удалены параметры `row_number, customer_id, surname`, так как для дальнейшего анализа нам не требуестя знание индекса строки в данных, уникального идентификатора клиента, фамилии (зависимости ухода клиента от этих данных нет).\n",
    "- Преобразованы строковые дискретные переменные `Geography и Gender` в удобные численные значения техникой One Hot Encoding."
   ]
  },
  {
   "cell_type": "markdown",
   "metadata": {},
   "source": [
    "## Исследование задачи"
   ]
  },
  {
   "cell_type": "markdown",
   "metadata": {},
   "source": [
    "### Разделение данных"
   ]
  },
  {
   "cell_type": "markdown",
   "metadata": {},
   "source": [
    "Разделим данные на x - параметры и y - целевой признак. "
   ]
  },
  {
   "cell_type": "code",
   "execution_count": 23,
   "metadata": {},
   "outputs": [],
   "source": [
    "x = df.drop('exited', axis=1)\n",
    "y = df.exited"
   ]
  },
  {
   "cell_type": "markdown",
   "metadata": {},
   "source": [
    "~Для того чтобы модель равноценно относилась к различным параметрам, масштабируем `credit_score, age, tenure, estimated_salary`~"
   ]
  },
  {
   "cell_type": "code",
   "execution_count": 24,
   "metadata": {},
   "outputs": [],
   "source": [
    "#tag = ['credit_score', 'age', 'tenure', 'estimated_salary', 'balance', 'num_of_products']\n",
    "#scaler = StandardScaler().fit(x[tag])\n",
    "#x[tag] = scaler.transform(x[tag])"
   ]
  },
  {
   "cell_type": "markdown",
   "metadata": {},
   "source": [
    "Разделим данные на обучающую, валидационную и тестовую выборки в пропорции 60/20/20."
   ]
  },
  {
   "cell_type": "code",
   "execution_count": 25,
   "metadata": {
    "scrolled": true
   },
   "outputs": [],
   "source": [
    "x_train, x_valid, y_train, y_valid = train_test_split(x, y, test_size=0.4, random_state = 7)"
   ]
  },
  {
   "cell_type": "code",
   "execution_count": 26,
   "metadata": {
    "scrolled": true
   },
   "outputs": [],
   "source": [
    "x_valid, x_test, y_valid, y_test = train_test_split(x_valid, y_valid, test_size=0.5, random_state = 7)"
   ]
  },
  {
   "cell_type": "code",
   "execution_count": 27,
   "metadata": {},
   "outputs": [
    {
     "name": "stdout",
     "output_type": "stream",
     "text": [
      "Размеры обучающих выборок (6000, 11), (6000,)\n",
      "Размеры валидационных выборок (2000, 11), (2000,)\n",
      "Размеры тестовых выборок (2000, 11), (2000,)\n"
     ]
    }
   ],
   "source": [
    "print(f'Размеры обучающих выборок {x_train.shape}, {y_train.shape}\\\n",
    "\\nРазмеры валидационных выборок {x_valid.shape}, {y_valid.shape}\\\n",
    "\\nРазмеры тестовых выборок {x_test.shape}, {y_test.shape}')"
   ]
  },
  {
   "cell_type": "code",
   "execution_count": 28,
   "metadata": {},
   "outputs": [],
   "source": [
    "tag = ['credit_score', 'age', 'tenure', 'estimated_salary', 'balance', 'num_of_products']\n",
    "\n",
    "scaler = StandardScaler().fit(x_train[tag])\n",
    "\n",
    "x_train[tag] = scaler.transform(x_train[tag])\n",
    "x_valid[tag] = scaler.transform(x_valid[tag])\n",
    "x_test[tag] = scaler.transform(x_test[tag])"
   ]
  },
  {
   "cell_type": "markdown",
   "metadata": {},
   "source": [
    "Теперь наша обучающая выборка выглядит так"
   ]
  },
  {
   "cell_type": "code",
   "execution_count": 29,
   "metadata": {},
   "outputs": [
    {
     "data": {
      "text/html": [
       "<div>\n",
       "<style scoped>\n",
       "    .dataframe tbody tr th:only-of-type {\n",
       "        vertical-align: middle;\n",
       "    }\n",
       "\n",
       "    .dataframe tbody tr th {\n",
       "        vertical-align: top;\n",
       "    }\n",
       "\n",
       "    .dataframe thead th {\n",
       "        text-align: right;\n",
       "    }\n",
       "</style>\n",
       "<table border=\"1\" class=\"dataframe\">\n",
       "  <thead>\n",
       "    <tr style=\"text-align: right;\">\n",
       "      <th></th>\n",
       "      <th>credit_score</th>\n",
       "      <th>age</th>\n",
       "      <th>tenure</th>\n",
       "      <th>balance</th>\n",
       "      <th>num_of_products</th>\n",
       "      <th>has_cr_card</th>\n",
       "      <th>is_active_member</th>\n",
       "      <th>estimated_salary</th>\n",
       "      <th>geography_Germany</th>\n",
       "      <th>geography_Spain</th>\n",
       "      <th>gender_Male</th>\n",
       "    </tr>\n",
       "  </thead>\n",
       "  <tbody>\n",
       "    <tr>\n",
       "      <th>8050</th>\n",
       "      <td>0.584215</td>\n",
       "      <td>-0.562414</td>\n",
       "      <td>-1.028932</td>\n",
       "      <td>-1.242621</td>\n",
       "      <td>0.802288</td>\n",
       "      <td>0</td>\n",
       "      <td>0</td>\n",
       "      <td>0.532599</td>\n",
       "      <td>0</td>\n",
       "      <td>0</td>\n",
       "      <td>1</td>\n",
       "    </tr>\n",
       "    <tr>\n",
       "      <th>1265</th>\n",
       "      <td>-1.217221</td>\n",
       "      <td>1.533243</td>\n",
       "      <td>0.004651</td>\n",
       "      <td>0.633985</td>\n",
       "      <td>2.502650</td>\n",
       "      <td>1</td>\n",
       "      <td>0</td>\n",
       "      <td>0.380518</td>\n",
       "      <td>0</td>\n",
       "      <td>0</td>\n",
       "      <td>0</td>\n",
       "    </tr>\n",
       "    <tr>\n",
       "      <th>961</th>\n",
       "      <td>0.355131</td>\n",
       "      <td>-0.371900</td>\n",
       "      <td>-0.339876</td>\n",
       "      <td>0.970488</td>\n",
       "      <td>-0.898075</td>\n",
       "      <td>1</td>\n",
       "      <td>0</td>\n",
       "      <td>0.234883</td>\n",
       "      <td>0</td>\n",
       "      <td>1</td>\n",
       "      <td>1</td>\n",
       "    </tr>\n",
       "    <tr>\n",
       "      <th>2510</th>\n",
       "      <td>-0.269644</td>\n",
       "      <td>1.247471</td>\n",
       "      <td>-1.028932</td>\n",
       "      <td>0.032290</td>\n",
       "      <td>-0.898075</td>\n",
       "      <td>1</td>\n",
       "      <td>1</td>\n",
       "      <td>-0.266864</td>\n",
       "      <td>0</td>\n",
       "      <td>0</td>\n",
       "      <td>0</td>\n",
       "    </tr>\n",
       "    <tr>\n",
       "      <th>8628</th>\n",
       "      <td>0.552977</td>\n",
       "      <td>0.485414</td>\n",
       "      <td>-0.684404</td>\n",
       "      <td>-1.242621</td>\n",
       "      <td>0.802288</td>\n",
       "      <td>0</td>\n",
       "      <td>1</td>\n",
       "      <td>0.913113</td>\n",
       "      <td>0</td>\n",
       "      <td>0</td>\n",
       "      <td>1</td>\n",
       "    </tr>\n",
       "  </tbody>\n",
       "</table>\n",
       "</div>"
      ],
      "text/plain": [
       "      credit_score       age    tenure   balance  num_of_products  \\\n",
       "8050      0.584215 -0.562414 -1.028932 -1.242621         0.802288   \n",
       "1265     -1.217221  1.533243  0.004651  0.633985         2.502650   \n",
       "961       0.355131 -0.371900 -0.339876  0.970488        -0.898075   \n",
       "2510     -0.269644  1.247471 -1.028932  0.032290        -0.898075   \n",
       "8628      0.552977  0.485414 -0.684404 -1.242621         0.802288   \n",
       "\n",
       "      has_cr_card  is_active_member  estimated_salary  geography_Germany  \\\n",
       "8050            0                 0          0.532599                  0   \n",
       "1265            1                 0          0.380518                  0   \n",
       "961             1                 0          0.234883                  0   \n",
       "2510            1                 1         -0.266864                  0   \n",
       "8628            0                 1          0.913113                  0   \n",
       "\n",
       "      geography_Spain  gender_Male  \n",
       "8050                0            1  \n",
       "1265                0            0  \n",
       "961                 1            1  \n",
       "2510                0            0  \n",
       "8628                0            1  "
      ]
     },
     "execution_count": 29,
     "metadata": {},
     "output_type": "execute_result"
    }
   ],
   "source": [
    "x_train.head(5)"
   ]
  },
  {
   "cell_type": "markdown",
   "metadata": {},
   "source": [
    "### Проверка на баланс классов"
   ]
  },
  {
   "cell_type": "code",
   "execution_count": 30,
   "metadata": {
    "scrolled": true
   },
   "outputs": [
    {
     "name": "stdout",
     "output_type": "stream",
     "text": [
      "0    0.7963\n",
      "1    0.2037\n",
      "Name: exited, dtype: float64\n"
     ]
    },
    {
     "data": {
      "image/png": "[encoded data removed]",
      "text/plain": [
       "<Figure size 432x288 with 1 Axes>"
      ]
     },
     "metadata": {
      "needs_background": "light"
     },
     "output_type": "display_data"
    }
   ],
   "source": [
    "print(y.value_counts(normalize=True))\n",
    "y.value_counts().plot(kind='bar', grid=True);"
   ]
  },
  {
   "cell_type": "markdown",
   "metadata": {},
   "source": [
    "Видно что только 20% данных имеют `Exited = 1`, что подтверждает уход клиента из банка. Данные имеют дисбаланс, что влияет на качество обучаемых моделей."
   ]
  },
  {
   "cell_type": "markdown",
   "metadata": {},
   "source": [
    "### Добавим необходимые функции"
   ]
  },
  {
   "cell_type": "markdown",
   "metadata": {},
   "source": [
    "Добавим функцию для подбора наилучших параметров случайного леса. Для поиска наилучшей модели и ее параметров введем переменную `super_best_score`, которой будем искать наибольшее значение необходимого нам параметра (в нашем случае f1-меру)."
   ]
  },
  {
   "cell_type": "code",
   "execution_count": 31,
   "metadata": {},
   "outputs": [],
   "source": [
    "super_best_score = 0"
   ]
  },
  {
   "cell_type": "code",
   "execution_count": 32,
   "metadata": {},
   "outputs": [],
   "source": [
    "def def_forest(features_train, target_train, class_weight):\n",
    "    # Подберем сначала лучшее количество глубины дерева\n",
    "    global super_best_score\n",
    "    global super_best_model\n",
    "    best_score = 0\n",
    "    for depth in range(5, 30, 1):\n",
    "        model = RandomForestClassifier(random_state=7, n_estimators=100, max_depth=depth, class_weight=class_weight)\n",
    "        model.fit(features_train, target_train)\n",
    "        predictions = model.predict(x_valid)\n",
    "        score = f1_score(y_valid, predictions)\n",
    "        if score > best_score:\n",
    "            best_depth = depth\n",
    "            best_score = score\n",
    "\n",
    "    # Теперь подберем лучшее количество деревьев\n",
    "    best_score = 0\n",
    "    for est in range(10, 500, 10):\n",
    "        model = RandomForestClassifier(random_state=7, n_estimators=est, max_depth=best_depth, class_weight=class_weight)\n",
    "        model.fit(features_train, target_train)\n",
    "        predictions = model.predict(x_valid)\n",
    "        score = f1_score(y_valid, predictions)\n",
    "        if score > best_score:\n",
    "            best_est = est\n",
    "            best_score = score\n",
    "            best_model = model\n",
    "        if score > super_best_score:\n",
    "            super_best_score = score\n",
    "            super_best_model = model\n",
    "    \n",
    "    # Посчитаем вероятность предсказаний для AUC-ROC\n",
    "    probabilities = best_model.predict_proba(x_valid)[:, 1]\n",
    "    roc_auc = roc_auc_score(y_valid, probabilities)\n",
    "    \n",
    "    print(f'Наилучшее количество деревьев {best_est} и лучшая глубина {best_depth} случайного леса при f1-мере {best_score}.\\\n",
    "          \\nAUC-ROC при данных параметрах {roc_auc}')"
   ]
  },
  {
   "cell_type": "markdown",
   "metadata": {},
   "source": [
    "Добавим функцию для подбора наилучших параметров решающего дерева."
   ]
  },
  {
   "cell_type": "code",
   "execution_count": 33,
   "metadata": {},
   "outputs": [],
   "source": [
    "def def_tree(features_train, target_train, class_weight):\n",
    "    # Подберем лучшее количество глубины дерева\n",
    "    global super_best_score\n",
    "    global super_best_model\n",
    "    best_score = 0\n",
    "    for depth in range(5, 50, 1):\n",
    "        model = DecisionTreeClassifier(random_state=7, max_depth=depth, class_weight=class_weight)\n",
    "        model.fit(features_train, target_train)\n",
    "        predictions = model.predict(x_valid)\n",
    "        score = f1_score(y_valid, predictions)\n",
    "        if score > best_score:\n",
    "            best_depth = depth\n",
    "            best_score = score\n",
    "            best_model = model\n",
    "        if score > super_best_score:\n",
    "            super_best_score = score\n",
    "            super_best_model = model\n",
    "\n",
    "    # Посчитаем вероятность предсказаний для AUC-ROC\n",
    "    probabilities = best_model.predict_proba(x_valid)[:, 1]\n",
    "    roc_auc = roc_auc_score(y_valid, probabilities)\n",
    "    \n",
    "    print(f'Лучшая глубина решающего дерева {best_depth} при f1-мере {best_score}. \\nAUC-ROC при данных параметрах {roc_auc}')"
   ]
  },
  {
   "cell_type": "markdown",
   "metadata": {},
   "source": [
    "Добавим функцию для обучения логистической регрессии."
   ]
  },
  {
   "cell_type": "code",
   "execution_count": 34,
   "metadata": {},
   "outputs": [],
   "source": [
    "def def_logistic(features_train, target_train, class_weight):\n",
    "    global super_best_score\n",
    "    global super_best_model\n",
    "    model = LogisticRegression(random_state=7, solver='liblinear', max_iter=10000, class_weight=class_weight)\n",
    "    model.fit(features_train, target_train)\n",
    "    predictions = model.predict(x_valid)\n",
    "    score = f1_score(y_valid, predictions)\n",
    "    if score > super_best_score:\n",
    "        super_best_score = score\n",
    "        super_best_model = model\n",
    "\n",
    "    probabilities = model.predict_proba(x_valid)[:, 1]\n",
    "    roc_auc = roc_auc_score(y_valid, probabilities)\n",
    "    \n",
    "    print(f'f1-мера логистической регрессии {score}. \\nAUC-ROC при данных параметрах {roc_auc}')"
   ]
  },
  {
   "cell_type": "markdown",
   "metadata": {},
   "source": [
    "Добавим функцию для увеличения выборки. Она потребуется для уменьшения дисбаланса классов."
   ]
  },
  {
   "cell_type": "code",
   "execution_count": 35,
   "metadata": {},
   "outputs": [],
   "source": [
    "def upsample(features, target, repeat):\n",
    "    features_zeros = features[target == 0]\n",
    "    features_ones = features[target == 1]\n",
    "    target_zeros = target[target == 0]\n",
    "    target_ones = target[target == 1]\n",
    "\n",
    "    features_upsampled = pd.concat([features_zeros] + [features_ones] * repeat)\n",
    "    target_upsampled = pd.concat([target_zeros] + [target_ones] * repeat)\n",
    "    \n",
    "    features_upsampled, target_upsampled = shuffle(\n",
    "        features_upsampled, target_upsampled, random_state=10)\n",
    "    \n",
    "    return features_upsampled, target_upsampled"
   ]
  },
  {
   "cell_type": "markdown",
   "metadata": {},
   "source": [
    "Добавим функцию для уменьшения выборки. Она потребуется для уменьшения дисбаланса классов."
   ]
  },
  {
   "cell_type": "code",
   "execution_count": 36,
   "metadata": {},
   "outputs": [],
   "source": [
    "def downsample(features, target, fraction):\n",
    "    features_zeros = features[target == 0]\n",
    "    features_ones = features[target == 1]\n",
    "    target_zeros = target[target == 0]\n",
    "    target_ones = target[target == 1]\n",
    "\n",
    "    features_downsampled = pd.concat([features_zeros.sample(frac=fraction, random_state=5)] + [features_ones])\n",
    "    target_downsampled = pd.concat([target_zeros.sample(frac=fraction, random_state=5)] + [target_ones])\n",
    "    \n",
    "    features_downsampled, target_downsampled = shuffle(\n",
    "        features_downsampled, target_downsampled, random_state=12345)\n",
    "    \n",
    "    return features_downsampled, target_downsampled"
   ]
  },
  {
   "cell_type": "markdown",
   "metadata": {},
   "source": [
    "### Обучим модели классификации"
   ]
  },
  {
   "cell_type": "markdown",
   "metadata": {},
   "source": [
    "Обучим модели классификации и проверим метрики без учета баланса классов"
   ]
  },
  {
   "cell_type": "markdown",
   "metadata": {},
   "source": [
    "Решающее дерево"
   ]
  },
  {
   "cell_type": "code",
   "execution_count": 37,
   "metadata": {},
   "outputs": [
    {
     "name": "stdout",
     "output_type": "stream",
     "text": [
      "Лучшая глубина решающего дерева 7 при f1-мере 0.5973645680819912. \n",
      "AUC-ROC при данных параметрах 0.826509960071717\n"
     ]
    }
   ],
   "source": [
    "def_tree(x_train, y_train, class_weight=None)"
   ]
  },
  {
   "cell_type": "markdown",
   "metadata": {},
   "source": [
    "Случайный лес"
   ]
  },
  {
   "cell_type": "code",
   "execution_count": 38,
   "metadata": {},
   "outputs": [
    {
     "name": "stdout",
     "output_type": "stream",
     "text": [
      "Наилучшее количество деревьев 410 и лучшая глубина 17 случайного леса при f1-мере 0.5862068965517241.          \n",
      "AUC-ROC при данных параметрах 0.8525733393464081\n"
     ]
    }
   ],
   "source": [
    "def_forest(x_train, y_train, class_weight=None)"
   ]
  },
  {
   "cell_type": "markdown",
   "metadata": {},
   "source": [
    "Логистическая регрессия"
   ]
  },
  {
   "cell_type": "code",
   "execution_count": 39,
   "metadata": {},
   "outputs": [
    {
     "name": "stdout",
     "output_type": "stream",
     "text": [
      "f1-мера логистической регрессии 0.3079777365491651. \n",
      "AUC-ROC при данных параметрах 0.777792269218138\n"
     ]
    }
   ],
   "source": [
    "def_logistic(x_train, y_train, class_weight=None)"
   ]
  },
  {
   "cell_type": "code",
   "execution_count": 40,
   "metadata": {},
   "outputs": [
    {
     "name": "stdout",
     "output_type": "stream",
     "text": [
      "На данном этапе лучшей моделью является: DecisionTreeClassifier(max_depth=7, random_state=7) при f1-мере 0.5973645680819912\n"
     ]
    }
   ],
   "source": [
    "print(f'На данном этапе лучшей моделью является: {super_best_model} при f1-мере {super_best_score}')"
   ]
  },
  {
   "cell_type": "markdown",
   "metadata": {},
   "source": [
    "**Вывод:** \n",
    "- Обучены модели без учета дисбаланса классов\n",
    "- Лучший результат получило логическое дерево\n",
    "- Результат случайного леса сопоставим с деревом решений\n",
    "- Худший результат показала регрессия - очень низкий показатель f1 меры"
   ]
  },
  {
   "cell_type": "markdown",
   "metadata": {},
   "source": [
    "## Борьба с дисбалансом"
   ]
  },
  {
   "cell_type": "markdown",
   "metadata": {},
   "source": [
    "### Взешивание классов"
   ]
  },
  {
   "cell_type": "markdown",
   "metadata": {},
   "source": [
    "Посмотрим как изменятся метрики на основе простого взвешивания классов (укажем в моделях параметр class_weight='balanced').\n",
    "\n",
    "Решающее дерево"
   ]
  },
  {
   "cell_type": "code",
   "execution_count": 41,
   "metadata": {},
   "outputs": [
    {
     "name": "stdout",
     "output_type": "stream",
     "text": [
      "Лучшая глубина решающего дерева 6 при f1-мере 0.5637209302325581. \n",
      "AUC-ROC при данных параметрах 0.8236799389054843\n"
     ]
    }
   ],
   "source": [
    "def_tree(x_train, y_train, class_weight='balanced')"
   ]
  },
  {
   "cell_type": "markdown",
   "metadata": {},
   "source": [
    "Случайный лес"
   ]
  },
  {
   "cell_type": "code",
   "execution_count": 42,
   "metadata": {
    "scrolled": true
   },
   "outputs": [
    {
     "name": "stdout",
     "output_type": "stream",
     "text": [
      "Наилучшее количество деревьев 120 и лучшая глубина 9 случайного леса при f1-мере 0.6357142857142857.          \n",
      "AUC-ROC при данных параметрах 0.8615945228640882\n"
     ]
    }
   ],
   "source": [
    "def_forest(x_train, y_train, class_weight='balanced')"
   ]
  },
  {
   "cell_type": "markdown",
   "metadata": {},
   "source": [
    "Логистическая регрессия"
   ]
  },
  {
   "cell_type": "code",
   "execution_count": 43,
   "metadata": {},
   "outputs": [
    {
     "name": "stdout",
     "output_type": "stream",
     "text": [
      "f1-мера логистической регрессии 0.5036101083032491. \n",
      "AUC-ROC при данных параметрах 0.7818385238006195\n"
     ]
    }
   ],
   "source": [
    "def_logistic(x_train, y_train, class_weight='balanced')"
   ]
  },
  {
   "cell_type": "code",
   "execution_count": 44,
   "metadata": {},
   "outputs": [
    {
     "name": "stdout",
     "output_type": "stream",
     "text": [
      "На данном этапе лучшей моделью является: RandomForestClassifier(class_weight='balanced', max_depth=9, n_estimators=120,\n",
      "                       random_state=7) при f1-мере 0.6357142857142857\n"
     ]
    }
   ],
   "source": [
    "print(f'На данном этапе лучшей моделью является: {super_best_model} при f1-мере {super_best_score}')"
   ]
  },
  {
   "cell_type": "markdown",
   "metadata": {},
   "source": [
    "**Вывод:**\n",
    "- Для решающего дерева метод работы с дисбалансом путем взвешивания классов даже немного ухудшил параметр f1-меры 0.59 против 0.56.\n",
    "- Для случайного леса наоборот улучшил f1-меру: 0.58 против 0.63.\n",
    "- Метрики логистической регрессии значительно улучшились: f1-мера увеличилась с 0.3 до 0.5. Регрессия скорее всего плохо работает при дисбалансе классов."
   ]
  },
  {
   "cell_type": "markdown",
   "metadata": {},
   "source": [
    "### Увеличение выборки"
   ]
  },
  {
   "cell_type": "markdown",
   "metadata": {},
   "source": [
    "Увеличим количество обучающих данных, содержащих `Exited = 1`, так чтобы соблюдался баланс классов. Применим ранее написанную функцию upsample. И проверим результат."
   ]
  },
  {
   "cell_type": "code",
   "execution_count": 45,
   "metadata": {},
   "outputs": [
    {
     "name": "stdout",
     "output_type": "stream",
     "text": [
      "1    0.508506\n",
      "0    0.491494\n",
      "Name: exited, dtype: float64\n"
     ]
    },
    {
     "data": {
      "image/png": "[encoded data removed]",
      "text/plain": [
       "<Figure size 432x288 with 1 Axes>"
      ]
     },
     "metadata": {
      "needs_background": "light"
     },
     "output_type": "display_data"
    }
   ],
   "source": [
    "# Увеличим обучающую выборку данными, содержащими Exited = 1. Применим ранее написанную функцию upsample.\n",
    "features_upsampled, target_upsampled = upsample(x_train, y_train, 4)\n",
    "\n",
    "# Результат\n",
    "print(target_upsampled.value_counts(normalize=True))\n",
    "target_upsampled.value_counts().plot(kind='bar', grid=True);"
   ]
  },
  {
   "cell_type": "markdown",
   "metadata": {},
   "source": [
    "Посмотрим как изменятся метрики при увеличении выборки.\n",
    "\n",
    "Решающее дерево"
   ]
  },
  {
   "cell_type": "code",
   "execution_count": 46,
   "metadata": {},
   "outputs": [
    {
     "name": "stdout",
     "output_type": "stream",
     "text": [
      "Лучшая глубина решающего дерева 6 при f1-мере 0.5650557620817844. \n",
      "AUC-ROC при данных параметрах 0.8259332705836506\n"
     ]
    }
   ],
   "source": [
    "def_tree(features_upsampled, target_upsampled, class_weight=None)"
   ]
  },
  {
   "cell_type": "markdown",
   "metadata": {},
   "source": [
    "Случайный лес"
   ]
  },
  {
   "cell_type": "code",
   "execution_count": 47,
   "metadata": {},
   "outputs": [
    {
     "name": "stdout",
     "output_type": "stream",
     "text": [
      "Наилучшее количество деревьев 450 и лучшая глубина 9 случайного леса при f1-мере 0.6262188515709642.          \n",
      "AUC-ROC при данных параметрах 0.8609926915999755\n"
     ]
    }
   ],
   "source": [
    "def_forest(features_upsampled, target_upsampled, class_weight=None)"
   ]
  },
  {
   "cell_type": "markdown",
   "metadata": {},
   "source": [
    "Логистическая регрессия"
   ]
  },
  {
   "cell_type": "code",
   "execution_count": 48,
   "metadata": {
    "scrolled": true
   },
   "outputs": [
    {
     "name": "stdout",
     "output_type": "stream",
     "text": [
      "f1-мера логистической регрессии 0.497808939526731. \n",
      "AUC-ROC при данных параметрах 0.7818165247465787\n"
     ]
    }
   ],
   "source": [
    "def_logistic(features_upsampled, target_upsampled, class_weight=None)"
   ]
  },
  {
   "cell_type": "code",
   "execution_count": 49,
   "metadata": {},
   "outputs": [
    {
     "name": "stdout",
     "output_type": "stream",
     "text": [
      "На данном этапе лучшей моделью является: RandomForestClassifier(class_weight='balanced', max_depth=9, n_estimators=120,\n",
      "                       random_state=7) при f1-мере 0.6357142857142857\n"
     ]
    }
   ],
   "source": [
    "print(f'На данном этапе лучшей моделью является: {super_best_model} при f1-мере {super_best_score}')"
   ]
  },
  {
   "cell_type": "markdown",
   "metadata": {},
   "source": [
    "**Вывод:**\n",
    "- Для наших моделей метод работы с дисбалансом путем увеличения обучающих данных, содержащих Exited = 1, практически не изменил параметр f1-меры относительно метода взвешивания классов (даже немного уменьшил, возможно это погрешность при обучении)."
   ]
  },
  {
   "cell_type": "markdown",
   "metadata": {},
   "source": [
    "### Уменьшение выборки"
   ]
  },
  {
   "cell_type": "markdown",
   "metadata": {},
   "source": [
    "Уменьшим количество обучающих данных, содержащих `Exited = 0`, так чтобы соблюдался баланс классов. Применим ранее написанную функцию downsample. И проверим результат."
   ]
  },
  {
   "cell_type": "code",
   "execution_count": 50,
   "metadata": {},
   "outputs": [
    {
     "name": "stdout",
     "output_type": "stream",
     "text": [
      "0    0.501214\n",
      "1    0.498786\n",
      "Name: exited, dtype: float64\n"
     ]
    },
    {
     "data": {
      "image/png": "[encoded data removed]",
      "text/plain": [
       "<Figure size 432x288 with 1 Axes>"
      ]
     },
     "metadata": {
      "needs_background": "light"
     },
     "output_type": "display_data"
    }
   ],
   "source": [
    "# Уменьшим обучающую выборку данными, содержащими Exited = 1. Применим ранее написанную функцию upsample.\n",
    "features_downsampled, target_downsampled = downsample(x_train, y_train, 0.26)\n",
    "\n",
    "# Результат\n",
    "print(target_downsampled.value_counts(normalize=True))\n",
    "target_downsampled.value_counts().plot(kind='bar', grid=True);"
   ]
  },
  {
   "cell_type": "markdown",
   "metadata": {},
   "source": [
    "Посмотрим как изменятся метрики при уменьшении выборки.\n",
    "\n",
    "Решающее дерево"
   ]
  },
  {
   "cell_type": "code",
   "execution_count": 51,
   "metadata": {},
   "outputs": [
    {
     "name": "stdout",
     "output_type": "stream",
     "text": [
      "Лучшая глубина решающего дерева 7 при f1-мере 0.5717017208413003. \n",
      "AUC-ROC при данных параметрах 0.8185180180109399\n"
     ]
    }
   ],
   "source": [
    "def_tree(features_downsampled, target_downsampled, class_weight=None)"
   ]
  },
  {
   "cell_type": "markdown",
   "metadata": {},
   "source": [
    "Случайный лес"
   ]
  },
  {
   "cell_type": "code",
   "execution_count": 52,
   "metadata": {},
   "outputs": [
    {
     "name": "stdout",
     "output_type": "stream",
     "text": [
      "Наилучшее количество деревьев 90 и лучшая глубина 11 случайного леса при f1-мере 0.6058823529411764.          \n",
      "AUC-ROC при данных параметрах 0.8520107921073679\n"
     ]
    }
   ],
   "source": [
    "def_forest(features_downsampled, target_downsampled, class_weight=None)"
   ]
  },
  {
   "cell_type": "markdown",
   "metadata": {},
   "source": [
    "Логистическая регрессия"
   ]
  },
  {
   "cell_type": "code",
   "execution_count": 53,
   "metadata": {},
   "outputs": [
    {
     "name": "stdout",
     "output_type": "stream",
     "text": [
      "f1-мера логистической регрессии 0.4967919340054996. \n",
      "AUC-ROC при данных параметрах 0.7797156150856941\n"
     ]
    }
   ],
   "source": [
    "def_logistic(features_downsampled, target_downsampled, class_weight=None)"
   ]
  },
  {
   "cell_type": "code",
   "execution_count": 54,
   "metadata": {},
   "outputs": [
    {
     "name": "stdout",
     "output_type": "stream",
     "text": [
      "На данном этапе лучшей моделью является: RandomForestClassifier(class_weight='balanced', max_depth=9, n_estimators=120,\n",
      "                       random_state=7) при f1-мере 0.6357142857142857\n"
     ]
    }
   ],
   "source": [
    "print(f'На данном этапе лучшей моделью является: {super_best_model} при f1-мере {super_best_score}')"
   ]
  },
  {
   "cell_type": "markdown",
   "metadata": {},
   "source": [
    "**Вывод:**\n",
    "- Для наших моделей метод работы с дисбалансом путем уменьшения обучающих данных, содержащих Exited = 1, аналогично как и при увеличении выборки, практически не изменил параметр f1-меры относительно метода взвешивания классов."
   ]
  },
  {
   "cell_type": "markdown",
   "metadata": {},
   "source": [
    "### Комбинированный метод"
   ]
  },
  {
   "cell_type": "markdown",
   "metadata": {},
   "source": [
    "Попробуем комбинированный метод. Немного увеличим количество обучающих данных, содержащих `Exited = 1`. Применим ранее написанную функцию upsample. Для окончательного устранения дисбаланса применим взвешивание классов (укажем в модели параметр class_weight='balanced'). И проверим результат на наилучшем случайном лесе."
   ]
  },
  {
   "cell_type": "markdown",
   "metadata": {},
   "source": [
    "Случайный лес"
   ]
  },
  {
   "cell_type": "code",
   "execution_count": 55,
   "metadata": {},
   "outputs": [
    {
     "name": "stdout",
     "output_type": "stream",
     "text": [
      "0    0.659063\n",
      "1    0.340937\n",
      "Name: exited, dtype: float64\n"
     ]
    },
    {
     "data": {
      "image/png": "[encoded data removed]",
      "text/plain": [
       "<Figure size 432x288 with 1 Axes>"
      ]
     },
     "metadata": {
      "needs_background": "light"
     },
     "output_type": "display_data"
    }
   ],
   "source": [
    "# Увеличим обучающую выборку данными, содержащими Exited = 1. Применим ранее написанную функцию upsample.\n",
    "features_upsampled, target_upsampled = upsample(x_train, y_train, 2)\n",
    "\n",
    "# Результат\n",
    "print(target_upsampled.value_counts(normalize=True))\n",
    "target_upsampled.value_counts().plot(kind='bar', grid=True);"
   ]
  },
  {
   "cell_type": "code",
   "execution_count": 56,
   "metadata": {},
   "outputs": [
    {
     "name": "stdout",
     "output_type": "stream",
     "text": [
      "Наилучшее количество деревьев 130 и лучшая глубина 14 случайного леса при f1-мере 0.6251691474966171.          \n",
      "AUC-ROC при данных параметрах 0.8564593151065932\n"
     ]
    }
   ],
   "source": [
    "def_forest(features_upsampled, target_upsampled, class_weight='balanced')"
   ]
  },
  {
   "cell_type": "code",
   "execution_count": 57,
   "metadata": {},
   "outputs": [
    {
     "name": "stdout",
     "output_type": "stream",
     "text": [
      "На данном этапе лучшей моделью является: RandomForestClassifier(class_weight='balanced', max_depth=9, n_estimators=120,\n",
      "                       random_state=7) при f1-мере 0.6357142857142857\n"
     ]
    }
   ],
   "source": [
    "print(f'На данном этапе лучшей моделью является: {super_best_model} при f1-мере {super_best_score}')"
   ]
  },
  {
   "cell_type": "markdown",
   "metadata": {},
   "source": [
    "**Вывод:**\n",
    "- Победил случайный лес с параметрами class_weight='balanced', max_depth=9, n_estimators=120 при при f1-мере равной 0.6357, а это значит что простое взвешивание классов в нашей задачи дало лучший результат в борьбе с дисбалансом классов.\n",
    "- Для регрессии скорее всего критичен баланс классов, так как она заметно улучшила свои показатели при устранении дисбаланса."
   ]
  },
  {
   "cell_type": "markdown",
   "metadata": {},
   "source": [
    "## Тестирование модели"
   ]
  },
  {
   "cell_type": "markdown",
   "metadata": {},
   "source": [
    "Проверим нашу лучшую модель на тестовой выборке."
   ]
  },
  {
   "cell_type": "code",
   "execution_count": 58,
   "metadata": {},
   "outputs": [],
   "source": [
    "# Посчитаем предсказания и вероятность класса = 1, \n",
    "predictions = super_best_model.predict(x_test)\n",
    "probabilities = super_best_model.predict_proba(x_test)[:, 1]\n",
    "fpr, tpr, thresholds = roc_curve(y_test, probabilities)\n",
    "precision, recall, thresholds = precision_recall_curve(y_test, probabilities)"
   ]
  },
  {
   "cell_type": "code",
   "execution_count": 59,
   "metadata": {},
   "outputs": [
    {
     "name": "stdout",
     "output_type": "stream",
     "text": [
      "F1-мера для тестовой выборки равна 0.6150341685649203\n"
     ]
    }
   ],
   "source": [
    "print('F1-мера для тестовой выборки равна', f1_score(y_test, predictions))"
   ]
  },
  {
   "cell_type": "markdown",
   "metadata": {},
   "source": [
    "Построим ROC кривую и посчитаем AUC для нее."
   ]
  },
  {
   "cell_type": "code",
   "execution_count": 60,
   "metadata": {},
   "outputs": [
    {
     "data": {
      "image/png": "[encoded data removed]",
      "text/plain": [
       "<Figure size 432x432 with 1 Axes>"
      ]
     },
     "metadata": {
      "needs_background": "light"
     },
     "output_type": "display_data"
    }
   ],
   "source": [
    "plt.figure(figsize=(6, 6))\n",
    "plt.plot(fpr, tpr)\n",
    "plt.plot([0, 1], [0, 1], linestyle='--')\n",
    "plt.xlim([0.0, 1.0])\n",
    "plt.ylim([0.0, 1.0])\n",
    "plt.xlabel('False Positive Rate')\n",
    "plt.ylabel('True Positive Rate')\n",
    "plt.title('ROC-кривая')\n",
    "plt.show()"
   ]
  },
  {
   "cell_type": "code",
   "execution_count": 61,
   "metadata": {},
   "outputs": [
    {
     "name": "stdout",
     "output_type": "stream",
     "text": [
      "Площадь под ROC кривой равна 0.8685557668608516\n"
     ]
    }
   ],
   "source": [
    "print('Площадь под ROC кривой равна', roc_auc_score(y_test, probabilities))"
   ]
  },
  {
   "cell_type": "code",
   "execution_count": 62,
   "metadata": {},
   "outputs": [
    {
     "data": {
      "image/png": "[encoded data removed]",
      "text/plain": [
       "<Figure size 432x432 with 1 Axes>"
      ]
     },
     "metadata": {
      "needs_background": "light"
     },
     "output_type": "display_data"
    }
   ],
   "source": [
    "plt.figure(figsize=(6, 6))\n",
    "plt.step(recall, precision, where='post')\n",
    "plt.xlabel('Recall')\n",
    "plt.ylabel('Precision')\n",
    "plt.ylim([0.0, 1.0])\n",
    "plt.xlim([0.0, 1.0])\n",
    "plt.title('Кривая Precision-Recall')\n",
    "plt.show() "
   ]
  },
  {
   "cell_type": "markdown",
   "metadata": {},
   "source": [
    "**Вывод:**\n",
    "- В данной работе мы исследовали предоставленные данные клиентов банка, сделали предобработку, отбросили лишние признаки и заполнили пропуски. Также были обработаны категориальные признаки и стандартизированы числовые данные.\n",
    "- Было проведено обучение и исследование различных моделей на представленных данных и столкнулись с проблемой дисбаланса.\n",
    "- Для устранения диспаланса и улучшения качества моделей были применены методы взвешивания классов, увеличения и уменьшения выборок.\n",
    "- Победила модель случайного леса с параметрами (class_weight='balanced', max_depth=9, n_estimators=120). На тестовой выборке она показала результат F1-меры равной 0.615. Площадь под ROC кривой равной 0.8685.\n",
    "- ROC-кривая равномерная, показывает как при уменьшении порога вероятности классификации мы увеличиваем количество верных предсказаний, но увы одновременно и увеличивается и ложно положительные результаты.\n",
    "- PR-кривая показывает как падает точность при уменьшении порога, но растет полнота. Их баланс учитывает f1-мера.\n",
    "- Наихудший результат показывает логистическая регрессия, особенно она чувствительна оказалась к дисбалансу классов."
   ]
  }
 ],
 "metadata": {
  "ExecuteTimeLog": [
   {
    "duration": 1107,
    "start_time": "2022-11-11T16:53:42.477Z"
   },
   {
    "duration": 194,
    "start_time": "2022-11-11T16:54:52.511Z"
   },
   {
    "duration": 13,
    "start_time": "2022-11-11T16:55:27.049Z"
   },
   {
    "duration": 14,
    "start_time": "2022-11-11T16:55:36.400Z"
   },
   {
    "duration": 289,
    "start_time": "2022-11-11T18:22:04.867Z"
   },
   {
    "duration": 5,
    "start_time": "2022-11-11T18:23:39.540Z"
   },
   {
    "duration": 9,
    "start_time": "2022-11-11T18:25:27.809Z"
   },
   {
    "duration": 4,
    "start_time": "2022-11-11T18:38:32.548Z"
   },
   {
    "duration": 5,
    "start_time": "2022-11-11T18:38:41.893Z"
   },
   {
    "duration": 11,
    "start_time": "2022-11-11T18:42:35.806Z"
   },
   {
    "duration": 15,
    "start_time": "2022-11-11T18:42:46.325Z"
   },
   {
    "duration": 12,
    "start_time": "2022-11-11T18:42:50.961Z"
   },
   {
    "duration": 10,
    "start_time": "2022-11-11T18:42:53.461Z"
   },
   {
    "duration": 6,
    "start_time": "2022-11-11T18:43:39.247Z"
   },
   {
    "duration": 4,
    "start_time": "2022-11-11T18:43:47.161Z"
   },
   {
    "duration": 19,
    "start_time": "2022-11-11T19:52:34.224Z"
   },
   {
    "duration": 8,
    "start_time": "2022-11-11T19:53:02.976Z"
   },
   {
    "duration": 47,
    "start_time": "2022-11-12T07:04:10.215Z"
   },
   {
    "duration": 1110,
    "start_time": "2022-11-12T07:04:15.654Z"
   },
   {
    "duration": 66,
    "start_time": "2022-11-12T07:04:16.767Z"
   },
   {
    "duration": 0,
    "start_time": "2022-11-12T07:04:16.835Z"
   },
   {
    "duration": 0,
    "start_time": "2022-11-12T07:04:16.836Z"
   },
   {
    "duration": 0,
    "start_time": "2022-11-12T07:04:16.837Z"
   },
   {
    "duration": 0,
    "start_time": "2022-11-12T07:04:16.838Z"
   },
   {
    "duration": 0,
    "start_time": "2022-11-12T07:04:16.839Z"
   },
   {
    "duration": 3,
    "start_time": "2022-11-12T07:04:26.655Z"
   },
   {
    "duration": 192,
    "start_time": "2022-11-12T07:04:32.879Z"
   },
   {
    "duration": 15,
    "start_time": "2022-11-12T07:04:35.622Z"
   },
   {
    "duration": 17,
    "start_time": "2022-11-12T07:04:39.193Z"
   },
   {
    "duration": 15,
    "start_time": "2022-11-12T07:04:56.054Z"
   },
   {
    "duration": 12,
    "start_time": "2022-11-12T07:05:09.718Z"
   },
   {
    "duration": 7,
    "start_time": "2022-11-12T07:05:55.220Z"
   },
   {
    "duration": 13,
    "start_time": "2022-11-12T07:06:07.538Z"
   },
   {
    "duration": 7,
    "start_time": "2022-11-12T07:06:10.142Z"
   },
   {
    "duration": 10,
    "start_time": "2022-11-12T07:06:12.594Z"
   },
   {
    "duration": 19,
    "start_time": "2022-11-12T07:38:56.520Z"
   },
   {
    "duration": 11,
    "start_time": "2022-11-12T07:39:15.475Z"
   },
   {
    "duration": 11,
    "start_time": "2022-11-12T07:39:28.399Z"
   },
   {
    "duration": 12,
    "start_time": "2022-11-12T07:39:38.508Z"
   },
   {
    "duration": 29,
    "start_time": "2022-11-12T07:40:56.595Z"
   },
   {
    "duration": 9,
    "start_time": "2022-11-12T07:41:13.211Z"
   },
   {
    "duration": 21,
    "start_time": "2022-11-12T07:41:38.598Z"
   },
   {
    "duration": 601,
    "start_time": "2022-11-12T07:42:20.074Z"
   },
   {
    "duration": 124,
    "start_time": "2022-11-12T07:43:34.288Z"
   },
   {
    "duration": 125,
    "start_time": "2022-11-12T07:44:26.902Z"
   },
   {
    "duration": 18,
    "start_time": "2022-11-12T07:49:39.122Z"
   },
   {
    "duration": 5,
    "start_time": "2022-11-12T07:49:50.492Z"
   },
   {
    "duration": 6,
    "start_time": "2022-11-12T07:49:59.061Z"
   },
   {
    "duration": 4,
    "start_time": "2022-11-12T08:15:59.275Z"
   },
   {
    "duration": 4,
    "start_time": "2022-11-12T08:16:08.432Z"
   },
   {
    "duration": 5,
    "start_time": "2022-11-12T08:16:19.813Z"
   },
   {
    "duration": 135,
    "start_time": "2022-11-12T08:16:26.568Z"
   },
   {
    "duration": 3,
    "start_time": "2022-11-12T08:16:58.196Z"
   },
   {
    "duration": 59,
    "start_time": "2022-11-12T08:16:58.201Z"
   },
   {
    "duration": 14,
    "start_time": "2022-11-12T08:16:58.262Z"
   },
   {
    "duration": 6,
    "start_time": "2022-11-12T08:16:58.278Z"
   },
   {
    "duration": 19,
    "start_time": "2022-11-12T08:16:58.286Z"
   },
   {
    "duration": 27,
    "start_time": "2022-11-12T08:16:58.307Z"
   },
   {
    "duration": 23,
    "start_time": "2022-11-12T08:16:58.336Z"
   },
   {
    "duration": 140,
    "start_time": "2022-11-12T08:16:58.361Z"
   },
   {
    "duration": 4,
    "start_time": "2022-11-12T08:16:58.504Z"
   },
   {
    "duration": 20,
    "start_time": "2022-11-12T08:16:58.510Z"
   },
   {
    "duration": 242,
    "start_time": "2022-11-12T08:16:58.531Z"
   },
   {
    "duration": 4,
    "start_time": "2022-11-12T08:17:22.448Z"
   },
   {
    "duration": 4,
    "start_time": "2022-11-12T08:17:25.996Z"
   },
   {
    "duration": 7,
    "start_time": "2022-11-12T08:17:28.634Z"
   },
   {
    "duration": 6,
    "start_time": "2022-11-12T08:17:30.519Z"
   },
   {
    "duration": 3,
    "start_time": "2022-11-12T08:17:41.793Z"
   },
   {
    "duration": 63,
    "start_time": "2022-11-12T08:17:41.799Z"
   },
   {
    "duration": 13,
    "start_time": "2022-11-12T08:17:41.863Z"
   },
   {
    "duration": 25,
    "start_time": "2022-11-12T08:17:41.877Z"
   },
   {
    "duration": 27,
    "start_time": "2022-11-12T08:17:41.904Z"
   },
   {
    "duration": 8,
    "start_time": "2022-11-12T08:17:41.933Z"
   },
   {
    "duration": 34,
    "start_time": "2022-11-12T08:17:41.943Z"
   },
   {
    "duration": 124,
    "start_time": "2022-11-12T08:17:41.979Z"
   },
   {
    "duration": 4,
    "start_time": "2022-11-12T08:17:42.105Z"
   },
   {
    "duration": 10,
    "start_time": "2022-11-12T08:17:42.110Z"
   },
   {
    "duration": 141,
    "start_time": "2022-11-12T08:17:42.122Z"
   },
   {
    "duration": 4,
    "start_time": "2022-11-12T08:17:42.265Z"
   },
   {
    "duration": 4,
    "start_time": "2022-11-12T08:18:26.422Z"
   },
   {
    "duration": 91,
    "start_time": "2022-11-12T08:18:26.429Z"
   },
   {
    "duration": 12,
    "start_time": "2022-11-12T08:18:26.522Z"
   },
   {
    "duration": 21,
    "start_time": "2022-11-12T08:18:26.536Z"
   },
   {
    "duration": 22,
    "start_time": "2022-11-12T08:18:26.558Z"
   },
   {
    "duration": 5,
    "start_time": "2022-11-12T08:18:26.583Z"
   },
   {
    "duration": 25,
    "start_time": "2022-11-12T08:18:26.590Z"
   },
   {
    "duration": 156,
    "start_time": "2022-11-12T08:18:26.618Z"
   },
   {
    "duration": 9,
    "start_time": "2022-11-12T08:18:26.776Z"
   },
   {
    "duration": 26,
    "start_time": "2022-11-12T08:18:26.789Z"
   },
   {
    "duration": 169,
    "start_time": "2022-11-12T08:18:26.816Z"
   },
   {
    "duration": 3,
    "start_time": "2022-11-12T08:18:26.987Z"
   },
   {
    "duration": 3,
    "start_time": "2022-11-12T08:20:00.396Z"
   },
   {
    "duration": 72,
    "start_time": "2022-11-12T08:20:00.401Z"
   },
   {
    "duration": 12,
    "start_time": "2022-11-12T08:20:00.475Z"
   },
   {
    "duration": 37,
    "start_time": "2022-11-12T08:20:00.489Z"
   },
   {
    "duration": 33,
    "start_time": "2022-11-12T08:20:00.527Z"
   },
   {
    "duration": 22,
    "start_time": "2022-11-12T08:20:00.562Z"
   },
   {
    "duration": 57,
    "start_time": "2022-11-12T08:20:00.585Z"
   },
   {
    "duration": 151,
    "start_time": "2022-11-12T08:20:00.644Z"
   },
   {
    "duration": 4,
    "start_time": "2022-11-12T08:20:00.797Z"
   },
   {
    "duration": 43,
    "start_time": "2022-11-12T08:20:00.804Z"
   },
   {
    "duration": 159,
    "start_time": "2022-11-12T08:20:00.848Z"
   },
   {
    "duration": 4,
    "start_time": "2022-11-12T08:20:01.009Z"
   },
   {
    "duration": 4,
    "start_time": "2022-11-12T08:34:07.918Z"
   },
   {
    "duration": 5,
    "start_time": "2022-11-12T08:34:28.770Z"
   },
   {
    "duration": 3,
    "start_time": "2022-11-12T08:34:34.010Z"
   },
   {
    "duration": 58,
    "start_time": "2022-11-12T08:34:34.015Z"
   },
   {
    "duration": 11,
    "start_time": "2022-11-12T08:34:34.074Z"
   },
   {
    "duration": 7,
    "start_time": "2022-11-12T08:34:34.088Z"
   },
   {
    "duration": 15,
    "start_time": "2022-11-12T08:34:34.096Z"
   },
   {
    "duration": 5,
    "start_time": "2022-11-12T08:34:34.112Z"
   },
   {
    "duration": 22,
    "start_time": "2022-11-12T08:34:34.118Z"
   },
   {
    "duration": 124,
    "start_time": "2022-11-12T08:34:34.142Z"
   },
   {
    "duration": 5,
    "start_time": "2022-11-12T08:34:34.268Z"
   },
   {
    "duration": 6,
    "start_time": "2022-11-12T08:34:34.275Z"
   },
   {
    "duration": 125,
    "start_time": "2022-11-12T08:34:34.282Z"
   },
   {
    "duration": 4,
    "start_time": "2022-11-12T08:34:34.408Z"
   },
   {
    "duration": 3,
    "start_time": "2022-11-12T08:34:58.484Z"
   },
   {
    "duration": 72,
    "start_time": "2022-11-12T08:34:58.489Z"
   },
   {
    "duration": 10,
    "start_time": "2022-11-12T08:34:58.563Z"
   },
   {
    "duration": 13,
    "start_time": "2022-11-12T08:34:58.575Z"
   },
   {
    "duration": 24,
    "start_time": "2022-11-12T08:34:58.590Z"
   },
   {
    "duration": 5,
    "start_time": "2022-11-12T08:34:58.615Z"
   },
   {
    "duration": 54,
    "start_time": "2022-11-12T08:34:58.622Z"
   },
   {
    "duration": 133,
    "start_time": "2022-11-12T08:34:58.678Z"
   },
   {
    "duration": 4,
    "start_time": "2022-11-12T08:34:58.813Z"
   },
   {
    "duration": 14,
    "start_time": "2022-11-12T08:34:58.818Z"
   },
   {
    "duration": 127,
    "start_time": "2022-11-12T08:34:58.834Z"
   },
   {
    "duration": 3,
    "start_time": "2022-11-12T08:34:58.963Z"
   },
   {
    "duration": 5,
    "start_time": "2022-11-12T08:39:55.256Z"
   },
   {
    "duration": 3,
    "start_time": "2022-11-12T08:39:58.256Z"
   },
   {
    "duration": 52,
    "start_time": "2022-11-12T08:39:58.261Z"
   },
   {
    "duration": 11,
    "start_time": "2022-11-12T08:39:58.315Z"
   },
   {
    "duration": 5,
    "start_time": "2022-11-12T08:39:58.327Z"
   },
   {
    "duration": 14,
    "start_time": "2022-11-12T08:39:58.333Z"
   },
   {
    "duration": 4,
    "start_time": "2022-11-12T08:39:58.349Z"
   },
   {
    "duration": 22,
    "start_time": "2022-11-12T08:39:58.355Z"
   },
   {
    "duration": 222,
    "start_time": "2022-11-12T08:39:58.379Z"
   },
   {
    "duration": 4,
    "start_time": "2022-11-12T08:39:58.603Z"
   },
   {
    "duration": 8,
    "start_time": "2022-11-12T08:39:58.609Z"
   },
   {
    "duration": 143,
    "start_time": "2022-11-12T08:39:58.619Z"
   },
   {
    "duration": 4,
    "start_time": "2022-11-12T08:39:58.763Z"
   },
   {
    "duration": 128,
    "start_time": "2022-11-12T09:01:09.803Z"
   },
   {
    "duration": 4,
    "start_time": "2022-11-12T09:03:56.762Z"
   },
   {
    "duration": 5,
    "start_time": "2022-11-12T09:04:02.433Z"
   },
   {
    "duration": 19,
    "start_time": "2022-11-12T09:04:13.033Z"
   },
   {
    "duration": 6,
    "start_time": "2022-11-12T09:05:40.944Z"
   },
   {
    "duration": 5,
    "start_time": "2022-11-12T09:05:46.364Z"
   },
   {
    "duration": 8,
    "start_time": "2022-11-12T09:09:36.044Z"
   },
   {
    "duration": 12,
    "start_time": "2022-11-12T09:09:54.958Z"
   },
   {
    "duration": 6,
    "start_time": "2022-11-12T09:10:13.022Z"
   },
   {
    "duration": 12,
    "start_time": "2022-11-12T09:10:34.670Z"
   },
   {
    "duration": 5,
    "start_time": "2022-11-12T09:10:59.185Z"
   },
   {
    "duration": 4,
    "start_time": "2022-11-12T09:11:23.438Z"
   },
   {
    "duration": 9,
    "start_time": "2022-11-12T09:21:24.447Z"
   },
   {
    "duration": 15,
    "start_time": "2022-11-12T09:23:08.930Z"
   },
   {
    "duration": 18,
    "start_time": "2022-11-12T09:23:37.018Z"
   },
   {
    "duration": 19,
    "start_time": "2022-11-12T09:47:57.451Z"
   },
   {
    "duration": 4,
    "start_time": "2022-11-12T09:48:11.203Z"
   },
   {
    "duration": 17,
    "start_time": "2022-11-12T09:48:14.244Z"
   },
   {
    "duration": 11,
    "start_time": "2022-11-12T09:48:44.923Z"
   },
   {
    "duration": 12,
    "start_time": "2022-11-12T09:49:12.021Z"
   },
   {
    "duration": 5,
    "start_time": "2022-11-12T10:00:33.480Z"
   },
   {
    "duration": 4,
    "start_time": "2022-11-12T10:01:41.810Z"
   },
   {
    "duration": 5,
    "start_time": "2022-11-12T10:01:48.528Z"
   },
   {
    "duration": 5338,
    "start_time": "2022-11-12T10:02:23.283Z"
   },
   {
    "duration": 5270,
    "start_time": "2022-11-12T10:02:30.008Z"
   },
   {
    "duration": 5180,
    "start_time": "2022-11-12T10:02:41.046Z"
   },
   {
    "duration": 5803,
    "start_time": "2022-11-12T10:02:59.633Z"
   },
   {
    "duration": 5906,
    "start_time": "2022-11-12T10:05:07.724Z"
   },
   {
    "duration": 131,
    "start_time": "2022-11-12T10:05:54.016Z"
   },
   {
    "duration": 123,
    "start_time": "2022-11-12T10:05:58.741Z"
   },
   {
    "duration": 6,
    "start_time": "2022-11-12T10:06:59.104Z"
   },
   {
    "duration": 4,
    "start_time": "2022-11-12T10:17:13.836Z"
   },
   {
    "duration": 4,
    "start_time": "2022-11-12T10:17:57.500Z"
   },
   {
    "duration": 129,
    "start_time": "2022-11-12T10:18:07.238Z"
   },
   {
    "duration": 5,
    "start_time": "2022-11-12T10:18:16.717Z"
   },
   {
    "duration": 4,
    "start_time": "2022-11-12T10:18:50.839Z"
   },
   {
    "duration": 130,
    "start_time": "2022-11-12T10:20:59.422Z"
   },
   {
    "duration": 46,
    "start_time": "2022-11-12T10:23:46.663Z"
   },
   {
    "duration": 123,
    "start_time": "2022-11-12T10:24:29.224Z"
   },
   {
    "duration": 12,
    "start_time": "2022-11-12T11:15:35.785Z"
   },
   {
    "duration": 24,
    "start_time": "2022-11-12T11:24:08.821Z"
   },
   {
    "duration": 9,
    "start_time": "2022-11-12T11:25:00.282Z"
   },
   {
    "duration": 11,
    "start_time": "2022-11-12T11:25:03.266Z"
   },
   {
    "duration": 8,
    "start_time": "2022-11-12T11:26:01.533Z"
   },
   {
    "duration": 13,
    "start_time": "2022-11-12T11:26:03.936Z"
   },
   {
    "duration": 11,
    "start_time": "2022-11-12T11:26:09.769Z"
   },
   {
    "duration": 7,
    "start_time": "2022-11-12T11:26:13.491Z"
   },
   {
    "duration": 11,
    "start_time": "2022-11-12T11:26:15.350Z"
   },
   {
    "duration": 3,
    "start_time": "2022-11-12T11:27:02.645Z"
   },
   {
    "duration": 74,
    "start_time": "2022-11-12T11:27:02.650Z"
   },
   {
    "duration": 12,
    "start_time": "2022-11-12T11:27:02.749Z"
   },
   {
    "duration": 29,
    "start_time": "2022-11-12T11:27:02.763Z"
   },
   {
    "duration": 50,
    "start_time": "2022-11-12T11:27:02.794Z"
   },
   {
    "duration": 4,
    "start_time": "2022-11-12T11:27:02.847Z"
   },
   {
    "duration": 32,
    "start_time": "2022-11-12T11:27:02.853Z"
   },
   {
    "duration": 138,
    "start_time": "2022-11-12T11:27:02.888Z"
   },
   {
    "duration": 5,
    "start_time": "2022-11-12T11:27:03.032Z"
   },
   {
    "duration": 17,
    "start_time": "2022-11-12T11:27:03.038Z"
   },
   {
    "duration": 14,
    "start_time": "2022-11-12T11:27:03.056Z"
   },
   {
    "duration": 125,
    "start_time": "2022-11-12T11:27:03.073Z"
   },
   {
    "duration": 5,
    "start_time": "2022-11-12T11:27:03.200Z"
   },
   {
    "duration": 20,
    "start_time": "2022-11-12T11:27:03.206Z"
   },
   {
    "duration": 16,
    "start_time": "2022-11-12T11:27:03.228Z"
   },
   {
    "duration": 25,
    "start_time": "2022-11-12T11:27:03.246Z"
   },
   {
    "duration": 22,
    "start_time": "2022-11-12T11:27:03.273Z"
   },
   {
    "duration": 5980,
    "start_time": "2022-11-12T11:27:03.296Z"
   },
   {
    "duration": 141,
    "start_time": "2022-11-12T11:27:09.277Z"
   },
   {
    "duration": 135,
    "start_time": "2022-11-12T11:27:09.419Z"
   },
   {
    "duration": 10,
    "start_time": "2022-11-12T11:27:09.556Z"
   },
   {
    "duration": 11,
    "start_time": "2022-11-12T11:27:09.567Z"
   },
   {
    "duration": 3,
    "start_time": "2022-11-12T11:27:32.871Z"
   },
   {
    "duration": 52,
    "start_time": "2022-11-12T11:27:32.876Z"
   },
   {
    "duration": 12,
    "start_time": "2022-11-12T11:27:32.930Z"
   },
   {
    "duration": 5,
    "start_time": "2022-11-12T11:27:32.944Z"
   },
   {
    "duration": 18,
    "start_time": "2022-11-12T11:27:32.950Z"
   },
   {
    "duration": 4,
    "start_time": "2022-11-12T11:27:32.970Z"
   },
   {
    "duration": 23,
    "start_time": "2022-11-12T11:27:32.975Z"
   },
   {
    "duration": 142,
    "start_time": "2022-11-12T11:27:33.000Z"
   },
   {
    "duration": 6,
    "start_time": "2022-11-12T11:27:33.144Z"
   },
   {
    "duration": 6,
    "start_time": "2022-11-12T11:27:33.151Z"
   },
   {
    "duration": 8,
    "start_time": "2022-11-12T11:27:33.158Z"
   },
   {
    "duration": 145,
    "start_time": "2022-11-12T11:27:33.167Z"
   },
   {
    "duration": 6,
    "start_time": "2022-11-12T11:27:33.313Z"
   },
   {
    "duration": 18,
    "start_time": "2022-11-12T11:27:33.320Z"
   },
   {
    "duration": 12,
    "start_time": "2022-11-12T11:27:33.339Z"
   },
   {
    "duration": 8,
    "start_time": "2022-11-12T11:27:33.352Z"
   },
   {
    "duration": 8,
    "start_time": "2022-11-12T11:27:33.362Z"
   },
   {
    "duration": 6042,
    "start_time": "2022-11-12T11:27:33.372Z"
   },
   {
    "duration": 152,
    "start_time": "2022-11-12T11:27:39.416Z"
   },
   {
    "duration": 142,
    "start_time": "2022-11-12T11:27:39.570Z"
   },
   {
    "duration": 20,
    "start_time": "2022-11-12T11:27:39.714Z"
   },
   {
    "duration": 12,
    "start_time": "2022-11-12T11:27:39.735Z"
   },
   {
    "duration": 5,
    "start_time": "2022-11-12T11:28:36.007Z"
   },
   {
    "duration": 15,
    "start_time": "2022-11-12T12:24:53.614Z"
   },
   {
    "duration": 6,
    "start_time": "2022-11-12T12:25:03.888Z"
   },
   {
    "duration": 4,
    "start_time": "2022-11-12T12:25:25.339Z"
   },
   {
    "duration": 15,
    "start_time": "2022-11-12T12:25:31.859Z"
   },
   {
    "duration": 16,
    "start_time": "2022-11-12T12:29:09.475Z"
   },
   {
    "duration": 10,
    "start_time": "2022-11-12T12:32:33.404Z"
   },
   {
    "duration": 11,
    "start_time": "2022-11-12T12:32:52.658Z"
   },
   {
    "duration": 4,
    "start_time": "2022-11-12T12:33:27.942Z"
   },
   {
    "duration": 8,
    "start_time": "2022-11-12T12:35:06.623Z"
   },
   {
    "duration": 8,
    "start_time": "2022-11-12T12:35:22.330Z"
   },
   {
    "duration": 8,
    "start_time": "2022-11-12T12:35:33.674Z"
   },
   {
    "duration": 6,
    "start_time": "2022-11-12T12:35:43.958Z"
   },
   {
    "duration": 8,
    "start_time": "2022-11-12T12:42:11.036Z"
   },
   {
    "duration": 5,
    "start_time": "2022-11-12T12:42:14.234Z"
   },
   {
    "duration": 16,
    "start_time": "2022-11-12T12:46:21.274Z"
   },
   {
    "duration": 13,
    "start_time": "2022-11-12T12:50:48.745Z"
   },
   {
    "duration": 1118,
    "start_time": "2022-11-12T14:38:30.719Z"
   },
   {
    "duration": 183,
    "start_time": "2022-11-12T14:38:31.839Z"
   },
   {
    "duration": 14,
    "start_time": "2022-11-12T14:38:32.024Z"
   },
   {
    "duration": 7,
    "start_time": "2022-11-12T14:38:32.040Z"
   },
   {
    "duration": 21,
    "start_time": "2022-11-12T14:38:32.050Z"
   },
   {
    "duration": 5,
    "start_time": "2022-11-12T14:38:32.072Z"
   },
   {
    "duration": 26,
    "start_time": "2022-11-12T14:38:32.079Z"
   },
   {
    "duration": 582,
    "start_time": "2022-11-12T14:38:32.107Z"
   },
   {
    "duration": 5,
    "start_time": "2022-11-12T14:38:32.691Z"
   },
   {
    "duration": 8,
    "start_time": "2022-11-12T14:38:32.697Z"
   },
   {
    "duration": 29,
    "start_time": "2022-11-12T14:38:32.707Z"
   },
   {
    "duration": 10,
    "start_time": "2022-11-12T14:38:32.738Z"
   },
   {
    "duration": 150,
    "start_time": "2022-11-12T14:38:32.750Z"
   },
   {
    "duration": 7,
    "start_time": "2022-11-12T14:38:32.902Z"
   },
   {
    "duration": 8,
    "start_time": "2022-11-12T14:38:32.911Z"
   },
   {
    "duration": 14,
    "start_time": "2022-11-12T14:38:32.933Z"
   },
   {
    "duration": 11,
    "start_time": "2022-11-12T14:38:32.948Z"
   },
   {
    "duration": 9,
    "start_time": "2022-11-12T14:38:32.960Z"
   },
   {
    "duration": 6159,
    "start_time": "2022-11-12T14:38:32.970Z"
   },
   {
    "duration": 126,
    "start_time": "2022-11-12T14:38:39.131Z"
   },
   {
    "duration": 139,
    "start_time": "2022-11-12T14:38:39.259Z"
   },
   {
    "duration": 10,
    "start_time": "2022-11-12T14:38:39.401Z"
   },
   {
    "duration": 25,
    "start_time": "2022-11-12T14:38:39.413Z"
   },
   {
    "duration": 5,
    "start_time": "2022-11-12T14:38:39.439Z"
   },
   {
    "duration": 0,
    "start_time": "2022-11-12T14:38:39.446Z"
   },
   {
    "duration": 0,
    "start_time": "2022-11-12T14:38:39.448Z"
   },
   {
    "duration": 0,
    "start_time": "2022-11-12T14:38:39.450Z"
   },
   {
    "duration": 1,
    "start_time": "2022-11-12T14:38:39.451Z"
   },
   {
    "duration": 0,
    "start_time": "2022-11-12T14:38:39.453Z"
   },
   {
    "duration": 22,
    "start_time": "2022-11-12T14:38:54.657Z"
   },
   {
    "duration": 6,
    "start_time": "2022-11-12T14:39:31.152Z"
   },
   {
    "duration": 15,
    "start_time": "2022-11-12T14:39:33.792Z"
   },
   {
    "duration": 4,
    "start_time": "2022-11-12T14:39:58.737Z"
   },
   {
    "duration": 55,
    "start_time": "2022-11-12T14:39:58.743Z"
   },
   {
    "duration": 11,
    "start_time": "2022-11-12T14:39:58.800Z"
   },
   {
    "duration": 7,
    "start_time": "2022-11-12T14:39:58.813Z"
   },
   {
    "duration": 19,
    "start_time": "2022-11-12T14:39:58.822Z"
   },
   {
    "duration": 4,
    "start_time": "2022-11-12T14:39:58.842Z"
   },
   {
    "duration": 25,
    "start_time": "2022-11-12T14:39:58.848Z"
   },
   {
    "duration": 129,
    "start_time": "2022-11-12T14:39:58.875Z"
   },
   {
    "duration": 4,
    "start_time": "2022-11-12T14:39:59.006Z"
   },
   {
    "duration": 7,
    "start_time": "2022-11-12T14:39:59.012Z"
   },
   {
    "duration": 17,
    "start_time": "2022-11-12T14:39:59.032Z"
   },
   {
    "duration": 6,
    "start_time": "2022-11-12T14:39:59.050Z"
   },
   {
    "duration": 6,
    "start_time": "2022-11-12T14:39:59.057Z"
   },
   {
    "duration": 141,
    "start_time": "2022-11-12T14:39:59.064Z"
   },
   {
    "duration": 5,
    "start_time": "2022-11-12T14:39:59.207Z"
   },
   {
    "duration": 18,
    "start_time": "2022-11-12T14:39:59.214Z"
   },
   {
    "duration": 10,
    "start_time": "2022-11-12T14:39:59.234Z"
   },
   {
    "duration": 7,
    "start_time": "2022-11-12T14:39:59.246Z"
   },
   {
    "duration": 6,
    "start_time": "2022-11-12T14:39:59.255Z"
   },
   {
    "duration": 5807,
    "start_time": "2022-11-12T14:39:59.263Z"
   },
   {
    "duration": 138,
    "start_time": "2022-11-12T14:40:05.072Z"
   },
   {
    "duration": 135,
    "start_time": "2022-11-12T14:40:05.212Z"
   },
   {
    "duration": 8,
    "start_time": "2022-11-12T14:40:05.349Z"
   },
   {
    "duration": 26,
    "start_time": "2022-11-12T14:40:05.359Z"
   },
   {
    "duration": 34,
    "start_time": "2022-11-12T14:40:05.386Z"
   },
   {
    "duration": 0,
    "start_time": "2022-11-12T14:40:05.422Z"
   },
   {
    "duration": 0,
    "start_time": "2022-11-12T14:40:05.423Z"
   },
   {
    "duration": 0,
    "start_time": "2022-11-12T14:40:05.424Z"
   },
   {
    "duration": 0,
    "start_time": "2022-11-12T14:40:05.425Z"
   },
   {
    "duration": 0,
    "start_time": "2022-11-12T14:40:05.426Z"
   },
   {
    "duration": 5,
    "start_time": "2022-11-12T14:40:43.873Z"
   },
   {
    "duration": 16,
    "start_time": "2022-11-12T14:40:47.644Z"
   },
   {
    "duration": 11,
    "start_time": "2022-11-12T14:41:13.961Z"
   },
   {
    "duration": 3,
    "start_time": "2022-11-12T14:41:47.798Z"
   },
   {
    "duration": 59,
    "start_time": "2022-11-12T14:41:47.803Z"
   },
   {
    "duration": 11,
    "start_time": "2022-11-12T14:41:47.864Z"
   },
   {
    "duration": 6,
    "start_time": "2022-11-12T14:41:47.876Z"
   },
   {
    "duration": 15,
    "start_time": "2022-11-12T14:41:47.884Z"
   },
   {
    "duration": 5,
    "start_time": "2022-11-12T14:41:47.900Z"
   },
   {
    "duration": 37,
    "start_time": "2022-11-12T14:41:47.907Z"
   },
   {
    "duration": 131,
    "start_time": "2022-11-12T14:41:47.946Z"
   },
   {
    "duration": 6,
    "start_time": "2022-11-12T14:41:48.079Z"
   },
   {
    "duration": 6,
    "start_time": "2022-11-12T14:41:48.087Z"
   },
   {
    "duration": 7,
    "start_time": "2022-11-12T14:41:48.094Z"
   },
   {
    "duration": 5,
    "start_time": "2022-11-12T14:41:48.103Z"
   },
   {
    "duration": 140,
    "start_time": "2022-11-12T14:41:48.109Z"
   },
   {
    "duration": 6,
    "start_time": "2022-11-12T14:41:48.252Z"
   },
   {
    "duration": 9,
    "start_time": "2022-11-12T14:41:48.259Z"
   },
   {
    "duration": 13,
    "start_time": "2022-11-12T14:41:48.269Z"
   },
   {
    "duration": 8,
    "start_time": "2022-11-12T14:41:48.283Z"
   },
   {
    "duration": 6,
    "start_time": "2022-11-12T14:41:48.292Z"
   },
   {
    "duration": 5878,
    "start_time": "2022-11-12T14:41:48.300Z"
   },
   {
    "duration": 137,
    "start_time": "2022-11-12T14:41:54.180Z"
   },
   {
    "duration": 137,
    "start_time": "2022-11-12T14:41:54.319Z"
   },
   {
    "duration": 9,
    "start_time": "2022-11-12T14:41:54.457Z"
   },
   {
    "duration": 19,
    "start_time": "2022-11-12T14:41:54.468Z"
   },
   {
    "duration": 4,
    "start_time": "2022-11-12T14:41:54.489Z"
   },
   {
    "duration": 14,
    "start_time": "2022-11-12T14:41:54.495Z"
   },
   {
    "duration": 32,
    "start_time": "2022-11-12T14:41:54.510Z"
   },
   {
    "duration": 17,
    "start_time": "2022-11-12T14:41:54.544Z"
   },
   {
    "duration": 115,
    "start_time": "2022-11-12T14:41:54.562Z"
   },
   {
    "duration": 12,
    "start_time": "2022-11-12T14:43:38.266Z"
   },
   {
    "duration": 6,
    "start_time": "2022-11-12T14:46:46.866Z"
   },
   {
    "duration": 44,
    "start_time": "2022-11-12T14:47:31.333Z"
   },
   {
    "duration": 7,
    "start_time": "2022-11-12T14:47:39.560Z"
   },
   {
    "duration": 7,
    "start_time": "2022-11-12T14:48:02.872Z"
   },
   {
    "duration": 6,
    "start_time": "2022-11-12T14:52:03.849Z"
   },
   {
    "duration": 7,
    "start_time": "2022-11-12T14:52:05.949Z"
   },
   {
    "duration": 5,
    "start_time": "2022-11-12T15:11:36.576Z"
   },
   {
    "duration": 6,
    "start_time": "2022-11-12T15:11:38.265Z"
   },
   {
    "duration": 4,
    "start_time": "2022-11-12T15:13:09.468Z"
   },
   {
    "duration": 44,
    "start_time": "2022-11-12T15:15:45.536Z"
   },
   {
    "duration": 44,
    "start_time": "2022-11-12T15:15:55.345Z"
   },
   {
    "duration": 47,
    "start_time": "2022-11-12T15:16:07.521Z"
   },
   {
    "duration": 3,
    "start_time": "2022-11-12T15:16:18.482Z"
   },
   {
    "duration": 46,
    "start_time": "2022-11-12T15:16:36.264Z"
   },
   {
    "duration": 53,
    "start_time": "2022-11-12T15:16:44.124Z"
   },
   {
    "duration": 4,
    "start_time": "2022-11-12T15:16:50.872Z"
   },
   {
    "duration": 63,
    "start_time": "2022-11-12T15:17:32.647Z"
   },
   {
    "duration": 3,
    "start_time": "2022-11-12T15:17:42.550Z"
   },
   {
    "duration": 3,
    "start_time": "2022-11-12T15:17:50.384Z"
   },
   {
    "duration": 3,
    "start_time": "2022-11-12T15:18:11.497Z"
   },
   {
    "duration": 3,
    "start_time": "2022-11-12T15:18:17.325Z"
   },
   {
    "duration": 4,
    "start_time": "2022-11-12T15:18:25.011Z"
   },
   {
    "duration": 3,
    "start_time": "2022-11-12T15:23:19.561Z"
   },
   {
    "duration": 5,
    "start_time": "2022-11-12T15:34:45.706Z"
   },
   {
    "duration": 5,
    "start_time": "2022-11-12T15:35:09.556Z"
   },
   {
    "duration": 131,
    "start_time": "2022-11-12T16:45:17.732Z"
   },
   {
    "duration": 131,
    "start_time": "2022-11-12T16:45:25.348Z"
   },
   {
    "duration": 138,
    "start_time": "2022-11-12T16:45:36.196Z"
   },
   {
    "duration": 137,
    "start_time": "2022-11-12T16:45:56.269Z"
   },
   {
    "duration": 132,
    "start_time": "2022-11-12T16:46:02.494Z"
   },
   {
    "duration": 10,
    "start_time": "2022-11-12T16:49:19.777Z"
   },
   {
    "duration": 3,
    "start_time": "2022-11-12T16:49:41.828Z"
   },
   {
    "duration": 3,
    "start_time": "2022-11-12T16:58:27.886Z"
   },
   {
    "duration": 158,
    "start_time": "2022-11-12T17:52:31.981Z"
   },
   {
    "duration": 278,
    "start_time": "2022-11-12T17:55:34.361Z"
   },
   {
    "duration": 81,
    "start_time": "2022-11-12T17:55:43.061Z"
   },
   {
    "duration": 3,
    "start_time": "2022-11-12T17:55:46.391Z"
   },
   {
    "duration": 60,
    "start_time": "2022-11-12T17:55:46.397Z"
   },
   {
    "duration": 12,
    "start_time": "2022-11-12T17:55:46.460Z"
   },
   {
    "duration": 5,
    "start_time": "2022-11-12T17:55:46.473Z"
   },
   {
    "duration": 21,
    "start_time": "2022-11-12T17:55:46.481Z"
   },
   {
    "duration": 12,
    "start_time": "2022-11-12T17:55:46.504Z"
   },
   {
    "duration": 32,
    "start_time": "2022-11-12T17:55:46.533Z"
   },
   {
    "duration": 182,
    "start_time": "2022-11-12T17:55:46.566Z"
   },
   {
    "duration": 5,
    "start_time": "2022-11-12T17:55:46.750Z"
   },
   {
    "duration": 8,
    "start_time": "2022-11-12T17:55:46.757Z"
   },
   {
    "duration": 9,
    "start_time": "2022-11-12T17:55:46.768Z"
   },
   {
    "duration": 5,
    "start_time": "2022-11-12T17:55:46.778Z"
   },
   {
    "duration": 144,
    "start_time": "2022-11-12T17:55:46.784Z"
   },
   {
    "duration": 7,
    "start_time": "2022-11-12T17:55:46.929Z"
   },
   {
    "duration": 5,
    "start_time": "2022-11-12T17:55:46.938Z"
   },
   {
    "duration": 13,
    "start_time": "2022-11-12T17:55:46.944Z"
   },
   {
    "duration": 11,
    "start_time": "2022-11-12T17:55:46.959Z"
   },
   {
    "duration": 5,
    "start_time": "2022-11-12T17:55:46.972Z"
   },
   {
    "duration": 5829,
    "start_time": "2022-11-12T17:55:46.978Z"
   },
   {
    "duration": 149,
    "start_time": "2022-11-12T17:55:52.809Z"
   },
   {
    "duration": 145,
    "start_time": "2022-11-12T17:55:52.960Z"
   },
   {
    "duration": 9,
    "start_time": "2022-11-12T17:55:53.108Z"
   },
   {
    "duration": 23,
    "start_time": "2022-11-12T17:55:53.119Z"
   },
   {
    "duration": 5,
    "start_time": "2022-11-12T17:55:53.144Z"
   },
   {
    "duration": 12,
    "start_time": "2022-11-12T17:55:53.150Z"
   },
   {
    "duration": 21,
    "start_time": "2022-11-12T17:55:53.164Z"
   },
   {
    "duration": 11,
    "start_time": "2022-11-12T17:55:53.186Z"
   },
   {
    "duration": 7,
    "start_time": "2022-11-12T17:55:53.199Z"
   },
   {
    "duration": 6,
    "start_time": "2022-11-12T17:55:53.234Z"
   },
   {
    "duration": 6,
    "start_time": "2022-11-12T17:55:53.241Z"
   },
   {
    "duration": 315,
    "start_time": "2022-11-12T17:55:53.248Z"
   },
   {
    "duration": 269,
    "start_time": "2022-11-12T17:55:53.565Z"
   },
   {
    "duration": 6,
    "start_time": "2022-11-12T17:55:53.836Z"
   },
   {
    "duration": 12742,
    "start_time": "2022-11-12T18:04:39.834Z"
   },
   {
    "duration": 1070,
    "start_time": "2022-11-12T18:25:13.157Z"
   },
   {
    "duration": 57,
    "start_time": "2022-11-12T18:25:14.229Z"
   },
   {
    "duration": 12,
    "start_time": "2022-11-12T18:25:14.288Z"
   },
   {
    "duration": 5,
    "start_time": "2022-11-12T18:25:14.302Z"
   },
   {
    "duration": 19,
    "start_time": "2022-11-12T18:25:14.309Z"
   },
   {
    "duration": 7,
    "start_time": "2022-11-12T18:25:14.330Z"
   },
   {
    "duration": 33,
    "start_time": "2022-11-12T18:25:14.339Z"
   },
   {
    "duration": 390,
    "start_time": "2022-11-12T18:25:14.374Z"
   },
   {
    "duration": 6,
    "start_time": "2022-11-12T18:25:14.765Z"
   },
   {
    "duration": 14,
    "start_time": "2022-11-12T18:25:14.774Z"
   },
   {
    "duration": 55,
    "start_time": "2022-11-12T18:25:14.790Z"
   },
   {
    "duration": 107,
    "start_time": "2022-11-12T18:25:14.847Z"
   },
   {
    "duration": 128,
    "start_time": "2022-11-12T18:25:14.956Z"
   },
   {
    "duration": 7,
    "start_time": "2022-11-12T18:25:15.086Z"
   },
   {
    "duration": 7,
    "start_time": "2022-11-12T18:25:15.094Z"
   },
   {
    "duration": 11,
    "start_time": "2022-11-12T18:25:15.102Z"
   },
   {
    "duration": 22,
    "start_time": "2022-11-12T18:25:15.115Z"
   },
   {
    "duration": 7,
    "start_time": "2022-11-12T18:25:15.139Z"
   },
   {
    "duration": 6257,
    "start_time": "2022-11-12T18:25:15.148Z"
   },
   {
    "duration": 131,
    "start_time": "2022-11-12T18:25:21.406Z"
   },
   {
    "duration": 142,
    "start_time": "2022-11-12T18:25:21.539Z"
   },
   {
    "duration": 10,
    "start_time": "2022-11-12T18:25:21.683Z"
   },
   {
    "duration": 58,
    "start_time": "2022-11-12T18:25:21.694Z"
   },
   {
    "duration": 36,
    "start_time": "2022-11-12T18:25:21.754Z"
   },
   {
    "duration": 63,
    "start_time": "2022-11-12T18:25:21.792Z"
   },
   {
    "duration": 49,
    "start_time": "2022-11-12T18:25:21.857Z"
   },
   {
    "duration": 42,
    "start_time": "2022-11-12T18:25:21.907Z"
   },
   {
    "duration": 43,
    "start_time": "2022-11-12T18:25:21.952Z"
   },
   {
    "duration": 60,
    "start_time": "2022-11-12T18:25:21.997Z"
   },
   {
    "duration": 36,
    "start_time": "2022-11-12T18:25:22.059Z"
   },
   {
    "duration": 147,
    "start_time": "2022-11-12T18:25:22.097Z"
   },
   {
    "duration": 294,
    "start_time": "2022-11-12T18:25:22.246Z"
   },
   {
    "duration": 12900,
    "start_time": "2022-11-12T18:25:22.542Z"
   },
   {
    "duration": 5,
    "start_time": "2022-11-12T18:25:35.444Z"
   },
   {
    "duration": 1116,
    "start_time": "2022-11-12T19:16:48.975Z"
   },
   {
    "duration": 56,
    "start_time": "2022-11-12T19:16:50.093Z"
   },
   {
    "duration": 12,
    "start_time": "2022-11-12T19:16:50.151Z"
   },
   {
    "duration": 4,
    "start_time": "2022-11-12T19:16:50.165Z"
   },
   {
    "duration": 14,
    "start_time": "2022-11-12T19:16:50.171Z"
   },
   {
    "duration": 4,
    "start_time": "2022-11-12T19:16:50.186Z"
   },
   {
    "duration": 42,
    "start_time": "2022-11-12T19:16:50.192Z"
   },
   {
    "duration": 360,
    "start_time": "2022-11-12T19:16:50.235Z"
   },
   {
    "duration": 5,
    "start_time": "2022-11-12T19:16:50.597Z"
   },
   {
    "duration": 14,
    "start_time": "2022-11-12T19:16:50.604Z"
   },
   {
    "duration": 8,
    "start_time": "2022-11-12T19:16:50.620Z"
   },
   {
    "duration": 6,
    "start_time": "2022-11-12T19:16:50.632Z"
   },
   {
    "duration": 149,
    "start_time": "2022-11-12T19:16:50.640Z"
   },
   {
    "duration": 6,
    "start_time": "2022-11-12T19:16:50.791Z"
   },
   {
    "duration": 28,
    "start_time": "2022-11-12T19:16:50.799Z"
   },
   {
    "duration": 12,
    "start_time": "2022-11-12T19:16:50.829Z"
   },
   {
    "duration": 6,
    "start_time": "2022-11-12T19:16:50.843Z"
   },
   {
    "duration": 15,
    "start_time": "2022-11-12T19:16:50.850Z"
   },
   {
    "duration": 5959,
    "start_time": "2022-11-12T19:16:50.866Z"
   },
   {
    "duration": 131,
    "start_time": "2022-11-12T19:16:56.826Z"
   },
   {
    "duration": 140,
    "start_time": "2022-11-12T19:16:56.958Z"
   },
   {
    "duration": 10,
    "start_time": "2022-11-12T19:16:57.099Z"
   },
   {
    "duration": 23,
    "start_time": "2022-11-12T19:16:57.110Z"
   },
   {
    "duration": 5,
    "start_time": "2022-11-12T19:16:57.135Z"
   },
   {
    "duration": 16,
    "start_time": "2022-11-12T19:16:57.141Z"
   },
   {
    "duration": 24,
    "start_time": "2022-11-12T19:16:57.158Z"
   },
   {
    "duration": 12,
    "start_time": "2022-11-12T19:16:57.184Z"
   },
   {
    "duration": 5,
    "start_time": "2022-11-12T19:16:57.199Z"
   },
   {
    "duration": 8,
    "start_time": "2022-11-12T19:16:57.206Z"
   },
   {
    "duration": 20,
    "start_time": "2022-11-12T19:16:57.215Z"
   },
   {
    "duration": 147,
    "start_time": "2022-11-12T19:16:57.236Z"
   },
   {
    "duration": 159,
    "start_time": "2022-11-12T19:16:57.385Z"
   },
   {
    "duration": 8968,
    "start_time": "2022-11-12T19:16:57.633Z"
   },
   {
    "duration": 30225,
    "start_time": "2022-11-12T19:17:06.602Z"
   },
   {
    "duration": 4,
    "start_time": "2022-11-12T19:17:36.829Z"
   },
   {
    "duration": 3,
    "start_time": "2022-11-12T19:18:01.903Z"
   },
   {
    "duration": 1159,
    "start_time": "2022-11-12T19:19:35.830Z"
   },
   {
    "duration": 57,
    "start_time": "2022-11-12T19:19:36.991Z"
   },
   {
    "duration": 12,
    "start_time": "2022-11-12T19:19:37.049Z"
   },
   {
    "duration": 5,
    "start_time": "2022-11-12T19:19:37.063Z"
   },
   {
    "duration": 20,
    "start_time": "2022-11-12T19:19:37.070Z"
   },
   {
    "duration": 10,
    "start_time": "2022-11-12T19:19:37.091Z"
   },
   {
    "duration": 34,
    "start_time": "2022-11-12T19:19:37.103Z"
   },
   {
    "duration": 363,
    "start_time": "2022-11-12T19:19:37.138Z"
   },
   {
    "duration": 5,
    "start_time": "2022-11-12T19:19:37.502Z"
   },
   {
    "duration": 23,
    "start_time": "2022-11-12T19:19:37.508Z"
   },
   {
    "duration": 9,
    "start_time": "2022-11-12T19:19:37.533Z"
   },
   {
    "duration": 11,
    "start_time": "2022-11-12T19:19:37.543Z"
   },
   {
    "duration": 130,
    "start_time": "2022-11-12T19:19:37.556Z"
   },
   {
    "duration": 6,
    "start_time": "2022-11-12T19:19:37.690Z"
   },
   {
    "duration": 14,
    "start_time": "2022-11-12T19:19:37.698Z"
   },
   {
    "duration": 22,
    "start_time": "2022-11-12T19:19:37.713Z"
   },
   {
    "duration": 22,
    "start_time": "2022-11-12T19:19:37.737Z"
   },
   {
    "duration": 18,
    "start_time": "2022-11-12T19:19:37.760Z"
   },
   {
    "duration": 6149,
    "start_time": "2022-11-12T19:19:37.780Z"
   },
   {
    "duration": 127,
    "start_time": "2022-11-12T19:19:43.930Z"
   },
   {
    "duration": 136,
    "start_time": "2022-11-12T19:19:44.059Z"
   },
   {
    "duration": 11,
    "start_time": "2022-11-12T19:19:44.196Z"
   },
   {
    "duration": 11,
    "start_time": "2022-11-12T19:19:44.208Z"
   },
   {
    "duration": 5,
    "start_time": "2022-11-12T19:19:44.233Z"
   },
   {
    "duration": 12,
    "start_time": "2022-11-12T19:19:44.239Z"
   },
   {
    "duration": 19,
    "start_time": "2022-11-12T19:19:44.253Z"
   },
   {
    "duration": 12,
    "start_time": "2022-11-12T19:19:44.274Z"
   },
   {
    "duration": 10,
    "start_time": "2022-11-12T19:19:44.287Z"
   },
   {
    "duration": 7,
    "start_time": "2022-11-12T19:19:44.298Z"
   },
   {
    "duration": 29,
    "start_time": "2022-11-12T19:19:44.306Z"
   },
   {
    "duration": 148,
    "start_time": "2022-11-12T19:19:44.337Z"
   },
   {
    "duration": 346,
    "start_time": "2022-11-12T19:19:44.487Z"
   },
   {
    "duration": 8880,
    "start_time": "2022-11-12T19:19:44.835Z"
   },
   {
    "duration": 30196,
    "start_time": "2022-11-12T19:19:53.717Z"
   },
   {
    "duration": 4,
    "start_time": "2022-11-12T19:20:23.915Z"
   },
   {
    "duration": 14,
    "start_time": "2022-11-12T19:20:23.920Z"
   },
   {
    "duration": 1305,
    "start_time": "2022-11-12T19:23:33.967Z"
   },
   {
    "duration": 1297,
    "start_time": "2022-11-12T19:23:48.550Z"
   },
   {
    "duration": 1081,
    "start_time": "2022-11-12T19:24:30.631Z"
   },
   {
    "duration": 55,
    "start_time": "2022-11-12T19:24:31.714Z"
   },
   {
    "duration": 12,
    "start_time": "2022-11-12T19:24:31.770Z"
   },
   {
    "duration": 5,
    "start_time": "2022-11-12T19:24:31.783Z"
   },
   {
    "duration": 13,
    "start_time": "2022-11-12T19:24:31.790Z"
   },
   {
    "duration": 4,
    "start_time": "2022-11-12T19:24:31.805Z"
   },
   {
    "duration": 37,
    "start_time": "2022-11-12T19:24:31.810Z"
   },
   {
    "duration": 343,
    "start_time": "2022-11-12T19:24:31.849Z"
   },
   {
    "duration": 5,
    "start_time": "2022-11-12T19:24:32.193Z"
   },
   {
    "duration": 10,
    "start_time": "2022-11-12T19:24:32.200Z"
   },
   {
    "duration": 7,
    "start_time": "2022-11-12T19:24:32.212Z"
   },
   {
    "duration": 13,
    "start_time": "2022-11-12T19:24:32.220Z"
   },
   {
    "duration": 133,
    "start_time": "2022-11-12T19:24:32.235Z"
   },
   {
    "duration": 6,
    "start_time": "2022-11-12T19:24:32.372Z"
   },
   {
    "duration": 8,
    "start_time": "2022-11-12T19:24:32.379Z"
   },
   {
    "duration": 13,
    "start_time": "2022-11-12T19:24:32.389Z"
   },
   {
    "duration": 8,
    "start_time": "2022-11-12T19:24:32.404Z"
   },
   {
    "duration": 5,
    "start_time": "2022-11-12T19:24:32.433Z"
   },
   {
    "duration": 6133,
    "start_time": "2022-11-12T19:24:32.440Z"
   },
   {
    "duration": 138,
    "start_time": "2022-11-12T19:24:38.574Z"
   },
   {
    "duration": 141,
    "start_time": "2022-11-12T19:24:38.714Z"
   },
   {
    "duration": 10,
    "start_time": "2022-11-12T19:24:38.856Z"
   },
   {
    "duration": 17,
    "start_time": "2022-11-12T19:24:38.868Z"
   },
   {
    "duration": 7,
    "start_time": "2022-11-12T19:24:38.887Z"
   },
   {
    "duration": 23,
    "start_time": "2022-11-12T19:24:38.895Z"
   },
   {
    "duration": 34,
    "start_time": "2022-11-12T19:24:38.920Z"
   },
   {
    "duration": 21,
    "start_time": "2022-11-12T19:24:38.956Z"
   },
   {
    "duration": 14,
    "start_time": "2022-11-12T19:24:38.979Z"
   },
   {
    "duration": 32,
    "start_time": "2022-11-12T19:24:38.995Z"
   },
   {
    "duration": 14,
    "start_time": "2022-11-12T19:24:39.029Z"
   },
   {
    "duration": 137,
    "start_time": "2022-11-12T19:24:39.045Z"
   },
   {
    "duration": 1320,
    "start_time": "2022-11-12T19:24:39.184Z"
   },
   {
    "duration": 236,
    "start_time": "2022-11-12T19:24:40.506Z"
   },
   {
    "duration": 16030,
    "start_time": "2022-11-12T19:24:40.834Z"
   },
   {
    "duration": 29767,
    "start_time": "2022-11-12T19:24:56.866Z"
   },
   {
    "duration": 2,
    "start_time": "2022-11-12T19:25:26.635Z"
   },
   {
    "duration": 144,
    "start_time": "2022-11-12T19:44:10.700Z"
   },
   {
    "duration": 31019,
    "start_time": "2022-11-12T19:45:35.789Z"
   },
   {
    "duration": 1063,
    "start_time": "2022-11-13T07:14:24.872Z"
   },
   {
    "duration": 204,
    "start_time": "2022-11-13T07:14:25.937Z"
   },
   {
    "duration": 13,
    "start_time": "2022-11-13T07:14:26.142Z"
   },
   {
    "duration": 6,
    "start_time": "2022-11-13T07:14:26.157Z"
   },
   {
    "duration": 17,
    "start_time": "2022-11-13T07:14:26.165Z"
   },
   {
    "duration": 4,
    "start_time": "2022-11-13T07:14:26.184Z"
   },
   {
    "duration": 40,
    "start_time": "2022-11-13T07:14:26.189Z"
   },
   {
    "duration": 607,
    "start_time": "2022-11-13T07:14:26.230Z"
   },
   {
    "duration": 6,
    "start_time": "2022-11-13T07:14:26.839Z"
   },
   {
    "duration": 11,
    "start_time": "2022-11-13T07:14:26.847Z"
   },
   {
    "duration": 11,
    "start_time": "2022-11-13T07:14:26.860Z"
   },
   {
    "duration": 8,
    "start_time": "2022-11-13T07:14:26.873Z"
   },
   {
    "duration": 139,
    "start_time": "2022-11-13T07:14:26.882Z"
   },
   {
    "duration": 6,
    "start_time": "2022-11-13T07:14:27.025Z"
   },
   {
    "duration": 6,
    "start_time": "2022-11-13T07:14:27.032Z"
   },
   {
    "duration": 25,
    "start_time": "2022-11-13T07:14:27.039Z"
   },
   {
    "duration": 14,
    "start_time": "2022-11-13T07:14:27.065Z"
   },
   {
    "duration": 7,
    "start_time": "2022-11-13T07:14:27.080Z"
   },
   {
    "duration": 6094,
    "start_time": "2022-11-13T07:14:27.089Z"
   },
   {
    "duration": 126,
    "start_time": "2022-11-13T07:14:33.185Z"
   },
   {
    "duration": 145,
    "start_time": "2022-11-13T07:14:33.313Z"
   },
   {
    "duration": 10,
    "start_time": "2022-11-13T07:14:33.461Z"
   },
   {
    "duration": 12,
    "start_time": "2022-11-13T07:14:33.473Z"
   },
   {
    "duration": 7,
    "start_time": "2022-11-13T07:14:33.487Z"
   },
   {
    "duration": 29,
    "start_time": "2022-11-13T07:14:33.495Z"
   },
   {
    "duration": 27,
    "start_time": "2022-11-13T07:14:33.526Z"
   },
   {
    "duration": 14,
    "start_time": "2022-11-13T07:14:33.555Z"
   },
   {
    "duration": 26,
    "start_time": "2022-11-13T07:14:33.571Z"
   },
   {
    "duration": 31,
    "start_time": "2022-11-13T07:14:33.599Z"
   },
   {
    "duration": 30,
    "start_time": "2022-11-13T07:14:33.632Z"
   },
   {
    "duration": 172,
    "start_time": "2022-11-13T07:14:33.664Z"
   },
   {
    "duration": 1286,
    "start_time": "2022-11-13T07:14:33.838Z"
   },
   {
    "duration": 200,
    "start_time": "2022-11-13T07:14:35.125Z"
   },
   {
    "duration": 16565,
    "start_time": "2022-11-13T07:14:35.327Z"
   },
   {
    "duration": 31962,
    "start_time": "2022-11-13T07:14:51.894Z"
   },
   {
    "duration": 2,
    "start_time": "2022-11-13T07:15:23.858Z"
   },
   {
    "duration": 1356,
    "start_time": "2022-11-13T07:39:41.055Z"
   },
   {
    "duration": 1373,
    "start_time": "2022-11-13T07:39:53.399Z"
   },
   {
    "duration": 1105,
    "start_time": "2022-11-13T07:40:58.803Z"
   },
   {
    "duration": 57,
    "start_time": "2022-11-13T07:40:59.910Z"
   },
   {
    "duration": 13,
    "start_time": "2022-11-13T07:40:59.969Z"
   },
   {
    "duration": 6,
    "start_time": "2022-11-13T07:40:59.984Z"
   },
   {
    "duration": 14,
    "start_time": "2022-11-13T07:40:59.991Z"
   },
   {
    "duration": 5,
    "start_time": "2022-11-13T07:41:00.006Z"
   },
   {
    "duration": 30,
    "start_time": "2022-11-13T07:41:00.012Z"
   },
   {
    "duration": 400,
    "start_time": "2022-11-13T07:41:00.044Z"
   },
   {
    "duration": 5,
    "start_time": "2022-11-13T07:41:00.446Z"
   },
   {
    "duration": 18,
    "start_time": "2022-11-13T07:41:00.453Z"
   },
   {
    "duration": 13,
    "start_time": "2022-11-13T07:41:00.473Z"
   },
   {
    "duration": 8,
    "start_time": "2022-11-13T07:41:00.488Z"
   },
   {
    "duration": 136,
    "start_time": "2022-11-13T07:41:00.497Z"
   },
   {
    "duration": 5,
    "start_time": "2022-11-13T07:41:00.635Z"
   },
   {
    "duration": 18,
    "start_time": "2022-11-13T07:41:00.642Z"
   },
   {
    "duration": 25,
    "start_time": "2022-11-13T07:41:00.661Z"
   },
   {
    "duration": 10,
    "start_time": "2022-11-13T07:41:00.687Z"
   },
   {
    "duration": 7,
    "start_time": "2022-11-13T07:41:00.699Z"
   },
   {
    "duration": 6227,
    "start_time": "2022-11-13T07:41:00.708Z"
   },
   {
    "duration": 141,
    "start_time": "2022-11-13T07:41:06.937Z"
   },
   {
    "duration": 150,
    "start_time": "2022-11-13T07:41:07.079Z"
   },
   {
    "duration": 10,
    "start_time": "2022-11-13T07:41:07.231Z"
   },
   {
    "duration": 17,
    "start_time": "2022-11-13T07:41:07.243Z"
   },
   {
    "duration": 5,
    "start_time": "2022-11-13T07:41:07.262Z"
   },
   {
    "duration": 21,
    "start_time": "2022-11-13T07:41:07.268Z"
   },
   {
    "duration": 36,
    "start_time": "2022-11-13T07:41:07.291Z"
   },
   {
    "duration": 13,
    "start_time": "2022-11-13T07:41:07.329Z"
   },
   {
    "duration": 7,
    "start_time": "2022-11-13T07:41:07.346Z"
   },
   {
    "duration": 9,
    "start_time": "2022-11-13T07:41:07.354Z"
   },
   {
    "duration": 8,
    "start_time": "2022-11-13T07:41:07.365Z"
   },
   {
    "duration": 1372,
    "start_time": "2022-11-13T07:41:07.375Z"
   },
   {
    "duration": 271,
    "start_time": "2022-11-13T07:41:08.748Z"
   },
   {
    "duration": 16866,
    "start_time": "2022-11-13T07:41:09.022Z"
   },
   {
    "duration": 32546,
    "start_time": "2022-11-13T07:41:25.889Z"
   },
   {
    "duration": 153,
    "start_time": "2022-11-13T07:41:58.437Z"
   },
   {
    "duration": 1379,
    "start_time": "2022-11-13T07:41:58.591Z"
   },
   {
    "duration": 1443,
    "start_time": "2022-11-13T07:43:02.236Z"
   },
   {
    "duration": 153,
    "start_time": "2022-11-13T07:44:20.919Z"
   },
   {
    "duration": 1132,
    "start_time": "2022-11-13T11:05:22.200Z"
   },
   {
    "duration": 209,
    "start_time": "2022-11-13T11:05:23.334Z"
   },
   {
    "duration": 14,
    "start_time": "2022-11-13T11:05:23.546Z"
   },
   {
    "duration": 9,
    "start_time": "2022-11-13T11:05:23.563Z"
   },
   {
    "duration": 20,
    "start_time": "2022-11-13T11:05:23.574Z"
   },
   {
    "duration": 6,
    "start_time": "2022-11-13T11:05:23.597Z"
   },
   {
    "duration": 51,
    "start_time": "2022-11-13T11:05:23.606Z"
   },
   {
    "duration": 658,
    "start_time": "2022-11-13T11:05:23.659Z"
   },
   {
    "duration": 7,
    "start_time": "2022-11-13T11:05:24.318Z"
   },
   {
    "duration": 21,
    "start_time": "2022-11-13T11:05:24.334Z"
   },
   {
    "duration": 8,
    "start_time": "2022-11-13T11:05:24.358Z"
   },
   {
    "duration": 12,
    "start_time": "2022-11-13T11:05:24.368Z"
   },
   {
    "duration": 206,
    "start_time": "2022-11-13T11:05:24.382Z"
   },
   {
    "duration": 8,
    "start_time": "2022-11-13T11:05:24.592Z"
   },
   {
    "duration": 22,
    "start_time": "2022-11-13T11:05:24.602Z"
   },
   {
    "duration": 30,
    "start_time": "2022-11-13T11:05:24.627Z"
   },
   {
    "duration": 18,
    "start_time": "2022-11-13T11:05:24.659Z"
   },
   {
    "duration": 13,
    "start_time": "2022-11-13T11:05:24.680Z"
   },
   {
    "duration": 7049,
    "start_time": "2022-11-13T11:05:24.696Z"
   },
   {
    "duration": 138,
    "start_time": "2022-11-13T11:05:31.747Z"
   },
   {
    "duration": 150,
    "start_time": "2022-11-13T11:05:31.887Z"
   },
   {
    "duration": 10,
    "start_time": "2022-11-13T11:05:32.038Z"
   },
   {
    "duration": 27,
    "start_time": "2022-11-13T11:05:32.050Z"
   },
   {
    "duration": 33,
    "start_time": "2022-11-13T11:05:32.078Z"
   },
   {
    "duration": 27,
    "start_time": "2022-11-13T11:05:32.112Z"
   },
   {
    "duration": 48,
    "start_time": "2022-11-13T11:05:32.141Z"
   },
   {
    "duration": 23,
    "start_time": "2022-11-13T11:05:32.191Z"
   },
   {
    "duration": 26,
    "start_time": "2022-11-13T11:05:32.216Z"
   },
   {
    "duration": 21,
    "start_time": "2022-11-13T11:05:32.244Z"
   },
   {
    "duration": 12,
    "start_time": "2022-11-13T11:05:32.267Z"
   },
   {
    "duration": 1360,
    "start_time": "2022-11-13T11:05:32.280Z"
   },
   {
    "duration": 201,
    "start_time": "2022-11-13T11:05:33.642Z"
   },
   {
    "duration": 16180,
    "start_time": "2022-11-13T11:05:33.845Z"
   },
   {
    "duration": 31318,
    "start_time": "2022-11-13T11:05:50.028Z"
   },
   {
    "duration": 225,
    "start_time": "2022-11-13T11:06:21.348Z"
   },
   {
    "duration": 130,
    "start_time": "2022-11-13T11:06:21.576Z"
   },
   {
    "duration": 169,
    "start_time": "2022-11-13T11:19:25.600Z"
   },
   {
    "duration": 1375,
    "start_time": "2022-11-13T11:21:50.480Z"
   },
   {
    "duration": 38504,
    "start_time": "2022-11-13T11:24:39.177Z"
   },
   {
    "duration": 361,
    "start_time": "2022-11-13T11:27:01.181Z"
   },
   {
    "duration": 484,
    "start_time": "2022-11-13T11:48:06.197Z"
   },
   {
    "duration": 9,
    "start_time": "2022-11-13T11:48:29.163Z"
   },
   {
    "duration": 5,
    "start_time": "2022-11-13T11:48:41.782Z"
   },
   {
    "duration": 461,
    "start_time": "2022-11-13T11:48:57.022Z"
   },
   {
    "duration": 428,
    "start_time": "2022-11-13T11:49:47.688Z"
   },
   {
    "duration": 39531,
    "start_time": "2022-11-13T11:50:09.237Z"
   },
   {
    "duration": 37353,
    "start_time": "2022-11-13T11:52:59.721Z"
   },
   {
    "duration": 46264,
    "start_time": "2022-11-13T11:53:42.408Z"
   },
   {
    "duration": 517,
    "start_time": "2022-11-13T11:55:24.554Z"
   },
   {
    "duration": 621,
    "start_time": "2022-11-13T12:07:42.405Z"
   },
   {
    "duration": 507,
    "start_time": "2022-11-13T12:08:35.716Z"
   },
   {
    "duration": 68,
    "start_time": "2022-11-13T12:34:10.439Z"
   },
   {
    "duration": 12,
    "start_time": "2022-11-13T12:35:16.404Z"
   },
   {
    "duration": 4,
    "start_time": "2022-11-13T12:35:23.693Z"
   },
   {
    "duration": 9,
    "start_time": "2022-11-13T12:35:26.865Z"
   },
   {
    "duration": 1390,
    "start_time": "2022-11-13T12:35:38.787Z"
   },
   {
    "duration": 50,
    "start_time": "2022-11-13T12:35:49.714Z"
   },
   {
    "duration": 5,
    "start_time": "2022-11-13T12:35:55.894Z"
   },
   {
    "duration": 1371,
    "start_time": "2022-11-13T12:36:00.121Z"
   },
   {
    "duration": 5,
    "start_time": "2022-11-13T12:41:10.296Z"
   },
   {
    "duration": 1417,
    "start_time": "2022-11-13T12:41:15.281Z"
   },
   {
    "duration": 6,
    "start_time": "2022-11-13T12:41:46.345Z"
   },
   {
    "duration": 4,
    "start_time": "2022-11-13T12:41:57.093Z"
   },
   {
    "duration": 1332,
    "start_time": "2022-11-13T12:41:58.873Z"
   },
   {
    "duration": 5,
    "start_time": "2022-11-13T12:42:05.045Z"
   },
   {
    "duration": 1445,
    "start_time": "2022-11-13T12:42:09.800Z"
   },
   {
    "duration": 5,
    "start_time": "2022-11-13T12:43:07.350Z"
   },
   {
    "duration": 1363,
    "start_time": "2022-11-13T12:43:10.643Z"
   },
   {
    "duration": 6,
    "start_time": "2022-11-13T12:44:54.295Z"
   },
   {
    "duration": 47178,
    "start_time": "2022-11-13T12:45:37.790Z"
   },
   {
    "duration": 52,
    "start_time": "2022-11-13T12:53:28.994Z"
   },
   {
    "duration": 48,
    "start_time": "2022-11-13T12:54:38.181Z"
   },
   {
    "duration": 4,
    "start_time": "2022-11-13T12:56:36.953Z"
   },
   {
    "duration": 1332,
    "start_time": "2022-11-13T12:56:41.826Z"
   },
   {
    "duration": 4,
    "start_time": "2022-11-13T12:56:58.760Z"
   },
   {
    "duration": 1372,
    "start_time": "2022-11-13T12:57:01.591Z"
   },
   {
    "duration": 5,
    "start_time": "2022-11-13T12:57:16.447Z"
   },
   {
    "duration": 1389,
    "start_time": "2022-11-13T12:57:18.934Z"
   },
   {
    "duration": 55,
    "start_time": "2022-11-13T12:57:42.593Z"
   },
   {
    "duration": 8,
    "start_time": "2022-11-13T12:57:53.790Z"
   },
   {
    "duration": 6,
    "start_time": "2022-11-13T12:58:02.715Z"
   },
   {
    "duration": 47415,
    "start_time": "2022-11-13T12:58:22.156Z"
   },
   {
    "duration": 4,
    "start_time": "2022-11-13T13:02:56.913Z"
   },
   {
    "duration": 439,
    "start_time": "2022-11-13T13:03:34.097Z"
   },
   {
    "duration": 4,
    "start_time": "2022-11-13T13:07:04.228Z"
   },
   {
    "duration": 213,
    "start_time": "2022-11-13T13:07:12.321Z"
   },
   {
    "duration": 1383,
    "start_time": "2022-11-13T13:16:49.769Z"
   },
   {
    "duration": 9,
    "start_time": "2022-11-13T13:23:28.413Z"
   },
   {
    "duration": 4,
    "start_time": "2022-11-13T13:24:06.228Z"
   },
   {
    "duration": 120,
    "start_time": "2022-11-13T13:24:19.920Z"
   },
   {
    "duration": 37470,
    "start_time": "2022-11-13T13:24:34.557Z"
   },
   {
    "duration": 2,
    "start_time": "2022-11-13T13:28:57.540Z"
   },
   {
    "duration": 3,
    "start_time": "2022-11-13T13:38:54.983Z"
   },
   {
    "duration": 4,
    "start_time": "2022-11-13T13:44:49.991Z"
   },
   {
    "duration": 1093,
    "start_time": "2022-11-13T14:10:10.946Z"
   },
   {
    "duration": 57,
    "start_time": "2022-11-13T14:10:12.041Z"
   },
   {
    "duration": 14,
    "start_time": "2022-11-13T14:10:12.100Z"
   },
   {
    "duration": 8,
    "start_time": "2022-11-13T14:10:12.115Z"
   },
   {
    "duration": 13,
    "start_time": "2022-11-13T14:10:12.125Z"
   },
   {
    "duration": 4,
    "start_time": "2022-11-13T14:10:12.140Z"
   },
   {
    "duration": 21,
    "start_time": "2022-11-13T14:10:12.146Z"
   },
   {
    "duration": 368,
    "start_time": "2022-11-13T14:10:12.169Z"
   },
   {
    "duration": 6,
    "start_time": "2022-11-13T14:10:12.538Z"
   },
   {
    "duration": 10,
    "start_time": "2022-11-13T14:10:12.545Z"
   },
   {
    "duration": 6,
    "start_time": "2022-11-13T14:10:12.556Z"
   },
   {
    "duration": 7,
    "start_time": "2022-11-13T14:10:12.564Z"
   },
   {
    "duration": 155,
    "start_time": "2022-11-13T14:10:12.572Z"
   },
   {
    "duration": 5,
    "start_time": "2022-11-13T14:10:12.732Z"
   },
   {
    "duration": 6,
    "start_time": "2022-11-13T14:10:12.739Z"
   },
   {
    "duration": 10,
    "start_time": "2022-11-13T14:10:12.747Z"
   },
   {
    "duration": 12,
    "start_time": "2022-11-13T14:10:12.759Z"
   },
   {
    "duration": 5,
    "start_time": "2022-11-13T14:10:12.773Z"
   },
   {
    "duration": 6137,
    "start_time": "2022-11-13T14:10:12.780Z"
   },
   {
    "duration": 171,
    "start_time": "2022-11-13T14:10:18.919Z"
   },
   {
    "duration": 183,
    "start_time": "2022-11-13T14:10:19.093Z"
   },
   {
    "duration": 10,
    "start_time": "2022-11-13T14:10:19.278Z"
   },
   {
    "duration": 12,
    "start_time": "2022-11-13T14:10:19.289Z"
   },
   {
    "duration": 5,
    "start_time": "2022-11-13T14:10:19.302Z"
   },
   {
    "duration": 26,
    "start_time": "2022-11-13T14:10:19.308Z"
   },
   {
    "duration": 21,
    "start_time": "2022-11-13T14:10:19.336Z"
   },
   {
    "duration": 14,
    "start_time": "2022-11-13T14:10:19.359Z"
   },
   {
    "duration": 7,
    "start_time": "2022-11-13T14:10:19.375Z"
   },
   {
    "duration": 6,
    "start_time": "2022-11-13T14:10:19.383Z"
   },
   {
    "duration": 4,
    "start_time": "2022-11-13T14:10:19.391Z"
   },
   {
    "duration": 181,
    "start_time": "2022-11-13T14:10:19.397Z"
   },
   {
    "duration": 6,
    "start_time": "2022-11-13T14:10:19.580Z"
   },
   {
    "duration": 7,
    "start_time": "2022-11-13T14:10:19.588Z"
   },
   {
    "duration": 15,
    "start_time": "2022-11-13T14:10:19.597Z"
   },
   {
    "duration": 8,
    "start_time": "2022-11-13T14:10:19.614Z"
   },
   {
    "duration": 1331,
    "start_time": "2022-11-13T14:10:19.624Z"
   },
   {
    "duration": 46409,
    "start_time": "2022-11-13T14:10:20.956Z"
   },
   {
    "duration": 272,
    "start_time": "2022-11-13T14:11:07.366Z"
   },
   {
    "duration": 95,
    "start_time": "2022-11-13T14:11:07.640Z"
   },
   {
    "duration": 0,
    "start_time": "2022-11-13T14:11:07.736Z"
   },
   {
    "duration": 0,
    "start_time": "2022-11-13T14:11:07.737Z"
   },
   {
    "duration": 0,
    "start_time": "2022-11-13T14:11:07.738Z"
   },
   {
    "duration": 1313,
    "start_time": "2022-11-13T14:11:47.920Z"
   },
   {
    "duration": 38099,
    "start_time": "2022-11-13T14:12:00.948Z"
   },
   {
    "duration": 273,
    "start_time": "2022-11-13T14:12:49.162Z"
   },
   {
    "duration": 136,
    "start_time": "2022-11-13T14:14:26.208Z"
   },
   {
    "duration": 10,
    "start_time": "2022-11-13T14:15:28.240Z"
   },
   {
    "duration": 3,
    "start_time": "2022-11-13T14:15:42.906Z"
   },
   {
    "duration": 10,
    "start_time": "2022-11-13T14:16:03.050Z"
   },
   {
    "duration": 4,
    "start_time": "2022-11-13T14:16:15.747Z"
   },
   {
    "duration": 11,
    "start_time": "2022-11-13T14:16:19.639Z"
   },
   {
    "duration": 128,
    "start_time": "2022-11-13T14:18:00.852Z"
   },
   {
    "duration": 18,
    "start_time": "2022-11-13T14:18:21.079Z"
   },
   {
    "duration": 10,
    "start_time": "2022-11-13T14:18:27.329Z"
   },
   {
    "duration": 132,
    "start_time": "2022-11-13T14:21:34.937Z"
   },
   {
    "duration": 1696,
    "start_time": "2022-11-13T14:26:11.471Z"
   },
   {
    "duration": 60163,
    "start_time": "2022-11-13T14:26:16.449Z"
   },
   {
    "duration": 877,
    "start_time": "2022-11-13T14:27:44.858Z"
   },
   {
    "duration": 6,
    "start_time": "2022-11-13T14:34:12.788Z"
   },
   {
    "duration": 131,
    "start_time": "2022-11-13T14:37:18.739Z"
   },
   {
    "duration": 131,
    "start_time": "2022-11-13T14:37:31.800Z"
   },
   {
    "duration": 140,
    "start_time": "2022-11-13T14:37:37.533Z"
   },
   {
    "duration": 139,
    "start_time": "2022-11-13T14:37:45.881Z"
   },
   {
    "duration": 136,
    "start_time": "2022-11-13T14:37:55.545Z"
   },
   {
    "duration": 148,
    "start_time": "2022-11-13T14:38:10.994Z"
   },
   {
    "duration": 143,
    "start_time": "2022-11-13T14:38:19.296Z"
   },
   {
    "duration": 128,
    "start_time": "2022-11-13T14:38:34.244Z"
   },
   {
    "duration": 133,
    "start_time": "2022-11-13T14:39:03.241Z"
   },
   {
    "duration": 143,
    "start_time": "2022-11-13T14:40:19.884Z"
   },
   {
    "duration": 222,
    "start_time": "2022-11-13T14:40:49.367Z"
   },
   {
    "duration": 185,
    "start_time": "2022-11-13T14:40:55.640Z"
   },
   {
    "duration": 174,
    "start_time": "2022-11-13T14:41:02.675Z"
   },
   {
    "duration": 216,
    "start_time": "2022-11-13T14:41:08.527Z"
   },
   {
    "duration": 172,
    "start_time": "2022-11-13T14:42:00.938Z"
   },
   {
    "duration": 27,
    "start_time": "2022-11-13T14:42:32.956Z"
   },
   {
    "duration": 148,
    "start_time": "2022-11-13T14:42:38.517Z"
   },
   {
    "duration": 186,
    "start_time": "2022-11-13T14:42:47.677Z"
   },
   {
    "duration": 121,
    "start_time": "2022-11-13T14:42:51.602Z"
   },
   {
    "duration": 115,
    "start_time": "2022-11-13T14:43:00.891Z"
   },
   {
    "duration": 139,
    "start_time": "2022-11-13T14:43:07.866Z"
   },
   {
    "duration": 133,
    "start_time": "2022-11-13T14:43:15.058Z"
   },
   {
    "duration": 156,
    "start_time": "2022-11-13T14:43:22.779Z"
   },
   {
    "duration": 124,
    "start_time": "2022-11-13T14:43:29.230Z"
   },
   {
    "duration": 104,
    "start_time": "2022-11-13T14:43:54.242Z"
   },
   {
    "duration": 109,
    "start_time": "2022-11-13T14:44:05.658Z"
   },
   {
    "duration": 109,
    "start_time": "2022-11-13T14:44:12.393Z"
   },
   {
    "duration": 602,
    "start_time": "2022-11-13T14:46:03.881Z"
   },
   {
    "duration": 20965,
    "start_time": "2022-11-13T14:46:07.215Z"
   },
   {
    "duration": 184,
    "start_time": "2022-11-13T14:46:35.056Z"
   },
   {
    "duration": 113,
    "start_time": "2022-11-13T14:48:24.463Z"
   },
   {
    "duration": 1183,
    "start_time": "2022-11-13T15:15:26.096Z"
   },
   {
    "duration": 59,
    "start_time": "2022-11-13T15:15:27.281Z"
   },
   {
    "duration": 13,
    "start_time": "2022-11-13T15:15:27.341Z"
   },
   {
    "duration": 5,
    "start_time": "2022-11-13T15:15:27.356Z"
   },
   {
    "duration": 14,
    "start_time": "2022-11-13T15:15:27.363Z"
   },
   {
    "duration": 4,
    "start_time": "2022-11-13T15:15:27.378Z"
   },
   {
    "duration": 20,
    "start_time": "2022-11-13T15:15:27.384Z"
   },
   {
    "duration": 395,
    "start_time": "2022-11-13T15:15:27.406Z"
   },
   {
    "duration": 5,
    "start_time": "2022-11-13T15:15:27.803Z"
   },
   {
    "duration": 6,
    "start_time": "2022-11-13T15:15:27.811Z"
   },
   {
    "duration": 15,
    "start_time": "2022-11-13T15:15:27.819Z"
   },
   {
    "duration": 4,
    "start_time": "2022-11-13T15:15:27.836Z"
   },
   {
    "duration": 143,
    "start_time": "2022-11-13T15:15:27.841Z"
   },
   {
    "duration": 5,
    "start_time": "2022-11-13T15:15:27.986Z"
   },
   {
    "duration": 7,
    "start_time": "2022-11-13T15:15:27.993Z"
   },
   {
    "duration": 9,
    "start_time": "2022-11-13T15:15:28.002Z"
   },
   {
    "duration": 5,
    "start_time": "2022-11-13T15:15:28.033Z"
   },
   {
    "duration": 7,
    "start_time": "2022-11-13T15:15:28.040Z"
   },
   {
    "duration": 5888,
    "start_time": "2022-11-13T15:15:28.049Z"
   },
   {
    "duration": 142,
    "start_time": "2022-11-13T15:15:33.938Z"
   },
   {
    "duration": 151,
    "start_time": "2022-11-13T15:15:34.082Z"
   },
   {
    "duration": 10,
    "start_time": "2022-11-13T15:15:34.235Z"
   },
   {
    "duration": 29,
    "start_time": "2022-11-13T15:15:34.247Z"
   },
   {
    "duration": 10,
    "start_time": "2022-11-13T15:15:34.278Z"
   },
   {
    "duration": 20,
    "start_time": "2022-11-13T15:15:34.290Z"
   },
   {
    "duration": 46,
    "start_time": "2022-11-13T15:15:34.312Z"
   },
   {
    "duration": 12,
    "start_time": "2022-11-13T15:15:34.360Z"
   },
   {
    "duration": 24,
    "start_time": "2022-11-13T15:15:34.376Z"
   },
   {
    "duration": 5,
    "start_time": "2022-11-13T15:15:34.402Z"
   },
   {
    "duration": 23,
    "start_time": "2022-11-13T15:15:34.408Z"
   },
   {
    "duration": 127,
    "start_time": "2022-11-13T15:15:34.433Z"
   },
   {
    "duration": 3,
    "start_time": "2022-11-13T15:15:34.561Z"
   },
   {
    "duration": 10,
    "start_time": "2022-11-13T15:15:34.565Z"
   },
   {
    "duration": 19,
    "start_time": "2022-11-13T15:15:34.576Z"
   },
   {
    "duration": 10,
    "start_time": "2022-11-13T15:15:34.597Z"
   },
   {
    "duration": 9,
    "start_time": "2022-11-13T15:15:34.608Z"
   },
   {
    "duration": 9,
    "start_time": "2022-11-13T15:15:34.619Z"
   },
   {
    "duration": 136,
    "start_time": "2022-11-13T15:15:34.630Z"
   },
   {
    "duration": 1,
    "start_time": "2022-11-13T15:15:34.767Z"
   },
   {
    "duration": 0,
    "start_time": "2022-11-13T15:15:34.769Z"
   },
   {
    "duration": 0,
    "start_time": "2022-11-13T15:15:34.769Z"
   },
   {
    "duration": 0,
    "start_time": "2022-11-13T15:15:34.770Z"
   },
   {
    "duration": 0,
    "start_time": "2022-11-13T15:15:34.771Z"
   },
   {
    "duration": 0,
    "start_time": "2022-11-13T15:15:34.772Z"
   },
   {
    "duration": 0,
    "start_time": "2022-11-13T15:15:34.773Z"
   },
   {
    "duration": 0,
    "start_time": "2022-11-13T15:15:34.774Z"
   },
   {
    "duration": 0,
    "start_time": "2022-11-13T15:15:34.775Z"
   },
   {
    "duration": 0,
    "start_time": "2022-11-13T15:15:34.776Z"
   },
   {
    "duration": 0,
    "start_time": "2022-11-13T15:15:34.777Z"
   },
   {
    "duration": 0,
    "start_time": "2022-11-13T15:15:34.778Z"
   },
   {
    "duration": 0,
    "start_time": "2022-11-13T15:15:34.779Z"
   },
   {
    "duration": 0,
    "start_time": "2022-11-13T15:15:34.780Z"
   },
   {
    "duration": 0,
    "start_time": "2022-11-13T15:15:34.781Z"
   },
   {
    "duration": 0,
    "start_time": "2022-11-13T15:15:34.783Z"
   },
   {
    "duration": 15848,
    "start_time": "2022-11-13T15:19:24.159Z"
   },
   {
    "duration": 0,
    "start_time": "2022-11-13T15:19:40.008Z"
   },
   {
    "duration": 1166,
    "start_time": "2022-11-13T15:24:46.935Z"
   },
   {
    "duration": 59,
    "start_time": "2022-11-13T15:24:48.103Z"
   },
   {
    "duration": 13,
    "start_time": "2022-11-13T15:24:48.163Z"
   },
   {
    "duration": 5,
    "start_time": "2022-11-13T15:24:48.178Z"
   },
   {
    "duration": 16,
    "start_time": "2022-11-13T15:24:48.185Z"
   },
   {
    "duration": 5,
    "start_time": "2022-11-13T15:24:48.203Z"
   },
   {
    "duration": 37,
    "start_time": "2022-11-13T15:24:48.209Z"
   },
   {
    "duration": 366,
    "start_time": "2022-11-13T15:24:48.248Z"
   },
   {
    "duration": 6,
    "start_time": "2022-11-13T15:24:48.616Z"
   },
   {
    "duration": 12,
    "start_time": "2022-11-13T15:24:48.624Z"
   },
   {
    "duration": 11,
    "start_time": "2022-11-13T15:24:48.638Z"
   },
   {
    "duration": 9,
    "start_time": "2022-11-13T15:24:48.650Z"
   },
   {
    "duration": 163,
    "start_time": "2022-11-13T15:24:48.661Z"
   },
   {
    "duration": 7,
    "start_time": "2022-11-13T15:24:48.826Z"
   },
   {
    "duration": 6,
    "start_time": "2022-11-13T15:24:48.835Z"
   },
   {
    "duration": 16,
    "start_time": "2022-11-13T15:24:48.843Z"
   },
   {
    "duration": 14,
    "start_time": "2022-11-13T15:24:48.861Z"
   },
   {
    "duration": 10,
    "start_time": "2022-11-13T15:24:48.877Z"
   },
   {
    "duration": 6069,
    "start_time": "2022-11-13T15:24:48.888Z"
   },
   {
    "duration": 128,
    "start_time": "2022-11-13T15:24:54.959Z"
   },
   {
    "duration": 134,
    "start_time": "2022-11-13T15:24:55.089Z"
   },
   {
    "duration": 13,
    "start_time": "2022-11-13T15:24:55.225Z"
   },
   {
    "duration": 35,
    "start_time": "2022-11-13T15:24:55.240Z"
   },
   {
    "duration": 14,
    "start_time": "2022-11-13T15:24:55.277Z"
   },
   {
    "duration": 13,
    "start_time": "2022-11-13T15:24:55.293Z"
   },
   {
    "duration": 22,
    "start_time": "2022-11-13T15:24:55.308Z"
   },
   {
    "duration": 11,
    "start_time": "2022-11-13T15:24:55.332Z"
   },
   {
    "duration": 9,
    "start_time": "2022-11-13T15:24:55.347Z"
   },
   {
    "duration": 6,
    "start_time": "2022-11-13T15:24:55.358Z"
   },
   {
    "duration": 8,
    "start_time": "2022-11-13T15:24:55.365Z"
   },
   {
    "duration": 133,
    "start_time": "2022-11-13T15:24:55.374Z"
   },
   {
    "duration": 3,
    "start_time": "2022-11-13T15:24:55.508Z"
   },
   {
    "duration": 21,
    "start_time": "2022-11-13T15:24:55.513Z"
   },
   {
    "duration": 15,
    "start_time": "2022-11-13T15:24:55.536Z"
   },
   {
    "duration": 9,
    "start_time": "2022-11-13T15:24:55.552Z"
   },
   {
    "duration": 7,
    "start_time": "2022-11-13T15:24:55.562Z"
   },
   {
    "duration": 8,
    "start_time": "2022-11-13T15:24:55.571Z"
   },
   {
    "duration": 1396,
    "start_time": "2022-11-13T15:24:55.580Z"
   },
   {
    "duration": 46056,
    "start_time": "2022-11-13T15:24:56.978Z"
   },
   {
    "duration": 401,
    "start_time": "2022-11-13T15:25:43.036Z"
   },
   {
    "duration": 95,
    "start_time": "2022-11-13T15:25:43.439Z"
   },
   {
    "duration": 1420,
    "start_time": "2022-11-13T15:25:43.537Z"
   },
   {
    "duration": 37074,
    "start_time": "2022-11-13T15:25:44.958Z"
   },
   {
    "duration": 210,
    "start_time": "2022-11-13T15:26:22.034Z"
   },
   {
    "duration": 203,
    "start_time": "2022-11-13T15:26:22.334Z"
   },
   {
    "duration": 1677,
    "start_time": "2022-11-13T15:26:22.538Z"
   },
   {
    "duration": 62895,
    "start_time": "2022-11-13T15:26:24.217Z"
   },
   {
    "duration": 38,
    "start_time": "2022-11-13T15:27:27.114Z"
   },
   {
    "duration": 0,
    "start_time": "2022-11-13T15:27:27.153Z"
   },
   {
    "duration": 1,
    "start_time": "2022-11-13T15:27:27.154Z"
   },
   {
    "duration": 0,
    "start_time": "2022-11-13T15:27:27.155Z"
   },
   {
    "duration": 0,
    "start_time": "2022-11-13T15:27:27.157Z"
   },
   {
    "duration": 0,
    "start_time": "2022-11-13T15:27:27.159Z"
   },
   {
    "duration": 1,
    "start_time": "2022-11-13T15:27:27.160Z"
   },
   {
    "duration": 305,
    "start_time": "2022-11-13T15:27:41.532Z"
   },
   {
    "duration": 104,
    "start_time": "2022-11-13T15:27:48.326Z"
   },
   {
    "duration": 638,
    "start_time": "2022-11-13T15:27:50.561Z"
   },
   {
    "duration": 20759,
    "start_time": "2022-11-13T15:27:54.364Z"
   },
   {
    "duration": 210,
    "start_time": "2022-11-13T15:28:15.125Z"
   },
   {
    "duration": 96,
    "start_time": "2022-11-13T15:28:15.337Z"
   },
   {
    "duration": 92,
    "start_time": "2022-11-13T17:06:14.049Z"
   },
   {
    "duration": 5,
    "start_time": "2022-11-13T17:06:16.878Z"
   },
   {
    "duration": 6,
    "start_time": "2022-11-13T17:06:19.808Z"
   },
   {
    "duration": 205,
    "start_time": "2022-11-13T17:08:26.760Z"
   },
   {
    "duration": 5,
    "start_time": "2022-11-13T17:08:43.691Z"
   },
   {
    "duration": 126,
    "start_time": "2022-11-13T17:08:47.256Z"
   },
   {
    "duration": 8,
    "start_time": "2022-11-13T17:08:55.324Z"
   },
   {
    "duration": 8,
    "start_time": "2022-11-13T17:09:05.948Z"
   },
   {
    "duration": 7,
    "start_time": "2022-11-13T17:09:27.135Z"
   },
   {
    "duration": 4,
    "start_time": "2022-11-13T17:11:00.468Z"
   },
   {
    "duration": 5,
    "start_time": "2022-11-13T17:16:24.969Z"
   },
   {
    "duration": 24,
    "start_time": "2022-11-13T17:16:35.235Z"
   },
   {
    "duration": 101,
    "start_time": "2022-11-13T17:16:44.933Z"
   },
   {
    "duration": 11,
    "start_time": "2022-11-13T17:21:41.953Z"
   },
   {
    "duration": 5,
    "start_time": "2022-11-13T17:22:55.286Z"
   },
   {
    "duration": 131,
    "start_time": "2022-11-13T17:22:59.717Z"
   },
   {
    "duration": 8,
    "start_time": "2022-11-13T17:23:30.468Z"
   },
   {
    "duration": 7,
    "start_time": "2022-11-13T17:23:48.370Z"
   },
   {
    "duration": 7,
    "start_time": "2022-11-13T17:24:47.571Z"
   },
   {
    "duration": 6,
    "start_time": "2022-11-13T17:27:22.557Z"
   },
   {
    "duration": 3,
    "start_time": "2022-11-13T17:42:16.778Z"
   },
   {
    "duration": 95,
    "start_time": "2022-11-13T17:43:52.601Z"
   },
   {
    "duration": 128,
    "start_time": "2022-11-13T17:44:19.244Z"
   },
   {
    "duration": 1382,
    "start_time": "2022-11-13T17:55:29.036Z"
   },
   {
    "duration": 67,
    "start_time": "2022-11-13T17:55:30.420Z"
   },
   {
    "duration": 13,
    "start_time": "2022-11-13T17:55:30.489Z"
   },
   {
    "duration": 18,
    "start_time": "2022-11-13T17:55:30.503Z"
   },
   {
    "duration": 43,
    "start_time": "2022-11-13T17:55:30.523Z"
   },
   {
    "duration": 11,
    "start_time": "2022-11-13T17:55:30.568Z"
   },
   {
    "duration": 49,
    "start_time": "2022-11-13T17:55:30.581Z"
   },
   {
    "duration": 178,
    "start_time": "2022-11-13T17:55:30.632Z"
   },
   {
    "duration": 5,
    "start_time": "2022-11-13T17:55:30.812Z"
   },
   {
    "duration": 32,
    "start_time": "2022-11-13T17:55:30.819Z"
   },
   {
    "duration": 25,
    "start_time": "2022-11-13T17:55:30.853Z"
   },
   {
    "duration": 21,
    "start_time": "2022-11-13T17:55:30.880Z"
   },
   {
    "duration": 154,
    "start_time": "2022-11-13T17:55:30.902Z"
   },
   {
    "duration": 5,
    "start_time": "2022-11-13T17:55:31.059Z"
   },
   {
    "duration": 12,
    "start_time": "2022-11-13T17:55:31.065Z"
   },
   {
    "duration": 26,
    "start_time": "2022-11-13T17:55:31.079Z"
   },
   {
    "duration": 17,
    "start_time": "2022-11-13T17:55:31.106Z"
   },
   {
    "duration": 25,
    "start_time": "2022-11-13T17:55:31.124Z"
   },
   {
    "duration": 6230,
    "start_time": "2022-11-13T17:55:31.151Z"
   },
   {
    "duration": 128,
    "start_time": "2022-11-13T17:55:37.382Z"
   },
   {
    "duration": 138,
    "start_time": "2022-11-13T17:55:37.511Z"
   },
   {
    "duration": 9,
    "start_time": "2022-11-13T17:55:37.651Z"
   },
   {
    "duration": 24,
    "start_time": "2022-11-13T17:55:37.662Z"
   },
   {
    "duration": 4,
    "start_time": "2022-11-13T17:55:37.687Z"
   },
   {
    "duration": 18,
    "start_time": "2022-11-13T17:55:37.693Z"
   },
   {
    "duration": 34,
    "start_time": "2022-11-13T17:55:37.713Z"
   },
   {
    "duration": 14,
    "start_time": "2022-11-13T17:55:37.749Z"
   },
   {
    "duration": 12,
    "start_time": "2022-11-13T17:55:37.765Z"
   },
   {
    "duration": 6,
    "start_time": "2022-11-13T17:55:37.779Z"
   },
   {
    "duration": 8,
    "start_time": "2022-11-13T17:55:37.787Z"
   },
   {
    "duration": 121,
    "start_time": "2022-11-13T17:55:37.797Z"
   },
   {
    "duration": 2,
    "start_time": "2022-11-13T17:55:37.920Z"
   },
   {
    "duration": 31,
    "start_time": "2022-11-13T17:55:37.923Z"
   },
   {
    "duration": 16,
    "start_time": "2022-11-13T17:55:37.956Z"
   },
   {
    "duration": 16,
    "start_time": "2022-11-13T17:55:37.973Z"
   },
   {
    "duration": 19,
    "start_time": "2022-11-13T17:55:37.990Z"
   },
   {
    "duration": 14,
    "start_time": "2022-11-13T17:55:38.010Z"
   },
   {
    "duration": 1331,
    "start_time": "2022-11-13T17:55:38.026Z"
   },
   {
    "duration": 47887,
    "start_time": "2022-11-13T17:55:39.359Z"
   },
   {
    "duration": 89,
    "start_time": "2022-11-13T17:56:27.248Z"
   },
   {
    "duration": 7,
    "start_time": "2022-11-13T17:56:27.346Z"
   },
   {
    "duration": 1453,
    "start_time": "2022-11-13T17:56:27.355Z"
   },
   {
    "duration": 36460,
    "start_time": "2022-11-13T17:56:28.810Z"
   },
   {
    "duration": 68,
    "start_time": "2022-11-13T17:57:05.272Z"
   },
   {
    "duration": 236,
    "start_time": "2022-11-13T17:57:05.342Z"
   },
   {
    "duration": 1710,
    "start_time": "2022-11-13T17:57:05.580Z"
   },
   {
    "duration": 64319,
    "start_time": "2022-11-13T17:57:07.291Z"
   },
   {
    "duration": 120,
    "start_time": "2022-11-13T17:58:11.612Z"
   },
   {
    "duration": 204,
    "start_time": "2022-11-13T17:58:11.735Z"
   },
   {
    "duration": 643,
    "start_time": "2022-11-13T17:58:11.940Z"
   },
   {
    "duration": 22172,
    "start_time": "2022-11-13T17:58:12.585Z"
   },
   {
    "duration": 83,
    "start_time": "2022-11-13T17:58:34.759Z"
   },
   {
    "duration": 92,
    "start_time": "2022-11-13T17:58:34.847Z"
   },
   {
    "duration": 178,
    "start_time": "2022-11-13T17:58:34.941Z"
   },
   {
    "duration": 5,
    "start_time": "2022-11-13T17:58:35.120Z"
   },
   {
    "duration": 133,
    "start_time": "2022-11-13T17:58:35.126Z"
   },
   {
    "duration": 6,
    "start_time": "2022-11-13T17:58:35.261Z"
   },
   {
    "duration": 134,
    "start_time": "2022-11-13T17:58:35.269Z"
   },
   {
    "duration": 11,
    "start_time": "2022-11-13T19:44:56.515Z"
   },
   {
    "duration": 4,
    "start_time": "2022-11-13T19:46:41.305Z"
   },
   {
    "duration": 5,
    "start_time": "2022-11-13T19:49:59.252Z"
   },
   {
    "duration": 39,
    "start_time": "2022-11-13T19:51:03.835Z"
   },
   {
    "duration": 112,
    "start_time": "2022-11-13T19:52:03.849Z"
   },
   {
    "duration": 4,
    "start_time": "2022-11-13T19:52:31.416Z"
   },
   {
    "duration": 52,
    "start_time": "2022-11-13T19:52:31.424Z"
   },
   {
    "duration": 13,
    "start_time": "2022-11-13T19:52:31.478Z"
   },
   {
    "duration": 7,
    "start_time": "2022-11-13T19:52:31.683Z"
   },
   {
    "duration": 12,
    "start_time": "2022-11-13T19:52:32.030Z"
   },
   {
    "duration": 20,
    "start_time": "2022-11-13T19:52:32.044Z"
   },
   {
    "duration": 5,
    "start_time": "2022-11-13T19:52:32.066Z"
   },
   {
    "duration": 154,
    "start_time": "2022-11-13T19:52:32.073Z"
   },
   {
    "duration": 5,
    "start_time": "2022-11-13T19:52:32.394Z"
   },
   {
    "duration": 7,
    "start_time": "2022-11-13T19:52:32.401Z"
   },
   {
    "duration": 6,
    "start_time": "2022-11-13T19:52:32.410Z"
   },
   {
    "duration": 6,
    "start_time": "2022-11-13T19:52:32.641Z"
   },
   {
    "duration": 213,
    "start_time": "2022-11-13T19:52:32.650Z"
   },
   {
    "duration": 6,
    "start_time": "2022-11-13T19:52:37.831Z"
   },
   {
    "duration": 5,
    "start_time": "2022-11-13T19:55:24.708Z"
   },
   {
    "duration": 4,
    "start_time": "2022-11-13T19:55:43.309Z"
   },
   {
    "duration": 11,
    "start_time": "2022-11-13T20:00:39.747Z"
   },
   {
    "duration": 1467,
    "start_time": "2022-11-13T20:05:01.150Z"
   },
   {
    "duration": 93,
    "start_time": "2022-11-13T20:05:02.620Z"
   },
   {
    "duration": 27,
    "start_time": "2022-11-13T20:05:02.715Z"
   },
   {
    "duration": 6,
    "start_time": "2022-11-13T20:05:02.745Z"
   },
   {
    "duration": 15,
    "start_time": "2022-11-13T20:05:02.753Z"
   },
   {
    "duration": 19,
    "start_time": "2022-11-13T20:05:02.770Z"
   },
   {
    "duration": 4,
    "start_time": "2022-11-13T20:05:02.791Z"
   },
   {
    "duration": 160,
    "start_time": "2022-11-13T20:05:02.796Z"
   },
   {
    "duration": 5,
    "start_time": "2022-11-13T20:05:02.958Z"
   },
   {
    "duration": 10,
    "start_time": "2022-11-13T20:05:02.964Z"
   },
   {
    "duration": 6,
    "start_time": "2022-11-13T20:05:02.975Z"
   },
   {
    "duration": 9,
    "start_time": "2022-11-13T20:05:02.983Z"
   },
   {
    "duration": 172,
    "start_time": "2022-11-13T20:05:02.994Z"
   },
   {
    "duration": 5,
    "start_time": "2022-11-13T20:05:03.169Z"
   },
   {
    "duration": 10,
    "start_time": "2022-11-13T20:05:03.176Z"
   },
   {
    "duration": 6,
    "start_time": "2022-11-13T20:05:03.187Z"
   },
   {
    "duration": 8,
    "start_time": "2022-11-13T20:05:03.195Z"
   },
   {
    "duration": 6720,
    "start_time": "2022-11-13T20:05:03.205Z"
   },
   {
    "duration": 136,
    "start_time": "2022-11-13T20:05:09.927Z"
   },
   {
    "duration": 151,
    "start_time": "2022-11-13T20:05:10.065Z"
   },
   {
    "duration": 25,
    "start_time": "2022-11-13T20:05:10.218Z"
   },
   {
    "duration": 20,
    "start_time": "2022-11-13T20:05:10.245Z"
   },
   {
    "duration": 35,
    "start_time": "2022-11-13T20:05:10.266Z"
   },
   {
    "duration": 61,
    "start_time": "2022-11-13T20:05:10.303Z"
   },
   {
    "duration": 19,
    "start_time": "2022-11-13T20:05:10.366Z"
   },
   {
    "duration": 25,
    "start_time": "2022-11-13T20:05:10.386Z"
   },
   {
    "duration": 14,
    "start_time": "2022-11-13T20:05:10.413Z"
   },
   {
    "duration": 34,
    "start_time": "2022-11-13T20:05:10.429Z"
   },
   {
    "duration": 142,
    "start_time": "2022-11-13T20:05:10.465Z"
   },
   {
    "duration": 3,
    "start_time": "2022-11-13T20:05:10.608Z"
   },
   {
    "duration": 38,
    "start_time": "2022-11-13T20:05:10.613Z"
   },
   {
    "duration": 64,
    "start_time": "2022-11-13T20:05:10.653Z"
   },
   {
    "duration": 70,
    "start_time": "2022-11-13T20:05:10.719Z"
   },
   {
    "duration": 14,
    "start_time": "2022-11-13T20:05:10.791Z"
   },
   {
    "duration": 43,
    "start_time": "2022-11-13T20:05:10.807Z"
   },
   {
    "duration": 1379,
    "start_time": "2022-11-13T20:05:10.852Z"
   },
   {
    "duration": 46241,
    "start_time": "2022-11-13T20:05:12.232Z"
   },
   {
    "duration": 67,
    "start_time": "2022-11-13T20:05:58.474Z"
   },
   {
    "duration": 92,
    "start_time": "2022-11-13T20:05:58.544Z"
   },
   {
    "duration": 1470,
    "start_time": "2022-11-13T20:05:58.637Z"
   },
   {
    "duration": 40015,
    "start_time": "2022-11-13T20:06:00.112Z"
   },
   {
    "duration": 99,
    "start_time": "2022-11-13T20:06:40.134Z"
   },
   {
    "duration": 220,
    "start_time": "2022-11-13T20:06:40.235Z"
   },
   {
    "duration": 1690,
    "start_time": "2022-11-13T20:06:40.456Z"
   },
   {
    "duration": 63363,
    "start_time": "2022-11-13T20:06:42.147Z"
   },
   {
    "duration": 120,
    "start_time": "2022-11-13T20:07:45.512Z"
   },
   {
    "duration": 216,
    "start_time": "2022-11-13T20:07:45.640Z"
   },
   {
    "duration": 697,
    "start_time": "2022-11-13T20:07:45.857Z"
   },
   {
    "duration": 22176,
    "start_time": "2022-11-13T20:07:46.558Z"
   },
   {
    "duration": 108,
    "start_time": "2022-11-13T20:08:08.737Z"
   },
   {
    "duration": 85,
    "start_time": "2022-11-13T20:08:08.851Z"
   },
   {
    "duration": 163,
    "start_time": "2022-11-13T20:08:08.942Z"
   },
   {
    "duration": 5,
    "start_time": "2022-11-13T20:08:09.107Z"
   },
   {
    "duration": 138,
    "start_time": "2022-11-13T20:08:09.113Z"
   },
   {
    "duration": 6,
    "start_time": "2022-11-13T20:08:09.253Z"
   },
   {
    "duration": 142,
    "start_time": "2022-11-13T20:08:09.260Z"
   },
   {
    "duration": 1518,
    "start_time": "2022-11-14T06:08:15.457Z"
   },
   {
    "duration": 199,
    "start_time": "2022-11-14T06:08:16.977Z"
   },
   {
    "duration": 13,
    "start_time": "2022-11-14T06:08:17.177Z"
   },
   {
    "duration": 15,
    "start_time": "2022-11-14T06:08:17.192Z"
   },
   {
    "duration": 43,
    "start_time": "2022-11-14T06:08:17.209Z"
   },
   {
    "duration": 20,
    "start_time": "2022-11-14T06:08:17.254Z"
   },
   {
    "duration": 21,
    "start_time": "2022-11-14T06:08:17.276Z"
   },
   {
    "duration": 156,
    "start_time": "2022-11-14T06:08:17.299Z"
   },
   {
    "duration": 6,
    "start_time": "2022-11-14T06:08:17.456Z"
   },
   {
    "duration": 18,
    "start_time": "2022-11-14T06:08:17.463Z"
   },
   {
    "duration": 16,
    "start_time": "2022-11-14T06:08:17.483Z"
   },
   {
    "duration": 25,
    "start_time": "2022-11-14T06:08:17.501Z"
   },
   {
    "duration": 146,
    "start_time": "2022-11-14T06:08:17.527Z"
   },
   {
    "duration": 5,
    "start_time": "2022-11-14T06:08:17.676Z"
   },
   {
    "duration": 33,
    "start_time": "2022-11-14T06:08:17.682Z"
   },
   {
    "duration": 16,
    "start_time": "2022-11-14T06:08:17.717Z"
   },
   {
    "duration": 18,
    "start_time": "2022-11-14T06:08:17.735Z"
   },
   {
    "duration": 5694,
    "start_time": "2022-11-14T06:08:17.755Z"
   },
   {
    "duration": 140,
    "start_time": "2022-11-14T06:08:23.451Z"
   },
   {
    "duration": 137,
    "start_time": "2022-11-14T06:08:23.593Z"
   },
   {
    "duration": 16,
    "start_time": "2022-11-14T06:08:23.732Z"
   },
   {
    "duration": 10,
    "start_time": "2022-11-14T06:08:23.750Z"
   },
   {
    "duration": 6,
    "start_time": "2022-11-14T06:08:23.762Z"
   },
   {
    "duration": 19,
    "start_time": "2022-11-14T06:08:23.771Z"
   },
   {
    "duration": 11,
    "start_time": "2022-11-14T06:08:23.792Z"
   },
   {
    "duration": 7,
    "start_time": "2022-11-14T06:08:23.804Z"
   },
   {
    "duration": 33,
    "start_time": "2022-11-14T06:08:23.813Z"
   },
   {
    "duration": 7,
    "start_time": "2022-11-14T06:08:23.848Z"
   },
   {
    "duration": 115,
    "start_time": "2022-11-14T06:08:23.856Z"
   },
   {
    "duration": 3,
    "start_time": "2022-11-14T06:08:23.973Z"
   },
   {
    "duration": 22,
    "start_time": "2022-11-14T06:08:23.978Z"
   },
   {
    "duration": 12,
    "start_time": "2022-11-14T06:08:24.001Z"
   },
   {
    "duration": 18,
    "start_time": "2022-11-14T06:08:24.015Z"
   },
   {
    "duration": 15,
    "start_time": "2022-11-14T06:08:24.034Z"
   },
   {
    "duration": 19,
    "start_time": "2022-11-14T06:08:24.051Z"
   },
   {
    "duration": 1288,
    "start_time": "2022-11-14T06:08:24.071Z"
   },
   {
    "duration": 44291,
    "start_time": "2022-11-14T06:08:25.361Z"
   },
   {
    "duration": 94,
    "start_time": "2022-11-14T06:09:09.653Z"
   },
   {
    "duration": 102,
    "start_time": "2022-11-14T06:09:09.749Z"
   },
   {
    "duration": 1239,
    "start_time": "2022-11-14T06:09:09.853Z"
   },
   {
    "duration": 36082,
    "start_time": "2022-11-14T06:09:11.095Z"
   },
   {
    "duration": 68,
    "start_time": "2022-11-14T06:09:47.178Z"
   },
   {
    "duration": 197,
    "start_time": "2022-11-14T06:09:47.250Z"
   },
   {
    "duration": 1593,
    "start_time": "2022-11-14T06:09:47.449Z"
   },
   {
    "duration": 53575,
    "start_time": "2022-11-14T06:09:49.046Z"
   },
   {
    "duration": 123,
    "start_time": "2022-11-14T06:10:42.623Z"
   },
   {
    "duration": 238,
    "start_time": "2022-11-14T06:10:42.748Z"
   },
   {
    "duration": 602,
    "start_time": "2022-11-14T06:10:42.987Z"
   },
   {
    "duration": 19275,
    "start_time": "2022-11-14T06:10:43.591Z"
   },
   {
    "duration": 180,
    "start_time": "2022-11-14T06:11:02.867Z"
   },
   {
    "duration": 14,
    "start_time": "2022-11-14T06:11:03.051Z"
   },
   {
    "duration": 260,
    "start_time": "2022-11-14T06:11:03.067Z"
   },
   {
    "duration": 7,
    "start_time": "2022-11-14T06:11:03.328Z"
   },
   {
    "duration": 131,
    "start_time": "2022-11-14T06:11:03.345Z"
   },
   {
    "duration": 7,
    "start_time": "2022-11-14T06:11:03.478Z"
   },
   {
    "duration": 143,
    "start_time": "2022-11-14T06:11:03.486Z"
   },
   {
    "duration": 4,
    "start_time": "2022-11-14T06:27:12.044Z"
   },
   {
    "duration": 3,
    "start_time": "2022-11-14T06:29:39.950Z"
   },
   {
    "duration": 49,
    "start_time": "2022-11-14T06:41:03.420Z"
   },
   {
    "duration": 112,
    "start_time": "2022-11-14T07:25:23.146Z"
   },
   {
    "duration": 50994,
    "start_time": "2022-11-14T07:25:31.934Z"
   },
   {
    "duration": 122,
    "start_time": "2022-11-14T07:28:41.849Z"
   },
   {
    "duration": 50984,
    "start_time": "2022-11-14T07:28:47.057Z"
   },
   {
    "duration": 1310,
    "start_time": "2022-11-14T07:33:56.914Z"
   },
   {
    "duration": 56,
    "start_time": "2022-11-14T07:33:58.226Z"
   },
   {
    "duration": 13,
    "start_time": "2022-11-14T07:33:58.283Z"
   },
   {
    "duration": 19,
    "start_time": "2022-11-14T07:33:58.298Z"
   },
   {
    "duration": 10,
    "start_time": "2022-11-14T07:33:58.319Z"
   },
   {
    "duration": 5,
    "start_time": "2022-11-14T07:33:58.346Z"
   },
   {
    "duration": 6,
    "start_time": "2022-11-14T07:33:58.353Z"
   },
   {
    "duration": 146,
    "start_time": "2022-11-14T07:33:58.360Z"
   },
   {
    "duration": 6,
    "start_time": "2022-11-14T07:33:58.508Z"
   },
   {
    "duration": 6,
    "start_time": "2022-11-14T07:33:58.517Z"
   },
   {
    "duration": 22,
    "start_time": "2022-11-14T07:33:58.525Z"
   },
   {
    "duration": 7,
    "start_time": "2022-11-14T07:33:58.549Z"
   },
   {
    "duration": 135,
    "start_time": "2022-11-14T07:33:58.558Z"
   },
   {
    "duration": 6,
    "start_time": "2022-11-14T07:33:58.694Z"
   },
   {
    "duration": 7,
    "start_time": "2022-11-14T07:33:58.701Z"
   },
   {
    "duration": 4,
    "start_time": "2022-11-14T07:33:58.710Z"
   },
   {
    "duration": 30,
    "start_time": "2022-11-14T07:33:58.716Z"
   },
   {
    "duration": 5977,
    "start_time": "2022-11-14T07:33:58.748Z"
   },
   {
    "duration": 174,
    "start_time": "2022-11-14T07:34:04.727Z"
   },
   {
    "duration": 145,
    "start_time": "2022-11-14T07:34:04.903Z"
   },
   {
    "duration": 10,
    "start_time": "2022-11-14T07:34:05.050Z"
   },
   {
    "duration": 23,
    "start_time": "2022-11-14T07:34:05.061Z"
   },
   {
    "duration": 21,
    "start_time": "2022-11-14T07:34:05.086Z"
   },
   {
    "duration": 47,
    "start_time": "2022-11-14T07:34:05.109Z"
   },
   {
    "duration": 11,
    "start_time": "2022-11-14T07:34:05.158Z"
   },
   {
    "duration": 29,
    "start_time": "2022-11-14T07:34:05.171Z"
   },
   {
    "duration": 7,
    "start_time": "2022-11-14T07:34:05.202Z"
   },
   {
    "duration": 18,
    "start_time": "2022-11-14T07:34:05.212Z"
   },
   {
    "duration": 135,
    "start_time": "2022-11-14T07:34:05.232Z"
   },
   {
    "duration": 3,
    "start_time": "2022-11-14T07:34:05.369Z"
   },
   {
    "duration": 11,
    "start_time": "2022-11-14T07:34:05.374Z"
   },
   {
    "duration": 9,
    "start_time": "2022-11-14T07:34:05.387Z"
   },
   {
    "duration": 13,
    "start_time": "2022-11-14T07:34:05.398Z"
   },
   {
    "duration": 5,
    "start_time": "2022-11-14T07:34:05.413Z"
   },
   {
    "duration": 10,
    "start_time": "2022-11-14T07:34:05.420Z"
   },
   {
    "duration": 1285,
    "start_time": "2022-11-14T07:34:05.432Z"
   },
   {
    "duration": 101006,
    "start_time": "2022-11-14T07:34:06.718Z"
   },
   {
    "duration": 31,
    "start_time": "2022-11-14T07:35:47.726Z"
   },
   {
    "duration": 7,
    "start_time": "2022-11-14T07:35:47.846Z"
   },
   {
    "duration": 1367,
    "start_time": "2022-11-14T07:35:47.945Z"
   },
   {
    "duration": 90973,
    "start_time": "2022-11-14T07:35:49.314Z"
   },
   {
    "duration": 64,
    "start_time": "2022-11-14T07:37:20.289Z"
   },
   {
    "duration": 92,
    "start_time": "2022-11-14T07:37:20.355Z"
   },
   {
    "duration": 122,
    "start_time": "2022-11-14T07:37:20.449Z"
   },
   {
    "duration": 1679,
    "start_time": "2022-11-14T07:37:20.572Z"
   },
   {
    "duration": 110579,
    "start_time": "2022-11-14T07:37:22.253Z"
   },
   {
    "duration": 35,
    "start_time": "2022-11-14T07:39:12.834Z"
   },
   {
    "duration": 99,
    "start_time": "2022-11-14T07:39:12.947Z"
   },
   {
    "duration": 117,
    "start_time": "2022-11-14T07:39:13.048Z"
   },
   {
    "duration": 611,
    "start_time": "2022-11-14T07:39:13.167Z"
   },
   {
    "duration": 38541,
    "start_time": "2022-11-14T07:39:13.780Z"
   },
   {
    "duration": 28,
    "start_time": "2022-11-14T07:39:52.322Z"
   },
   {
    "duration": 95,
    "start_time": "2022-11-14T07:39:52.353Z"
   },
   {
    "duration": 131,
    "start_time": "2022-11-14T07:39:52.450Z"
   },
   {
    "duration": 0,
    "start_time": "2022-11-14T07:39:52.582Z"
   },
   {
    "duration": 0,
    "start_time": "2022-11-14T07:39:52.583Z"
   },
   {
    "duration": 0,
    "start_time": "2022-11-14T07:39:52.584Z"
   },
   {
    "duration": 0,
    "start_time": "2022-11-14T07:39:52.586Z"
   },
   {
    "duration": 0,
    "start_time": "2022-11-14T07:39:52.587Z"
   },
   {
    "duration": 0,
    "start_time": "2022-11-14T07:39:52.588Z"
   },
   {
    "duration": 0,
    "start_time": "2022-11-14T07:39:52.589Z"
   },
   {
    "duration": 0,
    "start_time": "2022-11-14T07:39:52.590Z"
   },
   {
    "duration": 1450,
    "start_time": "2022-11-14T07:40:58.742Z"
   },
   {
    "duration": 58,
    "start_time": "2022-11-14T07:41:00.194Z"
   },
   {
    "duration": 15,
    "start_time": "2022-11-14T07:41:00.254Z"
   },
   {
    "duration": 38,
    "start_time": "2022-11-14T07:41:00.270Z"
   },
   {
    "duration": 22,
    "start_time": "2022-11-14T07:41:00.311Z"
   },
   {
    "duration": 19,
    "start_time": "2022-11-14T07:41:00.335Z"
   },
   {
    "duration": 19,
    "start_time": "2022-11-14T07:41:00.356Z"
   },
   {
    "duration": 147,
    "start_time": "2022-11-14T07:41:00.377Z"
   },
   {
    "duration": 5,
    "start_time": "2022-11-14T07:41:00.526Z"
   },
   {
    "duration": 13,
    "start_time": "2022-11-14T07:41:00.533Z"
   },
   {
    "duration": 17,
    "start_time": "2022-11-14T07:41:00.547Z"
   },
   {
    "duration": 26,
    "start_time": "2022-11-14T07:41:00.566Z"
   },
   {
    "duration": 148,
    "start_time": "2022-11-14T07:41:00.593Z"
   },
   {
    "duration": 5,
    "start_time": "2022-11-14T07:41:00.745Z"
   },
   {
    "duration": 14,
    "start_time": "2022-11-14T07:41:00.751Z"
   },
   {
    "duration": 6,
    "start_time": "2022-11-14T07:41:00.766Z"
   },
   {
    "duration": 15,
    "start_time": "2022-11-14T07:41:00.773Z"
   },
   {
    "duration": 5984,
    "start_time": "2022-11-14T07:41:00.789Z"
   },
   {
    "duration": 126,
    "start_time": "2022-11-14T07:41:06.775Z"
   },
   {
    "duration": 125,
    "start_time": "2022-11-14T07:41:06.903Z"
   },
   {
    "duration": 16,
    "start_time": "2022-11-14T07:41:07.030Z"
   },
   {
    "duration": 21,
    "start_time": "2022-11-14T07:41:07.048Z"
   },
   {
    "duration": 31,
    "start_time": "2022-11-14T07:41:07.071Z"
   },
   {
    "duration": 36,
    "start_time": "2022-11-14T07:41:07.104Z"
   },
   {
    "duration": 11,
    "start_time": "2022-11-14T07:41:07.142Z"
   },
   {
    "duration": 30,
    "start_time": "2022-11-14T07:41:07.155Z"
   },
   {
    "duration": 7,
    "start_time": "2022-11-14T07:41:07.186Z"
   },
   {
    "duration": 11,
    "start_time": "2022-11-14T07:41:07.194Z"
   },
   {
    "duration": 127,
    "start_time": "2022-11-14T07:41:07.206Z"
   },
   {
    "duration": 2,
    "start_time": "2022-11-14T07:41:07.335Z"
   },
   {
    "duration": 21,
    "start_time": "2022-11-14T07:41:07.339Z"
   },
   {
    "duration": 22,
    "start_time": "2022-11-14T07:41:07.362Z"
   },
   {
    "duration": 29,
    "start_time": "2022-11-14T07:41:07.386Z"
   },
   {
    "duration": 20,
    "start_time": "2022-11-14T07:41:07.416Z"
   },
   {
    "duration": 38,
    "start_time": "2022-11-14T07:41:07.437Z"
   },
   {
    "duration": 1260,
    "start_time": "2022-11-14T07:41:07.477Z"
   },
   {
    "duration": 97832,
    "start_time": "2022-11-14T07:41:08.738Z"
   },
   {
    "duration": 77,
    "start_time": "2022-11-14T07:42:46.571Z"
   },
   {
    "duration": 95,
    "start_time": "2022-11-14T07:42:46.651Z"
   },
   {
    "duration": 1330,
    "start_time": "2022-11-14T07:42:46.748Z"
   },
   {
    "duration": 82562,
    "start_time": "2022-11-14T07:42:48.082Z"
   },
   {
    "duration": 102,
    "start_time": "2022-11-14T07:44:10.646Z"
   },
   {
    "duration": 96,
    "start_time": "2022-11-14T07:44:10.751Z"
   },
   {
    "duration": 110,
    "start_time": "2022-11-14T07:44:10.849Z"
   },
   {
    "duration": 1620,
    "start_time": "2022-11-14T07:44:10.961Z"
   },
   {
    "duration": 126438,
    "start_time": "2022-11-14T07:44:12.582Z"
   },
   {
    "duration": 126,
    "start_time": "2022-11-14T07:46:19.022Z"
   },
   {
    "duration": 8,
    "start_time": "2022-11-14T07:46:19.151Z"
   },
   {
    "duration": 124,
    "start_time": "2022-11-14T07:46:19.247Z"
   },
   {
    "duration": 605,
    "start_time": "2022-11-14T07:46:19.373Z"
   },
   {
    "duration": 45523,
    "start_time": "2022-11-14T07:46:19.980Z"
   },
   {
    "duration": 50,
    "start_time": "2022-11-14T07:47:05.505Z"
   },
   {
    "duration": 94,
    "start_time": "2022-11-14T07:47:05.559Z"
   },
   {
    "duration": 159,
    "start_time": "2022-11-14T07:47:05.655Z"
   },
   {
    "duration": 109879,
    "start_time": "2022-11-14T07:47:05.816Z"
   },
   {
    "duration": 4,
    "start_time": "2022-11-14T07:48:55.697Z"
   },
   {
    "duration": 431,
    "start_time": "2022-11-14T07:48:55.702Z"
   },
   {
    "duration": 12,
    "start_time": "2022-11-14T07:48:56.134Z"
   },
   {
    "duration": 161,
    "start_time": "2022-11-14T07:48:56.149Z"
   },
   {
    "duration": 6,
    "start_time": "2022-11-14T07:48:56.311Z"
   },
   {
    "duration": 156,
    "start_time": "2022-11-14T07:48:56.319Z"
   },
   {
    "duration": 48,
    "start_time": "2022-11-19T15:57:54.180Z"
   },
   {
    "duration": 1560,
    "start_time": "2022-11-19T15:58:11.193Z"
   },
   {
    "duration": 169,
    "start_time": "2022-11-19T15:58:12.756Z"
   },
   {
    "duration": 16,
    "start_time": "2022-11-19T15:58:12.927Z"
   },
   {
    "duration": 21,
    "start_time": "2022-11-19T15:58:12.945Z"
   },
   {
    "duration": 11,
    "start_time": "2022-11-19T15:58:12.968Z"
   },
   {
    "duration": 5,
    "start_time": "2022-11-19T15:58:12.980Z"
   },
   {
    "duration": 4,
    "start_time": "2022-11-19T15:58:13.012Z"
   },
   {
    "duration": 135,
    "start_time": "2022-11-19T15:58:13.018Z"
   },
   {
    "duration": 6,
    "start_time": "2022-11-19T15:58:13.154Z"
   },
   {
    "duration": 7,
    "start_time": "2022-11-19T15:58:13.162Z"
   },
   {
    "duration": 5,
    "start_time": "2022-11-19T15:58:13.170Z"
   },
   {
    "duration": 11,
    "start_time": "2022-11-19T15:58:13.177Z"
   },
   {
    "duration": 148,
    "start_time": "2022-11-19T15:58:13.190Z"
   },
   {
    "duration": 4,
    "start_time": "2022-11-19T15:58:13.341Z"
   },
   {
    "duration": 9,
    "start_time": "2022-11-19T15:58:13.346Z"
   },
   {
    "duration": 4,
    "start_time": "2022-11-19T15:58:13.356Z"
   },
   {
    "duration": 11,
    "start_time": "2022-11-19T15:58:13.361Z"
   },
   {
    "duration": 5808,
    "start_time": "2022-11-19T15:58:13.373Z"
   },
   {
    "duration": 124,
    "start_time": "2022-11-19T15:58:19.183Z"
   },
   {
    "duration": 134,
    "start_time": "2022-11-19T15:58:19.314Z"
   },
   {
    "duration": 10,
    "start_time": "2022-11-19T15:58:19.449Z"
   },
   {
    "duration": 8,
    "start_time": "2022-11-19T15:58:19.461Z"
   },
   {
    "duration": 5,
    "start_time": "2022-11-19T15:58:19.470Z"
   },
   {
    "duration": 9,
    "start_time": "2022-11-19T15:58:19.476Z"
   },
   {
    "duration": 6,
    "start_time": "2022-11-19T15:58:19.486Z"
   },
   {
    "duration": 13,
    "start_time": "2022-11-19T15:58:19.513Z"
   },
   {
    "duration": 5,
    "start_time": "2022-11-19T15:58:19.528Z"
   },
   {
    "duration": 31,
    "start_time": "2022-11-19T15:58:19.535Z"
   },
   {
    "duration": 2,
    "start_time": "2022-11-19T15:58:19.567Z"
   },
   {
    "duration": 125,
    "start_time": "2022-11-19T15:58:19.571Z"
   },
   {
    "duration": 2,
    "start_time": "2022-11-19T15:58:19.697Z"
   },
   {
    "duration": 27,
    "start_time": "2022-11-19T15:58:19.701Z"
   },
   {
    "duration": 8,
    "start_time": "2022-11-19T15:58:19.729Z"
   },
   {
    "duration": 12,
    "start_time": "2022-11-19T15:58:19.738Z"
   },
   {
    "duration": 4,
    "start_time": "2022-11-19T15:58:19.752Z"
   },
   {
    "duration": 7,
    "start_time": "2022-11-19T15:58:19.757Z"
   },
   {
    "duration": 1291,
    "start_time": "2022-11-19T15:58:19.765Z"
   },
   {
    "duration": 93619,
    "start_time": "2022-11-19T15:58:21.058Z"
   },
   {
    "duration": 67,
    "start_time": "2022-11-19T15:59:54.679Z"
   },
   {
    "duration": 15,
    "start_time": "2022-11-19T15:59:54.816Z"
   },
   {
    "duration": 1276,
    "start_time": "2022-11-19T15:59:54.916Z"
   },
   {
    "duration": 63240,
    "start_time": "2022-11-19T15:59:56.194Z"
   },
   {
    "duration": 77,
    "start_time": "2022-11-19T16:00:59.436Z"
   },
   {
    "duration": 8,
    "start_time": "2022-11-19T16:00:59.519Z"
   },
   {
    "duration": 206,
    "start_time": "2022-11-19T16:00:59.530Z"
   },
   {
    "duration": 1606,
    "start_time": "2022-11-19T16:00:59.738Z"
   },
   {
    "duration": 95193,
    "start_time": "2022-11-19T16:01:01.345Z"
   },
   {
    "duration": 73,
    "start_time": "2022-11-19T16:02:36.540Z"
   },
   {
    "duration": 16,
    "start_time": "2022-11-19T16:02:36.615Z"
   },
   {
    "duration": 221,
    "start_time": "2022-11-19T16:02:36.632Z"
   },
   {
    "duration": 625,
    "start_time": "2022-11-19T16:02:36.855Z"
   },
   {
    "duration": 42211,
    "start_time": "2022-11-19T16:02:37.482Z"
   },
   {
    "duration": 124,
    "start_time": "2022-11-19T16:03:19.694Z"
   },
   {
    "duration": 7,
    "start_time": "2022-11-19T16:03:19.823Z"
   },
   {
    "duration": 216,
    "start_time": "2022-11-19T16:03:19.832Z"
   },
   {
    "duration": 86283,
    "start_time": "2022-11-19T16:03:20.049Z"
   },
   {
    "duration": 3,
    "start_time": "2022-11-19T16:04:46.334Z"
   },
   {
    "duration": 141,
    "start_time": "2022-11-19T16:04:46.339Z"
   },
   {
    "duration": 6,
    "start_time": "2022-11-19T16:04:46.482Z"
   },
   {
    "duration": 166,
    "start_time": "2022-11-19T16:04:46.489Z"
   },
   {
    "duration": 7,
    "start_time": "2022-11-19T16:04:46.657Z"
   },
   {
    "duration": 145,
    "start_time": "2022-11-19T16:04:46.665Z"
   },
   {
    "duration": 25,
    "start_time": "2022-11-19T16:10:20.742Z"
   },
   {
    "duration": 15,
    "start_time": "2022-11-19T16:10:40.761Z"
   },
   {
    "duration": 7,
    "start_time": "2022-11-19T16:10:43.802Z"
   },
   {
    "duration": 14,
    "start_time": "2022-11-19T16:10:57.349Z"
   },
   {
    "duration": 16,
    "start_time": "2022-11-19T16:12:03.088Z"
   },
   {
    "duration": 117,
    "start_time": "2022-11-19T16:13:06.644Z"
   },
   {
    "duration": 15,
    "start_time": "2022-11-19T16:13:22.654Z"
   },
   {
    "duration": 25,
    "start_time": "2022-11-19T16:14:25.096Z"
   },
   {
    "duration": 20,
    "start_time": "2022-11-19T16:20:03.186Z"
   },
   {
    "duration": 19,
    "start_time": "2022-11-19T16:20:24.207Z"
   },
   {
    "duration": 17,
    "start_time": "2022-11-19T16:20:56.445Z"
   },
   {
    "duration": 29,
    "start_time": "2022-11-19T16:21:00.435Z"
   },
   {
    "duration": 7,
    "start_time": "2022-11-19T16:21:52.010Z"
   },
   {
    "duration": 113,
    "start_time": "2022-11-19T16:21:52.020Z"
   },
   {
    "duration": 12,
    "start_time": "2022-11-19T16:21:52.134Z"
   },
   {
    "duration": 19,
    "start_time": "2022-11-19T16:21:52.147Z"
   },
   {
    "duration": 11,
    "start_time": "2022-11-19T16:21:52.167Z"
   },
   {
    "duration": 5,
    "start_time": "2022-11-19T16:21:52.180Z"
   },
   {
    "duration": 31,
    "start_time": "2022-11-19T16:21:52.186Z"
   },
   {
    "duration": 126,
    "start_time": "2022-11-19T16:21:52.224Z"
   },
   {
    "duration": 5,
    "start_time": "2022-11-19T16:21:52.353Z"
   },
   {
    "duration": 10,
    "start_time": "2022-11-19T16:21:52.359Z"
   },
   {
    "duration": 7,
    "start_time": "2022-11-19T16:21:52.371Z"
   },
   {
    "duration": 7,
    "start_time": "2022-11-19T16:21:52.379Z"
   },
   {
    "duration": 152,
    "start_time": "2022-11-19T16:21:52.388Z"
   },
   {
    "duration": 5,
    "start_time": "2022-11-19T16:21:52.542Z"
   },
   {
    "duration": 6,
    "start_time": "2022-11-19T16:21:52.549Z"
   },
   {
    "duration": 7,
    "start_time": "2022-11-19T16:21:52.557Z"
   },
   {
    "duration": 7,
    "start_time": "2022-11-19T16:21:52.566Z"
   },
   {
    "duration": 6208,
    "start_time": "2022-11-19T16:21:52.575Z"
   },
   {
    "duration": 154,
    "start_time": "2022-11-19T16:21:58.784Z"
   },
   {
    "duration": 145,
    "start_time": "2022-11-19T16:21:58.940Z"
   },
   {
    "duration": 9,
    "start_time": "2022-11-19T16:21:59.086Z"
   },
   {
    "duration": 29,
    "start_time": "2022-11-19T16:21:59.097Z"
   },
   {
    "duration": 9,
    "start_time": "2022-11-19T16:21:59.128Z"
   },
   {
    "duration": 5,
    "start_time": "2022-11-19T16:21:59.140Z"
   },
   {
    "duration": 10,
    "start_time": "2022-11-19T16:21:59.147Z"
   },
   {
    "duration": 9,
    "start_time": "2022-11-19T16:21:59.159Z"
   },
   {
    "duration": 8,
    "start_time": "2022-11-19T16:21:59.170Z"
   },
   {
    "duration": 7,
    "start_time": "2022-11-19T16:21:59.179Z"
   },
   {
    "duration": 48,
    "start_time": "2022-11-19T16:21:59.188Z"
   },
   {
    "duration": 3,
    "start_time": "2022-11-19T16:55:39.360Z"
   },
   {
    "duration": 32,
    "start_time": "2022-11-19T16:55:48.789Z"
   },
   {
    "duration": 33,
    "start_time": "2022-11-19T16:56:54.912Z"
   },
   {
    "duration": 15,
    "start_time": "2022-11-19T16:56:57.088Z"
   },
   {
    "duration": 15,
    "start_time": "2022-11-19T16:57:02.702Z"
   },
   {
    "duration": 1324,
    "start_time": "2022-11-19T16:58:09.594Z"
   },
   {
    "duration": 52,
    "start_time": "2022-11-19T16:58:10.920Z"
   },
   {
    "duration": 11,
    "start_time": "2022-11-19T16:58:10.974Z"
   },
   {
    "duration": 21,
    "start_time": "2022-11-19T16:58:10.986Z"
   },
   {
    "duration": 11,
    "start_time": "2022-11-19T16:58:11.010Z"
   },
   {
    "duration": 8,
    "start_time": "2022-11-19T16:58:11.023Z"
   },
   {
    "duration": 9,
    "start_time": "2022-11-19T16:58:11.032Z"
   },
   {
    "duration": 142,
    "start_time": "2022-11-19T16:58:11.043Z"
   },
   {
    "duration": 7,
    "start_time": "2022-11-19T16:58:11.187Z"
   },
   {
    "duration": 20,
    "start_time": "2022-11-19T16:58:11.196Z"
   },
   {
    "duration": 7,
    "start_time": "2022-11-19T16:58:11.217Z"
   },
   {
    "duration": 9,
    "start_time": "2022-11-19T16:58:11.226Z"
   },
   {
    "duration": 131,
    "start_time": "2022-11-19T16:58:11.237Z"
   },
   {
    "duration": 5,
    "start_time": "2022-11-19T16:58:11.371Z"
   },
   {
    "duration": 6,
    "start_time": "2022-11-19T16:58:11.378Z"
   },
   {
    "duration": 29,
    "start_time": "2022-11-19T16:58:11.385Z"
   },
   {
    "duration": 6,
    "start_time": "2022-11-19T16:58:11.416Z"
   },
   {
    "duration": 5681,
    "start_time": "2022-11-19T16:58:11.424Z"
   },
   {
    "duration": 128,
    "start_time": "2022-11-19T16:58:17.107Z"
   },
   {
    "duration": 136,
    "start_time": "2022-11-19T16:58:17.237Z"
   },
   {
    "duration": 10,
    "start_time": "2022-11-19T16:58:17.375Z"
   },
   {
    "duration": 9,
    "start_time": "2022-11-19T16:58:17.387Z"
   },
   {
    "duration": 5,
    "start_time": "2022-11-19T16:58:17.413Z"
   },
   {
    "duration": 3,
    "start_time": "2022-11-19T16:58:17.420Z"
   },
   {
    "duration": 6,
    "start_time": "2022-11-19T16:58:17.425Z"
   },
   {
    "duration": 5,
    "start_time": "2022-11-19T16:58:17.432Z"
   },
   {
    "duration": 6,
    "start_time": "2022-11-19T16:58:17.439Z"
   },
   {
    "duration": 25,
    "start_time": "2022-11-19T16:58:17.446Z"
   },
   {
    "duration": 42,
    "start_time": "2022-11-19T16:58:17.472Z"
   },
   {
    "duration": 112,
    "start_time": "2022-11-19T16:58:17.515Z"
   },
   {
    "duration": 3,
    "start_time": "2022-11-19T16:58:17.628Z"
   },
   {
    "duration": 8,
    "start_time": "2022-11-19T16:58:17.632Z"
   },
   {
    "duration": 8,
    "start_time": "2022-11-19T16:58:17.641Z"
   },
   {
    "duration": 7,
    "start_time": "2022-11-19T16:58:17.651Z"
   },
   {
    "duration": 5,
    "start_time": "2022-11-19T16:58:17.660Z"
   },
   {
    "duration": 6,
    "start_time": "2022-11-19T16:58:17.666Z"
   },
   {
    "duration": 1173,
    "start_time": "2022-11-19T16:58:17.674Z"
   },
   {
    "duration": 92022,
    "start_time": "2022-11-19T16:58:18.849Z"
   },
   {
    "duration": 140,
    "start_time": "2022-11-19T16:59:50.873Z"
   },
   {
    "duration": 6,
    "start_time": "2022-11-19T16:59:51.015Z"
   },
   {
    "duration": 1199,
    "start_time": "2022-11-19T16:59:51.112Z"
   },
   {
    "duration": 75442,
    "start_time": "2022-11-19T16:59:52.313Z"
   },
   {
    "duration": 66,
    "start_time": "2022-11-19T17:01:07.757Z"
   },
   {
    "duration": 93,
    "start_time": "2022-11-19T17:01:07.826Z"
   },
   {
    "duration": 192,
    "start_time": "2022-11-19T17:01:07.921Z"
   },
   {
    "duration": 1470,
    "start_time": "2022-11-19T17:01:08.114Z"
   },
   {
    "duration": 103769,
    "start_time": "2022-11-19T17:01:09.586Z"
   },
   {
    "duration": 156,
    "start_time": "2022-11-19T17:02:53.357Z"
   },
   {
    "duration": 8,
    "start_time": "2022-11-19T17:02:53.519Z"
   },
   {
    "duration": 210,
    "start_time": "2022-11-19T17:02:53.532Z"
   },
   {
    "duration": 596,
    "start_time": "2022-11-19T17:02:53.745Z"
   },
   {
    "duration": 48501,
    "start_time": "2022-11-19T17:02:54.343Z"
   },
   {
    "duration": 167,
    "start_time": "2022-11-19T17:03:42.846Z"
   },
   {
    "duration": 4,
    "start_time": "2022-11-19T17:03:43.018Z"
   },
   {
    "duration": 181,
    "start_time": "2022-11-19T17:03:43.024Z"
   },
   {
    "duration": 103903,
    "start_time": "2022-11-19T17:03:43.213Z"
   },
   {
    "duration": 3,
    "start_time": "2022-11-19T17:05:27.118Z"
   },
   {
    "duration": 105,
    "start_time": "2022-11-19T17:05:27.124Z"
   },
   {
    "duration": 6,
    "start_time": "2022-11-19T17:05:27.231Z"
   },
   {
    "duration": 129,
    "start_time": "2022-11-19T17:05:27.238Z"
   },
   {
    "duration": 6,
    "start_time": "2022-11-19T17:05:27.369Z"
   },
   {
    "duration": 150,
    "start_time": "2022-11-19T17:05:27.377Z"
   }
  ],
  "kernelspec": {
   "display_name": "Python 3 (ipykernel)",
   "language": "python",
   "name": "python3"
  },
  "language_info": {
   "codemirror_mode": {
    "name": "ipython",
    "version": 3
   },
   "file_extension": ".py",
   "mimetype": "text/x-python",
   "name": "python",
   "nbconvert_exporter": "python",
   "pygments_lexer": "ipython3",
   "version": "3.11.7"
  },
  "toc": {
   "base_numbering": 1,
   "nav_menu": {},
   "number_sections": true,
   "sideBar": true,
   "skip_h1_title": true,
   "title_cell": "Содержание",
   "title_sidebar": "Contents",
   "toc_cell": true,
   "toc_position": {
    "height": "calc(100% - 180px)",
    "left": "10px",
    "top": "150px",
    "width": "293.594px"
   },
   "toc_section_display": true,
   "toc_window_display": true
  }
 },
 "nbformat": 4,
 "nbformat_minor": 4
}
